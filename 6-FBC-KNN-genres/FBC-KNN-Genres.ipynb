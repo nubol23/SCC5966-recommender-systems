{
 "cells": [
  {
   "cell_type": "code",
   "execution_count": 45,
   "id": "8b7bfcdf",
   "metadata": {},
   "outputs": [],
   "source": [
    "import numpy as np\n",
    "from numba import njit, prange\n",
    "import pandas as pd\n",
    "\n",
    "from tqdm.notebook import tqdm"
   ]
  },
  {
   "cell_type": "code",
   "execution_count": 2,
   "id": "05bd0990",
   "metadata": {},
   "outputs": [],
   "source": [
    "train_csv = pd.read_csv(\"../../data/train_data.csv\")\n",
    "test_csv = pd.read_csv(\"../../data/test_data.csv\")\n",
    "\n",
    "train_csv[\"user_id\"] = train_csv[\"user_id\"].apply(lambda x: x - 1)\n",
    "train_csv[\"movie_id\"] = train_csv[\"movie_id\"].apply(lambda x: x - 1)\n",
    "\n",
    "test_csv[\"user_id\"] = test_csv[\"user_id\"].apply(lambda x: x - 1)\n",
    "test_csv[\"movie_id\"] = test_csv[\"movie_id\"].apply(lambda x: x - 1)\n",
    "\n",
    "train_set = train_csv.sample(frac=.8, axis=0)\n",
    "val_set = train_csv.drop(train_set.index, axis=0)\n",
    "\n",
    "assert train_csv.shape[0] == train_set.shape[0] + val_set.shape[0]"
   ]
  },
  {
   "cell_type": "code",
   "execution_count": 3,
   "id": "432ed31b",
   "metadata": {},
   "outputs": [],
   "source": [
    "@njit\n",
    "def generate_ratings_mat(uir_mat, n_users, n_items):\n",
    "    out = np.zeros((n_users, n_items), dtype=np.float32)\n",
    "    \n",
    "    for u, i, r in uir_mat:\n",
    "        out[u,i] = r\n",
    "        \n",
    "    return out\n",
    "\n",
    "users = 3974\n",
    "movies = 3564\n",
    "train_ratings_mat = generate_ratings_mat(train_set.values[:,:-1], users, movies)"
   ]
  },
  {
   "cell_type": "markdown",
   "id": "61b026f8",
   "metadata": {},
   "source": [
    "## Load genres"
   ]
  },
  {
   "cell_type": "code",
   "execution_count": 4,
   "id": "5d57bc75",
   "metadata": {},
   "outputs": [
    {
     "data": {
      "text/html": [
       "<div>\n",
       "<style scoped>\n",
       "    .dataframe tbody tr th:only-of-type {\n",
       "        vertical-align: middle;\n",
       "    }\n",
       "\n",
       "    .dataframe tbody tr th {\n",
       "        vertical-align: top;\n",
       "    }\n",
       "\n",
       "    .dataframe thead th {\n",
       "        text-align: right;\n",
       "    }\n",
       "</style>\n",
       "<table border=\"1\" class=\"dataframe\">\n",
       "  <thead>\n",
       "    <tr style=\"text-align: right;\">\n",
       "      <th></th>\n",
       "      <th>movie_id</th>\n",
       "      <th>title</th>\n",
       "      <th>genres</th>\n",
       "    </tr>\n",
       "  </thead>\n",
       "  <tbody>\n",
       "    <tr>\n",
       "      <th>0</th>\n",
       "      <td>0</td>\n",
       "      <td>Toy Story (1995)</td>\n",
       "      <td>Animation|Children's|Comedy</td>\n",
       "    </tr>\n",
       "    <tr>\n",
       "      <th>1</th>\n",
       "      <td>1</td>\n",
       "      <td>Jumanji (1995)</td>\n",
       "      <td>Adventure|Children's|Fantasy</td>\n",
       "    </tr>\n",
       "    <tr>\n",
       "      <th>2</th>\n",
       "      <td>2</td>\n",
       "      <td>Grumpier Old Men (1995)</td>\n",
       "      <td>Comedy|Romance</td>\n",
       "    </tr>\n",
       "    <tr>\n",
       "      <th>3</th>\n",
       "      <td>3</td>\n",
       "      <td>Waiting to Exhale (1995)</td>\n",
       "      <td>Comedy|Drama</td>\n",
       "    </tr>\n",
       "    <tr>\n",
       "      <th>4</th>\n",
       "      <td>4</td>\n",
       "      <td>Father of the Bride Part II (1995)</td>\n",
       "      <td>Comedy</td>\n",
       "    </tr>\n",
       "  </tbody>\n",
       "</table>\n",
       "</div>"
      ],
      "text/plain": [
       "   movie_id                               title                        genres\n",
       "0         0                    Toy Story (1995)   Animation|Children's|Comedy\n",
       "1         1                      Jumanji (1995)  Adventure|Children's|Fantasy\n",
       "2         2             Grumpier Old Men (1995)                Comedy|Romance\n",
       "3         3            Waiting to Exhale (1995)                  Comedy|Drama\n",
       "4         4  Father of the Bride Part II (1995)                        Comedy"
      ]
     },
     "execution_count": 4,
     "metadata": {},
     "output_type": "execute_result"
    }
   ],
   "source": [
    "movies_csv = pd.read_csv(\"../../data/movies_data.csv\")\n",
    "movies_csv[\"movie_id\"] = movies_csv[\"movie_id\"].apply(lambda x: x - 1)\n",
    "movies_csv.head()"
   ]
  },
  {
   "cell_type": "code",
   "execution_count": 5,
   "id": "2f060e3d",
   "metadata": {},
   "outputs": [],
   "source": [
    "genres_map = {\n",
    "    \"Action\": 0,\n",
    "    \"Adventure\": 1,\n",
    "    \"Animation\": 2,\n",
    "    \"Children's\": 3,\n",
    "    \"Comedy\": 4,\n",
    "    \"Crime\": 5,\n",
    "    \"Documentary\": 6,\n",
    "    \"Drama\": 7,\n",
    "    \"Fantasy\": 8,\n",
    "    \"Film-Noir\": 9,\n",
    "    \"Horror\": 10,\n",
    "    \"Musical\": 11,\n",
    "    \"Mystery\": 12,\n",
    "    \"Romance\": 13,\n",
    "    \"Sci-Fi\": 14,\n",
    "    \"Thriller\": 15,\n",
    "    \"War\": 16,\n",
    "    \"Western\": 17,\n",
    "}"
   ]
  },
  {
   "cell_type": "code",
   "execution_count": 6,
   "id": "8c6e975d",
   "metadata": {},
   "outputs": [],
   "source": [
    "def generate_genres_encoding(ids, genres, n_items):\n",
    "    out = np.zeros((n_items, len(genres_map)))\n",
    "    \n",
    "    for movie_id, genre_list in zip(ids, genres):\n",
    "        genre_list = genre_list.split(\"|\")\n",
    "        for genre in genre_list:\n",
    "            out[movie_id, genres_map[genre]] = 1\n",
    "                   \n",
    "    return out\n",
    "\n",
    "genres_encoded = generate_genres_encoding(movies_csv[\"movie_id\"].tolist(), movies_csv[\"genres\"].tolist(), movies)"
   ]
  },
  {
   "cell_type": "markdown",
   "id": "fd52d9ba",
   "metadata": {},
   "source": [
    "## Compute similarities"
   ]
  },
  {
   "cell_type": "code",
   "execution_count": 7,
   "id": "afdca36a",
   "metadata": {},
   "outputs": [],
   "source": [
    "@njit\n",
    "def jaccard(v1, v2):\n",
    "    intersection = np.logical_and(v1, v2).sum()\n",
    "    union = np.logical_or(v1, v2).sum()\n",
    "    \n",
    "    return float(intersection)/float(union)"
   ]
  },
  {
   "cell_type": "code",
   "execution_count": 8,
   "id": "97ca5ebb",
   "metadata": {},
   "outputs": [],
   "source": [
    "@njit(parallel=True)\n",
    "def compute_pairwise_similarities(genres, n_items):\n",
    "    out = np.zeros((n_items, n_items))\n",
    "    \n",
    "    for i in range(n_items):\n",
    "        for j in prange(n_items):\n",
    "            if i != j:\n",
    "                out[i, j] = jaccard(genres[i], genres[j])\n",
    "                \n",
    "    return out"
   ]
  },
  {
   "cell_type": "code",
   "execution_count": 47,
   "id": "2d678ea4",
   "metadata": {},
   "outputs": [],
   "source": [
    "sims_mat = compute_pairwise_similarities(genres_encoded, movies)"
   ]
  },
  {
   "cell_type": "markdown",
   "id": "a0cccb95",
   "metadata": {},
   "source": [
    "## Compute prediction"
   ]
  },
  {
   "cell_type": "code",
   "execution_count": 31,
   "id": "65510466",
   "metadata": {},
   "outputs": [],
   "source": [
    "@njit\n",
    "def predict(u, i, sims_mat, ratings_mat, k):\n",
    "    sim_items_rated_by_u = [\n",
    "        (sims_mat[i, j], ratings_mat[u, j])\n",
    "        for j in range(ratings_mat.shape[1]) \n",
    "        if ratings_mat[u, j] != 0\n",
    "    ]\n",
    "    \n",
    "    num = 0\n",
    "    den = 0\n",
    "    for sim_ij, r_uj in sorted(sim_items_rated_by_u, reverse=True)[:k]:\n",
    "        num += (sim_ij*r_uj)\n",
    "        den += sim_ij\n",
    "        \n",
    "    return num/(den+1e-15)"
   ]
  },
  {
   "cell_type": "code",
   "execution_count": 32,
   "id": "91ee0a55",
   "metadata": {},
   "outputs": [
    {
     "data": {
      "text/plain": [
       "3.4117647058823506"
      ]
     },
     "execution_count": 32,
     "metadata": {},
     "output_type": "execute_result"
    }
   ],
   "source": [
    "predict(0, 10, sims_mat, train_ratings_mat, 4)"
   ]
  },
  {
   "cell_type": "code",
   "execution_count": 33,
   "id": "b26e3a71",
   "metadata": {},
   "outputs": [],
   "source": [
    "@njit(parallel=True)\n",
    "def predict_batch(ui_mat, sims_mat, ratings_mat, k):\n",
    "    predictions = np.zeros(ui_mat.shape[0])\n",
    "    \n",
    "    for idx in prange(ui_mat.shape[0]):\n",
    "        u, i = ui_mat[idx]\n",
    "        predictions[idx] = predict(u, i, sims_mat, ratings_mat, k)\n",
    "        \n",
    "    return np.clip(predictions, 1, 5)"
   ]
  },
  {
   "cell_type": "code",
   "execution_count": 34,
   "id": "68da40fc",
   "metadata": {},
   "outputs": [],
   "source": [
    "@njit(parallel=True)\n",
    "def rmse(pred, expected):\n",
    "    return np.sqrt(np.sum((pred-expected)**2)/pred.shape[0])"
   ]
  },
  {
   "cell_type": "markdown",
   "id": "7c7d3bd9",
   "metadata": {},
   "source": [
    "## Choose best $k$"
   ]
  },
  {
   "cell_type": "code",
   "execution_count": 43,
   "id": "1d56c973",
   "metadata": {},
   "outputs": [],
   "source": [
    "val_uir = val_set.values[:, :-1]"
   ]
  },
  {
   "cell_type": "code",
   "execution_count": 74,
   "id": "7c0ed69e",
   "metadata": {},
   "outputs": [
    {
     "data": {
      "application/vnd.jupyter.widget-view+json": {
       "model_id": "c2c27520d5dc49a6aaeaeec3a0904eb7",
       "version_major": 2,
       "version_minor": 0
      },
      "text/plain": [
       "  0%|          | 0/101 [00:00<?, ?it/s]"
      ]
     },
     "metadata": {},
     "output_type": "display_data"
    },
    {
     "name": "stdout",
     "output_type": "stream",
     "text": [
      "199 1.0169192637504492\n"
     ]
    }
   ],
   "source": [
    "min_error = np.inf\n",
    "best_k = 1\n",
    "for k in tqdm(range(99, 200)):\n",
    "    val_preds = predict_batch(val_uir[:, :-1], sims_mat, train_ratings_mat, k=k)\n",
    "\n",
    "    err = rmse(val_preds, val_uir[:, -1])\n",
    "    if min_error > err:\n",
    "        min_error = err\n",
    "        best_k = k\n",
    "    \n",
    "print(best_k, min_error)"
   ]
  },
  {
   "cell_type": "markdown",
   "id": "6e6502fc",
   "metadata": {},
   "source": [
    "# Fit on total data"
   ]
  },
  {
   "cell_type": "code",
   "execution_count": 48,
   "id": "ab4edfe6",
   "metadata": {},
   "outputs": [],
   "source": [
    "total_ratings_mat = generate_ratings_mat(train_csv.values[:,:-1], users, movies)"
   ]
  },
  {
   "cell_type": "markdown",
   "id": "f843209e",
   "metadata": {},
   "source": [
    "## Predict on test data"
   ]
  },
  {
   "cell_type": "code",
   "execution_count": 55,
   "id": "d74f7115",
   "metadata": {},
   "outputs": [],
   "source": [
    "test_ui = test_csv.values[:, 1:3]"
   ]
  },
  {
   "cell_type": "code",
   "execution_count": 71,
   "id": "701bd0ea",
   "metadata": {},
   "outputs": [],
   "source": [
    "test_preds = predict_batch(test_ui, sims_mat, total_ratings_mat, k=best_k)"
   ]
  },
  {
   "cell_type": "code",
   "execution_count": 72,
   "id": "2fb5b698",
   "metadata": {},
   "outputs": [
    {
     "data": {
      "text/html": [
       "<div>\n",
       "<style scoped>\n",
       "    .dataframe tbody tr th:only-of-type {\n",
       "        vertical-align: middle;\n",
       "    }\n",
       "\n",
       "    .dataframe tbody tr th {\n",
       "        vertical-align: top;\n",
       "    }\n",
       "\n",
       "    .dataframe thead th {\n",
       "        text-align: right;\n",
       "    }\n",
       "</style>\n",
       "<table border=\"1\" class=\"dataframe\">\n",
       "  <thead>\n",
       "    <tr style=\"text-align: right;\">\n",
       "      <th></th>\n",
       "      <th>id</th>\n",
       "      <th>rating</th>\n",
       "    </tr>\n",
       "  </thead>\n",
       "  <tbody>\n",
       "    <tr>\n",
       "      <th>0</th>\n",
       "      <td>0</td>\n",
       "      <td>3.774648</td>\n",
       "    </tr>\n",
       "    <tr>\n",
       "      <th>1</th>\n",
       "      <td>1</td>\n",
       "      <td>3.900000</td>\n",
       "    </tr>\n",
       "    <tr>\n",
       "      <th>2</th>\n",
       "      <td>2</td>\n",
       "      <td>4.000000</td>\n",
       "    </tr>\n",
       "    <tr>\n",
       "      <th>3</th>\n",
       "      <td>3</td>\n",
       "      <td>4.000000</td>\n",
       "    </tr>\n",
       "    <tr>\n",
       "      <th>4</th>\n",
       "      <td>4</td>\n",
       "      <td>3.833333</td>\n",
       "    </tr>\n",
       "  </tbody>\n",
       "</table>\n",
       "</div>"
      ],
      "text/plain": [
       "   id    rating\n",
       "0   0  3.774648\n",
       "1   1  3.900000\n",
       "2   2  4.000000\n",
       "3   3  4.000000\n",
       "4   4  3.833333"
      ]
     },
     "execution_count": 72,
     "metadata": {},
     "output_type": "execute_result"
    }
   ],
   "source": [
    "out_csv = pd.DataFrame.from_dict({\n",
    "    \"id\": test_csv[\"id\"].tolist(),\n",
    "    \"rating\": test_preds\n",
    "})\n",
    "\n",
    "out_csv.head()"
   ]
  },
  {
   "cell_type": "code",
   "execution_count": 73,
   "id": "58b72611",
   "metadata": {},
   "outputs": [],
   "source": [
    "out_csv.to_csv(\"out_fbc_knn_generos_2.csv\", index=False)"
   ]
  }
 ],
 "metadata": {
  "kernelspec": {
   "display_name": "Python 3 (ipykernel)",
   "language": "python",
   "name": "python3"
  },
  "language_info": {
   "codemirror_mode": {
    "name": "ipython",
    "version": 3
   },
   "file_extension": ".py",
   "mimetype": "text/x-python",
   "name": "python",
   "nbconvert_exporter": "python",
   "pygments_lexer": "ipython3",
   "version": "3.10.4"
  }
 },
 "nbformat": 4,
 "nbformat_minor": 5
}
