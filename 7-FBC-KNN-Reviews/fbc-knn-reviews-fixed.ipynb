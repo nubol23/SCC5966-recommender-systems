{
 "cells": [
  {
   "cell_type": "code",
   "execution_count": 1,
   "id": "3ba2a0f4",
   "metadata": {},
   "outputs": [],
   "source": [
    "import numpy as np\n",
    "from numba import njit, prange\n",
    "import pandas as pd\n",
    "\n",
    "from tqdm.notebook import tqdm"
   ]
  },
  {
   "cell_type": "code",
   "execution_count": 2,
   "id": "405795ec",
   "metadata": {},
   "outputs": [],
   "source": [
    "train_csv = pd.read_csv(\"../../data/train_data.csv\")\n",
    "test_csv = pd.read_csv(\"../../data/test_data.csv\")\n",
    "\n",
    "train_csv[\"user_id\"] = train_csv[\"user_id\"].apply(lambda x: x - 1)\n",
    "train_csv[\"movie_id\"] = train_csv[\"movie_id\"].apply(lambda x: x - 1)\n",
    "\n",
    "test_csv[\"user_id\"] = test_csv[\"user_id\"].apply(lambda x: x - 1)\n",
    "test_csv[\"movie_id\"] = test_csv[\"movie_id\"].apply(lambda x: x - 1)\n",
    "\n",
    "train_set = train_csv.sample(frac=.8, axis=0)\n",
    "val_set = train_csv.drop(train_set.index, axis=0)\n",
    "\n",
    "assert train_csv.shape[0] == train_set.shape[0] + val_set.shape[0]"
   ]
  },
  {
   "cell_type": "code",
   "execution_count": 3,
   "id": "ea076ea7",
   "metadata": {},
   "outputs": [],
   "source": [
    "@njit\n",
    "def generate_ratings_mat(uir_mat, n_users, n_items):\n",
    "    out = np.zeros((n_users, n_items), dtype=np.float32)\n",
    "    \n",
    "    for u, i, r in uir_mat:\n",
    "        out[u,i] = r\n",
    "        \n",
    "    return out\n",
    "\n",
    "users = 3974\n",
    "movies = 3564\n",
    "train_ratings_mat = generate_ratings_mat(train_set.values[:,:-1], users, movies)"
   ]
  },
  {
   "cell_type": "markdown",
   "id": "6f424826",
   "metadata": {},
   "source": [
    "## Load reviews"
   ]
  },
  {
   "cell_type": "code",
   "execution_count": 4,
   "id": "58c16fec",
   "metadata": {},
   "outputs": [
    {
     "data": {
      "text/html": [
       "<div>\n",
       "<style scoped>\n",
       "    .dataframe tbody tr th:only-of-type {\n",
       "        vertical-align: middle;\n",
       "    }\n",
       "\n",
       "    .dataframe tbody tr th {\n",
       "        vertical-align: top;\n",
       "    }\n",
       "\n",
       "    .dataframe thead th {\n",
       "        text-align: right;\n",
       "    }\n",
       "</style>\n",
       "<table border=\"1\" class=\"dataframe\">\n",
       "  <thead>\n",
       "    <tr style=\"text-align: right;\">\n",
       "      <th></th>\n",
       "      <th>movie_id</th>\n",
       "      <th>text</th>\n",
       "    </tr>\n",
       "  </thead>\n",
       "  <tbody>\n",
       "    <tr>\n",
       "      <th>0</th>\n",
       "      <td>0</td>\n",
       "      <td>Andy's toys live a reasonable life of fun and ...</td>\n",
       "    </tr>\n",
       "    <tr>\n",
       "      <th>1</th>\n",
       "      <td>0</td>\n",
       "      <td>I am a big fan of the animated movies coming f...</td>\n",
       "    </tr>\n",
       "    <tr>\n",
       "      <th>2</th>\n",
       "      <td>0</td>\n",
       "      <td>This is a very clever animated story that was ...</td>\n",
       "    </tr>\n",
       "    <tr>\n",
       "      <th>3</th>\n",
       "      <td>0</td>\n",
       "      <td>Toy Story – 5/5 stars Children play with toys....</td>\n",
       "    </tr>\n",
       "    <tr>\n",
       "      <th>4</th>\n",
       "      <td>0</td>\n",
       "      <td>Y'know, I always suspected that my toys were c...</td>\n",
       "    </tr>\n",
       "  </tbody>\n",
       "</table>\n",
       "</div>"
      ],
      "text/plain": [
       "   movie_id                                               text\n",
       "0         0  Andy's toys live a reasonable life of fun and ...\n",
       "1         0  I am a big fan of the animated movies coming f...\n",
       "2         0  This is a very clever animated story that was ...\n",
       "3         0  Toy Story – 5/5 stars Children play with toys....\n",
       "4         0  Y'know, I always suspected that my toys were c..."
      ]
     },
     "execution_count": 4,
     "metadata": {},
     "output_type": "execute_result"
    }
   ],
   "source": [
    "reviews_csv = pd.read_csv(\"../../data/movie_reviews.csv\")\n",
    "reviews_csv[\"movie_id\"] = reviews_csv[\"movie_id\"].apply(lambda x: x - 1)\n",
    "reviews_csv.head()"
   ]
  },
  {
   "cell_type": "markdown",
   "id": "21d71192",
   "metadata": {},
   "source": [
    "### Concatenate reviews for the same movie"
   ]
  },
  {
   "cell_type": "code",
   "execution_count": 5,
   "id": "f4c700f8",
   "metadata": {},
   "outputs": [],
   "source": [
    "from collections import defaultdict"
   ]
  },
  {
   "cell_type": "code",
   "execution_count": 6,
   "id": "a44e6714",
   "metadata": {},
   "outputs": [
    {
     "data": {
      "application/vnd.jupyter.widget-view+json": {
       "model_id": "58795ca9fe57418d9e24452508b497e3",
       "version_major": 2,
       "version_minor": 0
      },
      "text/plain": [
       "0it [00:00, ?it/s]"
      ]
     },
     "metadata": {},
     "output_type": "display_data"
    }
   ],
   "source": [
    "concatenated_reviews = defaultdict(str)\n",
    "\n",
    "for movie_id, review in tqdm(zip(reviews_csv[\"movie_id\"].tolist(), reviews_csv[\"text\"].tolist())):\n",
    "    concatenated_reviews[movie_id] += review"
   ]
  },
  {
   "cell_type": "code",
   "execution_count": 7,
   "id": "dbed5c6a",
   "metadata": {},
   "outputs": [],
   "source": [
    "movies_ids = list(concatenated_reviews.keys())\n",
    "reviews = list(concatenated_reviews.values())"
   ]
  },
  {
   "cell_type": "markdown",
   "id": "8f834b18",
   "metadata": {},
   "source": [
    "## Vectorizing reviews"
   ]
  },
  {
   "cell_type": "code",
   "execution_count": 8,
   "id": "b7103703",
   "metadata": {},
   "outputs": [],
   "source": [
    "from sklearn.feature_extraction.text import TfidfVectorizer"
   ]
  },
  {
   "cell_type": "code",
   "execution_count": 9,
   "id": "303bb9fd",
   "metadata": {},
   "outputs": [],
   "source": [
    "# Removes stop words, radicalizes and applies l2 norm\n",
    "vectorizer = TfidfVectorizer(stop_words=\"english\")"
   ]
  },
  {
   "cell_type": "code",
   "execution_count": 10,
   "id": "bdce4f80",
   "metadata": {},
   "outputs": [
    {
     "data": {
      "text/plain": [
       "(2488, 75724)"
      ]
     },
     "execution_count": 10,
     "metadata": {},
     "output_type": "execute_result"
    }
   ],
   "source": [
    "vectorized_reviews = vectorizer.fit_transform(reviews).todense()\n",
    "vectorized_reviews.shape"
   ]
  },
  {
   "cell_type": "markdown",
   "id": "4631a8ac",
   "metadata": {},
   "source": [
    "#### Build matrix of features per item with zeros for movies that don't have a review"
   ]
  },
  {
   "cell_type": "code",
   "execution_count": 11,
   "id": "bc248130",
   "metadata": {},
   "outputs": [],
   "source": [
    "vectorized_reviews_full = np.zeros((movies, vectorized_reviews.shape[1]))\n",
    "\n",
    "for idx, movie_id in enumerate(movies_ids):\n",
    "    vectorized_reviews_full[movie_id] = vectorized_reviews[idx]"
   ]
  },
  {
   "cell_type": "markdown",
   "id": "0941f631",
   "metadata": {},
   "source": [
    "We have the matrix of vectorized reviews (n_movies, n_terms)"
   ]
  },
  {
   "cell_type": "markdown",
   "id": "c9223521",
   "metadata": {},
   "source": [
    "## Compute similarities"
   ]
  },
  {
   "cell_type": "code",
   "execution_count": 12,
   "id": "d209b848",
   "metadata": {},
   "outputs": [],
   "source": [
    "@njit(parallel=True)\n",
    "def compute_pairwise_similarities(reviews, n_items):\n",
    "    out = np.zeros((n_items, n_items))\n",
    "    \n",
    "    for i in range(n_items):\n",
    "        for j in prange(n_items):\n",
    "            if i != j:\n",
    "                # Because the vectors are normalized\n",
    "                # The cosine similarity is just the dot product\n",
    "                out[i, j] = np.dot(reviews[i], reviews[j])\n",
    "                \n",
    "    return out"
   ]
  },
  {
   "cell_type": "code",
   "execution_count": 17,
   "id": "c6efc613",
   "metadata": {},
   "outputs": [],
   "source": [
    "sims_mat = compute_pairwise_similarities(vectorized_reviews_full, movies)"
   ]
  },
  {
   "cell_type": "markdown",
   "id": "89a7c706",
   "metadata": {},
   "source": [
    "## Compute prediction"
   ]
  },
  {
   "cell_type": "code",
   "execution_count": 18,
   "id": "848df7f2",
   "metadata": {},
   "outputs": [],
   "source": [
    "@njit\n",
    "def predict(u, i, sims_mat, ratings_mat, k):\n",
    "    sim_items_rated_by_u = [\n",
    "        (sims_mat[i, j], ratings_mat[u, j])\n",
    "        for j in range(ratings_mat.shape[1]) \n",
    "        if ratings_mat[u, j] != 0\n",
    "    ]\n",
    "    \n",
    "    num = 0\n",
    "    den = 0\n",
    "    for sim_ij, r_uj in sorted(sim_items_rated_by_u, reverse=True)[:k]:\n",
    "        num += (sim_ij*r_uj)\n",
    "        den += sim_ij\n",
    "        \n",
    "    return num/(den+1e-15)"
   ]
  },
  {
   "cell_type": "code",
   "execution_count": 19,
   "id": "050846cc",
   "metadata": {},
   "outputs": [
    {
     "data": {
      "text/plain": [
       "4.219143390740921"
      ]
     },
     "execution_count": 19,
     "metadata": {},
     "output_type": "execute_result"
    }
   ],
   "source": [
    "predict(0, 10, sims_mat, train_ratings_mat, 4)"
   ]
  },
  {
   "cell_type": "code",
   "execution_count": 20,
   "id": "0fc82126",
   "metadata": {},
   "outputs": [],
   "source": [
    "@njit(parallel=True)\n",
    "def predict_batch(ui_mat, sims_mat, ratings_mat, k):\n",
    "    predictions = np.zeros(ui_mat.shape[0])\n",
    "    \n",
    "    for idx in prange(ui_mat.shape[0]):\n",
    "        u, i = ui_mat[idx]\n",
    "        predictions[idx] = predict(u, i, sims_mat, ratings_mat, k)\n",
    "        \n",
    "    return np.clip(predictions, 1, 5)"
   ]
  },
  {
   "cell_type": "code",
   "execution_count": 21,
   "id": "2475a398",
   "metadata": {},
   "outputs": [],
   "source": [
    "@njit(parallel=True)\n",
    "def rmse(pred, expected):\n",
    "    return np.sqrt(np.sum((pred-expected)**2)/pred.shape[0])"
   ]
  },
  {
   "cell_type": "markdown",
   "id": "4f0e1e7b",
   "metadata": {},
   "source": [
    "## Choose best $k$"
   ]
  },
  {
   "cell_type": "code",
   "execution_count": 22,
   "id": "124e5c9a",
   "metadata": {},
   "outputs": [],
   "source": [
    "val_uir = val_set.values[:, :-1]"
   ]
  },
  {
   "cell_type": "code",
   "execution_count": 23,
   "id": "cc083d1a",
   "metadata": {},
   "outputs": [
    {
     "data": {
      "application/vnd.jupyter.widget-view+json": {
       "model_id": "6c39c62ff60e44ba8c6b25bb28b014e0",
       "version_major": 2,
       "version_minor": 0
      },
      "text/plain": [
       "  0%|          | 0/99 [00:00<?, ?it/s]"
      ]
     },
     "metadata": {},
     "output_type": "display_data"
    },
    {
     "name": "stdout",
     "output_type": "stream",
     "text": [
      "36 1.553623518612029\n"
     ]
    }
   ],
   "source": [
    "min_error = np.inf\n",
    "best_k = 1\n",
    "for k in tqdm(range(1, 100)):\n",
    "    val_preds = predict_batch(val_uir[:, :-1], sims_mat, train_ratings_mat, k=k)\n",
    "\n",
    "    err = rmse(val_preds, val_uir[:, -1])\n",
    "    if min_error > err:\n",
    "        min_error = err\n",
    "        best_k = k\n",
    "    \n",
    "print(best_k, min_error)"
   ]
  },
  {
   "cell_type": "markdown",
   "id": "2f368761",
   "metadata": {},
   "source": [
    "## Predict"
   ]
  },
  {
   "cell_type": "code",
   "execution_count": 24,
   "id": "49646733",
   "metadata": {},
   "outputs": [],
   "source": [
    "# Create ratings mat on full train data\n",
    "total_ratings_mat = generate_ratings_mat(train_csv.values[:,:-1], users, movies)"
   ]
  },
  {
   "cell_type": "code",
   "execution_count": 25,
   "id": "4cd0daee",
   "metadata": {},
   "outputs": [],
   "source": [
    "# Predict\n",
    "test_ui = test_csv.values[:, 1:3]\n",
    "test_preds = predict_batch(test_ui, sims_mat, total_ratings_mat, k=best_k)"
   ]
  },
  {
   "cell_type": "code",
   "execution_count": 26,
   "id": "897e6f91",
   "metadata": {},
   "outputs": [
    {
     "data": {
      "text/html": [
       "<div>\n",
       "<style scoped>\n",
       "    .dataframe tbody tr th:only-of-type {\n",
       "        vertical-align: middle;\n",
       "    }\n",
       "\n",
       "    .dataframe tbody tr th {\n",
       "        vertical-align: top;\n",
       "    }\n",
       "\n",
       "    .dataframe thead th {\n",
       "        text-align: right;\n",
       "    }\n",
       "</style>\n",
       "<table border=\"1\" class=\"dataframe\">\n",
       "  <thead>\n",
       "    <tr style=\"text-align: right;\">\n",
       "      <th></th>\n",
       "      <th>id</th>\n",
       "      <th>rating</th>\n",
       "    </tr>\n",
       "  </thead>\n",
       "  <tbody>\n",
       "    <tr>\n",
       "      <th>0</th>\n",
       "      <td>0</td>\n",
       "      <td>3.735731</td>\n",
       "    </tr>\n",
       "    <tr>\n",
       "      <th>1</th>\n",
       "      <td>1</td>\n",
       "      <td>1.000000</td>\n",
       "    </tr>\n",
       "    <tr>\n",
       "      <th>2</th>\n",
       "      <td>2</td>\n",
       "      <td>3.742742</td>\n",
       "    </tr>\n",
       "    <tr>\n",
       "      <th>3</th>\n",
       "      <td>3</td>\n",
       "      <td>3.795614</td>\n",
       "    </tr>\n",
       "    <tr>\n",
       "      <th>4</th>\n",
       "      <td>4</td>\n",
       "      <td>1.000000</td>\n",
       "    </tr>\n",
       "  </tbody>\n",
       "</table>\n",
       "</div>"
      ],
      "text/plain": [
       "   id    rating\n",
       "0   0  3.735731\n",
       "1   1  1.000000\n",
       "2   2  3.742742\n",
       "3   3  3.795614\n",
       "4   4  1.000000"
      ]
     },
     "execution_count": 26,
     "metadata": {},
     "output_type": "execute_result"
    }
   ],
   "source": [
    "out_csv = pd.DataFrame.from_dict({\n",
    "    \"id\": test_csv[\"id\"].tolist(),\n",
    "    \"rating\": test_preds\n",
    "})\n",
    "\n",
    "out_csv.head()"
   ]
  },
  {
   "cell_type": "code",
   "execution_count": null,
   "id": "769cc0e4",
   "metadata": {},
   "outputs": [],
   "source": [
    "out_csv.to_csv(\"out_fbc_knn_reviews_1.csv\", index=False)"
   ]
  }
 ],
 "metadata": {
  "kernelspec": {
   "display_name": "Python 3 (ipykernel)",
   "language": "python",
   "name": "python3"
  },
  "language_info": {
   "codemirror_mode": {
    "name": "ipython",
    "version": 3
   },
   "file_extension": ".py",
   "mimetype": "text/x-python",
   "name": "python",
   "nbconvert_exporter": "python",
   "pygments_lexer": "ipython3",
   "version": "3.10.4"
  }
 },
 "nbformat": 4,
 "nbformat_minor": 5
}
