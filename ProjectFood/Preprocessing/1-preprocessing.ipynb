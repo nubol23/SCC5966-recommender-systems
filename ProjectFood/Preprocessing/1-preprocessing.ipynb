{
 "cells": [
  {
   "cell_type": "code",
   "execution_count": 1,
   "id": "898b1b62",
   "metadata": {},
   "outputs": [],
   "source": [
    "import pandas as pd\n",
    "from tqdm.notebook import tqdm"
   ]
  },
  {
   "cell_type": "markdown",
   "id": "0753edd8",
   "metadata": {},
   "source": [
    "# Step 1\n",
    "\n",
    "map recipe_id and user_ids to 0 index values (interactions file)"
   ]
  },
  {
   "cell_type": "code",
   "execution_count": 2,
   "id": "bca0ae36",
   "metadata": {},
   "outputs": [],
   "source": [
    "recipes_csv = pd.read_csv(\"../Data/RAW_recipes.csv\")\n",
    "# recipes_csv.head()"
   ]
  },
  {
   "cell_type": "code",
   "execution_count": 3,
   "id": "3433f6f5",
   "metadata": {},
   "outputs": [],
   "source": [
    "recipe_ids_set = set(recipes_csv[\"id\"].tolist())"
   ]
  },
  {
   "cell_type": "code",
   "execution_count": 4,
   "id": "2eaea3ea",
   "metadata": {},
   "outputs": [],
   "source": [
    "interactions_csv = pd.read_csv(\"../Data/RAW_interactions.csv\")\n",
    "# interactions_csv.head()"
   ]
  },
  {
   "cell_type": "code",
   "execution_count": 5,
   "id": "3ebdedeb",
   "metadata": {},
   "outputs": [],
   "source": [
    "# FILTER OUT USERS WHITH LESS THAN 10 INTERACTIONS\n",
    "counts = list(interactions_csv[\"user_id\"].value_counts().to_dict().items())\n",
    "counts = sorted(counts, key=lambda x: x[1])\n",
    "\n",
    "user_ids_with_10_or_more = [user_id for user_id, n_interactions in counts if n_interactions >= 10]\n",
    "\n",
    "interactions_csv = interactions_csv[interactions_csv[\"user_id\"].isin(user_ids_with_10_or_more)]"
   ]
  },
  {
   "cell_type": "code",
   "execution_count": 7,
   "id": "a1268565",
   "metadata": {},
   "outputs": [],
   "source": [
    "user_ids_set = set(interactions_csv[\"user_id\"].tolist())"
   ]
  },
  {
   "cell_type": "code",
   "execution_count": 8,
   "id": "7a26b208",
   "metadata": {},
   "outputs": [],
   "source": [
    "recipe_ids_map = {recipe_id: i for i, recipe_id in enumerate(sorted(recipe_ids_set))}\n",
    "user_ids_map = {user_id: i for i, user_id in enumerate(sorted(user_ids_set))}"
   ]
  },
  {
   "cell_type": "code",
   "execution_count": 9,
   "id": "a9c3183c",
   "metadata": {},
   "outputs": [],
   "source": [
    "import pickle"
   ]
  },
  {
   "cell_type": "code",
   "execution_count": 10,
   "id": "2b88c420",
   "metadata": {},
   "outputs": [],
   "source": [
    "with open(\"objects/recipe_ids_map.dat\", \"wb\") as f:\n",
    "    pickle.dump(recipe_ids_map, f)\n",
    "    \n",
    "with open(\"objects/user_ids_map.dat\", \"wb\") as f:\n",
    "    pickle.dump(user_ids_map, f)"
   ]
  },
  {
   "cell_type": "markdown",
   "id": "7ce2eb80",
   "metadata": {},
   "source": [
    "## Step 2\n",
    "\n",
    "map tags to ids"
   ]
  },
  {
   "cell_type": "code",
   "execution_count": 11,
   "id": "7abd4bf2",
   "metadata": {},
   "outputs": [],
   "source": [
    "# recipes_csv.head()"
   ]
  },
  {
   "cell_type": "code",
   "execution_count": 12,
   "id": "24bf47ca",
   "metadata": {},
   "outputs": [
    {
     "data": {
      "application/vnd.jupyter.widget-view+json": {
       "model_id": "7255cda65c904754aae81c63d93dda5b",
       "version_major": 2,
       "version_minor": 0
      },
      "text/plain": [
       "0it [00:00, ?it/s]"
      ]
     },
     "metadata": {},
     "output_type": "display_data"
    }
   ],
   "source": [
    "tags_set = set()\n",
    "\n",
    "for _, row in tqdm(recipes_csv.iterrows()):\n",
    "    for tag in eval(row[\"tags\"]):\n",
    "        tags_set.add(tag)"
   ]
  },
  {
   "cell_type": "code",
   "execution_count": 13,
   "id": "d033d844",
   "metadata": {},
   "outputs": [],
   "source": [
    "tags_map = {tag: i for i, tag in enumerate(tags_set)}"
   ]
  },
  {
   "cell_type": "code",
   "execution_count": 14,
   "id": "6a94e7ae",
   "metadata": {},
   "outputs": [],
   "source": [
    "with open(\"objects/tags_map.dat\", \"wb\") as f:\n",
    "    pickle.dump(tags_map, f)"
   ]
  },
  {
   "cell_type": "markdown",
   "id": "29a0ea99",
   "metadata": {},
   "source": [
    "## Step 3\n",
    "\n",
    "concatenate all steps and ingredients into one text and run tfidf for al recipes, convert to torch sparse matrix and save to file (preparation)"
   ]
  },
  {
   "cell_type": "code",
   "execution_count": 15,
   "id": "2d852941",
   "metadata": {},
   "outputs": [],
   "source": [
    "# recipes_csv.head()"
   ]
  },
  {
   "cell_type": "code",
   "execution_count": 16,
   "id": "ae44a162",
   "metadata": {},
   "outputs": [
    {
     "data": {
      "application/vnd.jupyter.widget-view+json": {
       "model_id": "837766f74148483089148176077f128c",
       "version_major": 2,
       "version_minor": 0
      },
      "text/plain": [
       "0it [00:00, ?it/s]"
      ]
     },
     "metadata": {},
     "output_type": "display_data"
    }
   ],
   "source": [
    "steps_ingredients = [None for _ in range(len(recipe_ids_map))]\n",
    "\n",
    "for _, row in tqdm(recipes_csv.iterrows()):\n",
    "    text_data = \" \".join(eval(row[\"steps\"])) + \" \".join(eval(row[\"ingredients\"]))\n",
    "    recipe_id = row[\"id\"]\n",
    "    \n",
    "    steps_ingredients[recipe_ids_map[recipe_id]] = text_data"
   ]
  },
  {
   "cell_type": "code",
   "execution_count": 17,
   "id": "90890046",
   "metadata": {},
   "outputs": [],
   "source": [
    "from sklearn.feature_extraction.text import TfidfVectorizer"
   ]
  },
  {
   "cell_type": "code",
   "execution_count": 18,
   "id": "b987ca92",
   "metadata": {},
   "outputs": [
    {
     "data": {
      "text/plain": [
       "(231637, 120348)"
      ]
     },
     "execution_count": 18,
     "metadata": {},
     "output_type": "execute_result"
    }
   ],
   "source": [
    "# Removes stop words, radicalizes and applies l2 norm\n",
    "vectorizer = TfidfVectorizer(stop_words=\"english\")\n",
    "vectorized_preparations = vectorizer.fit_transform(steps_ingredients)\n",
    "vectorized_preparations.shape"
   ]
  },
  {
   "cell_type": "code",
   "execution_count": 19,
   "id": "8f54b07c",
   "metadata": {},
   "outputs": [],
   "source": [
    "import scipy.sparse"
   ]
  },
  {
   "cell_type": "code",
   "execution_count": 20,
   "id": "1f79c4fa",
   "metadata": {},
   "outputs": [],
   "source": [
    "scipy.sparse.save_npz(\"objects/preparations_tfidf\", vectorized_preparations)"
   ]
  },
  {
   "cell_type": "markdown",
   "id": "4fc48774",
   "metadata": {},
   "source": [
    "To pytorch"
   ]
  },
  {
   "cell_type": "code",
   "execution_count": 21,
   "id": "79b40867",
   "metadata": {},
   "outputs": [],
   "source": [
    "coo_preparations = vectorized_preparations.tocoo()"
   ]
  },
  {
   "cell_type": "code",
   "execution_count": 22,
   "id": "cadb4728",
   "metadata": {},
   "outputs": [],
   "source": [
    "import torch\n",
    "import numpy as np"
   ]
  },
  {
   "cell_type": "code",
   "execution_count": 23,
   "id": "be6ac4e0",
   "metadata": {},
   "outputs": [],
   "source": [
    "values = coo_preparations.data\n",
    "indices = np.vstack((coo_preparations.row, coo_preparations.col))\n",
    "\n",
    "preparations_tfidf = torch.sparse.FloatTensor(\n",
    "    torch.LongTensor(indices), \n",
    "    torch.FloatTensor(values), \n",
    "    torch.Size(coo_preparations.shape)\n",
    ")"
   ]
  },
  {
   "cell_type": "code",
   "execution_count": 24,
   "id": "e7b7ec93",
   "metadata": {},
   "outputs": [],
   "source": [
    "torch.save(preparations_tfidf, \"objects/preparations_tfidf.pt\")"
   ]
  }
 ],
 "metadata": {
  "kernelspec": {
   "display_name": "Python 3 (ipykernel)",
   "language": "python",
   "name": "python3"
  },
  "language_info": {
   "codemirror_mode": {
    "name": "ipython",
    "version": 3
   },
   "file_extension": ".py",
   "mimetype": "text/x-python",
   "name": "python",
   "nbconvert_exporter": "python",
   "pygments_lexer": "ipython3",
   "version": "3.10.4"
  }
 },
 "nbformat": 4,
 "nbformat_minor": 5
}
