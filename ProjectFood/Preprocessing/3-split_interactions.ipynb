{
 "cells": [
  {
   "cell_type": "code",
   "execution_count": 1,
   "id": "347d3f18",
   "metadata": {},
   "outputs": [],
   "source": [
    "import pandas as pd"
   ]
  },
  {
   "cell_type": "code",
   "execution_count": 2,
   "id": "3a1bd071",
   "metadata": {},
   "outputs": [
    {
     "name": "stdout",
     "output_type": "stream",
     "text": [
      "(803338, 3)\n"
     ]
    },
    {
     "data": {
      "text/html": [
       "<div>\n",
       "<style scoped>\n",
       "    .dataframe tbody tr th:only-of-type {\n",
       "        vertical-align: middle;\n",
       "    }\n",
       "\n",
       "    .dataframe tbody tr th {\n",
       "        vertical-align: top;\n",
       "    }\n",
       "\n",
       "    .dataframe thead th {\n",
       "        text-align: right;\n",
       "    }\n",
       "</style>\n",
       "<table border=\"1\" class=\"dataframe\">\n",
       "  <thead>\n",
       "    <tr style=\"text-align: right;\">\n",
       "      <th></th>\n",
       "      <th>user_id</th>\n",
       "      <th>recipe_id</th>\n",
       "      <th>rating</th>\n",
       "    </tr>\n",
       "  </thead>\n",
       "  <tbody>\n",
       "    <tr>\n",
       "      <th>0</th>\n",
       "      <td>617</td>\n",
       "      <td>22741</td>\n",
       "      <td>4</td>\n",
       "    </tr>\n",
       "    <tr>\n",
       "      <th>1</th>\n",
       "      <td>11478</td>\n",
       "      <td>22741</td>\n",
       "      <td>5</td>\n",
       "    </tr>\n",
       "    <tr>\n",
       "      <th>2</th>\n",
       "      <td>62</td>\n",
       "      <td>24831</td>\n",
       "      <td>4</td>\n",
       "    </tr>\n",
       "    <tr>\n",
       "      <th>3</th>\n",
       "      <td>2568</td>\n",
       "      <td>48726</td>\n",
       "      <td>5</td>\n",
       "    </tr>\n",
       "    <tr>\n",
       "      <th>4</th>\n",
       "      <td>1152</td>\n",
       "      <td>48726</td>\n",
       "      <td>5</td>\n",
       "    </tr>\n",
       "  </tbody>\n",
       "</table>\n",
       "</div>"
      ],
      "text/plain": [
       "   user_id  recipe_id  rating\n",
       "0      617      22741       4\n",
       "1    11478      22741       5\n",
       "2       62      24831       4\n",
       "3     2568      48726       5\n",
       "4     1152      48726       5"
      ]
     },
     "execution_count": 2,
     "metadata": {},
     "output_type": "execute_result"
    }
   ],
   "source": [
    "interactions_csv = pd.read_csv(\"processed_dataframes/interactions.csv\")\n",
    "print(interactions_csv.shape)\n",
    "\n",
    "interactions_csv.head()"
   ]
  },
  {
   "cell_type": "code",
   "execution_count": 3,
   "id": "98bcf487",
   "metadata": {},
   "outputs": [],
   "source": [
    "train_set = interactions_csv.sample(frac=.7, axis=0)\n",
    "val_test_set = interactions_csv.drop(train_set.index, axis=0)\n",
    "\n",
    "val_set = val_test_set.sample(frac=.66, axis=0)\n",
    "test_set = val_test_set.drop(val_set.index, axis=0)\n",
    "\n",
    "assert interactions_csv.shape[0] == train_set.shape[0] + val_set.shape[0] + test_set.shape[0]"
   ]
  },
  {
   "cell_type": "code",
   "execution_count": 4,
   "id": "47fba3ab",
   "metadata": {},
   "outputs": [
    {
     "name": "stdout",
     "output_type": "stream",
     "text": [
      "562337\n",
      "159061\n",
      "81940\n"
     ]
    }
   ],
   "source": [
    "print(f\"{train_set.shape[0]}\")\n",
    "print(f\"{val_set.shape[0]}\")\n",
    "print(f\"{test_set.shape[0]}\")"
   ]
  },
  {
   "cell_type": "code",
   "execution_count": 5,
   "id": "423217db",
   "metadata": {},
   "outputs": [],
   "source": [
    "train_set.to_csv(\"processed_dataframes/train.csv\", index=False)\n",
    "val_set.to_csv(\"processed_dataframes/val.csv\", index=False)\n",
    "test_set.to_csv(\"processed_dataframes/test.csv\", index=False)"
   ]
  }
 ],
 "metadata": {
  "kernelspec": {
   "display_name": "Python 3 (ipykernel)",
   "language": "python",
   "name": "python3"
  },
  "language_info": {
   "codemirror_mode": {
    "name": "ipython",
    "version": 3
   },
   "file_extension": ".py",
   "mimetype": "text/x-python",
   "name": "python",
   "nbconvert_exporter": "python",
   "pygments_lexer": "ipython3",
   "version": "3.10.4"
  }
 },
 "nbformat": 4,
 "nbformat_minor": 5
}
