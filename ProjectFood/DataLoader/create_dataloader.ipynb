{
 "cells": [
  {
   "cell_type": "code",
   "execution_count": 1,
   "id": "c415a28f",
   "metadata": {},
   "outputs": [],
   "source": [
    "from torch.utils.data import Dataset, DataLoader\n",
    "import scipy.sparse as sparse\n",
    "import pandas as pd\n",
    "\n",
    "import numpy as np\n",
    "import torch"
   ]
  },
  {
   "cell_type": "code",
   "execution_count": 2,
   "id": "81bf2c57",
   "metadata": {},
   "outputs": [],
   "source": [
    "preparations_tfidf = sparse.load_npz(\"../Preprocessing/objects/preparations_tfidf.npz\")\n",
    "tags_matrix = sparse.load_npz(\"../Preprocessing/objects/tags_matrix.npz\")"
   ]
  },
  {
   "cell_type": "code",
   "execution_count": 3,
   "id": "937f6867",
   "metadata": {},
   "outputs": [
    {
     "data": {
      "text/plain": [
       "(array([     0,      0,      0, ..., 231636, 231636, 231636], dtype=int32),\n",
       " array([  4,   6,   7, ..., 378, 463, 528], dtype=int32))"
      ]
     },
     "execution_count": 3,
     "metadata": {},
     "output_type": "execute_result"
    }
   ],
   "source": [
    "tags_matrix.nonzero()"
   ]
  },
  {
   "cell_type": "code",
   "execution_count": null,
   "id": "b7cfd6e6",
   "metadata": {},
   "outputs": [],
   "source": [
    "import scipy\n",
    "\n",
    "batch_size = 4\n",
    "device = \"cpu\"\n",
    "\n",
    "arange = torch.arange(batch_size, device=device)\n",
    "ones = torch.ones(batch_size, dtype=torch.float32, device=device)\n",
    "\n",
    "\n",
    "class FoodRatingsDataset(Dataset):\n",
    "    def __init__(\n",
    "        self, \n",
    "        interactions_file, \n",
    "        recipes_file,\n",
    "        n_users, \n",
    "        n_items,\n",
    "        has_rating_column=False,\n",
    "    ):\n",
    "        self.interactions = pd.read_csv(interactions_file)\n",
    "        self.recipes = pd.read_csv(recipes_file)\n",
    "        \n",
    "        self.n_users = n_users\n",
    "        self.n_items = n_items\n",
    "        \n",
    "        self.has_rating_column = has_rating_column\n",
    "        \n",
    "    def __len__(self):\n",
    "        return len(self.interactions)\n",
    "    \n",
    "    def __getitem__(self, idx):\n",
    "        row = self.interactions.iloc[idx]\n",
    "        recipe_id = row[\"recipe_id\"]\n",
    "        \n",
    "        recipe_data = self.recipes.iloc[recipe_id]\n",
    "        response = (\n",
    "            row[\"user_id\"],\n",
    "            recipe_id,\n",
    "            np.array([recipe_data[\"minutes\"]]),\n",
    "            np.array(eval(recipe_data[\"nutrition\"])),\n",
    "            np.array([recipe_data[\"n_steps\"]]),\n",
    "            np.array([recipe_data[\"n_ingredients\"]]),\n",
    "        )\n",
    "        \n",
    "        return (*response, np.array([row[\"rating\"]])) if self.has_rating_column else response"
   ]
  },
  {
   "cell_type": "code",
   "execution_count": null,
   "id": "7b98260b",
   "metadata": {},
   "outputs": [],
   "source": [
    "n_users = 226570\n",
    "n_items = 231637\n",
    "\n",
    "train_dataloader = DataLoader(\n",
    "    FoodRatingsDataset(\n",
    "        \"../Preprocessing/processed_dataframes/test.csv\",\n",
    "        \"../Preprocessing/processed_dataframes/sorted_recipes.csv\",\n",
    "        n_users,\n",
    "        n_items,\n",
    "        has_rating_column=True,\n",
    "    ), \n",
    "    batch_size=batch_size,\n",
    "    num_workers=1,\n",
    "    shuffle=False,\n",
    ")"
   ]
  },
  {
   "cell_type": "code",
   "execution_count": null,
   "id": "c2bc2aa6",
   "metadata": {},
   "outputs": [],
   "source": [
    "def one_hot_encode_sparse(idxs, arange, ones, size, device):\n",
    "    return torch.sparse_coo_tensor(\n",
    "        torch.vstack([arange, idxs]),\n",
    "        ones,\n",
    "        size,\n",
    "        dtype=torch.float32,\n",
    "        device=device,\n",
    "    )\n",
    "\n",
    "def csr_to_torch_sparse(scipy_mat):\n",
    "    row_idxs, col_idxs = scipy_mat.nonzero()\n",
    "    indices = np.vstack([row_idxs, col_idxs])\n",
    "    \n",
    "    values = np.ones((len(row_idxs,)), dtype=np.float32)\n",
    "    shape = scipy_mat.shape\n",
    "    \n",
    "    return torch.sparse_coo_tensor(indices, values, shape)\n",
    "\n",
    "\n",
    "def to_sparse_batch(\n",
    "    batch, \n",
    "    tfidf_mat, \n",
    "    tags_mat, \n",
    "    n_users, \n",
    "    n_items, \n",
    "    arange, \n",
    "    ones, \n",
    "    n_tags=552, \n",
    "    device=\"cpu\", \n",
    "    ratings=True,\n",
    "):\n",
    "    (\n",
    "        user_ids, \n",
    "        recipe_ids, \n",
    "        minutes, \n",
    "        nutritions, \n",
    "        steps,\n",
    "        ingredients,\n",
    "        ratings\n",
    "    ) = batch\n",
    "    \n",
    "    batch_size = user_ids.shape[0]\n",
    "    \n",
    "    sparse_user_ids = one_hot_encode_sparse(user_ids, arange, ones, (batch_size, n_users), device)\n",
    "#     sparse_recipe_ids = one_hot_encode_sparse(recipe_ids, arange, ones, (batch_size, n_items), device)\n",
    "    \n",
    "    sparse_tags = csr_to_torch_sparse(tags_mat[recipe_ids])\n",
    "    sparse_tfidf = csr_to_torch_sparse(tfidf_mat[recipe_ids])\n",
    "    \n",
    "    recipe_feature_vector = torch.cat([\n",
    "#         sparse_recipe_ids,\n",
    "        minutes.to_sparse(),\n",
    "        nutritions.to_sparse(),\n",
    "        steps.to_sparse(),\n",
    "        ingredients.to_sparse(),\n",
    "        sparse_tags,\n",
    "        sparse_tfidf,\n",
    "    ], dim=1).to(device)\n",
    "    \n",
    "    return sparse_user_ids, recipe_feature_vector, ratings.to(device)"
   ]
  },
  {
   "cell_type": "code",
   "execution_count": null,
   "id": "4b2dc780",
   "metadata": {},
   "outputs": [],
   "source": [
    "ones.dtype"
   ]
  },
  {
   "cell_type": "code",
   "execution_count": null,
   "id": "a09383d9",
   "metadata": {},
   "outputs": [],
   "source": [
    "for i_batch, batch in enumerate(train_dataloader):\n",
    "    vus, vis, ratings = to_sparse_batch(batch, preparations_tfidf, tags_matrix, n_users, n_items, arange, ones)\n",
    "\n",
    "    print(vus.shape)\n",
    "    print(vis.shape)\n",
    "    print(ratings.shape)\n",
    "#     print(vis)\n",
    "    break"
   ]
  }
 ],
 "metadata": {
  "kernelspec": {
   "display_name": "Python 3 (ipykernel)",
   "language": "python",
   "name": "python3"
  },
  "language_info": {
   "codemirror_mode": {
    "name": "ipython",
    "version": 3
   },
   "file_extension": ".py",
   "mimetype": "text/x-python",
   "name": "python",
   "nbconvert_exporter": "python",
   "pygments_lexer": "ipython3",
   "version": "3.10.4"
  }
 },
 "nbformat": 4,
 "nbformat_minor": 5
}
