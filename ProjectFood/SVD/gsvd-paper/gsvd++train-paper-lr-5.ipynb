{
 "cells": [
  {
   "cell_type": "code",
   "execution_count": 1,
   "id": "ff8eba58",
   "metadata": {},
   "outputs": [],
   "source": [
    "import pandas as pd\n",
    "import numpy as np\n",
    "from numba import njit, prange\n",
    "\n",
    "from tqdm.notebook import tqdm, trange\n",
    "\n",
    "from numba.typed import List\n",
    "from numba import types\n",
    "\n",
    "from numba_progress import ProgressBar\n",
    "\n",
    "import math"
   ]
  },
  {
   "cell_type": "code",
   "execution_count": 2,
   "id": "c372d464",
   "metadata": {},
   "outputs": [],
   "source": [
    "users = 226570\n",
    "items = 231637\n",
    "genres = 552\n",
    "\n",
    "train_data = pd.read_csv(\"../../Preprocessing/processed_dataframes/train.csv\")\n",
    "validation_data = pd.read_csv(\"../../Preprocessing/processed_dataframes/val.csv\")"
   ]
  },
  {
   "cell_type": "code",
   "execution_count": 3,
   "id": "79021866",
   "metadata": {},
   "outputs": [],
   "source": [
    "uir_train = train_data.values\n",
    "\n",
    "uir_val = validation_data.values\n",
    "n_val = uir_val.shape[0]"
   ]
  },
  {
   "cell_type": "code",
   "execution_count": 4,
   "id": "c0e45df0",
   "metadata": {},
   "outputs": [],
   "source": [
    "@njit\n",
    "def get_items_rated_by_users(train_data, n_users):\n",
    "    res = List([List.empty_list(types.int64) for _ in range(n_users)])\n",
    "    \n",
    "    for u, i, _ in train_data:\n",
    "        res[u].append(i)\n",
    "    \n",
    "    for u in range(n_users):\n",
    "        res[u].sort()\n",
    "    \n",
    "    return res\n",
    "\n",
    "irbu = get_items_rated_by_users(uir_train, users)"
   ]
  },
  {
   "cell_type": "code",
   "execution_count": 5,
   "id": "7dea03e1",
   "metadata": {},
   "outputs": [],
   "source": [
    "import scipy.sparse as sparse\n",
    "\n",
    "tags_mat = sparse.load_npz(\"../../Preprocessing/objects/tags_matrix.npz\")"
   ]
  },
  {
   "cell_type": "code",
   "execution_count": 6,
   "id": "4d0c324d",
   "metadata": {},
   "outputs": [],
   "source": [
    "def get_tags_item_belongs_to(tags_mat, n_items):\n",
    "    res = List([List.empty_list(types.int64) for _ in range(n_items)])\n",
    "    \n",
    "    for row, col in zip(*tags_mat.nonzero()):\n",
    "        res[row].append(col)\n",
    "        \n",
    "    return res\n",
    "\n",
    "tibt = get_tags_item_belongs_to(tags_mat, items)"
   ]
  },
  {
   "cell_type": "code",
   "execution_count": 7,
   "id": "e823eaf9",
   "metadata": {},
   "outputs": [],
   "source": [
    "def get_count_known_ratings_of_item(train_data, n_items):\n",
    "    res = np.zeros((n_items,))\n",
    "    \n",
    "    for _, i, _ in train_data:\n",
    "        res[i] += 1\n",
    "        \n",
    "    return res\n",
    "\n",
    "# Ris\n",
    "kri = get_count_known_ratings_of_item(uir_train, items)"
   ]
  },
  {
   "cell_type": "code",
   "execution_count": 8,
   "id": "826f3c02",
   "metadata": {},
   "outputs": [],
   "source": [
    "def get_count_known_items_of_tag(tags_mat, n_tags):\n",
    "    # Tags mat n_items x tags\n",
    "    res = np.zeros((n_tags,))\n",
    "    \n",
    "    for row, _ in zip(*tags_mat.T.nonzero()):\n",
    "        res[row] += 1\n",
    "        \n",
    "    return res\n",
    "\n",
    "# Ggs\n",
    "kit = get_count_known_items_of_tag(tags_mat, genres)"
   ]
  },
  {
   "cell_type": "code",
   "execution_count": 9,
   "id": "b8d244d1",
   "metadata": {},
   "outputs": [],
   "source": [
    "@njit\n",
    "def step(\n",
    "    train_data, \n",
    "    Rus,\n",
    "    Gis,\n",
    "    Ris, # Njs\n",
    "    Ggs,\n",
    "    n_users, \n",
    "    n_items, \n",
    "    k, \n",
    "    α1,\n",
    "    α2,\n",
    "    μ, bi, bu, P, Q, Y, X,\n",
    "):\n",
    "    loss = 0\n",
    "    for u, i, r in train_data:\n",
    "        Ru = Rus[u]\n",
    "        sqrt_Ru = np.sqrt(len(Ru))\n",
    "\n",
    "        implicit_feedback = np.zeros(k)\n",
    "        for j in Ru:\n",
    "            implicit_feedback += Y[j]\n",
    "        implicit_feedback /= (sqrt_Ru+1e-15)\n",
    "        \n",
    "        Gi = Gis[i]\n",
    "        genres_feedback = np.zeros(k)\n",
    "        for g in Gi:\n",
    "            genres_feedback += X[g]\n",
    "        genres_feedback /= len(Gi)\n",
    "\n",
    "        pred = μ + bu[u] + bi[i] + np.dot(Q[i] + genres_feedback, P[u] + implicit_feedback)\n",
    "        error = r - pred\n",
    "\n",
    "        # Updating\n",
    "        λ1 = 0.05*1/(sqrt_Ru+1e-15)\n",
    "        λ2 = 0.05*1/(np.sqrt(Ris[i])+1e-15)\n",
    "        λ3 = 1/(sqrt_Ru+1e-15)\n",
    "        λ4 = 1/(np.sqrt(Ris[i])+1e-15)\n",
    "        \n",
    "        \n",
    "        bu[u] += α1 * (error - λ1*bu[u])\n",
    "        bi[i] += α1 * (error - λ2*bi[i])\n",
    "\n",
    "        Pu = P[u]\n",
    "        Qi = Q[i]\n",
    "        P[u] += α2*(error*Qi - λ3*Pu)\n",
    "        Q[i] += α2*(error*(Pu+implicit_feedback) - λ4*Qi)\n",
    "    \n",
    "        term_1 = error*(1/len(Gi))*(Pu + implicit_feedback)\n",
    "        for g in Gi:\n",
    "            λ5 = 1/(np.sqrt(Ggs[g])+1e-15)\n",
    "            X[g] += α2*(term_1 - λ5*X[g])\n",
    "            \n",
    "        term_2 = error*(1/sqrt_Ru)*(Qi + genres_feedback)\n",
    "        for j in Ru:\n",
    "            λ6 = 1/(np.sqrt(Ris[j])+1e-15)\n",
    "            Y[j] += α2*(term_2 - λ6*Y[j])\n",
    "            \n",
    "        loss += error**2\n",
    "            \n",
    "    return np.sqrt(loss/len(train_data))"
   ]
  },
  {
   "cell_type": "code",
   "execution_count": 10,
   "id": "f6eb7549",
   "metadata": {},
   "outputs": [],
   "source": [
    "# RS HD page 171 (chrome), 84 book\n",
    "def fit_gsvdpp(\n",
    "    train_data, val_data, Rus, Gis, Ris, Ggs, n_users, n_items, n_tags, k, \n",
    "    α1=.01, α2=.01, n_iters=20\n",
    "):\n",
    "    \"\"\"\n",
    "    train_data: array Nx3\n",
    "    \"\"\"\n",
    "    val_ui = uir_val[:, :2]\n",
    "    val_exp = uir_val[:, -1]\n",
    "    \n",
    "    bu = np.zeros(n_users, np.double)\n",
    "    bi = np.zeros(n_items, np.double)\n",
    "    \n",
    "    P = np.random.normal(0, .1, (n_users, k))\n",
    "    Q = np.random.normal(0, .1, (n_items, k))\n",
    "    Y = np.random.normal(0, .1, (n_items, k))\n",
    "    X = np.random.normal(0, .1, (n_tags, k))\n",
    "    \n",
    "    μ = np.mean(train_data[:, 2])\n",
    "    \n",
    "    model_params = None\n",
    "    best_epoch = 0\n",
    "    prev_val_loss = math.inf\n",
    "    \n",
    "    t = trange(n_iters, leave=True)\n",
    "    for it in t:\n",
    "        loss = step(\n",
    "            train_data, Rus, Gis, Ris, Ggs, n_users, n_items, k, \n",
    "            α1, α2, μ, bi, bu, P, Q, Y, X\n",
    "        )\n",
    "        \n",
    "        val_preds = predict_batch(val_ui, Rus, Gis, (μ, bu, bi, P, Q, Y, X))\n",
    "        val_loss = np.sqrt(1/n_val * np.sum((val_preds - val_exp)**2))\n",
    "        t.set_postfix({\"Loss\": loss, \"Val\": val_loss})\n",
    "        \n",
    "        if val_loss < prev_val_loss:\n",
    "            prev_val_loss = val_loss\n",
    "            model_params = (μ, bu.copy(), bi.copy(), P.copy(), Q.copy(), Y.copy(), X.copy())\n",
    "            best_epoch = it\n",
    "    \n",
    "#     return μ, bu, bi, P, Q, Y\n",
    "    return model_params"
   ]
  },
  {
   "cell_type": "markdown",
   "id": "f9a11827",
   "metadata": {},
   "source": [
    "## Fit"
   ]
  },
  {
   "cell_type": "code",
   "execution_count": 11,
   "id": "a6c762c3",
   "metadata": {},
   "outputs": [],
   "source": [
    "@njit\n",
    "def predict(u, i, Rus, Gis, params):\n",
    "    μ, bu, bi, P, Q, Y, X = params\n",
    "    k = P.shape[1]\n",
    "    \n",
    "    Ru = Rus[u]\n",
    "    sqrt_Ru = np.sqrt(len(Ru))\n",
    "\n",
    "    implicit_feedback = np.zeros(k)\n",
    "    for j in Ru:\n",
    "        implicit_feedback += Y[j]\n",
    "    implicit_feedback /= (sqrt_Ru+1e-15)\n",
    "    \n",
    "    Gi = Gis[i]\n",
    "    genres_feedback = np.zeros(k)\n",
    "    for g in Gi:\n",
    "        genres_feedback += X[g]\n",
    "    genres_feedback /= len(Gi)\n",
    "\n",
    "    pred = μ + bu[u] + bi[i] + np.dot(Q[i] + genres_feedback, P[u] + implicit_feedback)\n",
    "    \n",
    "    return pred"
   ]
  },
  {
   "cell_type": "code",
   "execution_count": 12,
   "id": "ffb05bef",
   "metadata": {},
   "outputs": [],
   "source": [
    "@njit(parallel=True, nogil=True)\n",
    "def predict_batch(ui_mat, Rus, Gis, params):\n",
    "    predictions = np.zeros(len(ui_mat))\n",
    "    for it in prange(ui_mat.shape[0]):\n",
    "        u, i = ui_mat[it]\n",
    "        predictions[it] = predict(u, i, Rus, Gis, params)\n",
    "        \n",
    "    return np.clip(predictions, 1., 5.)"
   ]
  },
  {
   "cell_type": "code",
   "execution_count": 13,
   "id": "8e4e24d0",
   "metadata": {},
   "outputs": [],
   "source": [
    "# α1 = 0.0007\n",
    "# α2 = 0.01\n",
    "# k = 4\n",
    "\n",
    "# fitted_params = fit_gsvdpp(\n",
    "#     uir_train, uir_val, irbu, tibt, kri, kit, users, items, genres, k, \n",
    "#     α1, α2, n_iters=25,\n",
    "# )\n",
    "\n",
    "# val_preds = predict_batch(uir_val[:, :2], irbu, tibt, fitted_params)\n",
    "# val_expected = uir_val[:, 2]\n",
    "\n",
    "# error = np.sqrt(1/n_val * np.sum((val_preds - val_expected)**2))\n",
    "# print(error)\n",
    "\n",
    "# # ERROR 0.8987672000985515"
   ]
  },
  {
   "cell_type": "markdown",
   "id": "b08aa517",
   "metadata": {},
   "source": [
    "## Multiple train"
   ]
  },
  {
   "cell_type": "code",
   "execution_count": 14,
   "id": "cc039f82",
   "metadata": {},
   "outputs": [],
   "source": [
    "from joblib import Parallel, delayed\n",
    "from itertools import product"
   ]
  },
  {
   "cell_type": "code",
   "execution_count": 15,
   "id": "5b6b0f59",
   "metadata": {},
   "outputs": [],
   "source": [
    "alphas = [0.005, 0.006, 0.007]\n",
    "factors = [4, 5, 50, 100]\n",
    "\n",
    "# params_product = list(product(alphas, alphas, factors))\n",
    "# print(params_product)\n",
    "params_product = [\n",
    "    (0.007, 0.005, 50), \n",
    "    (0.007, 0.006, 50), \n",
    "]"
   ]
  },
  {
   "cell_type": "code",
   "execution_count": 16,
   "id": "91f69059",
   "metadata": {},
   "outputs": [],
   "source": [
    "def train_val(\n",
    "    uir_train,\n",
    "    uir_val,\n",
    "    users,\n",
    "    movies,\n",
    "    genres,\n",
    "    k,\n",
    "    α1,\n",
    "    α2,\n",
    "    irbu,\n",
    "    tibt,\n",
    "    kri, \n",
    "    kit,\n",
    "    n_iters,\n",
    "):\n",
    "    fitted_params = fit_gsvdpp(\n",
    "        uir_train, uir_val, irbu, tibt, kri, kit, users, items, genres, k, \n",
    "        α1, α2, n_iters,\n",
    "    )\n",
    "    \n",
    "    val_preds = predict_batch(uir_val[:, :2], irbu, tibt, fitted_params)\n",
    "    val_expected = uir_val[:, 2]\n",
    "    error = np.sqrt(1/n_val * np.sum((val_preds - val_expected)**2))\n",
    "    \n",
    "    print(α1, α2, k, error)\n",
    "    return α1, α2, k, error"
   ]
  },
  {
   "cell_type": "code",
   "execution_count": 17,
   "id": "7e3ee461",
   "metadata": {},
   "outputs": [
    {
     "data": {
      "application/vnd.jupyter.widget-view+json": {
       "model_id": "beed2b13da084d9f984b925fa04eb671",
       "version_major": 2,
       "version_minor": 0
      },
      "text/plain": [
       "  0%|          | 0/2 [00:00<?, ?it/s]"
      ]
     },
     "metadata": {},
     "output_type": "display_data"
    },
    {
     "data": {
      "application/vnd.jupyter.widget-view+json": {
       "model_id": "7120fb7c8eb34836bdc9cad28632e47d",
       "version_major": 2,
       "version_minor": 0
      },
      "text/plain": [
       "  0%|          | 0/25 [00:00<?, ?it/s]"
      ]
     },
     "metadata": {},
     "output_type": "display_data"
    },
    {
     "ename": "KeyboardInterrupt",
     "evalue": "",
     "output_type": "error",
     "traceback": [
      "\u001b[0;31m---------------------------------------------------------------------------\u001b[0m",
      "\u001b[0;31mKeyboardInterrupt\u001b[0m                         Traceback (most recent call last)",
      "Input \u001b[0;32mIn [17]\u001b[0m, in \u001b[0;36m<cell line: 1>\u001b[0;34m()\u001b[0m\n\u001b[0;32m----> 1\u001b[0m out \u001b[38;5;241m=\u001b[39m [\n\u001b[1;32m      2\u001b[0m     train_val(\n\u001b[1;32m      3\u001b[0m         uir_train, \n\u001b[1;32m      4\u001b[0m         uir_val,\n\u001b[1;32m      5\u001b[0m         users, \n\u001b[1;32m      6\u001b[0m         items,\n\u001b[1;32m      7\u001b[0m         genres,\n\u001b[1;32m      8\u001b[0m         k\u001b[38;5;241m=\u001b[39mf, \n\u001b[1;32m      9\u001b[0m         α1\u001b[38;5;241m=\u001b[39mlr1,\n\u001b[1;32m     10\u001b[0m         α2\u001b[38;5;241m=\u001b[39mlr2,\n\u001b[1;32m     11\u001b[0m         irbu\u001b[38;5;241m=\u001b[39mirbu,\n\u001b[1;32m     12\u001b[0m         tibt\u001b[38;5;241m=\u001b[39mtibt,\n\u001b[1;32m     13\u001b[0m         kri\u001b[38;5;241m=\u001b[39mkri,\n\u001b[1;32m     14\u001b[0m         kit\u001b[38;5;241m=\u001b[39mkit,\n\u001b[1;32m     15\u001b[0m         n_iters\u001b[38;5;241m=\u001b[39m\u001b[38;5;241m25\u001b[39m,\n\u001b[1;32m     16\u001b[0m     )\n\u001b[1;32m     17\u001b[0m     \u001b[38;5;28;01mfor\u001b[39;00m lr1, lr2, f \u001b[38;5;129;01min\u001b[39;00m tqdm(params_product)\n\u001b[1;32m     18\u001b[0m ]\n",
      "Input \u001b[0;32mIn [17]\u001b[0m, in \u001b[0;36m<listcomp>\u001b[0;34m(.0)\u001b[0m\n\u001b[1;32m      1\u001b[0m out \u001b[38;5;241m=\u001b[39m [\n\u001b[0;32m----> 2\u001b[0m     \u001b[43mtrain_val\u001b[49m\u001b[43m(\u001b[49m\n\u001b[1;32m      3\u001b[0m \u001b[43m        \u001b[49m\u001b[43muir_train\u001b[49m\u001b[43m,\u001b[49m\u001b[43m \u001b[49m\n\u001b[1;32m      4\u001b[0m \u001b[43m        \u001b[49m\u001b[43muir_val\u001b[49m\u001b[43m,\u001b[49m\n\u001b[1;32m      5\u001b[0m \u001b[43m        \u001b[49m\u001b[43musers\u001b[49m\u001b[43m,\u001b[49m\u001b[43m \u001b[49m\n\u001b[1;32m      6\u001b[0m \u001b[43m        \u001b[49m\u001b[43mitems\u001b[49m\u001b[43m,\u001b[49m\n\u001b[1;32m      7\u001b[0m \u001b[43m        \u001b[49m\u001b[43mgenres\u001b[49m\u001b[43m,\u001b[49m\n\u001b[1;32m      8\u001b[0m \u001b[43m        \u001b[49m\u001b[43mk\u001b[49m\u001b[38;5;241;43m=\u001b[39;49m\u001b[43mf\u001b[49m\u001b[43m,\u001b[49m\u001b[43m \u001b[49m\n\u001b[1;32m      9\u001b[0m \u001b[43m        \u001b[49m\u001b[43mα1\u001b[49m\u001b[38;5;241;43m=\u001b[39;49m\u001b[43mlr1\u001b[49m\u001b[43m,\u001b[49m\n\u001b[1;32m     10\u001b[0m \u001b[43m        \u001b[49m\u001b[43mα2\u001b[49m\u001b[38;5;241;43m=\u001b[39;49m\u001b[43mlr2\u001b[49m\u001b[43m,\u001b[49m\n\u001b[1;32m     11\u001b[0m \u001b[43m        \u001b[49m\u001b[43mirbu\u001b[49m\u001b[38;5;241;43m=\u001b[39;49m\u001b[43mirbu\u001b[49m\u001b[43m,\u001b[49m\n\u001b[1;32m     12\u001b[0m \u001b[43m        \u001b[49m\u001b[43mtibt\u001b[49m\u001b[38;5;241;43m=\u001b[39;49m\u001b[43mtibt\u001b[49m\u001b[43m,\u001b[49m\n\u001b[1;32m     13\u001b[0m \u001b[43m        \u001b[49m\u001b[43mkri\u001b[49m\u001b[38;5;241;43m=\u001b[39;49m\u001b[43mkri\u001b[49m\u001b[43m,\u001b[49m\n\u001b[1;32m     14\u001b[0m \u001b[43m        \u001b[49m\u001b[43mkit\u001b[49m\u001b[38;5;241;43m=\u001b[39;49m\u001b[43mkit\u001b[49m\u001b[43m,\u001b[49m\n\u001b[1;32m     15\u001b[0m \u001b[43m        \u001b[49m\u001b[43mn_iters\u001b[49m\u001b[38;5;241;43m=\u001b[39;49m\u001b[38;5;241;43m25\u001b[39;49m\u001b[43m,\u001b[49m\n\u001b[1;32m     16\u001b[0m \u001b[43m    \u001b[49m\u001b[43m)\u001b[49m\n\u001b[1;32m     17\u001b[0m     \u001b[38;5;28;01mfor\u001b[39;00m lr1, lr2, f \u001b[38;5;129;01min\u001b[39;00m tqdm(params_product)\n\u001b[1;32m     18\u001b[0m ]\n",
      "Input \u001b[0;32mIn [16]\u001b[0m, in \u001b[0;36mtrain_val\u001b[0;34m(uir_train, uir_val, users, movies, genres, k, α1, α2, irbu, tibt, kri, kit, n_iters)\u001b[0m\n\u001b[1;32m      1\u001b[0m \u001b[38;5;28;01mdef\u001b[39;00m \u001b[38;5;21mtrain_val\u001b[39m(\n\u001b[1;32m      2\u001b[0m     uir_train,\n\u001b[1;32m      3\u001b[0m     uir_val,\n\u001b[0;32m   (...)\u001b[0m\n\u001b[1;32m     14\u001b[0m     n_iters,\n\u001b[1;32m     15\u001b[0m ):\n\u001b[0;32m---> 16\u001b[0m     fitted_params \u001b[38;5;241m=\u001b[39m \u001b[43mfit_gsvdpp\u001b[49m\u001b[43m(\u001b[49m\n\u001b[1;32m     17\u001b[0m \u001b[43m        \u001b[49m\u001b[43muir_train\u001b[49m\u001b[43m,\u001b[49m\u001b[43m \u001b[49m\u001b[43muir_val\u001b[49m\u001b[43m,\u001b[49m\u001b[43m \u001b[49m\u001b[43mirbu\u001b[49m\u001b[43m,\u001b[49m\u001b[43m \u001b[49m\u001b[43mtibt\u001b[49m\u001b[43m,\u001b[49m\u001b[43m \u001b[49m\u001b[43mkri\u001b[49m\u001b[43m,\u001b[49m\u001b[43m \u001b[49m\u001b[43mkit\u001b[49m\u001b[43m,\u001b[49m\u001b[43m \u001b[49m\u001b[43musers\u001b[49m\u001b[43m,\u001b[49m\u001b[43m \u001b[49m\u001b[43mitems\u001b[49m\u001b[43m,\u001b[49m\u001b[43m \u001b[49m\u001b[43mgenres\u001b[49m\u001b[43m,\u001b[49m\u001b[43m \u001b[49m\u001b[43mk\u001b[49m\u001b[43m,\u001b[49m\u001b[43m \u001b[49m\n\u001b[1;32m     18\u001b[0m \u001b[43m        \u001b[49m\u001b[43mα1\u001b[49m\u001b[43m,\u001b[49m\u001b[43m \u001b[49m\u001b[43mα2\u001b[49m\u001b[43m,\u001b[49m\u001b[43m \u001b[49m\u001b[43mn_iters\u001b[49m\u001b[43m,\u001b[49m\n\u001b[1;32m     19\u001b[0m \u001b[43m    \u001b[49m\u001b[43m)\u001b[49m\n\u001b[1;32m     21\u001b[0m     val_preds \u001b[38;5;241m=\u001b[39m predict_batch(uir_val[:, :\u001b[38;5;241m2\u001b[39m], irbu, tibt, fitted_params)\n\u001b[1;32m     22\u001b[0m     val_expected \u001b[38;5;241m=\u001b[39m uir_val[:, \u001b[38;5;241m2\u001b[39m]\n",
      "Input \u001b[0;32mIn [10]\u001b[0m, in \u001b[0;36mfit_gsvdpp\u001b[0;34m(train_data, val_data, Rus, Gis, Ris, Ggs, n_users, n_items, n_tags, k, α1, α2, n_iters)\u001b[0m\n\u001b[1;32m     26\u001b[0m t \u001b[38;5;241m=\u001b[39m trange(n_iters, leave\u001b[38;5;241m=\u001b[39m\u001b[38;5;28;01mTrue\u001b[39;00m)\n\u001b[1;32m     27\u001b[0m \u001b[38;5;28;01mfor\u001b[39;00m it \u001b[38;5;129;01min\u001b[39;00m t:\n\u001b[0;32m---> 28\u001b[0m     loss \u001b[38;5;241m=\u001b[39m \u001b[43mstep\u001b[49m\u001b[43m(\u001b[49m\n\u001b[1;32m     29\u001b[0m \u001b[43m        \u001b[49m\u001b[43mtrain_data\u001b[49m\u001b[43m,\u001b[49m\u001b[43m \u001b[49m\u001b[43mRus\u001b[49m\u001b[43m,\u001b[49m\u001b[43m \u001b[49m\u001b[43mGis\u001b[49m\u001b[43m,\u001b[49m\u001b[43m \u001b[49m\u001b[43mRis\u001b[49m\u001b[43m,\u001b[49m\u001b[43m \u001b[49m\u001b[43mGgs\u001b[49m\u001b[43m,\u001b[49m\u001b[43m \u001b[49m\u001b[43mn_users\u001b[49m\u001b[43m,\u001b[49m\u001b[43m \u001b[49m\u001b[43mn_items\u001b[49m\u001b[43m,\u001b[49m\u001b[43m \u001b[49m\u001b[43mk\u001b[49m\u001b[43m,\u001b[49m\u001b[43m \u001b[49m\n\u001b[1;32m     30\u001b[0m \u001b[43m        \u001b[49m\u001b[43mα1\u001b[49m\u001b[43m,\u001b[49m\u001b[43m \u001b[49m\u001b[43mα2\u001b[49m\u001b[43m,\u001b[49m\u001b[43m \u001b[49m\u001b[43mμ\u001b[49m\u001b[43m,\u001b[49m\u001b[43m \u001b[49m\u001b[43mbi\u001b[49m\u001b[43m,\u001b[49m\u001b[43m \u001b[49m\u001b[43mbu\u001b[49m\u001b[43m,\u001b[49m\u001b[43m \u001b[49m\u001b[43mP\u001b[49m\u001b[43m,\u001b[49m\u001b[43m \u001b[49m\u001b[43mQ\u001b[49m\u001b[43m,\u001b[49m\u001b[43m \u001b[49m\u001b[43mY\u001b[49m\u001b[43m,\u001b[49m\u001b[43m \u001b[49m\u001b[43mX\u001b[49m\n\u001b[1;32m     31\u001b[0m \u001b[43m    \u001b[49m\u001b[43m)\u001b[49m\n\u001b[1;32m     33\u001b[0m     val_preds \u001b[38;5;241m=\u001b[39m predict_batch(val_ui, Rus, Gis, (μ, bu, bi, P, Q, Y, X))\n\u001b[1;32m     34\u001b[0m     val_loss \u001b[38;5;241m=\u001b[39m np\u001b[38;5;241m.\u001b[39msqrt(\u001b[38;5;241m1\u001b[39m\u001b[38;5;241m/\u001b[39mn_val \u001b[38;5;241m*\u001b[39m np\u001b[38;5;241m.\u001b[39msum((val_preds \u001b[38;5;241m-\u001b[39m val_exp)\u001b[38;5;241m*\u001b[39m\u001b[38;5;241m*\u001b[39m\u001b[38;5;241m2\u001b[39m))\n",
      "\u001b[0;31mKeyboardInterrupt\u001b[0m: "
     ]
    }
   ],
   "source": [
    "out = [\n",
    "    train_val(\n",
    "        uir_train, \n",
    "        uir_val,\n",
    "        users, \n",
    "        items,\n",
    "        genres,\n",
    "        k=f, \n",
    "        α1=lr1,\n",
    "        α2=lr2,\n",
    "        irbu=irbu,\n",
    "        tibt=tibt,\n",
    "        kri=kri,\n",
    "        kit=kit,\n",
    "        n_iters=25,\n",
    "    )\n",
    "    for lr1, lr2, f in tqdm(params_product)\n",
    "]"
   ]
  },
  {
   "cell_type": "code",
   "execution_count": null,
   "id": "649c9665",
   "metadata": {},
   "outputs": [],
   "source": [
    "print(sorted(out, key=lambda x: x[-1])[0])"
   ]
  }
 ],
 "metadata": {
  "kernelspec": {
   "display_name": "Python 3 (ipykernel)",
   "language": "python",
   "name": "python3"
  },
  "language_info": {
   "codemirror_mode": {
    "name": "ipython",
    "version": 3
   },
   "file_extension": ".py",
   "mimetype": "text/x-python",
   "name": "python",
   "nbconvert_exporter": "python",
   "pygments_lexer": "ipython3",
   "version": "3.10.4"
  }
 },
 "nbformat": 4,
 "nbformat_minor": 5
}
