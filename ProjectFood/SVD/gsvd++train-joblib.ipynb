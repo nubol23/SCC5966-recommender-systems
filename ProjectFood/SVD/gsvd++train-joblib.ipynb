{
 "cells": [
  {
   "cell_type": "code",
   "execution_count": 1,
   "id": "ff8eba58",
   "metadata": {},
   "outputs": [],
   "source": [
    "import pandas as pd\n",
    "import numpy as np\n",
    "from numba import njit, prange\n",
    "\n",
    "from tqdm.notebook import tqdm, trange\n",
    "\n",
    "from numba.typed import List\n",
    "from numba import types\n",
    "\n",
    "from numba_progress import ProgressBar\n",
    "\n",
    "import math"
   ]
  },
  {
   "cell_type": "code",
   "execution_count": 2,
   "id": "c372d464",
   "metadata": {},
   "outputs": [],
   "source": [
    "users = 226570\n",
    "items = 231637\n",
    "genres = 552\n",
    "\n",
    "train_data = pd.read_csv(\"../Preprocessing/processed_dataframes/train.csv\")\n",
    "validation_data = pd.read_csv(\"../Preprocessing/processed_dataframes/val.csv\")"
   ]
  },
  {
   "cell_type": "code",
   "execution_count": 3,
   "id": "79021866",
   "metadata": {},
   "outputs": [],
   "source": [
    "uir_train = train_data.values\n",
    "\n",
    "uir_val = validation_data.values\n",
    "n_val = uir_val.shape[0]"
   ]
  },
  {
   "cell_type": "code",
   "execution_count": 4,
   "id": "c0e45df0",
   "metadata": {},
   "outputs": [],
   "source": [
    "@njit\n",
    "def get_items_rated_by_users(train_data, n_users):\n",
    "    res = List([List.empty_list(types.int64) for _ in range(n_users)])\n",
    "    \n",
    "    for u, i, _ in train_data:\n",
    "        res[u].append(i)\n",
    "    \n",
    "    for u in range(n_users):\n",
    "        res[u].sort()\n",
    "    \n",
    "    return res\n",
    "\n",
    "irbu = get_items_rated_by_users(uir_train, users)"
   ]
  },
  {
   "cell_type": "code",
   "execution_count": 1,
   "id": "7dea03e1",
   "metadata": {},
   "outputs": [],
   "source": [
    "import scipy.sparse as sparse\n",
    "\n",
    "tags_mat = sparse.load_npz(\"../Preprocessing/objects/tags_matrix.npz\")"
   ]
  },
  {
   "cell_type": "code",
   "execution_count": 2,
   "id": "4d0c324d",
   "metadata": {},
   "outputs": [
    {
     "ename": "NameError",
     "evalue": "name 'items' is not defined",
     "output_type": "error",
     "traceback": [
      "\u001b[0;31m---------------------------------------------------------------------------\u001b[0m",
      "\u001b[0;31mNameError\u001b[0m                                 Traceback (most recent call last)",
      "Input \u001b[0;32mIn [2]\u001b[0m, in \u001b[0;36m<cell line: 9>\u001b[0;34m()\u001b[0m\n\u001b[1;32m      5\u001b[0m         res[row]\u001b[38;5;241m.\u001b[39mappend(col)\n\u001b[1;32m      7\u001b[0m     \u001b[38;5;28;01mreturn\u001b[39;00m res\n\u001b[0;32m----> 9\u001b[0m tibt \u001b[38;5;241m=\u001b[39m get_tags_item_belongs_to(tags_mat, \u001b[43mitems\u001b[49m)\n",
      "\u001b[0;31mNameError\u001b[0m: name 'items' is not defined"
     ]
    }
   ],
   "source": [
    "def get_tags_item_belongs_to(tags_mat, n_items):\n",
    "    res = List([List.empty_list(types.int64) for _ in range(n_items)])\n",
    "    \n",
    "    for row, col in zip(*tags_mat.nonzero()):\n",
    "        res[row].append(col)\n",
    "        \n",
    "    return res\n",
    "\n",
    "tibt = get_tags_item_belongs_to(tags_mat, items)"
   ]
  },
  {
   "cell_type": "code",
   "execution_count": 7,
   "id": "b8d244d1",
   "metadata": {},
   "outputs": [],
   "source": [
    "@njit\n",
    "def step(\n",
    "    train_data, \n",
    "    Rus,\n",
    "    Gis,\n",
    "    n_users, \n",
    "    n_items, \n",
    "    k, \n",
    "    α1,\n",
    "    α2,\n",
    "    α3,\n",
    "    α4,\n",
    "    α5,\n",
    "    α6,\n",
    "    λ1, \n",
    "    λ2,\n",
    "    λ3,\n",
    "    λ4,\n",
    "    λ5,\n",
    "    λ6,\n",
    "    μ, bi, bu, P, Q, Y, X,\n",
    "):\n",
    "    loss = 0\n",
    "    for u, i, r in train_data:\n",
    "        Ru = Rus[u]\n",
    "        sqrt_Ru = np.sqrt(len(Ru))\n",
    "\n",
    "        implicit_feedback = np.zeros(k)\n",
    "        for j in Ru:\n",
    "            implicit_feedback += Y[j]\n",
    "        implicit_feedback /= (sqrt_Ru+1e-15)\n",
    "        \n",
    "        Gi = Gis[i]\n",
    "        genres_feedback = np.zeros(k)\n",
    "        for g in Gi:\n",
    "            genres_feedback += X[g]\n",
    "        genres_feedback /= len(Gi)\n",
    "\n",
    "        pred = μ + bu[u] + bi[i] + np.dot(Q[i] + genres_feedback, P[u] + implicit_feedback)\n",
    "        error = r - pred\n",
    "\n",
    "        # Updating\n",
    "        bu[u] += α1 * (error - λ1*bu[u])\n",
    "        bi[i] += α2 * (error - λ2*bi[i])\n",
    "\n",
    "        Pu = P[u]\n",
    "        Qi = Q[i]\n",
    "        P[u] += α3*(error*Qi - λ3*Pu)\n",
    "        Q[i] += α4*(error*(Pu+implicit_feedback) - λ4*Qi)\n",
    "    \n",
    "        term_1 = error*(1/len(Gi))*(Pu + implicit_feedback)\n",
    "        for g in Gi:\n",
    "            X[g] += α6*(term_1 - λ5*X[g])\n",
    "            \n",
    "        term_2 = error*(1/sqrt_Ru)*(Qi + genres_feedback)\n",
    "        for j in Ru:\n",
    "            Y[j] += α5*(term_2 - λ6*Y[j])\n",
    "            \n",
    "        loss += error**2\n",
    "            \n",
    "    return np.sqrt(loss/len(train_data))"
   ]
  },
  {
   "cell_type": "code",
   "execution_count": 8,
   "id": "f6eb7549",
   "metadata": {},
   "outputs": [],
   "source": [
    "# RS HD page 171 (chrome), 84 book\n",
    "def fit_gsvdpp(\n",
    "    train_data, val_data, Rus, Gis, n_users, n_items, n_tags, k, \n",
    "    α1=.01, α2=.01, α3=.01, α4=.01, α5=.01, α6=.06, \n",
    "    λ1=.01, λ2=.01, λ3=.01, λ4=.01, λ5=.01, λ6=.01, n_iters=20\n",
    "):\n",
    "    \"\"\"\n",
    "    train_data: array Nx3\n",
    "    \"\"\"\n",
    "    val_ui = uir_val[:, :2]\n",
    "    val_exp = uir_val[:, -1]\n",
    "    \n",
    "    bu = np.zeros(n_users, np.double)\n",
    "    bi = np.zeros(n_items, np.double)\n",
    "    \n",
    "    P = np.random.normal(0, .1, (n_users, k))\n",
    "    Q = np.random.normal(0, .1, (n_items, k))\n",
    "    Y = np.random.normal(0, .1, (n_items, k))\n",
    "    X = np.random.normal(0, .1, (n_tags, k))\n",
    "    \n",
    "    μ = np.mean(train_data[:, 2])\n",
    "    \n",
    "    model_params = None\n",
    "    best_epoch = 0\n",
    "    prev_val_loss = math.inf\n",
    "    \n",
    "    t = trange(n_iters, leave=True)\n",
    "    for it in t:\n",
    "        loss = step(\n",
    "            train_data, Rus, Gis, n_users, n_items, k, \n",
    "            α1, α2, α3, α4, α5, α6,\n",
    "            λ1, λ2, λ3, λ4, λ5, λ6, \n",
    "            μ, bi, bu, P, Q, Y, X\n",
    "        )\n",
    "        \n",
    "        val_preds = predict_batch(val_ui, Rus, Gis, (μ, bu, bi, P, Q, Y, X))\n",
    "        val_loss = np.sqrt(1/n_val * np.sum((val_preds - val_exp)**2))\n",
    "        t.set_postfix({\"Loss\": loss, \"Val\": val_loss})\n",
    "        \n",
    "        if val_loss < prev_val_loss:\n",
    "            prev_val_loss = val_loss\n",
    "            model_params = (μ, bu.copy(), bi.copy(), P.copy(), Q.copy(), Y.copy(), X.copy())\n",
    "            best_epoch = it\n",
    "    \n",
    "#     return μ, bu, bi, P, Q, Y\n",
    "    return model_params"
   ]
  },
  {
   "cell_type": "markdown",
   "id": "f9a11827",
   "metadata": {},
   "source": [
    "## Fit"
   ]
  },
  {
   "cell_type": "code",
   "execution_count": 9,
   "id": "a6c762c3",
   "metadata": {},
   "outputs": [],
   "source": [
    "@njit\n",
    "def predict(u, i, Rus, Gis, params):\n",
    "    μ, bu, bi, P, Q, Y, X = params\n",
    "    k = P.shape[1]\n",
    "    \n",
    "    Ru = Rus[u]\n",
    "    sqrt_Ru = np.sqrt(len(Ru))\n",
    "\n",
    "    implicit_feedback = np.zeros(k)\n",
    "    for j in Ru:\n",
    "        implicit_feedback += Y[j]\n",
    "    implicit_feedback /= (sqrt_Ru+1e-15)\n",
    "    \n",
    "    Gi = Gis[i]\n",
    "    genres_feedback = np.zeros(k)\n",
    "    for g in Gi:\n",
    "        genres_feedback += X[g]\n",
    "    genres_feedback /= len(Gi)\n",
    "\n",
    "    pred = μ + bu[u] + bi[i] + np.dot(Q[i] + genres_feedback, P[u] + implicit_feedback)\n",
    "    \n",
    "    return pred"
   ]
  },
  {
   "cell_type": "code",
   "execution_count": 10,
   "id": "ffb05bef",
   "metadata": {},
   "outputs": [],
   "source": [
    "@njit(parallel=True, nogil=True)\n",
    "def predict_batch(ui_mat, Rus, Gis, params):\n",
    "    predictions = np.zeros(len(ui_mat))\n",
    "    for it in prange(ui_mat.shape[0]):\n",
    "        u, i = ui_mat[it]\n",
    "        predictions[it] = predict(u, i, Rus, Gis, params)\n",
    "        \n",
    "    return np.clip(predictions, 1., 5.)"
   ]
  },
  {
   "cell_type": "code",
   "execution_count": 11,
   "id": "8e4e24d0",
   "metadata": {},
   "outputs": [],
   "source": [
    "# α1 = 0.005\n",
    "# α2 = 0.005\n",
    "# α3 = 0.005\n",
    "# α4 = 0.005\n",
    "# α5 = 0.005\n",
    "# α6 = 0.005\n",
    "# λ1 = 0.01\n",
    "# λ2 = 0.01\n",
    "# λ3 = 0.1\n",
    "# λ4 = 0.1\n",
    "# λ5 = 0.1\n",
    "# λ6 = 0.1\n",
    "# k = 4\n",
    "\n",
    "# fitted_params = fit_gsvdpp(\n",
    "#     uir_train, uir_val, irbu, tibt, users, items, genres, k, \n",
    "#     α1, α2, α3, α4, α5, α6,\n",
    "#     λ1, λ2, λ3, λ4, λ5, λ6,\n",
    "#     n_iters=25,\n",
    "# )\n",
    "\n",
    "# val_preds = predict_batch(uir_val[:, :2], irbu, tibt, fitted_params)\n",
    "# val_expected = uir_val[:, 2]\n",
    "\n",
    "# error = np.sqrt(1/n_val * np.sum((val_preds - val_expected)**2))\n",
    "# print(error)\n",
    "\n",
    "# ERROR 0.8987672000985515"
   ]
  },
  {
   "cell_type": "markdown",
   "id": "d6af7fec",
   "metadata": {},
   "source": [
    "## Multiple train"
   ]
  },
  {
   "cell_type": "code",
   "execution_count": 12,
   "id": "92926b25",
   "metadata": {},
   "outputs": [],
   "source": [
    "from joblib import Parallel, delayed\n",
    "from itertools import product"
   ]
  },
  {
   "cell_type": "code",
   "execution_count": 13,
   "id": "15b21c9c",
   "metadata": {},
   "outputs": [],
   "source": [
    "# alphas = [0.005, 0.006, 0.007]\n",
    "# lambdas = [0.01, 0.05, 0.1]\n",
    "# factors = [4, 5, 6, 50, 100]\n",
    "\n",
    "# params_product = list(product(alphas, alphas, lambdas, lambdas, factors))\n",
    "params_product = [\n",
    "    (0.005, 0.005, 0.01, 0.01, 4),\n",
    "    (0.005, 0.005, 0.01, 0.01, 5),\n",
    "    (0.005, 0.005, 0.01, 0.01, 50),\n",
    "    (0.005, 0.005, 0.01, 0.01, 100),\n",
    "    (0.005, 0.005, 0.01, 0.1, 4),\n",
    "    (0.005, 0.005, 0.01, 0.1, 5),\n",
    "    (0.005, 0.005, 0.01, 0.1, 50),\n",
    "    (0.005, 0.005, 0.01, 0.1, 100),\n",
    "    (0.005, 0.005, 0.1, 0.1, 4),\n",
    "    (0.005, 0.005, 0.1, 0.1, 5),\n",
    "    (0.005, 0.005, 0.1, 0.1, 50),\n",
    "    (0.005, 0.005, 0.1, 0.1, 100),\n",
    "    (0.006, 0.005, 0.01, 0.1, 4),\n",
    "    (0.006, 0.005, 0.01, 0.1, 5),\n",
    "    (0.006, 0.005, 0.01, 0.1, 50),\n",
    "    (0.006, 0.005, 0.01, 0.1, 100),\n",
    "    (0.005, 0.006, 0.01, 0.1, 4),\n",
    "    (0.005, 0.006, 0.01, 0.1, 5),\n",
    "    (0.005, 0.006, 0.01, 0.1, 50),\n",
    "    (0.005, 0.006, 0.01, 0.1, 100),\n",
    "]"
   ]
  },
  {
   "cell_type": "code",
   "execution_count": 14,
   "id": "26064bb1",
   "metadata": {},
   "outputs": [],
   "source": [
    "def train_val(\n",
    "    uir_train,\n",
    "    uir_val,\n",
    "    users,\n",
    "    movies,\n",
    "    genres,\n",
    "    k,\n",
    "    α1,\n",
    "    α2,\n",
    "    α3,\n",
    "    α4,\n",
    "    α5,\n",
    "    α6,\n",
    "    λ1,\n",
    "    λ2,\n",
    "    λ3,\n",
    "    λ4,\n",
    "    λ5,\n",
    "    λ6,\n",
    "    irbu,\n",
    "    tibt,\n",
    "    n_iters,\n",
    "):\n",
    "    fitted_params = fit_gsvdpp(\n",
    "        uir_train, uir_val, irbu, tibt, users, items, genres, k, \n",
    "        α1, α2, α3, α4, α5, α6,\n",
    "        λ1, λ2, λ3, λ4, λ5, λ6,\n",
    "        n_iters,\n",
    "    )\n",
    "    \n",
    "    val_preds = predict_batch(uir_val[:, :2], irbu, tibt, fitted_params)\n",
    "    val_expected = uir_val[:, 2]\n",
    "    error = np.sqrt(1/n_val * np.sum((val_preds - val_expected)**2))\n",
    "    \n",
    "    return α1, α2, α3, α4, α5, α6, λ1, λ2, λ3, λ4, λ5, λ6, k, error"
   ]
  },
  {
   "cell_type": "code",
   "execution_count": 16,
   "id": "2a6cad7c",
   "metadata": {},
   "outputs": [
    {
     "data": {
      "application/vnd.jupyter.widget-view+json": {
       "model_id": "627e87f451574fcd8b2df10696d8d60e",
       "version_major": 2,
       "version_minor": 0
      },
      "text/plain": [
       "  0%|          | 0/20 [00:00<?, ?it/s]"
      ]
     },
     "metadata": {},
     "output_type": "display_data"
    },
    {
     "data": {
      "application/vnd.jupyter.widget-view+json": {
       "model_id": "9f6dcbf28b8c45228e4b8453497c36e7",
       "version_major": 2,
       "version_minor": 0
      },
      "text/plain": [
       "  0%|          | 0/23 [00:00<?, ?it/s]"
      ]
     },
     "metadata": {},
     "output_type": "display_data"
    },
    {
     "data": {
      "application/vnd.jupyter.widget-view+json": {
       "model_id": "8f15871e8266426d9dd204eb56c26928",
       "version_major": 2,
       "version_minor": 0
      },
      "text/plain": [
       "  0%|          | 0/23 [00:00<?, ?it/s]"
      ]
     },
     "metadata": {},
     "output_type": "display_data"
    },
    {
     "data": {
      "application/vnd.jupyter.widget-view+json": {
       "model_id": "2c2533030c7f411b80a17bbc4994a975",
       "version_major": 2,
       "version_minor": 0
      },
      "text/plain": [
       "  0%|          | 0/23 [00:00<?, ?it/s]"
      ]
     },
     "metadata": {},
     "output_type": "display_data"
    },
    {
     "data": {
      "application/vnd.jupyter.widget-view+json": {
       "model_id": "08592517901c4afc9b3d68fc7a107386",
       "version_major": 2,
       "version_minor": 0
      },
      "text/plain": [
       "  0%|          | 0/23 [00:00<?, ?it/s]"
      ]
     },
     "metadata": {},
     "output_type": "display_data"
    },
    {
     "data": {
      "application/vnd.jupyter.widget-view+json": {
       "model_id": "65e15b3e59954c45919a8287c8a50336",
       "version_major": 2,
       "version_minor": 0
      },
      "text/plain": [
       "  0%|          | 0/23 [00:00<?, ?it/s]"
      ]
     },
     "metadata": {},
     "output_type": "display_data"
    },
    {
     "data": {
      "application/vnd.jupyter.widget-view+json": {
       "model_id": "4b3826b9d97e490683c0b2d9fba91e5d",
       "version_major": 2,
       "version_minor": 0
      },
      "text/plain": [
       "  0%|          | 0/23 [00:00<?, ?it/s]"
      ]
     },
     "metadata": {},
     "output_type": "display_data"
    },
    {
     "data": {
      "application/vnd.jupyter.widget-view+json": {
       "model_id": "2282c67748a84503b85d67d769a3c9ba",
       "version_major": 2,
       "version_minor": 0
      },
      "text/plain": [
       "  0%|          | 0/23 [00:00<?, ?it/s]"
      ]
     },
     "metadata": {},
     "output_type": "display_data"
    },
    {
     "data": {
      "application/vnd.jupyter.widget-view+json": {
       "model_id": "75467a5dd7b34f2eb9fd7e2cc6dc1fab",
       "version_major": 2,
       "version_minor": 0
      },
      "text/plain": [
       "  0%|          | 0/23 [00:00<?, ?it/s]"
      ]
     },
     "metadata": {},
     "output_type": "display_data"
    },
    {
     "data": {
      "application/vnd.jupyter.widget-view+json": {
       "model_id": "3838f8464ebc454b85bf6b98d86e051a",
       "version_major": 2,
       "version_minor": 0
      },
      "text/plain": [
       "  0%|          | 0/23 [00:00<?, ?it/s]"
      ]
     },
     "metadata": {},
     "output_type": "display_data"
    },
    {
     "data": {
      "application/vnd.jupyter.widget-view+json": {
       "model_id": "f99d633be183467c893e7751994ee50f",
       "version_major": 2,
       "version_minor": 0
      },
      "text/plain": [
       "  0%|          | 0/23 [00:00<?, ?it/s]"
      ]
     },
     "metadata": {},
     "output_type": "display_data"
    },
    {
     "data": {
      "application/vnd.jupyter.widget-view+json": {
       "model_id": "1d44b15a292641fe85862b11847a4a12",
       "version_major": 2,
       "version_minor": 0
      },
      "text/plain": [
       "  0%|          | 0/23 [00:00<?, ?it/s]"
      ]
     },
     "metadata": {},
     "output_type": "display_data"
    },
    {
     "data": {
      "application/vnd.jupyter.widget-view+json": {
       "model_id": "327137fa4da64ec2b07210abfa07af69",
       "version_major": 2,
       "version_minor": 0
      },
      "text/plain": [
       "  0%|          | 0/23 [00:00<?, ?it/s]"
      ]
     },
     "metadata": {},
     "output_type": "display_data"
    },
    {
     "data": {
      "application/vnd.jupyter.widget-view+json": {
       "model_id": "cc32cfe168cb4b17a09e6a73270add00",
       "version_major": 2,
       "version_minor": 0
      },
      "text/plain": [
       "  0%|          | 0/23 [00:00<?, ?it/s]"
      ]
     },
     "metadata": {},
     "output_type": "display_data"
    },
    {
     "data": {
      "application/vnd.jupyter.widget-view+json": {
       "model_id": "69a65a6512524fbabc02c6aed4b90f64",
       "version_major": 2,
       "version_minor": 0
      },
      "text/plain": [
       "  0%|          | 0/23 [00:00<?, ?it/s]"
      ]
     },
     "metadata": {},
     "output_type": "display_data"
    },
    {
     "data": {
      "application/vnd.jupyter.widget-view+json": {
       "model_id": "f8ef586693fd468694524eb805026161",
       "version_major": 2,
       "version_minor": 0
      },
      "text/plain": [
       "  0%|          | 0/23 [00:00<?, ?it/s]"
      ]
     },
     "metadata": {},
     "output_type": "display_data"
    },
    {
     "data": {
      "application/vnd.jupyter.widget-view+json": {
       "model_id": "3e63fc6e9e8e4d76937fd93a3bb85062",
       "version_major": 2,
       "version_minor": 0
      },
      "text/plain": [
       "  0%|          | 0/23 [00:00<?, ?it/s]"
      ]
     },
     "metadata": {},
     "output_type": "display_data"
    },
    {
     "data": {
      "application/vnd.jupyter.widget-view+json": {
       "model_id": "60bf5ecb8d164b08bc1b66ed9669a0ab",
       "version_major": 2,
       "version_minor": 0
      },
      "text/plain": [
       "  0%|          | 0/23 [00:00<?, ?it/s]"
      ]
     },
     "metadata": {},
     "output_type": "display_data"
    },
    {
     "data": {
      "application/vnd.jupyter.widget-view+json": {
       "model_id": "284861f26f89408bbcbd2281de4d3935",
       "version_major": 2,
       "version_minor": 0
      },
      "text/plain": [
       "  0%|          | 0/23 [00:00<?, ?it/s]"
      ]
     },
     "metadata": {},
     "output_type": "display_data"
    },
    {
     "data": {
      "application/vnd.jupyter.widget-view+json": {
       "model_id": "b0706a0a8af44c73a42ecf57be44203c",
       "version_major": 2,
       "version_minor": 0
      },
      "text/plain": [
       "  0%|          | 0/23 [00:00<?, ?it/s]"
      ]
     },
     "metadata": {},
     "output_type": "display_data"
    },
    {
     "data": {
      "application/vnd.jupyter.widget-view+json": {
       "model_id": "1c83dbc4ad2b440293ec5c04d52d82c9",
       "version_major": 2,
       "version_minor": 0
      },
      "text/plain": [
       "  0%|          | 0/23 [00:00<?, ?it/s]"
      ]
     },
     "metadata": {},
     "output_type": "display_data"
    }
   ],
   "source": [
    "out = [\n",
    "    train_val(\n",
    "        uir_train, \n",
    "        uir_val,\n",
    "        users, \n",
    "        items,\n",
    "        genres,\n",
    "        k=f, \n",
    "        α1=lr1,\n",
    "        α2=lr1,\n",
    "        α3=lr2,\n",
    "        α4=lr2,\n",
    "        α5=lr2,\n",
    "        α6=lr2,\n",
    "        λ1=lamb1, \n",
    "        λ2=lamb2,\n",
    "        λ3=lamb1,\n",
    "        λ4=lamb2,\n",
    "        λ5=lamb1,\n",
    "        λ6=lamb2,\n",
    "        irbu=irbu,\n",
    "        tibt=tibt,\n",
    "        n_iters=23,\n",
    "    )\n",
    "    for lr1, lr2, lamb1, lamb2, f in tqdm(params_product)\n",
    "]"
   ]
  },
  {
   "cell_type": "code",
   "execution_count": 17,
   "id": "c3c5eed1",
   "metadata": {},
   "outputs": [
    {
     "name": "stdout",
     "output_type": "stream",
     "text": [
      "(0.006, 0.006, 0.005, 0.005, 0.005, 0.005, 0.01, 0.1, 0.01, 0.1, 0.01, 0.1, 5, 0.8986876305525021)\n"
     ]
    }
   ],
   "source": [
    "print(sorted(out, key=lambda x: x[-1])[0])"
   ]
  },
  {
   "cell_type": "code",
   "execution_count": 18,
   "id": "aecb7ee0",
   "metadata": {},
   "outputs": [
    {
     "data": {
      "application/vnd.jupyter.widget-view+json": {
       "model_id": "db8ce5b43249430e81e1f22d124a1d73",
       "version_major": 2,
       "version_minor": 0
      },
      "text/plain": [
       "  0%|          | 0/5 [00:00<?, ?it/s]"
      ]
     },
     "metadata": {},
     "output_type": "display_data"
    },
    {
     "data": {
      "application/vnd.jupyter.widget-view+json": {
       "model_id": "9950a2c4a52b48828d1af6ab74665e21",
       "version_major": 2,
       "version_minor": 0
      },
      "text/plain": [
       "  0%|          | 0/23 [00:00<?, ?it/s]"
      ]
     },
     "metadata": {},
     "output_type": "display_data"
    },
    {
     "data": {
      "application/vnd.jupyter.widget-view+json": {
       "model_id": "3d1c73958e7448868cc9ccff436e4dbe",
       "version_major": 2,
       "version_minor": 0
      },
      "text/plain": [
       "  0%|          | 0/23 [00:00<?, ?it/s]"
      ]
     },
     "metadata": {},
     "output_type": "display_data"
    },
    {
     "data": {
      "application/vnd.jupyter.widget-view+json": {
       "model_id": "f2a5c0d76c5848ef849d34510df23aa5",
       "version_major": 2,
       "version_minor": 0
      },
      "text/plain": [
       "  0%|          | 0/23 [00:00<?, ?it/s]"
      ]
     },
     "metadata": {},
     "output_type": "display_data"
    },
    {
     "data": {
      "application/vnd.jupyter.widget-view+json": {
       "model_id": "7705f11f2d394e2cab064e06c1ab74e2",
       "version_major": 2,
       "version_minor": 0
      },
      "text/plain": [
       "  0%|          | 0/23 [00:00<?, ?it/s]"
      ]
     },
     "metadata": {},
     "output_type": "display_data"
    },
    {
     "data": {
      "application/vnd.jupyter.widget-view+json": {
       "model_id": "5345505080744767986eaef2c9ef8a8e",
       "version_major": 2,
       "version_minor": 0
      },
      "text/plain": [
       "  0%|          | 0/23 [00:00<?, ?it/s]"
      ]
     },
     "metadata": {},
     "output_type": "display_data"
    }
   ],
   "source": [
    "params_product = [\n",
    "#     (0.006, 0.005, 0.01, 0.1, 5),\n",
    "    (0.006, 0.005, 0.01, 0.1, 6),\n",
    "    (0.006, 0.005, 0.01, 0.01, 5),\n",
    "    (0.006, 0.005, 0.01, 0.01, 6),\n",
    "    (0.006, 0.005, 0.02, 0.01, 5),\n",
    "    (0.006, 0.005, 0.01, 0.02, 5),\n",
    "]\n",
    "\n",
    "out2 = [\n",
    "    train_val(\n",
    "        uir_train, \n",
    "        uir_val,\n",
    "        users, \n",
    "        items,\n",
    "        genres,\n",
    "        k=f, \n",
    "        α1=lr1,\n",
    "        α2=lr1,\n",
    "        α3=lr2,\n",
    "        α4=lr2,\n",
    "        α5=lr2,\n",
    "        α6=lr2,\n",
    "        λ1=lamb1, \n",
    "        λ2=lamb2,\n",
    "        λ3=lamb1,\n",
    "        λ4=lamb2,\n",
    "        λ5=lamb1,\n",
    "        λ6=lamb2,\n",
    "        irbu=irbu,\n",
    "        tibt=tibt,\n",
    "        n_iters=23,\n",
    "    )\n",
    "    for lr1, lr2, lamb1, lamb2, f in tqdm(params_product)\n",
    "]"
   ]
  },
  {
   "cell_type": "code",
   "execution_count": 19,
   "id": "00ac8faa",
   "metadata": {},
   "outputs": [
    {
     "name": "stdout",
     "output_type": "stream",
     "text": [
      "(0.006, 0.006, 0.005, 0.005, 0.005, 0.005, 0.01, 0.1, 0.01, 0.1, 0.01, 0.1, 6, 0.8989897736548966)\n"
     ]
    }
   ],
   "source": [
    "print(sorted(out2, key=lambda x: x[-1])[0])"
   ]
  }
 ],
 "metadata": {
  "kernelspec": {
   "display_name": "Python 3 (ipykernel)",
   "language": "python",
   "name": "python3"
  },
  "language_info": {
   "codemirror_mode": {
    "name": "ipython",
    "version": 3
   },
   "file_extension": ".py",
   "mimetype": "text/x-python",
   "name": "python",
   "nbconvert_exporter": "python",
   "pygments_lexer": "ipython3",
   "version": "3.10.4"
  }
 },
 "nbformat": 4,
 "nbformat_minor": 5
}
