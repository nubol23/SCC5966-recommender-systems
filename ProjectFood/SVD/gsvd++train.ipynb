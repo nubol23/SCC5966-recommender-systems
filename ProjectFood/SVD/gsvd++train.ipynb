{
 "cells": [
  {
   "cell_type": "code",
   "execution_count": 1,
   "id": "ff8eba58",
   "metadata": {},
   "outputs": [],
   "source": [
    "import pandas as pd\n",
    "import numpy as np\n",
    "from numba import njit, prange\n",
    "\n",
    "from tqdm.notebook import tqdm, trange\n",
    "\n",
    "from numba.typed import List\n",
    "from numba import types\n",
    "\n",
    "from numba_progress import ProgressBar\n",
    "\n",
    "import math"
   ]
  },
  {
   "cell_type": "code",
   "execution_count": 2,
   "id": "c372d464",
   "metadata": {},
   "outputs": [],
   "source": [
    "users = 226570\n",
    "items = 231637\n",
    "genres = 552\n",
    "\n",
    "train_data = pd.read_csv(\"../Preprocessing/processed_dataframes/train.csv\")\n",
    "validation_data = pd.read_csv(\"../Preprocessing/processed_dataframes/val.csv\")"
   ]
  },
  {
   "cell_type": "code",
   "execution_count": 3,
   "id": "79021866",
   "metadata": {},
   "outputs": [],
   "source": [
    "uir_train = train_data.values\n",
    "\n",
    "uir_val = validation_data.values\n",
    "n_val = uir_val.shape[0]"
   ]
  },
  {
   "cell_type": "code",
   "execution_count": 4,
   "id": "c0e45df0",
   "metadata": {},
   "outputs": [],
   "source": [
    "@njit\n",
    "def get_items_rated_by_users(train_data, n_users):\n",
    "    res = List([List.empty_list(types.int64) for _ in range(n_users)])\n",
    "    \n",
    "    for u, i, _ in train_data:\n",
    "        res[u].append(i)\n",
    "    \n",
    "    for u in range(n_users):\n",
    "        res[u].sort()\n",
    "    \n",
    "    return res\n",
    "\n",
    "# irbu = get_items_rated_by_users(uir_train, users)\n",
    "irbu = get_items_rated_by_users(np.vstack([uir_train, uir_val]), users)"
   ]
  },
  {
   "cell_type": "code",
   "execution_count": 5,
   "id": "7dea03e1",
   "metadata": {},
   "outputs": [],
   "source": [
    "import scipy.sparse as sparse\n",
    "\n",
    "tags_mat = sparse.load_npz(\"../Preprocessing/objects/tags_matrix.npz\")"
   ]
  },
  {
   "cell_type": "code",
   "execution_count": 9,
   "id": "4d0c324d",
   "metadata": {},
   "outputs": [],
   "source": [
    "def get_tags_item_belongs_to(tags_mat, n_items):\n",
    "    res = List([List.empty_list(types.int64) for _ in range(n_items)])\n",
    "    \n",
    "    for row, col in zip(*tags_mat.nonzero()):\n",
    "        res[row].append(col)\n",
    "        \n",
    "    return res\n",
    "\n",
    "tibt = get_tags_item_belongs_to(tags_mat, items)"
   ]
  },
  {
   "cell_type": "code",
   "execution_count": 10,
   "id": "b8d244d1",
   "metadata": {},
   "outputs": [],
   "source": [
    "@njit\n",
    "def step(\n",
    "    train_data, \n",
    "    Rus,\n",
    "    Gis,\n",
    "    n_users, \n",
    "    n_items, \n",
    "    k, \n",
    "    α1,\n",
    "    α2,\n",
    "    α3,\n",
    "    α4,\n",
    "    α5,\n",
    "    α6,\n",
    "    λ1, \n",
    "    λ2,\n",
    "    λ3,\n",
    "    λ4,\n",
    "    λ5,\n",
    "    λ6,\n",
    "    μ, bi, bu, P, Q, Y, X,\n",
    "):\n",
    "    loss = 0\n",
    "    for u, i, r in train_data:\n",
    "        Ru = Rus[u]\n",
    "        sqrt_Ru = np.sqrt(len(Ru))\n",
    "\n",
    "        implicit_feedback = np.zeros(k)\n",
    "        for j in Ru:\n",
    "            implicit_feedback += Y[j]\n",
    "        implicit_feedback /= (sqrt_Ru+1e-15)\n",
    "        \n",
    "        Gi = Gis[i]\n",
    "        genres_feedback = np.zeros(k)\n",
    "        for g in Gi:\n",
    "            genres_feedback += X[g]\n",
    "        genres_feedback /= len(Gi)\n",
    "\n",
    "        pred = μ + bu[u] + bi[i] + np.dot(Q[i] + genres_feedback, P[u] + implicit_feedback)\n",
    "        error = r - pred\n",
    "\n",
    "        # Updating\n",
    "        bu[u] += α1 * (error - λ1*bu[u])\n",
    "        bi[i] += α2 * (error - λ2*bi[i])\n",
    "\n",
    "        Pu = P[u]\n",
    "        Qi = Q[i]\n",
    "        P[u] += α3*(error*Qi - λ3*Pu)\n",
    "        Q[i] += α4*(error*(Pu+implicit_feedback) - λ4*Qi)\n",
    "    \n",
    "        term_1 = error*(1/len(Gi))*(Pu + implicit_feedback)\n",
    "        for g in Gi:\n",
    "            X[g] += α6*(term_1 - λ5*X[g])\n",
    "            \n",
    "        term_2 = error*(1/sqrt_Ru)*(Qi + genres_feedback)\n",
    "        for j in Ru:\n",
    "            Y[j] += α5*(term_2 - λ6*Y[j])\n",
    "            \n",
    "        loss += error**2\n",
    "            \n",
    "    return np.sqrt(loss/len(train_data))"
   ]
  },
  {
   "cell_type": "code",
   "execution_count": 11,
   "id": "f6eb7549",
   "metadata": {},
   "outputs": [],
   "source": [
    "# RS HD page 171 (chrome), 84 book\n",
    "def fit_gsvdpp(\n",
    "    train_data, val_data, Rus, Gis, n_users, n_items, n_tags, k, \n",
    "    α1=.01, α2=.01, α3=.01, α4=.01, α5=.01, α6=.06, \n",
    "    λ1=.01, λ2=.01, λ3=.01, λ4=.01, λ5=.01, λ6=.01, n_iters=20\n",
    "):\n",
    "    \"\"\"\n",
    "    train_data: array Nx3\n",
    "    \"\"\"\n",
    "    val_ui = uir_val[:, :2]\n",
    "    val_exp = uir_val[:, -1]\n",
    "    \n",
    "    bu = np.zeros(n_users, np.double)\n",
    "    bi = np.zeros(n_items, np.double)\n",
    "    \n",
    "    P = np.random.normal(0, .1, (n_users, k))\n",
    "    Q = np.random.normal(0, .1, (n_items, k))\n",
    "    Y = np.random.normal(0, .1, (n_items, k))\n",
    "    X = np.random.normal(0, .1, (n_tags, k))\n",
    "    \n",
    "    μ = np.mean(train_data[:, 2])\n",
    "    \n",
    "    model_params = None\n",
    "    best_epoch = 0\n",
    "    prev_val_loss = math.inf\n",
    "    \n",
    "    t = trange(n_iters, leave=True)\n",
    "    for it in t:\n",
    "        loss = step(\n",
    "            train_data, Rus, Gis, n_users, n_items, k, \n",
    "            α1, α2, α3, α4, α5, α6,\n",
    "            λ1, λ2, λ3, λ4, λ5, λ6, \n",
    "            μ, bi, bu, P, Q, Y, X\n",
    "        )\n",
    "        \\\n",
    "        \n",
    "        val_preds = predict_batch(val_ui, Rus, Gis, (μ, bu, bi, P, Q, Y, X))\n",
    "        val_loss = np.sqrt(1/n_val * np.sum((val_preds - val_exp)**2))\n",
    "        t.set_postfix({\"Loss\": loss, \"Val\": val_loss})\n",
    "        \n",
    "        if val_loss < prev_val_loss:\n",
    "            prev_val_loss = val_loss\n",
    "            model_params = (μ, bu.copy(), bi.copy(), P.copy(), Q.copy(), Y.copy(), X.copy())\n",
    "            best_epoch = it\n",
    "    \n",
    "#     return μ, bu, bi, P, Q, Y\n",
    "    return model_params"
   ]
  },
  {
   "cell_type": "markdown",
   "id": "f9a11827",
   "metadata": {},
   "source": [
    "## Fit"
   ]
  },
  {
   "cell_type": "code",
   "execution_count": 12,
   "id": "a6c762c3",
   "metadata": {},
   "outputs": [],
   "source": [
    "@njit\n",
    "def predict(u, i, Rus, Gis, params):\n",
    "    μ, bu, bi, P, Q, Y, X = params\n",
    "    k = P.shape[1]\n",
    "    \n",
    "    Ru = Rus[u]\n",
    "    sqrt_Ru = np.sqrt(len(Ru))\n",
    "\n",
    "    implicit_feedback = np.zeros(k)\n",
    "    for j in Ru:\n",
    "        implicit_feedback += Y[j]\n",
    "    implicit_feedback /= (sqrt_Ru+1e-15)\n",
    "    \n",
    "    Gi = Gis[i]\n",
    "    genres_feedback = np.zeros(k)\n",
    "    for g in Gi:\n",
    "        genres_feedback += X[g]\n",
    "    genres_feedback /= len(Gi)\n",
    "\n",
    "    pred = μ + bu[u] + bi[i] + np.dot(Q[i] + genres_feedback, P[u] + implicit_feedback)\n",
    "    \n",
    "    return pred"
   ]
  },
  {
   "cell_type": "code",
   "execution_count": 13,
   "id": "ffb05bef",
   "metadata": {},
   "outputs": [],
   "source": [
    "@njit(parallel=True, nogil=True)\n",
    "def predict_batch(ui_mat, Rus, Gis, params):\n",
    "    predictions = np.zeros(len(ui_mat))\n",
    "    for it in prange(ui_mat.shape[0]):\n",
    "        u, i = ui_mat[it]\n",
    "        predictions[it] = predict(u, i, Rus, Gis, params)\n",
    "        \n",
    "    return np.clip(predictions, 1., 5.)"
   ]
  },
  {
   "cell_type": "code",
   "execution_count": 29,
   "id": "38f4f72b",
   "metadata": {},
   "outputs": [
    {
     "name": "stdout",
     "output_type": "stream",
     "text": [
      "0.899842917864599\n"
     ]
    }
   ],
   "source": [
    "α1 = 0.005\n",
    "α2 = 0.005\n",
    "α3 = 0.006\n",
    "α4 = 0.006\n",
    "α5 = 0.006\n",
    "α6 = 0.006\n",
    "k = 5\n",
    "\n",
    "fitted_params = fit_gsvdpp(\n",
    "    uir_train, uir_val, irbu, tibt, users, items, genres, k, \n",
    "    α1, α2, α3, α4, α5, α6,\n",
    "    λ1=0.02, λ2=0.02, λ3=.015, λ4=.01, λ5=.01, λ6=.01,\n",
    "    n_iters=15,\n",
    ")\n",
    "\n",
    "val_preds = predict_batch(uir_val[:, :2], irbu, tibt, fitted_params)\n",
    "val_expected = uir_val[:, 2]\n",
    "\n",
    "error = np.sqrt(1/n_val * np.sum((val_preds - val_expected)**2))\n",
    "print(error)"
   ]
  },
  {
   "cell_type": "code",
   "execution_count": 14,
   "id": "8e4e24d0",
   "metadata": {},
   "outputs": [
    {
     "data": {
      "application/vnd.jupyter.widget-view+json": {
       "model_id": "6441f92ba1fa4091b8e1cb9c2ce16703",
       "version_major": 2,
       "version_minor": 0
      },
      "text/plain": [
       "  0%|          | 0/25 [00:00<?, ?it/s]"
      ]
     },
     "metadata": {},
     "output_type": "display_data"
    },
    {
     "name": "stdout",
     "output_type": "stream",
     "text": [
      "0.898708381079073\n"
     ]
    }
   ],
   "source": [
    "α1 = 0.005\n",
    "α2 = 0.005\n",
    "α3 = 0.005\n",
    "α4 = 0.005\n",
    "α5 = 0.005\n",
    "α6 = 0.005\n",
    "λ1 = 0.01\n",
    "λ2 = 0.01\n",
    "λ3 = 0.1\n",
    "λ4 = 0.1\n",
    "λ5 = 0.1\n",
    "λ6 = 0.1\n",
    "k = 4\n",
    "\n",
    "fitted_params = fit_gsvdpp(\n",
    "    uir_train, uir_val, irbu, tibt, users, items, genres, k, \n",
    "    α1, α2, α3, α4, α5, α6,\n",
    "    λ1, λ2, λ3, λ4, λ5, λ6,\n",
    "    n_iters=25,\n",
    ")\n",
    "\n",
    "val_preds = predict_batch(uir_val[:, :2], irbu, tibt, fitted_params)\n",
    "val_expected = uir_val[:, 2]\n",
    "\n",
    "error = np.sqrt(1/n_val * np.sum((val_preds - val_expected)**2))\n",
    "print(error)"
   ]
  },
  {
   "cell_type": "code",
   "execution_count": 11,
   "id": "11f64261",
   "metadata": {},
   "outputs": [
    {
     "data": {
      "application/vnd.jupyter.widget-view+json": {
       "model_id": "da40d52d0a9b4ccc9103a764168c86a1",
       "version_major": 2,
       "version_minor": 0
      },
      "text/plain": [
       "  0%|          | 0/25 [00:00<?, ?it/s]"
      ]
     },
     "metadata": {},
     "output_type": "display_data"
    },
    {
     "name": "stdout",
     "output_type": "stream",
     "text": [
      "0.898636143013218\n"
     ]
    }
   ],
   "source": [
    "α1 = 0.005\n",
    "α2 = 0.005\n",
    "α3 = 0.005\n",
    "α4 = 0.005\n",
    "α5 = 0.005\n",
    "α6 = 0.005\n",
    "λ1 = 0.01\n",
    "λ2 = 0.01\n",
    "λ3 = 0.1\n",
    "λ4 = 0.1\n",
    "λ5 = 0.1\n",
    "λ6 = 0.1\n",
    "k = 3\n",
    "\n",
    "fitted_params = fit_gsvdpp(\n",
    "    uir_train, uir_val, irbu, tibt, users, items, genres, k, \n",
    "    α1, α2, α3, α4, α5, α6,\n",
    "    λ1, λ2, λ3, λ4, λ5, λ6,\n",
    "    n_iters=25,\n",
    ")\n",
    "\n",
    "val_preds = predict_batch(uir_val[:, :2], irbu, tibt, fitted_params)\n",
    "val_expected = uir_val[:, 2]\n",
    "\n",
    "error = np.sqrt(1/n_val * np.sum((val_preds - val_expected)**2))\n",
    "print(error)"
   ]
  },
  {
   "cell_type": "code",
   "execution_count": 12,
   "id": "52e548cd",
   "metadata": {},
   "outputs": [
    {
     "data": {
      "application/vnd.jupyter.widget-view+json": {
       "model_id": "f6b0232b56944d309336b384d490b876",
       "version_major": 2,
       "version_minor": 0
      },
      "text/plain": [
       "  0%|          | 0/25 [00:00<?, ?it/s]"
      ]
     },
     "metadata": {},
     "output_type": "display_data"
    },
    {
     "name": "stdout",
     "output_type": "stream",
     "text": [
      "0.8986372737281625\n"
     ]
    }
   ],
   "source": [
    "α1 = 0.005\n",
    "α2 = 0.005\n",
    "α3 = 0.005\n",
    "α4 = 0.005\n",
    "α5 = 0.005\n",
    "α6 = 0.005\n",
    "λ1 = 0.01\n",
    "λ2 = 0.01\n",
    "λ3 = 0.1\n",
    "λ4 = 0.1\n",
    "λ5 = 0.1\n",
    "λ6 = 0.1\n",
    "k = 2\n",
    "\n",
    "fitted_params = fit_gsvdpp(\n",
    "    uir_train, uir_val, irbu, tibt, users, items, genres, k, \n",
    "    α1, α2, α3, α4, α5, α6,\n",
    "    λ1, λ2, λ3, λ4, λ5, λ6,\n",
    "    n_iters=25,\n",
    ")\n",
    "\n",
    "val_preds = predict_batch(uir_val[:, :2], irbu, tibt, fitted_params)\n",
    "val_expected = uir_val[:, 2]\n",
    "\n",
    "error = np.sqrt(1/n_val * np.sum((val_preds - val_expected)**2))\n",
    "print(error)"
   ]
  },
  {
   "cell_type": "code",
   "execution_count": 13,
   "id": "351c73c1",
   "metadata": {},
   "outputs": [],
   "source": [
    "import matplotlib.pyplot as plt"
   ]
  },
  {
   "cell_type": "code",
   "execution_count": 14,
   "id": "b380c8cc",
   "metadata": {},
   "outputs": [
    {
     "name": "stdout",
     "output_type": "stream",
     "text": [
      "(226570, 2) (231637, 2)\n"
     ]
    }
   ],
   "source": [
    "_, _, _, Pu, Qi, _, _ = fitted_params\n",
    "print(Pu.shape, Qi.shape)"
   ]
  },
  {
   "cell_type": "code",
   "execution_count": 18,
   "id": "0f5dfba8",
   "metadata": {},
   "outputs": [
    {
     "data": {
      "image/png": "[encoded data removed]",
      "text/plain": [
       "<Figure size 432x288 with 1 Axes>"
      ]
     },
     "metadata": {
      "needs_background": "light"
     },
     "output_type": "display_data"
    }
   ],
   "source": [
    "plt.plot(Pu[:, 0], Pu[:, 1], \"rx\")\n",
    "plt.plot(Qi[:, 0], Qi[:, 1], \"bx\")\n",
    "plt.show()"
   ]
  }
 ],
 "metadata": {
  "kernelspec": {
   "display_name": "Python 3 (ipykernel)",
   "language": "python",
   "name": "python3"
  },
  "language_info": {
   "codemirror_mode": {
    "name": "ipython",
    "version": 3
   },
   "file_extension": ".py",
   "mimetype": "text/x-python",
   "name": "python",
   "nbconvert_exporter": "python",
   "pygments_lexer": "ipython3",
   "version": "3.10.4"
  }
 },
 "nbformat": 4,
 "nbformat_minor": 5
}
