{
 "cells": [
  {
   "cell_type": "code",
   "execution_count": 1,
   "id": "ddd39362",
   "metadata": {},
   "outputs": [],
   "source": [
    "import pandas as pd\n",
    "import numpy as np\n",
    "from numba import njit, prange\n",
    "\n",
    "from tqdm.notebook import tqdm, trange\n",
    "\n",
    "from numba.typed import List\n",
    "from numba import types\n",
    "\n",
    "from numba_progress import ProgressBar\n",
    "\n",
    "import math"
   ]
  },
  {
   "cell_type": "code",
   "execution_count": 2,
   "id": "b12062af",
   "metadata": {},
   "outputs": [],
   "source": [
    "users = 226570\n",
    "items = 231637\n",
    "\n",
    "train_data = pd.read_csv(\"../Preprocessing/processed_dataframes/train.csv\")\n",
    "validation_data = pd.read_csv(\"../Preprocessing/processed_dataframes/val.csv\")"
   ]
  },
  {
   "cell_type": "code",
   "execution_count": 3,
   "id": "47eeb9ea",
   "metadata": {},
   "outputs": [],
   "source": [
    "uir_train = train_data.values\n",
    "\n",
    "uir_val = validation_data.values\n",
    "n_val = uir_val.shape[0]"
   ]
  },
  {
   "cell_type": "code",
   "execution_count": 4,
   "id": "6225dfe8",
   "metadata": {},
   "outputs": [],
   "source": [
    "@njit\n",
    "def step(\n",
    "    train_data, \n",
    "    n_users, \n",
    "    n_items, \n",
    "    k, \n",
    "    α1,\n",
    "    α2,\n",
    "    α3,\n",
    "    α4,\n",
    "    λ1, \n",
    "    λ2,\n",
    "    μ, bi, bu, P, Q,\n",
    "):\n",
    "    loss = 0\n",
    "    for u, i, r in train_data:\n",
    "        pred = μ + bu[u] + bi[i] + np.dot(Q[i], P[u])\n",
    "        error = r - pred\n",
    "\n",
    "        # Updating\n",
    "        bu[u] += α1 * (error - λ1*bu[u])\n",
    "        bi[i] += α2 * (error - λ1*bi[i])\n",
    "\n",
    "        Pu = P[u]\n",
    "        Qi = Q[i]\n",
    "        P[u] += α3*(error*Qi - λ2*Pu)\n",
    "        Q[i] += α4*(error*Pu - λ2*Qi)\n",
    "            \n",
    "        loss += error**2\n",
    "            \n",
    "    return np.sqrt(loss/len(train_data))"
   ]
  },
  {
   "cell_type": "code",
   "execution_count": 5,
   "id": "bc0f53fb",
   "metadata": {},
   "outputs": [],
   "source": [
    "# RS HD page 171 (chrome), 84 book\n",
    "def fit_svd(\n",
    "    train_data, val_data, n_users, n_items, k, α1=.01, α2=.01, α3=.01, α4=.01, λ1=.01, λ2=.01, n_iters=20\n",
    "):\n",
    "    \"\"\"\n",
    "    train_data: array Nx3\n",
    "    \"\"\"\n",
    "    val_ui = uir_val[:, :2]\n",
    "    val_exp = uir_val[:, -1]\n",
    "    \n",
    "    bu = np.zeros(n_users, np.double)\n",
    "    bi = np.zeros(n_items, np.double)\n",
    "    \n",
    "    P = np.random.normal(0, .1, (n_users, k))\n",
    "    Q = np.random.normal(0, .1, (n_items, k))\n",
    "    \n",
    "    μ = np.mean(train_data[:, 2])\n",
    "    \n",
    "    model_params = None\n",
    "    best_epoch = 0\n",
    "    prev_val_loss = math.inf\n",
    "    \n",
    "    t = trange(n_iters, leave=True)\n",
    "    for it in t:\n",
    "#     for it in range(n_iters):\n",
    "        loss = step(train_data, n_users, n_items, k, α1, α2, α3, α4, λ1, λ2, μ, bi, bu, P, Q)\n",
    "        \n",
    "        val_preds = predict_batch(val_ui, (μ, bu, bi, P, Q))\n",
    "        val_loss = np.sqrt(1/n_val * np.sum((val_preds - val_exp)**2))\n",
    "        t.set_postfix({\"Loss\": loss, \"Val\": val_loss})\n",
    "        \n",
    "        if val_loss < prev_val_loss:\n",
    "            prev_val_loss = val_loss\n",
    "            model_params = (μ, bu.copy(), bi.copy(), P.copy(), Q.copy())\n",
    "            best_epoch = it\n",
    "    \n",
    "#     return μ, bu, bi, P, Q\n",
    "    return model_params"
   ]
  },
  {
   "cell_type": "markdown",
   "id": "25ffba0e",
   "metadata": {},
   "source": [
    "## Fit"
   ]
  },
  {
   "cell_type": "code",
   "execution_count": 6,
   "id": "0c2d3fc8",
   "metadata": {},
   "outputs": [],
   "source": [
    "@njit\n",
    "def predict(u, i, params):\n",
    "    μ, bu, bi, P, Q = params\n",
    "    k = P.shape[1]\n",
    "\n",
    "    pred = μ + bu[u] + bi[i] + np.dot(Q[i], P[u])\n",
    "    \n",
    "    return pred"
   ]
  },
  {
   "cell_type": "code",
   "execution_count": 7,
   "id": "9408fcef",
   "metadata": {},
   "outputs": [],
   "source": [
    "@njit(parallel=True, nogil=True)\n",
    "def predict_batch(ui_mat, params):\n",
    "    predictions = np.zeros(len(ui_mat))\n",
    "    for it in prange(ui_mat.shape[0]):\n",
    "        u, i = ui_mat[it]\n",
    "        predictions[it] = predict(u, i, params)\n",
    "        \n",
    "    return np.clip(predictions, 1., 5.)"
   ]
  },
  {
   "cell_type": "code",
   "execution_count": 8,
   "id": "d44b78b0",
   "metadata": {},
   "outputs": [
    {
     "data": {
      "application/vnd.jupyter.widget-view+json": {
       "model_id": "7d4067bc91d04c758b322891e5ded502",
       "version_major": 2,
       "version_minor": 0
      },
      "text/plain": [
       "  0%|          | 0/75 [00:00<?, ?it/s]"
      ]
     },
     "metadata": {},
     "output_type": "display_data"
    }
   ],
   "source": [
    "α1 = 0.005\n",
    "α2 = 0.005\n",
    "α3 = 0.01\n",
    "α4 = 0.01\n",
    "lamb_1 = 0.05\n",
    "lamb_2 = 0.1\n",
    "# 4, 5, 6, 50, 100, 150\n",
    "k = 150\n",
    "fitted_params = fit_svd(\n",
    "    uir_train, uir_val, users, items, k, \n",
    "    α1, α2, α3, α4, λ1=lamb_1, λ2=lamb_2,\n",
    "    n_iters=75,\n",
    ")"
   ]
  },
  {
   "cell_type": "code",
   "execution_count": 11,
   "id": "a21d4ae7",
   "metadata": {},
   "outputs": [
    {
     "name": "stdout",
     "output_type": "stream",
     "text": [
      "0.9035591274599666\n"
     ]
    }
   ],
   "source": [
    "val_preds = predict_batch(uir_val[:, :2], fitted_params)\n",
    "val_expected = uir_val[:, 2]\n",
    "\n",
    "error = np.sqrt(1/n_val * np.sum((val_preds - val_expected)**2))\n",
    "print(error)"
   ]
  },
  {
   "cell_type": "markdown",
   "id": "66e79fbb",
   "metadata": {},
   "source": [
    "## Multiple train"
   ]
  },
  {
   "cell_type": "code",
   "execution_count": 12,
   "id": "1813f46c",
   "metadata": {},
   "outputs": [],
   "source": [
    "from joblib import Parallel, delayed\n",
    "from itertools import product"
   ]
  },
  {
   "cell_type": "code",
   "execution_count": 13,
   "id": "eae2b8a7",
   "metadata": {},
   "outputs": [],
   "source": [
    "alphas = [0.005, 0.006, 0.007, 0.01]\n",
    "lambdas = [0.008, 0.01, 0.05, 0.1]\n",
    "factors = [4, 5, 6, 50, 100, 150]\n",
    "\n",
    "params_product = list(product(alphas, alphas, lambdas, lambdas, factors))"
   ]
  },
  {
   "cell_type": "code",
   "execution_count": 14,
   "id": "25f36039",
   "metadata": {},
   "outputs": [],
   "source": [
    "def train_val(\n",
    "    uir_train,\n",
    "    uir_val,\n",
    "    users,\n",
    "    movies,\n",
    "    k,\n",
    "    α1,\n",
    "    α2,\n",
    "    α3,\n",
    "    α4,\n",
    "    λ1,\n",
    "    λ2,\n",
    "    n_iters,\n",
    "):\n",
    "    fitted_params = fit_svd(uir_train, uir_val, users, movies, k, α1, α2, α3, α4, λ1, λ2, n_iters)\n",
    "    \n",
    "    val_preds = predict_batch(uir_val[:, :2], fitted_params)\n",
    "    val_expected = uir_val[:, 2]\n",
    "    error = np.sqrt(1/n_val * np.sum((val_preds - val_expected)**2))\n",
    "    \n",
    "    return α1, α2, α3, α4, λ1, λ2, k, error"
   ]
  },
  {
   "cell_type": "code",
   "execution_count": 16,
   "id": "6d447517",
   "metadata": {},
   "outputs": [
    {
     "data": {
      "application/vnd.jupyter.widget-view+json": {
       "model_id": "40640c7a807d46a1bdf9c837b23271a6",
       "version_major": 2,
       "version_minor": 0
      },
      "text/plain": [
       "  0%|          | 0/1536 [00:00<?, ?it/s]"
      ]
     },
     "metadata": {},
     "output_type": "display_data"
    }
   ],
   "source": [
    "out = Parallel(n_jobs=12)(\n",
    "    delayed(train_val)(\n",
    "        uir_train, \n",
    "        uir_val,\n",
    "        users, \n",
    "        items,\n",
    "        k=f, \n",
    "        α1=lr1,\n",
    "        α2=lr1,\n",
    "        α3=lr2,\n",
    "        α4=lr2,\n",
    "        λ1=lamb1, \n",
    "        λ2=lamb2, \n",
    "        n_iters=100,\n",
    "    )\n",
    "    for lr1, lr2, lamb1, lamb2, f in tqdm(params_product)\n",
    ")"
   ]
  },
  {
   "cell_type": "code",
   "execution_count": 32,
   "id": "17beca14",
   "metadata": {
    "scrolled": true
   },
   "outputs": [
    {
     "name": "stdout",
     "output_type": "stream",
     "text": [
      "α1: 0.005, α2: 0.005, α3: 0.005, α4: 0.005, λ1: 0.01, λ2: 0.1, k: 4, error: 0.8986038030954508\n"
     ]
    }
   ],
   "source": [
    "best_params_joblib = sorted(out, key=lambda x: x[-1])[0]\n",
    "\n",
    "print(\"α1: {0}, α2: {1}, α3: {2}, α4: {3}, λ1: {4}, λ2: {5}, k: {6}, error: {7}\".format(*best_params_joblib))"
   ]
  }
 ],
 "metadata": {
  "kernelspec": {
   "display_name": "Python 3 (ipykernel)",
   "language": "python",
   "name": "python3"
  },
  "language_info": {
   "codemirror_mode": {
    "name": "ipython",
    "version": 3
   },
   "file_extension": ".py",
   "mimetype": "text/x-python",
   "name": "python",
   "nbconvert_exporter": "python",
   "pygments_lexer": "ipython3",
   "version": "3.10.4"
  }
 },
 "nbformat": 4,
 "nbformat_minor": 5
}
