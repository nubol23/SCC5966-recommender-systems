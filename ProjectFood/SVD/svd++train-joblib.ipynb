{
 "cells": [
  {
   "cell_type": "code",
   "execution_count": 1,
   "id": "84424200",
   "metadata": {},
   "outputs": [],
   "source": [
    "import pandas as pd\n",
    "import numpy as np\n",
    "from numba import njit, prange\n",
    "\n",
    "from tqdm.notebook import tqdm, trange\n",
    "\n",
    "from numba.typed import List\n",
    "from numba import types\n",
    "\n",
    "from numba_progress import ProgressBar\n",
    "\n",
    "import math"
   ]
  },
  {
   "cell_type": "code",
   "execution_count": 2,
   "id": "f410ef00",
   "metadata": {},
   "outputs": [],
   "source": [
    "users = 226570\n",
    "items = 231637\n",
    "\n",
    "train_data = pd.read_csv(\"../Preprocessing/processed_dataframes/train.csv\")\n",
    "validation_data = pd.read_csv(\"../Preprocessing/processed_dataframes/val.csv\")"
   ]
  },
  {
   "cell_type": "code",
   "execution_count": 3,
   "id": "c1447832",
   "metadata": {},
   "outputs": [],
   "source": [
    "uir_train = train_data.values\n",
    "\n",
    "uir_val = validation_data.values\n",
    "n_val = uir_val.shape[0]"
   ]
  },
  {
   "cell_type": "code",
   "execution_count": 4,
   "id": "68a3cdf9",
   "metadata": {},
   "outputs": [],
   "source": [
    "@njit\n",
    "def get_items_rated_by_users(train_data, n_users):\n",
    "    res = List([List.empty_list(types.int64) for _ in range(n_users)])\n",
    "    \n",
    "    for u, i, _ in train_data:\n",
    "        res[u].append(i)\n",
    "    \n",
    "    for u in range(n_users):\n",
    "        res[u].sort()\n",
    "    \n",
    "    return res\n",
    "\n",
    "irbu = get_items_rated_by_users(uir_train, users)"
   ]
  },
  {
   "cell_type": "code",
   "execution_count": 5,
   "id": "a347fff0",
   "metadata": {},
   "outputs": [],
   "source": [
    "@njit\n",
    "def step(\n",
    "    train_data, \n",
    "    Rus, \n",
    "    n_users, \n",
    "    n_items, \n",
    "    k, \n",
    "    α1,\n",
    "    α2,\n",
    "    α3,\n",
    "    α4,\n",
    "    α5,\n",
    "    λ1, \n",
    "    λ2,\n",
    "    μ, bi, bu, P, Q, Y,\n",
    "):\n",
    "    loss = 0\n",
    "    for u, i, r in train_data:\n",
    "        Ru = Rus[u]\n",
    "        sqrt_Ru = np.sqrt(len(Ru))\n",
    "\n",
    "        implicit_feedback = np.zeros(k)\n",
    "        for j in Ru:\n",
    "            implicit_feedback += Y[j]\n",
    "        implicit_feedback /= (sqrt_Ru+1e-15)\n",
    "\n",
    "        pred = μ + bu[u] + bi[i] + np.dot(Q[i], P[u] + implicit_feedback)\n",
    "        error = r - pred\n",
    "\n",
    "        # Updating\n",
    "        bu[u] += α1 * (error - λ1*bu[u])\n",
    "        bi[i] += α2 * (error - λ1*bi[i])\n",
    "\n",
    "        Pu = P[u]\n",
    "        Qi = Q[i]\n",
    "        P[u] += α3*(error*Qi - λ2*Pu)\n",
    "        Q[i] += α4*(error*(Pu+implicit_feedback) - λ2*Qi)\n",
    "\n",
    "        term_1 = error*(Qi/(sqrt_Ru+1e-15))\n",
    "        for j in Ru:\n",
    "            Y[j] += α5*(term_1 - λ1*Y[j])\n",
    "            \n",
    "        loss += error**2\n",
    "            \n",
    "    return np.sqrt(loss/len(train_data))"
   ]
  },
  {
   "cell_type": "code",
   "execution_count": 6,
   "id": "d85bdfee",
   "metadata": {},
   "outputs": [],
   "source": [
    "# RS HD page 171 (chrome), 84 book\n",
    "def fit_svdpp(train_data, val_data, Rus, n_users, n_items, k, α1=.01, α2=.01, α3=.01, α4=.01, α5=.01, λ1=.01, λ2=.01, n_iters=20):\n",
    "    \"\"\"\n",
    "    train_data: array Nx3\n",
    "    \"\"\"\n",
    "    val_ui = uir_val[:, :2]\n",
    "    val_exp = uir_val[:, -1]\n",
    "    \n",
    "    bu = np.zeros(n_users, np.double)\n",
    "    bi = np.zeros(n_items, np.double)\n",
    "    \n",
    "    P = np.random.normal(0, .1, (n_users, k))\n",
    "    Q = np.random.normal(0, .1, (n_items, k))\n",
    "    Y = np.random.normal(0, .1, (n_items, k))\n",
    "    \n",
    "    μ = np.mean(train_data[:, 2])\n",
    "    \n",
    "    model_params = None\n",
    "    best_epoch = 0\n",
    "    prev_val_loss = math.inf\n",
    "    \n",
    "    t = trange(n_iters, leave=True)\n",
    "    for it in t:\n",
    "        loss = step(train_data, Rus, n_users, n_items, k, α1, α2, α3, α4, α5, λ1, λ2, μ, bi, bu, P, Q, Y)\n",
    "#         α1 *= 0.9\n",
    "#         α2 *= 0.9\n",
    "#         α3 *= 0.9\n",
    "#         α4 *= 0.9\n",
    "#         α5 *= 0.9\n",
    "        \n",
    "        val_preds = predict_batch(val_ui, Rus, (μ, bu, bi, P, Q, Y))\n",
    "        val_loss = np.sqrt(1/n_val * np.sum((val_preds - val_exp)**2))\n",
    "        t.set_postfix({\"Loss\": loss, \"Val\": val_loss})\n",
    "        \n",
    "        if val_loss < prev_val_loss:\n",
    "            prev_val_loss = val_loss\n",
    "            model_params = (μ, bu.copy(), bi.copy(), P.copy(), Q.copy(), Y.copy())\n",
    "            best_epoch = it\n",
    "    \n",
    "#     return μ, bu, bi, P, Q, Y\n",
    "    return model_params"
   ]
  },
  {
   "cell_type": "markdown",
   "id": "2288cdfe",
   "metadata": {},
   "source": [
    "## Fit"
   ]
  },
  {
   "cell_type": "code",
   "execution_count": 7,
   "id": "8aada534",
   "metadata": {},
   "outputs": [],
   "source": [
    "@njit\n",
    "def predict(u, i, Rus, params):\n",
    "    μ, bu, bi, P, Q, Y = params\n",
    "    k = P.shape[1]\n",
    "    \n",
    "    Ru = Rus[u]\n",
    "    sqrt_Ru = np.sqrt(len(Ru))\n",
    "\n",
    "    implicit_feedback = np.zeros(k)\n",
    "    for j in Ru:\n",
    "        implicit_feedback += Y[j]\n",
    "    implicit_feedback /= (sqrt_Ru+1e-15)\n",
    "\n",
    "    pred = μ + bu[u] + bi[i] + np.dot(Q[i], P[u] + implicit_feedback)\n",
    "    \n",
    "    return pred"
   ]
  },
  {
   "cell_type": "code",
   "execution_count": 8,
   "id": "3c9cd418",
   "metadata": {},
   "outputs": [],
   "source": [
    "@njit(parallel=True, nogil=True)\n",
    "def predict_batch_inner(ui_mat, Rus, params, progress_hook):\n",
    "    predictions = np.zeros(len(ui_mat))\n",
    "    for it in prange(ui_mat.shape[0]):\n",
    "        u, i = ui_mat[it]\n",
    "        predictions[it] = predict(u, i, Rus, params)\n",
    "        if np.isnan(predictions[it]):\n",
    "            print(u, i)\n",
    "            \n",
    "        progress_hook.update(1)\n",
    "        \n",
    "    return np.clip(predictions, 1., 5.)\n",
    "\n",
    "def predict_batch_progress_bar(ui_mat, Rus, params):\n",
    "    with ProgressBar(total=len(ui_mat)) as progress:\n",
    "        return predict_batch_inner(ui_mat, Rus, params, progress)\n",
    "    \n",
    "@njit(parallel=True, nogil=True)\n",
    "def predict_batch(ui_mat, Rus, params):\n",
    "    predictions = np.zeros(len(ui_mat))\n",
    "    for it in prange(ui_mat.shape[0]):\n",
    "        u, i = ui_mat[it]\n",
    "        predictions[it] = predict(u, i, Rus, params)\n",
    "        \n",
    "    return np.clip(predictions, 1., 5.)"
   ]
  },
  {
   "cell_type": "code",
   "execution_count": 9,
   "id": "6e94e386",
   "metadata": {},
   "outputs": [],
   "source": [
    "# # α1 = 0.005\n",
    "# # α2 = 0.005\n",
    "# # α3 = 0.006\n",
    "# # α4 = 0.006\n",
    "# # α5 = 0.006\n",
    "# # k = 5\n",
    "\n",
    "# α1 = 0.005\n",
    "# α2 = 0.005\n",
    "# α3 = 0.005\n",
    "# α4 = 0.005\n",
    "# α5 = 0.005\n",
    "# λ1 = 0.01\n",
    "# λ2 = 0.1\n",
    "# k = 4\n",
    "# fitted_params = fit_svdpp(\n",
    "#     uir_train, uir_val, irbu, users, items, k, \n",
    "#     α1, α2, α3, α4, α5, λ1, λ2,\n",
    "#     n_iters=30,\n",
    "# )"
   ]
  },
  {
   "cell_type": "code",
   "execution_count": 10,
   "id": "41139716",
   "metadata": {},
   "outputs": [],
   "source": [
    "# val_preds = predict_batch(uir_val[:, :2], irbu, fitted_params)\n",
    "# val_expected = uir_val[:, 2]\n",
    "\n",
    "# error = np.sqrt(1/n_val * np.sum((val_preds - val_expected)**2))\n",
    "# print(error)\n",
    "\n",
    "# ERROR 0.8990364518921785"
   ]
  },
  {
   "cell_type": "markdown",
   "id": "be5919ac",
   "metadata": {},
   "source": [
    "## Multiple Train"
   ]
  },
  {
   "cell_type": "code",
   "execution_count": 11,
   "id": "cc3ea39b",
   "metadata": {},
   "outputs": [],
   "source": [
    "params_product = [\n",
    "    (0.005, 0.005, 0.01, 0.01, 4),\n",
    "    (0.005, 0.005, 0.01, 0.01, 5),\n",
    "    (0.005, 0.005, 0.01, 0.01, 50),\n",
    "    (0.005, 0.005, 0.01, 0.01, 100),\n",
    "    (0.005, 0.005, 0.01, 0.1, 4),\n",
    "    (0.005, 0.005, 0.01, 0.1, 5),\n",
    "    (0.005, 0.005, 0.01, 0.1, 50),\n",
    "    (0.005, 0.005, 0.01, 0.1, 100),\n",
    "    (0.005, 0.005, 0.1, 0.1, 4),\n",
    "    (0.005, 0.005, 0.1, 0.1, 5),\n",
    "    (0.005, 0.005, 0.1, 0.1, 50),\n",
    "    (0.005, 0.005, 0.1, 0.1, 100),\n",
    "    (0.006, 0.005, 0.01, 0.1, 4),\n",
    "    (0.006, 0.005, 0.01, 0.1, 5),\n",
    "    (0.006, 0.005, 0.01, 0.1, 50),\n",
    "    (0.006, 0.005, 0.01, 0.1, 100),\n",
    "    (0.005, 0.006, 0.01, 0.1, 4),\n",
    "    (0.005, 0.006, 0.01, 0.1, 5),\n",
    "    (0.005, 0.006, 0.01, 0.1, 50),\n",
    "    (0.005, 0.006, 0.01, 0.1, 100),\n",
    "]"
   ]
  },
  {
   "cell_type": "code",
   "execution_count": 12,
   "id": "d2dfab5a",
   "metadata": {},
   "outputs": [],
   "source": [
    "def train_val(\n",
    "    uir_train,\n",
    "    uir_val,\n",
    "    users,\n",
    "    movies,\n",
    "    k,\n",
    "    α1,\n",
    "    α2,\n",
    "    α3,\n",
    "    α4,\n",
    "    α5,\n",
    "    λ1,\n",
    "    λ2,\n",
    "    irbu,\n",
    "    n_iters,\n",
    "):\n",
    "    fitted_params = fit_svdpp(\n",
    "        uir_train, uir_val, irbu, users, items, k, \n",
    "        α1, α2, α3, α4, α5, λ1, λ2, n_iters,\n",
    "    )\n",
    "    \n",
    "    val_preds = predict_batch(uir_val[:, :2], irbu, fitted_params)\n",
    "    val_expected = uir_val[:, 2]\n",
    "    error = np.sqrt(1/n_val * np.sum((val_preds - val_expected)**2))\n",
    "    \n",
    "    return α1, α2, α3, α4, α5, λ1, λ2, k, error"
   ]
  },
  {
   "cell_type": "code",
   "execution_count": 13,
   "id": "2ce05215",
   "metadata": {},
   "outputs": [
    {
     "data": {
      "application/vnd.jupyter.widget-view+json": {
       "model_id": "9de3875453904f72b72aebe4d3af0efc",
       "version_major": 2,
       "version_minor": 0
      },
      "text/plain": [
       "  0%|          | 0/20 [00:00<?, ?it/s]"
      ]
     },
     "metadata": {},
     "output_type": "display_data"
    },
    {
     "data": {
      "application/vnd.jupyter.widget-view+json": {
       "model_id": "bc670b16fcd84a03aa7b4f5a74e0243e",
       "version_major": 2,
       "version_minor": 0
      },
      "text/plain": [
       "  0%|          | 0/23 [00:00<?, ?it/s]"
      ]
     },
     "metadata": {},
     "output_type": "display_data"
    },
    {
     "data": {
      "application/vnd.jupyter.widget-view+json": {
       "model_id": "5c8954f4474c44f59d4ae2ab4679aea8",
       "version_major": 2,
       "version_minor": 0
      },
      "text/plain": [
       "  0%|          | 0/23 [00:00<?, ?it/s]"
      ]
     },
     "metadata": {},
     "output_type": "display_data"
    },
    {
     "data": {
      "application/vnd.jupyter.widget-view+json": {
       "model_id": "93161fa181144a83a72e64bb39bd7501",
       "version_major": 2,
       "version_minor": 0
      },
      "text/plain": [
       "  0%|          | 0/23 [00:00<?, ?it/s]"
      ]
     },
     "metadata": {},
     "output_type": "display_data"
    },
    {
     "data": {
      "application/vnd.jupyter.widget-view+json": {
       "model_id": "ba56003ac84d4e538a8391d78f4a07f0",
       "version_major": 2,
       "version_minor": 0
      },
      "text/plain": [
       "  0%|          | 0/23 [00:00<?, ?it/s]"
      ]
     },
     "metadata": {},
     "output_type": "display_data"
    },
    {
     "data": {
      "application/vnd.jupyter.widget-view+json": {
       "model_id": "f8b8e5586efe4b14b7e3689d5529470f",
       "version_major": 2,
       "version_minor": 0
      },
      "text/plain": [
       "  0%|          | 0/23 [00:00<?, ?it/s]"
      ]
     },
     "metadata": {},
     "output_type": "display_data"
    },
    {
     "data": {
      "application/vnd.jupyter.widget-view+json": {
       "model_id": "a82d394573a94169892c387b2bdbe422",
       "version_major": 2,
       "version_minor": 0
      },
      "text/plain": [
       "  0%|          | 0/23 [00:00<?, ?it/s]"
      ]
     },
     "metadata": {},
     "output_type": "display_data"
    },
    {
     "data": {
      "application/vnd.jupyter.widget-view+json": {
       "model_id": "0a1d69694ac141dfb94a321cf00abc88",
       "version_major": 2,
       "version_minor": 0
      },
      "text/plain": [
       "  0%|          | 0/23 [00:00<?, ?it/s]"
      ]
     },
     "metadata": {},
     "output_type": "display_data"
    },
    {
     "data": {
      "application/vnd.jupyter.widget-view+json": {
       "model_id": "142d6175af5a4891ac07b8ab9875a5a7",
       "version_major": 2,
       "version_minor": 0
      },
      "text/plain": [
       "  0%|          | 0/23 [00:00<?, ?it/s]"
      ]
     },
     "metadata": {},
     "output_type": "display_data"
    },
    {
     "data": {
      "application/vnd.jupyter.widget-view+json": {
       "model_id": "d72aa51a6085414091e59fc12ed07e29",
       "version_major": 2,
       "version_minor": 0
      },
      "text/plain": [
       "  0%|          | 0/23 [00:00<?, ?it/s]"
      ]
     },
     "metadata": {},
     "output_type": "display_data"
    },
    {
     "data": {
      "application/vnd.jupyter.widget-view+json": {
       "model_id": "f51df247e1494c62963d3046e612889f",
       "version_major": 2,
       "version_minor": 0
      },
      "text/plain": [
       "  0%|          | 0/23 [00:00<?, ?it/s]"
      ]
     },
     "metadata": {},
     "output_type": "display_data"
    },
    {
     "data": {
      "application/vnd.jupyter.widget-view+json": {
       "model_id": "998943cf8de044febee5daff62b0d381",
       "version_major": 2,
       "version_minor": 0
      },
      "text/plain": [
       "  0%|          | 0/23 [00:00<?, ?it/s]"
      ]
     },
     "metadata": {},
     "output_type": "display_data"
    },
    {
     "data": {
      "application/vnd.jupyter.widget-view+json": {
       "model_id": "32c7caa17af24529a9f3dbab03a6a2bc",
       "version_major": 2,
       "version_minor": 0
      },
      "text/plain": [
       "  0%|          | 0/23 [00:00<?, ?it/s]"
      ]
     },
     "metadata": {},
     "output_type": "display_data"
    },
    {
     "data": {
      "application/vnd.jupyter.widget-view+json": {
       "model_id": "133dc0b3a8724f95ae95554b06e9e0cf",
       "version_major": 2,
       "version_minor": 0
      },
      "text/plain": [
       "  0%|          | 0/23 [00:00<?, ?it/s]"
      ]
     },
     "metadata": {},
     "output_type": "display_data"
    },
    {
     "data": {
      "application/vnd.jupyter.widget-view+json": {
       "model_id": "0415e09a4bed4470bd617bcacf8e9eeb",
       "version_major": 2,
       "version_minor": 0
      },
      "text/plain": [
       "  0%|          | 0/23 [00:00<?, ?it/s]"
      ]
     },
     "metadata": {},
     "output_type": "display_data"
    },
    {
     "data": {
      "application/vnd.jupyter.widget-view+json": {
       "model_id": "f77c228446794fd0b24b911605ffaed0",
       "version_major": 2,
       "version_minor": 0
      },
      "text/plain": [
       "  0%|          | 0/23 [00:00<?, ?it/s]"
      ]
     },
     "metadata": {},
     "output_type": "display_data"
    },
    {
     "data": {
      "application/vnd.jupyter.widget-view+json": {
       "model_id": "e50be24ea4894875ae4755c30a2b2c3a",
       "version_major": 2,
       "version_minor": 0
      },
      "text/plain": [
       "  0%|          | 0/23 [00:00<?, ?it/s]"
      ]
     },
     "metadata": {},
     "output_type": "display_data"
    },
    {
     "data": {
      "application/vnd.jupyter.widget-view+json": {
       "model_id": "aa4c9c4d012340fd8056a82667aa6e1f",
       "version_major": 2,
       "version_minor": 0
      },
      "text/plain": [
       "  0%|          | 0/23 [00:00<?, ?it/s]"
      ]
     },
     "metadata": {},
     "output_type": "display_data"
    },
    {
     "data": {
      "application/vnd.jupyter.widget-view+json": {
       "model_id": "d4b7d429294447de9827f207318bf7f4",
       "version_major": 2,
       "version_minor": 0
      },
      "text/plain": [
       "  0%|          | 0/23 [00:00<?, ?it/s]"
      ]
     },
     "metadata": {},
     "output_type": "display_data"
    },
    {
     "data": {
      "application/vnd.jupyter.widget-view+json": {
       "model_id": "62fdc7cda2d24695a3428f6efadfbf28",
       "version_major": 2,
       "version_minor": 0
      },
      "text/plain": [
       "  0%|          | 0/23 [00:00<?, ?it/s]"
      ]
     },
     "metadata": {},
     "output_type": "display_data"
    },
    {
     "data": {
      "application/vnd.jupyter.widget-view+json": {
       "model_id": "a6b42db42cf94f6e9c267d4d066175e1",
       "version_major": 2,
       "version_minor": 0
      },
      "text/plain": [
       "  0%|          | 0/23 [00:00<?, ?it/s]"
      ]
     },
     "metadata": {},
     "output_type": "display_data"
    }
   ],
   "source": [
    "out = [\n",
    "    train_val(\n",
    "        uir_train, \n",
    "        uir_val,\n",
    "        users, \n",
    "        items,\n",
    "        k=f, \n",
    "        α1=lr1,\n",
    "        α2=lr1,\n",
    "        α3=lr2,\n",
    "        α4=lr2,\n",
    "        α5=lr2,\n",
    "        λ1=lamb1, \n",
    "        λ2=lamb2,\n",
    "        irbu=irbu,\n",
    "        n_iters=23,\n",
    "    )\n",
    "    for lr1, lr2, lamb1, lamb2, f in tqdm(params_product)\n",
    "]"
   ]
  },
  {
   "cell_type": "code",
   "execution_count": 14,
   "id": "fd7f6bbb",
   "metadata": {},
   "outputs": [
    {
     "name": "stdout",
     "output_type": "stream",
     "text": [
      "(0.005, 0.005, 0.005, 0.005, 0.005, 0.1, 0.1, 4, 0.8987911144656349)\n"
     ]
    }
   ],
   "source": [
    "print(sorted(out, key=lambda x: x[-1])[0])"
   ]
  }
 ],
 "metadata": {
  "kernelspec": {
   "display_name": "Python 3 (ipykernel)",
   "language": "python",
   "name": "python3"
  },
  "language_info": {
   "codemirror_mode": {
    "name": "ipython",
    "version": 3
   },
   "file_extension": ".py",
   "mimetype": "text/x-python",
   "name": "python",
   "nbconvert_exporter": "python",
   "pygments_lexer": "ipython3",
   "version": "3.10.4"
  }
 },
 "nbformat": 4,
 "nbformat_minor": 5
}
