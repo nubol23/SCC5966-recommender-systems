{
 "cells": [
  {
   "cell_type": "code",
   "execution_count": 1,
   "id": "9dbd4ff4",
   "metadata": {},
   "outputs": [],
   "source": [
    "import pandas as pd"
   ]
  },
  {
   "cell_type": "code",
   "execution_count": 2,
   "id": "51f85497",
   "metadata": {},
   "outputs": [],
   "source": [
    "interactions = pd.read_csv(\"../Preprocessing/processed_dataframes/interactions.csv\")\n",
    "recipes = pd.read_csv(\"../Preprocessing/processed_dataframes/recipes_with_text.csv\")\n",
    "recipes.sort_values(by=[\"recipe_id\"], inplace=True)"
   ]
  },
  {
   "cell_type": "markdown",
   "id": "aeadf755",
   "metadata": {},
   "source": [
    "Average ratings per recipe"
   ]
  },
  {
   "cell_type": "markdown",
   "id": "30ca9e97",
   "metadata": {},
   "source": [
    "## Train on extended data"
   ]
  },
  {
   "cell_type": "code",
   "execution_count": 3,
   "id": "e482c3fc",
   "metadata": {},
   "outputs": [],
   "source": [
    "import sys\n",
    "sys.path.append(\"../\")\n",
    "\n",
    "from torch.utils.data import DataLoader\n",
    "\n",
    "n_users = 226570+1\n",
    "n_items = 231637"
   ]
  },
  {
   "cell_type": "code",
   "execution_count": 5,
   "id": "83808004",
   "metadata": {},
   "outputs": [],
   "source": [
    "from SVD.train_funcs.svd import fit_svd, predict_batch_svd\n",
    "import numpy as np\n",
    "\n",
    "def rmse(uir_val, predict_func, **kwargs):\n",
    "    val_preds = predict_func(uir_val[:, :2], **kwargs)\n",
    "    val_expected = uir_val[:, 2]\n",
    "\n",
    "    return np.sqrt(1/len(uir_val) * np.sum((val_preds - val_expected)**2))\n",
    "\n",
    "train_data = pd.read_csv(\"extended_train.csv\")\n",
    "validation_data = pd.read_csv(\"../Preprocessing/processed_dataframes/val.csv\")\n",
    "uir_train = train_data.values\n",
    "uir_val = validation_data.values"
   ]
  },
  {
   "cell_type": "code",
   "execution_count": 6,
   "id": "b1344014",
   "metadata": {},
   "outputs": [
    {
     "data": {
      "application/vnd.jupyter.widget-view+json": {
       "model_id": "0e86671f2c4f476fa1b23684ca367d36",
       "version_major": 2,
       "version_minor": 0
      },
      "text/plain": [
       "  0%|          | 0/75 [00:00<?, ?it/s]"
      ]
     },
     "metadata": {},
     "output_type": "display_data"
    },
    {
     "name": "stdout",
     "output_type": "stream",
     "text": [
      "0.8986538981046014\n"
     ]
    }
   ],
   "source": [
    "fitted_params_svd = fit_svd(\n",
    "    uir_train, uir_val, n_users, n_items, k=4, \n",
    "    α1=0.005, α2=0.005, α3=0.005, α4=0.005, λ1=0.01, λ2=0.1,\n",
    "    n_iters=75,\n",
    ")\n",
    "\n",
    "print(rmse(uir_val, predict_batch_svd, params=fitted_params_svd))"
   ]
  },
  {
   "cell_type": "markdown",
   "id": "04baa116",
   "metadata": {},
   "source": [
    "Get items ids that are not rated by the user"
   ]
  },
  {
   "cell_type": "code",
   "execution_count": 7,
   "id": "0163d5f5",
   "metadata": {},
   "outputs": [],
   "source": [
    "my_user_id = interactions[\"user_id\"].max() + 1\n",
    "my_ratings = pd.read_csv(\"my_ratings.csv\")"
   ]
  },
  {
   "cell_type": "code",
   "execution_count": 8,
   "id": "bdc9448d",
   "metadata": {},
   "outputs": [],
   "source": [
    "unrated_ids = []\n",
    "for i in range(n_items):\n",
    "    if i not in my_ratings[\"recipe_id\"].tolist():\n",
    "        unrated_ids.append(i)"
   ]
  },
  {
   "cell_type": "markdown",
   "id": "2b514256",
   "metadata": {},
   "source": [
    "Predict"
   ]
  },
  {
   "cell_type": "code",
   "execution_count": 10,
   "id": "a2e57443",
   "metadata": {},
   "outputs": [],
   "source": [
    "unrated_ui_mat = np.array([\n",
    "    [my_user_id]*len(unrated_ids),\n",
    "    unrated_ids,\n",
    "]).T\n",
    "\n",
    "predictions_for_me = predict_batch_svd(unrated_ui_mat, fitted_params_svd)"
   ]
  },
  {
   "cell_type": "markdown",
   "id": "0a365dee",
   "metadata": {},
   "source": [
    "Top 10 recommended recipes"
   ]
  },
  {
   "cell_type": "code",
   "execution_count": 12,
   "id": "5a1ad4c3",
   "metadata": {},
   "outputs": [],
   "source": [
    "id_rating_pair_list = [(prediction, recipe_id) for recipe_id, prediction in zip(unrated_ids, predictions_for_me)]\n",
    "id_rating_pair_list.sort(reverse=True)"
   ]
  },
  {
   "cell_type": "code",
   "execution_count": 13,
   "id": "08243e20",
   "metadata": {},
   "outputs": [
    {
     "name": "stdout",
     "output_type": "stream",
     "text": [
      "Name: blueberry sour cream pie\n",
      "\n",
      "mix sugar and flour together in bowl, beat in sour cream , egg , vanilla and salt together until smooth, fold in blueberries, pour into pie crust , and bake at 400f for 25 minutes, meanwhile , combine topping ingredients, remove pie from oven after the 25 minutes , and sprinkle on topping, return pie to oven and bake 10 minutes more, chill before serving\n",
      "--------------------------------------------------\n",
      "Name: caprese salad tomatoes  italian marinated tomatoes\n",
      "\n",
      "mix all ingredients together and set on counter stirring occasionally, the salt will bring out the juice of the tomatoes, taste and add more seasonings to your personal taste, you can use fresh basil or oregano if preferred , just remember to chopped finely and use a little less than dried, uses: serve with almost any meal as a side, on top of a green salad, use as a topping for bruschetta--just chop tomatoes instead of slicing, use for caprese salad--add sliced buffalo mozzarella and you're done, have some leftover juice: place some sliced chicken breasts and marinate over night , then carefully remove the chicken and quickly saut them until done, add remaining juice and tomatoes , boil for 1-2 minutes and then add cooked penne pasta , toss , and simmer for 5-6 minutes, juice uses: you can reuse the \"marinade\" with new tomatoes, just add some more sliced tomatoes to the juice and let sit for about 20 minutes, or use the juice and marinate boneless chicken breast overnight in refrigerator , grill and serve or slice chicken and top a caesar salad with it\n",
      "--------------------------------------------------\n",
      "Name: kittencal s balsamic vinaigrette\n",
      "\n",
      "in a bowl whisk together garlic , salt , dijon , honey and balsamic vinegar, add in olive oil in a slow steady stream until emulsified, season with more salt if needed and black pepper, chill for a minimum of 2 hours before using\n",
      "--------------------------------------------------\n",
      "Name: absolutely the best new york cheesecake  gluten free\n",
      "\n",
      "preheat the oven to 375f and prep a large spring form pan as follows: place a sheet of parchment paper over the inside bottom of the springform pan , fit the rim and lock in place, trim excess paper from the underside of the pan, place a large sheet of heavy duty aluminum foil on counter, place the locked pan in center and raise up the foil to top rim, crinkle around the outer top of rim, using some firm butter , fill in the inside lower rim of pan , using your finger to form a smooth lining, place in freezer while you make the batter, you can also grease the sides of the pan and cut parchment to fit around the in sides as well, beat cream cheese and sugar till smooth, add sour cream , then eggs, add remaining ingredients, mix on medium speed until well incorporated , scraping down sides of bowl several times while mixing to prevent lumps), remove the spring form pan from freezer, place pan onto a dishcloth onto counter and pour batter into pan, with your palms around the outside rim of the pan , gently lift and drop down pan onto the towel, rotate an inch or so and repeat a few times to raise and release air bubbles from batter, set the spring form pan into a water bath, this is for even cooking and to preserve moisture), bake at 375f for 30 minutes, without opening oven door , reduce temperature to 250f and continue to bake for an additional two hours or until center of cake registers 150f with a digital thermometer, remove from oven , water bath , and outer foil, do not unlock the spring form pan ! place on cooling rack for 60 minutes, loosen cake from sides by going between the cake and the pan with the edge of a knife, refrigerate for at minimum of four hours but overnight is best, unlock and remove the side of pan, for easier slicing , use dental floss, taut between your hands , press down over cake , then let go of one end , and slide out from side, rotate and repeat for desired amount of slices , thick or thin is up to you !\n",
      "--------------------------------------------------\n",
      "Name: my chicken parmigiana\n",
      "\n",
      "beat egg and set into a rimmed plate, set bread crumbs in a second rimmed plate, dip chicken breasts into the egg , then into the crumbs , coating both sides and shaking off excess, melt butter or margarine over medium heat in a large , deep skillet, add chicken breast halves to the pan and brown on both sides - just enough to brown the chicken , not to fully cook it yet, pour spaghetti sauce into the pan , immediately reduce heat to low , cover , and simmer until the chicken has cooked all the way through , about 15-20 minutes but the time will vary depending upon the thickness and size of your chicken breasts, sprinkle with parsley and cheeses , re-cover , and simmer just until cheese melts- about 5 minutes, serve with cooked spaghetti\n",
      "--------------------------------------------------\n",
      "Name: pipin  hot bakery whole wheat tortillas\n",
      "\n",
      "combine flours , baking powder , and salt, stir in the oil and water all at once , using mixer or a fork , and toss quickly, when dough can be gathered into a soft mass , turn onto floured surface and knead a few times, form 8 balls of dough , dredge in flour , and store in a plastic bag to prevent drying until ready to be used, flatten first ball of dough into a disk, roll out dough on floured surface until 7 inches or larger with even strokes that do not reach to the edge , turning over frequently, place tortilla in ungreased , frying pan that has been preheated to medium-high heat, cook 30-40 seconds on one side , turn over with spatula and cook 30-40 seconds on other side, , first side should be pale and sprinkled with brown spots and the other side will be blotched, repeat process with other balls of dough, stack tortillas on a plate as they are cooked and cover them with a dish towel , which will keep them soft\n",
      "--------------------------------------------------\n",
      "Name: cheat n  eat vietnamese chicken soup\n",
      "\n",
      "soak noodles in very hot tap water, while noodles are soaking , cut chicken into thin julienne strips, heat oil in deep skillet over medium-high heat, add chicken, garlic , ginger , and pepper flakes, cook , stirring for 1 minute, then add broth and fish sauce and bring to a boil, reduce heat to medium and simmer until chicken is done , about 8 minutes, drain noodles and cut into short pieces , about 1-1 1 / 2 inches long, arrange noodles in bottom of bowls, ladle soup over the top and sprinkle with cilantro , onion , and basil, serve with\"tuong ot sriracha\" , or chile paste , if desired\n",
      "--------------------------------------------------\n",
      "Name: sucking cowboy   buttery nipple\n",
      "\n",
      "layer in a shot glass with the bailey's on top, 1 , 2 , 3 down\n",
      "--------------------------------------------------\n",
      "Name: worm sandwiches\n",
      "\n",
      "slice hot dogs into long strips lengthwise, boil strips in water until they curl , and look like worms, toss hot strips with ketchup to make them look even grosser !, serve on buns\n",
      "--------------------------------------------------\n",
      "Name: 2  handed kitchen sink tomato sandwich\n",
      "\n",
      "in the peak of tomato season , chill 1 very large or 2 medium size tomatoes that have been vine-ripened and have plenty juice, take 2- slices of bread and coat them with 1 / 4 inch good mayonnaise, add layer of tomatoes cut 1 / 4 inch thick, salt & pepper to taste, add another slice of tomatoes and salt and pepper to taste again, add the other piece of bread on top of this, roll up your sleeves and start eating over the kitchen sink while the juice runs down your elbows\n",
      "--------------------------------------------------\n"
     ]
    }
   ],
   "source": [
    "for _, recipe_id in id_rating_pair_list[:10]:\n",
    "    recipe_data = recipes.iloc[recipe_id]\n",
    "#     print(recipe_data[\"name\"])\n",
    "    print(\"Name:\", recipe_data[\"name\"])\n",
    "    print()\n",
    "    print(\", \".join(eval(recipe_data[\"steps\"])))\n",
    "    print(\"-\"*50)"
   ]
  }
 ],
 "metadata": {
  "kernelspec": {
   "display_name": "Python 3 (ipykernel)",
   "language": "python",
   "name": "python3"
  },
  "language_info": {
   "codemirror_mode": {
    "name": "ipython",
    "version": 3
   },
   "file_extension": ".py",
   "mimetype": "text/x-python",
   "name": "python",
   "nbconvert_exporter": "python",
   "pygments_lexer": "ipython3",
   "version": "3.10.4"
  }
 },
 "nbformat": 4,
 "nbformat_minor": 5
}
