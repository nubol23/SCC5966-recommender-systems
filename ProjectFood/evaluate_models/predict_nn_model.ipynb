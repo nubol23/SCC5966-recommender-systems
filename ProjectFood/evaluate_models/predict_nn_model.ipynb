{
 "cells": [
  {
   "cell_type": "code",
   "execution_count": 1,
   "id": "9dbd4ff4",
   "metadata": {},
   "outputs": [],
   "source": [
    "import pandas as pd"
   ]
  },
  {
   "cell_type": "code",
   "execution_count": 2,
   "id": "51f85497",
   "metadata": {},
   "outputs": [],
   "source": [
    "interactions = pd.read_csv(\"../Preprocessing/processed_dataframes/interactions.csv\")\n",
    "recipes = pd.read_csv(\"../Preprocessing/processed_dataframes/recipes_with_text.csv\")\n",
    "recipes.sort_values(by=[\"recipe_id\"], inplace=True)"
   ]
  },
  {
   "cell_type": "markdown",
   "id": "aeadf755",
   "metadata": {},
   "source": [
    "Average ratings per recipe"
   ]
  },
  {
   "cell_type": "code",
   "execution_count": 3,
   "id": "3e4e02e6",
   "metadata": {},
   "outputs": [],
   "source": [
    "avg_ratings = interactions.drop([\"user_id\"], axis=1).groupby(\"recipe_id\", as_index=False).mean().sort_values(by=[\"rating\"], ascending=False)"
   ]
  },
  {
   "cell_type": "markdown",
   "id": "59b366b1",
   "metadata": {},
   "source": [
    "Show Top 20 most rated recipes"
   ]
  },
  {
   "cell_type": "code",
   "execution_count": 4,
   "id": "cf45626e",
   "metadata": {
    "scrolled": true
   },
   "outputs": [
    {
     "name": "stdout",
     "output_type": "stream",
     "text": [
      "Name: roast chicken with grand marnier glaze (112390)\n",
      "\n",
      "prep the chicken, remove the insides and rinse with water and then pat dry, rub the bird with olive oil and then season with salt , pepper , and rosemary, place in roasting pan and put the orange and onion quarters inside, roast at 400 degrees for 20 minutes, then turn your oven down to 350 degrees for 1 hour more, while bird is cooking , make your glaze, melt the butter , mustard , honey , and apricot jam til bubbly and then take off heat and add grand marnier, can keep on low to keep warm, when there is 40 minutes left of cook time , pour about half the glaze over the bird and then let it finish cooking, pull bird out , let rest for 10 minutes so juices can recollect, after carving it up and putting meat on platter , drizzle the pieces with the rest of the glaze, garnish with fresh rosemary sprigs\n",
      "--------------------------------------------------\n",
      "Name: forty four (134173)\n",
      "\n",
      "get a large , clean glass jar that you can tightly close, wash the orange to remove any dirt , dust or wax, with a sharp, fully insert a coffee bean into each slit, put 44 sugar cubes into the glass jar, put the orange into the jar, pour all of the vodka into the jar, shake or swirl the jar gently until the sugar is about half dissolved, stash the jar in a dark , cool place that your not going into a lot, gently shake or swirl the jar daily for 44 days\n",
      "--------------------------------------------------\n",
      "Name: cheesy potatoes w  corn flakes (134161)\n",
      "\n",
      "take hash browns out of freezer , keep in bag , set aside, in microwave , melt 1 stick of butter in large bowl, mix in sour cream , cheese and cream of chicken soup, in 9x13 pan , spread hash browns, spread sour cream , cheese , and soup mixture on top, melt 1 / 2 stick of butter on stovetop , mix in corn flakes , stir until butter is absorbed, you may need / want to add more corn flakes, sprinkle corn flakes on top of sour cream , cheese and soup mixture, bake 1 hour at 350\n",
      "--------------------------------------------------\n",
      "Name: herbed bread  bread machine (134162)\n",
      "\n",
      "in bread machine pan , place all ingredients in order suggested by manufacturer, select basic bread setting, choose crust color and loaf size if available, bake according to bread machine directions\n",
      "--------------------------------------------------\n",
      "Name: sunflower rye bread (134165)\n",
      "\n",
      "in bread machine pan , place all ingredients in order suggested by manufacturer, select wheat bread setting, choose crust color and loaf size if available, bake according to bread machine directions\n",
      "--------------------------------------------------\n",
      "Name: paprika onion bread  bread machine (134170)\n",
      "\n",
      "in bread machine pan , place all ingredients in order suggested by manufacturer, select basic bread setting, choose crust color and loaf size if available, bake according to bread machine directions\n",
      "--------------------------------------------------\n",
      "Name: cheese and herb ravioli filling (134171)\n",
      "\n",
      "in a mixing bowl , thoroughly combine all ingredients, chill in the refrigerator for a few minutes to firm up\n",
      "--------------------------------------------------\n",
      "Name: black cherry cream parfaits (134172)\n",
      "\n",
      "in a bowl , dissolve gelatin in boiling water, stir in soda, refrigerate for 2 hours or until partially set, in a mixing bowl , beat cream until it begins to thicken, add confectioners' sugar, beat until soft peaks form, stir cherries and walnuts into gelatin, fold in whipped cream, spoon into parfait glasses, refrigerate until firm, yield: 10 servings\n",
      "--------------------------------------------------\n",
      "Name: candied violets (134174)\n",
      "\n",
      "make a syrup by stirring water into sugar in small saucepan, boil till slightly thickened, stir in almond extract, let syrup cool a little, place the violets , a few at a time into syrup, make sure that they are completely covered, remove from syrup and place on wax paper to dry\n",
      "--------------------------------------------------\n",
      "Name: breaded baked tomatoes (134194)\n",
      "\n",
      "lightly grease baking pan, core tomatoes and cut them in half , place in pan, apply seasonings evenly and sprinkle chili on tomatoes if so desired, drizzle tomatoes with oil or butter, cover tomatoes liberally with breadcrumbs, bake at 425 for 20-30 minutes, serve with cous cous or rice\n",
      "--------------------------------------------------\n",
      "Name: sassy chicken enchiladas (134184)\n",
      "\n",
      "preheat oven to 350, cook chicken breasts on grill - let sit till it's cool enough to shred, in a med size mixing bowl , mix the shredded 1 1 / 2 to 2 chicken breasts and put in bowl with green chilies , goat cheese , cheddar , colby / jack , salt and pepper , and sour cream, divvy up into 8 equal , separate piles, set aside, pour 3 / 4 cup enchilada sauce in bottom of 9x13 metal nonstick pan, take 1 tortilla and dip one side in the sauce inside the pan, spread 1 'pile' evenly down middle of tort and roll tightly , placing seem side down, repeat with 7 remaining, pour remaining sauce evenly over top and finish with reserved 1 / 4 cup cheddar, bake in 375 preheated oven for 20-25 min or until sauce in bottom of pan is bubbling and the enchiladas are cooked through, garnish with sour cream and green onion if desired\n",
      "--------------------------------------------------\n",
      "Name: potion   9 (134185)\n",
      "\n",
      "fill pint or sour glass full of ice, add vodka , chambord , cranberry juice and stir with a cocktail stirrer, float 1 / 2 oz 7up on top and garnish with a lemon twist\n",
      "--------------------------------------------------\n",
      "Name: vietnamese shrimp and glass noodle salad (134188)\n",
      "\n",
      "make vietnamese dressing:, simply mix all the ingredients together, this will keep very well in a tightly sealed jar in the refrigerator for at least a week, make the shrimp salad:, marinate the shrimp in 1 / 2 cup of the vietnamese dressing, while this is going on , soak the noodles in freshly boiled water according to packet instructions, once re-hydrated , refresh the noodles in cold water , then drain, put the sugar snaps and bean sprouts into a colander and pour over freshly boiled water from a kettle, rinse them with cold water and drain well , just shaking the colander , so they're not actually wet, in a large bowl , mix the marinated shrimp with the drained noodles , scallions , sugar snaps , and bean sprouts, dress with 2 tablespoons more of the vietnamese dressing, add more dressing , to taste , if desired, sprinkle over the chopped cilantro and toss everything together well before arranging onto a large platter\n",
      "--------------------------------------------------\n",
      "Name: hawaiian chicken salad with honey lime vinaigrette (134189)\n",
      "\n",
      "hawaiian chicken salad:, preheat broiler to high with rack 6\" from the element, saute bacon in a skillet over medium heat until crisp , 8-10 minutes, drain on paper towel-lined plate, slice top 1 / 3 off the baguettes and remove the bread inside, cut the baguette into 4 equal portions and the remaining half into 2, brush each piece with 1 t oil , season with salt and pepper , and broil on baking sheet until toasted , 2-3 minutes, mince cilantro , mint , ginger and lime juice in food processor, add mayonnaise , yogurt, pulse to combine, season with salt , pepper and crushed red pepper flakes , if using, mix chicken , reserved bacon , and nuts with pestoin a bowl and set aside, make vinaigrette:, whisk lime juice , honey , oil , salt and pepper together, after assembling salads , sprinkle with shallots, toss spinach with 1 t vinaigrette, stir pineapple and jalapeo together in bowl, to assemble sandwiches:, divide spinach between baguettes , then top each with 1 / 2 cup chicken salad, garnish with red bell pepper\n",
      "--------------------------------------------------\n",
      "Name: grilled breast of chicken (134191)\n",
      "\n",
      "make a horizontal slit in each chicken breast, season chicken with salt and pepper and then marinate chicken in the olive oil for 30 minutes, while chicken is marinating combine cheese , marjaram and garlic until a smooth paste is formed, prepare grill using mesquite or pecans, remove chicken from oil and stuff with 1 slice of prosiutto or ham and 1 / 4 of the cheese mixture, repeat for remaining chicken breasts, grill over medium low heat until the chicken skin is crispy and brown and chicken is cooked through, serve chicken on top of green chile sauce if desired\n",
      "--------------------------------------------------\n",
      "Name: lobster mango salad (134192)\n",
      "\n",
      "combine the first 4 ingredients in a small bowl, stir well, combine 3 tablespoons juice mixture , mango , onion , chile , and mint in a bowl , and stir well, set mango mixture aside, separate endive into leaves , reserving 12 outer leaves, thinly slice the remaining leaves, set aside, remove meat from lobster tails and claws, set claw meat aside, thinly slice tail meat, set aside, drizzle 1 / 3 cup juice mixture over the salad greens , and toss gently to coat, divide greens evenly among 4 salad plates, arrange 3 endive leaves , 8 jicama strips , and 6 asparagus spears on 1 side of each plate, arrange claw meat on other side of each plate, spoon 1 / 2 cup mango mixture in center of each plate, arrange tail slices , overlapping , on top of mango mixture, drizzle remaining juice mixture evenly over lobster meat, sprinkle pepper over salads , and garnish with sliced endive\n",
      "--------------------------------------------------\n",
      "Name: hoosier sloppy joes (134160)\n",
      "\n",
      "brown beef in large skillet, add onion , salt , pepper , chili pepper , celery salt and worcestershire sauce, drain beef mixture, transfer beef mixture to crock pot, in large bowl combine ketchup , water and brown sugar, pour over beef mixture, allow to warm in crock pot on lowest setting, serve on buns\n",
      "--------------------------------------------------\n",
      "Name: dipping sauce for onion patties petals and blooming onions (134159)\n",
      "\n",
      "mix together and enjoy !, all measurements are approximately i just pour and tweak it depending on my mood ! have fun with it !\n",
      "--------------------------------------------------\n",
      "Name: mama s chicken enchilada casserole (134156)\n",
      "\n",
      "heat soup , milnot , and chiles in medium saucepan over medium-low heat , stirring occasionally , until heated through, while heating soup mixture , tear each tortilla into quarters, in 13\" x 9\" casserole dish , layer tortillas , chicken , soup mixture , and cheese until all are used, bake at 350 degrees for approximately 45 minutes or until hot and bubbly\n",
      "--------------------------------------------------\n",
      "Name: cinnamon orange chicken (134153)\n",
      "\n",
      "flatten breasts to 1 / 4\" thickness and sprinkle with salt and pepper, spray a pan large enough to hold chicken with cooking spray, heat pan over medium heat until hot, add chicken, cook 3-4 minutes or until done, add remaining ingredients, cook 3-4 minutes or until heated through, serve sauce over chicken\n",
      "--------------------------------------------------\n",
      "Name: awesome pickled jalapeno peppers (134152)\n",
      "\n",
      "for the brine: combine vinegar , water , salt and oregano, bring to boil, wash peppers and place in jar, cover pepper with brine , leaving 1 / 4 inch head space, put on clean lid and seal, process in water bath for 15 minutes, if you want to spice it up you can add a garlic clove to each jar\n",
      "--------------------------------------------------\n",
      "Name: mom s pancakes from scratch    so simple (134151)\n",
      "\n",
      "mix dry ingredients in large bowl , make a well in centre, beat egg in measuring cup add milk , pour in well in centre of bowl, mix all ingredients together with whisk, heat half a teaspoon oil in frying pan , make sure oil is hot , pour a ladle full of batter into pan, fry over med, heat flip when edges are dry and bubbles are coming through top , once flipped press cooked side so the batter squishes out , flip once more, check the middle to make sure its cooked through, repeat steps 4-6 until all batter is gone, serve hot with syrup\n",
      "--------------------------------------------------\n",
      "Name: simple papaya avocado salad (134150)\n",
      "\n",
      "cube fruit and coat with dressing, serve on lettuce or spinach or with cottage cheese\n",
      "--------------------------------------------------\n",
      "Name: aunt betty s sweet potato casserole (134149)\n",
      "\n",
      "mix first seven ingredients and spread in a 13\" x 9\" baking dish, mix topping ingredients and spread over sweet potato mixture, bake 25 minutes in 350 degree oven\n",
      "--------------------------------------------------\n",
      "Name: why he married me dilled potatoes (134148)\n",
      "\n",
      "ingredients, the tiny bite sized ones are best, in a medium saucepan , heat the olive oil and butter, add the onions , garlic , and and stir, toss the potatoes in the salt, this works best if the potatoes are damp, add the stock and then the potatoes, do not stir , and try not to knock the salt off the potatoes, leave the onions on the bottom, bring the stock to a simmer and turn down heat to lowest setting, cover, leave it alone for 30-45 minutes, the onions are caramelizing on the bottom of the pan , and the potatoes are steaming, after 30-45 minutes , the potatoes should be fork tender, take the pot over to the stove and carefully drain out most of the cooking liquid, not all of it , leave about 1 / 4 cup in the bottom of the pan, if you cooked whole potatoes , prick some of them with a fork and mash a few, if you cut them in half , you can skip this step, while the potatoes are still hot , add the remaining tablespoon of butter , the pepper , and the remaining salt, toss gently to combine, add the sour cream and fresh dill, garnish with additional dill and cracked black pepper, add crisp bacon if you are trying to get a man's attention, this makes great leftovers, it is better the next day, i like it cold like a potato salad\n",
      "--------------------------------------------------\n",
      "Name: kahlua apple salad (134146)\n",
      "\n",
      "dry pineapple with paper towels, combine all salad ingredients, beat cream and kahlua in chilled mixing bowl , until stiff peaks form, fold whipped cream into salad\n",
      "--------------------------------------------------\n",
      "Name: kittencal s parmesan orzo (134144)\n",
      "\n",
      "melt butter in a medium heavy saucepan over medium heat , add in onion , thyme and red pepper flakes saute for about 3 minutes, add in orzo and cook stirring with a wooden spoon until orzo is slightly browned, add in garlic and cook for 2 minutes, slowly add in the chicken broth, bring to a boil , reduce heat to low, cover and simmer until the orzo is tender and the liquid is absorbed, mix in the parmesan cheese , salt and black pepper, transfer to a serving bowl and sprinkle with more parmesan cheese if desired\n",
      "--------------------------------------------------\n",
      "Name: summer garden tortellini (134142)\n",
      "\n",
      "cook tortellini in a pasta pot of boiling salted water according to package instructions, while tortellini boils , cook garlic , prosciutto , corn , 1 / 2 teaspoon salt , and 1 / 4 teaspoon pepper in butter in a large heavy skillet over medium-high heat , stirring occasionally , until corn is just tender , 4 to 5 minutes, combine corn mixture and tomatoes in a large bowl, reserve 1 / 4 cup pasta-cooking water , then drain tortellini and add to vegetables along with reserved cooking water and basil, toss well and season with salt and pepper, sprinkle with grated parmesan if desired\n",
      "--------------------------------------------------\n",
      "Name: fudgy pudgy cake (134139)\n",
      "\n",
      "in a small bowl , combine cocoa and hot water until smooth, cool, in a large mixing bowl , cream butter and brown sugar, add eggs , one at a time , beating well after each, combine the flour , baking soda , baking powder and salt, add to creamed mixture alternately with buttermilk and cocoa mixture, stir in vanilla, pour into three greased and waxed paper lined 9 inch round baking pans, bake at 350 for 20-25 minutes or until a toothpick comes out clean, cool for 10 minutes, remove from pans to wire racks to cool completely, in a small saucepan , combine sugar and cornstarch, gradually stir in milk until smooth, bring to a boil, cook and stir for 2 minutes or until thickened, remove from the heat, stir in vanilla, cool completely, in a small mixing bowl , cream butter, gradually beat in cooled mixture, place one cake layer on a serving plate, spread with half of the filling, repeat layers, top with remaining cake, for glaze , in a small saucepan , melt butter, stir in cocoa until smooth, add milk, bring to a boil, remove from the heat, with an electric mixer , beat in confectioners' sugar until blended, cool for 15-20 minutes, spread over top of cake, garnish with chocolate curls if desired, store in the refrigerator\n",
      "--------------------------------------------------\n",
      "Name: so easy you have to try it alfredo sauce (134138)\n",
      "\n",
      "melt the butter in a medium saucepan over medium heat, add the cream , garlic powder and pepper and simmer for 10-12 minutes until thick, when the alfredo sauce has reached your desired consistency , stir in the parmesan cheese , and you're done !\n",
      "--------------------------------------------------\n",
      "Name: amazing taco seasoning (134134)\n",
      "\n",
      "mix ingredients, pour over browned , ground meat in a pan over medium heat, i'm sorry i don't have an amount of water to recommend adding to the seasoning, i usually just wing it and then simmer it down if i get too carried away with the water, i think about a half cup ?, simmer until it looks good !, dig it\n",
      "--------------------------------------------------\n",
      "Name: salmon   chickpea salad ww aust  2pts (134132)\n",
      "\n",
      "in a medium bow combine the chickpeas and salmon, stir in the snow peas and capsicum, gently stir though the balsamic dressing, sprinkle with black pepper if desired\n",
      "--------------------------------------------------\n",
      "Name: miniature bacon cheese quiche (134131)\n",
      "\n",
      "combine the egg , milk , salt , cheddar , bacon and onion, set aside, combine cream cheese and butter , creaming until smooth, add flour and mix well, push dough into 9 lightly greased regular-size muffin cups, prick dough with a fork, bake at 400 degrees for 5 minutes, let cool, pour the egg mixture evenly into each cup, bake at 350 degrees for 20 minutes\n",
      "--------------------------------------------------\n",
      "Name: ham and pineapple pizza (134193)\n",
      "\n",
      "preheat oven to 450, place pizza crust on a baking sheet, spread sauce evenly over the pizza crust , leaving a 1 / 2-inch border, top with ham , pineapple , and cheese, sprinkle with red pepper, bake at 450 for 10 minutes or until the crust is crisp\n",
      "--------------------------------------------------\n",
      "Name: lemonade party cake (134196)\n",
      "\n",
      "heat oven to 350, make cake as directed for 13 x 9-inch pan, cool 15 minutes, stir together lemonade concentrate and powdered sugar, poke top of warm cake every 1 / 2 inch with long fork , wiping fork occasionally to reduce sticking, drizzle lemonade mixture evenly over top of cake, run knife around sides of pan to loosen cake, cover and refrigerate about 2 hours or until chilled, spread frosting over top of cake, sprinkle with colored sugar, store loosely covered in refrigerator\n",
      "--------------------------------------------------\n",
      "Name: milanesa   cuban chicken fried steak (134128)\n",
      "\n",
      "sprinkle garlic salt and pepper onto steaks and marinate refrigerated for one hour in juice of sour orange, after 1 hour , beat eggs and add salt, let all juice drip off steaks , dip in egg and roll in breadcrumbs, fry in hot oil until brown\n",
      "--------------------------------------------------\n",
      "Name: nutty hot chocolate (134248)\n",
      "\n",
      "combine all ingredients in a large mug , mix well\n",
      "--------------------------------------------------\n",
      "Name: pudding mix (134235)\n",
      "\n",
      "vanilla pudding mix, mix well all ingredients, store airtight in cool , dry place, keeps several months, makes about 2 cups, chocolate pudding mix, add 3 / 4 cup cocoa and 1 / 2 cup sugar to basic pudding mix, makes about 3 cups, butterscotch pudding mix, substitute 2 cups packed dark-brown sugar for granulated sugar in vanilla pudding mix, makes about 2-2 / 3 cups packed mix, vanilla pudding, 1 / 2 cup vanilla pudding mix 2 cup milk 1 tsp vanilla, in saucepan blend well mix and milk, stir over medium heat until mixture thickens and boils, boil 1 minute, remove from heat, stir in vanilla, pour into 4 custard cups or dessert dishes, chill, if desired unmold, delicious topped with pureed strawberries and roasted slivered almonds, chocolate pudding: use 3 / 4 cup chocolate pudding mix and prepare as above, butterscotch pudding: use 2 / 3 cup packed butterscotch pudding mix, prepare as above , adding 2 tablespoons butter with vanilla\n",
      "--------------------------------------------------\n",
      "Name: garden corn salad (134236)\n",
      "\n",
      "remove kernals from cobs , blanch in boiling water for 5 minutes, drain , rinse and place in a bowl, add zucchini , peppers , onion and pickles, toss, in a food processor or blender , whirl basil leaves , mayonnaise , broth and sour cream, toss with salad, refrigerate for at least 2 hours\n",
      "--------------------------------------------------\n",
      "Name: classic creamy coleslaw dressing (134238)\n",
      "\n",
      "whisk together mustard , vinegar , lemon juice , sugar , salt , mayonnaise , and sour cream in a small bowl, refrigerate dressing , covered , until ready to use , or up to 2 days\n",
      "--------------------------------------------------\n",
      "Name: bs blueberry pie (134240)\n",
      "\n",
      "place blueberries into a large mixing bowl, squeeze lemon juice over the berries, pour 1 1 / 2 cups sugar over the blueberries and mix slightly, add cup of flour, sprinkle salt over the berries, fit pie crust in a 9-inch pie plate, pour berry mixture into pastry shell , and dot with butter, fit the other pie crust over filling , seal and trim off any overhang, cut slits in top of crust, brush top of pastry with beaten eggs, sprinkle unbaked pie with 2 teaspoons sugar, bake at 400f for 35 minutes or until golden\n",
      "--------------------------------------------------\n",
      "Name: pita pizzas  greek style (134243)\n",
      "\n",
      "first , preheat oven to 375f, depending on number of guests will determine exact amount of pitas and ingredients, figure 1-2 pizzas per person , !, preparation includes: peeling / roasting garlic and onion, chopping / washing spinach, slicing tomatoes, first , take one to two peeled garlic cloves per pita and slice into thin pieces, place on baking sheet, chop red onion into small , sugar cube size pieces and place on other side of baking sheet, drizzle olive oil over both garlic and onion pieces and place in oven at 375 degrees, check every one to two minutes until lightly browned on edges, the purpose of roasting brings out the nutty flavor of the garlic and the caramelizing of the onion, place 2-3 handfuls of spinach in a microwavable bowl with a little bit of water in bottom of dish, cook for one minute to a minute and a 1 / 2 until soft and dark green, take small leafs off oregano sprigs and wash with fresh basil, lightly brush pita breads with olive oil, place thinly sliced roma tomatoes over entire pita, sporadically place spinach over tomato with bits of roasted garlic and onion, scatter pieces of oregano over pitas with artichoke hearts , roasted vegetables and kalamata olives, add dashes of salt and pepper, place on oven rack directly, check after 5-7 minutes, cook until edges of pita are lightly browned\n",
      "--------------------------------------------------\n",
      "Name: chicken sausage pasta with basil and wine (134247)\n",
      "\n",
      "start to cook pasta according to directions on the box, in a non stick sauce pan , start to heat the olive oil, remove the sausage casing and then cut sausage into quarters length wise , and then into inch long pieces, add onion , garlic and sausage to the hot pan and cook thoroughly, add wine and cook a few minutes longer , adding the cayenne , salt , pepper and butter, stir till butter has melted, add enough pasta water so that you have enough sauce to coat all the pasta, drain pasta when cooked al dente, toss pasta with the sauce , adding the basil , tomatoes and mozzarella, serve with parmesan cheese\n",
      "--------------------------------------------------\n",
      "Name: ding dong mousse (134250)\n",
      "\n",
      "cut each ding dong into eight pieces, mix whipped cream and pudding in a large bowl until well blended, gently fold in ding dong pieces, cover and refrigerate for at least one hour, before serving , add chocolate sprinkles to the top of the dessert or the bottom of the serving dish\n",
      "--------------------------------------------------\n",
      "Name: ham and sweet corn fritters aust ww 5 5 pts (134197)\n",
      "\n",
      "place the flour in a medium mixing bowl, combine the eggs and milk, stir egg mixture into the flour with the corn , ham , cheese , mustard and shallot, mix well, coat a medium frying pan with cooking spray heat and drop 1 / 4 cup portions of the batter onto the pan, cook on low for 2-3 mins on each side until golden, serve with the chutney\n",
      "--------------------------------------------------\n",
      "Name: cherry nugget pie (134251)\n",
      "\n",
      "mix the cherries , lemon juice , pecans and sweetened condensed milk, fold in whipped creme, pour mixture into pie crust, chill for 2 hours\n",
      "--------------------------------------------------\n",
      "Name: bitter queen (134252)\n",
      "\n",
      "add vodka , campari and limoncello to a shaker filled with ice and vigorously shake, strain into a chilled martini glass and top with orange juice, garnish with the lime slice\n",
      "--------------------------------------------------\n",
      "Name: divatini (134254)\n",
      "\n",
      "fill a cocktail shaker with ice, add all of the liquid ingredients and vigorously shake, strain into martini glass and garnish with lemon twist\n",
      "--------------------------------------------------\n",
      "Name: flourless chocolate   vanilla marble cake (134257)\n",
      "\n",
      "position an oven rack in the middle of the oven and heat the oven to 300f lightly grease a 9x2-inch round cake pan and line the bottom with parchment, make the vanilla batter: in a medium bowl , beat the softened cream cheese with an electric mixer until smooth, add the sugar and continue beating until well blended and no lumps remain, add the egg and vanilla and beat just until blended, set aside, make the chocolate batter: in a medium bowl , melt the chocolate and butter in a large metal bowl over a pan of simmering water or in the microwave, whisk until smooth and set aside to cool slightly, with a stand mixer fitted with the whip attachment , beat the eggs , sugar , rum or espresso , vanilla , and salt on medium high until the mixture is pale and thick , 3 to 4 minutes, with the mixer on low , gradually pour in the chocolate mixture and continue beating until well blended, combine and bake: spread about half of the chocolate batter in the bottom of the pan, alternately add large scoopfuls of each of the remaining batters to the cake pan, using a knife or the, rap the pan against the countertop several times to settle the batters, bake until a pick inserted about 2 inches from the edge comes out gooey but not liquid , 40 to 42 minutes, don't overbake, the top will be puffed and slightly cracked , especially around the edges, it will sink down as it cools, let cool on a rack until just slightly warm , about 1-1 / 2 hours, loosen the cake from the pan by holding the pan almost perpendicular to the counter, tap the pan on the counter while rotating it clockwise, invert onto a large flat plate or board, remove the pan and carefully peel off the parchment, sift some cocoa powder over the cake, invert again onto a similar plate so that the top side is up, let cool completely, cover and refrigerate until very cold , at least 4 hours or overnight, make ahead, wrap the cooled cake in plastic and refrigerate until firm and well chilled, slide the cake from the plate and wrap it again in plastic, freeze for up to a month, to serve , unwrap the cake and set it on a flat serving plate, cover with plastic wrap and thaw in the refrigerator overnight , or at room temperature for an hour or two\n",
      "--------------------------------------------------\n",
      "Name: vegan vegetable stuffed bell peppers (134258)\n",
      "\n",
      "heat the oil in a pan over medium heat, add the crumbles and sautee until defrosted, add the garlic and onins and cook until the onions have softened, next , add the rest of the chopped vegetables , the can of diced tomatoes and seasonings, stir well to combine and cover loosely, in a small sauce pan , make the rice, cut the bell peppers in half , from top to bottom, remove the stems , seeds and membranes, rinse out the insides, grease the bottom of 2 9x13 baking dishes and arrange the peppers to fit , cut side up, preheat the oven to 350f, when the rice is done , mix it with the vegetables, by now , they should be tender and simmering, scoop the mixture into each pepper and spoon the tomato sauce over the top, sprinkle on some extra herbs over the top for some added flavor , or a slice of white soy cheese, cover and bake for 30 minutes or until the peppers have cooked thru, goes great with my pull-apart garlic bread recipe and side salad\n",
      "--------------------------------------------------\n"
     ]
    }
   ],
   "source": [
    "for _, row in avg_ratings.head(50).iterrows():\n",
    "    recipe_data = recipes.iloc[int(row[\"recipe_id\"])]\n",
    "    \n",
    "    print(\"Name:\", recipe_data[\"name\"], f\"({int(row['recipe_id'])})\")\n",
    "    print()\n",
    "    print(\", \".join(eval(recipe_data[\"steps\"])))\n",
    "    print(\"-\"*50)"
   ]
  },
  {
   "cell_type": "markdown",
   "id": "5ba0b132",
   "metadata": {},
   "source": [
    "## Extend training data"
   ]
  },
  {
   "cell_type": "code",
   "execution_count": 4,
   "id": "7949b7b5",
   "metadata": {},
   "outputs": [],
   "source": [
    "train_csv = pd.read_csv(\"../Preprocessing/processed_dataframes/train.csv\")\n",
    "my_user_id = interactions[\"user_id\"].max() + 1\n",
    "my_ratings = pd.DataFrame.from_dict({\n",
    "    \"user_id\": [my_user_id]*16,\n",
    "    \"recipe_id\": [134161, 134170, 134171, 134191, 134159, 134152, 134151, 134128, 134235, 134257, 134138, 134139, 134189, 134192, 134153, 134193],\n",
    "    \"rating\": [2, 5, 3, 4, 2, 1, 4, 1, 3, 5, 5, 3, 1, 1, 1, 1]\n",
    "})\n",
    "# my_ratings.to_csv(\"my_ratings.csv\", index=False)\n",
    "\n",
    "extended_train = pd.concat([train_csv, my_ratings])\n",
    "# extended_train.to_csv(\"extended_train.csv\", index=False)"
   ]
  },
  {
   "cell_type": "markdown",
   "id": "30ca9e97",
   "metadata": {},
   "source": [
    "## Train on extended data"
   ]
  },
  {
   "cell_type": "code",
   "execution_count": 6,
   "id": "e482c3fc",
   "metadata": {},
   "outputs": [],
   "source": [
    "import sys\n",
    "sys.path.append(\"../\")\n",
    "\n",
    "from torch.utils.data import DataLoader\n",
    "\n",
    "n_users = 226570+1\n",
    "n_items = 231637"
   ]
  },
  {
   "cell_type": "code",
   "execution_count": 7,
   "id": "2d35056c",
   "metadata": {},
   "outputs": [
    {
     "data": {
      "application/vnd.jupyter.widget-view+json": {
       "model_id": "0b7b553e07784366bf25686c11510e7d",
       "version_major": 2,
       "version_minor": 0
      },
      "text/plain": [
       "  0%|          | 0/5 [00:00<?, ?it/s]"
      ]
     },
     "metadata": {},
     "output_type": "display_data"
    },
    {
     "name": "stdout",
     "output_type": "stream",
     "text": [
      "epoch: 1, train_loss: 3.8528729576087293, val_loss: 1.1323010689336248\n",
      "epoch: 2, train_loss: 0.9301545356205536, val_loss: 0.9101262817584425\n",
      "epoch: 3, train_loss: 0.8598107795721024, val_loss: 0.9040594186719084\n",
      "epoch: 4, train_loss: 0.8195505210274572, val_loss: 0.9134523987622389\n",
      "epoch: 5, train_loss: 0.7640598005822008, val_loss: 0.9324634327996955\n"
     ]
    }
   ],
   "source": [
    "batch_size = 4086\n",
    "\n",
    "train_path = \"extended_train.csv\"\n",
    "val_path = \"../Preprocessing/processed_dataframes/val.csv\"\n",
    "\n",
    "def get_dataloader(csv_path, dataset, has_rating_column, batch_size, num_workers, shuffle, **kwargs):\n",
    "    return DataLoader(\n",
    "        dataset(\n",
    "            interactions_file=csv_path,\n",
    "            n_users=n_users,\n",
    "            n_items=n_items,\n",
    "            has_rating_column=has_rating_column,\n",
    "            **kwargs,\n",
    "        ), \n",
    "        batch_size=batch_size,\n",
    "        num_workers=num_workers,\n",
    "        shuffle=shuffle,\n",
    "    )\n",
    "\n",
    "\n",
    "from DataLoader.simple_dataset import SimpleFoodRatingsDataset\n",
    "\n",
    "simple_train_dataloader = get_dataloader(train_path, SimpleFoodRatingsDataset, True, batch_size, 8, True)\n",
    "simple_val_dataloader = get_dataloader(val_path, SimpleFoodRatingsDataset, True, batch_size, 2, True)\n",
    "\n",
    "from Training.simple.simple_train_functions import fit, eval_test\n",
    "\n",
    "losses = fit(\n",
    "    simple_train_dataloader, \n",
    "    simple_val_dataloader,\n",
    "    n_users,\n",
    "    n_items,\n",
    "    k_gmf=8,\n",
    "    k_mlp=8,\n",
    "    layer_sizes=[16, 32, 16, 8],\n",
    "    alpha=0.5,\n",
    "    lr=0.001,\n",
    "    epochs=5,\n",
    "    weight_path=\"simple_neumf\",\n",
    "    run_number=2,\n",
    "    random_state=None,\n",
    "    show_loss=True,\n",
    ")"
   ]
  },
  {
   "cell_type": "code",
   "execution_count": 9,
   "id": "6d364331",
   "metadata": {
    "scrolled": true
   },
   "outputs": [
    {
     "data": {
      "text/plain": [
       "<All keys matched successfully>"
      ]
     },
     "execution_count": 9,
     "metadata": {},
     "output_type": "execute_result"
    }
   ],
   "source": [
    "import os\n",
    "from Training.simple.simple_train_functions import define_model\n",
    "import torch\n",
    "\n",
    "trained_model = define_model(n_users, n_items, k_gmf=8, k_mlp=8, layer_sizes=[16, 32, 16, 8], alpha=0.5)\n",
    "trained_model.load_state_dict(torch.load(f\"simple_neumf/run_2/3-0.9040594186719084.pt\"))"
   ]
  },
  {
   "cell_type": "markdown",
   "id": "04baa116",
   "metadata": {},
   "source": [
    "Get items ids that are not rated by the user"
   ]
  },
  {
   "cell_type": "code",
   "execution_count": 10,
   "id": "bdc9448d",
   "metadata": {},
   "outputs": [],
   "source": [
    "unrated_ids = []\n",
    "for i in range(n_items):\n",
    "    if i not in my_ratings[\"recipe_id\"].tolist():\n",
    "        unrated_ids.append(i)"
   ]
  },
  {
   "cell_type": "code",
   "execution_count": 11,
   "id": "a2e57443",
   "metadata": {},
   "outputs": [
    {
     "name": "stdout",
     "output_type": "stream",
     "text": [
      "(231621,)\n"
     ]
    }
   ],
   "source": [
    "with torch.no_grad():\n",
    "    predictions_for_me = trained_model(\n",
    "        torch.tensor([my_user_id]*len(unrated_ids)).cuda(), \n",
    "        torch.tensor(unrated_ids).cuda()\n",
    "    ).ravel().cpu().numpy()\n",
    "    print(predictions_for_me.shape)"
   ]
  },
  {
   "cell_type": "markdown",
   "id": "0a365dee",
   "metadata": {},
   "source": [
    "Top 10 recommended recipes"
   ]
  },
  {
   "cell_type": "code",
   "execution_count": 12,
   "id": "5a1ad4c3",
   "metadata": {},
   "outputs": [],
   "source": [
    "id_rating_pair_list = [(prediction, recipe_id) for recipe_id, prediction in zip(unrated_ids, predictions_for_me)]\n",
    "id_rating_pair_list.sort(reverse=True)"
   ]
  },
  {
   "cell_type": "code",
   "execution_count": 16,
   "id": "08243e20",
   "metadata": {},
   "outputs": [
    {
     "name": "stdout",
     "output_type": "stream",
     "text": [
      "Name: just peachy grillin  ribs  rsc\n",
      "\n",
      "prepare a gas grill for direct grilling over medium heat, on a work surface , remove the membrane from the back of the ribs, in a small bowl , stir together kosher salt , rosemary , sage , and granulated garlic until mixed, generously season both sides of ribs with spice mixture, wrap each seasoned pork slab in reynolds wrap foil, place the foil-wrapped ribs on the grill in a single layer, cover the grill, grill , turning packets once halfway through cooking , about 1- 1 1 / 2 hours or until meat is tender and pulls away from the bones, meanwhile , make the sauce, in a food processor , add the peaches, process until slightly chunky, transfer peaches to a medium bowl, add barbecue sauce , mustard , honey , and lemon juice, stir until well combined, when the ribs are cooked , open the packets, brush both sides of ribs with sauce, place ribs on grill rack, grill , turning once and brushing with additional sauce , 3-4 minutes per side, transfer ribs to a large platter, let rest 5 minutes, right before serving , sprinkle ribs with green onions, serve with any remaining sauce\n",
      "--------------------------------------------------\n",
      "Name: the clockmaker s caramel coated popcorn  a haunted recipe\n",
      "\n",
      "in a large pot , heat the margarine , brown sugar , karo syrup , and salt together over medium heat, while stirring , bring mixture to a boil and allow to boil for five minutes, remove from heat, add baking soda and vanilla, mix well, pour over freshly popped popcorn, stir until the popcorn is well coated, enjoy !\n",
      "--------------------------------------------------\n",
      "Name: bulgogi  korean bbq\n",
      "\n",
      "mix beef& sugar , let rest 2 minutes , then add remaining ingredients, toss well and let stand 1 hr at room temp or overnight in the refrigerator to allow the meat to mature- better the longer it marinates !, preheat a large , heavy skillet over moderate heat for 2 minutes, add beef , a few slices at a time , and sear without oil for 2-3 minutes at most, or , grill beef in very hot gas or electric broiler, serve immediately with white sticky rice and an assortment of side dishes\n",
      "--------------------------------------------------\n",
      "Name: easy breakfast casserole\n",
      "\n",
      "spread grated cheese in a 9 x 13 inch pan that has been buttered, spread green chilies evenly over the cheese, beat eggs and add salt and pepper to taste, pour the eggs over the cheese and green chilies, bake at 350 degrees for 25 to 30 minutes or until set, cut into squares and serve\n",
      "--------------------------------------------------\n",
      "Name: worm sandwiches\n",
      "\n",
      "slice hot dogs into long strips lengthwise, boil strips in water until they curl , and look like worms, toss hot strips with ketchup to make them look even grosser !, serve on buns\n",
      "--------------------------------------------------\n",
      "Name: saucy tortellini and meatball soup  a1\n",
      "\n",
      "heat oven to 350 degrees f, line a cookie sheet with no-stick aluminum foil or spray with no-stick cooking spray, set aside, in a large bowl , combine the ground turkey , breadcrumbs , egg , granulated garlic and 2 tablespoons of the parmesan cheese, mix well, form into 1 1 / 2\" meatballs and place on prepared cookie sheet, bake for 20-25 minutes or until starting to brown, remove from oven and set aside, meanwhile , place a 4-5 quart dutch oven over medium high heat, add the olive oil and sausage, cook , stirring often , for 4-5 minutes or until sausage is starting to brown, add the onion , green pepper , zucchini and garlic, mix well and cook for 6-8 minutes or until vegetables are crisp / tender, add the chicken broth and a-1 sauce and bring to a simmer, add the tortellini and cook for 5-6 minutes, add the spinach , tomatoes and the cooked meatballs, mix well and cook another 5-6 minutes or until tortellini is cooked through, top each serving with remaining parmesan cheese\n",
      "--------------------------------------------------\n",
      "Name: golden chicken nuggets\n",
      "\n",
      "heat deep fryer, cut chicken into bite size pieces, soak chicken in milk, mix flour and seasoning in large bowl, dip chicken into flour, cook about 12 pieces at a time in fryer for 360 degrees for 6 to 9 minutes or until golden, serve with sweet and sour sauce or honey mustard !\n",
      "--------------------------------------------------\n",
      "Name: southern chicken and dumplings\n",
      "\n",
      "combine chicken , salt and pepper in a large pot and cover with water, cook until chicken is tender, remove chicken from water, remove bone and skin, set chicken aside, dumplings: in a large bowl , mix flour , salt , baking powder and shortening with a fork, add egg and 1 / 2 cup milk, mix to form dough, roll dough to 1 / 4-inch thickness on floured surface, cut into four-inch strips with sharp knife, drop dumplings into simmering chicken broth, cover and simmer until dumplings are done, add chicken to dumplings and 1 cup milk, cook slowly for 10 minutes\n",
      "--------------------------------------------------\n",
      "Name: 100  whole grain wheat bread\n",
      "\n",
      "place the first five ingredients in the bowl and mix, add: 2 cups 100% whole grain wheat flour, mix then add 2 tbs of dry active yeast, if your not sure about your yeast proof it in a little warm water first, add: 4 cups of 100% whole grain wheat flour, mix until the consistency is some what even, then continue to slowly add flour 1 / 2 cup at a time until the dough quits sticking to the sides of the bowl, it should be tacky to the touch, the trick is to have enough consistency to stand up with the least amount of flour so the bread will be fluffy, it will most likely be 6 1 / 2 cups but in any case do not exceed 7 1 / 2 cups of wheat flour, you can trade one cup of wheat flour for one cup of all purpose white if you wish, don't over mix or the bread will be tough, when your dough is finished , leave it in the mixer , cover the bowl and let it rise for about 30-45 minutes, the dough will be larger but it doesn't need to double, grease two bread pans with crisco, you can also flour the pans to reduce sticking, mix the dough again just enough to knock it down at least close to the original size, drop the dough on a floured surface so you can work the dough and shape it, shape it with your hands to make a nice ball getting enough flour on it so it isn't sticky, divide the ball in half and do it again, shape the loaves by turning the dough under it's self over and over, when the dough is shaped the sides and ends will be sealed and all you will see is a nice oblong shaped loaf with smooth sides and top, drop the loaves in your bread pans and let them rise until almost doubled, bake in a preheated oven at 350 for 36 minutes, if you forgot to preheat 41 minutes, when done turn the bread out of the pan to a rack to cool, you can eat it right away don't wrap it until completely cooled, put in tinfoil to store on the counter, if you put it in the refrigerator it will turn into a brick, enjoy\n",
      "--------------------------------------------------\n",
      "Name: my chicken parmigiana\n",
      "\n",
      "beat egg and set into a rimmed plate, set bread crumbs in a second rimmed plate, dip chicken breasts into the egg , then into the crumbs , coating both sides and shaking off excess, melt butter or margarine over medium heat in a large , deep skillet, add chicken breast halves to the pan and brown on both sides - just enough to brown the chicken , not to fully cook it yet, pour spaghetti sauce into the pan , immediately reduce heat to low , cover , and simmer until the chicken has cooked all the way through , about 15-20 minutes but the time will vary depending upon the thickness and size of your chicken breasts, sprinkle with parsley and cheeses , re-cover , and simmer just until cheese melts- about 5 minutes, serve with cooked spaghetti\n",
      "--------------------------------------------------\n"
     ]
    }
   ],
   "source": [
    "for _, recipe_id in id_rating_pair_list[:10]:\n",
    "    recipe_data = recipes.iloc[recipe_id]\n",
    "#     print(recipe_data[\"name\"])\n",
    "    print(\"Name:\", recipe_data[\"name\"])\n",
    "    print()\n",
    "    print(\", \".join(eval(recipe_data[\"steps\"])))\n",
    "    print(\"-\"*50)"
   ]
  }
 ],
 "metadata": {
  "kernelspec": {
   "display_name": "Python 3 (ipykernel)",
   "language": "python",
   "name": "python3"
  },
  "language_info": {
   "codemirror_mode": {
    "name": "ipython",
    "version": 3
   },
   "file_extension": ".py",
   "mimetype": "text/x-python",
   "name": "python",
   "nbconvert_exporter": "python",
   "pygments_lexer": "ipython3",
   "version": "3.10.4"
  }
 },
 "nbformat": 4,
 "nbformat_minor": 5
}
