{
 "cells": [
  {
   "cell_type": "code",
   "execution_count": 1,
   "id": "0b618e3f",
   "metadata": {},
   "outputs": [],
   "source": [
    "import sys\n",
    "\n",
    "sys.path.append(\"../\")"
   ]
  },
  {
   "cell_type": "code",
   "execution_count": 2,
   "id": "976b64da",
   "metadata": {},
   "outputs": [],
   "source": [
    "import pandas as pd\n",
    "import numpy as np"
   ]
  },
  {
   "cell_type": "code",
   "execution_count": 3,
   "id": "ebc5e6c0",
   "metadata": {},
   "outputs": [],
   "source": [
    "users = 226570\n",
    "items = 231637\n",
    "genres = 552\n",
    "\n",
    "train_data = pd.read_csv(\"../Preprocessing/processed_dataframes/train.csv\")\n",
    "validation_data = pd.read_csv(\"../Preprocessing/processed_dataframes/val.csv\")\n",
    "test_data = pd.read_csv(\"../Preprocessing/processed_dataframes/test.csv\")"
   ]
  },
  {
   "cell_type": "code",
   "execution_count": 4,
   "id": "1f378d27",
   "metadata": {},
   "outputs": [],
   "source": [
    "uir_train = train_data.values\n",
    "uir_val = validation_data.values\n",
    "uir_test = test_data.values"
   ]
  },
  {
   "cell_type": "code",
   "execution_count": 5,
   "id": "2318e581",
   "metadata": {},
   "outputs": [],
   "source": [
    "def rmse(uir_val, predict_func, **kwargs):\n",
    "    val_preds = predict_func(uir_val[:, :2], **kwargs)\n",
    "    val_expected = uir_val[:, 2]\n",
    "\n",
    "    return np.sqrt(1/len(uir_val) * np.sum((val_preds - val_expected)**2))"
   ]
  },
  {
   "cell_type": "markdown",
   "id": "3aa9dc2e",
   "metadata": {},
   "source": [
    "## SVD"
   ]
  },
  {
   "cell_type": "code",
   "execution_count": 6,
   "id": "137be3f5",
   "metadata": {},
   "outputs": [],
   "source": [
    "from SVD.train_funcs.svd import fit_svd, predict_batch_svd"
   ]
  },
  {
   "cell_type": "code",
   "execution_count": 7,
   "id": "fb9acedf",
   "metadata": {},
   "outputs": [
    {
     "data": {
      "application/vnd.jupyter.widget-view+json": {
       "model_id": "e63b2837d68447ff8eb6e885ee9ff045",
       "version_major": 2,
       "version_minor": 0
      },
      "text/plain": [
       "  0%|          | 0/75 [00:00<?, ?it/s]"
      ]
     },
     "metadata": {},
     "output_type": "display_data"
    },
    {
     "name": "stdout",
     "output_type": "stream",
     "text": [
      "0.8986880672273672\n"
     ]
    }
   ],
   "source": [
    "fitted_params_svd = fit_svd(\n",
    "    uir_train, uir_val, users, items, k=4, \n",
    "    α1=0.005, α2=0.005, α3=0.005, α4=0.005, λ1=0.01, λ2=0.1,\n",
    "    n_iters=75,\n",
    ")\n",
    "\n",
    "print(rmse(uir_val, predict_batch_svd, params=fitted_params_svd))"
   ]
  },
  {
   "cell_type": "code",
   "execution_count": 8,
   "id": "5be78461",
   "metadata": {},
   "outputs": [
    {
     "name": "stdout",
     "output_type": "stream",
     "text": [
      "Test SVD\n",
      "0.8960176503177786\n"
     ]
    }
   ],
   "source": [
    "print(\"Test SVD\")\n",
    "print(rmse(uir_test, predict_batch_svd, params=fitted_params_svd))"
   ]
  },
  {
   "cell_type": "markdown",
   "id": "5bd31aa8",
   "metadata": {},
   "source": [
    "## SVDpp"
   ]
  },
  {
   "cell_type": "code",
   "execution_count": 9,
   "id": "795c8e7b",
   "metadata": {},
   "outputs": [],
   "source": [
    "from SVD.train_funcs.svdpp import fit_svdpp, predict_batch_svdpp, get_items_rated_by_users"
   ]
  },
  {
   "cell_type": "code",
   "execution_count": 10,
   "id": "bf64b291",
   "metadata": {},
   "outputs": [],
   "source": [
    "irbu = get_items_rated_by_users(uir_train, users)"
   ]
  },
  {
   "cell_type": "code",
   "execution_count": 11,
   "id": "a383834c",
   "metadata": {},
   "outputs": [
    {
     "data": {
      "application/vnd.jupyter.widget-view+json": {
       "model_id": "bcda6ecfa9ee468e9810ff0324a64148",
       "version_major": 2,
       "version_minor": 0
      },
      "text/plain": [
       "  0%|          | 0/23 [00:00<?, ?it/s]"
      ]
     },
     "metadata": {},
     "output_type": "display_data"
    },
    {
     "name": "stdout",
     "output_type": "stream",
     "text": [
      "0.8988981915952432\n"
     ]
    }
   ],
   "source": [
    "fitted_params_svdpp = fit_svdpp(\n",
    "    uir_train, uir_val, irbu, users, items, k=4, \n",
    "    α1=0.005, α2=0.005, α3=0.005, α4=0.005, α5=0.005, λ1=0.1, λ2=0.1,\n",
    "    n_iters=23,\n",
    ")\n",
    "\n",
    "print(rmse(uir_val, predict_batch_svdpp, params=fitted_params_svdpp, Rus=irbu))"
   ]
  },
  {
   "cell_type": "code",
   "execution_count": 12,
   "id": "a71a9815",
   "metadata": {},
   "outputs": [
    {
     "name": "stdout",
     "output_type": "stream",
     "text": [
      "Test SVD++\n",
      "0.8961480229282277\n"
     ]
    }
   ],
   "source": [
    "print(\"Test SVD++\")\n",
    "print(rmse(uir_test, predict_batch_svdpp, params=fitted_params_svdpp, Rus=irbu))"
   ]
  },
  {
   "cell_type": "markdown",
   "id": "275e69af",
   "metadata": {},
   "source": [
    "## gSVDpp"
   ]
  },
  {
   "cell_type": "code",
   "execution_count": 13,
   "id": "c24f31e6",
   "metadata": {},
   "outputs": [],
   "source": [
    "from SVD.train_funcs.gsvdpp import fit_gsvdpp, predict_batch_gsvdpp, get_tags_item_belongs_to\n",
    "import scipy.sparse as sparse"
   ]
  },
  {
   "cell_type": "code",
   "execution_count": 14,
   "id": "0cf0c538",
   "metadata": {},
   "outputs": [],
   "source": [
    "n_tags = 552\n",
    "tags_mat = sparse.load_npz(\"../Preprocessing/objects/tags_matrix.npz\")\n",
    "\n",
    "tibt = get_tags_item_belongs_to(tags_mat, items)"
   ]
  },
  {
   "cell_type": "code",
   "execution_count": 15,
   "id": "dee4aa48",
   "metadata": {},
   "outputs": [
    {
     "data": {
      "application/vnd.jupyter.widget-view+json": {
       "model_id": "751c09dd74634ff881693e6cd74ce658",
       "version_major": 2,
       "version_minor": 0
      },
      "text/plain": [
       "  0%|          | 0/23 [00:00<?, ?it/s]"
      ]
     },
     "metadata": {},
     "output_type": "display_data"
    },
    {
     "name": "stdout",
     "output_type": "stream",
     "text": [
      "0.8988595146270146\n"
     ]
    }
   ],
   "source": [
    "fitted_params_gsvdpp = fit_gsvdpp(\n",
    "    uir_train, uir_val, irbu, tibt, users, items, n_tags, k=5, \n",
    "    α1=0.006, α2=0.006, α3=0.005, α4=0.005, α5=0.005, α6=0.006, \n",
    "    λ1=0.01, λ2=0.1, λ3=0.01, λ4=0.1, λ5=0.01, λ6=0.1,\n",
    "    n_iters=23,\n",
    ")\n",
    "\n",
    "print(rmse(uir_val, predict_batch_gsvdpp, params=fitted_params_gsvdpp, Rus=irbu, Gis=tibt))"
   ]
  },
  {
   "cell_type": "code",
   "execution_count": 16,
   "id": "670593f5",
   "metadata": {},
   "outputs": [
    {
     "name": "stdout",
     "output_type": "stream",
     "text": [
      "Test gSVD++\n",
      "0.8963188344120626\n"
     ]
    }
   ],
   "source": [
    "print(\"Test gSVD++\")\n",
    "print(rmse(uir_test, predict_batch_gsvdpp, params=fitted_params_gsvdpp, Rus=irbu, Gis=tibt))"
   ]
  }
 ],
 "metadata": {
  "kernelspec": {
   "display_name": "Python 3 (ipykernel)",
   "language": "python",
   "name": "python3"
  },
  "language_info": {
   "codemirror_mode": {
    "name": "ipython",
    "version": 3
   },
   "file_extension": ".py",
   "mimetype": "text/x-python",
   "name": "python",
   "nbconvert_exporter": "python",
   "pygments_lexer": "ipython3",
   "version": "3.10.4"
  }
 },
 "nbformat": 4,
 "nbformat_minor": 5
}
