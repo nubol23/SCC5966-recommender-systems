{
 "cells": [
  {
   "cell_type": "code",
   "execution_count": 1,
   "id": "f3283824",
   "metadata": {},
   "outputs": [],
   "source": [
    "import sys\n",
    "\n",
    "sys.path.append(\"../\")"
   ]
  },
  {
   "cell_type": "code",
   "execution_count": 2,
   "id": "536bc2d1",
   "metadata": {},
   "outputs": [],
   "source": [
    "from torch.utils.data import DataLoader\n",
    "import os\n",
    "import pandas as pd\n",
    "import numpy as np"
   ]
  },
  {
   "cell_type": "code",
   "execution_count": 3,
   "id": "f7dc5b7a",
   "metadata": {},
   "outputs": [],
   "source": [
    "n_users = 226570\n",
    "n_items = 231637\n",
    "\n",
    "batch_size = 4086\n",
    "\n",
    "train_path = \"../Preprocessing/processed_dataframes/train.csv\"\n",
    "val_path = \"../Preprocessing/processed_dataframes/val.csv\"\n",
    "test_path = \"../Preprocessing/processed_dataframes/test.csv\""
   ]
  },
  {
   "cell_type": "code",
   "execution_count": 4,
   "id": "4edeb2d9",
   "metadata": {},
   "outputs": [],
   "source": [
    "def get_dataloader(csv_path, dataset, has_rating_column, batch_size, num_workers, shuffle, **kwargs):\n",
    "    return DataLoader(\n",
    "        dataset(\n",
    "            interactions_file=csv_path,\n",
    "            n_users=n_users,\n",
    "            n_items=n_items,\n",
    "            has_rating_column=has_rating_column,\n",
    "            **kwargs,\n",
    "        ), \n",
    "        batch_size=batch_size,\n",
    "        num_workers=num_workers,\n",
    "        shuffle=shuffle,\n",
    "    )\n"
   ]
  },
  {
   "cell_type": "markdown",
   "id": "29f812a9",
   "metadata": {},
   "source": [
    "## Simple NeuMF"
   ]
  },
  {
   "cell_type": "code",
   "execution_count": 5,
   "id": "0b2d627b",
   "metadata": {},
   "outputs": [],
   "source": [
    "from DataLoader.simple_dataset import SimpleFoodRatingsDataset"
   ]
  },
  {
   "cell_type": "code",
   "execution_count": 6,
   "id": "1306a33f",
   "metadata": {},
   "outputs": [],
   "source": [
    "simple_train_dataloader = get_dataloader(train_path, SimpleFoodRatingsDataset, True, batch_size, 8, True)\n",
    "simple_val_dataloader = get_dataloader(val_path, SimpleFoodRatingsDataset, True, batch_size, 2, True)"
   ]
  },
  {
   "cell_type": "code",
   "execution_count": 7,
   "id": "a311db75",
   "metadata": {},
   "outputs": [],
   "source": [
    "from Training.simple.simple_train_functions import fit, eval_test"
   ]
  },
  {
   "cell_type": "code",
   "execution_count": 8,
   "id": "62a39301",
   "metadata": {
    "scrolled": false
   },
   "outputs": [
    {
     "data": {
      "application/vnd.jupyter.widget-view+json": {
       "model_id": "5472de58d73143fb9efcd89936d86b28",
       "version_major": 2,
       "version_minor": 0
      },
      "text/plain": [
       "  0%|          | 0/5 [00:00<?, ?it/s]"
      ]
     },
     "metadata": {},
     "output_type": "display_data"
    },
    {
     "name": "stdout",
     "output_type": "stream",
     "text": [
      "epoch: 1, train_loss: 3.8409165013406676, val_loss: 1.0295366074283645\n",
      "epoch: 2, train_loss: 0.9368984924623099, val_loss: 0.9129273652293595\n",
      "epoch: 3, train_loss: 0.8714276718189435, val_loss: 0.9031313386957992\n",
      "epoch: 4, train_loss: 0.8341657614770769, val_loss: 0.9071860467164737\n",
      "epoch: 5, train_loss: 0.773603942745666, val_loss: 0.93413598380945\n"
     ]
    }
   ],
   "source": [
    "losses = fit(\n",
    "    simple_train_dataloader, \n",
    "    simple_val_dataloader,\n",
    "    n_users,\n",
    "    n_items,\n",
    "    k_gmf=8,\n",
    "    k_mlp=8,\n",
    "    layer_sizes=[16, 32, 16, 8],\n",
    "    alpha=0.5,\n",
    "    lr=0.001,\n",
    "    epochs=5,\n",
    "    weight_path=\"simple_neumf\",\n",
    "    run_number=1,\n",
    "    random_state=None,\n",
    "    show_loss=True,\n",
    ")"
   ]
  },
  {
   "cell_type": "code",
   "execution_count": 9,
   "id": "522d886c",
   "metadata": {},
   "outputs": [
    {
     "name": "stdout",
     "output_type": "stream",
     "text": [
      "TEST SIMPLE NEUMF\n",
      "0.9041135066647327\n"
     ]
    }
   ],
   "source": [
    "print(\"TEST SIMPLE NEUMF\")\n",
    "print(eval_test(\n",
    "    f\"simple_neumf/run_1/{os.listdir('simple_neumf/run_1/')[0]}\",\n",
    "    test_path,\n",
    "    SimpleFoodRatingsDataset,\n",
    "    n_users,\n",
    "    n_items,\n",
    "    k_gmf=8,\n",
    "    k_mlp=8,\n",
    "    layer_sizes=[16, 32, 16, 8],\n",
    "))"
   ]
  },
  {
   "cell_type": "markdown",
   "id": "8130a94a",
   "metadata": {},
   "source": [
    "## Extra feature branches"
   ]
  },
  {
   "cell_type": "code",
   "execution_count": 10,
   "id": "4b7c6d4b",
   "metadata": {},
   "outputs": [],
   "source": [
    "recipes_path = \"../Preprocessing/processed_dataframes/sorted_recipes.csv\""
   ]
  },
  {
   "cell_type": "code",
   "execution_count": 11,
   "id": "4ceb4e78",
   "metadata": {},
   "outputs": [],
   "source": [
    "from DataLoader.extra_features_dataset import ExtraFoodRatingsDataset\n",
    "from Training.extra_features.features_train_functions import fit as fit_extra, eval_test as eval_test_extra\n",
    "\n",
    "extra_train_dataloader = get_dataloader(train_path, ExtraFoodRatingsDataset, True, batch_size, 8, True, **{\"recipes_file\": recipes_path})\n",
    "extra_val_dataloader = get_dataloader(val_path, ExtraFoodRatingsDataset, True, batch_size, 2, True, **{\"recipes_file\": recipes_path})"
   ]
  },
  {
   "cell_type": "code",
   "execution_count": 14,
   "id": "1e39d602",
   "metadata": {},
   "outputs": [
    {
     "data": {
      "application/vnd.jupyter.widget-view+json": {
       "model_id": "fd29930b87794611a5a56e8b0926fc32",
       "version_major": 2,
       "version_minor": 0
      },
      "text/plain": [
       "  0%|          | 0/5 [00:00<?, ?it/s]"
      ]
     },
     "metadata": {},
     "output_type": "display_data"
    },
    {
     "name": "stdout",
     "output_type": "stream",
     "text": [
      "epoch: 1, train_loss: 2.9382506842624214, val_loss: 1.1112619885522537\n",
      "epoch: 2, train_loss: 0.9523174373347412, val_loss: 0.9162208042967354\n",
      "epoch: 3, train_loss: 0.8508080328377202, val_loss: 0.9158563189240325\n",
      "epoch: 4, train_loss: 0.79488682428806, val_loss: 0.929753346204601\n",
      "epoch: 5, train_loss: 0.7346583125073958, val_loss: 0.945062777037183\n"
     ]
    }
   ],
   "source": [
    "n_features = 10\n",
    "n_txt = 120900\n",
    "\n",
    "losses = fit_extra(\n",
    "    extra_train_dataloader, \n",
    "    extra_val_dataloader,\n",
    "    n_users,\n",
    "    n_items,\n",
    "    n_features,\n",
    "    n_txt,\n",
    "    k_gmf=8,\n",
    "    k_mlp=8,\n",
    "    layer_sizes=[32, 16, 8],\n",
    "    feature_layers=[16, 8],\n",
    "    txt_layers=[128, 64, 32, 16, 8],\n",
    "    lr=0.001,\n",
    "    epochs=5,\n",
    "    weight_path=\"extra_features_mf\",\n",
    "    run_number=1,\n",
    "    random_state=None,\n",
    "    show_loss=True,\n",
    ")"
   ]
  },
  {
   "cell_type": "code",
   "execution_count": 15,
   "id": "a5bcc236",
   "metadata": {},
   "outputs": [
    {
     "name": "stdout",
     "output_type": "stream",
     "text": [
      "TEST EXTRA FEATURES NEUMF\n",
      "0.916086670894964\n"
     ]
    }
   ],
   "source": [
    "print(\"TEST EXTRA FEATURES NEUMF\")\n",
    "print(eval_test_extra(\n",
    "    f\"extra_features_mf/run_1/{os.listdir('extra_features_mf/run_1/')[0]}\",\n",
    "    test_path,\n",
    "    ExtraFoodRatingsDataset,\n",
    "    n_users,\n",
    "    n_items,\n",
    "    n_features,\n",
    "    n_txt,\n",
    "    k_gmf=8,\n",
    "    k_mlp=8,\n",
    "    layer_sizes=[32, 16, 8],\n",
    "    feature_layers=[16, 8],\n",
    "    txt_layers=[128, 64, 32, 16, 8],\n",
    "    recipes_file=recipes_path,\n",
    "))"
   ]
  }
 ],
 "metadata": {
  "kernelspec": {
   "display_name": "Python 3 (ipykernel)",
   "language": "python",
   "name": "python3"
  },
  "language_info": {
   "codemirror_mode": {
    "name": "ipython",
    "version": 3
   },
   "file_extension": ".py",
   "mimetype": "text/x-python",
   "name": "python",
   "nbconvert_exporter": "python",
   "pygments_lexer": "ipython3",
   "version": "3.10.4"
  }
 },
 "nbformat": 4,
 "nbformat_minor": 5
}
