{
 "cells": [
  {
   "cell_type": "code",
   "execution_count": 1,
   "id": "9dbd4ff4",
   "metadata": {},
   "outputs": [],
   "source": [
    "import pandas as pd"
   ]
  },
  {
   "cell_type": "code",
   "execution_count": 2,
   "id": "51f85497",
   "metadata": {},
   "outputs": [],
   "source": [
    "interactions = pd.read_csv(\"../../Preprocessing/processed_dataframes/interactions.csv\")\n",
    "recipes = pd.read_csv(\"../../Preprocessing/processed_dataframes/recipes_with_text.csv\")\n",
    "recipes.sort_values(by=[\"recipe_id\"], inplace=True)"
   ]
  },
  {
   "cell_type": "markdown",
   "id": "aeadf755",
   "metadata": {},
   "source": [
    "Average ratings per recipe"
   ]
  },
  {
   "cell_type": "code",
   "execution_count": 3,
   "id": "3e4e02e6",
   "metadata": {},
   "outputs": [],
   "source": [
    "avg_ratings = interactions.drop([\"user_id\"], axis=1).groupby(\"recipe_id\", as_index=False).mean().sort_values(by=[\"rating\"], ascending=False)"
   ]
  },
  {
   "cell_type": "markdown",
   "id": "59b366b1",
   "metadata": {},
   "source": [
    "Show Top 20 most rated recipes"
   ]
  },
  {
   "cell_type": "code",
   "execution_count": 4,
   "id": "cf45626e",
   "metadata": {
    "scrolled": true
   },
   "outputs": [],
   "source": [
    "# for _, row in avg_ratings.head(50).iterrows():\n",
    "#     recipe_data = recipes.iloc[int(row[\"recipe_id\"])]\n",
    "    \n",
    "#     print(\"Name:\", recipe_data[\"name\"], f\"({int(row['recipe_id'])})\")\n",
    "#     print()\n",
    "#     print(\", \".join(eval(recipe_data[\"steps\"])))\n",
    "#     print(\"-\"*50)"
   ]
  },
  {
   "cell_type": "markdown",
   "id": "5ba0b132",
   "metadata": {},
   "source": [
    "## Extend training data"
   ]
  },
  {
   "cell_type": "code",
   "execution_count": 5,
   "id": "7949b7b5",
   "metadata": {},
   "outputs": [],
   "source": [
    "train_csv = pd.read_csv(\"../../Preprocessing/processed_dataframes/train.csv\")\n",
    "my_user_id = interactions[\"user_id\"].max() + 1\n",
    "my_ratings = pd.DataFrame.from_dict({\n",
    "    \"user_id\": [my_user_id]*16,\n",
    "    \"recipe_id\": [134161, 134170, 134171, 134191, 134159, 134152, 134151, 134128, 134235, 134257, 134138, 134139, 134189, 134192, 134153, 134193],\n",
    "    \"rating\": [2, 5, 3, 4, 2, 1, 4, 1, 3, 5, 5, 3, 1, 1, 1, 1]\n",
    "})\n",
    "my_ratings.to_csv(\"alt_my_ratings.csv\", index=False)\n",
    "\n",
    "extended_train = pd.concat([train_csv, my_ratings])\n",
    "extended_train.to_csv(\"alt_extended_train.csv\", index=False)"
   ]
  },
  {
   "cell_type": "markdown",
   "id": "30ca9e97",
   "metadata": {},
   "source": [
    "## Train on extended data"
   ]
  },
  {
   "cell_type": "code",
   "execution_count": 6,
   "id": "e482c3fc",
   "metadata": {},
   "outputs": [],
   "source": [
    "import sys\n",
    "sys.path.append(\"../../\")\n",
    "\n",
    "from torch.utils.data import DataLoader\n",
    "\n",
    "n_users = 226570+1\n",
    "n_items = 231637"
   ]
  },
  {
   "cell_type": "code",
   "execution_count": 7,
   "id": "2d35056c",
   "metadata": {},
   "outputs": [
    {
     "data": {
      "application/vnd.jupyter.widget-view+json": {
       "model_id": "a27cc10d86614c8c81b6c9912d964bca",
       "version_major": 2,
       "version_minor": 0
      },
      "text/plain": [
       "  0%|          | 0/5 [00:00<?, ?it/s]"
      ]
     },
     "metadata": {},
     "output_type": "display_data"
    },
    {
     "name": "stdout",
     "output_type": "stream",
     "text": [
      "epoch: 1, train_loss: 4.17614877402404, val_loss: 1.5319633986725931\n",
      "epoch: 2, train_loss: 0.9857126393460692, val_loss: 0.928312345053225\n",
      "epoch: 3, train_loss: 0.8715833616586862, val_loss: 0.9097214673214177\n",
      "epoch: 4, train_loss: 0.831595067670928, val_loss: 0.9113662852893862\n",
      "epoch: 5, train_loss: 0.7955926341205799, val_loss: 0.9230358689015259\n"
     ]
    }
   ],
   "source": [
    "batch_size = 4086\n",
    "\n",
    "train_path = \"alt_extended_train.csv\"\n",
    "val_path = \"../../Preprocessing/processed_dataframes/val.csv\"\n",
    "\n",
    "def get_dataloader(csv_path, dataset, has_rating_column, batch_size, num_workers, shuffle, **kwargs):\n",
    "    return DataLoader(\n",
    "        dataset(\n",
    "            interactions_file=csv_path,\n",
    "            n_users=n_users,\n",
    "            n_items=n_items,\n",
    "            has_rating_column=has_rating_column,\n",
    "            **kwargs,\n",
    "        ), \n",
    "        batch_size=batch_size,\n",
    "        num_workers=num_workers,\n",
    "        shuffle=shuffle,\n",
    "    )\n",
    "\n",
    "\n",
    "from DataLoader.simple_dataset import SimpleFoodRatingsDataset\n",
    "\n",
    "simple_train_dataloader = get_dataloader(train_path, SimpleFoodRatingsDataset, True, batch_size, 8, True)\n",
    "simple_val_dataloader = get_dataloader(val_path, SimpleFoodRatingsDataset, True, batch_size, 2, True)\n",
    "\n",
    "from Training.simple.simple_train_functions import fit, eval_test\n",
    "\n",
    "losses = fit(\n",
    "    simple_train_dataloader, \n",
    "    simple_val_dataloader,\n",
    "    n_users,\n",
    "    n_items,\n",
    "    k_gmf=8,\n",
    "    k_mlp=8,\n",
    "    layer_sizes=[16, 32, 16, 8],\n",
    "    alpha=0.5,\n",
    "    lr=0.001,\n",
    "    epochs=5,\n",
    "    weight_path=\"simple_neumf\",\n",
    "    run_number=2,\n",
    "    random_state=None,\n",
    "    show_loss=True,\n",
    ")"
   ]
  },
  {
   "cell_type": "code",
   "execution_count": 8,
   "id": "6d364331",
   "metadata": {
    "scrolled": true
   },
   "outputs": [
    {
     "data": {
      "text/plain": [
       "<All keys matched successfully>"
      ]
     },
     "execution_count": 8,
     "metadata": {},
     "output_type": "execute_result"
    }
   ],
   "source": [
    "import os\n",
    "from Training.simple.simple_train_functions import define_model\n",
    "import torch\n",
    "\n",
    "trained_model = define_model(n_users, n_items, k_gmf=8, k_mlp=8, layer_sizes=[16, 32, 16, 8], alpha=0.5)\n",
    "trained_model.load_state_dict(torch.load(f\"simple_neumf/run_2/3-0.9097214673214177.pt\"))"
   ]
  },
  {
   "cell_type": "markdown",
   "id": "04baa116",
   "metadata": {},
   "source": [
    "Get items ids that are not rated by the user"
   ]
  },
  {
   "cell_type": "code",
   "execution_count": 9,
   "id": "bdc9448d",
   "metadata": {},
   "outputs": [],
   "source": [
    "unrated_ids = []\n",
    "for i in range(n_items):\n",
    "    if i not in my_ratings[\"recipe_id\"].tolist():\n",
    "        unrated_ids.append(i)"
   ]
  },
  {
   "cell_type": "code",
   "execution_count": 10,
   "id": "a2e57443",
   "metadata": {},
   "outputs": [
    {
     "name": "stdout",
     "output_type": "stream",
     "text": [
      "(231621,)\n"
     ]
    }
   ],
   "source": [
    "with torch.no_grad():\n",
    "    predictions_for_me = trained_model(\n",
    "        torch.tensor([my_user_id]*len(unrated_ids)).cuda(), \n",
    "        torch.tensor(unrated_ids).cuda()\n",
    "    ).ravel().cpu().numpy()\n",
    "    print(predictions_for_me.shape)"
   ]
  },
  {
   "cell_type": "markdown",
   "id": "0a365dee",
   "metadata": {},
   "source": [
    "Top 10 recommended recipes"
   ]
  },
  {
   "cell_type": "code",
   "execution_count": 11,
   "id": "5a1ad4c3",
   "metadata": {},
   "outputs": [],
   "source": [
    "id_rating_pair_list = [(prediction, recipe_id) for recipe_id, prediction in zip(unrated_ids, predictions_for_me)]\n",
    "id_rating_pair_list.sort(reverse=True)"
   ]
  },
  {
   "cell_type": "code",
   "execution_count": 12,
   "id": "08243e20",
   "metadata": {
    "scrolled": false
   },
   "outputs": [
    {
     "name": "stdout",
     "output_type": "stream",
     "text": [
      "Name: kittencal s famous barbecue sauce for chicken and ribs\n",
      "\n",
      "heat oil over medium heat, add in onion and saute for about 3 minutes , then add in garlic and saute for 2 minutes, add in chili powder , paprika , cayenne , salt and black pepper, stir for 1 minute, add in all remaining ingredients, bring to a boil stirring with a wooden spoon to combine, reduce heat to low and simmer uncovered stirring occasionally for 1 hour over low heat, cool to room temperature then cover and refrigerate for 24 hours or more before using\n",
      "--------------------------------------------------\n",
      "Name: the clockmaker s caramel coated popcorn  a haunted recipe\n",
      "\n",
      "in a large pot , heat the margarine , brown sugar , karo syrup , and salt together over medium heat, while stirring , bring mixture to a boil and allow to boil for five minutes, remove from heat, add baking soda and vanilla, mix well, pour over freshly popped popcorn, stir until the popcorn is well coated, enjoy !\n",
      "--------------------------------------------------\n",
      "Name: good eats roast turkey\n",
      "\n",
      "combine all brine ingredients , except ice water , in a stock pot and bring to a boil, stir to dissolve solids , then remove from heat , cool to room temperature refrigerate until thoroughly chilled, early on the day of cooking , combine the brine and ice water in a clean 5 gallon bucket, place thawed turkey breast side down in brine , cover , and refrigerate or set in cool area for 6 hours, turn turkey over once , half way through brining, a few minutes before roasting , heat oven to 500 degrees, combine the apple , onion , cinnamon stick and cup of water in a microwave safe dish and microwave on high for 5 minutes, remove bird from brine and rinse inside and out with cold water, discard brine, place bird on roasting rack inside wide , low pan and pat dry with paper towels, add steeped aromatics to cavity along with rosemary and sage, tuck back wings and coat whole bird liberally with canola oil, roast on lowest level of the oven at 500f for 30 minutes, remove from oven and cover breast with double layer of aluminum foil , insert probe thermometer into thickest part of the breast and return to oven , reducing temperature to 350f, set thermometer alarm to 161f, a 14-16 pound bird should require a total of 2-2 1 / 2 hours of roasting, let turkey rest , loosely covered for 15 minutes before carving\n",
      "--------------------------------------------------\n",
      "Name: 100  whole grain wheat bread\n",
      "\n",
      "place the first five ingredients in the bowl and mix, add: 2 cups 100% whole grain wheat flour, mix then add 2 tbs of dry active yeast, if your not sure about your yeast proof it in a little warm water first, add: 4 cups of 100% whole grain wheat flour, mix until the consistency is some what even, then continue to slowly add flour 1 / 2 cup at a time until the dough quits sticking to the sides of the bowl, it should be tacky to the touch, the trick is to have enough consistency to stand up with the least amount of flour so the bread will be fluffy, it will most likely be 6 1 / 2 cups but in any case do not exceed 7 1 / 2 cups of wheat flour, you can trade one cup of wheat flour for one cup of all purpose white if you wish, don't over mix or the bread will be tough, when your dough is finished , leave it in the mixer , cover the bowl and let it rise for about 30-45 minutes, the dough will be larger but it doesn't need to double, grease two bread pans with crisco, you can also flour the pans to reduce sticking, mix the dough again just enough to knock it down at least close to the original size, drop the dough on a floured surface so you can work the dough and shape it, shape it with your hands to make a nice ball getting enough flour on it so it isn't sticky, divide the ball in half and do it again, shape the loaves by turning the dough under it's self over and over, when the dough is shaped the sides and ends will be sealed and all you will see is a nice oblong shaped loaf with smooth sides and top, drop the loaves in your bread pans and let them rise until almost doubled, bake in a preheated oven at 350 for 36 minutes, if you forgot to preheat 41 minutes, when done turn the bread out of the pan to a rack to cool, you can eat it right away don't wrap it until completely cooled, put in tinfoil to store on the counter, if you put it in the refrigerator it will turn into a brick, enjoy\n",
      "--------------------------------------------------\n",
      "Name: just peachy grillin  ribs  rsc\n",
      "\n",
      "prepare a gas grill for direct grilling over medium heat, on a work surface , remove the membrane from the back of the ribs, in a small bowl , stir together kosher salt , rosemary , sage , and granulated garlic until mixed, generously season both sides of ribs with spice mixture, wrap each seasoned pork slab in reynolds wrap foil, place the foil-wrapped ribs on the grill in a single layer, cover the grill, grill , turning packets once halfway through cooking , about 1- 1 1 / 2 hours or until meat is tender and pulls away from the bones, meanwhile , make the sauce, in a food processor , add the peaches, process until slightly chunky, transfer peaches to a medium bowl, add barbecue sauce , mustard , honey , and lemon juice, stir until well combined, when the ribs are cooked , open the packets, brush both sides of ribs with sauce, place ribs on grill rack, grill , turning once and brushing with additional sauce , 3-4 minutes per side, transfer ribs to a large platter, let rest 5 minutes, right before serving , sprinkle ribs with green onions, serve with any remaining sauce\n",
      "--------------------------------------------------\n",
      "Name: lisa s swirled chocolate chip cookies\n",
      "\n",
      "preheat oven to 350 degrees fahrenheit, mix butter , granulated sugar , brown sugar , vanilla and eggs in a large bowl, stir in the flour , baking soda and salt, stir in 2 cups of swirled chocolate chips, drop dough by rounded measuring tablespoons , about 2-inches apart , onto ungreased cookie sheet, place the several of the reserved swirled chocolate chips on top of each cookie, bake 9 to 12 minutes or until light brown, cool slightly, remove from cookie sheet, cool on wire rack\n",
      "--------------------------------------------------\n",
      "Name: saucy tortellini and meatball soup  a1\n",
      "\n",
      "heat oven to 350 degrees f, line a cookie sheet with no-stick aluminum foil or spray with no-stick cooking spray, set aside, in a large bowl , combine the ground turkey , breadcrumbs , egg , granulated garlic and 2 tablespoons of the parmesan cheese, mix well, form into 1 1 / 2\" meatballs and place on prepared cookie sheet, bake for 20-25 minutes or until starting to brown, remove from oven and set aside, meanwhile , place a 4-5 quart dutch oven over medium high heat, add the olive oil and sausage, cook , stirring often , for 4-5 minutes or until sausage is starting to brown, add the onion , green pepper , zucchini and garlic, mix well and cook for 6-8 minutes or until vegetables are crisp / tender, add the chicken broth and a-1 sauce and bring to a simmer, add the tortellini and cook for 5-6 minutes, add the spinach , tomatoes and the cooked meatballs, mix well and cook another 5-6 minutes or until tortellini is cooked through, top each serving with remaining parmesan cheese\n",
      "--------------------------------------------------\n",
      "Name: quick and easy crabby caesar salads  5fix\n",
      "\n",
      "in a medium bowl , combine simply potatoes traditional mashed potatoes , crab meat , old bay seasoning , crushed croutons and one tablespoon prepared caesar dressing from the kit, mix well and form in to 8- 2 patties , about 3 tablespoons each, set aside, heat oil over medium heat in a large nonstick skillet until shimmering and hot, cook crab cakes for 2 to 3 minutes per side until golden brown and crispy, turn cakes over gently using a thin spatula and cook on second side for another 2 to 3 minutes until golden brown , crispy and heated through, meanwhile , in a large bowl , toss greens with remaining dressing, divide greens evenly on to four luncheon or appetizer sized plates, top dressed greens with two cooked hot crab cakes each and garnish salads evenly with cheese from salad kit, serve immediately, enjoy !\n",
      "--------------------------------------------------\n",
      "Name: my chicken parmigiana\n",
      "\n",
      "beat egg and set into a rimmed plate, set bread crumbs in a second rimmed plate, dip chicken breasts into the egg , then into the crumbs , coating both sides and shaking off excess, melt butter or margarine over medium heat in a large , deep skillet, add chicken breast halves to the pan and brown on both sides - just enough to brown the chicken , not to fully cook it yet, pour spaghetti sauce into the pan , immediately reduce heat to low , cover , and simmer until the chicken has cooked all the way through , about 15-20 minutes but the time will vary depending upon the thickness and size of your chicken breasts, sprinkle with parsley and cheeses , re-cover , and simmer just until cheese melts- about 5 minutes, serve with cooked spaghetti\n",
      "--------------------------------------------------\n",
      "Name: spiced sweet roasted red pepper   feta hummus\n",
      "\n",
      "in an electric blender or food processor , puree the chickpeas , red peppers , feta , lemon juice , tahini , garlic , cumin , cayenne , and salt, process , using long pulses , until the mixture is fairly smooth , and slightly fluffy, make sure to scrape the mixture off the sides of the food processor or blender in between pulses, transfer to a serving bowl and refrigerate for at least 1 hour, sprinkle the hummus with the chopped parsley before serving\n",
      "--------------------------------------------------\n"
     ]
    }
   ],
   "source": [
    "for _, recipe_id in id_rating_pair_list[:10]:\n",
    "    recipe_data = recipes.iloc[recipe_id]\n",
    "#     print(recipe_data[\"name\"])\n",
    "    print(\"Name:\", recipe_data[\"name\"])\n",
    "    print()\n",
    "    print(\", \".join(eval(recipe_data[\"steps\"])))\n",
    "    print(\"-\"*50)"
   ]
  }
 ],
 "metadata": {
  "kernelspec": {
   "display_name": "Python 3 (ipykernel)",
   "language": "python",
   "name": "python3"
  },
  "language_info": {
   "codemirror_mode": {
    "name": "ipython",
    "version": 3
   },
   "file_extension": ".py",
   "mimetype": "text/x-python",
   "name": "python",
   "nbconvert_exporter": "python",
   "pygments_lexer": "ipython3",
   "version": "3.10.4"
  }
 },
 "nbformat": 4,
 "nbformat_minor": 5
}
