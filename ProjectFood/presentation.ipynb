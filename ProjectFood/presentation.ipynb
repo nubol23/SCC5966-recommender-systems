{
 "cells": [
  {
   "cell_type": "markdown",
   "id": "29112ace",
   "metadata": {
    "slideshow": {
     "slide_type": "slide"
    }
   },
   "source": [
    "# NeuMF para recomendação de receitas de cozinha"
   ]
  },
  {
   "cell_type": "markdown",
   "id": "1a743d9f",
   "metadata": {
    "slideshow": {
     "slide_type": "fragment"
    }
   },
   "source": [
    "Esse projeto consiste no treinamento do modelo NeuMF na base de dados de food.com e a comparação do RMSE com outros modelos de filtragem colaborativa"
   ]
  },
  {
   "cell_type": "markdown",
   "id": "343e0011",
   "metadata": {
    "slideshow": {
     "slide_type": "slide"
    }
   },
   "source": [
    "## Fatoração de Matrizes"
   ]
  },
  {
   "cell_type": "markdown",
   "id": "4156b9d7",
   "metadata": {
    "slideshow": {
     "slide_type": "fragment"
    }
   },
   "source": [
    "Os modelos a comparar são"
   ]
  },
  {
   "cell_type": "markdown",
   "id": "8fade06d",
   "metadata": {
    "slideshow": {
     "slide_type": "slide"
    }
   },
   "source": [
    "## Funk SVD"
   ]
  },
  {
   "cell_type": "markdown",
   "id": "3dc4f948",
   "metadata": {
    "slideshow": {
     "slide_type": "fragment"
    }
   },
   "source": [
    "$$\\hat{r}_{ui} = \\mu + b_u + b_i + p_u^T\\cdot q_i$$"
   ]
  },
  {
   "cell_type": "code",
   "execution_count": null,
   "id": "b810e853",
   "metadata": {
    "slideshow": {
     "slide_type": "subslide"
    }
   },
   "outputs": [],
   "source": [
    "def fit_svd(\n",
    "    train_data, n_users, n_items, k, α1=.01, α2=.01, α3=.01, α4=.01, λ1=.01, λ2=.01, n_iters=20\n",
    "):\n",
    "    bu = np.zeros(n_users, np.double)\n",
    "    bi = np.zeros(n_items, np.double)  \n",
    "    P = np.random.normal(0, .1, (n_users, k))\n",
    "    Q = np.random.normal(0, .1, (n_items, k))\n",
    "    μ = np.mean(train_data[:, 2])\n",
    "    \n",
    "    for u, i, r in train_data:\n",
    "        pred = μ + bu[u] + bi[i] + np.dot(Q[i], P[u])\n",
    "        error = r - pred\n",
    "\n",
    "        # Updating\n",
    "        bu[u] += α1 * (error - λ1*bu[u])\n",
    "        bi[i] += α2 * (error - λ1*bi[i])\n",
    "\n",
    "        Pu = P[u]\n",
    "        Qi = Q[i]\n",
    "        P[u] += α3*(error*Qi - λ2*Pu)\n",
    "        Q[i] += α4*(error*Pu - λ2*Qi)\n",
    "    \n",
    "    return μ, bu, bi, P, Q"
   ]
  },
  {
   "cell_type": "markdown",
   "id": "500973f4",
   "metadata": {
    "slideshow": {
     "slide_type": "slide"
    }
   },
   "source": [
    "## SVD++"
   ]
  },
  {
   "cell_type": "markdown",
   "id": "7a0d8019",
   "metadata": {
    "slideshow": {
     "slide_type": "fragment"
    }
   },
   "source": [
    "$$\\hat{r}_{ui} = b_{ui} + q_i^T\\cdot \\left(p_u + |N(u)|^{-\\frac{1}{2}} \\sum_{j\\in N(u)} y_j\\right)$$\n",
    "\n",
    "* $N(u)$: conjunto de itens avaliados pelo usuário $u$\n",
    "* $Y$ matriz de itens $\\times$ fatores."
   ]
  },
  {
   "cell_type": "code",
   "execution_count": null,
   "id": "952f07d3",
   "metadata": {
    "slideshow": {
     "slide_type": "subslide"
    }
   },
   "outputs": [],
   "source": [
    "    for u, i, r in train_data:\n",
    "        Ru = Rus[u]\n",
    "        sqrt_Ru = np.sqrt(len(Ru))\n",
    "\n",
    "        implicit_feedback = np.zeros(k)\n",
    "        for j in Ru:\n",
    "            implicit_feedback += Y[j]\n",
    "        implicit_feedback /= (sqrt_Ru+1e-15)\n",
    "\n",
    "        pred = μ + bu[u] + bi[i] + np.dot(Q[i], P[u] + implicit_feedback)\n",
    "        error = r - pred\n",
    "\n",
    "        # Updating\n",
    "        bu[u] += α1 * (error - λ1*bu[u])\n",
    "        bi[i] += α2 * (error - λ1*bi[i])\n",
    "\n",
    "        Pu = P[u]\n",
    "        Qi = Q[i]\n",
    "        P[u] += α3*(error*Qi - λ2*Pu)\n",
    "        Q[i] += α4*(error*(Pu+implicit_feedback) - λ2*Qi)\n",
    "\n",
    "        term_1 = error*(Qi/(sqrt_Ru+1e-15))\n",
    "        for j in Ru:\n",
    "            Y[j] += α5*(term_1 - λ1*Y[j])"
   ]
  },
  {
   "cell_type": "markdown",
   "id": "04eb1ce5",
   "metadata": {
    "slideshow": {
     "slide_type": "slide"
    }
   },
   "source": [
    "## gSVD++"
   ]
  },
  {
   "cell_type": "markdown",
   "id": "aaa3e693",
   "metadata": {
    "slideshow": {
     "slide_type": "fragment"
    }
   },
   "source": [
    "Usando tags como gêneros.\n",
    "\n",
    "$$\\hat{r}_{ui} = b_{ui} + \\left(q_i+|G(i)|^{-\\alpha}\\sum_{g\\in G(i)} x_g\\right)^T\\left(p_u + |N(u)|^{-\\frac{1}{2}}\\sum_{j\\in N(u)}y_j\\right)$$\n",
    "\n",
    "* $G(i)$: gêneros aos que pertence o item $i$.\n",
    "* $\\alpha=1$\n",
    "* $X$ matriz de gêneros $\\times$ fatores."
   ]
  },
  {
   "cell_type": "code",
   "execution_count": null,
   "id": "3360853c",
   "metadata": {
    "slideshow": {
     "slide_type": "subslide"
    }
   },
   "outputs": [],
   "source": [
    "    for u, i, r in train_data:\n",
    "        Ru = Rus[u]\n",
    "        sqrt_Ru = np.sqrt(len(Ru))\n",
    "\n",
    "        implicit_feedback = np.zeros(k)\n",
    "        for j in Ru:\n",
    "            implicit_feedback += Y[j]\n",
    "        implicit_feedback /= (sqrt_Ru+1e-15)\n",
    "        \n",
    "        Gi = Gis[i]\n",
    "        genres_feedback = np.zeros(k)\n",
    "        for g in Gi:\n",
    "            genres_feedback += X[g]\n",
    "        genres_feedback /= len(Gi)\n",
    "\n",
    "        pred = μ + bu[u] + bi[i] + np.dot(Q[i] + genres_feedback, P[u] + implicit_feedback)\n",
    "        error = r - pred"
   ]
  },
  {
   "cell_type": "code",
   "execution_count": null,
   "id": "8a3622f3",
   "metadata": {
    "slideshow": {
     "slide_type": "subslide"
    }
   },
   "outputs": [],
   "source": [
    "        # Updating\n",
    "        bu[u] += α1 * (error - λ1*bu[u])\n",
    "        bi[i] += α2 * (error - λ2*bi[i])\n",
    "\n",
    "        Pu = P[u]\n",
    "        Qi = Q[i]\n",
    "        P[u] += α3*(error*Qi - λ3*Pu)\n",
    "        Q[i] += α4*(error*(Pu+implicit_feedback) - λ4*Qi)\n",
    "    \n",
    "        term_1 = error*(1/len(Gi))*(Pu + implicit_feedback)\n",
    "        for g in Gi:\n",
    "            X[g] += α6*(term_1 - λ5*X[g])\n",
    "            \n",
    "        term_2 = error*(1/sqrt_Ru)*(Qi + genres_feedback)\n",
    "        for j in Ru:\n",
    "            Y[j] += α5*(term_2 - λ6*Y[j])"
   ]
  },
  {
   "cell_type": "markdown",
   "id": "4a868603",
   "metadata": {
    "slideshow": {
     "slide_type": "slide"
    }
   },
   "source": [
    "## Neural Collaborative Filtering"
   ]
  },
  {
   "cell_type": "markdown",
   "id": "c4227f52",
   "metadata": {
    "slideshow": {
     "slide_type": "fragment"
    }
   },
   "source": [
    "* Predição si o item tem probabilidade de ser de interesse para o usuário.\n",
    "* Combina a fatoração de matrizes com uma rede neuronal fully connected.\n",
    "* Composto por dois ramos:\n",
    "    * General Matrix Factorization\n",
    "    * Multi-layer Perceptron"
   ]
  },
  {
   "cell_type": "markdown",
   "id": "b27322b6",
   "metadata": {
    "slideshow": {
     "slide_type": "fragment"
    }
   },
   "source": [
    "* A entrada desse modelo são dos vetores $v_u$ com $N$ elementos e $v_i$ com $M$ elementos\n",
    "* Esses vetores estão no formato one-hot encoded"
   ]
  },
  {
   "cell_type": "markdown",
   "id": "33962df8",
   "metadata": {
    "slideshow": {
     "slide_type": "slide"
    }
   },
   "source": [
    "### General Matrix Factorization"
   ]
  },
  {
   "cell_type": "markdown",
   "id": "dd373997",
   "metadata": {
    "slideshow": {
     "slide_type": "fragment"
    }
   },
   "source": [
    "* Define as matrizes\n",
    "    * $P^{GMF}$ de $N\\times k_{gmf}$\n",
    "    * $Q^{GMF}$ de $M\\times k_{gmf}$\n",
    "    * $h$ de $k_{gmf}\\times 1$"
   ]
  },
  {
   "cell_type": "markdown",
   "id": "9eacdce1",
   "metadata": {
    "slideshow": {
     "slide_type": "subslide"
    }
   },
   "source": [
    "A função de predição e dada por:\n",
    "\n",
    "$$\n",
    "\\begin{align}\n",
    "    \\phi^{GMF} &= P^{GMF^T}\\cdot v_u \\odot Q^{GMF^T}\\cdot v_i\\\\\n",
    "    \\hat{y}_{ui} &= f(h^T\\cdot (\\phi^{GMF}))\n",
    "\\end{align}\n",
    "$$"
   ]
  },
  {
   "cell_type": "markdown",
   "id": "3d039aeb",
   "metadata": {
    "slideshow": {
     "slide_type": "fragment"
    }
   },
   "source": [
    "![gmf](https://i.pinimg.com/564x/8b/a8/f5/8ba8f5f7b032859983433a126baa9d4e.jpg)"
   ]
  },
  {
   "cell_type": "markdown",
   "id": "3036f5fe",
   "metadata": {
    "slideshow": {
     "slide_type": "slide"
    }
   },
   "source": [
    "### Multi-Layer Perceptron"
   ]
  },
  {
   "cell_type": "markdown",
   "id": "57bf1a50",
   "metadata": {
    "slideshow": {
     "slide_type": "fragment"
    }
   },
   "source": [
    "* Aplica uma rede neuronal sobre a concatenação dos vetores $v_u$ e $v_i$.\n",
    "* A ativação da última capa na rede neuronal usada no paper e a sigmoide."
   ]
  },
  {
   "cell_type": "markdown",
   "id": "a8dc30ce",
   "metadata": {
    "slideshow": {
     "slide_type": "subslide"
    }
   },
   "source": [
    "A função de predição e dada por\n",
    "\n",
    "$$\n",
    "\\begin{align}\n",
    "    \\phi^{MLP} &= mlp\\left(\\begin{bmatrix}P^{MLP^T}\\cdot v_u\\\\Q^{MLP^T}\\cdot v_i\\end{bmatrix}\\right)\\\\\n",
    "    \\hat{y}_{ui} &= \\sigma\\left(h^T\\cdot\\phi^{MLP}\\right)\n",
    "\\end{align}\n",
    "$$"
   ]
  },
  {
   "cell_type": "markdown",
   "id": "cf4aef86",
   "metadata": {
    "slideshow": {
     "slide_type": "slide"
    }
   },
   "source": [
    "### NeuMF"
   ]
  },
  {
   "cell_type": "markdown",
   "id": "3c24158c",
   "metadata": {
    "cell_style": "split",
    "slideshow": {
     "slide_type": "fragment"
    }
   },
   "source": [
    "Combinando os modelos\n",
    "\n",
    "$$\n",
    "\\begin{align}\n",
    "    \\phi^{GMF} &= P^{GMF^T}\\cdot v_u \\odot Q^{GMF^T}\\cdot v_i\\\\\n",
    "    \\phi^{MLP} &= mlp\\left(\\begin{bmatrix}P^{MLP^T}\\cdot v_u\\\\Q^{MLP^T}\\cdot v_i\\end{bmatrix}\\right)\\\\\n",
    "    \\hat{y}_{ui} &= \\sigma\\left(h^T\\cdot\\begin{bmatrix}\\phi^{GMF}\\\\\\phi^{MLP}\\end{bmatrix}\\right)\n",
    "\\end{align}\n",
    "$$"
   ]
  },
  {
   "cell_type": "markdown",
   "id": "8c951044",
   "metadata": {
    "cell_style": "split",
    "slideshow": {
     "slide_type": "fragment"
    }
   },
   "source": [
    "![neumf](https://nipunbatra.github.io/blog/images/neumf.png)"
   ]
  },
  {
   "cell_type": "code",
   "execution_count": null,
   "id": "530b6a4f",
   "metadata": {
    "cell_style": "center",
    "slideshow": {
     "slide_type": "subslide"
    }
   },
   "outputs": [],
   "source": [
    "class GMF(nn.Module):\n",
    "    def __init__(self, n_users, n_items, k):\n",
    "        super(GMF, self).__init__()\n",
    "\n",
    "        self.P = nn.Embedding(n_users, k)\n",
    "        self.Q = nn.Embedding(n_items, k)\n",
    "        self.h = nn.Linear(k, 1, bias=False)\n",
    "\n",
    "        nn.init.normal_(self.P.weight, std=0.01)\n",
    "        nn.init.normal_(self.Q.weight, std=0.01)\n",
    "        nn.init.normal_(self.h.weight, std=0.01)\n",
    "\n",
    "    def forward(self, user_ids, item_ids):\n",
    "        pu = self.P(user_ids)\n",
    "        qi = self.Q(item_ids)\n",
    "        X = pu * qi\n",
    "        return X"
   ]
  },
  {
   "cell_type": "code",
   "execution_count": null,
   "id": "2cf3df59",
   "metadata": {
    "cell_style": "center",
    "slideshow": {
     "slide_type": "subslide"
    }
   },
   "outputs": [],
   "source": [
    "class MLP(nn.Module):\n",
    "    def __init__(self, n_users, n_items, k, layer_sizes):\n",
    "        super(MLP, self).__init__()\n",
    "\n",
    "        self.P = nn.Embedding(n_users, k)\n",
    "        self.Q = nn.Embedding(n_items, k)\n",
    "\n",
    "        self.layers = nn.ModuleList()\n",
    "        prev_size = 2 * k\n",
    "        for size in layer_sizes:\n",
    "            self.layers.append(nn.Linear(prev_size, size))\n",
    "            prev_size = size\n",
    "            \n",
    "        nn.init.normal_(self.P.weight, std=0.01)\n",
    "        nn.init.normal_(self.Q.weight, std=0.01)\n",
    "        for layer in self.layers:\n",
    "            nn.init.normal_(layer.weight, std=0.01)\n",
    "\n",
    "    def forward(self, user_ids, item_ids):\n",
    "        pu = self.P(user_ids)\n",
    "        qi = self.Q(item_ids)\n",
    "\n",
    "        X = torch.concat([pu, qi], dim=1)\n",
    "        for layer in self.layers:\n",
    "            X = F.relu(layer(X))\n",
    "\n",
    "        return X"
   ]
  },
  {
   "cell_type": "code",
   "execution_count": null,
   "id": "dcb646ba",
   "metadata": {
    "slideshow": {
     "slide_type": "subslide"
    }
   },
   "outputs": [],
   "source": [
    "class NeuMF(nn.Module):\n",
    "    def __init__(\n",
    "            self, gmf: GMF, mlp: MLP, mlp_out_size: int, gmf_out_size: int\n",
    "    ):\n",
    "        super(NeuMF, self).__init__()\n",
    "\n",
    "        self.gmf: GMF = deepcopy(gmf)\n",
    "        self.mlp: MLP = deepcopy(mlp)\n",
    "\n",
    "        self.h = nn.Linear(mlp_out_size + gmf_out_size, 1)\n",
    "        nn.init.normal_(self.h.weight, std=0.01)\n",
    "\n",
    "    def forward(self, user_ids, item_ids):\n",
    "        Xg: GMF = self.gmf(user_ids, item_ids)\n",
    "        Xm: MLP = self.mlp(user_ids, item_ids)\n",
    "\n",
    "        out = self.h(torch.concat([Xg, Xm], dim=1))\n",
    "        return out"
   ]
  },
  {
   "cell_type": "markdown",
   "id": "0b8e4f4b",
   "metadata": {
    "slideshow": {
     "slide_type": "slide"
    }
   },
   "source": [
    "## Avaliação"
   ]
  },
  {
   "cell_type": "markdown",
   "id": "4497de2b",
   "metadata": {
    "slideshow": {
     "slide_type": "fragment"
    }
   },
   "source": [
    "Para este projeto se escolheu o modelo NeuMF pela capacidade de aprendizado de projeções não lineares e para analisar como e seu desempenho comparado aos modelos clássicos"
   ]
  },
  {
   "cell_type": "markdown",
   "id": "1c7c3107",
   "metadata": {
    "slideshow": {
     "slide_type": "fragment"
    }
   },
   "source": [
    "O dataset fui obtido em [kaggle](https://www.kaggle.com/datasets/shuyangli94/food-com-recipes-and-user-interactions)"
   ]
  },
  {
   "cell_type": "markdown",
   "id": "f61b1d73",
   "metadata": {
    "slideshow": {
     "slide_type": "subslide"
    }
   },
   "source": [
    "### Pre processamento"
   ]
  },
  {
   "cell_type": "markdown",
   "id": "794d2314",
   "metadata": {
    "slideshow": {
     "slide_type": "fragment"
    }
   },
   "source": [
    "* Re definição dos ids de usuários e itens porque originalmente não eram contíguos."
   ]
  },
  {
   "cell_type": "markdown",
   "id": "451c40c4",
   "metadata": {
    "slideshow": {
     "slide_type": "fragment"
    }
   },
   "source": [
    "* Foram combinados os ingredientes e as instruções de preparação num só texto e foi aplicado TF-IDF."
   ]
  },
  {
   "cell_type": "markdown",
   "id": "ccad235c",
   "metadata": {
    "slideshow": {
     "slide_type": "fragment"
    }
   },
   "source": [
    "* Foi construída uma matriz esparsa de itens $\\times$ tags, com valores 1 somente nas colunas dos tags aos que pertence cada receita."
   ]
  },
  {
   "cell_type": "markdown",
   "id": "0553c151",
   "metadata": {
    "slideshow": {
     "slide_type": "fragment"
    }
   },
   "source": [
    "* Se criou um novo csv para as receitas com os novos ids dos itens, minutos de preparação, informação nutricional, número de passos e ingredientes."
   ]
  },
  {
   "cell_type": "markdown",
   "id": "a5cc5a3f",
   "metadata": {
    "slideshow": {
     "slide_type": "fragment"
    }
   },
   "source": [
    "* Se criou um novo csv das interações com os novos ids dos usuários e os itens.\n"
   ]
  },
  {
   "cell_type": "markdown",
   "id": "2e1f90a7",
   "metadata": {
    "slideshow": {
     "slide_type": "fragment"
    }
   },
   "source": [
    "* Foi feito um split de 70% dos dados para treinamento, 20% para validação e 10% para teste."
   ]
  },
  {
   "cell_type": "markdown",
   "id": "b9e3e970",
   "metadata": {
    "slideshow": {
     "slide_type": "subslide"
    }
   },
   "source": [
    "* O treinamento se fez no conjunto de teste e se usou o conjunto de validação para controlar a capacidade de generalização do modelo"
   ]
  },
  {
   "cell_type": "markdown",
   "id": "75222230",
   "metadata": {
    "slideshow": {
     "slide_type": "fragment"
    }
   },
   "source": [
    "* Se treinaram os modelos SVD, SVD++, gSVD++ (usando os tags como gêneros) e NeuMF"
   ]
  },
  {
   "cell_type": "markdown",
   "id": "7895e747",
   "metadata": {
    "slideshow": {
     "slide_type": "fragment"
    }
   },
   "source": [
    "* Adicional foi treinada uma modificação do NeuMF com dois novos ramos\n",
    "    * Um mlp sobre um vetor com os minutos de preparação, informação nutricional, número de passos e número de ingredientes\n",
    "    * Outro mlp sobre o vetor dos tags + o vetor tfidf da preparação."
   ]
  },
  {
   "cell_type": "markdown",
   "id": "1633ee4b",
   "metadata": {
    "slideshow": {
     "slide_type": "slide"
    }
   },
   "source": [
    "## Resultados"
   ]
  },
  {
   "cell_type": "markdown",
   "id": "7738d6b4",
   "metadata": {
    "slideshow": {
     "slide_type": "subslide"
    }
   },
   "source": [
    "### SVD"
   ]
  },
  {
   "cell_type": "markdown",
   "id": "040c0f91",
   "metadata": {
    "slideshow": {
     "slide_type": "fragment"
    }
   },
   "source": [
    "1536 combinações de parâmetros"
   ]
  },
  {
   "cell_type": "markdown",
   "id": "b3e927fb",
   "metadata": {
    "slideshow": {
     "slide_type": "fragment"
    }
   },
   "source": [
    "Melhores parâmetros\n",
    "\n",
    "$k=4$, $\\alpha_1=0.005$, $\\alpha_2=0.005$, $\\alpha_3=0.005$, $\\alpha_4=0.005$, $\\lambda_1=0.01$, $\\lambda_2=0.1$"
   ]
  },
  {
   "cell_type": "markdown",
   "id": "313255c9",
   "metadata": {
    "slideshow": {
     "slide_type": "subslide"
    }
   },
   "source": [
    "### SVD++"
   ]
  },
  {
   "cell_type": "markdown",
   "id": "c18fcf06",
   "metadata": {
    "slideshow": {
     "slide_type": "fragment"
    }
   },
   "source": [
    "20 combinações de parâmetros"
   ]
  },
  {
   "cell_type": "markdown",
   "id": "66b016ea",
   "metadata": {
    "slideshow": {
     "slide_type": "fragment"
    }
   },
   "source": [
    "Melhores parâmetros\n",
    "\n",
    "$k=4$, $\\alpha_1=0.005$, $\\alpha_2=0.005$, $\\alpha_3=0.005$, $\\alpha_4=0.005$, $\\alpha_5=0.005$, $\\lambda_1=0.1$, $\\lambda_2=0.1$"
   ]
  },
  {
   "cell_type": "markdown",
   "id": "9c859eee",
   "metadata": {
    "slideshow": {
     "slide_type": "subslide"
    }
   },
   "source": [
    "### gSVD++"
   ]
  },
  {
   "cell_type": "markdown",
   "id": "83f48ef7",
   "metadata": {
    "slideshow": {
     "slide_type": "fragment"
    }
   },
   "source": [
    "15 combinações de parâmetros"
   ]
  },
  {
   "cell_type": "markdown",
   "id": "565fa2db",
   "metadata": {
    "slideshow": {
     "slide_type": "fragment"
    }
   },
   "source": [
    "Melhores parâmetros\n",
    "\n",
    "$k=5$\n",
    "\n",
    "$\\alpha_1=0.006$, $\\alpha_2=0.006$, $\\alpha_3=0.005$, $\\alpha_4=0.005$, $\\alpha_5=0.005$, $\\alpha_6=0.006$, \n",
    "\n",
    "$\\lambda_1=0.01$, $\\lambda_2=0.1$, $\\lambda_3=0.01$, $\\lambda_4=0.1$, $\\lambda_5=0.01$, $\\lambda_6=0.1$"
   ]
  },
  {
   "cell_type": "markdown",
   "id": "1d39a277",
   "metadata": {
    "slideshow": {
     "slide_type": "subslide"
    }
   },
   "source": [
    "### NeuMF"
   ]
  },
  {
   "cell_type": "markdown",
   "id": "fe47f483",
   "metadata": {
    "slideshow": {
     "slide_type": "fragment"
    }
   },
   "source": [
    "5 combinações de parâmetros"
   ]
  },
  {
   "cell_type": "markdown",
   "id": "d28b4db4",
   "metadata": {
    "slideshow": {
     "slide_type": "fragment"
    }
   },
   "source": [
    "Melhores parâmetros\n",
    "\n",
    "$k_{gmf}=8$\n",
    "\n",
    "$k_{mlp}=8$\n",
    "\n",
    "$layers=[16, 32, 16, 8]$\n",
    "\n",
    "$lr=0.001$"
   ]
  },
  {
   "cell_type": "markdown",
   "id": "e7a3cdd8",
   "metadata": {
    "slideshow": {
     "slide_type": "subslide"
    }
   },
   "source": [
    "### NeuMF modificado"
   ]
  },
  {
   "cell_type": "markdown",
   "id": "6c6ebcf6",
   "metadata": {
    "slideshow": {
     "slide_type": "fragment"
    }
   },
   "source": [
    "5 combinações de parâmetros"
   ]
  },
  {
   "cell_type": "markdown",
   "id": "6fb57ae2",
   "metadata": {
    "slideshow": {
     "slide_type": "fragment"
    }
   },
   "source": [
    "Melhores parâmetros\n",
    "\n",
    "$k_{gmf}=8$\n",
    "\n",
    "$k_{mlp}=8$\n",
    "\n",
    "$layers=[32, 16, 8]$\n",
    "\n",
    "$feature\\_layers=[16, 8]$\n",
    "\n",
    "$text\\_layers=[128, 64, 32, 16, 8]$\n",
    "\n",
    "$lr=0.001$"
   ]
  },
  {
   "cell_type": "markdown",
   "id": "fc163fd8",
   "metadata": {
    "slideshow": {
     "slide_type": "slide"
    }
   },
   "source": [
    "## Resultados"
   ]
  },
  {
   "cell_type": "markdown",
   "id": "75ff73e8",
   "metadata": {
    "slideshow": {
     "slide_type": "fragment"
    }
   },
   "source": [
    "|   Modelo  | RMSE Validação | RMSE Teste |\n",
    "|:---------:|:--------------:|:----------:|\n",
    "|    SVD    |    0.898688    |  0.896018  |\n",
    "|   SVD++   |    0.898898    |  0.896148  |\n",
    "|   gSVD++  |    0.898860    |  0.896319  |\n",
    "|   NeuMF   |    0.904851    |  0.905242  |\n",
    "| NeuMF ext |    0.915856    |  0.916087  |"
   ]
  },
  {
   "cell_type": "markdown",
   "id": "5da37ee9",
   "metadata": {
    "slideshow": {
     "slide_type": "slide"
    }
   },
   "source": [
    "## Conclusões"
   ]
  },
  {
   "cell_type": "markdown",
   "id": "18abe5a4",
   "metadata": {
    "slideshow": {
     "slide_type": "fragment"
    }
   },
   "source": [
    "* O resultado esperado e que os modelos mais complexos tenham um menor erro no conjunto de teste.\n",
    "* Os resultados dos experimentos nos mostram que o modelo mais simples foi o melhor."
   ]
  },
  {
   "cell_type": "markdown",
   "id": "61d729a0",
   "metadata": {
    "slideshow": {
     "slide_type": "fragment"
    }
   },
   "source": [
    "Possiveis razoes\n",
    "\n",
    "* Pode ser que os melhores parâmetros não foram encontrados pelo tempo que demorou treinar o SVD++ e gSVD++.\n",
    "* NeuMF: pode ser muito complexo para a estrutura dos dados, resultando em overfit.\n",
    "* NeuMF ext: e possível que so adicionar informação sobre os itens não seja suficiente."
   ]
  },
  {
   "cell_type": "markdown",
   "id": "bc31fb73",
   "metadata": {
    "slideshow": {
     "slide_type": "slide"
    }
   },
   "source": [
    "## Referências\n",
    "\n",
    "* Sheldon Jay Axler. Linear Algebra Done Right. Undergraduate Texts in Mathematics. Springer, New York, 1997.\n",
    "* Simon Funk. Netflix update: Try this at home. https://sifter.org/simon/journal/20061211.html, 2006.\n",
    "* Xiangnan He, Lizi Liao, Hanwang Zhang, Liqiang Nie, Xia Hu, and Tat-Seng Chua. Neural collaborative filtering. In Proceedings of the 26th International Conference on World Wide Web, WWW ’17, page 173–182, Republic and Canton of Geneva, CHE, 2017. International World Wide Web Conferences Steering Committee.\n",
    "* Yehuda Koren. Factorization meets the neighborhood: A multifaceted collaborative filtering model. In Proceedings of the 14th ACM SIGKDD International Conference on Knowledge Discovery and Data Mining, KDD ’08, page 426–434, New York, NY, USA, 2008. Association for Computing Machinery.\n",
    "* Marcelo Garcia Manzato. Gsvd++: Supporting implicit feedback on recommender systems with metadata awareness. In Proceedings of the 28th Annual ACM Symposium on Applied Computing, SAC ’13, page 908–913, New York, NY, USA, 2013. Association for Computing Machinery."
   ]
  },
  {
   "cell_type": "markdown",
   "id": "f517bedb",
   "metadata": {
    "slideshow": {
     "slide_type": "slide"
    }
   },
   "source": [
    "Repositório de Github\n",
    "\n",
    "https://github.com/nubol23/SCC5966-recommender-systems/tree/master/ProjectFood"
   ]
  }
 ],
 "metadata": {
  "celltoolbar": "Slideshow",
  "kernelspec": {
   "display_name": "Python 3 (ipykernel)",
   "language": "python",
   "name": "python3"
  },
  "language_info": {
   "codemirror_mode": {
    "name": "ipython",
    "version": 3
   },
   "file_extension": ".py",
   "mimetype": "text/x-python",
   "name": "python",
   "nbconvert_exporter": "python",
   "pygments_lexer": "ipython3",
   "version": "3.10.4"
  }
 },
 "nbformat": 4,
 "nbformat_minor": 5
}
