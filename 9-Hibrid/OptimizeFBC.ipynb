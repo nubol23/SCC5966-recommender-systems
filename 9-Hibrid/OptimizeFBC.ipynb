{
 "cells": [
  {
   "cell_type": "code",
   "execution_count": 1,
   "id": "5de7cb69",
   "metadata": {},
   "outputs": [],
   "source": [
    "import numpy as np\n",
    "from numba import njit, prange\n",
    "import pandas as pd\n",
    "\n",
    "from tqdm.notebook import tqdm"
   ]
  },
  {
   "cell_type": "code",
   "execution_count": 2,
   "id": "399fbbdf",
   "metadata": {},
   "outputs": [],
   "source": [
    "train_csv = pd.read_csv(\"../../data/train_data.csv\")\n",
    "test_csv = pd.read_csv(\"../../data/test_data.csv\")\n",
    "\n",
    "train_csv[\"user_id\"] = train_csv[\"user_id\"].apply(lambda x: x - 1)\n",
    "train_csv[\"movie_id\"] = train_csv[\"movie_id\"].apply(lambda x: x - 1)\n",
    "\n",
    "test_csv[\"user_id\"] = test_csv[\"user_id\"].apply(lambda x: x - 1)\n",
    "test_csv[\"movie_id\"] = test_csv[\"movie_id\"].apply(lambda x: x - 1)\n",
    "\n",
    "train_set = train_csv.sample(frac=.8, axis=0)\n",
    "val_set = train_csv.drop(train_set.index, axis=0)\n",
    "\n",
    "assert train_csv.shape[0] == train_set.shape[0] + val_set.shape[0]"
   ]
  },
  {
   "cell_type": "code",
   "execution_count": 3,
   "id": "59317a00",
   "metadata": {},
   "outputs": [],
   "source": [
    "@njit\n",
    "def generate_ratings_mat(uir_mat, n_users, n_items):\n",
    "    out = np.zeros((n_users, n_items), dtype=np.float32)\n",
    "    \n",
    "    for u, i, r in uir_mat:\n",
    "        out[u,i] = r\n",
    "        \n",
    "    return out\n",
    "\n",
    "users = 3974\n",
    "movies = 3564\n",
    "train_ratings_mat = generate_ratings_mat(train_set.values[:,:-1], users, movies)"
   ]
  },
  {
   "cell_type": "code",
   "execution_count": 4,
   "id": "7b78812f",
   "metadata": {},
   "outputs": [],
   "source": [
    "@njit\n",
    "def predict(u, i, sims_mat, ratings_mat, k):\n",
    "    sim_items_rated_by_u = [\n",
    "        (sims_mat[i, j], ratings_mat[u, j])\n",
    "        for j in range(ratings_mat.shape[1]) \n",
    "        if ratings_mat[u, j] != 0 and i != j\n",
    "    ]\n",
    "    \n",
    "    num = 0\n",
    "    den = 0\n",
    "    for sim_ij, r_uj in sorted(sim_items_rated_by_u, reverse=True)[:k]:\n",
    "        num += (sim_ij*r_uj)\n",
    "        den += sim_ij\n",
    "        \n",
    "    return num/(den+1e-15)"
   ]
  },
  {
   "cell_type": "code",
   "execution_count": 5,
   "id": "1d3227e6",
   "metadata": {},
   "outputs": [],
   "source": [
    "@njit(parallel=True)\n",
    "def predict_batch(ui_mat, sims_mat, ratings_mat, k):\n",
    "    predictions = np.zeros(ui_mat.shape[0])\n",
    "    \n",
    "    for idx in prange(ui_mat.shape[0]):\n",
    "        u, i = ui_mat[idx]\n",
    "        predictions[idx] = predict(u, i, sims_mat, ratings_mat, k)\n",
    "        \n",
    "    return np.clip(predictions, 1, 5)"
   ]
  },
  {
   "cell_type": "code",
   "execution_count": 6,
   "id": "03ce4f34",
   "metadata": {},
   "outputs": [],
   "source": [
    "@njit(parallel=True)\n",
    "def rmse(pred, expected):\n",
    "    return np.sqrt(np.sum((pred-expected)**2)/pred.shape[0])"
   ]
  },
  {
   "cell_type": "markdown",
   "id": "0a112fe6",
   "metadata": {},
   "source": [
    "### Predictions"
   ]
  },
  {
   "cell_type": "code",
   "execution_count": 10,
   "id": "7af56de8",
   "metadata": {},
   "outputs": [],
   "source": [
    "# Load similarity matrix\n",
    "# sims_mat = np.load(\"combined_sims_mat.npy\")\n",
    "sims_mat = np.load(\"combined_sims_mat_2.npy\")"
   ]
  },
  {
   "cell_type": "code",
   "execution_count": 11,
   "id": "08fe488a",
   "metadata": {},
   "outputs": [],
   "source": [
    "val_uir = val_set.values[:, :-1]"
   ]
  },
  {
   "cell_type": "code",
   "execution_count": 12,
   "id": "3b23414f",
   "metadata": {},
   "outputs": [
    {
     "data": {
      "application/vnd.jupyter.widget-view+json": {
       "model_id": "a0713636bd4647b3b011f2caa11efd8c",
       "version_major": 2,
       "version_minor": 0
      },
      "text/plain": [
       "  0%|          | 0/199 [00:00<?, ?it/s]"
      ]
     },
     "metadata": {},
     "output_type": "display_data"
    },
    {
     "name": "stdout",
     "output_type": "stream",
     "text": [
      "154 1.0050397029980014\n"
     ]
    }
   ],
   "source": [
    "min_error = np.inf\n",
    "best_k = 1\n",
    "for k in tqdm(range(1, 200)):\n",
    "    val_preds = predict_batch(val_uir[:, :-1], sims_mat, train_ratings_mat, k=k)\n",
    "\n",
    "    err = rmse(val_preds, val_uir[:, -1])\n",
    "    if min_error > err:\n",
    "        min_error = err\n",
    "        best_k = k\n",
    "    \n",
    "print(best_k, min_error)"
   ]
  }
 ],
 "metadata": {
  "kernelspec": {
   "display_name": "Python 3 (ipykernel)",
   "language": "python",
   "name": "python3"
  },
  "language_info": {
   "codemirror_mode": {
    "name": "ipython",
    "version": 3
   },
   "file_extension": ".py",
   "mimetype": "text/x-python",
   "name": "python",
   "nbconvert_exporter": "python",
   "pygments_lexer": "ipython3",
   "version": "3.10.4"
  }
 },
 "nbformat": 4,
 "nbformat_minor": 5
}
