{
 "cells": [
  {
   "cell_type": "markdown",
   "id": "4c4462dd",
   "metadata": {},
   "source": [
    "# Combine reviews and genres similarities"
   ]
  },
  {
   "cell_type": "code",
   "execution_count": 1,
   "id": "571e3dbd",
   "metadata": {},
   "outputs": [],
   "source": [
    "import pandas as pd\n",
    "import numpy as np\n",
    "from numba import njit, prange\n",
    "\n",
    "from tqdm.notebook import tqdm"
   ]
  },
  {
   "cell_type": "code",
   "execution_count": 2,
   "id": "f17bbdfc",
   "metadata": {},
   "outputs": [],
   "source": [
    "users = 3974\n",
    "movies = 3564"
   ]
  },
  {
   "cell_type": "markdown",
   "id": "de1948c3",
   "metadata": {},
   "source": [
    "## Load data"
   ]
  },
  {
   "cell_type": "markdown",
   "id": "48a79a20",
   "metadata": {},
   "source": [
    "### Load reviews"
   ]
  },
  {
   "cell_type": "code",
   "execution_count": 3,
   "id": "f451f748",
   "metadata": {},
   "outputs": [],
   "source": [
    "from sklearn.feature_extraction.text import TfidfVectorizer"
   ]
  },
  {
   "cell_type": "code",
   "execution_count": 4,
   "id": "6d82e663",
   "metadata": {},
   "outputs": [],
   "source": [
    "from collections import defaultdict"
   ]
  },
  {
   "cell_type": "code",
   "execution_count": 5,
   "id": "7af4d45a",
   "metadata": {},
   "outputs": [
    {
     "data": {
      "application/vnd.jupyter.widget-view+json": {
       "model_id": "8fb566df01f7434ea5cedbdddccdbce2",
       "version_major": 2,
       "version_minor": 0
      },
      "text/plain": [
       "0it [00:00, ?it/s]"
      ]
     },
     "metadata": {},
     "output_type": "display_data"
    }
   ],
   "source": [
    "reviews_csv = pd.read_csv(\"../../data/movie_reviews.csv\")\n",
    "reviews_csv[\"movie_id\"] = reviews_csv[\"movie_id\"].apply(lambda x: x - 1)\n",
    "\n",
    "movies_ids = reviews_csv[\"movie_id\"].tolist()\n",
    "reviews = reviews_csv[\"text\"].tolist()\n",
    "\n",
    "# Concatenate reviews for the same movie\n",
    "concatenated_reviews = defaultdict(str)\n",
    "for movie_id, review in tqdm(zip(reviews_csv[\"movie_id\"].tolist(), reviews_csv[\"text\"].tolist())):\n",
    "    concatenated_reviews[movie_id] += review\n",
    "    \n",
    "movies_ids = list(concatenated_reviews.keys())\n",
    "reviews = list(concatenated_reviews.values())\n",
    "\n",
    "# Fit tfdf\n",
    "vectorizer = TfidfVectorizer(stop_words=\"english\")\n",
    "vectorized_reviews = vectorizer.fit_transform(reviews).todense()\n",
    "\n",
    "# Build full features matrix\n",
    "vectorized_reviews_full = np.zeros((movies, vectorized_reviews.shape[1]))\n",
    "\n",
    "for idx, movie_id in enumerate(movies_ids):\n",
    "    vectorized_reviews_full[movie_id] = vectorized_reviews[idx]"
   ]
  },
  {
   "cell_type": "markdown",
   "id": "69f7b1b6",
   "metadata": {},
   "source": [
    "Get all rows that don't have a review"
   ]
  },
  {
   "cell_type": "code",
   "execution_count": 6,
   "id": "998d563d",
   "metadata": {},
   "outputs": [],
   "source": [
    "from collections import defaultdict"
   ]
  },
  {
   "cell_type": "code",
   "execution_count": 7,
   "id": "6896e2d0",
   "metadata": {},
   "outputs": [
    {
     "name": "stdout",
     "output_type": "stream",
     "text": [
      "1076\n"
     ]
    }
   ],
   "source": [
    "no_review_idxs = defaultdict(bool)\n",
    "for i, item_review_vec in enumerate(vectorized_reviews_full):\n",
    "    if np.all(item_review_vec == 0):\n",
    "        no_review_idxs[i] = True\n",
    "        \n",
    "print(len(no_review_idxs))"
   ]
  },
  {
   "cell_type": "code",
   "execution_count": 8,
   "id": "b53a7756",
   "metadata": {},
   "outputs": [],
   "source": [
    "@njit(parallel=True)\n",
    "def compute_pairwise_similarities_dot_product(reviews, n_items):\n",
    "    out = np.zeros((n_items, n_items))\n",
    "    \n",
    "    for i in range(n_items):\n",
    "        for j in prange(n_items):\n",
    "            if i != j:\n",
    "                # Because the vectors are normalized\n",
    "                # The cosine similarity is just the dot product\n",
    "                out[i, j] = np.dot(reviews[i], reviews[j])\n",
    "                \n",
    "    return out"
   ]
  },
  {
   "cell_type": "code",
   "execution_count": 9,
   "id": "fdabff84",
   "metadata": {},
   "outputs": [],
   "source": [
    "reviews_sims_mat = compute_pairwise_similarities_dot_product(vectorized_reviews_full, movies)"
   ]
  },
  {
   "cell_type": "markdown",
   "id": "5d726471",
   "metadata": {},
   "source": [
    "### Load genres"
   ]
  },
  {
   "cell_type": "code",
   "execution_count": 10,
   "id": "27a81eba",
   "metadata": {},
   "outputs": [],
   "source": [
    "genres_map = {\n",
    "    \"Action\": 0,\n",
    "    \"Adventure\": 1,\n",
    "    \"Animation\": 2,\n",
    "    \"Children's\": 3,\n",
    "    \"Comedy\": 4,\n",
    "    \"Crime\": 5,\n",
    "    \"Documentary\": 6,\n",
    "    \"Drama\": 7,\n",
    "    \"Fantasy\": 8,\n",
    "    \"Film-Noir\": 9,\n",
    "    \"Horror\": 10,\n",
    "    \"Musical\": 11,\n",
    "    \"Mystery\": 12,\n",
    "    \"Romance\": 13,\n",
    "    \"Sci-Fi\": 14,\n",
    "    \"Thriller\": 15,\n",
    "    \"War\": 16,\n",
    "    \"Western\": 17,\n",
    "}\n",
    "\n",
    "movies_csv = pd.read_csv(\"../../data/movies_data.csv\")\n",
    "movies_csv[\"movie_id\"] = movies_csv[\"movie_id\"].apply(lambda x: x - 1)"
   ]
  },
  {
   "cell_type": "code",
   "execution_count": 11,
   "id": "97c51417",
   "metadata": {},
   "outputs": [],
   "source": [
    "def generate_genres_encoding(ids, genres, n_items):\n",
    "    out = np.zeros((n_items, len(genres_map)))\n",
    "    \n",
    "    for movie_id, genre_list in zip(ids, genres):\n",
    "        genre_list = genre_list.split(\"|\")\n",
    "        for genre in genre_list:\n",
    "            out[movie_id, genres_map[genre]] = 1\n",
    "                   \n",
    "    return out"
   ]
  },
  {
   "cell_type": "code",
   "execution_count": 12,
   "id": "7ce2c07d",
   "metadata": {},
   "outputs": [],
   "source": [
    "genres_encoded = generate_genres_encoding(movies_csv[\"movie_id\"].tolist(), movies_csv[\"genres\"].tolist(), movies)"
   ]
  },
  {
   "cell_type": "code",
   "execution_count": 13,
   "id": "2e82e7a0",
   "metadata": {},
   "outputs": [],
   "source": [
    "@njit\n",
    "def jaccard(v1, v2):\n",
    "    intersection = np.logical_and(v1, v2).sum()\n",
    "    union = np.logical_or(v1, v2).sum()\n",
    "    \n",
    "    return float(intersection)/float(union)\n",
    "\n",
    "@njit(parallel=True)\n",
    "def compute_pairwise_similarities_jaccard(genres, n_items):\n",
    "    out = np.zeros((n_items, n_items))\n",
    "    \n",
    "    for i in range(n_items):\n",
    "        for j in prange(n_items):\n",
    "            if i != j:\n",
    "                out[i, j] = jaccard(genres[i], genres[j])\n",
    "                \n",
    "    return out"
   ]
  },
  {
   "cell_type": "code",
   "execution_count": 14,
   "id": "fea446f5",
   "metadata": {},
   "outputs": [],
   "source": [
    "genres_sims_mat = compute_pairwise_similarities_jaccard(genres_encoded, movies)"
   ]
  },
  {
   "cell_type": "code",
   "execution_count": 15,
   "id": "86be9837",
   "metadata": {},
   "outputs": [
    {
     "name": "stdout",
     "output_type": "stream",
     "text": [
      "0.0 0.8453488606804234\n",
      "0.0 1.0\n"
     ]
    }
   ],
   "source": [
    "# Check values ranges in similarities\n",
    "print(reviews_sims_mat.min(), reviews_sims_mat.max())\n",
    "print(genres_sims_mat.min(), genres_sims_mat.max())"
   ]
  },
  {
   "cell_type": "code",
   "execution_count": 16,
   "id": "617e22de",
   "metadata": {},
   "outputs": [],
   "source": [
    "np.save(\"reviews_sims_mat\", reviews_sims_mat)\n",
    "np.save(\"genres_sims_mat\", genres_sims_mat)"
   ]
  },
  {
   "cell_type": "markdown",
   "id": "61f6533c",
   "metadata": {},
   "source": [
    "## Average similarities"
   ]
  },
  {
   "cell_type": "code",
   "execution_count": 17,
   "id": "8f3dbce3",
   "metadata": {},
   "outputs": [],
   "source": [
    "reviews_sims_mat = np.load(\"reviews_sims_mat.npy\")\n",
    "genres_sims_mat = np.load(\"genres_sims_mat.npy\")"
   ]
  },
  {
   "cell_type": "code",
   "execution_count": 26,
   "id": "76fe2bad",
   "metadata": {},
   "outputs": [],
   "source": [
    "# Rescale reviews sims mat because dot product's range is -1 to 1\n",
    "# reviews_sims_mat = (reviews_sims_mat + 1)/2\n",
    "# print(reviews_sims_mat.min(), reviews_sims_mat.max())"
   ]
  },
  {
   "cell_type": "code",
   "execution_count": 18,
   "id": "c89d3eca",
   "metadata": {},
   "outputs": [
    {
     "name": "stdout",
     "output_type": "stream",
     "text": [
      "0.0 0.9226744303402117\n"
     ]
    }
   ],
   "source": [
    "combined_sims_mat = (reviews_sims_mat + genres_sims_mat)/2\n",
    "print(combined_sims_mat.min(), combined_sims_mat.max())\n",
    "\n",
    "np.save(\"combined_sims_mat\", combined_sims_mat)"
   ]
  },
  {
   "cell_type": "code",
   "execution_count": 19,
   "id": "2d13c5ea",
   "metadata": {},
   "outputs": [
    {
     "name": "stdout",
     "output_type": "stream",
     "text": [
      "0.0 1.0\n"
     ]
    }
   ],
   "source": [
    "# Combine similarities, if an item doesn't have a review, use the genre similarity\n",
    "combined_sims_mat = np.zeros_like(reviews_sims_mat)\n",
    "\n",
    "for i in range(movies):\n",
    "    for j in range(movies):\n",
    "        if no_review_idxs[i] or no_review_idxs[j]:\n",
    "            combined_sims_mat[i, j] = genres_sims_mat[i, j]\n",
    "        else:\n",
    "            combined_sims_mat[i, j] = (reviews_sims_mat[i, j] + genres_sims_mat[i, j])/2\n",
    "            \n",
    "print(combined_sims_mat.min(), combined_sims_mat.max())\n",
    "np.save(\"combined_sims_mat_2\", combined_sims_mat)"
   ]
  }
 ],
 "metadata": {
  "kernelspec": {
   "display_name": "Python 3 (ipykernel)",
   "language": "python",
   "name": "python3"
  },
  "language_info": {
   "codemirror_mode": {
    "name": "ipython",
    "version": 3
   },
   "file_extension": ".py",
   "mimetype": "text/x-python",
   "name": "python",
   "nbconvert_exporter": "python",
   "pygments_lexer": "ipython3",
   "version": "3.10.4"
  }
 },
 "nbformat": 4,
 "nbformat_minor": 5
}
