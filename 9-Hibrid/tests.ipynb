{
 "cells": [
  {
   "cell_type": "code",
   "execution_count": 2,
   "id": "2e41a66b",
   "metadata": {},
   "outputs": [],
   "source": [
    "import numpy as np"
   ]
  },
  {
   "cell_type": "code",
   "execution_count": 5,
   "id": "5ff8c681",
   "metadata": {},
   "outputs": [],
   "source": [
    "# Rescale between from [-1, 1] to [0, 1]\n",
    "#  (x - min)\n",
    "#  ---------\n",
    "# (max - min)\n",
    "def scale(arr):\n",
    "    return (arr - -1)/(1 - (-1))"
   ]
  },
  {
   "cell_type": "code",
   "execution_count": 6,
   "id": "ba071ef3",
   "metadata": {},
   "outputs": [
    {
     "data": {
      "text/plain": [
       "array([0.  , 0.6 , 0.5 , 0.9 , 0.05, 1.  ])"
      ]
     },
     "execution_count": 6,
     "metadata": {},
     "output_type": "execute_result"
    }
   ],
   "source": [
    "scale(np.array([-1, 0.2, 0, 0.8, -0.9, 1]))"
   ]
  }
 ],
 "metadata": {
  "kernelspec": {
   "display_name": "Python 3 (ipykernel)",
   "language": "python",
   "name": "python3"
  },
  "language_info": {
   "codemirror_mode": {
    "name": "ipython",
    "version": 3
   },
   "file_extension": ".py",
   "mimetype": "text/x-python",
   "name": "python",
   "nbconvert_exporter": "python",
   "pygments_lexer": "ipython3",
   "version": "3.10.4"
  }
 },
 "nbformat": 4,
 "nbformat_minor": 5
}
