{
 "cells": [
  {
   "cell_type": "code",
   "execution_count": 1,
   "id": "aa818079",
   "metadata": {},
   "outputs": [],
   "source": [
    "import numpy as np\n",
    "from numba import njit, prange\n",
    "import pandas as pd\n",
    "\n",
    "from tqdm.notebook import tqdm"
   ]
  },
  {
   "cell_type": "code",
   "execution_count": 2,
   "id": "ba3d641d",
   "metadata": {},
   "outputs": [],
   "source": [
    "users = 3974\n",
    "movies = 3564\n",
    "\n",
    "train_csv = pd.read_csv(\"../../data/train_data.csv\")\n",
    "test_csv = pd.read_csv(\"../../data/test_data.csv\")\n",
    "\n",
    "train_csv[\"user_id\"] = train_csv[\"user_id\"].apply(lambda x: x - 1)\n",
    "train_csv[\"movie_id\"] = train_csv[\"movie_id\"].apply(lambda x: x - 1)\n",
    "\n",
    "test_csv[\"user_id\"] = test_csv[\"user_id\"].apply(lambda x: x - 1)\n",
    "test_csv[\"movie_id\"] = test_csv[\"movie_id\"].apply(lambda x: x - 1)\n",
    "\n",
    "train_set = train_csv.sample(frac=.8, axis=0)\n",
    "val_set = train_csv.drop(train_set.index, axis=0)\n",
    "\n",
    "assert train_csv.shape[0] == train_set.shape[0] + val_set.shape[0]"
   ]
  },
  {
   "cell_type": "code",
   "execution_count": 3,
   "id": "7eae12c6",
   "metadata": {},
   "outputs": [],
   "source": [
    "train_uir = train_set.values[:, :-1]\n",
    "val_uir = val_set.values[:, :-1]\n",
    "\n",
    "total_uir = train_csv.values[:, :-1]\n",
    "test_ui = test_csv.values[:, 1:-1]"
   ]
  },
  {
   "cell_type": "markdown",
   "id": "b0d16fd4",
   "metadata": {},
   "source": [
    "## Load FBC requirements"
   ]
  },
  {
   "cell_type": "code",
   "execution_count": 4,
   "id": "171f28ba",
   "metadata": {},
   "outputs": [],
   "source": [
    "from fbc_funcs import generate_ratings_mat, predict_batch_fbc, rmse"
   ]
  },
  {
   "cell_type": "code",
   "execution_count": 5,
   "id": "7d516366",
   "metadata": {},
   "outputs": [],
   "source": [
    "sims_mat = np.load(\"combined_sims_mat.npy\")\n",
    "train_ratings_mat = generate_ratings_mat(train_uir, users, movies)\n",
    "total_ratings_mat = generate_ratings_mat(total_uir, users, movies)\n",
    "\n",
    "fbc_k = 88"
   ]
  },
  {
   "cell_type": "markdown",
   "id": "1923427d",
   "metadata": {},
   "source": [
    "## Load SVD requirements"
   ]
  },
  {
   "cell_type": "code",
   "execution_count": 6,
   "id": "c706a89f",
   "metadata": {},
   "outputs": [],
   "source": [
    "from svd_funcs import fit_funk_svd, predict_batch_svd"
   ]
  },
  {
   "cell_type": "code",
   "execution_count": 7,
   "id": "e5e99522",
   "metadata": {},
   "outputs": [],
   "source": [
    "svd_k = 3\n",
    "svd_params_compressed = np.load(\"svd_params_alpha_.006.npy.npz\")"
   ]
  },
  {
   "cell_type": "code",
   "execution_count": 8,
   "id": "9b1dc3ae",
   "metadata": {},
   "outputs": [],
   "source": [
    "μ, bu, bi, P, Q = (\n",
    "    svd_params_compressed[\"μ\"], \n",
    "    svd_params_compressed[\"bu\"], \n",
    "    svd_params_compressed[\"bi\"], \n",
    "    svd_params_compressed[\"P\"], \n",
    "    svd_params_compressed[\"Q\"]\n",
    ")\n",
    "svd_params = (μ, bu, bi, P, Q)"
   ]
  },
  {
   "cell_type": "markdown",
   "id": "b55369a7",
   "metadata": {},
   "source": [
    "## Predict val set both models"
   ]
  },
  {
   "cell_type": "code",
   "execution_count": 9,
   "id": "7cabdb9e",
   "metadata": {},
   "outputs": [],
   "source": [
    "fbc_val = predict_batch_fbc(val_uir[:, :-1], sims_mat, train_ratings_mat, fbc_k)"
   ]
  },
  {
   "cell_type": "code",
   "execution_count": 10,
   "id": "55af2558",
   "metadata": {},
   "outputs": [],
   "source": [
    "svd_val = predict_batch_svd(val_uir[:, :-1], svd_params)"
   ]
  },
  {
   "cell_type": "markdown",
   "id": "2de80019",
   "metadata": {},
   "source": [
    "## Combine both predictions"
   ]
  },
  {
   "cell_type": "code",
   "execution_count": 14,
   "id": "726a4d7b",
   "metadata": {},
   "outputs": [
    {
     "name": "stdout",
     "output_type": "stream",
     "text": [
      "0.8616475379025268\n"
     ]
    }
   ],
   "source": [
    "β = 0.5\n",
    "\n",
    "comb_val = fbc_val*β + svd_val*(1-β)\n",
    "print(rmse(comb_val, val_uir[:, -1]))"
   ]
  },
  {
   "cell_type": "markdown",
   "id": "1fa48f59",
   "metadata": {},
   "source": [
    "## Predict test"
   ]
  },
  {
   "cell_type": "code",
   "execution_count": 15,
   "id": "86275f6e",
   "metadata": {},
   "outputs": [],
   "source": [
    "fbc_test = predict_batch_fbc(test_ui, sims_mat, total_ratings_mat, fbc_k)\n",
    "svd_test = predict_batch_svd(test_ui, svd_params)"
   ]
  },
  {
   "cell_type": "code",
   "execution_count": 16,
   "id": "73683b4b",
   "metadata": {},
   "outputs": [],
   "source": [
    "comb_test = fbc_test*β + svd_test*(1-β)"
   ]
  },
  {
   "cell_type": "code",
   "execution_count": 17,
   "id": "514a66b2",
   "metadata": {},
   "outputs": [
    {
     "data": {
      "text/html": [
       "<div>\n",
       "<style scoped>\n",
       "    .dataframe tbody tr th:only-of-type {\n",
       "        vertical-align: middle;\n",
       "    }\n",
       "\n",
       "    .dataframe tbody tr th {\n",
       "        vertical-align: top;\n",
       "    }\n",
       "\n",
       "    .dataframe thead th {\n",
       "        text-align: right;\n",
       "    }\n",
       "</style>\n",
       "<table border=\"1\" class=\"dataframe\">\n",
       "  <thead>\n",
       "    <tr style=\"text-align: right;\">\n",
       "      <th></th>\n",
       "      <th>id</th>\n",
       "      <th>rating</th>\n",
       "    </tr>\n",
       "  </thead>\n",
       "  <tbody>\n",
       "    <tr>\n",
       "      <th>0</th>\n",
       "      <td>0</td>\n",
       "      <td>3.513224</td>\n",
       "    </tr>\n",
       "    <tr>\n",
       "      <th>1</th>\n",
       "      <td>1</td>\n",
       "      <td>3.443600</td>\n",
       "    </tr>\n",
       "    <tr>\n",
       "      <th>2</th>\n",
       "      <td>2</td>\n",
       "      <td>3.371422</td>\n",
       "    </tr>\n",
       "    <tr>\n",
       "      <th>3</th>\n",
       "      <td>3</td>\n",
       "      <td>3.695300</td>\n",
       "    </tr>\n",
       "    <tr>\n",
       "      <th>4</th>\n",
       "      <td>4</td>\n",
       "      <td>3.357760</td>\n",
       "    </tr>\n",
       "  </tbody>\n",
       "</table>\n",
       "</div>"
      ],
      "text/plain": [
       "   id    rating\n",
       "0   0  3.513224\n",
       "1   1  3.443600\n",
       "2   2  3.371422\n",
       "3   3  3.695300\n",
       "4   4  3.357760"
      ]
     },
     "execution_count": 17,
     "metadata": {},
     "output_type": "execute_result"
    }
   ],
   "source": [
    "out_df = pd.DataFrame.from_dict(\n",
    "    {\n",
    "        \"id\": list(test_csv[\"id\"]),\n",
    "        \"rating\": comb_test\n",
    "    }\n",
    ")\n",
    "\n",
    "out_df.head()"
   ]
  },
  {
   "cell_type": "code",
   "execution_count": 64,
   "id": "6c1c1a37",
   "metadata": {},
   "outputs": [],
   "source": [
    "# out_df.to_csv(\"out_svd_.006.csv\", index=False)"
   ]
  }
 ],
 "metadata": {
  "kernelspec": {
   "display_name": "Python 3 (ipykernel)",
   "language": "python",
   "name": "python3"
  },
  "language_info": {
   "codemirror_mode": {
    "name": "ipython",
    "version": 3
   },
   "file_extension": ".py",
   "mimetype": "text/x-python",
   "name": "python",
   "nbconvert_exporter": "python",
   "pygments_lexer": "ipython3",
   "version": "3.10.4"
  }
 },
 "nbformat": 4,
 "nbformat_minor": 5
}
