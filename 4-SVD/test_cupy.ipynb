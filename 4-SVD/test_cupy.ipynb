{
 "cells": [
  {
   "cell_type": "code",
   "execution_count": 2,
   "id": "1946ed55",
   "metadata": {},
   "outputs": [],
   "source": [
    "import cupy as cp"
   ]
  },
  {
   "cell_type": "code",
   "execution_count": 13,
   "id": "bb8092b4",
   "metadata": {},
   "outputs": [],
   "source": [
    "cp.set_printoptions(suppress=True)"
   ]
  },
  {
   "cell_type": "code",
   "execution_count": 3,
   "id": "c2eacd95",
   "metadata": {},
   "outputs": [],
   "source": [
    "test_mat = cp.array([\n",
    "    [5, 2, 4, 3, 2, 3],\n",
    "    [4, 3, 5, 4, 3, 2],\n",
    "    [1, 5, 3, 4, 4, 5],\n",
    "    [1, 0, 2, 3, 4, 2],\n",
    "])"
   ]
  },
  {
   "cell_type": "code",
   "execution_count": 6,
   "id": "02742e99",
   "metadata": {},
   "outputs": [],
   "source": [
    "U, S, V = cp.linalg.svd(test_mat)"
   ]
  },
  {
   "cell_type": "code",
   "execution_count": 7,
   "id": "9ead2834",
   "metadata": {},
   "outputs": [
    {
     "name": "stdout",
     "output_type": "stream",
     "text": [
      "(4, 4)\n",
      "[[-0.49886556 -0.54387192  0.15566362  0.65658611]\n",
      " [-0.55809113 -0.37497062  0.02218797 -0.73989122]\n",
      " [-0.57732384  0.72729484  0.36289412  0.07776413]\n",
      " [-0.32613591  0.18612518 -0.9184685   0.12413059]]\n"
     ]
    }
   ],
   "source": [
    "print(U.shape)\n",
    "print(U)"
   ]
  },
  {
   "cell_type": "code",
   "execution_count": 8,
   "id": "577769d2",
   "metadata": {},
   "outputs": [
    {
     "name": "stdout",
     "output_type": "stream",
     "text": [
      "(4,)\n",
      "[15.51117567  4.47565753  3.01731438  1.5058994 ]\n"
     ]
    }
   ],
   "source": [
    "print(S.shape)\n",
    "print(S)"
   ]
  },
  {
   "cell_type": "code",
   "execution_count": 9,
   "id": "de9579b6",
   "metadata": {},
   "outputs": [
    {
     "name": "stdout",
     "output_type": "stream",
     "text": [
      "(6, 6)\n",
      "[[-0.36297391 -0.73862266  0.10323606  0.34880181]\n",
      " [-0.3583625   0.31812498  0.72659376 -0.34376848]\n",
      " [-0.46225775 -0.33429857 -0.00485871 -0.39282707]\n",
      " [-0.45236186  0.07508542 -0.24793116 -0.20343871]\n",
      " [-0.4052461   0.32196931 -0.61127417 -0.06569   ]\n",
      " [-0.39659598  0.36355944  0.16203165  0.74842832]]\n"
     ]
    }
   ],
   "source": [
    "print(V.shape)\n",
    "print(V.T[:, :len(S)])"
   ]
  },
  {
   "cell_type": "code",
   "execution_count": 14,
   "id": "556a6a7b",
   "metadata": {},
   "outputs": [
    {
     "data": {
      "text/plain": [
       "array([[ 5.,  2.,  4.,  3.,  2.,  3.],\n",
       "       [ 4.,  3.,  5.,  4.,  3.,  2.],\n",
       "       [ 1.,  5.,  3.,  4.,  4.,  5.],\n",
       "       [ 1., -0.,  2.,  3.,  4.,  2.]])"
      ]
     },
     "execution_count": 14,
     "metadata": {},
     "output_type": "execute_result"
    }
   ],
   "source": [
    "U@cp.diag(S)@V[:4]"
   ]
  },
  {
   "cell_type": "code",
   "execution_count": 15,
   "id": "66197a71",
   "metadata": {},
   "outputs": [
    {
     "name": "stdout",
     "output_type": "stream",
     "text": [
      "(4, 2) (2,) (6, 2)\n"
     ]
    }
   ],
   "source": [
    "k = 2\n",
    "Uk = U[:, :k]\n",
    "Sk = S[:k]\n",
    "Vtk = V.T[:, :k]\n",
    "\n",
    "print(Uk.shape, Sk.shape, Vtk.shape)"
   ]
  },
  {
   "cell_type": "code",
   "execution_count": 17,
   "id": "ec83c47a",
   "metadata": {},
   "outputs": [
    {
     "name": "stdout",
     "output_type": "stream",
     "text": [
      "[[4.60663275 1.99863101 4.39069087 3.31760037 2.35205814 2.18388551]\n",
      " [4.38172412 2.5683285  4.56263668 3.78992676 2.96773172 2.82305242]\n",
      " [0.84611364 4.24466179 3.05132212 4.29529978 4.67701685 4.73493624]\n",
      " [1.22089804 2.07787526 2.05996545 2.35093478 2.31825019 2.30913731]]\n"
     ]
    }
   ],
   "source": [
    "reconstructed = Uk@cp.diag(Sk)@Vtk.T\n",
    "print(reconstructed)"
   ]
  }
 ],
 "metadata": {
  "kernelspec": {
   "display_name": "Python 3 (ipykernel)",
   "language": "python",
   "name": "python3"
  },
  "language_info": {
   "codemirror_mode": {
    "name": "ipython",
    "version": 3
   },
   "file_extension": ".py",
   "mimetype": "text/x-python",
   "name": "python",
   "nbconvert_exporter": "python",
   "pygments_lexer": "ipython3",
   "version": "3.10.4"
  }
 },
 "nbformat": 4,
 "nbformat_minor": 5
}
