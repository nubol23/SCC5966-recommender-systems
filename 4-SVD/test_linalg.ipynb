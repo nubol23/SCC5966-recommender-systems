{
 "cells": [
  {
   "cell_type": "code",
   "execution_count": 1,
   "id": "505b595a",
   "metadata": {},
   "outputs": [],
   "source": [
    "import numpy as np\n",
    "import pandas as pd\n",
    "from numba import njit, prange\n",
    "from numpy.typing import NDArray"
   ]
  },
  {
   "cell_type": "code",
   "execution_count": 2,
   "id": "381aeb8b",
   "metadata": {},
   "outputs": [],
   "source": [
    "np.set_printoptions(suppress=True)"
   ]
  },
  {
   "cell_type": "code",
   "execution_count": 3,
   "id": "d337dae0",
   "metadata": {},
   "outputs": [],
   "source": [
    "train_csv = pd.read_csv(\"../../data/train_data.csv\")\n",
    "test_csv = pd.read_csv(\"../../data/test_data.csv\")\n",
    "\n",
    "# Split into train and validation\n",
    "train_data = train_csv.drop([\"timestamp\"], axis=1).sample(frac=0.8)\n",
    "validation_data = train_csv.drop(train_data.index).drop([\"timestamp\"], axis=1)\n",
    "\n",
    "assert train_data.shape[0] + validation_data.shape[0] == train_csv.shape[0]## Split into train and validation"
   ]
  },
  {
   "cell_type": "markdown",
   "id": "37fd7f5e",
   "metadata": {},
   "source": [
    "(nxm) = (nxk) x (kxk) x (kxm)\n",
    "\n",
    "(4x6) = (4x4) x (4x4) x (4x6)"
   ]
  },
  {
   "cell_type": "code",
   "execution_count": 4,
   "id": "b287178a",
   "metadata": {},
   "outputs": [],
   "source": [
    "test_mat = np.array([\n",
    "    [5, 2, 4, 3, 2, 3],\n",
    "    [4, 3, 5, 4, 3, 2],\n",
    "    [1, 5, 3, 4, 4, 5],\n",
    "    [1, 0, 2, 3, 4, 2],\n",
    "])"
   ]
  },
  {
   "cell_type": "code",
   "execution_count": 13,
   "id": "9090a15f",
   "metadata": {},
   "outputs": [
    {
     "name": "stdout",
     "output_type": "stream",
     "text": [
      "(4, 4)\n",
      "[[-0.49886556 -0.54387192  0.15566362 -0.65658611]\n",
      " [-0.55809113 -0.37497062  0.02218797  0.73989122]\n",
      " [-0.57732384  0.72729484  0.36289412 -0.07776413]\n",
      " [-0.32613591  0.18612518 -0.9184685  -0.12413059]]\n"
     ]
    }
   ],
   "source": [
    "U, S, V = np.linalg.svd(test_mat)\n",
    "\n",
    "print(U.shape)\n",
    "print(U)"
   ]
  },
  {
   "cell_type": "code",
   "execution_count": 14,
   "id": "9877ac60",
   "metadata": {},
   "outputs": [
    {
     "name": "stdout",
     "output_type": "stream",
     "text": [
      "(4,)\n",
      "[15.51117567  4.47565753  3.01731438  1.5058994 ]\n"
     ]
    }
   ],
   "source": [
    "print(S.shape)\n",
    "print(S)"
   ]
  },
  {
   "cell_type": "code",
   "execution_count": 23,
   "id": "33dbd567",
   "metadata": {},
   "outputs": [
    {
     "name": "stdout",
     "output_type": "stream",
     "text": [
      "(6, 6)\n",
      "[[-0.36297391 -0.73862266  0.10323606 -0.34880181]\n",
      " [-0.3583625   0.31812498  0.72659376  0.34376848]\n",
      " [-0.46225775 -0.33429857 -0.00485871  0.39282707]\n",
      " [-0.45236186  0.07508542 -0.24793116  0.20343871]\n",
      " [-0.4052461   0.32196931 -0.61127417  0.06569   ]\n",
      " [-0.39659598  0.36355944  0.16203165 -0.74842832]]\n"
     ]
    }
   ],
   "source": [
    "print(V.shape)\n",
    "print(V.T[:, :len(S)])"
   ]
  },
  {
   "cell_type": "code",
   "execution_count": 22,
   "id": "d3a79a43",
   "metadata": {},
   "outputs": [
    {
     "data": {
      "text/plain": [
       "array([[5., 2., 4., 3., 2., 3.],\n",
       "       [4., 3., 5., 4., 3., 2.],\n",
       "       [1., 5., 3., 4., 4., 5.],\n",
       "       [1., 0., 2., 3., 4., 2.]])"
      ]
     },
     "execution_count": 22,
     "metadata": {},
     "output_type": "execute_result"
    }
   ],
   "source": [
    "U@np.diag(S)@V[:4]"
   ]
  },
  {
   "cell_type": "markdown",
   "id": "2b155a90",
   "metadata": {},
   "source": [
    "$U$ is the users matrix (n_users x n_features)\\\n",
    "$V^T$ is the items matrix (n_items x n_features)"
   ]
  },
  {
   "cell_type": "markdown",
   "id": "aa3a2edf",
   "metadata": {},
   "source": [
    "## Reducing the dimension"
   ]
  },
  {
   "cell_type": "code",
   "execution_count": 27,
   "id": "4ac669ac",
   "metadata": {},
   "outputs": [
    {
     "name": "stdout",
     "output_type": "stream",
     "text": [
      "(4, 2) (2,) (6, 2)\n"
     ]
    }
   ],
   "source": [
    "# Taking 2 latent factors\n",
    "k = 2\n",
    "Uk = U[:, :k]\n",
    "Sk = S[:k]\n",
    "Vtk = V.T[:, :k]\n",
    "\n",
    "print(Uk.shape, Sk.shape, Vtk.shape)"
   ]
  },
  {
   "cell_type": "code",
   "execution_count": 30,
   "id": "aa187be6",
   "metadata": {},
   "outputs": [
    {
     "name": "stdout",
     "output_type": "stream",
     "text": [
      "[[4.60663275 1.99863101 4.39069087 3.31760037 2.35205814 2.18388551]\n",
      " [4.38172412 2.5683285  4.56263668 3.78992676 2.96773172 2.82305242]\n",
      " [0.84611364 4.24466179 3.05132212 4.29529978 4.67701685 4.73493624]\n",
      " [1.22089804 2.07787526 2.05996545 2.35093478 2.31825019 2.30913731]]\n"
     ]
    }
   ],
   "source": [
    "reconstructed = Uk@np.diag(Sk)@Vtk.T\n",
    "print(reconstructed)"
   ]
  }
 ],
 "metadata": {
  "kernelspec": {
   "display_name": "Python 3 (ipykernel)",
   "language": "python",
   "name": "python3"
  },
  "language_info": {
   "codemirror_mode": {
    "name": "ipython",
    "version": 3
   },
   "file_extension": ".py",
   "mimetype": "text/x-python",
   "name": "python",
   "nbconvert_exporter": "python",
   "pygments_lexer": "ipython3",
   "version": "3.10.4"
  }
 },
 "nbformat": 4,
 "nbformat_minor": 5
}
