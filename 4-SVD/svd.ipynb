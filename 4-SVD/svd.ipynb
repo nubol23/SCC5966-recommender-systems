{
 "cells": [
  {
   "cell_type": "code",
   "execution_count": 1,
   "id": "4abf7cb7",
   "metadata": {},
   "outputs": [],
   "source": [
    "import numpy as np\n",
    "import pandas as pd\n",
    "from numba import njit, prange\n",
    "from numpy.typing import NDArray\n",
    "from tqdm.notebook import tqdm\n",
    "\n",
    "import cupy as cp"
   ]
  },
  {
   "cell_type": "code",
   "execution_count": 2,
   "id": "a2ddc10d",
   "metadata": {},
   "outputs": [],
   "source": [
    "np.set_printoptions(suppress=True)"
   ]
  },
  {
   "cell_type": "code",
   "execution_count": 3,
   "id": "21a2ca9d",
   "metadata": {},
   "outputs": [],
   "source": [
    "train_csv = pd.read_csv(\"../../data/train_data.csv\")\n",
    "test_csv = pd.read_csv(\"../../data/test_data.csv\")\n",
    "\n",
    "# Split into train and validation\n",
    "train_data = train_csv.drop([\"timestamp\"], axis=1).sample(frac=0.8)\n",
    "validation_data = train_csv.drop(train_data.index).drop([\"timestamp\"], axis=1)\n",
    "\n",
    "assert train_data.shape[0] + validation_data.shape[0] == train_csv.shape[0]## Split into train and validation"
   ]
  },
  {
   "cell_type": "code",
   "execution_count": 4,
   "id": "c9845a19",
   "metadata": {},
   "outputs": [],
   "source": [
    "@njit\n",
    "def build_matrix_jit(data: NDArray[np.uint8], n_users: int, n_items: int):\n",
    "    \"\"\"\n",
    "    data: Array of size (n_entries, 3) with columns representing:\n",
    "        col 0: user_id\n",
    "        col 1: item_id\n",
    "         col 2: rating\n",
    "    \"\"\"\n",
    "    ratings_mat = np.zeros((n_users+1, n_items+1), dtype=np.uint8)\n",
    "\n",
    "    for row in data:\n",
    "        u, i, r = row\n",
    "        ratings_mat[u, i] = r\n",
    "    \n",
    "    return ratings_mat\n",
    "\n",
    "users = 3974\n",
    "movies = 3564\n",
    "\n",
    "ratings_mat = build_matrix_jit(train_data.values, users, movies)## Compute predictions"
   ]
  },
  {
   "cell_type": "code",
   "execution_count": 5,
   "id": "0fdb6e6f",
   "metadata": {},
   "outputs": [
    {
     "name": "stdout",
     "output_type": "stream",
     "text": [
      "(3975, 3565)\n"
     ]
    }
   ],
   "source": [
    "ratings_mat_gpu = cp.asarray(ratings_mat)\n",
    "print(ratings_mat_gpu.shape)"
   ]
  },
  {
   "cell_type": "code",
   "execution_count": 7,
   "id": "a87094cd",
   "metadata": {},
   "outputs": [],
   "source": [
    "np.save(\"mat\", ratings_mat)"
   ]
  },
  {
   "cell_type": "markdown",
   "id": "01dad88d",
   "metadata": {},
   "source": [
    "$U$: $|users| \\times |features|$\\\n",
    "$\\Sigma$: $|features| \\times |features|$\\\n",
    "$V$: $|features| \\times |items|$"
   ]
  },
  {
   "cell_type": "markdown",
   "id": "6e42bc2f",
   "metadata": {},
   "source": [
    "## Fitting best $k$"
   ]
  },
  {
   "cell_type": "code",
   "execution_count": 6,
   "id": "19c0f047",
   "metadata": {},
   "outputs": [],
   "source": [
    "@njit(nogil=True, parallel=True)\n",
    "def predict_batch(X: NDArray[int], reconstructed_matrix: NDArray[np.float64]):\n",
    "    \"\"\"\n",
    "    X: Array of size (n_entries, 3) with columns representing:\n",
    "        col 0: user_id\n",
    "        col 1: item_id\n",
    "    \"\"\"\n",
    "    predictions = np.zeros(len(X), dtype=np.float64)\n",
    "    \n",
    "    for i in prange(len(X)):\n",
    "        user_id, movie_id = X[i]\n",
    "        predictions[i] = reconstructed_matrix[user_id, movie_id]\n",
    "        \n",
    "    return np.clip(predictions, 1, 5)"
   ]
  },
  {
   "cell_type": "code",
   "execution_count": 15,
   "id": "7ca23f11",
   "metadata": {},
   "outputs": [],
   "source": [
    "@njit(parallel=True)\n",
    "def calc_error(preds, expected):\n",
    "    num = 0\n",
    "    for i in prange(len(preds)):\n",
    "        num += (preds[i] - expected[i])**2\n",
    "\n",
    "    rmse = np.sqrt(num/len(preds))\n",
    "    return rmse"
   ]
  },
  {
   "cell_type": "code",
   "execution_count": 16,
   "id": "05b409ca",
   "metadata": {
    "scrolled": true
   },
   "outputs": [
    {
     "data": {
      "application/vnd.jupyter.widget-view+json": {
       "model_id": "b23ec5e0fae44fe3af4e0f8668fa8caf",
       "version_major": 2,
       "version_minor": 0
      },
      "text/plain": [
       "  0%|          | 0/3563 [00:00<?, ?it/s]"
      ]
     },
     "metadata": {},
     "output_type": "display_data"
    },
    {
     "ename": "KeyboardInterrupt",
     "evalue": "",
     "output_type": "error",
     "traceback": [
      "\u001b[0;31m---------------------------------------------------------------------------\u001b[0m",
      "\u001b[0;31mKeyboardInterrupt\u001b[0m                         Traceback (most recent call last)",
      "Input \u001b[0;32mIn [16]\u001b[0m, in \u001b[0;36m<cell line: 9>\u001b[0;34m()\u001b[0m\n\u001b[1;32m      9\u001b[0m \u001b[38;5;28;01mfor\u001b[39;00m k \u001b[38;5;129;01min\u001b[39;00m tqdm(\u001b[38;5;28mrange\u001b[39m(\u001b[38;5;241m2\u001b[39m, K)):\n\u001b[1;32m     10\u001b[0m     Uk, Sk, Vk \u001b[38;5;241m=\u001b[39m U[:, :k], S[:k], V[:k]\n\u001b[0;32m---> 11\u001b[0m     train_reconstructed \u001b[38;5;241m=\u001b[39m \u001b[43mcp\u001b[49m\u001b[38;5;241;43m.\u001b[39;49m\u001b[43masnumpy\u001b[49m\u001b[43m(\u001b[49m\u001b[43mUk\u001b[49m\u001b[38;5;129;43m@cp\u001b[39;49m\u001b[38;5;241;43m.\u001b[39;49m\u001b[43mdiag\u001b[49m\u001b[43m(\u001b[49m\u001b[43mSk\u001b[49m\u001b[43m)\u001b[49m\u001b[38;5;129;43m@Vk\u001b[39;49m\u001b[43m)\u001b[49m\n\u001b[1;32m     13\u001b[0m     predicted \u001b[38;5;241m=\u001b[39m predict_batch(data_arr, train_reconstructed)\n\u001b[1;32m     15\u001b[0m     errors[k] \u001b[38;5;241m=\u001b[39m calc_error(predicted, expected_arr)\n",
      "File \u001b[0;32m~/anaconda3/envs/scicomp/lib/python3.10/site-packages/cupy/__init__.py:779\u001b[0m, in \u001b[0;36masnumpy\u001b[0;34m(a, stream, order, out)\u001b[0m\n\u001b[1;32m    760\u001b[0m \u001b[38;5;124;03m\"\"\"Returns an array on the host memory from an arbitrary source array.\u001b[39;00m\n\u001b[1;32m    761\u001b[0m \n\u001b[1;32m    762\u001b[0m \u001b[38;5;124;03mArgs:\u001b[39;00m\n\u001b[0;32m   (...)\u001b[0m\n\u001b[1;32m    776\u001b[0m \n\u001b[1;32m    777\u001b[0m \u001b[38;5;124;03m\"\"\"\u001b[39;00m\n\u001b[1;32m    778\u001b[0m \u001b[38;5;28;01mif\u001b[39;00m \u001b[38;5;28misinstance\u001b[39m(a, ndarray):\n\u001b[0;32m--> 779\u001b[0m     \u001b[38;5;28;01mreturn\u001b[39;00m \u001b[43ma\u001b[49m\u001b[38;5;241;43m.\u001b[39;49m\u001b[43mget\u001b[49m\u001b[43m(\u001b[49m\u001b[43mstream\u001b[49m\u001b[38;5;241;43m=\u001b[39;49m\u001b[43mstream\u001b[49m\u001b[43m,\u001b[49m\u001b[43m \u001b[49m\u001b[43morder\u001b[49m\u001b[38;5;241;43m=\u001b[39;49m\u001b[43morder\u001b[49m\u001b[43m,\u001b[49m\u001b[43m \u001b[49m\u001b[43mout\u001b[49m\u001b[38;5;241;43m=\u001b[39;49m\u001b[43mout\u001b[49m\u001b[43m)\u001b[49m\n\u001b[1;32m    780\u001b[0m \u001b[38;5;28;01melif\u001b[39;00m \u001b[38;5;28mhasattr\u001b[39m(a, \u001b[38;5;124m\"\u001b[39m\u001b[38;5;124m__cuda_array_interface__\u001b[39m\u001b[38;5;124m\"\u001b[39m):\n\u001b[1;32m    781\u001b[0m     \u001b[38;5;28;01mreturn\u001b[39;00m array(a)\u001b[38;5;241m.\u001b[39mget(stream\u001b[38;5;241m=\u001b[39mstream, order\u001b[38;5;241m=\u001b[39morder, out\u001b[38;5;241m=\u001b[39mout)\n",
      "\u001b[0;31mKeyboardInterrupt\u001b[0m: "
     ]
    }
   ],
   "source": [
    "data_arr = validation_data.drop([\"rating\"], axis=1).values\n",
    "ratings_mat_gpu = cp.asarray(ratings_mat.astype(np.float64))\n",
    "U, S, V = cp.linalg.svd(ratings_mat_gpu)\n",
    "expected_arr = validation_data[\"rating\"].values\n",
    "\n",
    "K = len(S)\n",
    "errors = np.zeros(len(S))\n",
    "errors[0] = errors[1] = np.inf\n",
    "for k in tqdm(range(2, K)):\n",
    "    Uk, Sk, Vk = U[:, :k], S[:k], V[:k]\n",
    "    train_reconstructed = cp.asnumpy(Uk@cp.diag(Sk)@Vk)\n",
    "    \n",
    "    predicted = predict_batch(data_arr, train_reconstructed)\n",
    "    \n",
    "    errors[k] = calc_error(predicted, expected_arr)"
   ]
  },
  {
   "cell_type": "code",
   "execution_count": 24,
   "id": "f546ffd0",
   "metadata": {},
   "outputs": [
    {
     "name": "stdout",
     "output_type": "stream",
     "text": [
      "2.4738258440299004 25\n"
     ]
    }
   ],
   "source": [
    "mini = np.inf\n",
    "idx = 0\n",
    "for i, e in enumerate(errors):\n",
    "    if e != 0 and mini > e:\n",
    "        mini = e\n",
    "        idx = i\n",
    "        \n",
    "print(mini, idx)"
   ]
  },
  {
   "cell_type": "markdown",
   "id": "5966be11",
   "metadata": {},
   "source": [
    "## Predict"
   ]
  },
  {
   "cell_type": "code",
   "execution_count": 25,
   "id": "754497f0",
   "metadata": {},
   "outputs": [],
   "source": [
    "total_ratings = build_matrix_jit(train_csv.drop([\"timestamp\"], axis=1).values, users, movies)\n",
    "total_ratings_gpu = cp.asarray(total_ratings)\n",
    "\n",
    "U_total, S_total, V_total = cp.linalg.svd(total_ratings_gpu)\n",
    "Uk_total, Sk_total, Vk_total = U_total[:, :k], S_total[:k], V_total[:k]\n",
    "total_reconstructed = cp.asnumpy(Uk_total@cp.diag(Sk_total)@Vk_total)"
   ]
  },
  {
   "cell_type": "code",
   "execution_count": 26,
   "id": "c6210531",
   "metadata": {},
   "outputs": [],
   "source": [
    "test_predictions = predict_batch(\n",
    "    test_csv.drop([\"id\", \"timestamp\"], axis=1).values,\n",
    "    total_reconstructed,\n",
    ")"
   ]
  },
  {
   "cell_type": "code",
   "execution_count": 27,
   "id": "62cbd1b2",
   "metadata": {},
   "outputs": [
    {
     "data": {
      "text/html": [
       "<div>\n",
       "<style scoped>\n",
       "    .dataframe tbody tr th:only-of-type {\n",
       "        vertical-align: middle;\n",
       "    }\n",
       "\n",
       "    .dataframe tbody tr th {\n",
       "        vertical-align: top;\n",
       "    }\n",
       "\n",
       "    .dataframe thead th {\n",
       "        text-align: right;\n",
       "    }\n",
       "</style>\n",
       "<table border=\"1\" class=\"dataframe\">\n",
       "  <thead>\n",
       "    <tr style=\"text-align: right;\">\n",
       "      <th></th>\n",
       "      <th>id</th>\n",
       "      <th>rating</th>\n",
       "    </tr>\n",
       "  </thead>\n",
       "  <tbody>\n",
       "    <tr>\n",
       "      <th>0</th>\n",
       "      <td>0</td>\n",
       "      <td>1.0</td>\n",
       "    </tr>\n",
       "    <tr>\n",
       "      <th>1</th>\n",
       "      <td>1</td>\n",
       "      <td>1.0</td>\n",
       "    </tr>\n",
       "    <tr>\n",
       "      <th>2</th>\n",
       "      <td>2</td>\n",
       "      <td>1.0</td>\n",
       "    </tr>\n",
       "    <tr>\n",
       "      <th>3</th>\n",
       "      <td>3</td>\n",
       "      <td>1.0</td>\n",
       "    </tr>\n",
       "    <tr>\n",
       "      <th>4</th>\n",
       "      <td>4</td>\n",
       "      <td>1.0</td>\n",
       "    </tr>\n",
       "  </tbody>\n",
       "</table>\n",
       "</div>"
      ],
      "text/plain": [
       "   id  rating\n",
       "0   0     1.0\n",
       "1   1     1.0\n",
       "2   2     1.0\n",
       "3   3     1.0\n",
       "4   4     1.0"
      ]
     },
     "execution_count": 27,
     "metadata": {},
     "output_type": "execute_result"
    }
   ],
   "source": [
    "out_df = pd.DataFrame.from_dict(\n",
    "    {\n",
    "        \"id\": list(test_csv[\"id\"]),\n",
    "        \"rating\": test_predictions\n",
    "    }\n",
    ")\n",
    "\n",
    "out_df.head()"
   ]
  },
  {
   "cell_type": "code",
   "execution_count": 30,
   "id": "599b0adb",
   "metadata": {},
   "outputs": [],
   "source": [
    "out_df.to_csv(\"out_svd_1.csv\", index=False)"
   ]
  }
 ],
 "metadata": {
  "kernelspec": {
   "display_name": "Python 3 (ipykernel)",
   "language": "python",
   "name": "python3"
  },
  "language_info": {
   "codemirror_mode": {
    "name": "ipython",
    "version": 3
   },
   "file_extension": ".py",
   "mimetype": "text/x-python",
   "name": "python",
   "nbconvert_exporter": "python",
   "pygments_lexer": "ipython3",
   "version": "3.10.4"
  }
 },
 "nbformat": 4,
 "nbformat_minor": 5
}
