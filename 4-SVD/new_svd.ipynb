{
 "cells": [
  {
   "cell_type": "code",
   "execution_count": 1,
   "id": "4abf7cb7",
   "metadata": {},
   "outputs": [],
   "source": [
    "import numpy as np\n",
    "import pandas as pd\n",
    "from numba import njit, prange\n",
    "from numpy.typing import NDArray\n",
    "from tqdm.notebook import tqdm"
   ]
  },
  {
   "cell_type": "code",
   "execution_count": 2,
   "id": "a2ddc10d",
   "metadata": {},
   "outputs": [],
   "source": [
    "np.set_printoptions(suppress=True)"
   ]
  },
  {
   "cell_type": "code",
   "execution_count": 3,
   "id": "21a2ca9d",
   "metadata": {},
   "outputs": [],
   "source": [
    "train_csv = pd.read_csv(\"../../data/train_data.csv\")\n",
    "test_csv = pd.read_csv(\"../../data/test_data.csv\")\n",
    "\n",
    "train_csv[\"user_id\"] = train_csv[\"user_id\"].apply(lambda x: x - 1)\n",
    "train_csv[\"movie_id\"] = train_csv[\"movie_id\"].apply(lambda x: x - 1)\n",
    "\n",
    "test_csv[\"user_id\"] = test_csv[\"user_id\"].apply(lambda x: x - 1)\n",
    "test_csv[\"movie_id\"] = test_csv[\"movie_id\"].apply(lambda x: x - 1)\n",
    "\n",
    "# Split into train and validation\n",
    "train_data = train_csv.drop([\"timestamp\"], axis=1).sample(frac=0.8)\n",
    "validation_data = train_csv.drop(train_data.index).drop([\"timestamp\"], axis=1)\n",
    "\n",
    "assert train_data.shape[0] + validation_data.shape[0] == train_csv.shape[0]## Split into train and validation"
   ]
  },
  {
   "cell_type": "code",
   "execution_count": 6,
   "id": "c9845a19",
   "metadata": {},
   "outputs": [
    {
     "name": "stdout",
     "output_type": "stream",
     "text": [
      "[[0. 0. 0. ... 0. 0. 0.]\n",
      " [0. 0. 0. ... 0. 0. 0.]\n",
      " [0. 0. 0. ... 0. 0. 0.]\n",
      " ...\n",
      " [0. 0. 0. ... 0. 0. 0.]\n",
      " [0. 0. 0. ... 0. 0. 0.]\n",
      " [0. 0. 0. ... 0. 0. 0.]]\n"
     ]
    }
   ],
   "source": [
    "@njit\n",
    "def build_matrix_jit(data: NDArray[np.uint8], n_users: int, n_items: int):\n",
    "    \"\"\"\n",
    "    data: Array of size (n_entries, 3) with columns representing:\n",
    "        col 0: user_id\n",
    "        col 1: item_id\n",
    "         col 2: rating\n",
    "    \"\"\"\n",
    "    ratings_mat = np.zeros((n_users, n_items), dtype=np.float64)\n",
    "\n",
    "    for row in data:\n",
    "        u, i, r = row\n",
    "        ratings_mat[u, i] = r\n",
    "    \n",
    "    return ratings_mat\n",
    "\n",
    "users = 3974\n",
    "movies = 3564\n",
    "\n",
    "ratings_mat = build_matrix_jit(train_data.values, users, movies)\n",
    "print(ratings_mat)"
   ]
  },
  {
   "cell_type": "code",
   "execution_count": 7,
   "id": "2bf7d930",
   "metadata": {},
   "outputs": [
    {
     "name": "stdout",
     "output_type": "stream",
     "text": [
      "[[3.60451395 3.60451395 3.60451395 ... 3.60451395 3.60451395 3.60451395]\n",
      " [3.60451395 3.60451395 3.60451395 ... 3.60451395 3.60451395 3.60451395]\n",
      " [3.60451395 3.60451395 3.60451395 ... 3.60451395 3.60451395 3.60451395]\n",
      " ...\n",
      " [3.60451395 3.60451395 3.60451395 ... 3.60451395 3.60451395 3.60451395]\n",
      " [3.60451395 3.60451395 3.60451395 ... 3.60451395 3.60451395 3.60451395]\n",
      " [3.60451395 3.60451395 3.60451395 ... 3.60451395 3.60451395 3.60451395]]\n"
     ]
    }
   ],
   "source": [
    "# Fill zeros with the mean of known values\n",
    "mean = np.mean(train_data.values[:, 2])\n",
    "for i in range(ratings_mat.shape[0]):\n",
    "    for j in range(ratings_mat.shape[1]):\n",
    "        if ratings_mat[i, j] == 0:\n",
    "            ratings_mat[i, j] = mean\n",
    "            \n",
    "print(ratings_mat)"
   ]
  },
  {
   "cell_type": "markdown",
   "id": "01dad88d",
   "metadata": {},
   "source": [
    "$U$: $|users| \\times |features|$\\\n",
    "$\\Sigma$: $|features| \\times |features|$\\\n",
    "$V$: $|features| \\times |items|$"
   ]
  },
  {
   "cell_type": "markdown",
   "id": "6e42bc2f",
   "metadata": {},
   "source": [
    "## Fitting best $k$"
   ]
  },
  {
   "cell_type": "code",
   "execution_count": 10,
   "id": "cdb4d091",
   "metadata": {},
   "outputs": [
    {
     "name": "stdout",
     "output_type": "stream",
     "text": [
      "(3974, 3974) (3564,) (3564, 3564)\n"
     ]
    }
   ],
   "source": [
    "U, S, V = np.linalg.svd(ratings_mat)\n",
    "print(U.shape, S.shape, V.shape)"
   ]
  },
  {
   "cell_type": "code",
   "execution_count": 11,
   "id": "e55aa450",
   "metadata": {},
   "outputs": [],
   "source": [
    "uir_val = validation_data.values"
   ]
  },
  {
   "cell_type": "code",
   "execution_count": 12,
   "id": "05b409ca",
   "metadata": {
    "scrolled": true
   },
   "outputs": [
    {
     "data": {
      "application/vnd.jupyter.widget-view+json": {
       "model_id": "a90cdaccdc9747f6a3dd5292bdb5ec37",
       "version_major": 2,
       "version_minor": 0
      },
      "text/plain": [
       "  0%|          | 0/98 [00:00<?, ?it/s]"
      ]
     },
     "metadata": {},
     "output_type": "display_data"
    },
    {
     "name": "stdout",
     "output_type": "stream",
     "text": [
      "1.0144514166049041 20\n"
     ]
    }
   ],
   "source": [
    "init = 2\n",
    "K = 100\n",
    "\n",
    "min_error = np.inf\n",
    "min_k = init\n",
    "for k in tqdm(range(init, K)):\n",
    "    Uk, Sk, Vk = U[:, :k], S[:k], V[:k]\n",
    "    train_reconstructed = Uk@np.diag(Sk)@Vk\n",
    "    \n",
    "    predicted = train_reconstructed[uir_val[:,0], uir_val[:,1]]\n",
    "\n",
    "    error = np.sqrt(np.sum((predicted-uir_val[:,2])**2)/len(uir_val))\n",
    "    \n",
    "    if min_error > error:\n",
    "        min_error = error\n",
    "        min_k = k\n",
    "        \n",
    "print(min_error, min_k)"
   ]
  },
  {
   "cell_type": "markdown",
   "id": "5966be11",
   "metadata": {},
   "source": [
    "## Predict"
   ]
  },
  {
   "cell_type": "code",
   "execution_count": 22,
   "id": "b7817a82",
   "metadata": {},
   "outputs": [
    {
     "name": "stdout",
     "output_type": "stream",
     "text": [
      "[[0. 0. 0. ... 0. 0. 0.]\n",
      " [0. 0. 0. ... 0. 0. 0.]\n",
      " [0. 0. 0. ... 0. 0. 0.]\n",
      " ...\n",
      " [0. 0. 0. ... 0. 0. 0.]\n",
      " [0. 0. 0. ... 0. 0. 0.]\n",
      " [0. 0. 0. ... 0. 0. 0.]]\n"
     ]
    }
   ],
   "source": [
    "uir_total = train_csv.drop([\"timestamp\"], axis=1).values\n",
    "total_ratings = build_matrix_jit(uir_total, users, movies)\n",
    "\n",
    "print(total_ratings)"
   ]
  },
  {
   "cell_type": "code",
   "execution_count": 24,
   "id": "60bdeb15",
   "metadata": {},
   "outputs": [
    {
     "name": "stdout",
     "output_type": "stream",
     "text": [
      "[[3.60381422 3.60381422 3.60381422 ... 3.60381422 3.60381422 3.60381422]\n",
      " [3.60381422 3.60381422 3.60381422 ... 3.60381422 3.60381422 3.60381422]\n",
      " [3.60381422 3.60381422 3.60381422 ... 3.60381422 3.60381422 3.60381422]\n",
      " ...\n",
      " [3.60381422 3.60381422 3.60381422 ... 3.60381422 3.60381422 3.60381422]\n",
      " [3.60381422 3.60381422 3.60381422 ... 3.60381422 3.60381422 3.60381422]\n",
      " [3.60381422 3.60381422 3.60381422 ... 3.60381422 3.60381422 3.60381422]]\n"
     ]
    }
   ],
   "source": [
    "# Fill zeros with the mean of known values\n",
    "mean_total = np.mean(uir_total[:, 2])\n",
    "for i in range(total_ratings.shape[0]):\n",
    "    for j in range(total_ratings.shape[1]):\n",
    "        if total_ratings[i, j] == 0:\n",
    "            total_ratings[i, j] = mean_total\n",
    "            \n",
    "print(total_ratings)"
   ]
  },
  {
   "cell_type": "code",
   "execution_count": 25,
   "id": "8d038c17",
   "metadata": {},
   "outputs": [],
   "source": [
    "ui_test = test_csv.drop([\"id\", \"timestamp\"], axis=1).values"
   ]
  },
  {
   "cell_type": "code",
   "execution_count": 26,
   "id": "754497f0",
   "metadata": {},
   "outputs": [],
   "source": [
    "U_total, S_total, V_total = np.linalg.svd(total_ratings)\n",
    "Uk_total, Sk_total, Vk_total = U_total[:, :min_k], S_total[:min_k], V_total[:min_k]"
   ]
  },
  {
   "cell_type": "code",
   "execution_count": 27,
   "id": "4701cd11",
   "metadata": {},
   "outputs": [],
   "source": [
    "total_reconstructed = Uk_total@np.diag(Sk_total)@Vk_total"
   ]
  },
  {
   "cell_type": "code",
   "execution_count": 34,
   "id": "c6210531",
   "metadata": {},
   "outputs": [],
   "source": [
    "test_predictions = total_reconstructed[ui_test[:, 0], ui_test[:, 1]]\n",
    "test_predictions = np.clip(test_predictions, 1, 5)"
   ]
  },
  {
   "cell_type": "code",
   "execution_count": 35,
   "id": "62cbd1b2",
   "metadata": {},
   "outputs": [
    {
     "data": {
      "text/html": [
       "<div>\n",
       "<style scoped>\n",
       "    .dataframe tbody tr th:only-of-type {\n",
       "        vertical-align: middle;\n",
       "    }\n",
       "\n",
       "    .dataframe tbody tr th {\n",
       "        vertical-align: top;\n",
       "    }\n",
       "\n",
       "    .dataframe thead th {\n",
       "        text-align: right;\n",
       "    }\n",
       "</style>\n",
       "<table border=\"1\" class=\"dataframe\">\n",
       "  <thead>\n",
       "    <tr style=\"text-align: right;\">\n",
       "      <th></th>\n",
       "      <th>id</th>\n",
       "      <th>rating</th>\n",
       "    </tr>\n",
       "  </thead>\n",
       "  <tbody>\n",
       "    <tr>\n",
       "      <th>0</th>\n",
       "      <td>0</td>\n",
       "      <td>3.590959</td>\n",
       "    </tr>\n",
       "    <tr>\n",
       "      <th>1</th>\n",
       "      <td>1</td>\n",
       "      <td>3.585889</td>\n",
       "    </tr>\n",
       "    <tr>\n",
       "      <th>2</th>\n",
       "      <td>2</td>\n",
       "      <td>3.595837</td>\n",
       "    </tr>\n",
       "    <tr>\n",
       "      <th>3</th>\n",
       "      <td>3</td>\n",
       "      <td>3.601659</td>\n",
       "    </tr>\n",
       "    <tr>\n",
       "      <th>4</th>\n",
       "      <td>4</td>\n",
       "      <td>3.586008</td>\n",
       "    </tr>\n",
       "  </tbody>\n",
       "</table>\n",
       "</div>"
      ],
      "text/plain": [
       "   id    rating\n",
       "0   0  3.590959\n",
       "1   1  3.585889\n",
       "2   2  3.595837\n",
       "3   3  3.601659\n",
       "4   4  3.586008"
      ]
     },
     "execution_count": 35,
     "metadata": {},
     "output_type": "execute_result"
    }
   ],
   "source": [
    "out_df = pd.DataFrame.from_dict(\n",
    "    {\n",
    "        \"id\": list(test_csv[\"id\"]),\n",
    "        \"rating\": test_predictions\n",
    "    }\n",
    ")\n",
    "\n",
    "out_df.head()"
   ]
  },
  {
   "cell_type": "code",
   "execution_count": 38,
   "id": "599b0adb",
   "metadata": {},
   "outputs": [],
   "source": [
    "out_df.to_csv(\"out_svd_2.csv\", index=False)"
   ]
  }
 ],
 "metadata": {
  "kernelspec": {
   "display_name": "Python 3 (ipykernel)",
   "language": "python",
   "name": "python3"
  },
  "language_info": {
   "codemirror_mode": {
    "name": "ipython",
    "version": 3
   },
   "file_extension": ".py",
   "mimetype": "text/x-python",
   "name": "python",
   "nbconvert_exporter": "python",
   "pygments_lexer": "ipython3",
   "version": "3.10.4"
  }
 },
 "nbformat": 4,
 "nbformat_minor": 5
}
