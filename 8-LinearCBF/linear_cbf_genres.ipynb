{
 "cells": [
  {
   "cell_type": "code",
   "execution_count": 1,
   "id": "49decc6b",
   "metadata": {},
   "outputs": [],
   "source": [
    "import numpy as np\n",
    "from numba import njit, prange\n",
    "from numba.typed import Dict, List\n",
    "import pandas as pd\n",
    "\n",
    "from tqdm.notebook import tqdm"
   ]
  },
  {
   "cell_type": "code",
   "execution_count": 2,
   "id": "17f91cd3",
   "metadata": {},
   "outputs": [],
   "source": [
    "train_csv = pd.read_csv(\"../../data/train_data.csv\")\n",
    "test_csv = pd.read_csv(\"../../data/test_data.csv\")\n",
    "\n",
    "train_csv[\"user_id\"] = train_csv[\"user_id\"].apply(lambda x: x - 1)\n",
    "train_csv[\"movie_id\"] = train_csv[\"movie_id\"].apply(lambda x: x - 1)\n",
    "\n",
    "test_csv[\"user_id\"] = test_csv[\"user_id\"].apply(lambda x: x - 1)\n",
    "test_csv[\"movie_id\"] = test_csv[\"movie_id\"].apply(lambda x: x - 1)\n",
    "\n",
    "train_set = train_csv.sample(frac=.8, axis=0)\n",
    "val_set = train_csv.drop(train_set.index, axis=0)\n",
    "\n",
    "assert train_csv.shape[0] == train_set.shape[0] + val_set.shape[0]"
   ]
  },
  {
   "cell_type": "code",
   "execution_count": 3,
   "id": "1632b98d",
   "metadata": {},
   "outputs": [],
   "source": [
    "users = 3974\n",
    "movies = 3564"
   ]
  },
  {
   "cell_type": "markdown",
   "id": "c6cfca54",
   "metadata": {},
   "source": [
    "## Load genres"
   ]
  },
  {
   "cell_type": "code",
   "execution_count": 4,
   "id": "90f0b14f",
   "metadata": {},
   "outputs": [
    {
     "data": {
      "text/html": [
       "<div>\n",
       "<style scoped>\n",
       "    .dataframe tbody tr th:only-of-type {\n",
       "        vertical-align: middle;\n",
       "    }\n",
       "\n",
       "    .dataframe tbody tr th {\n",
       "        vertical-align: top;\n",
       "    }\n",
       "\n",
       "    .dataframe thead th {\n",
       "        text-align: right;\n",
       "    }\n",
       "</style>\n",
       "<table border=\"1\" class=\"dataframe\">\n",
       "  <thead>\n",
       "    <tr style=\"text-align: right;\">\n",
       "      <th></th>\n",
       "      <th>movie_id</th>\n",
       "      <th>title</th>\n",
       "      <th>genres</th>\n",
       "    </tr>\n",
       "  </thead>\n",
       "  <tbody>\n",
       "    <tr>\n",
       "      <th>0</th>\n",
       "      <td>0</td>\n",
       "      <td>Toy Story (1995)</td>\n",
       "      <td>Animation|Children's|Comedy</td>\n",
       "    </tr>\n",
       "    <tr>\n",
       "      <th>1</th>\n",
       "      <td>1</td>\n",
       "      <td>Jumanji (1995)</td>\n",
       "      <td>Adventure|Children's|Fantasy</td>\n",
       "    </tr>\n",
       "    <tr>\n",
       "      <th>2</th>\n",
       "      <td>2</td>\n",
       "      <td>Grumpier Old Men (1995)</td>\n",
       "      <td>Comedy|Romance</td>\n",
       "    </tr>\n",
       "    <tr>\n",
       "      <th>3</th>\n",
       "      <td>3</td>\n",
       "      <td>Waiting to Exhale (1995)</td>\n",
       "      <td>Comedy|Drama</td>\n",
       "    </tr>\n",
       "    <tr>\n",
       "      <th>4</th>\n",
       "      <td>4</td>\n",
       "      <td>Father of the Bride Part II (1995)</td>\n",
       "      <td>Comedy</td>\n",
       "    </tr>\n",
       "  </tbody>\n",
       "</table>\n",
       "</div>"
      ],
      "text/plain": [
       "   movie_id                               title                        genres\n",
       "0         0                    Toy Story (1995)   Animation|Children's|Comedy\n",
       "1         1                      Jumanji (1995)  Adventure|Children's|Fantasy\n",
       "2         2             Grumpier Old Men (1995)                Comedy|Romance\n",
       "3         3            Waiting to Exhale (1995)                  Comedy|Drama\n",
       "4         4  Father of the Bride Part II (1995)                        Comedy"
      ]
     },
     "execution_count": 4,
     "metadata": {},
     "output_type": "execute_result"
    }
   ],
   "source": [
    "movies_csv = pd.read_csv(\"../../data/movies_data.csv\")\n",
    "movies_csv[\"movie_id\"] = movies_csv[\"movie_id\"].apply(lambda x: x - 1)\n",
    "movies_csv.head()"
   ]
  },
  {
   "cell_type": "code",
   "execution_count": 5,
   "id": "3b0b4074",
   "metadata": {},
   "outputs": [],
   "source": [
    "genres_raw_dict = {\n",
    "    \"Action\": 0,\n",
    "    \"Adventure\": 1,\n",
    "    \"Animation\": 2,\n",
    "    \"Children's\": 3,\n",
    "    \"Comedy\": 4,\n",
    "    \"Crime\": 5,\n",
    "    \"Documentary\": 6,\n",
    "    \"Drama\": 7,\n",
    "    \"Fantasy\": 8,\n",
    "    \"Film-Noir\": 9,\n",
    "    \"Horror\": 10,\n",
    "    \"Musical\": 11,\n",
    "    \"Mystery\": 12,\n",
    "    \"Romance\": 13,\n",
    "    \"Sci-Fi\": 14,\n",
    "    \"Thriller\": 15,\n",
    "    \"War\": 16,\n",
    "    \"Western\": 17,\n",
    "}\n",
    "\n",
    "genres_map = Dict()\n",
    "for k, v in genres_raw_dict.items():\n",
    "    genres_map[k] = v"
   ]
  },
  {
   "cell_type": "code",
   "execution_count": 6,
   "id": "0cc943d7",
   "metadata": {},
   "outputs": [],
   "source": [
    "@njit(parallel=True)\n",
    "def generate_genres_encoding(ids, genres, n_items, genres_map):\n",
    "    out = np.zeros((n_items, len(genres_map)))\n",
    "    \n",
    "    for movie_id, genre_list in zip(ids, genres):\n",
    "        genre_list = genre_list.split(\"|\")\n",
    "        for genre in genre_list:\n",
    "            out[movie_id, genres_map[genre]] = 1\n",
    "                   \n",
    "    return out\n",
    "\n",
    "# matrix (n_items, n_features)\n",
    "genres_encoded = generate_genres_encoding(\n",
    "    List(movies_csv[\"movie_id\"].tolist()), \n",
    "    List(movies_csv[\"genres\"].tolist()), \n",
    "    movies,\n",
    "    genres_map,\n",
    ")"
   ]
  },
  {
   "cell_type": "markdown",
   "id": "4bafdf8b",
   "metadata": {},
   "source": [
    "## Train model"
   ]
  },
  {
   "cell_type": "code",
   "execution_count": 7,
   "id": "9752be19",
   "metadata": {},
   "outputs": [],
   "source": [
    "@njit\n",
    "def fit(train_uir, features, n_users, n_items, α=0.05, λ=0.002, n_iters=20):\n",
    "    n_features = features.shape[1]\n",
    "\n",
    "    profiles = np.random.normal(0, .1, (n_users, n_features))\n",
    "    biases = np.zeros((n_users, 1))\n",
    "    \n",
    "    for it in range(n_iters):\n",
    "        for u, i, r in train_uir:\n",
    "            e_ui = (np.dot(profiles[u], features[i]) + biases[u]) - r\n",
    "            \n",
    "            profiles[u] -= α*(e_ui*features[i] + λ*profiles[u])\n",
    "            biases[u] -= α*e_ui\n",
    "            \n",
    "    return profiles, biases"
   ]
  },
  {
   "cell_type": "code",
   "execution_count": 8,
   "id": "25bf7fd2",
   "metadata": {},
   "outputs": [],
   "source": [
    "train_fitted = fit(train_set.values[:,:-1], genres_encoded, users, movies)"
   ]
  },
  {
   "cell_type": "markdown",
   "id": "b222c9ab",
   "metadata": {},
   "source": [
    "## Predictions"
   ]
  },
  {
   "cell_type": "code",
   "execution_count": 9,
   "id": "c495ea0c",
   "metadata": {
    "scrolled": true
   },
   "outputs": [
    {
     "name": "stdout",
     "output_type": "stream",
     "text": [
      "[2.94606727]\n"
     ]
    }
   ],
   "source": [
    "train_profiles, train_biases = train_fitted\n",
    "print(np.dot(train_profiles[0], genres_encoded[10]) + train_biases[0])"
   ]
  },
  {
   "cell_type": "code",
   "execution_count": 10,
   "id": "61c1aab4",
   "metadata": {},
   "outputs": [],
   "source": [
    "def predict_batch(ui_mat, features_mat, profiles, biases):\n",
    "    # (n_users x n_features) x (n_items, n_features)^T + (n_users, 1) \n",
    "    predictions_mat = profiles@features_mat.T + biases\n",
    "    \n",
    "    return predictions_mat[ui_mat[:, 0], ui_mat[:, 1]]"
   ]
  },
  {
   "cell_type": "code",
   "execution_count": 11,
   "id": "e983f734",
   "metadata": {},
   "outputs": [],
   "source": [
    "@njit(parallel=True)\n",
    "def rmse(pred, expected):\n",
    "    return np.sqrt(np.sum((pred-expected)**2)/pred.shape[0])"
   ]
  },
  {
   "cell_type": "code",
   "execution_count": 12,
   "id": "e038f688",
   "metadata": {},
   "outputs": [],
   "source": [
    "val_uir = val_set.values[:, :-1]"
   ]
  },
  {
   "cell_type": "code",
   "execution_count": 13,
   "id": "91c517b6",
   "metadata": {},
   "outputs": [
    {
     "data": {
      "text/plain": [
       "1.0616414711878002"
      ]
     },
     "execution_count": 13,
     "metadata": {},
     "output_type": "execute_result"
    }
   ],
   "source": [
    "preds_val = predict_batch(val_uir, genres_encoded, train_profiles, train_biases)\n",
    "\n",
    "rmse(preds_val, val_uir[:, -1])"
   ]
  },
  {
   "cell_type": "markdown",
   "id": "45b38a7c",
   "metadata": {},
   "source": [
    "## Choose best params"
   ]
  },
  {
   "cell_type": "code",
   "execution_count": 14,
   "id": "f2e387b7",
   "metadata": {},
   "outputs": [],
   "source": [
    "uir_train = train_set.values[:,:-1]\n",
    "expected_val = val_uir[:, -1]"
   ]
  },
  {
   "cell_type": "code",
   "execution_count": 15,
   "id": "78337ae4",
   "metadata": {},
   "outputs": [
    {
     "data": {
      "application/vnd.jupyter.widget-view+json": {
       "model_id": "2ae2ee01680145d6ab11b88bd4822647",
       "version_major": 2,
       "version_minor": 0
      },
      "text/plain": [
       "  0%|          | 0/10 [00:00<?, ?it/s]"
      ]
     },
     "metadata": {},
     "output_type": "display_data"
    },
    {
     "data": {
      "application/vnd.jupyter.widget-view+json": {
       "model_id": "68c18b85675b4a5fbf4afc4450c3427b",
       "version_major": 2,
       "version_minor": 0
      },
      "text/plain": [
       "  0%|          | 0/10 [00:00<?, ?it/s]"
      ]
     },
     "metadata": {},
     "output_type": "display_data"
    },
    {
     "data": {
      "application/vnd.jupyter.widget-view+json": {
       "model_id": "307ba558732d4998b7bca342bebe270b",
       "version_major": 2,
       "version_minor": 0
      },
      "text/plain": [
       "  0%|          | 0/10 [00:00<?, ?it/s]"
      ]
     },
     "metadata": {},
     "output_type": "display_data"
    },
    {
     "data": {
      "application/vnd.jupyter.widget-view+json": {
       "model_id": "34cbea322a734181bc583c99041f116a",
       "version_major": 2,
       "version_minor": 0
      },
      "text/plain": [
       "  0%|          | 0/10 [00:00<?, ?it/s]"
      ]
     },
     "metadata": {},
     "output_type": "display_data"
    },
    {
     "data": {
      "application/vnd.jupyter.widget-view+json": {
       "model_id": "fc4163a4f7a8406b84587c5c886c290c",
       "version_major": 2,
       "version_minor": 0
      },
      "text/plain": [
       "  0%|          | 0/10 [00:00<?, ?it/s]"
      ]
     },
     "metadata": {},
     "output_type": "display_data"
    },
    {
     "data": {
      "application/vnd.jupyter.widget-view+json": {
       "model_id": "a63401b7741b4b52b092aa80bdcfb1c4",
       "version_major": 2,
       "version_minor": 0
      },
      "text/plain": [
       "  0%|          | 0/10 [00:00<?, ?it/s]"
      ]
     },
     "metadata": {},
     "output_type": "display_data"
    },
    {
     "data": {
      "application/vnd.jupyter.widget-view+json": {
       "model_id": "60d6c2da367842b68b3454a6867e7ff2",
       "version_major": 2,
       "version_minor": 0
      },
      "text/plain": [
       "  0%|          | 0/10 [00:00<?, ?it/s]"
      ]
     },
     "metadata": {},
     "output_type": "display_data"
    },
    {
     "data": {
      "application/vnd.jupyter.widget-view+json": {
       "model_id": "cae545f8407f4b9580536e62767f103b",
       "version_major": 2,
       "version_minor": 0
      },
      "text/plain": [
       "  0%|          | 0/10 [00:00<?, ?it/s]"
      ]
     },
     "metadata": {},
     "output_type": "display_data"
    },
    {
     "data": {
      "application/vnd.jupyter.widget-view+json": {
       "model_id": "b13a4b348ebd408485c2910030eca593",
       "version_major": 2,
       "version_minor": 0
      },
      "text/plain": [
       "  0%|          | 0/10 [00:00<?, ?it/s]"
      ]
     },
     "metadata": {},
     "output_type": "display_data"
    },
    {
     "data": {
      "application/vnd.jupyter.widget-view+json": {
       "model_id": "9d996262887142b4a91089fd1fb437e3",
       "version_major": 2,
       "version_minor": 0
      },
      "text/plain": [
       "  0%|          | 0/10 [00:00<?, ?it/s]"
      ]
     },
     "metadata": {},
     "output_type": "display_data"
    },
    {
     "data": {
      "application/vnd.jupyter.widget-view+json": {
       "model_id": "278fafab3da1465682955e33794ebc00",
       "version_major": 2,
       "version_minor": 0
      },
      "text/plain": [
       "  0%|          | 0/10 [00:00<?, ?it/s]"
      ]
     },
     "metadata": {},
     "output_type": "display_data"
    }
   ],
   "source": [
    "min_error = np.inf\n",
    "best_params = [0.005, 0.001, 20]\n",
    "for lr in tqdm(np.linspace(0.005, 0.1, num=10)):\n",
    "    for λ in tqdm(np.linspace(0.001, 0.01, num=10)):\n",
    "        for epochs in range(20, 50, 10):\n",
    "            fitted_profiles, fitted_biases = fit(uir_train, genres_encoded, users, movies, lr, λ, n_iters=epochs)\n",
    "            \n",
    "            val_preds = predict_batch(val_uir, genres_encoded, fitted_profiles, fitted_biases)\n",
    "            \n",
    "            error = rmse(val_preds, expected_val)\n",
    "            \n",
    "            if min_error > error:\n",
    "                min_error = error\n",
    "                best_params = [lr, λ, epochs]"
   ]
  },
  {
   "cell_type": "code",
   "execution_count": 22,
   "id": "78f74b2c",
   "metadata": {},
   "outputs": [
    {
     "name": "stdout",
     "output_type": "stream",
     "text": [
      "1.0237881078960265 [0.005, 0.01, 40]\n"
     ]
    }
   ],
   "source": [
    "print(min_error, best_params)"
   ]
  },
  {
   "cell_type": "markdown",
   "id": "db62b36b",
   "metadata": {},
   "source": [
    "## Fit on total data"
   ]
  },
  {
   "cell_type": "code",
   "execution_count": 16,
   "id": "a5b198bd",
   "metadata": {},
   "outputs": [],
   "source": [
    "total_profiles, total_biases = fit(\n",
    "    train_csv.values[:,:-1], \n",
    "    genres_encoded, \n",
    "    users, \n",
    "    movies, \n",
    "    α=best_params[0], \n",
    "    λ=best_params[1], \n",
    "    n_iters=best_params[2]\n",
    ")"
   ]
  },
  {
   "cell_type": "markdown",
   "id": "a7923313",
   "metadata": {},
   "source": [
    "## Predict on test data"
   ]
  },
  {
   "cell_type": "code",
   "execution_count": 17,
   "id": "972c8155",
   "metadata": {},
   "outputs": [],
   "source": [
    "test_ui = test_csv.values[:, 1:3]"
   ]
  },
  {
   "cell_type": "code",
   "execution_count": 18,
   "id": "6fc74b53",
   "metadata": {},
   "outputs": [],
   "source": [
    "test_preds = predict_batch(test_ui, genres_encoded, total_profiles, total_biases)"
   ]
  },
  {
   "cell_type": "code",
   "execution_count": 19,
   "id": "b16068e2",
   "metadata": {},
   "outputs": [
    {
     "data": {
      "text/html": [
       "<div>\n",
       "<style scoped>\n",
       "    .dataframe tbody tr th:only-of-type {\n",
       "        vertical-align: middle;\n",
       "    }\n",
       "\n",
       "    .dataframe tbody tr th {\n",
       "        vertical-align: top;\n",
       "    }\n",
       "\n",
       "    .dataframe thead th {\n",
       "        text-align: right;\n",
       "    }\n",
       "</style>\n",
       "<table border=\"1\" class=\"dataframe\">\n",
       "  <thead>\n",
       "    <tr style=\"text-align: right;\">\n",
       "      <th></th>\n",
       "      <th>id</th>\n",
       "      <th>rating</th>\n",
       "    </tr>\n",
       "  </thead>\n",
       "  <tbody>\n",
       "    <tr>\n",
       "      <th>0</th>\n",
       "      <td>0</td>\n",
       "      <td>3.346339</td>\n",
       "    </tr>\n",
       "    <tr>\n",
       "      <th>1</th>\n",
       "      <td>1</td>\n",
       "      <td>3.839580</td>\n",
       "    </tr>\n",
       "    <tr>\n",
       "      <th>2</th>\n",
       "      <td>2</td>\n",
       "      <td>3.751718</td>\n",
       "    </tr>\n",
       "    <tr>\n",
       "      <th>3</th>\n",
       "      <td>3</td>\n",
       "      <td>3.751718</td>\n",
       "    </tr>\n",
       "    <tr>\n",
       "      <th>4</th>\n",
       "      <td>4</td>\n",
       "      <td>3.320649</td>\n",
       "    </tr>\n",
       "  </tbody>\n",
       "</table>\n",
       "</div>"
      ],
      "text/plain": [
       "   id    rating\n",
       "0   0  3.346339\n",
       "1   1  3.839580\n",
       "2   2  3.751718\n",
       "3   3  3.751718\n",
       "4   4  3.320649"
      ]
     },
     "execution_count": 19,
     "metadata": {},
     "output_type": "execute_result"
    }
   ],
   "source": [
    "out_csv = pd.DataFrame.from_dict({\n",
    "    \"id\": test_csv[\"id\"].tolist(),\n",
    "    \"rating\": test_preds\n",
    "})\n",
    "\n",
    "out_csv.head()"
   ]
  },
  {
   "cell_type": "code",
   "execution_count": 20,
   "id": "93176625",
   "metadata": {},
   "outputs": [],
   "source": [
    "out_csv.to_csv(\"out_linearcbf_generos_1.csv\", index=False)"
   ]
  }
 ],
 "metadata": {
  "kernelspec": {
   "display_name": "Python 3 (ipykernel)",
   "language": "python",
   "name": "python3"
  },
  "language_info": {
   "codemirror_mode": {
    "name": "ipython",
    "version": 3
   },
   "file_extension": ".py",
   "mimetype": "text/x-python",
   "name": "python",
   "nbconvert_exporter": "python",
   "pygments_lexer": "ipython3",
   "version": "3.10.4"
  }
 },
 "nbformat": 4,
 "nbformat_minor": 5
}
