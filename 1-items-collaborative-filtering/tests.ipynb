{
 "cells": [
  {
   "cell_type": "markdown",
   "id": "58541754",
   "metadata": {},
   "source": [
    "## Item colaborative filtering"
   ]
  },
  {
   "cell_type": "code",
   "execution_count": 1,
   "id": "16cfaeef",
   "metadata": {},
   "outputs": [],
   "source": [
    "from typing import List\n",
    "from numba import jit, prange"
   ]
  },
  {
   "cell_type": "code",
   "execution_count": 2,
   "id": "0005b6c8",
   "metadata": {},
   "outputs": [],
   "source": [
    "import numpy as np\n",
    "np.set_printoptions(suppress=True)"
   ]
  },
  {
   "cell_type": "code",
   "execution_count": 3,
   "id": "8f6e7661",
   "metadata": {},
   "outputs": [],
   "source": [
    "ratings = np.array([\n",
    "    [4, -1, 3, 4, -1],\n",
    "    [1, 2, 5, -1, 3],\n",
    "    [1, -1, -1, 5, -1],\n",
    "    [-1, 3, 4, 5, 3],\n",
    "    [2, -1, 5, 4, 5],\n",
    "])"
   ]
  },
  {
   "cell_type": "code",
   "execution_count": 4,
   "id": "86a4db93",
   "metadata": {},
   "outputs": [],
   "source": [
    "@jit(nopython=True, parallel=True)\n",
    "def get_means(ratings: np.array, eps=1e-15) -> List[int]:\n",
    "    means = np.zeros(ratings.shape[1])\n",
    "    counts = np.zeros(ratings.shape[1])\n",
    "    \n",
    "    for i in prange(ratings.shape[1]):\n",
    "        for u in range(ratings.shape[0]):\n",
    "            if ratings[u, i] != -1:\n",
    "                means[i] += ratings[u, i]\n",
    "                counts[i] += 1\n",
    "                \n",
    "    return means/(counts+eps)\n",
    "\n",
    "assert np.allclose(get_means(ratings).round(2), np.array([2, 2.5, 4.25, 4.5, 3.67])) is True"
   ]
  },
  {
   "cell_type": "code",
   "execution_count": 5,
   "id": "9b3a2e72",
   "metadata": {},
   "outputs": [],
   "source": [
    "@jit(nopython=True)\n",
    "def sim(i: int, j: int, ratings: np.array, means: np.array, eps=1e-15) -> float:\n",
    "    user_idxs = []\n",
    "    \n",
    "    # Get users (indexes) that rated both items i and j\n",
    "    for u in range(ratings.shape[0]):\n",
    "        if ratings[u, i] != -1 and ratings[u, j] != -1:\n",
    "            user_idxs.append(u)\n",
    "    \n",
    "    # Calculate similarity        \n",
    "    n_ui, n_uj, cov_ui_uj = 0, 0, 0\n",
    "    for u in user_idxs:\n",
    "        r_ui_r = ratings[u, i] - means[i]\n",
    "        r_uj_r = ratings[u, j] - means[j]\n",
    "        \n",
    "        cov_ui_uj += (r_ui_r * r_uj_r)\n",
    "        n_ui += r_ui_r**2\n",
    "        n_uj += r_uj_r**2\n",
    "        \n",
    "    return cov_ui_uj/(np.sqrt(n_ui)*np.sqrt(n_uj) + eps)\n",
    "\n",
    "for i, expected in zip(range(4), [0.45, 0.0, 0.37, -0.95]):\n",
    "    assert abs(round(sim(4, i, ratings, get_means(ratings)), 2) - expected) < 1e-5"
   ]
  },
  {
   "cell_type": "code",
   "execution_count": 13,
   "id": "5213713b",
   "metadata": {},
   "outputs": [],
   "source": [
    "@jit(nopython=True)\n",
    "def pred(u: int, i: int, k: int, ratings: np.array, means: np.array, eps=1e-15) -> float:\n",
    "    chosen_items = 0\n",
    "    \n",
    "    similarities = []\n",
    "    for j in range(ratings.shape[1]):\n",
    "        if ratings[u, j] != -1:\n",
    "            similarities.append((sim(i, j, ratings, means), ratings[u, j]))\n",
    "            \n",
    "    numerator, denominator = 0, 0\n",
    "    for similarity_ij, rating_uj in sorted(similarities, reverse=True)[:k]:\n",
    "        numerator += similarity_ij*rating_uj\n",
    "        denominator += similarity_ij\n",
    "    \n",
    "    return int(round(numerator/(denominator + eps)))\n",
    "    \n",
    "assert abs(round(pred(0, 4, 2, ratings, get_means(ratings)), 2) - round(3.55)) == 0"
   ]
  }
 ],
 "metadata": {
  "kernelspec": {
   "display_name": "Python 3 (ipykernel)",
   "language": "python",
   "name": "python3"
  },
  "language_info": {
   "codemirror_mode": {
    "name": "ipython",
    "version": 3
   },
   "file_extension": ".py",
   "mimetype": "text/x-python",
   "name": "python",
   "nbconvert_exporter": "python",
   "pygments_lexer": "ipython3",
   "version": "3.9.7"
  }
 },
 "nbformat": 4,
 "nbformat_minor": 5
}
