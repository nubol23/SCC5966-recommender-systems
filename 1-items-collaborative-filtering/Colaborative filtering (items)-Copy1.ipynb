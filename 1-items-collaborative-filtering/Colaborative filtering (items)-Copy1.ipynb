{
 "cells": [
  {
   "cell_type": "code",
   "execution_count": 1,
   "id": "38172190",
   "metadata": {},
   "outputs": [],
   "source": [
    "import numpy as np\n",
    "import pandas as pd\n",
    "\n",
    "from numba import jit, prange\n",
    "from numpy.typing import NDArray\n",
    "from typing import Tuple\n",
    "\n",
    "from typing import List\n",
    "\n",
    "from tqdm.notebook import tqdm"
   ]
  },
  {
   "cell_type": "markdown",
   "id": "d1d4d7d5",
   "metadata": {},
   "source": [
    "For colaborative filtering, we will only be using the ratings data"
   ]
  },
  {
   "cell_type": "code",
   "execution_count": 2,
   "id": "f6d8bf91",
   "metadata": {},
   "outputs": [],
   "source": [
    "train_csv = pd.read_csv(\"../../data/train_data.csv\")\n",
    "test_csv = pd.read_csv(\"../../data/test_data.csv\")"
   ]
  },
  {
   "cell_type": "code",
   "execution_count": 3,
   "id": "88fe7d7d",
   "metadata": {},
   "outputs": [
    {
     "name": "stdout",
     "output_type": "stream",
     "text": [
      "(535784, 4)\n"
     ]
    },
    {
     "data": {
      "text/html": [
       "<div>\n",
       "<style scoped>\n",
       "    .dataframe tbody tr th:only-of-type {\n",
       "        vertical-align: middle;\n",
       "    }\n",
       "\n",
       "    .dataframe tbody tr th {\n",
       "        vertical-align: top;\n",
       "    }\n",
       "\n",
       "    .dataframe thead th {\n",
       "        text-align: right;\n",
       "    }\n",
       "</style>\n",
       "<table border=\"1\" class=\"dataframe\">\n",
       "  <thead>\n",
       "    <tr style=\"text-align: right;\">\n",
       "      <th></th>\n",
       "      <th>user_id</th>\n",
       "      <th>movie_id</th>\n",
       "      <th>rating</th>\n",
       "      <th>timestamp</th>\n",
       "    </tr>\n",
       "  </thead>\n",
       "  <tbody>\n",
       "    <tr>\n",
       "      <th>0</th>\n",
       "      <td>1</td>\n",
       "      <td>1160</td>\n",
       "      <td>5</td>\n",
       "      <td>974769817</td>\n",
       "    </tr>\n",
       "    <tr>\n",
       "      <th>1</th>\n",
       "      <td>1</td>\n",
       "      <td>1129</td>\n",
       "      <td>3</td>\n",
       "      <td>974769817</td>\n",
       "    </tr>\n",
       "    <tr>\n",
       "      <th>2</th>\n",
       "      <td>1</td>\n",
       "      <td>3328</td>\n",
       "      <td>4</td>\n",
       "      <td>974769817</td>\n",
       "    </tr>\n",
       "    <tr>\n",
       "      <th>3</th>\n",
       "      <td>1</td>\n",
       "      <td>2659</td>\n",
       "      <td>2</td>\n",
       "      <td>974769817</td>\n",
       "    </tr>\n",
       "    <tr>\n",
       "      <th>4</th>\n",
       "      <td>1</td>\n",
       "      <td>980</td>\n",
       "      <td>3</td>\n",
       "      <td>974769817</td>\n",
       "    </tr>\n",
       "  </tbody>\n",
       "</table>\n",
       "</div>"
      ],
      "text/plain": [
       "   user_id  movie_id  rating  timestamp\n",
       "0        1      1160       5  974769817\n",
       "1        1      1129       3  974769817\n",
       "2        1      3328       4  974769817\n",
       "3        1      2659       2  974769817\n",
       "4        1       980       3  974769817"
      ]
     },
     "execution_count": 3,
     "metadata": {},
     "output_type": "execute_result"
    }
   ],
   "source": [
    "print(train_csv.shape)\n",
    "train_csv.head()"
   ]
  },
  {
   "cell_type": "markdown",
   "id": "e165bbf0",
   "metadata": {},
   "source": [
    "## Split into train and validation"
   ]
  },
  {
   "cell_type": "code",
   "execution_count": 4,
   "id": "ea5702a2",
   "metadata": {},
   "outputs": [],
   "source": [
    "train_data = train_csv.drop([\"timestamp\"], axis=1).sample(frac=0.8)\n",
    "validation_data = train_csv.drop(train_data.index).drop([\"timestamp\"], axis=1)\n",
    "\n",
    "assert train_data.shape[0] + validation_data.shape[0] == train_csv.shape[0]"
   ]
  },
  {
   "cell_type": "code",
   "execution_count": 5,
   "id": "586b3e1f",
   "metadata": {},
   "outputs": [
    {
     "data": {
      "text/html": [
       "<div>\n",
       "<style scoped>\n",
       "    .dataframe tbody tr th:only-of-type {\n",
       "        vertical-align: middle;\n",
       "    }\n",
       "\n",
       "    .dataframe tbody tr th {\n",
       "        vertical-align: top;\n",
       "    }\n",
       "\n",
       "    .dataframe thead th {\n",
       "        text-align: right;\n",
       "    }\n",
       "</style>\n",
       "<table border=\"1\" class=\"dataframe\">\n",
       "  <thead>\n",
       "    <tr style=\"text-align: right;\">\n",
       "      <th></th>\n",
       "      <th>user_id</th>\n",
       "      <th>movie_id</th>\n",
       "      <th>rating</th>\n",
       "    </tr>\n",
       "  </thead>\n",
       "  <tbody>\n",
       "    <tr>\n",
       "      <th>13216</th>\n",
       "      <td>174</td>\n",
       "      <td>2312</td>\n",
       "      <td>4</td>\n",
       "    </tr>\n",
       "    <tr>\n",
       "      <th>451103</th>\n",
       "      <td>3261</td>\n",
       "      <td>3145</td>\n",
       "      <td>4</td>\n",
       "    </tr>\n",
       "    <tr>\n",
       "      <th>395798</th>\n",
       "      <td>2919</td>\n",
       "      <td>980</td>\n",
       "      <td>5</td>\n",
       "    </tr>\n",
       "    <tr>\n",
       "      <th>151721</th>\n",
       "      <td>1382</td>\n",
       "      <td>3311</td>\n",
       "      <td>4</td>\n",
       "    </tr>\n",
       "    <tr>\n",
       "      <th>459109</th>\n",
       "      <td>3316</td>\n",
       "      <td>1464</td>\n",
       "      <td>2</td>\n",
       "    </tr>\n",
       "  </tbody>\n",
       "</table>\n",
       "</div>"
      ],
      "text/plain": [
       "        user_id  movie_id  rating\n",
       "13216       174      2312       4\n",
       "451103     3261      3145       4\n",
       "395798     2919       980       5\n",
       "151721     1382      3311       4\n",
       "459109     3316      1464       2"
      ]
     },
     "execution_count": 5,
     "metadata": {},
     "output_type": "execute_result"
    }
   ],
   "source": [
    "train_data.head()"
   ]
  },
  {
   "cell_type": "markdown",
   "id": "d1dbdd65",
   "metadata": {},
   "source": [
    "## Build train matrix"
   ]
  },
  {
   "cell_type": "code",
   "execution_count": 6,
   "id": "2d4828dc",
   "metadata": {},
   "outputs": [],
   "source": [
    "def build_matrix(df, n_users, n_items):\n",
    "    ratings_mat = np.ones((n_users+1, n_items+1), dtype=np.int8)*-1\n",
    "\n",
    "    for _, row in df.iterrows():\n",
    "        u = row[\"user_id\"]\n",
    "        i = row[\"movie_id\"]\n",
    "        r = row[\"rating\"]\n",
    "\n",
    "        ratings_mat[u, i] = r\n",
    "        \n",
    "    return ratings_mat\n",
    "\n",
    "# train_mat = build_matrix(train_data, 3974, 3564)"
   ]
  },
  {
   "cell_type": "code",
   "execution_count": 7,
   "id": "081166e6",
   "metadata": {},
   "outputs": [],
   "source": [
    "@jit(nopython=True)\n",
    "def build_matrix_jit(data: NDArray[np.uint8], n_users: int, n_items: int):\n",
    "    \"\"\"\n",
    "    data: Array of size (n_entries, 3) with columns representing:\n",
    "        col 0: user_id\n",
    "        col 1: item_id\n",
    "        col 2: rating\n",
    "    \"\"\"\n",
    "    ratings_mat = np.ones((n_users+1, n_items+1), dtype=np.int8)*-1\n",
    "\n",
    "    for row in data:\n",
    "        u, i, r = row\n",
    "        ratings_mat[u, i] = r\n",
    "        \n",
    "    return ratings_mat"
   ]
  },
  {
   "cell_type": "code",
   "execution_count": 8,
   "id": "0a15b699",
   "metadata": {},
   "outputs": [],
   "source": [
    "users = 3974\n",
    "movies = 3564\n",
    "\n",
    "ratings_mat = build_matrix_jit(train_data.values, users, movies)"
   ]
  },
  {
   "cell_type": "markdown",
   "id": "0469f159",
   "metadata": {},
   "source": [
    "## Compute predictions"
   ]
  },
  {
   "cell_type": "code",
   "execution_count": 9,
   "id": "d281a519",
   "metadata": {},
   "outputs": [],
   "source": [
    "@jit(nopython=True, parallel=True)\n",
    "def get_means(ratings: np.array, eps=1e-15) -> List[int]:\n",
    "    means = np.zeros(ratings.shape[1])\n",
    "    counts = np.zeros(ratings.shape[1])\n",
    "    \n",
    "    for i in prange(ratings.shape[1]):\n",
    "        for u in range(ratings.shape[0]):\n",
    "            if ratings[u, i] != -1:\n",
    "                means[i] += ratings[u, i]\n",
    "                counts[i] += 1\n",
    "                \n",
    "    return means/(counts+eps)\n",
    "\n",
    "@jit(nopython=True)\n",
    "def sim(i: int, j: int, ratings: np.array, means: np.array, eps=1e-15) -> float:\n",
    "    user_idxs = []\n",
    "    \n",
    "    # Get users (indexes) that rated both items i and j\n",
    "    for u in range(ratings.shape[0]):\n",
    "        if ratings[u, i] != -1 and ratings[u, j] != -1:\n",
    "            user_idxs.append(u)\n",
    "    \n",
    "    # Calculate similarity        \n",
    "    n_ui, n_uj, cov_ui_uj = 0, 0, 0\n",
    "    for u in user_idxs:\n",
    "        r_ui_r = ratings[u, i] - means[i]\n",
    "        r_uj_r = ratings[u, j] - means[j]\n",
    "        \n",
    "        cov_ui_uj += (r_ui_r * r_uj_r)\n",
    "        n_ui += r_ui_r**2\n",
    "        n_uj += r_uj_r**2\n",
    "        \n",
    "    return cov_ui_uj/(np.sqrt(n_ui)*np.sqrt(n_uj) + eps)\n",
    "\n",
    "@jit(nopython=True)\n",
    "def pred(u: int, i: int, k: int, ratings: np.array, means: np.array, eps=1e-15) -> float:\n",
    "    similarities = []\n",
    "    for j in range(ratings.shape[1]):\n",
    "        if i != j and ratings[u, j] != -1:\n",
    "            similarities.append((sim(i, j, ratings, means), ratings[u, j]))\n",
    "            \n",
    "    numerator, denominator = 0, 0\n",
    "    for similarity_ij, rating_uj in sorted(similarities, reverse=True)[:k]:\n",
    "        numerator += similarity_ij*rating_uj\n",
    "        denominator += similarity_ij\n",
    "    \n",
    "    return int(round(numerator/(denominator + eps)))"
   ]
  },
  {
   "cell_type": "code",
   "execution_count": 10,
   "id": "7ef50588",
   "metadata": {},
   "outputs": [
    {
     "name": "stdout",
     "output_type": "stream",
     "text": [
      "(107157, 3)\n"
     ]
    },
    {
     "data": {
      "text/html": [
       "<div>\n",
       "<style scoped>\n",
       "    .dataframe tbody tr th:only-of-type {\n",
       "        vertical-align: middle;\n",
       "    }\n",
       "\n",
       "    .dataframe tbody tr th {\n",
       "        vertical-align: top;\n",
       "    }\n",
       "\n",
       "    .dataframe thead th {\n",
       "        text-align: right;\n",
       "    }\n",
       "</style>\n",
       "<table border=\"1\" class=\"dataframe\">\n",
       "  <thead>\n",
       "    <tr style=\"text-align: right;\">\n",
       "      <th></th>\n",
       "      <th>user_id</th>\n",
       "      <th>movie_id</th>\n",
       "      <th>rating</th>\n",
       "    </tr>\n",
       "  </thead>\n",
       "  <tbody>\n",
       "    <tr>\n",
       "      <th>2</th>\n",
       "      <td>1</td>\n",
       "      <td>3328</td>\n",
       "      <td>4</td>\n",
       "    </tr>\n",
       "    <tr>\n",
       "      <th>4</th>\n",
       "      <td>1</td>\n",
       "      <td>980</td>\n",
       "      <td>3</td>\n",
       "    </tr>\n",
       "    <tr>\n",
       "      <th>6</th>\n",
       "      <td>1</td>\n",
       "      <td>1099</td>\n",
       "      <td>5</td>\n",
       "    </tr>\n",
       "    <tr>\n",
       "      <th>8</th>\n",
       "      <td>1</td>\n",
       "      <td>32</td>\n",
       "      <td>3</td>\n",
       "    </tr>\n",
       "    <tr>\n",
       "      <th>9</th>\n",
       "      <td>1</td>\n",
       "      <td>2286</td>\n",
       "      <td>5</td>\n",
       "    </tr>\n",
       "  </tbody>\n",
       "</table>\n",
       "</div>"
      ],
      "text/plain": [
       "   user_id  movie_id  rating\n",
       "2        1      3328       4\n",
       "4        1       980       3\n",
       "6        1      1099       5\n",
       "8        1        32       3\n",
       "9        1      2286       5"
      ]
     },
     "execution_count": 10,
     "metadata": {},
     "output_type": "execute_result"
    }
   ],
   "source": [
    "print(validation_data.shape)\n",
    "validation_data.head()"
   ]
  },
  {
   "cell_type": "code",
   "execution_count": 11,
   "id": "3a247cae",
   "metadata": {},
   "outputs": [],
   "source": [
    "@jit(nopython=True, nogil=True, parallel=True)\n",
    "def predict_batch(X, ratings, neighbours=5):\n",
    "    \"\"\"\n",
    "    X: Array of size (n_entries, 3) with columns representing:\n",
    "        col 0: user_id\n",
    "        col 1: item_id\n",
    "    \"\"\"\n",
    "    means = get_means(ratings)\n",
    "\n",
    "    predictions = np.zeros(len(X), dtype=np.int8)\n",
    "    \n",
    "    for i in prange(len(X)):\n",
    "        user_id, movie_id = X[i]\n",
    "        predictions[i] = pred(user_id, movie_id, neighbours, ratings, means)\n",
    "        \n",
    "    return predictions"
   ]
  },
  {
   "cell_type": "markdown",
   "id": "37677a32",
   "metadata": {},
   "source": [
    "## Making predictions for different k values on the validation data"
   ]
  },
  {
   "cell_type": "code",
   "execution_count": 12,
   "id": "4c0f3e5f",
   "metadata": {},
   "outputs": [],
   "source": [
    "# predictions_per_k = []\n",
    "# data_arr = validation_data.drop([\"rating\"], axis=1).values\n",
    "\n",
    "# for k in tqdm(range(1, 10+1)):\n",
    "#     predictions_per_k.append(\n",
    "#         predict_batch(data_arr, ratings_mat, neighbours=k)\n",
    "#     )"
   ]
  },
  {
   "cell_type": "markdown",
   "id": "a6c75112",
   "metadata": {},
   "source": [
    "## Calculate RMSE on validation data"
   ]
  },
  {
   "cell_type": "code",
   "execution_count": 13,
   "id": "96f5c84f",
   "metadata": {},
   "outputs": [],
   "source": [
    "# errors = []\n",
    "\n",
    "# for k in range(len(predictions_per_k)):\n",
    "#     num = 0\n",
    "#     for pred_r, real_r in zip(predictions_per_k[k], validation_data[\"rating\"].values):\n",
    "#         num += (pred_r - real_r)**2\n",
    "        \n",
    "#     rmse = np.sqrt(num/len(predictions_per_k[k]))\n",
    "    \n",
    "#     print(f\"k={k+1}: {rmse=}\")\n",
    "#     errors.append(rmse)"
   ]
  },
  {
   "cell_type": "markdown",
   "id": "c007f5f8",
   "metadata": {},
   "source": [
    "## Plot rmse"
   ]
  },
  {
   "cell_type": "code",
   "execution_count": 14,
   "id": "32ffc49b",
   "metadata": {},
   "outputs": [],
   "source": [
    "import plotly.graph_objects as go\n",
    "import numpy as np"
   ]
  },
  {
   "cell_type": "code",
   "execution_count": 15,
   "id": "5ebe505c",
   "metadata": {
    "scrolled": false
   },
   "outputs": [],
   "source": [
    "# fig = go.Figure(\n",
    "#     data=go.Scatter(\n",
    "#         x=np.arange(1, 10+1),\n",
    "#         y=errors\n",
    "#     )\n",
    "# )\n",
    "# fig.show()"
   ]
  },
  {
   "cell_type": "markdown",
   "id": "31b9e618",
   "metadata": {},
   "source": [
    "Choose $k=8$"
   ]
  },
  {
   "cell_type": "markdown",
   "id": "e54c81b2",
   "metadata": {},
   "source": [
    "# Test prediction\n",
    "\n",
    "## Build matrix with all the data"
   ]
  },
  {
   "cell_type": "code",
   "execution_count": 16,
   "id": "74348f40",
   "metadata": {},
   "outputs": [],
   "source": [
    "total_ratings = build_matrix_jit(train_csv.drop([\"timestamp\"], axis=1).values, users, movies)"
   ]
  },
  {
   "cell_type": "code",
   "execution_count": 17,
   "id": "bd3cea95",
   "metadata": {},
   "outputs": [
    {
     "data": {
      "text/html": [
       "<div>\n",
       "<style scoped>\n",
       "    .dataframe tbody tr th:only-of-type {\n",
       "        vertical-align: middle;\n",
       "    }\n",
       "\n",
       "    .dataframe tbody tr th {\n",
       "        vertical-align: top;\n",
       "    }\n",
       "\n",
       "    .dataframe thead th {\n",
       "        text-align: right;\n",
       "    }\n",
       "</style>\n",
       "<table border=\"1\" class=\"dataframe\">\n",
       "  <thead>\n",
       "    <tr style=\"text-align: right;\">\n",
       "      <th></th>\n",
       "      <th>id</th>\n",
       "      <th>user_id</th>\n",
       "      <th>movie_id</th>\n",
       "      <th>timestamp</th>\n",
       "    </tr>\n",
       "  </thead>\n",
       "  <tbody>\n",
       "    <tr>\n",
       "      <th>0</th>\n",
       "      <td>0</td>\n",
       "      <td>5</td>\n",
       "      <td>2962</td>\n",
       "      <td>974769784</td>\n",
       "    </tr>\n",
       "    <tr>\n",
       "      <th>1</th>\n",
       "      <td>1</td>\n",
       "      <td>5</td>\n",
       "      <td>3177</td>\n",
       "      <td>974769768</td>\n",
       "    </tr>\n",
       "    <tr>\n",
       "      <th>2</th>\n",
       "      <td>2</td>\n",
       "      <td>5</td>\n",
       "      <td>3153</td>\n",
       "      <td>974769768</td>\n",
       "    </tr>\n",
       "    <tr>\n",
       "      <th>3</th>\n",
       "      <td>3</td>\n",
       "      <td>5</td>\n",
       "      <td>501</td>\n",
       "      <td>974769768</td>\n",
       "    </tr>\n",
       "    <tr>\n",
       "      <th>4</th>\n",
       "      <td>4</td>\n",
       "      <td>5</td>\n",
       "      <td>3159</td>\n",
       "      <td>974769768</td>\n",
       "    </tr>\n",
       "  </tbody>\n",
       "</table>\n",
       "</div>"
      ],
      "text/plain": [
       "   id  user_id  movie_id  timestamp\n",
       "0   0        5      2962  974769784\n",
       "1   1        5      3177  974769768\n",
       "2   2        5      3153  974769768\n",
       "3   3        5       501  974769768\n",
       "4   4        5      3159  974769768"
      ]
     },
     "execution_count": 17,
     "metadata": {},
     "output_type": "execute_result"
    }
   ],
   "source": [
    "test_csv.head()"
   ]
  },
  {
   "cell_type": "markdown",
   "id": "a5028d73",
   "metadata": {},
   "source": [
    "## Predict test set"
   ]
  },
  {
   "cell_type": "code",
   "execution_count": 18,
   "id": "54d4f89b",
   "metadata": {},
   "outputs": [],
   "source": [
    "test_predictions = predict_batch(\n",
    "    test_csv.drop([\"id\", \"timestamp\"], axis=1).values,\n",
    "    total_ratings,\n",
    "    neighbours=8\n",
    ")"
   ]
  },
  {
   "cell_type": "code",
   "execution_count": 27,
   "id": "f3991c5b",
   "metadata": {},
   "outputs": [
    {
     "data": {
      "text/plain": [
       "-23"
      ]
     },
     "execution_count": 27,
     "metadata": {},
     "output_type": "execute_result"
    }
   ],
   "source": [
    "test_predictions.min()"
   ]
  },
  {
   "cell_type": "code",
   "execution_count": 24,
   "id": "b61d43b8",
   "metadata": {},
   "outputs": [
    {
     "data": {
      "text/plain": [
       "id                3893\n",
       "user_id           3858\n",
       "movie_id          3481\n",
       "timestamp    968125906\n",
       "Name: 3893, dtype: int64"
      ]
     },
     "execution_count": 24,
     "metadata": {},
     "output_type": "execute_result"
    }
   ],
   "source": [
    "test_csv.iloc[3893]"
   ]
  },
  {
   "cell_type": "code",
   "execution_count": 39,
   "id": "a81968e9",
   "metadata": {},
   "outputs": [],
   "source": [
    "# @jit(nopython=True)\n",
    "def new_pred(u: int, i: int, k: int, ratings: np.array, means: np.array, eps=1e-15) -> float:\n",
    "    similarities = []\n",
    "    for j in range(ratings.shape[1]):\n",
    "        if i != j and ratings[u, j] != -1:\n",
    "            similarities.append((sim(i, j, ratings, means), ratings[u, j], means[j]))\n",
    "            \n",
    "    print(similarities)\n",
    "            \n",
    "    numerator, denominator = 0, 0\n",
    "    for similarity_ij, rating_uj, mean_j in sorted(similarities, reverse=True)[:k]:\n",
    "        print(similarity_ij*(rating_uj-mean_j))\n",
    "        numerator += similarity_ij*rating_uj\n",
    "        denominator += similarity_ij\n",
    "        \n",
    "    print(numerator, denominator)\n",
    "    \n",
    "    return int(round(numerator/(denominator + eps)))"
   ]
  },
  {
   "cell_type": "code",
   "execution_count": 40,
   "id": "6a663cbd",
   "metadata": {},
   "outputs": [
    {
     "name": "stdout",
     "output_type": "stream",
     "text": [
      "[(-0.21757255577325, 4, 3.270935960591133), (-0.02676400265653024, 4, 3.33953488372093), (0.32063140275313634, 3, 3.3521739130434782), (-0.06235929326451677, 5, 3.4495798319327733)]\n",
      "-0.11291801575219149\n",
      "-0.017676690126638576\n",
      "-0.09668310594372558\n",
      "-0.15862432637655666\n",
      "-0.32724849178229565 0.01393555105883934\n"
     ]
    },
    {
     "data": {
      "text/plain": [
       "-23"
      ]
     },
     "execution_count": 40,
     "metadata": {},
     "output_type": "execute_result"
    }
   ],
   "source": [
    "new_pred(u=3858, i=3481, k=8, ratings=total_ratings, means=get_means(total_ratings))"
   ]
  }
 ],
 "metadata": {
  "kernelspec": {
   "display_name": "Python 3 (ipykernel)",
   "language": "python",
   "name": "python3"
  },
  "language_info": {
   "codemirror_mode": {
    "name": "ipython",
    "version": 3
   },
   "file_extension": ".py",
   "mimetype": "text/x-python",
   "name": "python",
   "nbconvert_exporter": "python",
   "pygments_lexer": "ipython3",
   "version": "3.9.7"
  }
 },
 "nbformat": 4,
 "nbformat_minor": 5
}
