{
 "cells": [
  {
   "cell_type": "code",
   "execution_count": 1,
   "id": "38172190",
   "metadata": {},
   "outputs": [],
   "source": [
    "import numpy as np\n",
    "import pandas as pd\n",
    "\n",
    "from numba import jit, prange\n",
    "from numpy.typing import NDArray\n",
    "from typing import Tuple\n",
    "\n",
    "from typing import List\n",
    "\n",
    "from tqdm.notebook import tqdm"
   ]
  },
  {
   "cell_type": "markdown",
   "id": "d1d4d7d5",
   "metadata": {},
   "source": [
    "For colaborative filtering, we will only be using the ratings data"
   ]
  },
  {
   "cell_type": "code",
   "execution_count": 2,
   "id": "f6d8bf91",
   "metadata": {},
   "outputs": [],
   "source": [
    "train_csv = pd.read_csv(\"../../data/train_data.csv\")\n",
    "test_csv = pd.read_csv(\"../../data/test_data.csv\")"
   ]
  },
  {
   "cell_type": "code",
   "execution_count": 3,
   "id": "88fe7d7d",
   "metadata": {},
   "outputs": [
    {
     "name": "stdout",
     "output_type": "stream",
     "text": [
      "(535784, 4)\n"
     ]
    },
    {
     "data": {
      "text/html": [
       "<div>\n",
       "<style scoped>\n",
       "    .dataframe tbody tr th:only-of-type {\n",
       "        vertical-align: middle;\n",
       "    }\n",
       "\n",
       "    .dataframe tbody tr th {\n",
       "        vertical-align: top;\n",
       "    }\n",
       "\n",
       "    .dataframe thead th {\n",
       "        text-align: right;\n",
       "    }\n",
       "</style>\n",
       "<table border=\"1\" class=\"dataframe\">\n",
       "  <thead>\n",
       "    <tr style=\"text-align: right;\">\n",
       "      <th></th>\n",
       "      <th>user_id</th>\n",
       "      <th>movie_id</th>\n",
       "      <th>rating</th>\n",
       "      <th>timestamp</th>\n",
       "    </tr>\n",
       "  </thead>\n",
       "  <tbody>\n",
       "    <tr>\n",
       "      <th>0</th>\n",
       "      <td>1</td>\n",
       "      <td>1160</td>\n",
       "      <td>5</td>\n",
       "      <td>974769817</td>\n",
       "    </tr>\n",
       "    <tr>\n",
       "      <th>1</th>\n",
       "      <td>1</td>\n",
       "      <td>1129</td>\n",
       "      <td>3</td>\n",
       "      <td>974769817</td>\n",
       "    </tr>\n",
       "    <tr>\n",
       "      <th>2</th>\n",
       "      <td>1</td>\n",
       "      <td>3328</td>\n",
       "      <td>4</td>\n",
       "      <td>974769817</td>\n",
       "    </tr>\n",
       "    <tr>\n",
       "      <th>3</th>\n",
       "      <td>1</td>\n",
       "      <td>2659</td>\n",
       "      <td>2</td>\n",
       "      <td>974769817</td>\n",
       "    </tr>\n",
       "    <tr>\n",
       "      <th>4</th>\n",
       "      <td>1</td>\n",
       "      <td>980</td>\n",
       "      <td>3</td>\n",
       "      <td>974769817</td>\n",
       "    </tr>\n",
       "  </tbody>\n",
       "</table>\n",
       "</div>"
      ],
      "text/plain": [
       "   user_id  movie_id  rating  timestamp\n",
       "0        1      1160       5  974769817\n",
       "1        1      1129       3  974769817\n",
       "2        1      3328       4  974769817\n",
       "3        1      2659       2  974769817\n",
       "4        1       980       3  974769817"
      ]
     },
     "execution_count": 3,
     "metadata": {},
     "output_type": "execute_result"
    }
   ],
   "source": [
    "print(train_csv.shape)\n",
    "train_csv.head()"
   ]
  },
  {
   "cell_type": "markdown",
   "id": "e165bbf0",
   "metadata": {},
   "source": [
    "## Split into train and validation"
   ]
  },
  {
   "cell_type": "code",
   "execution_count": 4,
   "id": "ea5702a2",
   "metadata": {},
   "outputs": [],
   "source": [
    "train_data = train_csv.drop([\"timestamp\"], axis=1).sample(frac=0.8)\n",
    "validation_data = train_csv.drop(train_data.index).drop([\"timestamp\"], axis=1)\n",
    "\n",
    "assert train_data.shape[0] + validation_data.shape[0] == train_csv.shape[0]"
   ]
  },
  {
   "cell_type": "code",
   "execution_count": 5,
   "id": "586b3e1f",
   "metadata": {},
   "outputs": [
    {
     "data": {
      "text/html": [
       "<div>\n",
       "<style scoped>\n",
       "    .dataframe tbody tr th:only-of-type {\n",
       "        vertical-align: middle;\n",
       "    }\n",
       "\n",
       "    .dataframe tbody tr th {\n",
       "        vertical-align: top;\n",
       "    }\n",
       "\n",
       "    .dataframe thead th {\n",
       "        text-align: right;\n",
       "    }\n",
       "</style>\n",
       "<table border=\"1\" class=\"dataframe\">\n",
       "  <thead>\n",
       "    <tr style=\"text-align: right;\">\n",
       "      <th></th>\n",
       "      <th>user_id</th>\n",
       "      <th>movie_id</th>\n",
       "      <th>rating</th>\n",
       "    </tr>\n",
       "  </thead>\n",
       "  <tbody>\n",
       "    <tr>\n",
       "      <th>283077</th>\n",
       "      <td>2252</td>\n",
       "      <td>1625</td>\n",
       "      <td>3</td>\n",
       "    </tr>\n",
       "    <tr>\n",
       "      <th>193896</th>\n",
       "      <td>1666</td>\n",
       "      <td>1804</td>\n",
       "      <td>5</td>\n",
       "    </tr>\n",
       "    <tr>\n",
       "      <th>293979</th>\n",
       "      <td>2317</td>\n",
       "      <td>365</td>\n",
       "      <td>3</td>\n",
       "    </tr>\n",
       "    <tr>\n",
       "      <th>472599</th>\n",
       "      <td>3423</td>\n",
       "      <td>3312</td>\n",
       "      <td>3</td>\n",
       "    </tr>\n",
       "    <tr>\n",
       "      <th>190361</th>\n",
       "      <td>1652</td>\n",
       "      <td>1747</td>\n",
       "      <td>4</td>\n",
       "    </tr>\n",
       "  </tbody>\n",
       "</table>\n",
       "</div>"
      ],
      "text/plain": [
       "        user_id  movie_id  rating\n",
       "283077     2252      1625       3\n",
       "193896     1666      1804       5\n",
       "293979     2317       365       3\n",
       "472599     3423      3312       3\n",
       "190361     1652      1747       4"
      ]
     },
     "execution_count": 5,
     "metadata": {},
     "output_type": "execute_result"
    }
   ],
   "source": [
    "train_data.head()"
   ]
  },
  {
   "cell_type": "markdown",
   "id": "d1dbdd65",
   "metadata": {},
   "source": [
    "## Build train matrix"
   ]
  },
  {
   "cell_type": "code",
   "execution_count": 6,
   "id": "2d4828dc",
   "metadata": {},
   "outputs": [],
   "source": [
    "def build_matrix(df, n_users, n_items):\n",
    "    ratings_mat = np.ones((n_users+1, n_items+1), dtype=np.int8)*-1\n",
    "\n",
    "    for _, row in df.iterrows():\n",
    "        u = row[\"user_id\"]\n",
    "        i = row[\"movie_id\"]\n",
    "        r = row[\"rating\"]\n",
    "\n",
    "        ratings_mat[u, i] = r\n",
    "        \n",
    "    return ratings_mat\n",
    "\n",
    "# train_mat = build_matrix(train_data, 3974, 3564)"
   ]
  },
  {
   "cell_type": "code",
   "execution_count": 7,
   "id": "081166e6",
   "metadata": {},
   "outputs": [],
   "source": [
    "@jit(nopython=True)\n",
    "def build_matrix_jit(data: NDArray[np.uint8], n_users: int, n_items: int):\n",
    "    \"\"\"\n",
    "    data: Array of size (n_entries, 3) with columns representing:\n",
    "        col 0: user_id\n",
    "        col 1: item_id\n",
    "        col 2: rating\n",
    "    \"\"\"\n",
    "    ratings_mat = np.ones((n_users+1, n_items+1), dtype=np.int8)*-1\n",
    "\n",
    "    for row in data:\n",
    "        u, i, r = row\n",
    "        ratings_mat[u, i] = r\n",
    "        \n",
    "    return ratings_mat"
   ]
  },
  {
   "cell_type": "code",
   "execution_count": 8,
   "id": "0a15b699",
   "metadata": {},
   "outputs": [],
   "source": [
    "users = 3974\n",
    "movies = 3564\n",
    "\n",
    "ratings_mat = build_matrix_jit(train_data.values, users, movies)"
   ]
  },
  {
   "cell_type": "markdown",
   "id": "0469f159",
   "metadata": {},
   "source": [
    "## Compute predictions"
   ]
  },
  {
   "cell_type": "code",
   "execution_count": 12,
   "id": "d281a519",
   "metadata": {},
   "outputs": [],
   "source": [
    "@jit(nopython=True, parallel=True)\n",
    "def get_means(ratings: np.array, eps=1e-15) -> List[int]:\n",
    "    means = np.zeros(ratings.shape[1])\n",
    "    counts = np.zeros(ratings.shape[1])\n",
    "    \n",
    "    for i in prange(ratings.shape[1]):\n",
    "        for u in range(ratings.shape[0]):\n",
    "            if ratings[u, i] != -1:\n",
    "                means[i] += ratings[u, i]\n",
    "                counts[i] += 1\n",
    "                \n",
    "    return means/(counts+eps)\n",
    "\n",
    "@jit(nopython=True)\n",
    "def sim(i: int, j: int, ratings: np.array, means: np.array, eps=1e-15) -> float:\n",
    "    user_idxs = []\n",
    "    \n",
    "    # Get users (indexes) that rated both items i and j\n",
    "    for u in range(ratings.shape[0]):\n",
    "        if ratings[u, i] != -1 and ratings[u, j] != -1:\n",
    "            user_idxs.append(u)\n",
    "    \n",
    "    # Calculate similarity        \n",
    "    n_ui, n_uj, cov_ui_uj = 0, 0, 0\n",
    "    for u in user_idxs:\n",
    "        r_ui_r = ratings[u, i] - means[i]\n",
    "        r_uj_r = ratings[u, j] - means[j]\n",
    "        \n",
    "        cov_ui_uj += (r_ui_r * r_uj_r)\n",
    "        n_ui += r_ui_r**2\n",
    "        n_uj += r_uj_r**2\n",
    "        \n",
    "    return cov_ui_uj/(np.sqrt(n_ui)*np.sqrt(n_uj) + eps)\n",
    "\n",
    "@jit(nopython=True, nogil=True, parallel=True)\n",
    "def calculate_similarities(ratigns, means):\n",
    "    similarities = np.zeros((movies, movies))\n",
    "    \n",
    "    for i in prange(movies):\n",
    "        for j in range(movies):\n",
    "            similarities[i, j] = sim(i, j, ratigns, means)\n",
    "    \n",
    "    return similarities\n",
    "\n",
    "@jit(nopython=True)\n",
    "def pred(u: int, i: int, k: int, ratings: np.array, means: np.array, sim_mat: np.array, eps=1e-15) -> float:\n",
    "    similarities = []\n",
    "    for j in range(ratings.shape[1]):\n",
    "        if i != j and ratings[u, j] != -1:\n",
    "            similarities.append((sim_mat[i, j], ratings[u, j]))\n",
    "            \n",
    "    numerator, denominator = 0, 0\n",
    "    for similarity_ij, rating_uj in sorted(similarities, reverse=True)[:k]:\n",
    "        numerator += similarity_ij*rating_uj\n",
    "        denominator += similarity_ij\n",
    "    \n",
    "    return numerator/(denominator + eps)"
   ]
  },
  {
   "cell_type": "code",
   "execution_count": 21,
   "id": "3a247cae",
   "metadata": {},
   "outputs": [],
   "source": [
    "@jit(nopython=True, nogil=True, parallel=True)\n",
    "def predict_batch(X, ratings, sims_mat, neighbours=5):\n",
    "    \"\"\"\n",
    "    X: Array of size (n_entries, 3) with columns representing:\n",
    "        col 0: user_id\n",
    "        col 1: item_id\n",
    "    \"\"\"\n",
    "    means = get_means(ratings)\n",
    "\n",
    "    predictions = np.zeros(len(X), dtype=np.int8)\n",
    "    \n",
    "    for i in prange(len(X)):\n",
    "        user_id, movie_id = X[i]\n",
    "        predictions[i] = pred(user_id, movie_id, neighbours, ratings, means, sims_mat)\n",
    "        \n",
    "    return np.clip(predictions, 1, 5)"
   ]
  },
  {
   "cell_type": "markdown",
   "id": "37677a32",
   "metadata": {},
   "source": [
    "## Making predictions for different k values on the validation data"
   ]
  },
  {
   "cell_type": "code",
   "execution_count": 20,
   "id": "3c40d5f1",
   "metadata": {},
   "outputs": [],
   "source": [
    "sims = calculate_similarities(ratings_mat, get_means(ratings_mat))"
   ]
  },
  {
   "cell_type": "code",
   "execution_count": 31,
   "id": "4c0f3e5f",
   "metadata": {},
   "outputs": [
    {
     "data": {
      "application/vnd.jupyter.widget-view+json": {
       "model_id": "c09d2527e90d4592b244347f8741057a",
       "version_major": 2,
       "version_minor": 0
      },
      "text/plain": [
       "  0%|          | 0/200 [00:00<?, ?it/s]"
      ]
     },
     "metadata": {},
     "output_type": "display_data"
    }
   ],
   "source": [
    "predictions_per_k = []\n",
    "data_arr = validation_data.drop([\"rating\"], axis=1).values\n",
    "\n",
    "for k in tqdm(range(1, 200+1)):\n",
    "    predictions_per_k.append(\n",
    "        predict_batch(data_arr, ratings_mat, sims, neighbours=k)\n",
    "    )"
   ]
  },
  {
   "cell_type": "markdown",
   "id": "a6c75112",
   "metadata": {},
   "source": [
    "## Calculate RMSE on validation data"
   ]
  },
  {
   "cell_type": "code",
   "execution_count": 32,
   "id": "96f5c84f",
   "metadata": {},
   "outputs": [
    {
     "name": "stdout",
     "output_type": "stream",
     "text": [
      "k=1: rmse=1.8364215667168584\n",
      "k=11: rmse=1.3214507800220998\n",
      "k=21: rmse=1.2724059715469815\n",
      "k=31: rmse=1.2512020965658273\n",
      "k=41: rmse=1.23595348859544\n",
      "k=51: rmse=1.2274753695383602\n",
      "k=61: rmse=1.2201052539152881\n",
      "k=71: rmse=1.2149622012326737\n",
      "k=81: rmse=1.2114276491600227\n",
      "k=91: rmse=1.2076161777946643\n",
      "k=101: rmse=1.2047186762273332\n",
      "k=111: rmse=1.202423587911242\n",
      "k=121: rmse=1.2002835068603932\n",
      "k=131: rmse=1.1984433290037146\n",
      "k=141: rmse=1.1972084766903777\n",
      "k=151: rmse=1.1955392077297313\n",
      "k=161: rmse=1.193777709393322\n",
      "k=171: rmse=1.1922406231782507\n",
      "k=181: rmse=1.1912343822573324\n",
      "k=191: rmse=1.1902625728388743\n"
     ]
    }
   ],
   "source": [
    "errors = []\n",
    "\n",
    "for k in range(len(predictions_per_k)):\n",
    "    num = 0\n",
    "    for pred_r, real_r in zip(predictions_per_k[k], validation_data[\"rating\"].values):\n",
    "        num += (pred_r - real_r)**2\n",
    "        \n",
    "    rmse = np.sqrt(num/len(predictions_per_k[k]))\n",
    "    \n",
    "    if k % 10 == 0:\n",
    "        print(f\"k={k+1}: {rmse=}\")\n",
    "    errors.append(rmse)"
   ]
  },
  {
   "cell_type": "markdown",
   "id": "c007f5f8",
   "metadata": {},
   "source": [
    "## Plot rmse"
   ]
  },
  {
   "cell_type": "code",
   "execution_count": 33,
   "id": "32ffc49b",
   "metadata": {},
   "outputs": [],
   "source": [
    "import plotly.graph_objects as go\n",
    "import numpy as np"
   ]
  },
  {
   "cell_type": "code",
   "execution_count": 35,
   "id": "5ebe505c",
   "metadata": {
    "scrolled": false
   },
   "outputs": [
    {
     "data": {
      "application/vnd.plotly.v1+json": {
       "config": {
        "plotlyServerURL": "https://plot.ly"
       },
       "data": [
        {
         "type": "scatter",
         "x": [
          1,
          2,
          3,
          4,
          5,
          6,
          7,
          8,
          9,
          10,
          11,
          12,
          13,
          14,
          15,
          16,
          17,
          18,
          19,
          20,
          21,
          22,
          23,
          24,
          25,
          26,
          27,
          28,
          29,
          30,
          31,
          32,
          33,
          34,
          35,
          36,
          37,
          38,
          39,
          40,
          41,
          42,
          43,
          44,
          45,
          46,
          47,
          48,
          49,
          50,
          51,
          52,
          53,
          54,
          55,
          56,
          57,
          58,
          59,
          60,
          61,
          62,
          63,
          64,
          65,
          66,
          67,
          68,
          69,
          70,
          71,
          72,
          73,
          74,
          75,
          76,
          77,
          78,
          79,
          80,
          81,
          82,
          83,
          84,
          85,
          86,
          87,
          88,
          89,
          90,
          91,
          92,
          93,
          94,
          95,
          96,
          97,
          98,
          99,
          100,
          101,
          102,
          103,
          104,
          105,
          106,
          107,
          108,
          109,
          110,
          111,
          112,
          113,
          114,
          115,
          116,
          117,
          118,
          119,
          120,
          121,
          122,
          123,
          124,
          125,
          126,
          127,
          128,
          129,
          130,
          131,
          132,
          133,
          134,
          135,
          136,
          137,
          138,
          139,
          140,
          141,
          142,
          143,
          144,
          145,
          146,
          147,
          148,
          149,
          150,
          151,
          152,
          153,
          154,
          155,
          156,
          157,
          158,
          159,
          160,
          161,
          162,
          163,
          164,
          165,
          166,
          167,
          168,
          169,
          170,
          171,
          172,
          173,
          174,
          175,
          176,
          177,
          178,
          179,
          180,
          181,
          182,
          183,
          184,
          185,
          186,
          187,
          188,
          189,
          190,
          191,
          192,
          193,
          194,
          195,
          196,
          197,
          198,
          199,
          200
         ],
         "y": [
          1.8364215667168584,
          1.5945989122353414,
          1.4923210221301688,
          1.4393752773025286,
          1.405197265697977,
          1.3825511523647378,
          1.3636128069463904,
          1.3514556020369626,
          1.3398289845951294,
          1.3300139724681947,
          1.3214507800220998,
          1.3146147253215916,
          1.3082102634285053,
          1.302795440417772,
          1.2977284123656516,
          1.2924249219428792,
          1.287958475072693,
          1.2835564632679803,
          1.2797957389957604,
          1.275969079242896,
          1.2724059715469815,
          1.269479921675076,
          1.2666981498388754,
          1.2643642602344873,
          1.2613492726987314,
          1.2597168455561396,
          1.2578931341898287,
          1.2555577426789126,
          1.2543567978919632,
          1.2526035113367653,
          1.2512020965658273,
          1.248828038562278,
          1.2473849761488534,
          1.2456630812678622,
          1.2438262669282782,
          1.242467529378216,
          1.2412952694232244,
          1.2397493505453616,
          1.2382580264166492,
          1.2369195786122062,
          1.23595348859544,
          1.2353795151870766,
          1.2341060036883889,
          1.2329598540043618,
          1.2328576701493432,
          1.2319073331101602,
          1.2308577030900902,
          1.2298071772200057,
          1.2291620055499315,
          1.2283949492672748,
          1.2274753695383602,
          1.226859397967425,
          1.2256874377753262,
          1.225226718138009,
          1.2241789832078696,
          1.2234011746858358,
          1.223115091318265,
          1.2220846366788942,
          1.2215041464437206,
          1.2206061346428083,
          1.2201052539152881,
          1.2192712710900622,
          1.218750699159647,
          1.2178889702536693,
          1.217448295490823,
          1.2169691201943122,
          1.216723709397815,
          1.2159564814217618,
          1.216021714623971,
          1.2152386850869468,
          1.2149622012326737,
          1.2145704080338688,
          1.21437446403293,
          1.2137979748174221,
          1.2135326978156196,
          1.2127749934233294,
          1.2127826882322934,
          1.212124605607915,
          1.2119013151380682,
          1.2118705132238392,
          1.2114276491600227,
          1.2111233269701314,
          1.2106956057841918,
          1.2103409835775722,
          1.2098435665136833,
          1.2092880685837988,
          1.2086937119008936,
          1.208743896161717,
          1.2081685823531885,
          1.2078866171856155,
          1.2076161777946643,
          1.2072799758304815,
          1.2068702238777285,
          1.2066459610821703,
          1.206630493146071,
          1.206000005989259,
          1.2056556131055647,
          1.2053653179848671,
          1.2048735920878901,
          1.2048116281339754,
          1.2047186762273332,
          1.2043932880605404,
          1.2042809312539569,
          1.2042073124896207,
          1.2040019310923842,
          1.2037926385359772,
          1.2033506791550304,
          1.2030249209792847,
          1.2029667405937603,
          1.2023964238365286,
          1.202423587911242,
          1.2023188088127683,
          1.202054880246002,
          1.2018530134111416,
          1.2015423828254113,
          1.2015346160318374,
          1.201192827397472,
          1.200975274894267,
          1.2008237418326717,
          1.2007265951962671,
          1.2002835068603932,
          1.2001746531231183,
          1.1999841353225869,
          1.1998674768410962,
          1.1993851680738437,
          1.199322920556256,
          1.1991400497862117,
          1.1988598532328836,
          1.1988365005640242,
          1.1988092552087357,
          1.1984433290037146,
          1.1981668638496452,
          1.1983226267108253,
          1.198085080240915,
          1.1979721317929302,
          1.1978552773635134,
          1.1978708586127318,
          1.1973565703315534,
          1.19720457924191,
          1.1971071389062886,
          1.1972084766903777,
          1.1971617064713285,
          1.1967835800996927,
          1.196592522383011,
          1.1963780334997212,
          1.1959216291904897,
          1.1958396920299228,
          1.1958279862629628,
          1.1958162803814159,
          1.195917727548237,
          1.1955392077297313,
          1.1953401440773004,
          1.195156663903286,
          1.1947583759571834,
          1.1946724533054807,
          1.1946997930013243,
          1.19472322652838,
          1.1944771515655455,
          1.1940942674954678,
          1.193926228584167,
          1.193777709393322,
          1.1935627146748888,
          1.1933750512685797,
          1.1932030005512324,
          1.1927258210259222,
          1.1926788750221111,
          1.1923228076690804,
          1.1924871596586304,
          1.1924167258654925,
          1.1923110673743622,
          1.1922406231782507,
          1.192119292860446,
          1.191994035707486,
          1.192056665929164,
          1.191900084204342,
          1.1917552277925898,
          1.191747397214685,
          1.1914967915492831,
          1.1913988843938195,
          1.191304885954446,
          1.1912343822573324,
          1.1910345991178073,
          1.1910189284346961,
          1.1907133088922157,
          1.1908230274960823,
          1.1906780400509558,
          1.1904389681408842,
          1.1905330349487309,
          1.1904350485292499,
          1.1902978539905378,
          1.1902625728388743,
          1.190086151391444,
          1.1900077334638546,
          1.1901880869730606,
          1.189980285968347,
          1.1900430221707297,
          1.1900194964824182,
          1.189937152910545,
          1.1898783325846447,
          1.1898391174185925
         ]
        }
       ],
       "layout": {
        "template": {
         "data": {
          "bar": [
           {
            "error_x": {
             "color": "#2a3f5f"
            },
            "error_y": {
             "color": "#2a3f5f"
            },
            "marker": {
             "line": {
              "color": "#E5ECF6",
              "width": 0.5
             },
             "pattern": {
              "fillmode": "overlay",
              "size": 10,
              "solidity": 0.2
             }
            },
            "type": "bar"
           }
          ],
          "barpolar": [
           {
            "marker": {
             "line": {
              "color": "#E5ECF6",
              "width": 0.5
             },
             "pattern": {
              "fillmode": "overlay",
              "size": 10,
              "solidity": 0.2
             }
            },
            "type": "barpolar"
           }
          ],
          "carpet": [
           {
            "aaxis": {
             "endlinecolor": "#2a3f5f",
             "gridcolor": "white",
             "linecolor": "white",
             "minorgridcolor": "white",
             "startlinecolor": "#2a3f5f"
            },
            "baxis": {
             "endlinecolor": "#2a3f5f",
             "gridcolor": "white",
             "linecolor": "white",
             "minorgridcolor": "white",
             "startlinecolor": "#2a3f5f"
            },
            "type": "carpet"
           }
          ],
          "choropleth": [
           {
            "colorbar": {
             "outlinewidth": 0,
             "ticks": ""
            },
            "type": "choropleth"
           }
          ],
          "contour": [
           {
            "colorbar": {
             "outlinewidth": 0,
             "ticks": ""
            },
            "colorscale": [
             [
              0,
              "#0d0887"
             ],
             [
              0.1111111111111111,
              "#46039f"
             ],
             [
              0.2222222222222222,
              "#7201a8"
             ],
             [
              0.3333333333333333,
              "#9c179e"
             ],
             [
              0.4444444444444444,
              "#bd3786"
             ],
             [
              0.5555555555555556,
              "#d8576b"
             ],
             [
              0.6666666666666666,
              "#ed7953"
             ],
             [
              0.7777777777777778,
              "#fb9f3a"
             ],
             [
              0.8888888888888888,
              "#fdca26"
             ],
             [
              1,
              "#f0f921"
             ]
            ],
            "type": "contour"
           }
          ],
          "contourcarpet": [
           {
            "colorbar": {
             "outlinewidth": 0,
             "ticks": ""
            },
            "type": "contourcarpet"
           }
          ],
          "heatmap": [
           {
            "colorbar": {
             "outlinewidth": 0,
             "ticks": ""
            },
            "colorscale": [
             [
              0,
              "#0d0887"
             ],
             [
              0.1111111111111111,
              "#46039f"
             ],
             [
              0.2222222222222222,
              "#7201a8"
             ],
             [
              0.3333333333333333,
              "#9c179e"
             ],
             [
              0.4444444444444444,
              "#bd3786"
             ],
             [
              0.5555555555555556,
              "#d8576b"
             ],
             [
              0.6666666666666666,
              "#ed7953"
             ],
             [
              0.7777777777777778,
              "#fb9f3a"
             ],
             [
              0.8888888888888888,
              "#fdca26"
             ],
             [
              1,
              "#f0f921"
             ]
            ],
            "type": "heatmap"
           }
          ],
          "heatmapgl": [
           {
            "colorbar": {
             "outlinewidth": 0,
             "ticks": ""
            },
            "colorscale": [
             [
              0,
              "#0d0887"
             ],
             [
              0.1111111111111111,
              "#46039f"
             ],
             [
              0.2222222222222222,
              "#7201a8"
             ],
             [
              0.3333333333333333,
              "#9c179e"
             ],
             [
              0.4444444444444444,
              "#bd3786"
             ],
             [
              0.5555555555555556,
              "#d8576b"
             ],
             [
              0.6666666666666666,
              "#ed7953"
             ],
             [
              0.7777777777777778,
              "#fb9f3a"
             ],
             [
              0.8888888888888888,
              "#fdca26"
             ],
             [
              1,
              "#f0f921"
             ]
            ],
            "type": "heatmapgl"
           }
          ],
          "histogram": [
           {
            "marker": {
             "pattern": {
              "fillmode": "overlay",
              "size": 10,
              "solidity": 0.2
             }
            },
            "type": "histogram"
           }
          ],
          "histogram2d": [
           {
            "colorbar": {
             "outlinewidth": 0,
             "ticks": ""
            },
            "colorscale": [
             [
              0,
              "#0d0887"
             ],
             [
              0.1111111111111111,
              "#46039f"
             ],
             [
              0.2222222222222222,
              "#7201a8"
             ],
             [
              0.3333333333333333,
              "#9c179e"
             ],
             [
              0.4444444444444444,
              "#bd3786"
             ],
             [
              0.5555555555555556,
              "#d8576b"
             ],
             [
              0.6666666666666666,
              "#ed7953"
             ],
             [
              0.7777777777777778,
              "#fb9f3a"
             ],
             [
              0.8888888888888888,
              "#fdca26"
             ],
             [
              1,
              "#f0f921"
             ]
            ],
            "type": "histogram2d"
           }
          ],
          "histogram2dcontour": [
           {
            "colorbar": {
             "outlinewidth": 0,
             "ticks": ""
            },
            "colorscale": [
             [
              0,
              "#0d0887"
             ],
             [
              0.1111111111111111,
              "#46039f"
             ],
             [
              0.2222222222222222,
              "#7201a8"
             ],
             [
              0.3333333333333333,
              "#9c179e"
             ],
             [
              0.4444444444444444,
              "#bd3786"
             ],
             [
              0.5555555555555556,
              "#d8576b"
             ],
             [
              0.6666666666666666,
              "#ed7953"
             ],
             [
              0.7777777777777778,
              "#fb9f3a"
             ],
             [
              0.8888888888888888,
              "#fdca26"
             ],
             [
              1,
              "#f0f921"
             ]
            ],
            "type": "histogram2dcontour"
           }
          ],
          "mesh3d": [
           {
            "colorbar": {
             "outlinewidth": 0,
             "ticks": ""
            },
            "type": "mesh3d"
           }
          ],
          "parcoords": [
           {
            "line": {
             "colorbar": {
              "outlinewidth": 0,
              "ticks": ""
             }
            },
            "type": "parcoords"
           }
          ],
          "pie": [
           {
            "automargin": true,
            "type": "pie"
           }
          ],
          "scatter": [
           {
            "fillpattern": {
             "fillmode": "overlay",
             "size": 10,
             "solidity": 0.2
            },
            "type": "scatter"
           }
          ],
          "scatter3d": [
           {
            "line": {
             "colorbar": {
              "outlinewidth": 0,
              "ticks": ""
             }
            },
            "marker": {
             "colorbar": {
              "outlinewidth": 0,
              "ticks": ""
             }
            },
            "type": "scatter3d"
           }
          ],
          "scattercarpet": [
           {
            "marker": {
             "colorbar": {
              "outlinewidth": 0,
              "ticks": ""
             }
            },
            "type": "scattercarpet"
           }
          ],
          "scattergeo": [
           {
            "marker": {
             "colorbar": {
              "outlinewidth": 0,
              "ticks": ""
             }
            },
            "type": "scattergeo"
           }
          ],
          "scattergl": [
           {
            "marker": {
             "colorbar": {
              "outlinewidth": 0,
              "ticks": ""
             }
            },
            "type": "scattergl"
           }
          ],
          "scattermapbox": [
           {
            "marker": {
             "colorbar": {
              "outlinewidth": 0,
              "ticks": ""
             }
            },
            "type": "scattermapbox"
           }
          ],
          "scatterpolar": [
           {
            "marker": {
             "colorbar": {
              "outlinewidth": 0,
              "ticks": ""
             }
            },
            "type": "scatterpolar"
           }
          ],
          "scatterpolargl": [
           {
            "marker": {
             "colorbar": {
              "outlinewidth": 0,
              "ticks": ""
             }
            },
            "type": "scatterpolargl"
           }
          ],
          "scatterternary": [
           {
            "marker": {
             "colorbar": {
              "outlinewidth": 0,
              "ticks": ""
             }
            },
            "type": "scatterternary"
           }
          ],
          "surface": [
           {
            "colorbar": {
             "outlinewidth": 0,
             "ticks": ""
            },
            "colorscale": [
             [
              0,
              "#0d0887"
             ],
             [
              0.1111111111111111,
              "#46039f"
             ],
             [
              0.2222222222222222,
              "#7201a8"
             ],
             [
              0.3333333333333333,
              "#9c179e"
             ],
             [
              0.4444444444444444,
              "#bd3786"
             ],
             [
              0.5555555555555556,
              "#d8576b"
             ],
             [
              0.6666666666666666,
              "#ed7953"
             ],
             [
              0.7777777777777778,
              "#fb9f3a"
             ],
             [
              0.8888888888888888,
              "#fdca26"
             ],
             [
              1,
              "#f0f921"
             ]
            ],
            "type": "surface"
           }
          ],
          "table": [
           {
            "cells": {
             "fill": {
              "color": "#EBF0F8"
             },
             "line": {
              "color": "white"
             }
            },
            "header": {
             "fill": {
              "color": "#C8D4E3"
             },
             "line": {
              "color": "white"
             }
            },
            "type": "table"
           }
          ]
         },
         "layout": {
          "annotationdefaults": {
           "arrowcolor": "#2a3f5f",
           "arrowhead": 0,
           "arrowwidth": 1
          },
          "autotypenumbers": "strict",
          "coloraxis": {
           "colorbar": {
            "outlinewidth": 0,
            "ticks": ""
           }
          },
          "colorscale": {
           "diverging": [
            [
             0,
             "#8e0152"
            ],
            [
             0.1,
             "#c51b7d"
            ],
            [
             0.2,
             "#de77ae"
            ],
            [
             0.3,
             "#f1b6da"
            ],
            [
             0.4,
             "#fde0ef"
            ],
            [
             0.5,
             "#f7f7f7"
            ],
            [
             0.6,
             "#e6f5d0"
            ],
            [
             0.7,
             "#b8e186"
            ],
            [
             0.8,
             "#7fbc41"
            ],
            [
             0.9,
             "#4d9221"
            ],
            [
             1,
             "#276419"
            ]
           ],
           "sequential": [
            [
             0,
             "#0d0887"
            ],
            [
             0.1111111111111111,
             "#46039f"
            ],
            [
             0.2222222222222222,
             "#7201a8"
            ],
            [
             0.3333333333333333,
             "#9c179e"
            ],
            [
             0.4444444444444444,
             "#bd3786"
            ],
            [
             0.5555555555555556,
             "#d8576b"
            ],
            [
             0.6666666666666666,
             "#ed7953"
            ],
            [
             0.7777777777777778,
             "#fb9f3a"
            ],
            [
             0.8888888888888888,
             "#fdca26"
            ],
            [
             1,
             "#f0f921"
            ]
           ],
           "sequentialminus": [
            [
             0,
             "#0d0887"
            ],
            [
             0.1111111111111111,
             "#46039f"
            ],
            [
             0.2222222222222222,
             "#7201a8"
            ],
            [
             0.3333333333333333,
             "#9c179e"
            ],
            [
             0.4444444444444444,
             "#bd3786"
            ],
            [
             0.5555555555555556,
             "#d8576b"
            ],
            [
             0.6666666666666666,
             "#ed7953"
            ],
            [
             0.7777777777777778,
             "#fb9f3a"
            ],
            [
             0.8888888888888888,
             "#fdca26"
            ],
            [
             1,
             "#f0f921"
            ]
           ]
          },
          "colorway": [
           "#636efa",
           "#EF553B",
           "#00cc96",
           "#ab63fa",
           "#FFA15A",
           "#19d3f3",
           "#FF6692",
           "#B6E880",
           "#FF97FF",
           "#FECB52"
          ],
          "font": {
           "color": "#2a3f5f"
          },
          "geo": {
           "bgcolor": "white",
           "lakecolor": "white",
           "landcolor": "#E5ECF6",
           "showlakes": true,
           "showland": true,
           "subunitcolor": "white"
          },
          "hoverlabel": {
           "align": "left"
          },
          "hovermode": "closest",
          "mapbox": {
           "style": "light"
          },
          "paper_bgcolor": "white",
          "plot_bgcolor": "#E5ECF6",
          "polar": {
           "angularaxis": {
            "gridcolor": "white",
            "linecolor": "white",
            "ticks": ""
           },
           "bgcolor": "#E5ECF6",
           "radialaxis": {
            "gridcolor": "white",
            "linecolor": "white",
            "ticks": ""
           }
          },
          "scene": {
           "xaxis": {
            "backgroundcolor": "#E5ECF6",
            "gridcolor": "white",
            "gridwidth": 2,
            "linecolor": "white",
            "showbackground": true,
            "ticks": "",
            "zerolinecolor": "white"
           },
           "yaxis": {
            "backgroundcolor": "#E5ECF6",
            "gridcolor": "white",
            "gridwidth": 2,
            "linecolor": "white",
            "showbackground": true,
            "ticks": "",
            "zerolinecolor": "white"
           },
           "zaxis": {
            "backgroundcolor": "#E5ECF6",
            "gridcolor": "white",
            "gridwidth": 2,
            "linecolor": "white",
            "showbackground": true,
            "ticks": "",
            "zerolinecolor": "white"
           }
          },
          "shapedefaults": {
           "line": {
            "color": "#2a3f5f"
           }
          },
          "ternary": {
           "aaxis": {
            "gridcolor": "white",
            "linecolor": "white",
            "ticks": ""
           },
           "baxis": {
            "gridcolor": "white",
            "linecolor": "white",
            "ticks": ""
           },
           "bgcolor": "#E5ECF6",
           "caxis": {
            "gridcolor": "white",
            "linecolor": "white",
            "ticks": ""
           }
          },
          "title": {
           "x": 0.05
          },
          "xaxis": {
           "automargin": true,
           "gridcolor": "white",
           "linecolor": "white",
           "ticks": "",
           "title": {
            "standoff": 15
           },
           "zerolinecolor": "white",
           "zerolinewidth": 2
          },
          "yaxis": {
           "automargin": true,
           "gridcolor": "white",
           "linecolor": "white",
           "ticks": "",
           "title": {
            "standoff": 15
           },
           "zerolinecolor": "white",
           "zerolinewidth": 2
          }
         }
        }
       }
      },
      "text/html": [
       "<div>                            <div id=\"97563fc6-c0ab-46b1-9a58-0020d077199a\" class=\"plotly-graph-div\" style=\"height:525px; width:100%;\"></div>            <script type=\"text/javascript\">                require([\"plotly\"], function(Plotly) {                    window.PLOTLYENV=window.PLOTLYENV || {};                                    if (document.getElementById(\"97563fc6-c0ab-46b1-9a58-0020d077199a\")) {                    Plotly.newPlot(                        \"97563fc6-c0ab-46b1-9a58-0020d077199a\",                        [{\"x\":[1,2,3,4,5,6,7,8,9,10,11,12,13,14,15,16,17,18,19,20,21,22,23,24,25,26,27,28,29,30,31,32,33,34,35,36,37,38,39,40,41,42,43,44,45,46,47,48,49,50,51,52,53,54,55,56,57,58,59,60,61,62,63,64,65,66,67,68,69,70,71,72,73,74,75,76,77,78,79,80,81,82,83,84,85,86,87,88,89,90,91,92,93,94,95,96,97,98,99,100,101,102,103,104,105,106,107,108,109,110,111,112,113,114,115,116,117,118,119,120,121,122,123,124,125,126,127,128,129,130,131,132,133,134,135,136,137,138,139,140,141,142,143,144,145,146,147,148,149,150,151,152,153,154,155,156,157,158,159,160,161,162,163,164,165,166,167,168,169,170,171,172,173,174,175,176,177,178,179,180,181,182,183,184,185,186,187,188,189,190,191,192,193,194,195,196,197,198,199,200],\"y\":[1.8364215667168584,1.5945989122353414,1.4923210221301688,1.4393752773025286,1.405197265697977,1.3825511523647378,1.3636128069463904,1.3514556020369626,1.3398289845951294,1.3300139724681947,1.3214507800220998,1.3146147253215916,1.3082102634285053,1.302795440417772,1.2977284123656516,1.2924249219428792,1.287958475072693,1.2835564632679803,1.2797957389957604,1.275969079242896,1.2724059715469815,1.269479921675076,1.2666981498388754,1.2643642602344873,1.2613492726987314,1.2597168455561396,1.2578931341898287,1.2555577426789126,1.2543567978919632,1.2526035113367653,1.2512020965658273,1.248828038562278,1.2473849761488534,1.2456630812678622,1.2438262669282782,1.242467529378216,1.2412952694232244,1.2397493505453616,1.2382580264166492,1.2369195786122062,1.23595348859544,1.2353795151870766,1.2341060036883889,1.2329598540043618,1.2328576701493432,1.2319073331101602,1.2308577030900902,1.2298071772200057,1.2291620055499315,1.2283949492672748,1.2274753695383602,1.226859397967425,1.2256874377753262,1.225226718138009,1.2241789832078696,1.2234011746858358,1.223115091318265,1.2220846366788942,1.2215041464437206,1.2206061346428083,1.2201052539152881,1.2192712710900622,1.218750699159647,1.2178889702536693,1.217448295490823,1.2169691201943122,1.216723709397815,1.2159564814217618,1.216021714623971,1.2152386850869468,1.2149622012326737,1.2145704080338688,1.21437446403293,1.2137979748174221,1.2135326978156196,1.2127749934233294,1.2127826882322934,1.212124605607915,1.2119013151380682,1.2118705132238392,1.2114276491600227,1.2111233269701314,1.2106956057841918,1.2103409835775722,1.2098435665136833,1.2092880685837988,1.2086937119008936,1.208743896161717,1.2081685823531885,1.2078866171856155,1.2076161777946643,1.2072799758304815,1.2068702238777285,1.2066459610821703,1.206630493146071,1.206000005989259,1.2056556131055647,1.2053653179848671,1.2048735920878901,1.2048116281339754,1.2047186762273332,1.2043932880605404,1.2042809312539569,1.2042073124896207,1.2040019310923842,1.2037926385359772,1.2033506791550304,1.2030249209792847,1.2029667405937603,1.2023964238365286,1.202423587911242,1.2023188088127683,1.202054880246002,1.2018530134111416,1.2015423828254113,1.2015346160318374,1.201192827397472,1.200975274894267,1.2008237418326717,1.2007265951962671,1.2002835068603932,1.2001746531231183,1.1999841353225869,1.1998674768410962,1.1993851680738437,1.199322920556256,1.1991400497862117,1.1988598532328836,1.1988365005640242,1.1988092552087357,1.1984433290037146,1.1981668638496452,1.1983226267108253,1.198085080240915,1.1979721317929302,1.1978552773635134,1.1978708586127318,1.1973565703315534,1.19720457924191,1.1971071389062886,1.1972084766903777,1.1971617064713285,1.1967835800996927,1.196592522383011,1.1963780334997212,1.1959216291904897,1.1958396920299228,1.1958279862629628,1.1958162803814159,1.195917727548237,1.1955392077297313,1.1953401440773004,1.195156663903286,1.1947583759571834,1.1946724533054807,1.1946997930013243,1.19472322652838,1.1944771515655455,1.1940942674954678,1.193926228584167,1.193777709393322,1.1935627146748888,1.1933750512685797,1.1932030005512324,1.1927258210259222,1.1926788750221111,1.1923228076690804,1.1924871596586304,1.1924167258654925,1.1923110673743622,1.1922406231782507,1.192119292860446,1.191994035707486,1.192056665929164,1.191900084204342,1.1917552277925898,1.191747397214685,1.1914967915492831,1.1913988843938195,1.191304885954446,1.1912343822573324,1.1910345991178073,1.1910189284346961,1.1907133088922157,1.1908230274960823,1.1906780400509558,1.1904389681408842,1.1905330349487309,1.1904350485292499,1.1902978539905378,1.1902625728388743,1.190086151391444,1.1900077334638546,1.1901880869730606,1.189980285968347,1.1900430221707297,1.1900194964824182,1.189937152910545,1.1898783325846447,1.1898391174185925],\"type\":\"scatter\"}],                        {\"template\":{\"data\":{\"histogram2dcontour\":[{\"type\":\"histogram2dcontour\",\"colorbar\":{\"outlinewidth\":0,\"ticks\":\"\"},\"colorscale\":[[0.0,\"#0d0887\"],[0.1111111111111111,\"#46039f\"],[0.2222222222222222,\"#7201a8\"],[0.3333333333333333,\"#9c179e\"],[0.4444444444444444,\"#bd3786\"],[0.5555555555555556,\"#d8576b\"],[0.6666666666666666,\"#ed7953\"],[0.7777777777777778,\"#fb9f3a\"],[0.8888888888888888,\"#fdca26\"],[1.0,\"#f0f921\"]]}],\"choropleth\":[{\"type\":\"choropleth\",\"colorbar\":{\"outlinewidth\":0,\"ticks\":\"\"}}],\"histogram2d\":[{\"type\":\"histogram2d\",\"colorbar\":{\"outlinewidth\":0,\"ticks\":\"\"},\"colorscale\":[[0.0,\"#0d0887\"],[0.1111111111111111,\"#46039f\"],[0.2222222222222222,\"#7201a8\"],[0.3333333333333333,\"#9c179e\"],[0.4444444444444444,\"#bd3786\"],[0.5555555555555556,\"#d8576b\"],[0.6666666666666666,\"#ed7953\"],[0.7777777777777778,\"#fb9f3a\"],[0.8888888888888888,\"#fdca26\"],[1.0,\"#f0f921\"]]}],\"heatmap\":[{\"type\":\"heatmap\",\"colorbar\":{\"outlinewidth\":0,\"ticks\":\"\"},\"colorscale\":[[0.0,\"#0d0887\"],[0.1111111111111111,\"#46039f\"],[0.2222222222222222,\"#7201a8\"],[0.3333333333333333,\"#9c179e\"],[0.4444444444444444,\"#bd3786\"],[0.5555555555555556,\"#d8576b\"],[0.6666666666666666,\"#ed7953\"],[0.7777777777777778,\"#fb9f3a\"],[0.8888888888888888,\"#fdca26\"],[1.0,\"#f0f921\"]]}],\"heatmapgl\":[{\"type\":\"heatmapgl\",\"colorbar\":{\"outlinewidth\":0,\"ticks\":\"\"},\"colorscale\":[[0.0,\"#0d0887\"],[0.1111111111111111,\"#46039f\"],[0.2222222222222222,\"#7201a8\"],[0.3333333333333333,\"#9c179e\"],[0.4444444444444444,\"#bd3786\"],[0.5555555555555556,\"#d8576b\"],[0.6666666666666666,\"#ed7953\"],[0.7777777777777778,\"#fb9f3a\"],[0.8888888888888888,\"#fdca26\"],[1.0,\"#f0f921\"]]}],\"contourcarpet\":[{\"type\":\"contourcarpet\",\"colorbar\":{\"outlinewidth\":0,\"ticks\":\"\"}}],\"contour\":[{\"type\":\"contour\",\"colorbar\":{\"outlinewidth\":0,\"ticks\":\"\"},\"colorscale\":[[0.0,\"#0d0887\"],[0.1111111111111111,\"#46039f\"],[0.2222222222222222,\"#7201a8\"],[0.3333333333333333,\"#9c179e\"],[0.4444444444444444,\"#bd3786\"],[0.5555555555555556,\"#d8576b\"],[0.6666666666666666,\"#ed7953\"],[0.7777777777777778,\"#fb9f3a\"],[0.8888888888888888,\"#fdca26\"],[1.0,\"#f0f921\"]]}],\"surface\":[{\"type\":\"surface\",\"colorbar\":{\"outlinewidth\":0,\"ticks\":\"\"},\"colorscale\":[[0.0,\"#0d0887\"],[0.1111111111111111,\"#46039f\"],[0.2222222222222222,\"#7201a8\"],[0.3333333333333333,\"#9c179e\"],[0.4444444444444444,\"#bd3786\"],[0.5555555555555556,\"#d8576b\"],[0.6666666666666666,\"#ed7953\"],[0.7777777777777778,\"#fb9f3a\"],[0.8888888888888888,\"#fdca26\"],[1.0,\"#f0f921\"]]}],\"mesh3d\":[{\"type\":\"mesh3d\",\"colorbar\":{\"outlinewidth\":0,\"ticks\":\"\"}}],\"scatter\":[{\"fillpattern\":{\"fillmode\":\"overlay\",\"size\":10,\"solidity\":0.2},\"type\":\"scatter\"}],\"parcoords\":[{\"type\":\"parcoords\",\"line\":{\"colorbar\":{\"outlinewidth\":0,\"ticks\":\"\"}}}],\"scatterpolargl\":[{\"type\":\"scatterpolargl\",\"marker\":{\"colorbar\":{\"outlinewidth\":0,\"ticks\":\"\"}}}],\"bar\":[{\"error_x\":{\"color\":\"#2a3f5f\"},\"error_y\":{\"color\":\"#2a3f5f\"},\"marker\":{\"line\":{\"color\":\"#E5ECF6\",\"width\":0.5},\"pattern\":{\"fillmode\":\"overlay\",\"size\":10,\"solidity\":0.2}},\"type\":\"bar\"}],\"scattergeo\":[{\"type\":\"scattergeo\",\"marker\":{\"colorbar\":{\"outlinewidth\":0,\"ticks\":\"\"}}}],\"scatterpolar\":[{\"type\":\"scatterpolar\",\"marker\":{\"colorbar\":{\"outlinewidth\":0,\"ticks\":\"\"}}}],\"histogram\":[{\"marker\":{\"pattern\":{\"fillmode\":\"overlay\",\"size\":10,\"solidity\":0.2}},\"type\":\"histogram\"}],\"scattergl\":[{\"type\":\"scattergl\",\"marker\":{\"colorbar\":{\"outlinewidth\":0,\"ticks\":\"\"}}}],\"scatter3d\":[{\"type\":\"scatter3d\",\"line\":{\"colorbar\":{\"outlinewidth\":0,\"ticks\":\"\"}},\"marker\":{\"colorbar\":{\"outlinewidth\":0,\"ticks\":\"\"}}}],\"scattermapbox\":[{\"type\":\"scattermapbox\",\"marker\":{\"colorbar\":{\"outlinewidth\":0,\"ticks\":\"\"}}}],\"scatterternary\":[{\"type\":\"scatterternary\",\"marker\":{\"colorbar\":{\"outlinewidth\":0,\"ticks\":\"\"}}}],\"scattercarpet\":[{\"type\":\"scattercarpet\",\"marker\":{\"colorbar\":{\"outlinewidth\":0,\"ticks\":\"\"}}}],\"carpet\":[{\"aaxis\":{\"endlinecolor\":\"#2a3f5f\",\"gridcolor\":\"white\",\"linecolor\":\"white\",\"minorgridcolor\":\"white\",\"startlinecolor\":\"#2a3f5f\"},\"baxis\":{\"endlinecolor\":\"#2a3f5f\",\"gridcolor\":\"white\",\"linecolor\":\"white\",\"minorgridcolor\":\"white\",\"startlinecolor\":\"#2a3f5f\"},\"type\":\"carpet\"}],\"table\":[{\"cells\":{\"fill\":{\"color\":\"#EBF0F8\"},\"line\":{\"color\":\"white\"}},\"header\":{\"fill\":{\"color\":\"#C8D4E3\"},\"line\":{\"color\":\"white\"}},\"type\":\"table\"}],\"barpolar\":[{\"marker\":{\"line\":{\"color\":\"#E5ECF6\",\"width\":0.5},\"pattern\":{\"fillmode\":\"overlay\",\"size\":10,\"solidity\":0.2}},\"type\":\"barpolar\"}],\"pie\":[{\"automargin\":true,\"type\":\"pie\"}]},\"layout\":{\"autotypenumbers\":\"strict\",\"colorway\":[\"#636efa\",\"#EF553B\",\"#00cc96\",\"#ab63fa\",\"#FFA15A\",\"#19d3f3\",\"#FF6692\",\"#B6E880\",\"#FF97FF\",\"#FECB52\"],\"font\":{\"color\":\"#2a3f5f\"},\"hovermode\":\"closest\",\"hoverlabel\":{\"align\":\"left\"},\"paper_bgcolor\":\"white\",\"plot_bgcolor\":\"#E5ECF6\",\"polar\":{\"bgcolor\":\"#E5ECF6\",\"angularaxis\":{\"gridcolor\":\"white\",\"linecolor\":\"white\",\"ticks\":\"\"},\"radialaxis\":{\"gridcolor\":\"white\",\"linecolor\":\"white\",\"ticks\":\"\"}},\"ternary\":{\"bgcolor\":\"#E5ECF6\",\"aaxis\":{\"gridcolor\":\"white\",\"linecolor\":\"white\",\"ticks\":\"\"},\"baxis\":{\"gridcolor\":\"white\",\"linecolor\":\"white\",\"ticks\":\"\"},\"caxis\":{\"gridcolor\":\"white\",\"linecolor\":\"white\",\"ticks\":\"\"}},\"coloraxis\":{\"colorbar\":{\"outlinewidth\":0,\"ticks\":\"\"}},\"colorscale\":{\"sequential\":[[0.0,\"#0d0887\"],[0.1111111111111111,\"#46039f\"],[0.2222222222222222,\"#7201a8\"],[0.3333333333333333,\"#9c179e\"],[0.4444444444444444,\"#bd3786\"],[0.5555555555555556,\"#d8576b\"],[0.6666666666666666,\"#ed7953\"],[0.7777777777777778,\"#fb9f3a\"],[0.8888888888888888,\"#fdca26\"],[1.0,\"#f0f921\"]],\"sequentialminus\":[[0.0,\"#0d0887\"],[0.1111111111111111,\"#46039f\"],[0.2222222222222222,\"#7201a8\"],[0.3333333333333333,\"#9c179e\"],[0.4444444444444444,\"#bd3786\"],[0.5555555555555556,\"#d8576b\"],[0.6666666666666666,\"#ed7953\"],[0.7777777777777778,\"#fb9f3a\"],[0.8888888888888888,\"#fdca26\"],[1.0,\"#f0f921\"]],\"diverging\":[[0,\"#8e0152\"],[0.1,\"#c51b7d\"],[0.2,\"#de77ae\"],[0.3,\"#f1b6da\"],[0.4,\"#fde0ef\"],[0.5,\"#f7f7f7\"],[0.6,\"#e6f5d0\"],[0.7,\"#b8e186\"],[0.8,\"#7fbc41\"],[0.9,\"#4d9221\"],[1,\"#276419\"]]},\"xaxis\":{\"gridcolor\":\"white\",\"linecolor\":\"white\",\"ticks\":\"\",\"title\":{\"standoff\":15},\"zerolinecolor\":\"white\",\"automargin\":true,\"zerolinewidth\":2},\"yaxis\":{\"gridcolor\":\"white\",\"linecolor\":\"white\",\"ticks\":\"\",\"title\":{\"standoff\":15},\"zerolinecolor\":\"white\",\"automargin\":true,\"zerolinewidth\":2},\"scene\":{\"xaxis\":{\"backgroundcolor\":\"#E5ECF6\",\"gridcolor\":\"white\",\"linecolor\":\"white\",\"showbackground\":true,\"ticks\":\"\",\"zerolinecolor\":\"white\",\"gridwidth\":2},\"yaxis\":{\"backgroundcolor\":\"#E5ECF6\",\"gridcolor\":\"white\",\"linecolor\":\"white\",\"showbackground\":true,\"ticks\":\"\",\"zerolinecolor\":\"white\",\"gridwidth\":2},\"zaxis\":{\"backgroundcolor\":\"#E5ECF6\",\"gridcolor\":\"white\",\"linecolor\":\"white\",\"showbackground\":true,\"ticks\":\"\",\"zerolinecolor\":\"white\",\"gridwidth\":2}},\"shapedefaults\":{\"line\":{\"color\":\"#2a3f5f\"}},\"annotationdefaults\":{\"arrowcolor\":\"#2a3f5f\",\"arrowhead\":0,\"arrowwidth\":1},\"geo\":{\"bgcolor\":\"white\",\"landcolor\":\"#E5ECF6\",\"subunitcolor\":\"white\",\"showland\":true,\"showlakes\":true,\"lakecolor\":\"white\"},\"title\":{\"x\":0.05},\"mapbox\":{\"style\":\"light\"}}}},                        {\"responsive\": true}                    ).then(function(){\n",
       "                            \n",
       "var gd = document.getElementById('97563fc6-c0ab-46b1-9a58-0020d077199a');\n",
       "var x = new MutationObserver(function (mutations, observer) {{\n",
       "        var display = window.getComputedStyle(gd).display;\n",
       "        if (!display || display === 'none') {{\n",
       "            console.log([gd, 'removed!']);\n",
       "            Plotly.purge(gd);\n",
       "            observer.disconnect();\n",
       "        }}\n",
       "}});\n",
       "\n",
       "// Listen for the removal of the full notebook cells\n",
       "var notebookContainer = gd.closest('#notebook-container');\n",
       "if (notebookContainer) {{\n",
       "    x.observe(notebookContainer, {childList: true});\n",
       "}}\n",
       "\n",
       "// Listen for the clearing of the current output cell\n",
       "var outputEl = gd.closest('.output');\n",
       "if (outputEl) {{\n",
       "    x.observe(outputEl, {childList: true});\n",
       "}}\n",
       "\n",
       "                        })                };                });            </script>        </div>"
      ]
     },
     "metadata": {},
     "output_type": "display_data"
    }
   ],
   "source": [
    "fig = go.Figure(\n",
    "    data=go.Scatter(\n",
    "        x=np.arange(1, 200+1),\n",
    "        y=errors\n",
    "    )\n",
    ")\n",
    "fig.show()"
   ]
  },
  {
   "cell_type": "markdown",
   "id": "31b9e618",
   "metadata": {},
   "source": [
    "Choose $k=200$"
   ]
  },
  {
   "cell_type": "markdown",
   "id": "e54c81b2",
   "metadata": {},
   "source": [
    "# Test prediction\n",
    "\n",
    "## Build matrix with all the data"
   ]
  },
  {
   "cell_type": "code",
   "execution_count": 36,
   "id": "74348f40",
   "metadata": {},
   "outputs": [],
   "source": [
    "total_ratings = build_matrix_jit(train_csv.drop([\"timestamp\"], axis=1).values, users, movies)"
   ]
  },
  {
   "cell_type": "code",
   "execution_count": 37,
   "id": "bd3cea95",
   "metadata": {},
   "outputs": [
    {
     "data": {
      "text/html": [
       "<div>\n",
       "<style scoped>\n",
       "    .dataframe tbody tr th:only-of-type {\n",
       "        vertical-align: middle;\n",
       "    }\n",
       "\n",
       "    .dataframe tbody tr th {\n",
       "        vertical-align: top;\n",
       "    }\n",
       "\n",
       "    .dataframe thead th {\n",
       "        text-align: right;\n",
       "    }\n",
       "</style>\n",
       "<table border=\"1\" class=\"dataframe\">\n",
       "  <thead>\n",
       "    <tr style=\"text-align: right;\">\n",
       "      <th></th>\n",
       "      <th>id</th>\n",
       "      <th>user_id</th>\n",
       "      <th>movie_id</th>\n",
       "      <th>timestamp</th>\n",
       "    </tr>\n",
       "  </thead>\n",
       "  <tbody>\n",
       "    <tr>\n",
       "      <th>0</th>\n",
       "      <td>0</td>\n",
       "      <td>5</td>\n",
       "      <td>2962</td>\n",
       "      <td>974769784</td>\n",
       "    </tr>\n",
       "    <tr>\n",
       "      <th>1</th>\n",
       "      <td>1</td>\n",
       "      <td>5</td>\n",
       "      <td>3177</td>\n",
       "      <td>974769768</td>\n",
       "    </tr>\n",
       "    <tr>\n",
       "      <th>2</th>\n",
       "      <td>2</td>\n",
       "      <td>5</td>\n",
       "      <td>3153</td>\n",
       "      <td>974769768</td>\n",
       "    </tr>\n",
       "    <tr>\n",
       "      <th>3</th>\n",
       "      <td>3</td>\n",
       "      <td>5</td>\n",
       "      <td>501</td>\n",
       "      <td>974769768</td>\n",
       "    </tr>\n",
       "    <tr>\n",
       "      <th>4</th>\n",
       "      <td>4</td>\n",
       "      <td>5</td>\n",
       "      <td>3159</td>\n",
       "      <td>974769768</td>\n",
       "    </tr>\n",
       "  </tbody>\n",
       "</table>\n",
       "</div>"
      ],
      "text/plain": [
       "   id  user_id  movie_id  timestamp\n",
       "0   0        5      2962  974769784\n",
       "1   1        5      3177  974769768\n",
       "2   2        5      3153  974769768\n",
       "3   3        5       501  974769768\n",
       "4   4        5      3159  974769768"
      ]
     },
     "execution_count": 37,
     "metadata": {},
     "output_type": "execute_result"
    }
   ],
   "source": [
    "test_csv.head()"
   ]
  },
  {
   "cell_type": "markdown",
   "id": "a5028d73",
   "metadata": {},
   "source": [
    "## Predict test set"
   ]
  },
  {
   "cell_type": "code",
   "execution_count": 42,
   "id": "54d4f89b",
   "metadata": {},
   "outputs": [],
   "source": [
    "test_predictions = predict_batch(\n",
    "    test_csv.drop([\"id\", \"timestamp\"], axis=1).values,\n",
    "    total_ratings,\n",
    "    sims,\n",
    "    neighbours=200,\n",
    ")"
   ]
  },
  {
   "cell_type": "code",
   "execution_count": 43,
   "id": "3a108ff2",
   "metadata": {},
   "outputs": [
    {
     "data": {
      "text/html": [
       "<div>\n",
       "<style scoped>\n",
       "    .dataframe tbody tr th:only-of-type {\n",
       "        vertical-align: middle;\n",
       "    }\n",
       "\n",
       "    .dataframe tbody tr th {\n",
       "        vertical-align: top;\n",
       "    }\n",
       "\n",
       "    .dataframe thead th {\n",
       "        text-align: right;\n",
       "    }\n",
       "</style>\n",
       "<table border=\"1\" class=\"dataframe\">\n",
       "  <thead>\n",
       "    <tr style=\"text-align: right;\">\n",
       "      <th></th>\n",
       "      <th>id</th>\n",
       "      <th>rating</th>\n",
       "    </tr>\n",
       "  </thead>\n",
       "  <tbody>\n",
       "    <tr>\n",
       "      <th>0</th>\n",
       "      <td>0</td>\n",
       "      <td>3</td>\n",
       "    </tr>\n",
       "    <tr>\n",
       "      <th>1</th>\n",
       "      <td>1</td>\n",
       "      <td>3</td>\n",
       "    </tr>\n",
       "    <tr>\n",
       "      <th>2</th>\n",
       "      <td>2</td>\n",
       "      <td>3</td>\n",
       "    </tr>\n",
       "    <tr>\n",
       "      <th>3</th>\n",
       "      <td>3</td>\n",
       "      <td>3</td>\n",
       "    </tr>\n",
       "    <tr>\n",
       "      <th>4</th>\n",
       "      <td>4</td>\n",
       "      <td>3</td>\n",
       "    </tr>\n",
       "  </tbody>\n",
       "</table>\n",
       "</div>"
      ],
      "text/plain": [
       "   id  rating\n",
       "0   0       3\n",
       "1   1       3\n",
       "2   2       3\n",
       "3   3       3\n",
       "4   4       3"
      ]
     },
     "execution_count": 43,
     "metadata": {},
     "output_type": "execute_result"
    }
   ],
   "source": [
    "out_df = pd.DataFrame.from_dict(\n",
    "    {\n",
    "        \"id\": list(test_csv[\"id\"]),\n",
    "        \"rating\": test_predictions\n",
    "    }\n",
    ")\n",
    "\n",
    "out_df.head()"
   ]
  },
  {
   "cell_type": "code",
   "execution_count": 44,
   "id": "93075eb6",
   "metadata": {},
   "outputs": [],
   "source": [
    "out_df.to_csv(\"out_fc_items_200.csv\", index=False)"
   ]
  }
 ],
 "metadata": {
  "kernelspec": {
   "display_name": "Python 3 (ipykernel)",
   "language": "python",
   "name": "python3"
  },
  "language_info": {
   "codemirror_mode": {
    "name": "ipython",
    "version": 3
   },
   "file_extension": ".py",
   "mimetype": "text/x-python",
   "name": "python",
   "nbconvert_exporter": "python",
   "pygments_lexer": "ipython3",
   "version": "3.9.7"
  }
 },
 "nbformat": 4,
 "nbformat_minor": 5
}
