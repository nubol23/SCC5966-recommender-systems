{
 "cells": [
  {
   "cell_type": "code",
   "execution_count": 1,
   "id": "e9c56603",
   "metadata": {},
   "outputs": [],
   "source": [
    "import pandas as pd\n",
    "import numpy as np\n",
    "from numba import njit, prange\n",
    "\n",
    "from tqdm.notebook import tqdm, trange\n",
    "\n",
    "from numba.typed import List\n",
    "from numba import types\n",
    "\n",
    "from numba_progress import ProgressBar"
   ]
  },
  {
   "cell_type": "code",
   "execution_count": 2,
   "id": "f1b92ff3",
   "metadata": {},
   "outputs": [],
   "source": [
    "users = 3974\n",
    "movies = 3564\n",
    "\n",
    "train_csv = pd.read_csv(\"/home/nubol23/Desktop/Codes/USP/SCC5966/kaggle/data/train_data.csv\")\n",
    "test_csv = pd.read_csv(\"/home/nubol23/Desktop/Codes/USP/SCC5966/kaggle/data/test_data.csv\")\n",
    "\n",
    "train_csv[\"user_id\"] = train_csv[\"user_id\"].apply(lambda x: x - 1)\n",
    "train_csv[\"movie_id\"] = train_csv[\"movie_id\"].apply(lambda x: x - 1)\n",
    "\n",
    "test_csv[\"user_id\"] = test_csv[\"user_id\"].apply(lambda x: x - 1)\n",
    "test_csv[\"movie_id\"] = test_csv[\"movie_id\"].apply(lambda x: x - 1)\n",
    "\n",
    "# Split into train and validation\n",
    "train_data = train_csv.drop([\"timestamp\"], axis=1).sample(frac=0.8)\n",
    "validation_data = train_csv.drop(train_data.index).drop([\"timestamp\"], axis=1)\n",
    "\n",
    "assert train_data.shape[0] + validation_data.shape[0] == train_csv.shape[0]"
   ]
  },
  {
   "cell_type": "code",
   "execution_count": 3,
   "id": "64d121b9",
   "metadata": {},
   "outputs": [],
   "source": [
    "uir_train = train_data.values\n",
    "\n",
    "uir_val = validation_data.values\n",
    "n_val = uir_val.shape[0]"
   ]
  },
  {
   "cell_type": "code",
   "execution_count": 4,
   "id": "6bb7914d",
   "metadata": {},
   "outputs": [],
   "source": [
    "@njit\n",
    "def get_items_rated_by_users(train_data, n_users):\n",
    "    res = List([List.empty_list(types.int64) for _ in range(n_users)])\n",
    "    \n",
    "    for u, i, _ in train_data:\n",
    "        res[u].append(i)\n",
    "    \n",
    "    for u in range(n_users):\n",
    "        res[u].sort()\n",
    "    \n",
    "    return res\n",
    "\n",
    "def get_irbu_matrix_with_len(irbu, n_users, n_items):\n",
    "    out = np.ones((n_users, n_items), dtype=int)*-1\n",
    "    len_irbu = np.zeros(n_users)\n",
    "\n",
    "    for u in range(n_users):\n",
    "        len_irbu[u] = len(irbu[u])\n",
    "        for idx, i in enumerate(irbu[u]):\n",
    "            out[u, idx] = i\n",
    "            \n",
    "    return out, len_irbu\n",
    "\n",
    "irbu, len_irbu = get_irbu_matrix_with_len(get_items_rated_by_users(uir_train, users), users, movies)"
   ]
  },
  {
   "cell_type": "code",
   "execution_count": 5,
   "id": "335d1bc7",
   "metadata": {},
   "outputs": [],
   "source": [
    "@njit\n",
    "def step(\n",
    "    train_data, \n",
    "    Rus, \n",
    "    len_Rus,\n",
    "    n_users, \n",
    "    n_items, \n",
    "    k, \n",
    "    α1,\n",
    "    α2,\n",
    "    α3,\n",
    "    α4,\n",
    "    α5,\n",
    "    λ1, \n",
    "    λ2,\n",
    "    μ, bi, bu, P, Q, Y,\n",
    "):\n",
    "    loss = 0\n",
    "    for u, i, r in train_data:\n",
    "        Ru = Rus[u]\n",
    "        sqrt_Ru = np.sqrt(len_Rus[u])\n",
    "\n",
    "        implicit_feedback = np.zeros(k)\n",
    "        for j in Ru:\n",
    "            if j == -1:\n",
    "                break\n",
    "            implicit_feedback += Y[j]\n",
    "        implicit_feedback /= (sqrt_Ru+1e-15)\n",
    "\n",
    "        pred = μ + bu[u] + bi[i] + np.dot(Q[i], P[u] + implicit_feedback)\n",
    "        error = r - pred\n",
    "\n",
    "        # Updating\n",
    "        bu[u] += α1 * (error - λ1*bu[u])\n",
    "        bi[i] += α2 * (error - λ1*bi[i])\n",
    "\n",
    "        Pu = P[u]\n",
    "        Qi = Q[i]\n",
    "        P[u] += α3*(error*Qi - λ2*Pu)\n",
    "        Q[i] += α4*(error*(Pu+implicit_feedback) - λ2*Qi)\n",
    "\n",
    "        term_1 = error*(Qi/(sqrt_Ru+1e-15))\n",
    "        for j in Ru:\n",
    "            if j == -1:\n",
    "                break\n",
    "            Y[j] += α5*(term_1 - λ2*Y[j])\n",
    "            \n",
    "        loss += error**2\n",
    "            \n",
    "    return np.sqrt(loss/len(train_data))"
   ]
  },
  {
   "cell_type": "code",
   "execution_count": 11,
   "id": "509905d9",
   "metadata": {},
   "outputs": [],
   "source": [
    "# RS HD page 171 (chrome), 84 book\n",
    "def fit_svdpp(train_data, val_data, Rus, len_Rus, n_users, n_items, k, α1=.01, α2=.01, α3=.01, α4=.01, α5=.01, λ1=.01, λ2=.01, n_iters=20):\n",
    "    \"\"\"\n",
    "    train_data: array Nx3\n",
    "    \"\"\"\n",
    "    val_ui = uir_val[:, :2]\n",
    "    val_exp = uir_val[:, -1]\n",
    "    \n",
    "    bu = np.zeros(n_users, np.double)\n",
    "    bi = np.zeros(n_items, np.double)\n",
    "    \n",
    "    P = np.random.normal(0, .1, (n_users, k))\n",
    "    Q = np.random.normal(0, .1, (n_items, k))\n",
    "    Y = np.random.normal(0, .1, (n_items, k))\n",
    "    \n",
    "    μ = np.mean(train_data[:, 2])\n",
    "    \n",
    "    t = trange(n_iters, leave=True)\n",
    "    for it in t:\n",
    "        loss = step(train_data, Rus, len_Rus, n_users, n_items, k, α1, α2, α3, α4, α5, λ1, λ2, μ, bi, bu, P, Q, Y)\n",
    "#         α1 *= 0.9\n",
    "#         α2 *= 0.9\n",
    "#         α3 *= 0.9\n",
    "#         α4 *= 0.9\n",
    "#         α5 *= 0.9\n",
    "        \n",
    "        val_preds = predict_batch(val_ui, Rus, len_Rus, (μ, bu, bi, P, Q, Y))\n",
    "        val_loss = np.sqrt(1/n_val * np.sum((val_preds - val_exp)**2))\n",
    "        t.set_postfix({\"Loss\": loss, \"Val\": val_loss})\n",
    "    \n",
    "    return μ, bu, bi, P, Q, Y"
   ]
  },
  {
   "cell_type": "markdown",
   "id": "cd9fd80e",
   "metadata": {},
   "source": [
    "# Fit"
   ]
  },
  {
   "cell_type": "code",
   "execution_count": 7,
   "id": "eea87b03",
   "metadata": {},
   "outputs": [],
   "source": [
    "@njit\n",
    "def predict(u, i, Rus, len_Rus, params):\n",
    "    μ, bu, bi, P, Q, Y = params\n",
    "    k = P.shape[1]\n",
    "    \n",
    "    Ru = Rus[u]\n",
    "    sqrt_Ru = np.sqrt(len_Rus[u])\n",
    "\n",
    "    implicit_feedback = np.zeros(k)\n",
    "    for j in Ru:\n",
    "        if j == -1:\n",
    "            break\n",
    "        implicit_feedback += Y[j]\n",
    "    implicit_feedback /= (sqrt_Ru+1e-15)\n",
    "\n",
    "    pred = μ + bu[u] + bi[i] + np.dot(Q[i], P[u] + implicit_feedback)\n",
    "    \n",
    "    return pred"
   ]
  },
  {
   "cell_type": "code",
   "execution_count": 8,
   "id": "42f5b734",
   "metadata": {},
   "outputs": [],
   "source": [
    "@njit(parallel=True, nogil=True)\n",
    "def predict_batch_inner(ui_mat, Rus, len_Rus, params, progress_hook):\n",
    "    predictions = np.zeros(len(ui_mat))\n",
    "    for it in prange(ui_mat.shape[0]):\n",
    "        u, i = ui_mat[it]\n",
    "        predictions[it] = predict(u, i, Rus, len_Rus, params)\n",
    "        if np.isnan(predictions[it]):\n",
    "            print(u, i)\n",
    "            \n",
    "        progress_hook.update(1)\n",
    "        \n",
    "    return np.clip(predictions, 1., 5.)\n",
    "\n",
    "def predict_batch_progress_bar(ui_mat, Rus, len_Rus, params):\n",
    "    with ProgressBar(total=len(ui_mat)) as progress:\n",
    "        return predict_batch_inner(ui_mat, Rus, len_Rus, params, progress)\n",
    "    \n",
    "@njit(parallel=True, nogil=True)\n",
    "def predict_batch(ui_mat, Rus, len_Rus, params):\n",
    "    predictions = np.zeros(len(ui_mat))\n",
    "    for it in prange(ui_mat.shape[0]):\n",
    "        u, i = ui_mat[it]\n",
    "        predictions[it] = predict(u, i, Rus, len_Rus, params)\n",
    "        \n",
    "    return np.clip(predictions, 1., 5.)"
   ]
  },
  {
   "cell_type": "code",
   "execution_count": 12,
   "id": "0df76310",
   "metadata": {
    "scrolled": false
   },
   "outputs": [
    {
     "data": {
      "application/vnd.jupyter.widget-view+json": {
       "model_id": "99fe02693f254d07992119fe845eca78",
       "version_major": 2,
       "version_minor": 0
      },
      "text/plain": [
       "  0%|          | 0/30 [00:00<?, ?it/s]"
      ]
     },
     "metadata": {},
     "output_type": "display_data"
    }
   ],
   "source": [
    "# lr = .007\n",
    "# α1 = α2 = α3 = α4 = α5 = lr\n",
    "\n",
    "α1 = 0.005\n",
    "α2 = 0.005\n",
    "α3 = 0.006\n",
    "α4 = 0.006\n",
    "α5 = 0.006\n",
    "k = 5\n",
    "fitted_params = fit_svdpp(\n",
    "    uir_train, uir_val, irbu, len_irbu, users, movies, k, \n",
    "    α1, α2, α3, α4, α5, λ1=.02, λ2=.01,\n",
    "    n_iters=30,\n",
    ")"
   ]
  },
  {
   "cell_type": "code",
   "execution_count": 13,
   "id": "c8650cb7",
   "metadata": {},
   "outputs": [
    {
     "name": "stdout",
     "output_type": "stream",
     "text": [
      "0.8680973589568941\n"
     ]
    }
   ],
   "source": [
    "val_preds = predict_batch(uir_val[:, :2], irbu, len_irbu, fitted_params)\n",
    "val_expected = uir_val[:, 2]\n",
    "\n",
    "error = np.sqrt(1/n_val * np.sum((val_preds - val_expected)**2))\n",
    "print(error)"
   ]
  },
  {
   "cell_type": "markdown",
   "id": "d92abd0a",
   "metadata": {},
   "source": [
    "## Multiple train"
   ]
  },
  {
   "cell_type": "code",
   "execution_count": null,
   "id": "b016842d",
   "metadata": {},
   "outputs": [],
   "source": [
    "from joblib import Parallel, delayed\n",
    "from itertools import product"
   ]
  },
  {
   "cell_type": "code",
   "execution_count": null,
   "id": "e2df6a07",
   "metadata": {},
   "outputs": [],
   "source": [
    "num = 5\n",
    "alphas = np.linspace(0.003, 0.007, num=num)\n",
    "lamb_1 = np.linspace(.004, .006, num=3)\n",
    "lamb_2 = np.linspace(.015, .02, num=2)\n",
    "\n",
    "params_product = list(product(alphas, alphas, lamb_1, lamb_2))"
   ]
  },
  {
   "cell_type": "code",
   "execution_count": null,
   "id": "49a0cbe9",
   "metadata": {},
   "outputs": [],
   "source": [
    "def train_val(\n",
    "    uir_train, \n",
    "    arr_irbu,\n",
    "    users, \n",
    "    movies,\n",
    "    k, \n",
    "    α1,\n",
    "    α2,\n",
    "    α3,\n",
    "    α4,\n",
    "    α5,\n",
    "    λ1, \n",
    "    λ2, \n",
    "    n_iters,\n",
    "    uir_val,\n",
    "):\n",
    "    fitted_params = fit_svdpp(uir_train, arr_irbu, users, movies, k, α1, α2, α3, α4, α5,λ1, λ2, n_iters)\n",
    "    \n",
    "    val_preds = predict_batch(uir_val[:, :2], arr_irbu, fitted_params)\n",
    "    val_expected = uir_val[:, 2]\n",
    "    error = np.sqrt(1/n_val * np.sum((val_preds - val_expected)**2))\n",
    "    \n",
    "    return μ, α1, α2, α3, α4, λ1, λ2, error"
   ]
  },
  {
   "cell_type": "code",
   "execution_count": null,
   "id": "66c3b0bb",
   "metadata": {
    "scrolled": true
   },
   "outputs": [],
   "source": [
    "out = Parallel(n_jobs=12)(\n",
    "    delayed(train_val)(\n",
    "        uir_train, \n",
    "        irbu,\n",
    "        users, \n",
    "        movies,\n",
    "        k=5, \n",
    "        α1=lr1,\n",
    "        α2=lr1,\n",
    "        α3=lr2,\n",
    "        α4=lr2,\n",
    "        α5=lr2,\n",
    "        λ1=lamb1, \n",
    "        λ2=lamb2, \n",
    "        n_iters=30,\n",
    "        uir_val=uir_val,\n",
    "    )\n",
    "    for lr1, lr2, lamb1, lamb2 in tqdm(params_product)\n",
    ")"
   ]
  },
  {
   "cell_type": "code",
   "execution_count": null,
   "id": "8e162ea6",
   "metadata": {
    "scrolled": true
   },
   "outputs": [],
   "source": [
    "print(sorted(out, key=lambda x: x[-1]))"
   ]
  },
  {
   "cell_type": "markdown",
   "id": "895e80fd",
   "metadata": {},
   "source": [
    "# Predict"
   ]
  },
  {
   "cell_type": "code",
   "execution_count": 14,
   "id": "fa2f8089",
   "metadata": {},
   "outputs": [],
   "source": [
    "uir_total = train_csv.drop([\"timestamp\"], axis=1).values\n",
    "irbu_total, len_irbu_total = get_irbu_matrix_with_len(get_items_rated_by_users(uir_total, users), users, movies)"
   ]
  },
  {
   "cell_type": "code",
   "execution_count": 26,
   "id": "2c816d07",
   "metadata": {
    "scrolled": true
   },
   "outputs": [
    {
     "data": {
      "application/vnd.jupyter.widget-view+json": {
       "model_id": "ca8d7a17f18744309e06f526c5973275",
       "version_major": 2,
       "version_minor": 0
      },
      "text/plain": [
       "  0%|          | 0/50 [00:00<?, ?it/s]"
      ]
     },
     "metadata": {},
     "output_type": "display_data"
    }
   ],
   "source": [
    "fitted_final_params = fit_svdpp(\n",
    "    uir_total,\n",
    "    uir_val,\n",
    "    irbu_total, \n",
    "    len_irbu_total,\n",
    "    users, \n",
    "    movies, \n",
    "    k=5, \n",
    "    α1=.005, \n",
    "    α2=.005, \n",
    "    α3=.006, \n",
    "    α4=.006, \n",
    "    α5=.006, \n",
    "    λ1=.02,\n",
    "    λ2=.01, \n",
    "    n_iters=50\n",
    ")"
   ]
  },
  {
   "cell_type": "code",
   "execution_count": 27,
   "id": "01c7e6a8",
   "metadata": {},
   "outputs": [
    {
     "name": "stdout",
     "output_type": "stream",
     "text": [
      "[3.10562099 3.4309013  2.80811193 3.54225531 3.27101877 3.0597957\n",
      " 3.84120687 3.06299574 2.88759045 3.19954349]\n"
     ]
    }
   ],
   "source": [
    "ui_test = test_csv.drop([\"id\", \"timestamp\"], axis=1).values\n",
    "test_predictions = predict_batch(ui_test, irbu_total, len_irbu_total, fitted_final_params)\n",
    "\n",
    "print(test_predictions[:10])"
   ]
  },
  {
   "cell_type": "code",
   "execution_count": 28,
   "id": "e82dd1f2",
   "metadata": {},
   "outputs": [
    {
     "data": {
      "text/html": [
       "<div>\n",
       "<style scoped>\n",
       "    .dataframe tbody tr th:only-of-type {\n",
       "        vertical-align: middle;\n",
       "    }\n",
       "\n",
       "    .dataframe tbody tr th {\n",
       "        vertical-align: top;\n",
       "    }\n",
       "\n",
       "    .dataframe thead th {\n",
       "        text-align: right;\n",
       "    }\n",
       "</style>\n",
       "<table border=\"1\" class=\"dataframe\">\n",
       "  <thead>\n",
       "    <tr style=\"text-align: right;\">\n",
       "      <th></th>\n",
       "      <th>id</th>\n",
       "      <th>rating</th>\n",
       "    </tr>\n",
       "  </thead>\n",
       "  <tbody>\n",
       "    <tr>\n",
       "      <th>0</th>\n",
       "      <td>0</td>\n",
       "      <td>3.105621</td>\n",
       "    </tr>\n",
       "    <tr>\n",
       "      <th>1</th>\n",
       "      <td>1</td>\n",
       "      <td>3.430901</td>\n",
       "    </tr>\n",
       "    <tr>\n",
       "      <th>2</th>\n",
       "      <td>2</td>\n",
       "      <td>2.808112</td>\n",
       "    </tr>\n",
       "    <tr>\n",
       "      <th>3</th>\n",
       "      <td>3</td>\n",
       "      <td>3.542255</td>\n",
       "    </tr>\n",
       "    <tr>\n",
       "      <th>4</th>\n",
       "      <td>4</td>\n",
       "      <td>3.271019</td>\n",
       "    </tr>\n",
       "  </tbody>\n",
       "</table>\n",
       "</div>"
      ],
      "text/plain": [
       "   id    rating\n",
       "0   0  3.105621\n",
       "1   1  3.430901\n",
       "2   2  2.808112\n",
       "3   3  3.542255\n",
       "4   4  3.271019"
      ]
     },
     "execution_count": 28,
     "metadata": {},
     "output_type": "execute_result"
    }
   ],
   "source": [
    "out_df = pd.DataFrame.from_dict(\n",
    "    {\n",
    "        \"id\": list(test_csv[\"id\"]),\n",
    "        \"rating\": test_predictions\n",
    "    }\n",
    ")\n",
    "\n",
    "out_df.head()"
   ]
  },
  {
   "cell_type": "code",
   "execution_count": 29,
   "id": "d588ecef",
   "metadata": {},
   "outputs": [],
   "source": [
    "out_df.to_csv(\"out_svd++5.csv\", index=False)"
   ]
  }
 ],
 "metadata": {
  "kernelspec": {
   "display_name": "Python 3 (ipykernel)",
   "language": "python",
   "name": "python3"
  },
  "language_info": {
   "codemirror_mode": {
    "name": "ipython",
    "version": 3
   },
   "file_extension": ".py",
   "mimetype": "text/x-python",
   "name": "python",
   "nbconvert_exporter": "python",
   "pygments_lexer": "ipython3",
   "version": "3.10.4"
  }
 },
 "nbformat": 4,
 "nbformat_minor": 5
}
