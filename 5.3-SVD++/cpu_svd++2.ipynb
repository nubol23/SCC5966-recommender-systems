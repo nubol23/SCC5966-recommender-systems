{
 "cells": [
  {
   "cell_type": "code",
   "execution_count": 1,
   "id": "e9c56603",
   "metadata": {},
   "outputs": [],
   "source": [
    "import pandas as pd\n",
    "import numpy as np\n",
    "from numba import njit, prange\n",
    "\n",
    "from tqdm.notebook import tqdm, trange\n",
    "\n",
    "from numba.typed import List\n",
    "from numba import types\n",
    "\n",
    "from numba_progress import ProgressBar"
   ]
  },
  {
   "cell_type": "code",
   "execution_count": 2,
   "id": "f1b92ff3",
   "metadata": {},
   "outputs": [],
   "source": [
    "users = 3974\n",
    "movies = 3564\n",
    "\n",
    "train_csv = pd.read_csv(\"/home/nubol23/Desktop/Codes/USP/SCC5966/kaggle/data/train_data.csv\")\n",
    "test_csv = pd.read_csv(\"/home/nubol23/Desktop/Codes/USP/SCC5966/kaggle/data/test_data.csv\")\n",
    "\n",
    "train_csv[\"user_id\"] = train_csv[\"user_id\"].apply(lambda x: x - 1)\n",
    "train_csv[\"movie_id\"] = train_csv[\"movie_id\"].apply(lambda x: x - 1)\n",
    "\n",
    "test_csv[\"user_id\"] = test_csv[\"user_id\"].apply(lambda x: x - 1)\n",
    "test_csv[\"movie_id\"] = test_csv[\"movie_id\"].apply(lambda x: x - 1)\n",
    "\n",
    "# Split into train and validation\n",
    "train_data = train_csv.drop([\"timestamp\"], axis=1).sample(frac=0.8)\n",
    "validation_data = train_csv.drop(train_data.index).drop([\"timestamp\"], axis=1)\n",
    "\n",
    "assert train_data.shape[0] + validation_data.shape[0] == train_csv.shape[0]"
   ]
  },
  {
   "cell_type": "code",
   "execution_count": 3,
   "id": "64d121b9",
   "metadata": {},
   "outputs": [],
   "source": [
    "uir_train = train_data.values\n",
    "\n",
    "uir_val = validation_data.values\n",
    "n_val = uir_val.shape[0]"
   ]
  },
  {
   "cell_type": "code",
   "execution_count": 4,
   "id": "6bb7914d",
   "metadata": {},
   "outputs": [],
   "source": [
    "@njit\n",
    "def get_items_rated_by_users(train_data, n_users):\n",
    "    res = List([List.empty_list(types.int64) for _ in range(n_users)])\n",
    "    \n",
    "    for u, i, _ in train_data:\n",
    "        res[u].append(i)\n",
    "    \n",
    "    for u in range(n_users):\n",
    "        res[u].sort()\n",
    "    \n",
    "    return res\n",
    "\n",
    "irbu = get_items_rated_by_users(uir_train, users)"
   ]
  },
  {
   "cell_type": "code",
   "execution_count": 5,
   "id": "69794aec",
   "metadata": {},
   "outputs": [],
   "source": [
    "@njit\n",
    "def predict(u, i, Rus, params):\n",
    "    μ, bu, bi, P, Q, Y = params\n",
    "    k = P.shape[1]\n",
    "    \n",
    "    Ru = Rus[u]\n",
    "    sqrt_Ru = np.sqrt(len(Ru))\n",
    "\n",
    "    implicit_feedback = np.zeros(k)\n",
    "    for j in Ru:\n",
    "        implicit_feedback += Y[j]\n",
    "    implicit_feedback /= (sqrt_Ru+1e-15)\n",
    "\n",
    "    pred = μ + bu[u] + bi[i] + np.dot(Q[i], P[u] + implicit_feedback)\n",
    "    \n",
    "    return pred"
   ]
  },
  {
   "cell_type": "code",
   "execution_count": null,
   "id": "acdd91ec",
   "metadata": {},
   "outputs": [],
   "source": [
    "@njit\n",
    "def step(\n",
    "    train_data, \n",
    "    Rus, \n",
    "    n_users, \n",
    "    n_items, \n",
    "    k, \n",
    "    α1,\n",
    "    α2,\n",
    "    α3,\n",
    "    α4,\n",
    "    λ1, \n",
    "    λ2,\n",
    "    μ, bi, bu, P, Q, Y,\n",
    "):\n",
    "    loss = 0\n",
    "    for u, i, r in train_data:\n",
    "        Ru = Rus[u]\n",
    "        sqrt_Ru = np.sqrt(len(Ru))\n",
    "\n",
    "        implicit_feedback = np.zeros(k)\n",
    "        for j in Ru:\n",
    "            implicit_feedback += Y[j]\n",
    "        implicit_feedback /= (sqrt_Ru+1e-15)\n",
    "\n",
    "        pred = μ + bu[u] + bi[i] + np.dot(Q[i], P[u] + implicit_feedback)\n",
    "        error = r - pred\n",
    "\n",
    "        # Updating\n",
    "        bu[u] += α1 * (error - λ1*bu[u])\n",
    "        bi[i] += α2 * (error - λ1*bi[i])\n",
    "\n",
    "        Pu = P[u]\n",
    "        Qi = Q[i]\n",
    "        P[u] += α3*(error*Qi - λ2*Pu)\n",
    "        Q[i] += α4*(error*(Pu+implicit_feedback) - λ2*Qi)\n",
    "\n",
    "        term_1 = error*(Qi/(sqrt_Ru+1e-15))\n",
    "        for j in Ru:\n",
    "            Y[j] += α*(term_1 - λ2*Y[j])\n",
    "            \n",
    "        loss += error**2\n",
    "            \n",
    "    return np.sqrt(loss/len(train_data))"
   ]
  },
  {
   "cell_type": "code",
   "execution_count": 7,
   "id": "509905d9",
   "metadata": {},
   "outputs": [],
   "source": [
    "# RS HD page 171 (chrome), 84 book\n",
    "def fit_svdpp(train_data, Rus, n_users, n_items, k, α=.01, λ1=.01, λ2=.01, n_iters=20):\n",
    "    \"\"\"\n",
    "    train_data: array Nx3\n",
    "    \"\"\"\n",
    "    bu = np.zeros(n_users, np.double)\n",
    "    bi = np.zeros(n_items, np.double)\n",
    "    \n",
    "    P = np.random.normal(0, .1, (n_users, k))\n",
    "    Q = np.random.normal(0, .1, (n_items, k))\n",
    "    Y = np.random.normal(0, .1, (n_items, k))\n",
    "    \n",
    "    μ = np.mean(train_data[:, 2])\n",
    "    \n",
    "    t = trange(n_iters, leave=True)\n",
    "    for it in t:\n",
    "        loss = step(train_data, Rus, n_users, n_items, k, α, λ1, λ2, μ, bi, bu, P, Q, Y)\n",
    "        t.set_postfix({\"Loss\": loss})\n",
    "        α *= 0.9\n",
    "    \n",
    "    return μ, bu, bi, P, Q, Y"
   ]
  },
  {
   "cell_type": "markdown",
   "id": "cd9fd80e",
   "metadata": {},
   "source": [
    "# Fit"
   ]
  },
  {
   "cell_type": "code",
   "execution_count": 8,
   "id": "0df76310",
   "metadata": {
    "scrolled": true
   },
   "outputs": [
    {
     "data": {
      "application/vnd.jupyter.widget-view+json": {
       "model_id": "ede7acf4003c4c2b9533f3b7a32aabfd",
       "version_major": 2,
       "version_minor": 0
      },
      "text/plain": [
       "  0%|          | 0/3 [00:00<?, ?it/s]"
      ]
     },
     "metadata": {},
     "output_type": "display_data"
    }
   ],
   "source": [
    "fitted_params = fit_svdpp(uir_train, irbu, users, movies, k=10, α=.007, λ1=.005, λ2=.015, n_iters=3)"
   ]
  },
  {
   "cell_type": "code",
   "execution_count": 9,
   "id": "42f5b734",
   "metadata": {},
   "outputs": [],
   "source": [
    "@njit(parallel=True, nogil=True)\n",
    "def predict_batch_inner(ui_mat, Rus, params, progress_hook):\n",
    "    predictions = np.zeros(len(ui_mat))\n",
    "    for it in prange(ui_mat.shape[0]):\n",
    "        u, i = ui_mat[it]\n",
    "        predictions[it] = predict(u, i, Rus, params)\n",
    "        if np.isnan(predictions[it]):\n",
    "            print(u, i)\n",
    "            \n",
    "        progress_hook.update(1)\n",
    "        \n",
    "    return np.clip(predictions, 1., 5.)\n",
    "\n",
    "def predict_batch(ui_mat, Rus, params):\n",
    "    with ProgressBar(total=len(ui_mat)) as progress:\n",
    "        return predict_batch_inner(ui_mat, Rus, params, progress)"
   ]
  },
  {
   "cell_type": "code",
   "execution_count": 10,
   "id": "c8650cb7",
   "metadata": {},
   "outputs": [
    {
     "data": {
      "application/vnd.jupyter.widget-view+json": {
       "model_id": "ff30de1957a74d32a1ae2727d6a9008a",
       "version_major": 2,
       "version_minor": 0
      },
      "text/plain": [
       "  0%|                                                | 0/107157 [00:00<?, ?it/s]"
      ]
     },
     "metadata": {},
     "output_type": "display_data"
    },
    {
     "name": "stdout",
     "output_type": "stream",
     "text": [
      "0.9082651435110298\n"
     ]
    }
   ],
   "source": [
    "val_preds = predict_batch(uir_val[:, :2], irbu, fitted_params)\n",
    "val_expected = uir_val[:, 2]\n",
    "\n",
    "error = np.sqrt(1/n_val * np.sum((val_preds - val_expected)**2))\n",
    "print(error)"
   ]
  },
  {
   "cell_type": "markdown",
   "id": "895e80fd",
   "metadata": {},
   "source": [
    "# Predict"
   ]
  },
  {
   "cell_type": "code",
   "execution_count": 11,
   "id": "fa2f8089",
   "metadata": {},
   "outputs": [],
   "source": [
    "uir_total = train_csv.drop([\"timestamp\"], axis=1).values\n",
    "irbu_total = get_items_rated_by_users(uir_total, users)"
   ]
  },
  {
   "cell_type": "code",
   "execution_count": 13,
   "id": "2c816d07",
   "metadata": {},
   "outputs": [
    {
     "data": {
      "application/vnd.jupyter.widget-view+json": {
       "model_id": "12c049b7bfed41c58f4c396386cf7b29",
       "version_major": 2,
       "version_minor": 0
      },
      "text/plain": [
       "  0%|          | 0/30 [00:00<?, ?it/s]"
      ]
     },
     "metadata": {},
     "output_type": "display_data"
    }
   ],
   "source": [
    "fitted_final_params = fit_svdpp(uir_total, irbu_total, users, movies, k=10,α=.007, λ1=.005, λ2=.015, n_iters=30)"
   ]
  },
  {
   "cell_type": "code",
   "execution_count": 14,
   "id": "01c7e6a8",
   "metadata": {},
   "outputs": [
    {
     "data": {
      "application/vnd.jupyter.widget-view+json": {
       "model_id": "7c422890caee476b8559906aa9e7913d",
       "version_major": 2,
       "version_minor": 0
      },
      "text/plain": [
       "  0%|                                                  | 0/3970 [00:00<?, ?it/s]"
      ]
     },
     "metadata": {},
     "output_type": "display_data"
    },
    {
     "name": "stdout",
     "output_type": "stream",
     "text": [
      "[3.32194134 3.27725764 2.94825925 3.51011877 3.01377354 2.94072361\n",
      " 3.72891223 2.99116142 3.00999794 3.34803891]\n"
     ]
    }
   ],
   "source": [
    "ui_test = test_csv.drop([\"id\", \"timestamp\"], axis=1).values\n",
    "test_predictions = predict_batch(ui_test, irbu_total, fitted_final_params)\n",
    "\n",
    "print(test_predictions[:10])"
   ]
  },
  {
   "cell_type": "code",
   "execution_count": 15,
   "id": "e82dd1f2",
   "metadata": {},
   "outputs": [
    {
     "data": {
      "text/html": [
       "<div>\n",
       "<style scoped>\n",
       "    .dataframe tbody tr th:only-of-type {\n",
       "        vertical-align: middle;\n",
       "    }\n",
       "\n",
       "    .dataframe tbody tr th {\n",
       "        vertical-align: top;\n",
       "    }\n",
       "\n",
       "    .dataframe thead th {\n",
       "        text-align: right;\n",
       "    }\n",
       "</style>\n",
       "<table border=\"1\" class=\"dataframe\">\n",
       "  <thead>\n",
       "    <tr style=\"text-align: right;\">\n",
       "      <th></th>\n",
       "      <th>id</th>\n",
       "      <th>rating</th>\n",
       "    </tr>\n",
       "  </thead>\n",
       "  <tbody>\n",
       "    <tr>\n",
       "      <th>0</th>\n",
       "      <td>0</td>\n",
       "      <td>3.321941</td>\n",
       "    </tr>\n",
       "    <tr>\n",
       "      <th>1</th>\n",
       "      <td>1</td>\n",
       "      <td>3.277258</td>\n",
       "    </tr>\n",
       "    <tr>\n",
       "      <th>2</th>\n",
       "      <td>2</td>\n",
       "      <td>2.948259</td>\n",
       "    </tr>\n",
       "    <tr>\n",
       "      <th>3</th>\n",
       "      <td>3</td>\n",
       "      <td>3.510119</td>\n",
       "    </tr>\n",
       "    <tr>\n",
       "      <th>4</th>\n",
       "      <td>4</td>\n",
       "      <td>3.013774</td>\n",
       "    </tr>\n",
       "  </tbody>\n",
       "</table>\n",
       "</div>"
      ],
      "text/plain": [
       "   id    rating\n",
       "0   0  3.321941\n",
       "1   1  3.277258\n",
       "2   2  2.948259\n",
       "3   3  3.510119\n",
       "4   4  3.013774"
      ]
     },
     "execution_count": 15,
     "metadata": {},
     "output_type": "execute_result"
    }
   ],
   "source": [
    "out_df = pd.DataFrame.from_dict(\n",
    "    {\n",
    "        \"id\": list(test_csv[\"id\"]),\n",
    "        \"rating\": test_predictions\n",
    "    }\n",
    ")\n",
    "\n",
    "out_df.head()"
   ]
  },
  {
   "cell_type": "code",
   "execution_count": 16,
   "id": "d588ecef",
   "metadata": {},
   "outputs": [],
   "source": [
    "out_df.to_csv(\"out_svd++1.csv\", index=False)"
   ]
  }
 ],
 "metadata": {
  "kernelspec": {
   "display_name": "Python 3 (ipykernel)",
   "language": "python",
   "name": "python3"
  },
  "language_info": {
   "codemirror_mode": {
    "name": "ipython",
    "version": 3
   },
   "file_extension": ".py",
   "mimetype": "text/x-python",
   "name": "python",
   "nbconvert_exporter": "python",
   "pygments_lexer": "ipython3",
   "version": "3.10.4"
  }
 },
 "nbformat": 4,
 "nbformat_minor": 5
}
