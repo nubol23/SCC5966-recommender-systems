{
 "cells": [
  {
   "cell_type": "code",
   "execution_count": 1,
   "id": "e9c56603",
   "metadata": {},
   "outputs": [],
   "source": [
    "import pandas as pd\n",
    "import numpy as np\n",
    "import cupy as cp\n",
    "from numba import njit, prange\n",
    "\n",
    "from tqdm.notebook import tqdm, trange\n",
    "\n",
    "from numba.typed import List\n",
    "from numba import types\n",
    "\n",
    "from numba_progress import ProgressBar"
   ]
  },
  {
   "cell_type": "code",
   "execution_count": 2,
   "id": "f1b92ff3",
   "metadata": {},
   "outputs": [],
   "source": [
    "users = 3974\n",
    "movies = 3564\n",
    "\n",
    "train_csv = pd.read_csv(\"/home/nubol23/Desktop/Codes/USP/SCC5966/kaggle/data/train_data.csv\")\n",
    "test_csv = pd.read_csv(\"/home/nubol23/Desktop/Codes/USP/SCC5966/kaggle/data/test_data.csv\")\n",
    "\n",
    "train_csv[\"user_id\"] = train_csv[\"user_id\"].apply(lambda x: x - 1)\n",
    "train_csv[\"movie_id\"] = train_csv[\"movie_id\"].apply(lambda x: x - 1)\n",
    "\n",
    "test_csv[\"user_id\"] = test_csv[\"user_id\"].apply(lambda x: x - 1)\n",
    "test_csv[\"movie_id\"] = test_csv[\"movie_id\"].apply(lambda x: x - 1)\n",
    "\n",
    "# Split into train and validation\n",
    "train_data = train_csv.drop([\"timestamp\"], axis=1).sample(frac=0.8)\n",
    "validation_data = train_csv.drop(train_data.index).drop([\"timestamp\"], axis=1)\n",
    "\n",
    "assert train_data.shape[0] + validation_data.shape[0] == train_csv.shape[0]"
   ]
  },
  {
   "cell_type": "code",
   "execution_count": 3,
   "id": "64d121b9",
   "metadata": {},
   "outputs": [],
   "source": [
    "uir_train = train_data.values\n",
    "\n",
    "uir_val = validation_data.values\n",
    "n_val = uir_val.shape[0]"
   ]
  },
  {
   "cell_type": "code",
   "execution_count": 4,
   "id": "6bb7914d",
   "metadata": {},
   "outputs": [],
   "source": [
    "@njit\n",
    "def get_items_rated_by_users(train_data, n_users, n_items):\n",
    "    res = np.zeros((users, n_items, 1), dtype=np.uint8)\n",
    "    \n",
    "    for u, i, _ in train_data:\n",
    "        res[u, i] = 1\n",
    "    \n",
    "    return res\n",
    "\n",
    "irbu = get_items_rated_by_users(uir_train, users, movies)"
   ]
  },
  {
   "cell_type": "code",
   "execution_count": 5,
   "id": "69794aec",
   "metadata": {},
   "outputs": [],
   "source": [
    "@njit\n",
    "def predict(u, i, Rus, params):\n",
    "    μ, bu, bi, P, Q, Y = params\n",
    "    k = P.shape[1]\n",
    "    \n",
    "    Ru = Rus[u]\n",
    "    sqrt_Ru = np.sqrt(len(Ru))\n",
    "    \n",
    "    implicit_feedback = np.sum(Ru * Y, axis=0)/(sqrt_Ru+1e-15)\n",
    "\n",
    "    pred = μ + bu[u] + bi[i] + np.dot(Q[i], P[u] + implicit_feedback)\n",
    "    \n",
    "    return pred"
   ]
  },
  {
   "cell_type": "code",
   "execution_count": 12,
   "id": "335d1bc7",
   "metadata": {},
   "outputs": [],
   "source": [
    "# @njit\n",
    "def step(\n",
    "    train_data, \n",
    "    Rus, \n",
    "    n_users, \n",
    "    n_items, \n",
    "    k, \n",
    "    α1,\n",
    "    α2,\n",
    "    α3,\n",
    "    α4,\n",
    "    α5,\n",
    "    λ1, \n",
    "    λ2,\n",
    "    μ, bi, bu, P, Q, Y,\n",
    "):\n",
    "    loss = 0\n",
    "    for u, i, r in tqdm(train_data):\n",
    "        Ru = Rus[u]\n",
    "        sqrt_Ru = cp.sqrt(len(Ru))\n",
    "\n",
    "        implicit_feedback = cp.sum(Ru * Y, axis=0)/(sqrt_Ru+1e-15)\n",
    "\n",
    "        pred = μ + bu[u] + bi[i] + cp.dot(Q[i], P[u] + implicit_feedback)\n",
    "        error = r - pred\n",
    "\n",
    "        # Updating\n",
    "        bu[u] += α1 * (error - λ1*bu[u])\n",
    "        bi[i] += α2 * (error - λ1*bi[i])\n",
    "\n",
    "        Pu = P[u]\n",
    "        Qi = Q[i]\n",
    "        P[u] += α3*(error*Qi - λ2*Pu)\n",
    "        Q[i] += α4*(error*(Pu+implicit_feedback) - λ2*Qi)\n",
    "\n",
    "        term_1 = error*(Qi/(sqrt_Ru+1e-15))\n",
    "        Y += α5*(term_1 - λ2*(Ru * Y))\n",
    "            \n",
    "        loss += error**2\n",
    "            \n",
    "    return cp.sqrt(loss/len(train_data))"
   ]
  },
  {
   "cell_type": "code",
   "execution_count": 13,
   "id": "509905d9",
   "metadata": {},
   "outputs": [],
   "source": [
    "# RS HD page 171 (chrome), 84 book\n",
    "def fit_svdpp(train_data, Rus, n_users, n_items, k, α1=.01, α2=.01, α3=.01, α4=.01, α5=.01, λ1=.01, λ2=.01, n_iters=20):\n",
    "    \"\"\"\n",
    "    train_data: array Nx3\n",
    "    \"\"\"\n",
    "    bu = cp.zeros(n_users, np.double)\n",
    "    bi = cp.zeros(n_items, np.double)\n",
    "    \n",
    "    P = cp.random.normal(0, .1, (n_users, k))\n",
    "    Q = cp.random.normal(0, .1, (n_items, k))\n",
    "    Y = cp.random.normal(0, .1, (n_items, k))\n",
    "    \n",
    "    μ = cp.mean(train_data[:, 2])\n",
    "    \n",
    "    t = trange(n_iters, leave=True)\n",
    "    for it in t:\n",
    "        loss = step(train_data, Rus, n_users, n_items, k, α1, α2, α3, α4, α5, λ1, λ2, μ, bi, bu, P, Q, Y)\n",
    "        t.set_postfix({\"Loss\": loss})\n",
    "        α1 *= 0.9\n",
    "        α2 *= 0.9\n",
    "        α3 *= 0.9\n",
    "        α4 *= 0.9\n",
    "    \n",
    "    return μ, bu, bi, P, Q, Y"
   ]
  },
  {
   "cell_type": "markdown",
   "id": "cd9fd80e",
   "metadata": {},
   "source": [
    "# Fit"
   ]
  },
  {
   "cell_type": "code",
   "execution_count": 14,
   "id": "0df76310",
   "metadata": {
    "scrolled": false
   },
   "outputs": [
    {
     "data": {
      "application/vnd.jupyter.widget-view+json": {
       "model_id": "98efe6dc36364b258d3f956fe82f3060",
       "version_major": 2,
       "version_minor": 0
      },
      "text/plain": [
       "  0%|          | 0/3 [00:00<?, ?it/s]"
      ]
     },
     "metadata": {},
     "output_type": "display_data"
    },
    {
     "data": {
      "application/vnd.jupyter.widget-view+json": {
       "model_id": "a2d00cf30fa848668a09b298e152f728",
       "version_major": 2,
       "version_minor": 0
      },
      "text/plain": [
       "  0%|          | 0/428627 [00:00<?, ?it/s]"
      ]
     },
     "metadata": {},
     "output_type": "display_data"
    },
    {
     "data": {
      "application/vnd.jupyter.widget-view+json": {
       "model_id": "b828fba21e234ad2b5fa4586a659cbb9",
       "version_major": 2,
       "version_minor": 0
      },
      "text/plain": [
       "  0%|          | 0/428627 [00:00<?, ?it/s]"
      ]
     },
     "metadata": {},
     "output_type": "display_data"
    },
    {
     "ename": "KeyboardInterrupt",
     "evalue": "",
     "output_type": "error",
     "traceback": [
      "\u001b[0;31m---------------------------------------------------------------------------\u001b[0m",
      "\u001b[0;31mKeyboardInterrupt\u001b[0m                         Traceback (most recent call last)",
      "Input \u001b[0;32mIn [14]\u001b[0m, in \u001b[0;36m<cell line: 2>\u001b[0;34m()\u001b[0m\n\u001b[1;32m      1\u001b[0m lr \u001b[38;5;241m=\u001b[39m \u001b[38;5;241m.007\u001b[39m\n\u001b[0;32m----> 2\u001b[0m fitted_params \u001b[38;5;241m=\u001b[39m \u001b[43mfit_svdpp\u001b[49m\u001b[43m(\u001b[49m\n\u001b[1;32m      3\u001b[0m \u001b[43m    \u001b[49m\u001b[43mcp\u001b[49m\u001b[38;5;241;43m.\u001b[39;49m\u001b[43masarray\u001b[49m\u001b[43m(\u001b[49m\u001b[43muir_train\u001b[49m\u001b[43m)\u001b[49m\u001b[43m,\u001b[49m\u001b[43m \u001b[49m\n\u001b[1;32m      4\u001b[0m \u001b[43m    \u001b[49m\u001b[43mcp\u001b[49m\u001b[38;5;241;43m.\u001b[39;49m\u001b[43masarray\u001b[49m\u001b[43m(\u001b[49m\u001b[43mirbu\u001b[49m\u001b[43m)\u001b[49m\u001b[43m,\u001b[49m\u001b[43m \u001b[49m\n\u001b[1;32m      5\u001b[0m \u001b[43m    \u001b[49m\u001b[43musers\u001b[49m\u001b[43m,\u001b[49m\u001b[43m \u001b[49m\n\u001b[1;32m      6\u001b[0m \u001b[43m    \u001b[49m\u001b[43mmovies\u001b[49m\u001b[43m,\u001b[49m\u001b[43m \u001b[49m\n\u001b[1;32m      7\u001b[0m \u001b[43m    \u001b[49m\u001b[43mk\u001b[49m\u001b[38;5;241;43m=\u001b[39;49m\u001b[38;5;241;43m10\u001b[39;49m\u001b[43m,\u001b[49m\u001b[43m \u001b[49m\n\u001b[1;32m      8\u001b[0m \u001b[43m    \u001b[49m\u001b[43mα1\u001b[49m\u001b[38;5;241;43m=\u001b[39;49m\u001b[43mlr\u001b[49m\u001b[43m,\u001b[49m\u001b[43m \u001b[49m\u001b[43mα2\u001b[49m\u001b[38;5;241;43m=\u001b[39;49m\u001b[43mlr\u001b[49m\u001b[43m,\u001b[49m\u001b[43m \u001b[49m\u001b[43mα3\u001b[49m\u001b[38;5;241;43m=\u001b[39;49m\u001b[43mlr\u001b[49m\u001b[43m,\u001b[49m\u001b[43m \u001b[49m\u001b[43mα4\u001b[49m\u001b[38;5;241;43m=\u001b[39;49m\u001b[43mlr\u001b[49m\u001b[43m,\u001b[49m\u001b[43m \u001b[49m\u001b[43mα5\u001b[49m\u001b[38;5;241;43m=\u001b[39;49m\u001b[43mlr\u001b[49m\u001b[43m,\u001b[49m\u001b[43m \u001b[49m\u001b[43mλ1\u001b[49m\u001b[38;5;241;43m=\u001b[39;49m\u001b[38;5;241;43m.005\u001b[39;49m\u001b[43m,\u001b[49m\u001b[43m \u001b[49m\u001b[43mλ2\u001b[49m\u001b[38;5;241;43m=\u001b[39;49m\u001b[38;5;241;43m.015\u001b[39;49m\u001b[43m,\u001b[49m\u001b[43m \u001b[49m\n\u001b[1;32m      9\u001b[0m \u001b[43m    \u001b[49m\u001b[43mn_iters\u001b[49m\u001b[38;5;241;43m=\u001b[39;49m\u001b[38;5;241;43m3\u001b[39;49m\n\u001b[1;32m     10\u001b[0m \u001b[43m)\u001b[49m\n",
      "Input \u001b[0;32mIn [13]\u001b[0m, in \u001b[0;36mfit_svdpp\u001b[0;34m(train_data, Rus, n_users, n_items, k, α1, α2, α3, α4, α5, λ1, λ2, n_iters)\u001b[0m\n\u001b[1;32m     15\u001b[0m t \u001b[38;5;241m=\u001b[39m trange(n_iters, leave\u001b[38;5;241m=\u001b[39m\u001b[38;5;28;01mTrue\u001b[39;00m)\n\u001b[1;32m     16\u001b[0m \u001b[38;5;28;01mfor\u001b[39;00m it \u001b[38;5;129;01min\u001b[39;00m t:\n\u001b[0;32m---> 17\u001b[0m     loss \u001b[38;5;241m=\u001b[39m \u001b[43mstep\u001b[49m\u001b[43m(\u001b[49m\u001b[43mtrain_data\u001b[49m\u001b[43m,\u001b[49m\u001b[43m \u001b[49m\u001b[43mRus\u001b[49m\u001b[43m,\u001b[49m\u001b[43m \u001b[49m\u001b[43mn_users\u001b[49m\u001b[43m,\u001b[49m\u001b[43m \u001b[49m\u001b[43mn_items\u001b[49m\u001b[43m,\u001b[49m\u001b[43m \u001b[49m\u001b[43mk\u001b[49m\u001b[43m,\u001b[49m\u001b[43m \u001b[49m\u001b[43mα1\u001b[49m\u001b[43m,\u001b[49m\u001b[43m \u001b[49m\u001b[43mα2\u001b[49m\u001b[43m,\u001b[49m\u001b[43m \u001b[49m\u001b[43mα3\u001b[49m\u001b[43m,\u001b[49m\u001b[43m \u001b[49m\u001b[43mα4\u001b[49m\u001b[43m,\u001b[49m\u001b[43m \u001b[49m\u001b[43mα5\u001b[49m\u001b[43m,\u001b[49m\u001b[43m \u001b[49m\u001b[43mλ1\u001b[49m\u001b[43m,\u001b[49m\u001b[43m \u001b[49m\u001b[43mλ2\u001b[49m\u001b[43m,\u001b[49m\u001b[43m \u001b[49m\u001b[43mμ\u001b[49m\u001b[43m,\u001b[49m\u001b[43m \u001b[49m\u001b[43mbi\u001b[49m\u001b[43m,\u001b[49m\u001b[43m \u001b[49m\u001b[43mbu\u001b[49m\u001b[43m,\u001b[49m\u001b[43m \u001b[49m\u001b[43mP\u001b[49m\u001b[43m,\u001b[49m\u001b[43m \u001b[49m\u001b[43mQ\u001b[49m\u001b[43m,\u001b[49m\u001b[43m \u001b[49m\u001b[43mY\u001b[49m\u001b[43m)\u001b[49m\n\u001b[1;32m     18\u001b[0m     t\u001b[38;5;241m.\u001b[39mset_postfix({\u001b[38;5;124m\"\u001b[39m\u001b[38;5;124mLoss\u001b[39m\u001b[38;5;124m\"\u001b[39m: loss})\n\u001b[1;32m     19\u001b[0m     α1 \u001b[38;5;241m*\u001b[39m\u001b[38;5;241m=\u001b[39m \u001b[38;5;241m0.9\u001b[39m\n",
      "Input \u001b[0;32mIn [12]\u001b[0m, in \u001b[0;36mstep\u001b[0;34m(train_data, Rus, n_users, n_items, k, α1, α2, α3, α4, α5, λ1, λ2, μ, bi, bu, P, Q, Y)\u001b[0m\n\u001b[1;32m     32\u001b[0m Qi \u001b[38;5;241m=\u001b[39m Q[i]\n\u001b[1;32m     33\u001b[0m P[u] \u001b[38;5;241m+\u001b[39m\u001b[38;5;241m=\u001b[39m α3\u001b[38;5;241m*\u001b[39m(error\u001b[38;5;241m*\u001b[39mQi \u001b[38;5;241m-\u001b[39m λ2\u001b[38;5;241m*\u001b[39mPu)\n\u001b[0;32m---> 34\u001b[0m Q[i] \u001b[38;5;241m+\u001b[39m\u001b[38;5;241m=\u001b[39m α4\u001b[38;5;241m*\u001b[39m(error\u001b[38;5;241m*\u001b[39m(Pu\u001b[38;5;241m+\u001b[39mimplicit_feedback) \u001b[38;5;241m-\u001b[39m \u001b[43mλ2\u001b[49m\u001b[38;5;241;43m*\u001b[39;49m\u001b[43mQi\u001b[49m)\n\u001b[1;32m     36\u001b[0m term_1 \u001b[38;5;241m=\u001b[39m error\u001b[38;5;241m*\u001b[39m(Qi\u001b[38;5;241m/\u001b[39m(sqrt_Ru\u001b[38;5;241m+\u001b[39m\u001b[38;5;241m1e-15\u001b[39m))\n\u001b[1;32m     37\u001b[0m Y \u001b[38;5;241m+\u001b[39m\u001b[38;5;241m=\u001b[39m α5\u001b[38;5;241m*\u001b[39m(term_1 \u001b[38;5;241m-\u001b[39m λ2\u001b[38;5;241m*\u001b[39m(Ru \u001b[38;5;241m*\u001b[39m Y))\n",
      "File \u001b[0;32mcupy/_core/core.pyx:1203\u001b[0m, in \u001b[0;36mcupy._core.core.ndarray.__mul__\u001b[0;34m()\u001b[0m\n",
      "File \u001b[0;32mcupy/_core/_kernel.pyx:1265\u001b[0m, in \u001b[0;36mcupy._core._kernel.ufunc.__call__\u001b[0;34m()\u001b[0m\n",
      "File \u001b[0;32mcupy/_core/_kernel.pyx:1412\u001b[0m, in \u001b[0;36mcupy._core._kernel._Ops.guess_routine\u001b[0;34m()\u001b[0m\n",
      "File \u001b[0;32mcupy/_core/_kernel.pyx:1059\u001b[0m, in \u001b[0;36mcupy._core._kernel._min_scalar_type\u001b[0;34m()\u001b[0m\n",
      "File \u001b[0;32m<__array_function__ internals>:177\u001b[0m, in \u001b[0;36mmin_scalar_type\u001b[0;34m(*args, **kwargs)\u001b[0m\n",
      "\u001b[0;31mKeyboardInterrupt\u001b[0m: "
     ]
    }
   ],
   "source": [
    "lr = .007\n",
    "fitted_params = fit_svdpp(\n",
    "    cp.asarray(uir_train), \n",
    "    cp.asarray(irbu), \n",
    "    users, \n",
    "    movies, \n",
    "    k=10, \n",
    "    α1=lr, α2=lr, α3=lr, α4=lr, α5=lr, λ1=.005, λ2=.015, \n",
    "    n_iters=3\n",
    ")"
   ]
  },
  {
   "cell_type": "code",
   "execution_count": null,
   "id": "42f5b734",
   "metadata": {},
   "outputs": [],
   "source": [
    "@njit(parallel=True, nogil=True)\n",
    "def predict_batch_inner(ui_mat, Rus, params, progress_hook):\n",
    "    predictions = np.zeros(len(ui_mat))\n",
    "    for it in prange(ui_mat.shape[0]):\n",
    "        u, i = ui_mat[it]\n",
    "        predictions[it] = predict(u, i, Rus, params)\n",
    "        if np.isnan(predictions[it]):\n",
    "            print(u, i)\n",
    "            \n",
    "        progress_hook.update(1)\n",
    "        \n",
    "    return np.clip(predictions, 1., 5.)\n",
    "\n",
    "def predict_batch_progress_bar(ui_mat, Rus, params):\n",
    "    with ProgressBar(total=len(ui_mat)) as progress:\n",
    "        return predict_batch_inner(ui_mat, Rus, params, progress)\n",
    "    \n",
    "def predict_batch(ui_mat, Rus, params):\n",
    "    predictions = np.zeros(len(ui_mat))\n",
    "    for it in prange(ui_mat.shape[0]):\n",
    "        u, i = ui_mat[it]\n",
    "        predictions[it] = predict(u, i, Rus, params)\n",
    "        \n",
    "    return np.clip(predictions, 1., 5.)"
   ]
  },
  {
   "cell_type": "code",
   "execution_count": null,
   "id": "c8650cb7",
   "metadata": {},
   "outputs": [],
   "source": [
    "# val_preds = predict_batch(uir_val[:, :2], irbu, fitted_params)\n",
    "# val_expected = uir_val[:, 2]\n",
    "\n",
    "# error = np.sqrt(1/n_val * np.sum((val_preds - val_expected)**2))\n",
    "# print(error)"
   ]
  },
  {
   "cell_type": "markdown",
   "id": "d92abd0a",
   "metadata": {},
   "source": [
    "## Multiple train"
   ]
  },
  {
   "cell_type": "code",
   "execution_count": null,
   "id": "b016842d",
   "metadata": {},
   "outputs": [],
   "source": [
    "from joblib import Parallel, delayed\n",
    "from itertools import product"
   ]
  },
  {
   "cell_type": "code",
   "execution_count": null,
   "id": "e2df6a07",
   "metadata": {},
   "outputs": [],
   "source": [
    "num = 5\n",
    "alphas = np.linspace(0.003, 0.007, num=num)\n",
    "lamb_1 = np.linspace(.004, .006, num=3)\n",
    "lamb_2 = np.linspace(.015, .02, num=2)\n",
    "\n",
    "params_product = list(product(alphas, alphas, lamb_1, lamb_2))"
   ]
  },
  {
   "cell_type": "code",
   "execution_count": null,
   "id": "49a0cbe9",
   "metadata": {},
   "outputs": [],
   "source": [
    "def train_val(\n",
    "    uir_train, \n",
    "    arr_irbu,\n",
    "    users, \n",
    "    movies,\n",
    "    k, \n",
    "    α1,\n",
    "    α2,\n",
    "    α3,\n",
    "    α4,\n",
    "    α5,\n",
    "    λ1, \n",
    "    λ2, \n",
    "    n_iters,\n",
    "    uir_val,\n",
    "):\n",
    "    fitted_params = fit_svdpp(uir_train, arr_irbu, users, movies, k, α1, α2, α3, α4, α5,λ1, λ2, n_iters)\n",
    "    \n",
    "    val_preds = predict_batch(uir_val[:, :2], arr_irbu, fitted_params)\n",
    "    val_expected = uir_val[:, 2]\n",
    "    error = np.sqrt(1/n_val * np.sum((val_preds - val_expected)**2))\n",
    "    \n",
    "    return α1, α2, α3, α4, λ1, λ2, error"
   ]
  },
  {
   "cell_type": "code",
   "execution_count": null,
   "id": "66c3b0bb",
   "metadata": {
    "scrolled": true
   },
   "outputs": [],
   "source": [
    "out = Parallel(n_jobs=12)(\n",
    "    delayed(train_val)(\n",
    "        uir_train, \n",
    "        irbu,\n",
    "        users, \n",
    "        movies,\n",
    "        k=5, \n",
    "        α1=lr1,\n",
    "        α2=lr1,\n",
    "        α3=lr2,\n",
    "        α4=lr2,\n",
    "        α5=lr2,\n",
    "        λ1=lamb1, \n",
    "        λ2=lamb2, \n",
    "        n_iters=30,\n",
    "        uir_val=uir_val,\n",
    "    )\n",
    "    for lr1, lr2, lamb1, lamb2 in tqdm(params_product)\n",
    ")"
   ]
  },
  {
   "cell_type": "code",
   "execution_count": null,
   "id": "8e162ea6",
   "metadata": {
    "scrolled": true
   },
   "outputs": [],
   "source": [
    "print(sorted(out, key=lambda x: x[-1]))"
   ]
  },
  {
   "cell_type": "markdown",
   "id": "895e80fd",
   "metadata": {},
   "source": [
    "# Predict"
   ]
  },
  {
   "cell_type": "code",
   "execution_count": null,
   "id": "fa2f8089",
   "metadata": {},
   "outputs": [],
   "source": [
    "uir_total = train_csv.drop([\"timestamp\"], axis=1).values\n",
    "irbu_total_temp = get_items_rated_by_users(uir_total, users)\n",
    "\n",
    "irbu_total = np.ones((users, movies), dtype=int)*-1\n",
    "\n",
    "for u in range(users):\n",
    "    for idx, i in enumerate(irbu_total_temp[u]):\n",
    "        irbu_total[u, idx] = i"
   ]
  },
  {
   "cell_type": "code",
   "execution_count": null,
   "id": "2c816d07",
   "metadata": {
    "scrolled": true
   },
   "outputs": [],
   "source": [
    "fitted_final_params = fit_svdpp(\n",
    "    uir_total, \n",
    "    irbu_total, \n",
    "    users, \n",
    "    movies, \n",
    "    k=5, \n",
    "    α1=.004, \n",
    "    α2=.004, \n",
    "    α3=.005, \n",
    "    α4=.006, \n",
    "    α5=.006, \n",
    "    λ1=.02,\n",
    "    λ2=.01, \n",
    "    n_iters=50\n",
    ")"
   ]
  },
  {
   "cell_type": "code",
   "execution_count": null,
   "id": "01c7e6a8",
   "metadata": {},
   "outputs": [],
   "source": [
    "ui_test = test_csv.drop([\"id\", \"timestamp\"], axis=1).values\n",
    "test_predictions = predict_batch(ui_test, irbu_total, fitted_final_params)\n",
    "\n",
    "print(test_predictions[:10])"
   ]
  },
  {
   "cell_type": "code",
   "execution_count": null,
   "id": "e82dd1f2",
   "metadata": {},
   "outputs": [],
   "source": [
    "out_df = pd.DataFrame.from_dict(\n",
    "    {\n",
    "        \"id\": list(test_csv[\"id\"]),\n",
    "        \"rating\": test_predictions\n",
    "    }\n",
    ")\n",
    "\n",
    "out_df.head()"
   ]
  },
  {
   "cell_type": "code",
   "execution_count": null,
   "id": "d588ecef",
   "metadata": {},
   "outputs": [],
   "source": [
    "out_df.to_csv(\"out_svd++2.csv\", index=False)"
   ]
  }
 ],
 "metadata": {
  "kernelspec": {
   "display_name": "Python 3 (ipykernel)",
   "language": "python",
   "name": "python3"
  },
  "language_info": {
   "codemirror_mode": {
    "name": "ipython",
    "version": 3
   },
   "file_extension": ".py",
   "mimetype": "text/x-python",
   "name": "python",
   "nbconvert_exporter": "python",
   "pygments_lexer": "ipython3",
   "version": "3.10.4"
  }
 },
 "nbformat": 4,
 "nbformat_minor": 5
}
