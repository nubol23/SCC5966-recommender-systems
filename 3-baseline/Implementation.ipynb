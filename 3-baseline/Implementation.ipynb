{
 "cells": [
  {
   "cell_type": "code",
   "execution_count": 1,
   "id": "b46d5ee5",
   "metadata": {},
   "outputs": [],
   "source": [
    "import numpy as np\n",
    "import pandas as pd\n",
    "from numba import njit, prange\n",
    "from numpy.typing import NDArray"
   ]
  },
  {
   "cell_type": "code",
   "execution_count": 2,
   "id": "b19062d3",
   "metadata": {},
   "outputs": [],
   "source": [
    "np.set_printoptions(suppress=True)"
   ]
  },
  {
   "cell_type": "markdown",
   "id": "b492b417",
   "metadata": {},
   "source": [
    "## Load data"
   ]
  },
  {
   "cell_type": "code",
   "execution_count": 3,
   "id": "cf63912d",
   "metadata": {},
   "outputs": [],
   "source": [
    "train_csv = pd.read_csv(\"../../data/train_data.csv\")\n",
    "test_csv = pd.read_csv(\"../../data/test_data.csv\")\n",
    "\n",
    "# Split into train and validation\n",
    "train_data = train_csv.drop([\"timestamp\"], axis=1).sample(frac=0.8)\n",
    "validation_data = train_csv.drop(train_data.index).drop([\"timestamp\"], axis=1)\n",
    "\n",
    "assert train_data.shape[0] + validation_data.shape[0] == train_csv.shape[0]## Split into train and validation"
   ]
  },
  {
   "cell_type": "code",
   "execution_count": 4,
   "id": "585e28dd",
   "metadata": {},
   "outputs": [],
   "source": [
    "@njit\n",
    "def build_matrix_jit(data: NDArray[np.uint8], n_users: int, n_items: int):\n",
    "    \"\"\"\n",
    "    data: Array of size (n_entries, 3) with columns representing:\n",
    "        col 0: user_id\n",
    "        col 1: item_id\n",
    "         col 2: rating\n",
    "    \"\"\"\n",
    "    ratings_mat = np.zeros((n_users+1, n_items+1), dtype=np.uint8)\n",
    "\n",
    "    for row in data:\n",
    "        u, i, r = row\n",
    "        ratings_mat[u, i] = r\n",
    "    \n",
    "    return ratings_mat\n",
    "\n",
    "users = 3974\n",
    "movies = 3564\n",
    "\n",
    "ratings_mat = build_matrix_jit(train_data.values, users, movies)## Compute predictions"
   ]
  },
  {
   "cell_type": "markdown",
   "id": "7eaffc6d",
   "metadata": {},
   "source": [
    "## Functions"
   ]
  },
  {
   "cell_type": "code",
   "execution_count": 5,
   "id": "d92aace0",
   "metadata": {},
   "outputs": [],
   "source": [
    "test_mat = np.array([\n",
    "    [5, 2, 4, 3, 2, 3],\n",
    "    [4, 3, 5, 4, 3, 2],\n",
    "    [1, 5, 3, 4, 4, 5],\n",
    "    [1, 0, 2, 3, 4, 2],\n",
    "])"
   ]
  },
  {
   "cell_type": "code",
   "execution_count": 6,
   "id": "f36ecc37",
   "metadata": {},
   "outputs": [],
   "source": [
    "@njit(nogil=True, parallel=True)\n",
    "def global_nonzer_mean(ratings: NDArray[np.uint8]) -> float:\n",
    "    n_nonzero = 0\n",
    "    sum_res = 0\n",
    "    for u in prange(ratings.shape[0]):\n",
    "        for i in range(ratings.shape[1]):\n",
    "            if ratings[u, i] != 0:\n",
    "                n_nonzero += 1\n",
    "                sum_res += ratings[u, i]\n",
    "    \n",
    "    return sum_res/n_nonzero\n",
    "\n",
    "assert np.round(global_nonzer_mean(test_mat), 6) == 3.217391"
   ]
  },
  {
   "cell_type": "code",
   "execution_count": 7,
   "id": "19b589c0",
   "metadata": {},
   "outputs": [],
   "source": [
    "@njit(nogil=True, parallel=True)\n",
    "def item_biases(ratings: NDArray[np.uint8], λ: float, μ: float) -> NDArray[np.float64]:\n",
    "    n_items = ratings.shape[1]\n",
    "    \n",
    "    n_users_rated_items = np.zeros(n_items)\n",
    "    biases_per_item = np.zeros(n_items)\n",
    "    \n",
    "    for u in prange(ratings.shape[0]):\n",
    "        for i in range(n_items):\n",
    "            if ratings[u, i] != 0:\n",
    "                n_users_rated_items[i] += 1\n",
    "                biases_per_item[i] += (ratings[u, i] - μ)\n",
    "                \n",
    "    return 1/(λ + n_users_rated_items) * biases_per_item\n",
    "    \n",
    "assert np.allclose(\n",
    "    item_biases(test_mat, 0, global_nonzer_mean(test_mat)),\n",
    "    [-0.4673913, 0.1159420, 0.2826087, 0.2826087, 0.0326087, -0.2173913],\n",
    ") is True"
   ]
  },
  {
   "cell_type": "code",
   "execution_count": 8,
   "id": "e4fd9f63",
   "metadata": {},
   "outputs": [],
   "source": [
    "@njit(nogil=True, parallel=True)\n",
    "def user_biases(ratings: NDArray[np.uint8], λ: float, item_biases: NDArray[np.float64], μ: float) -> NDArray[np.float64]:\n",
    "    n_users = ratings.shape[0]\n",
    "    \n",
    "    n_items_rated_by_users = np.zeros(n_users)\n",
    "    biases_per_user = np.zeros(n_users)\n",
    "    \n",
    "    for u in prange(n_users):\n",
    "        for i in range(ratings.shape[1]):\n",
    "            if ratings[u, i] != 0:\n",
    "                n_items_rated_by_users[u] += 1\n",
    "                biases_per_user[u] += (ratings[u, i] - μ - item_biases[i])\n",
    "                \n",
    "    return 1/(λ + n_items_rated_by_users) * biases_per_user\n",
    "\n",
    "bi = item_biases(test_mat, 0, global_nonzer_mean(test_mat))\n",
    "assert np.allclose(\n",
    "    user_biases(test_mat, 0, bi, global_nonzer_mean(test_mat)),\n",
    "    [-0.05555556, 0.27777778, 0.44444444, -0.80000000],\n",
    ") is True"
   ]
  },
  {
   "cell_type": "code",
   "execution_count": 9,
   "id": "e99a23fc",
   "metadata": {},
   "outputs": [],
   "source": [
    "@njit\n",
    "def predict(μ: float, bi: NDArray[np.float64], bu: NDArray[np.float64], u, i):\n",
    "    return μ + bi[i] + bu[u]\n",
    "\n",
    "test_mean = global_nonzer_mean(test_mat)\n",
    "test_item_biases = item_biases(test_mat, 0, test_mean)\n",
    "test_user_biases =  user_biases(test_mat, 0, test_item_biases, test_mean)\n",
    "\n",
    "assert round(predict(test_mean, test_item_biases, test_user_biases, u=3, i=1), 6) == 2.533333"
   ]
  },
  {
   "cell_type": "markdown",
   "id": "263d6443",
   "metadata": {},
   "source": [
    "## Fit parameters"
   ]
  },
  {
   "cell_type": "code",
   "execution_count": 10,
   "id": "e1e22499",
   "metadata": {},
   "outputs": [],
   "source": [
    "train_mean = global_nonzer_mean(ratings_mat)\n",
    "train_item_biases = item_biases(ratings_mat, λ=1e-15, μ=train_mean)\n",
    "train_user_biases = user_biases(ratings_mat, λ=1e-15, item_biases=train_item_biases, μ=train_mean)"
   ]
  },
  {
   "cell_type": "code",
   "execution_count": 28,
   "id": "5112f41b",
   "metadata": {},
   "outputs": [],
   "source": [
    "@njit(nogil=True, parallel=True)\n",
    "def predict_batch(X: NDArray[int], μ: float, bi: NDArray[np.float64], bu: NDArray[np.float64]):\n",
    "    \"\"\"\n",
    "    X: Array of size (n_entries, 3) with columns representing:\n",
    "        col 0: user_id\n",
    "        col 1: item_id\n",
    "    \"\"\"\n",
    "    predictions = np.zeros(len(X), dtype=np.float64)\n",
    "    \n",
    "    for i in prange(len(X)):\n",
    "        user_id, movie_id = X[i]\n",
    "        predictions[i] = predict(μ, bi, bu, user_id, movie_id)\n",
    "        \n",
    "    return np.clip(predictions, 1, 5)"
   ]
  },
  {
   "cell_type": "markdown",
   "id": "2f9fed3a",
   "metadata": {},
   "source": [
    "## Test on validation set"
   ]
  },
  {
   "cell_type": "code",
   "execution_count": 29,
   "id": "ac4814a3",
   "metadata": {},
   "outputs": [],
   "source": [
    "data_arr = validation_data.drop([\"rating\"], axis=1).values\n",
    "\n",
    "predictions = predict_batch(data_arr, train_mean, train_item_biases, train_user_biases)"
   ]
  },
  {
   "cell_type": "code",
   "execution_count": 30,
   "id": "e40e3c1a",
   "metadata": {},
   "outputs": [
    {
     "name": "stdout",
     "output_type": "stream",
     "text": [
      "0.9078230917608796\n"
     ]
    }
   ],
   "source": [
    "num = 0\n",
    "for pred_r, real_r in zip(predictions, validation_data[\"rating\"].values):\n",
    "    num += (pred_r - real_r)**2\n",
    "\n",
    "rmse = np.sqrt(num/len(predictions))\n",
    "print(rmse)"
   ]
  },
  {
   "cell_type": "markdown",
   "id": "bde8f443",
   "metadata": {},
   "source": [
    "## Fit on all data and predict test set"
   ]
  },
  {
   "cell_type": "code",
   "execution_count": 31,
   "id": "5086be2b",
   "metadata": {},
   "outputs": [],
   "source": [
    "total_ratings = build_matrix_jit(train_csv.drop([\"timestamp\"], axis=1).values, users, movies)\n",
    "\n",
    "total_mean = global_nonzer_mean(total_ratings)\n",
    "total_item_biases = item_biases(total_ratings, λ=1e-15, μ=total_mean)\n",
    "total_user_biases = user_biases(total_ratings, λ=1e-15, item_biases=total_item_biases, μ=total_mean)\n",
    "\n",
    "test_predictions = predict_batch(\n",
    "    test_csv.drop([\"id\", \"timestamp\"], axis=1).values,\n",
    "    total_mean,\n",
    "    total_item_biases,\n",
    "    total_user_biases,\n",
    ")"
   ]
  },
  {
   "cell_type": "code",
   "execution_count": 34,
   "id": "69767f4f",
   "metadata": {},
   "outputs": [
    {
     "data": {
      "text/html": [
       "<div>\n",
       "<style scoped>\n",
       "    .dataframe tbody tr th:only-of-type {\n",
       "        vertical-align: middle;\n",
       "    }\n",
       "\n",
       "    .dataframe tbody tr th {\n",
       "        vertical-align: top;\n",
       "    }\n",
       "\n",
       "    .dataframe thead th {\n",
       "        text-align: right;\n",
       "    }\n",
       "</style>\n",
       "<table border=\"1\" class=\"dataframe\">\n",
       "  <thead>\n",
       "    <tr style=\"text-align: right;\">\n",
       "      <th></th>\n",
       "      <th>id</th>\n",
       "      <th>rating</th>\n",
       "    </tr>\n",
       "  </thead>\n",
       "  <tbody>\n",
       "    <tr>\n",
       "      <th>0</th>\n",
       "      <td>0</td>\n",
       "      <td>3.387973</td>\n",
       "    </tr>\n",
       "    <tr>\n",
       "      <th>1</th>\n",
       "      <td>1</td>\n",
       "      <td>3.240358</td>\n",
       "    </tr>\n",
       "    <tr>\n",
       "      <th>2</th>\n",
       "      <td>2</td>\n",
       "      <td>2.742830</td>\n",
       "    </tr>\n",
       "    <tr>\n",
       "      <th>3</th>\n",
       "      <td>3</td>\n",
       "      <td>3.613519</td>\n",
       "    </tr>\n",
       "    <tr>\n",
       "      <th>4</th>\n",
       "      <td>4</td>\n",
       "      <td>2.986986</td>\n",
       "    </tr>\n",
       "  </tbody>\n",
       "</table>\n",
       "</div>"
      ],
      "text/plain": [
       "   id    rating\n",
       "0   0  3.387973\n",
       "1   1  3.240358\n",
       "2   2  2.742830\n",
       "3   3  3.613519\n",
       "4   4  2.986986"
      ]
     },
     "execution_count": 34,
     "metadata": {},
     "output_type": "execute_result"
    }
   ],
   "source": [
    "out_df = pd.DataFrame.from_dict(\n",
    "    {\n",
    "        \"id\": list(test_csv[\"id\"]),\n",
    "        \"rating\": test_predictions\n",
    "    }\n",
    ")\n",
    "\n",
    "out_df.head()"
   ]
  },
  {
   "cell_type": "code",
   "execution_count": 35,
   "id": "a0ebfbe3",
   "metadata": {},
   "outputs": [],
   "source": [
    "out_df.to_csv(\"out_baseline_2.csv\", index=False)"
   ]
  }
 ],
 "metadata": {
  "kernelspec": {
   "display_name": "Python 3 (ipykernel)",
   "language": "python",
   "name": "python3"
  },
  "language_info": {
   "codemirror_mode": {
    "name": "ipython",
    "version": 3
   },
   "file_extension": ".py",
   "mimetype": "text/x-python",
   "name": "python",
   "nbconvert_exporter": "python",
   "pygments_lexer": "ipython3",
   "version": "3.10.4"
  }
 },
 "nbformat": 4,
 "nbformat_minor": 5
}
