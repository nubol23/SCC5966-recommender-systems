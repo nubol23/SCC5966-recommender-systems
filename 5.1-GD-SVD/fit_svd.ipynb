{
 "cells": [
  {
   "cell_type": "code",
   "execution_count": 1,
   "id": "07182b93",
   "metadata": {},
   "outputs": [],
   "source": [
    "import torch\n",
    "import torch.nn as nn\n",
    "\n",
    "from tqdm.notebook import tqdm\n",
    "\n",
    "from typing import List"
   ]
  },
  {
   "cell_type": "markdown",
   "id": "83fd325c",
   "metadata": {},
   "source": [
    "## Gradient Descent"
   ]
  },
  {
   "cell_type": "code",
   "execution_count": 2,
   "id": "23f77b80",
   "metadata": {},
   "outputs": [],
   "source": [
    "def fit(\n",
    "    ratings: torch.FloatTensor,\n",
    "    k: int,\n",
    "    lr: float,\n",
    "    iters: int,\n",
    "    mu: float = None,\n",
    ") -> List[torch.FloatTensor]:\n",
    "    # Initialize params\n",
    "    n_users, n_movies = ratings.shape\n",
    "    expected = ratings.cuda()\n",
    "    \n",
    "    P = torch.rand(n_users, k, requires_grad=True, device=\"cuda\")\n",
    "    Q = torch.rand(n_movies, k, requires_grad=True, device=\"cuda\")\n",
    "    bu = torch.rand(n_users, 1, requires_grad=True, device=\"cuda\")\n",
    "    bi = torch.rand(n_movies, 1, requires_grad=True, device=\"cuda\")\n",
    "    \n",
    "    if mu is None:\n",
    "        mu = (expected.sum()/(expected!=0).sum())\n",
    "\n",
    "    criterion = nn.MSELoss()\n",
    "    \n",
    "    # Fit\n",
    "    ones_user = torch.ones(n_users, 1, requires_grad=False, device=\"cuda\")\n",
    "    ones_item = torch.ones(n_movies, 1, requires_grad=False, device=\"cuda\")\n",
    "\n",
    "    min_loss = torch.inf\n",
    "    params = []\n",
    "    for i in tqdm(range(iters)):\n",
    "        Bu = torch.concat((bu, ones_user), dim=1)\n",
    "        Bi = torch.concat((bi, ones_item), dim=1)\n",
    "\n",
    "        pred = mu + Bu@(Bi.T) + P@(Q.T)\n",
    "\n",
    "        loss = criterion(pred, expected)\n",
    "        \n",
    "        if min_loss > loss.detach():\n",
    "            min_loss = float(loss.detach())\n",
    "            params = [P.detach().cpu(), Q.detach().cpu(), bu.detach().cpu(), bi.detach().cpu()]\n",
    "#             print(f\"iter {i+1}: {min_loss}\")\n",
    "\n",
    "        loss.backward()\n",
    "\n",
    "        with torch.no_grad():\n",
    "            P -= lr*P.grad\n",
    "            Q -= lr*Q.grad\n",
    "            bu -= lr*bu.grad\n",
    "            bi -= lr*bi.grad\n",
    "            \n",
    "    print(min_loss)\n",
    "            \n",
    "    return params"
   ]
  },
  {
   "cell_type": "code",
   "execution_count": 3,
   "id": "ef0b236d",
   "metadata": {},
   "outputs": [],
   "source": [
    "def reconstruct(\n",
    "    P: torch.FloatTensor,\n",
    "    Q: torch.FloatTensor,\n",
    "    bu: torch.FloatTensor,\n",
    "    bi: torch.FloatTensor,\n",
    "    mu: float,\n",
    ") -> torch.FloatTensor:\n",
    "    P = P.cuda()\n",
    "    Q = Q.cuda()\n",
    "    bu = bu.cuda()\n",
    "    bi = bi.cuda()\n",
    "    \n",
    "    Bu = torch.concat((bu, torch.ones(len(bu), 1, device=\"cuda\")), dim=1)\n",
    "    Bi = torch.concat((bi, torch.ones(len(bi), 1, device=\"cuda\")), dim=1)\n",
    "    \n",
    "    mat = mu + Bu@Bi.T + P@Q.T\n",
    "    \n",
    "    return torch.clip(mat, 1, 5).cpu()"
   ]
  },
  {
   "cell_type": "code",
   "execution_count": 4,
   "id": "36178b21",
   "metadata": {
    "scrolled": true
   },
   "outputs": [
    {
     "data": {
      "application/vnd.jupyter.widget-view+json": {
       "model_id": "ebafc0e7e55f4c1b8020ecc1e37a92c6",
       "version_major": 2,
       "version_minor": 0
      },
      "text/plain": [
       "  0%|          | 0/1000 [00:00<?, ?it/s]"
      ]
     },
     "metadata": {},
     "output_type": "display_data"
    },
    {
     "name": "stdout",
     "output_type": "stream",
     "text": [
      "0.8942086100578308\n",
      "tensor([[4.8325, 3.5595, 4.4735, 3.3083, 3.4615, 2.3246],\n",
      "        [4.7551, 3.3419, 4.9695, 3.0768, 1.9885, 1.6346],\n",
      "        [2.0566, 3.6687, 2.6347, 3.6749, 5.0000, 5.0000],\n",
      "        [1.0000, 1.0000, 1.0000, 1.7221, 4.5860, 1.6006]])\n",
      "\n",
      "tensor([[5., 2., 4., 3., 2., 3.],\n",
      "        [4., 3., 5., 4., 3., 2.],\n",
      "        [1., 5., 3., 4., 4., 5.],\n",
      "        [1., 0., 2., 3., 4., 2.]])\n"
     ]
    }
   ],
   "source": [
    "## Test\n",
    "mat = torch.tensor([\n",
    "    [5, 2, 4, 3, 2, 3],\n",
    "    [4, 3, 5, 4, 3, 2],\n",
    "    [1, 5, 3, 4, 4, 5],\n",
    "    [1, 0, 2, 3, 4, 2],\n",
    "], dtype=torch.float32)\n",
    "\n",
    "out_P, out_Q, out_bu, out_bi = fit(ratings=mat, k=3, lr=0.08, iters=1000)\n",
    "\n",
    "out_mat = reconstruct(out_P, out_Q, out_bu, out_bi, (mat.sum()/(mat!=0).sum()))\n",
    "\n",
    "print(out_mat)\n",
    "print()\n",
    "print(mat)"
   ]
  },
  {
   "cell_type": "markdown",
   "id": "56d417dc",
   "metadata": {},
   "source": [
    "# Real Data"
   ]
  },
  {
   "cell_type": "code",
   "execution_count": 5,
   "id": "65e3f7c7",
   "metadata": {},
   "outputs": [],
   "source": [
    "import numpy as np\n",
    "from numpy.typing import NDArray\n",
    "import pandas as pd\n",
    "from numba import njit, prange"
   ]
  },
  {
   "cell_type": "code",
   "execution_count": 6,
   "id": "5cfb9acb",
   "metadata": {},
   "outputs": [],
   "source": [
    "train_csv = pd.read_csv(\"../../data/train_data.csv\")\n",
    "test_csv = pd.read_csv(\"../../data/test_data.csv\")\n",
    "\n",
    "train_csv[\"user_id\"] = train_csv[\"user_id\"].apply(lambda x: x - 1)\n",
    "train_csv[\"movie_id\"] = train_csv[\"movie_id\"].apply(lambda x: x - 1)\n",
    "\n",
    "test_csv[\"user_id\"] = test_csv[\"user_id\"].apply(lambda x: x - 1)\n",
    "test_csv[\"movie_id\"] = test_csv[\"movie_id\"].apply(lambda x: x - 1)\n",
    "\n",
    "# Split into train and validation\n",
    "train_data = train_csv.drop([\"timestamp\"], axis=1).sample(frac=0.8)\n",
    "validation_data = train_csv.drop(train_data.index).drop([\"timestamp\"], axis=1)\n",
    "\n",
    "assert train_data.shape[0] + validation_data.shape[0] == train_csv.shape[0]## Split into train and validation"
   ]
  },
  {
   "cell_type": "code",
   "execution_count": 7,
   "id": "ad63ed46",
   "metadata": {},
   "outputs": [],
   "source": [
    "@njit\n",
    "def build_matrix_jit(data: NDArray[np.uint8], n_users: int, n_items: int):\n",
    "    \"\"\"\n",
    "    data: Array of size (n_entries, 3) with columns representing:\n",
    "        col 0: user_id\n",
    "        col 1: item_id\n",
    "         col 2: rating\n",
    "    \"\"\"\n",
    "    ratings_mat = np.zeros((n_users, n_items), dtype=np.float32)\n",
    "\n",
    "    for row in data:\n",
    "        u, i, r = row\n",
    "        ratings_mat[u, i] = r\n",
    "    \n",
    "    return ratings_mat\n",
    "\n",
    "users = 3974\n",
    "movies = 3564\n",
    "\n",
    "ratings_mat = build_matrix_jit(train_data.values, users, movies)## Compute predictions\n",
    "ratings_mat = ratings_mat"
   ]
  },
  {
   "cell_type": "code",
   "execution_count": 8,
   "id": "3e96d946",
   "metadata": {},
   "outputs": [],
   "source": [
    "@njit(nogil=True, parallel=True)\n",
    "def predict_batch(X: NDArray[int], reconstructed_matrix: NDArray[np.float64]):\n",
    "    \"\"\"\n",
    "    X: Array of size (n_entries, 3) with columns representing:\n",
    "        col 0: user_id\n",
    "        col 1: item_id\n",
    "    \"\"\"\n",
    "    predictions = np.zeros(len(X), dtype=np.float64)\n",
    "    \n",
    "    for i in prange(len(X)):\n",
    "        user_id, movie_id = X[i]\n",
    "        predictions[i] = reconstructed_matrix[user_id-1, movie_id-1]\n",
    "        \n",
    "    return np.clip(predictions, 1, 5)"
   ]
  },
  {
   "cell_type": "code",
   "execution_count": 9,
   "id": "1d2f1e89",
   "metadata": {},
   "outputs": [],
   "source": [
    "@njit(parallel=True)\n",
    "def calc_error(preds, expected):\n",
    "    num = 0\n",
    "    for i in prange(len(preds)):\n",
    "        num += (preds[i] - expected[i])**2\n",
    "\n",
    "    rmse = np.sqrt(num/len(preds))\n",
    "    return rmse"
   ]
  },
  {
   "cell_type": "markdown",
   "id": "0ded70cd",
   "metadata": {},
   "source": [
    "# Fit"
   ]
  },
  {
   "cell_type": "code",
   "execution_count": 10,
   "id": "fe62f2a6",
   "metadata": {},
   "outputs": [],
   "source": [
    "mu_train = (ratings_mat.sum()/(ratings_mat!=0).sum())\n",
    "\n",
    "data_arr = validation_data.drop([\"rating\"], axis=1).values\n",
    "expected_arr = validation_data[\"rating\"].values"
   ]
  },
  {
   "cell_type": "code",
   "execution_count": 11,
   "id": "1dbf6a70",
   "metadata": {},
   "outputs": [
    {
     "data": {
      "application/vnd.jupyter.widget-view+json": {
       "model_id": "4383220136064317b5ea92b591b0dec1",
       "version_major": 2,
       "version_minor": 0
      },
      "text/plain": [
       "  0%|          | 0/3974 [00:00<?, ?it/s]"
      ]
     },
     "metadata": {},
     "output_type": "display_data"
    },
    {
     "name": "stdout",
     "output_type": "stream",
     "text": [
      "[[3.9266164 3.4706297 3.385348  ... 3.7571428 4.107143  3.7967033]\n",
      " [3.8194737 3.3634868 3.2782052 ... 3.65      4.        3.6895604]\n",
      " [3.9444737 3.4884868 3.4032052 ... 3.775     4.125     3.8145604]\n",
      " ...\n",
      " [4.1294737 3.673487  3.588205  ... 3.96      4.31      3.9995604]\n",
      " [3.9980452 3.5420582 3.4567766 ... 3.8285713 4.178571  3.8681319]\n",
      " [3.9583626 3.5023758 3.417094  ... 3.788889  4.138889  3.8284492]]\n"
     ]
    }
   ],
   "source": [
    "means_users = ratings_mat.sum(axis=1)/((ratings_mat!=0).sum(axis=1) + 1e-15)\n",
    "means_items = ratings_mat.sum(axis=0)/((ratings_mat!=0).sum(axis=0) + 1e-15)\n",
    "\n",
    "# Fill zeros with the mean of means of users and items\n",
    "for u in tqdm(range(ratings_mat.shape[0])):\n",
    "    for i in range(ratings_mat.shape[1]):\n",
    "        if ratings_mat[u, i] == 0:\n",
    "            ratings_mat[u, i] = (means_users[u] + means_items[i])/2\n",
    "            \n",
    "print(ratings_mat)"
   ]
  },
  {
   "cell_type": "code",
   "execution_count": 12,
   "id": "050b6026",
   "metadata": {},
   "outputs": [],
   "source": [
    "ratings_mat_torch = torch.from_numpy(ratings_mat.astype(np.float32))"
   ]
  },
  {
   "cell_type": "code",
   "execution_count": 13,
   "id": "bfa21148",
   "metadata": {
    "scrolled": true
   },
   "outputs": [
    {
     "data": {
      "application/vnd.jupyter.widget-view+json": {
       "model_id": "451ec15fda8246ffad6b390c5ba875a0",
       "version_major": 2,
       "version_minor": 0
      },
      "text/plain": [
       "  0%|          | 0/48 [00:00<?, ?it/s]"
      ]
     },
     "metadata": {},
     "output_type": "display_data"
    },
    {
     "data": {
      "application/vnd.jupyter.widget-view+json": {
       "model_id": "bf6567a483ba4dd7b8303c014be7c71b",
       "version_major": 2,
       "version_minor": 0
      },
      "text/plain": [
       "  0%|          | 0/1000 [00:00<?, ?it/s]"
      ]
     },
     "metadata": {},
     "output_type": "display_data"
    },
    {
     "name": "stdout",
     "output_type": "stream",
     "text": [
      "0.05239686369895935\n"
     ]
    },
    {
     "data": {
      "application/vnd.jupyter.widget-view+json": {
       "model_id": "9dd95f8bf52248b6a7b756452139f772",
       "version_major": 2,
       "version_minor": 0
      },
      "text/plain": [
       "  0%|          | 0/1000 [00:00<?, ?it/s]"
      ]
     },
     "metadata": {},
     "output_type": "display_data"
    },
    {
     "name": "stdout",
     "output_type": "stream",
     "text": [
      "0.04032544791698456\n"
     ]
    },
    {
     "data": {
      "application/vnd.jupyter.widget-view+json": {
       "model_id": "f00314a3890e489481e63bdcf0bef47e",
       "version_major": 2,
       "version_minor": 0
      },
      "text/plain": [
       "  0%|          | 0/1000 [00:00<?, ?it/s]"
      ]
     },
     "metadata": {},
     "output_type": "display_data"
    },
    {
     "name": "stdout",
     "output_type": "stream",
     "text": [
      "0.038827743381261826\n"
     ]
    },
    {
     "data": {
      "application/vnd.jupyter.widget-view+json": {
       "model_id": "298c75a5a19e4ff1962ec78d73b1f60b",
       "version_major": 2,
       "version_minor": 0
      },
      "text/plain": [
       "  0%|          | 0/1000 [00:00<?, ?it/s]"
      ]
     },
     "metadata": {},
     "output_type": "display_data"
    },
    {
     "name": "stdout",
     "output_type": "stream",
     "text": [
      "0.06139560416340828\n"
     ]
    },
    {
     "data": {
      "application/vnd.jupyter.widget-view+json": {
       "model_id": "a728e9a056b54b77a6fc8ea1b0d1a41c",
       "version_major": 2,
       "version_minor": 0
      },
      "text/plain": [
       "  0%|          | 0/1000 [00:00<?, ?it/s]"
      ]
     },
     "metadata": {},
     "output_type": "display_data"
    },
    {
     "name": "stdout",
     "output_type": "stream",
     "text": [
      "0.075432188808918\n"
     ]
    },
    {
     "data": {
      "application/vnd.jupyter.widget-view+json": {
       "model_id": "18f2c92c822642788d70769108b0b0c6",
       "version_major": 2,
       "version_minor": 0
      },
      "text/plain": [
       "  0%|          | 0/1000 [00:00<?, ?it/s]"
      ]
     },
     "metadata": {},
     "output_type": "display_data"
    },
    {
     "name": "stdout",
     "output_type": "stream",
     "text": [
      "0.09848018735647202\n"
     ]
    },
    {
     "data": {
      "application/vnd.jupyter.widget-view+json": {
       "model_id": "0795454502b64a0f89f7d1f9d8e0584c",
       "version_major": 2,
       "version_minor": 0
      },
      "text/plain": [
       "  0%|          | 0/1000 [00:00<?, ?it/s]"
      ]
     },
     "metadata": {},
     "output_type": "display_data"
    },
    {
     "name": "stdout",
     "output_type": "stream",
     "text": [
      "0.1616826355457306\n"
     ]
    },
    {
     "data": {
      "application/vnd.jupyter.widget-view+json": {
       "model_id": "44e7e50593d7425c83cf5fc67af122b7",
       "version_major": 2,
       "version_minor": 0
      },
      "text/plain": [
       "  0%|          | 0/1000 [00:00<?, ?it/s]"
      ]
     },
     "metadata": {},
     "output_type": "display_data"
    },
    {
     "name": "stdout",
     "output_type": "stream",
     "text": [
      "0.12556520104408264\n"
     ]
    },
    {
     "data": {
      "application/vnd.jupyter.widget-view+json": {
       "model_id": "5ddf5a0c38f14ee89a42032d6b589629",
       "version_major": 2,
       "version_minor": 0
      },
      "text/plain": [
       "  0%|          | 0/1000 [00:00<?, ?it/s]"
      ]
     },
     "metadata": {},
     "output_type": "display_data"
    },
    {
     "name": "stdout",
     "output_type": "stream",
     "text": [
      "0.24873341619968414\n"
     ]
    },
    {
     "data": {
      "application/vnd.jupyter.widget-view+json": {
       "model_id": "25a0cf45c1754eb09e3a3a8a7f8ae2bd",
       "version_major": 2,
       "version_minor": 0
      },
      "text/plain": [
       "  0%|          | 0/1000 [00:00<?, ?it/s]"
      ]
     },
     "metadata": {},
     "output_type": "display_data"
    },
    {
     "name": "stdout",
     "output_type": "stream",
     "text": [
      "0.24543356895446777\n"
     ]
    },
    {
     "data": {
      "application/vnd.jupyter.widget-view+json": {
       "model_id": "e689094369ab477fa79c4e97eb3a803f",
       "version_major": 2,
       "version_minor": 0
      },
      "text/plain": [
       "  0%|          | 0/1000 [00:00<?, ?it/s]"
      ]
     },
     "metadata": {},
     "output_type": "display_data"
    },
    {
     "name": "stdout",
     "output_type": "stream",
     "text": [
      "0.1391724944114685\n"
     ]
    },
    {
     "data": {
      "application/vnd.jupyter.widget-view+json": {
       "model_id": "3709ea381e0e4105b3cebd52bab2e06a",
       "version_major": 2,
       "version_minor": 0
      },
      "text/plain": [
       "  0%|          | 0/1000 [00:00<?, ?it/s]"
      ]
     },
     "metadata": {},
     "output_type": "display_data"
    },
    {
     "name": "stdout",
     "output_type": "stream",
     "text": [
      "0.3285300135612488\n"
     ]
    },
    {
     "data": {
      "application/vnd.jupyter.widget-view+json": {
       "model_id": "eae7e326b540424692f0193f9ace5ad8",
       "version_major": 2,
       "version_minor": 0
      },
      "text/plain": [
       "  0%|          | 0/1000 [00:00<?, ?it/s]"
      ]
     },
     "metadata": {},
     "output_type": "display_data"
    },
    {
     "name": "stdout",
     "output_type": "stream",
     "text": [
      "0.2724137008190155\n"
     ]
    },
    {
     "data": {
      "application/vnd.jupyter.widget-view+json": {
       "model_id": "b90d0454a68d41a0998c13108fbb48cc",
       "version_major": 2,
       "version_minor": 0
      },
      "text/plain": [
       "  0%|          | 0/1000 [00:00<?, ?it/s]"
      ]
     },
     "metadata": {},
     "output_type": "display_data"
    },
    {
     "name": "stdout",
     "output_type": "stream",
     "text": [
      "0.34786683320999146\n"
     ]
    },
    {
     "data": {
      "application/vnd.jupyter.widget-view+json": {
       "model_id": "0def0ffbf9bc4f3daf61af2089f7962e",
       "version_major": 2,
       "version_minor": 0
      },
      "text/plain": [
       "  0%|          | 0/1000 [00:00<?, ?it/s]"
      ]
     },
     "metadata": {},
     "output_type": "display_data"
    },
    {
     "name": "stdout",
     "output_type": "stream",
     "text": [
      "0.33258315920829773\n"
     ]
    },
    {
     "data": {
      "application/vnd.jupyter.widget-view+json": {
       "model_id": "924e93ca744f450ab8a8d990a8861570",
       "version_major": 2,
       "version_minor": 0
      },
      "text/plain": [
       "  0%|          | 0/1000 [00:00<?, ?it/s]"
      ]
     },
     "metadata": {},
     "output_type": "display_data"
    },
    {
     "name": "stdout",
     "output_type": "stream",
     "text": [
      "0.29863977432250977\n"
     ]
    },
    {
     "data": {
      "application/vnd.jupyter.widget-view+json": {
       "model_id": "13ea6cfffe984a33afeae98f65576df3",
       "version_major": 2,
       "version_minor": 0
      },
      "text/plain": [
       "  0%|          | 0/1000 [00:00<?, ?it/s]"
      ]
     },
     "metadata": {},
     "output_type": "display_data"
    },
    {
     "name": "stdout",
     "output_type": "stream",
     "text": [
      "0.2148847132921219\n"
     ]
    },
    {
     "data": {
      "application/vnd.jupyter.widget-view+json": {
       "model_id": "04b9861a8b9a4044b14956fc84aa17c2",
       "version_major": 2,
       "version_minor": 0
      },
      "text/plain": [
       "  0%|          | 0/1000 [00:00<?, ?it/s]"
      ]
     },
     "metadata": {},
     "output_type": "display_data"
    },
    {
     "name": "stdout",
     "output_type": "stream",
     "text": [
      "0.31754976511001587\n"
     ]
    },
    {
     "data": {
      "application/vnd.jupyter.widget-view+json": {
       "model_id": "f08e439be2554452a4428b91ec09ab9a",
       "version_major": 2,
       "version_minor": 0
      },
      "text/plain": [
       "  0%|          | 0/1000 [00:00<?, ?it/s]"
      ]
     },
     "metadata": {},
     "output_type": "display_data"
    },
    {
     "name": "stdout",
     "output_type": "stream",
     "text": [
      "0.12747211754322052\n"
     ]
    },
    {
     "data": {
      "application/vnd.jupyter.widget-view+json": {
       "model_id": "bbc380154c5a47b5a3e32da2a927b7df",
       "version_major": 2,
       "version_minor": 0
      },
      "text/plain": [
       "  0%|          | 0/1000 [00:00<?, ?it/s]"
      ]
     },
     "metadata": {},
     "output_type": "display_data"
    },
    {
     "name": "stdout",
     "output_type": "stream",
     "text": [
      "0.38699039816856384\n"
     ]
    },
    {
     "data": {
      "application/vnd.jupyter.widget-view+json": {
       "model_id": "ffa6deb110d64b96abe6adba50094132",
       "version_major": 2,
       "version_minor": 0
      },
      "text/plain": [
       "  0%|          | 0/1000 [00:00<?, ?it/s]"
      ]
     },
     "metadata": {},
     "output_type": "display_data"
    },
    {
     "name": "stdout",
     "output_type": "stream",
     "text": [
      "0.3905424475669861\n"
     ]
    },
    {
     "data": {
      "application/vnd.jupyter.widget-view+json": {
       "model_id": "0006349304524aaf891fe62ac91f7a42",
       "version_major": 2,
       "version_minor": 0
      },
      "text/plain": [
       "  0%|          | 0/1000 [00:00<?, ?it/s]"
      ]
     },
     "metadata": {},
     "output_type": "display_data"
    },
    {
     "name": "stdout",
     "output_type": "stream",
     "text": [
      "0.3928970396518707\n"
     ]
    },
    {
     "data": {
      "application/vnd.jupyter.widget-view+json": {
       "model_id": "f1d99d4b3fce42cdb316660d6e6718e7",
       "version_major": 2,
       "version_minor": 0
      },
      "text/plain": [
       "  0%|          | 0/1000 [00:00<?, ?it/s]"
      ]
     },
     "metadata": {},
     "output_type": "display_data"
    },
    {
     "name": "stdout",
     "output_type": "stream",
     "text": [
      "0.264500230550766\n"
     ]
    },
    {
     "data": {
      "application/vnd.jupyter.widget-view+json": {
       "model_id": "1307bf55f10f49d0a0ec4429279efa36",
       "version_major": 2,
       "version_minor": 0
      },
      "text/plain": [
       "  0%|          | 0/1000 [00:00<?, ?it/s]"
      ]
     },
     "metadata": {},
     "output_type": "display_data"
    },
    {
     "name": "stdout",
     "output_type": "stream",
     "text": [
      "0.3699822425842285\n"
     ]
    },
    {
     "data": {
      "application/vnd.jupyter.widget-view+json": {
       "model_id": "90cac2b5341f42629d25365bdf8a3fe4",
       "version_major": 2,
       "version_minor": 0
      },
      "text/plain": [
       "  0%|          | 0/1000 [00:00<?, ?it/s]"
      ]
     },
     "metadata": {},
     "output_type": "display_data"
    },
    {
     "name": "stdout",
     "output_type": "stream",
     "text": [
      "0.41749152541160583\n"
     ]
    },
    {
     "data": {
      "application/vnd.jupyter.widget-view+json": {
       "model_id": "2f26c35e7c1d41a18d51dfa21a68766b",
       "version_major": 2,
       "version_minor": 0
      },
      "text/plain": [
       "  0%|          | 0/1000 [00:00<?, ?it/s]"
      ]
     },
     "metadata": {},
     "output_type": "display_data"
    },
    {
     "name": "stdout",
     "output_type": "stream",
     "text": [
      "0.40431109070777893\n"
     ]
    },
    {
     "data": {
      "application/vnd.jupyter.widget-view+json": {
       "model_id": "aa30bb7b4d734b629e3f70ec30ed352b",
       "version_major": 2,
       "version_minor": 0
      },
      "text/plain": [
       "  0%|          | 0/1000 [00:00<?, ?it/s]"
      ]
     },
     "metadata": {},
     "output_type": "display_data"
    },
    {
     "name": "stdout",
     "output_type": "stream",
     "text": [
      "0.4276365339756012\n"
     ]
    },
    {
     "data": {
      "application/vnd.jupyter.widget-view+json": {
       "model_id": "2bcb444e8a294a07ac75edb23df129d6",
       "version_major": 2,
       "version_minor": 0
      },
      "text/plain": [
       "  0%|          | 0/1000 [00:00<?, ?it/s]"
      ]
     },
     "metadata": {},
     "output_type": "display_data"
    },
    {
     "name": "stdout",
     "output_type": "stream",
     "text": [
      "0.42686715722084045\n"
     ]
    },
    {
     "data": {
      "application/vnd.jupyter.widget-view+json": {
       "model_id": "68aff9610e0c4126bda7880d2fcb79e0",
       "version_major": 2,
       "version_minor": 0
      },
      "text/plain": [
       "  0%|          | 0/1000 [00:00<?, ?it/s]"
      ]
     },
     "metadata": {},
     "output_type": "display_data"
    },
    {
     "name": "stdout",
     "output_type": "stream",
     "text": [
      "0.4489938020706177\n"
     ]
    },
    {
     "data": {
      "application/vnd.jupyter.widget-view+json": {
       "model_id": "110991594a464393b9cb673a6824870e",
       "version_major": 2,
       "version_minor": 0
      },
      "text/plain": [
       "  0%|          | 0/1000 [00:00<?, ?it/s]"
      ]
     },
     "metadata": {},
     "output_type": "display_data"
    },
    {
     "name": "stdout",
     "output_type": "stream",
     "text": [
      "0.29894623160362244\n"
     ]
    },
    {
     "data": {
      "application/vnd.jupyter.widget-view+json": {
       "model_id": "f4d4bf4be21747709154fa3ec6f95ea3",
       "version_major": 2,
       "version_minor": 0
      },
      "text/plain": [
       "  0%|          | 0/1000 [00:00<?, ?it/s]"
      ]
     },
     "metadata": {},
     "output_type": "display_data"
    },
    {
     "name": "stdout",
     "output_type": "stream",
     "text": [
      "0.13120953738689423\n"
     ]
    },
    {
     "data": {
      "application/vnd.jupyter.widget-view+json": {
       "model_id": "abb0eaad13db4aeb83979772ef1f78b4",
       "version_major": 2,
       "version_minor": 0
      },
      "text/plain": [
       "  0%|          | 0/1000 [00:00<?, ?it/s]"
      ]
     },
     "metadata": {},
     "output_type": "display_data"
    },
    {
     "name": "stdout",
     "output_type": "stream",
     "text": [
      "0.27384355664253235\n"
     ]
    },
    {
     "data": {
      "application/vnd.jupyter.widget-view+json": {
       "model_id": "e1fefcffc4f149449f8df48b75d44f3d",
       "version_major": 2,
       "version_minor": 0
      },
      "text/plain": [
       "  0%|          | 0/1000 [00:00<?, ?it/s]"
      ]
     },
     "metadata": {},
     "output_type": "display_data"
    },
    {
     "name": "stdout",
     "output_type": "stream",
     "text": [
      "0.4784429669380188\n"
     ]
    },
    {
     "data": {
      "application/vnd.jupyter.widget-view+json": {
       "model_id": "2a99db54b1184e50a3da68abb921ec76",
       "version_major": 2,
       "version_minor": 0
      },
      "text/plain": [
       "  0%|          | 0/1000 [00:00<?, ?it/s]"
      ]
     },
     "metadata": {},
     "output_type": "display_data"
    },
    {
     "name": "stdout",
     "output_type": "stream",
     "text": [
      "0.4948994517326355\n"
     ]
    },
    {
     "data": {
      "application/vnd.jupyter.widget-view+json": {
       "model_id": "3daa88646b664c36999b8e9b8f3a0998",
       "version_major": 2,
       "version_minor": 0
      },
      "text/plain": [
       "  0%|          | 0/1000 [00:00<?, ?it/s]"
      ]
     },
     "metadata": {},
     "output_type": "display_data"
    },
    {
     "name": "stdout",
     "output_type": "stream",
     "text": [
      "0.3199393153190613\n"
     ]
    },
    {
     "data": {
      "application/vnd.jupyter.widget-view+json": {
       "model_id": "a14ad74c0a574c19a70c9683aa1dafe9",
       "version_major": 2,
       "version_minor": 0
      },
      "text/plain": [
       "  0%|          | 0/1000 [00:00<?, ?it/s]"
      ]
     },
     "metadata": {},
     "output_type": "display_data"
    },
    {
     "name": "stdout",
     "output_type": "stream",
     "text": [
      "0.5034310817718506\n"
     ]
    },
    {
     "data": {
      "application/vnd.jupyter.widget-view+json": {
       "model_id": "4889a290894e4f30a6c4ef6dd16cb775",
       "version_major": 2,
       "version_minor": 0
      },
      "text/plain": [
       "  0%|          | 0/1000 [00:00<?, ?it/s]"
      ]
     },
     "metadata": {},
     "output_type": "display_data"
    },
    {
     "name": "stdout",
     "output_type": "stream",
     "text": [
      "0.18108943104743958\n"
     ]
    },
    {
     "data": {
      "application/vnd.jupyter.widget-view+json": {
       "model_id": "2b791926ab834627ab2e5f974d702cc6",
       "version_major": 2,
       "version_minor": 0
      },
      "text/plain": [
       "  0%|          | 0/1000 [00:00<?, ?it/s]"
      ]
     },
     "metadata": {},
     "output_type": "display_data"
    },
    {
     "name": "stdout",
     "output_type": "stream",
     "text": [
      "0.33161240816116333\n"
     ]
    },
    {
     "data": {
      "application/vnd.jupyter.widget-view+json": {
       "model_id": "0c13dffcba554a1791072cfea71ce700",
       "version_major": 2,
       "version_minor": 0
      },
      "text/plain": [
       "  0%|          | 0/1000 [00:00<?, ?it/s]"
      ]
     },
     "metadata": {},
     "output_type": "display_data"
    },
    {
     "name": "stdout",
     "output_type": "stream",
     "text": [
      "0.2194565236568451\n"
     ]
    },
    {
     "data": {
      "application/vnd.jupyter.widget-view+json": {
       "model_id": "ef968c17aa77474b8d9dddbf04c670ac",
       "version_major": 2,
       "version_minor": 0
      },
      "text/plain": [
       "  0%|          | 0/1000 [00:00<?, ?it/s]"
      ]
     },
     "metadata": {},
     "output_type": "display_data"
    },
    {
     "name": "stdout",
     "output_type": "stream",
     "text": [
      "0.07791364192962646\n"
     ]
    },
    {
     "data": {
      "application/vnd.jupyter.widget-view+json": {
       "model_id": "c7c2694ae46743229e782f61f5f2df0c",
       "version_major": 2,
       "version_minor": 0
      },
      "text/plain": [
       "  0%|          | 0/1000 [00:00<?, ?it/s]"
      ]
     },
     "metadata": {},
     "output_type": "display_data"
    },
    {
     "name": "stdout",
     "output_type": "stream",
     "text": [
      "0.5158179998397827\n"
     ]
    },
    {
     "data": {
      "application/vnd.jupyter.widget-view+json": {
       "model_id": "9df3e10164ae4fd5852f599fd40ea9fe",
       "version_major": 2,
       "version_minor": 0
      },
      "text/plain": [
       "  0%|          | 0/1000 [00:00<?, ?it/s]"
      ]
     },
     "metadata": {},
     "output_type": "display_data"
    },
    {
     "name": "stdout",
     "output_type": "stream",
     "text": [
      "0.5408105850219727\n"
     ]
    },
    {
     "data": {
      "application/vnd.jupyter.widget-view+json": {
       "model_id": "a2e842e8c1db49f3b9089f67f03e816a",
       "version_major": 2,
       "version_minor": 0
      },
      "text/plain": [
       "  0%|          | 0/1000 [00:00<?, ?it/s]"
      ]
     },
     "metadata": {},
     "output_type": "display_data"
    },
    {
     "name": "stdout",
     "output_type": "stream",
     "text": [
      "0.4336852431297302\n"
     ]
    },
    {
     "data": {
      "application/vnd.jupyter.widget-view+json": {
       "model_id": "2c143750375a4e3abe93bd4cb0eb0f25",
       "version_major": 2,
       "version_minor": 0
      },
      "text/plain": [
       "  0%|          | 0/1000 [00:00<?, ?it/s]"
      ]
     },
     "metadata": {},
     "output_type": "display_data"
    },
    {
     "name": "stdout",
     "output_type": "stream",
     "text": [
      "0.3836505115032196\n"
     ]
    },
    {
     "data": {
      "application/vnd.jupyter.widget-view+json": {
       "model_id": "2558d6ba9cec4452ab5e4a054d5f25a5",
       "version_major": 2,
       "version_minor": 0
      },
      "text/plain": [
       "  0%|          | 0/1000 [00:00<?, ?it/s]"
      ]
     },
     "metadata": {},
     "output_type": "display_data"
    },
    {
     "name": "stdout",
     "output_type": "stream",
     "text": [
      "0.615239679813385\n"
     ]
    },
    {
     "data": {
      "application/vnd.jupyter.widget-view+json": {
       "model_id": "6afa094380554d91b33d4f37b608311a",
       "version_major": 2,
       "version_minor": 0
      },
      "text/plain": [
       "  0%|          | 0/1000 [00:00<?, ?it/s]"
      ]
     },
     "metadata": {},
     "output_type": "display_data"
    },
    {
     "name": "stdout",
     "output_type": "stream",
     "text": [
      "0.47563666105270386\n"
     ]
    },
    {
     "data": {
      "application/vnd.jupyter.widget-view+json": {
       "model_id": "b80005dd35f64e40bc7b186b92e7d513",
       "version_major": 2,
       "version_minor": 0
      },
      "text/plain": [
       "  0%|          | 0/1000 [00:00<?, ?it/s]"
      ]
     },
     "metadata": {},
     "output_type": "display_data"
    },
    {
     "name": "stdout",
     "output_type": "stream",
     "text": [
      "0.5755442976951599\n"
     ]
    },
    {
     "data": {
      "application/vnd.jupyter.widget-view+json": {
       "model_id": "f7638f432c9240d598b68ec6054d1da9",
       "version_major": 2,
       "version_minor": 0
      },
      "text/plain": [
       "  0%|          | 0/1000 [00:00<?, ?it/s]"
      ]
     },
     "metadata": {},
     "output_type": "display_data"
    },
    {
     "name": "stdout",
     "output_type": "stream",
     "text": [
      "0.26993611454963684\n"
     ]
    }
   ],
   "source": [
    "min_err = np.inf\n",
    "best_k = 2\n",
    "for k in tqdm(range(2, 50)):\n",
    "    fitted_params = fit(ratings=ratings_mat_torch, k=k, lr=0.5, iters=1000, mu=mu_train)\n",
    "    recontructed_mat = reconstruct(*fitted_params, mu_train).numpy()\n",
    "    \n",
    "    predicted = predict_batch(data_arr, recontructed_mat)\n",
    "    err = calc_error(predicted, expected_arr)\n",
    "    \n",
    "    if min_err > err:\n",
    "        min_err = err\n",
    "        best_k = k"
   ]
  },
  {
   "cell_type": "code",
   "execution_count": 14,
   "id": "82210686",
   "metadata": {},
   "outputs": [
    {
     "name": "stdout",
     "output_type": "stream",
     "text": [
      "40 1.1275291768195534\n"
     ]
    }
   ],
   "source": [
    "print(best_k, min_err)"
   ]
  },
  {
   "cell_type": "markdown",
   "id": "ef8cb49b",
   "metadata": {},
   "source": [
    "## Predict"
   ]
  },
  {
   "cell_type": "code",
   "execution_count": 16,
   "id": "1185ce1a",
   "metadata": {},
   "outputs": [],
   "source": [
    "total_ratings = build_matrix_jit(train_csv.drop([\"timestamp\"], axis=1).values, users, movies)\n",
    "mu_total = (total_ratings.sum()/(total_ratings!=0).sum())"
   ]
  },
  {
   "cell_type": "code",
   "execution_count": 17,
   "id": "1d671ce1",
   "metadata": {},
   "outputs": [
    {
     "data": {
      "application/vnd.jupyter.widget-view+json": {
       "model_id": "1d0b8e53855d46beb9a981ff54ad10c7",
       "version_major": 2,
       "version_minor": 0
      },
      "text/plain": [
       "  0%|          | 0/3974 [00:00<?, ?it/s]"
      ]
     },
     "metadata": {},
     "output_type": "display_data"
    },
    {
     "name": "stdout",
     "output_type": "stream",
     "text": [
      "[[3.9558017 3.4920425 3.4046154 ... 3.7846153 4.1346154 3.8170478]\n",
      " [3.7854722 3.3217127 3.2342858 ... 3.6142857 3.9642856 3.6467183]\n",
      " [3.9802773 3.5165179 3.429091  ... 3.8090909 4.159091  3.8415234]\n",
      " ...\n",
      " [4.1278872 3.664128  3.576701  ... 3.956701  4.306701  3.9891334]\n",
      " [4.0711865 3.6074271 3.52      ... 3.9       4.25      3.9324324]\n",
      " [3.9997578 3.5359986 3.4485714 ... 3.8285713 4.178571  3.8610039]]\n"
     ]
    }
   ],
   "source": [
    "means_users_total = total_ratings.sum(axis=1)/((total_ratings!=0).sum(axis=1) + 1e-15)\n",
    "means_items_total = total_ratings.sum(axis=0)/((total_ratings!=0).sum(axis=0) + 1e-15)\n",
    "\n",
    "# Fill zeros with the mean of means of users and items\n",
    "for u in tqdm(range(total_ratings.shape[0])):\n",
    "    for i in range(total_ratings.shape[1]):\n",
    "        if total_ratings[u, i] == 0:\n",
    "            total_ratings[u, i] = (means_users_total[u] + means_items_total[i])/2\n",
    "            \n",
    "print(total_ratings)"
   ]
  },
  {
   "cell_type": "code",
   "execution_count": 18,
   "id": "fd7c693a",
   "metadata": {},
   "outputs": [
    {
     "data": {
      "application/vnd.jupyter.widget-view+json": {
       "model_id": "6b315e6f7a3444db8f4ff56624076011",
       "version_major": 2,
       "version_minor": 0
      },
      "text/plain": [
       "  0%|          | 0/10000 [00:00<?, ?it/s]"
      ]
     },
     "metadata": {},
     "output_type": "display_data"
    },
    {
     "name": "stdout",
     "output_type": "stream",
     "text": [
      "0.1604769080877304\n"
     ]
    }
   ],
   "source": [
    "total_ratings_torch = torch.from_numpy(total_ratings.astype(np.float32))\n",
    "\n",
    "fitted_params = fit(ratings=ratings_mat_torch, k=best_k, lr=0.5, iters=10000, mu=mu_total)\n",
    "recontructed_mat = reconstruct(*fitted_params, mu_total).numpy()"
   ]
  },
  {
   "cell_type": "code",
   "execution_count": 19,
   "id": "ec6471aa",
   "metadata": {},
   "outputs": [],
   "source": [
    "test_predictions = predict_batch(\n",
    "    test_csv.drop([\"id\", \"timestamp\"], axis=1).values,\n",
    "    recontructed_mat,\n",
    ")"
   ]
  },
  {
   "cell_type": "code",
   "execution_count": 20,
   "id": "2154ad48",
   "metadata": {},
   "outputs": [
    {
     "data": {
      "text/html": [
       "<div>\n",
       "<style scoped>\n",
       "    .dataframe tbody tr th:only-of-type {\n",
       "        vertical-align: middle;\n",
       "    }\n",
       "\n",
       "    .dataframe tbody tr th {\n",
       "        vertical-align: top;\n",
       "    }\n",
       "\n",
       "    .dataframe thead th {\n",
       "        text-align: right;\n",
       "    }\n",
       "</style>\n",
       "<table border=\"1\" class=\"dataframe\">\n",
       "  <thead>\n",
       "    <tr style=\"text-align: right;\">\n",
       "      <th></th>\n",
       "      <th>id</th>\n",
       "      <th>rating</th>\n",
       "    </tr>\n",
       "  </thead>\n",
       "  <tbody>\n",
       "    <tr>\n",
       "      <th>0</th>\n",
       "      <td>0</td>\n",
       "      <td>3.578981</td>\n",
       "    </tr>\n",
       "    <tr>\n",
       "      <th>1</th>\n",
       "      <td>1</td>\n",
       "      <td>3.840212</td>\n",
       "    </tr>\n",
       "    <tr>\n",
       "      <th>2</th>\n",
       "      <td>2</td>\n",
       "      <td>4.010411</td>\n",
       "    </tr>\n",
       "    <tr>\n",
       "      <th>3</th>\n",
       "      <td>3</td>\n",
       "      <td>3.869724</td>\n",
       "    </tr>\n",
       "    <tr>\n",
       "      <th>4</th>\n",
       "      <td>4</td>\n",
       "      <td>3.711957</td>\n",
       "    </tr>\n",
       "  </tbody>\n",
       "</table>\n",
       "</div>"
      ],
      "text/plain": [
       "   id    rating\n",
       "0   0  3.578981\n",
       "1   1  3.840212\n",
       "2   2  4.010411\n",
       "3   3  3.869724\n",
       "4   4  3.711957"
      ]
     },
     "execution_count": 20,
     "metadata": {},
     "output_type": "execute_result"
    }
   ],
   "source": [
    "out_df = pd.DataFrame.from_dict(\n",
    "    {\n",
    "        \"id\": list(test_csv[\"id\"]),\n",
    "        \"rating\": test_predictions\n",
    "    }\n",
    ")\n",
    "\n",
    "out_df.head()"
   ]
  },
  {
   "cell_type": "code",
   "execution_count": 21,
   "id": "00cfbf0b",
   "metadata": {},
   "outputs": [],
   "source": [
    "out_df.to_csv(\"out_svd_gd_3.csv\", index=False)"
   ]
  }
 ],
 "metadata": {
  "kernelspec": {
   "display_name": "Python 3 (ipykernel)",
   "language": "python",
   "name": "python3"
  },
  "language_info": {
   "codemirror_mode": {
    "name": "ipython",
    "version": 3
   },
   "file_extension": ".py",
   "mimetype": "text/x-python",
   "name": "python",
   "nbconvert_exporter": "python",
   "pygments_lexer": "ipython3",
   "version": "3.10.4"
  }
 },
 "nbformat": 4,
 "nbformat_minor": 5
}
