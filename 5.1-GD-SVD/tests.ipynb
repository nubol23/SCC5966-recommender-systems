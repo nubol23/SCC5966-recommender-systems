{
 "cells": [
  {
   "cell_type": "code",
   "execution_count": 3,
   "id": "5503c0dc",
   "metadata": {},
   "outputs": [],
   "source": [
    "import torch\n",
    "import numpy as np"
   ]
  },
  {
   "cell_type": "code",
   "execution_count": 11,
   "id": "74fb8b5a",
   "metadata": {},
   "outputs": [],
   "source": [
    "a, b, c, d = 3., 6., 9., 12."
   ]
  },
  {
   "cell_type": "code",
   "execution_count": 13,
   "id": "7af33ccd",
   "metadata": {},
   "outputs": [
    {
     "name": "stdout",
     "output_type": "stream",
     "text": [
      "tensor([[3., 1.],\n",
      "        [6., 1.],\n",
      "        [9., 1.]], grad_fn=<CatBackward0>)\n"
     ]
    }
   ],
   "source": [
    "theta = torch.tensor([\n",
    "    [a],\n",
    "    [b],\n",
    "    [c]\n",
    "], requires_grad=True)\n",
    "ones_row = torch.ones(3, 1, requires_grad=False)\n",
    "\n",
    "A = torch.concat((theta, ones_row), dim=1)\n",
    "print(A)"
   ]
  },
  {
   "cell_type": "code",
   "execution_count": 15,
   "id": "bdebbdd7",
   "metadata": {},
   "outputs": [
    {
     "name": "stdout",
     "output_type": "stream",
     "text": [
      "tensor([[ 1.],\n",
      "        [12.]])\n"
     ]
    }
   ],
   "source": [
    "B = torch.tensor([\n",
    "    [1],\n",
    "    [d],\n",
    "], requires_grad=False)\n",
    "\n",
    "print(B)"
   ]
  },
  {
   "cell_type": "code",
   "execution_count": 20,
   "id": "f17255a2",
   "metadata": {},
   "outputs": [
    {
     "name": "stdout",
     "output_type": "stream",
     "text": [
      "tensor([[15.],\n",
      "        [18.],\n",
      "        [21.]], grad_fn=<MmBackward0>)\n"
     ]
    }
   ],
   "source": [
    "out = A@B\n",
    "print(out)"
   ]
  },
  {
   "cell_type": "code",
   "execution_count": 22,
   "id": "51a0c4a3",
   "metadata": {},
   "outputs": [
    {
     "name": "stdout",
     "output_type": "stream",
     "text": [
      "None\n"
     ]
    }
   ],
   "source": [
    "print(theta.grad)"
   ]
  },
  {
   "cell_type": "code",
   "execution_count": 25,
   "id": "732f2bd3",
   "metadata": {},
   "outputs": [],
   "source": [
    "out[0].backward()"
   ]
  },
  {
   "cell_type": "code",
   "execution_count": 26,
   "id": "0a0c79d4",
   "metadata": {},
   "outputs": [
    {
     "data": {
      "text/plain": [
       "tensor([[1.],\n",
       "        [0.],\n",
       "        [0.]])"
      ]
     },
     "execution_count": 26,
     "metadata": {},
     "output_type": "execute_result"
    }
   ],
   "source": [
    "theta.grad"
   ]
  }
 ],
 "metadata": {
  "kernelspec": {
   "display_name": "Python 3 (ipykernel)",
   "language": "python",
   "name": "python3"
  },
  "language_info": {
   "codemirror_mode": {
    "name": "ipython",
    "version": 3
   },
   "file_extension": ".py",
   "mimetype": "text/x-python",
   "name": "python",
   "nbconvert_exporter": "python",
   "pygments_lexer": "ipython3",
   "version": "3.10.4"
  }
 },
 "nbformat": 4,
 "nbformat_minor": 5
}
