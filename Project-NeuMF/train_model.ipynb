{
 "cells": [
  {
   "cell_type": "code",
   "execution_count": null,
   "id": "042ca96b",
   "metadata": {},
   "outputs": [],
   "source": [
    "from utils.models import GMF, MLP, NeuFM\n",
    "from utils.dataset import RatingsDataset\n",
    "from torch.utils.data import DataLoader\n",
    "\n",
    "from tqdm.notebook import tqdm\n",
    "\n",
    "import math"
   ]
  },
  {
   "cell_type": "markdown",
   "id": "bcbc9736",
   "metadata": {},
   "source": [
    "## Load"
   ]
  },
  {
   "cell_type": "code",
   "execution_count": null,
   "id": "d80eb43c",
   "metadata": {},
   "outputs": [],
   "source": [
    "run = 4"
   ]
  },
  {
   "cell_type": "code",
   "execution_count": 3,
   "id": "4ed06702",
   "metadata": {},
   "outputs": [],
   "source": [
    "users = 3974\n",
    "movies = 3564\n",
    "\n",
    "train_dataloader = DataLoader(\n",
    "    RatingsDataset(\n",
    "        \"train_data/train.csv\",\n",
    "        \"user_id\",\n",
    "        \"movie_id\",\n",
    "        \"rating\",\n",
    "    ), \n",
    "    batch_size=1024,\n",
    "    num_workers=8,\n",
    "    shuffle=True,\n",
    ")\n",
    "val_dataloader = DataLoader(\n",
    "    RatingsDataset(\n",
    "        \"train_data/validation.csv\",\n",
    "        \"user_id\",\n",
    "        \"movie_id\",\n",
    "        \"rating\",\n",
    "    ),\n",
    "    batch_size=1024,\n",
    "    num_workers=4,\n",
    "    shuffle=True,\n",
    ")"
   ]
  },
  {
   "cell_type": "code",
   "execution_count": 4,
   "id": "ad46fa6b",
   "metadata": {},
   "outputs": [],
   "source": [
    "import torch\n",
    "import torch.nn as nn\n",
    "import torch.optim as opt"
   ]
  },
  {
   "cell_type": "code",
   "execution_count": 5,
   "id": "fd34b4f8",
   "metadata": {},
   "outputs": [
    {
     "data": {
      "text/plain": [
       "<torch._C.Generator at 0x7fc4f229e270>"
      ]
     },
     "execution_count": 5,
     "metadata": {},
     "output_type": "execute_result"
    }
   ],
   "source": [
    "torch.manual_seed(2)"
   ]
  },
  {
   "cell_type": "code",
   "execution_count": 6,
   "id": "f4b617f8",
   "metadata": {},
   "outputs": [
    {
     "data": {
      "text/plain": [
       "NeuFM(\n",
       "  (h): Linear(in_features=24, out_features=1, bias=False)\n",
       "  (gmf): GMF(\n",
       "    (P): Embedding(3974, 16)\n",
       "    (Q): Embedding(3564, 16)\n",
       "    (h): Identity()\n",
       "  )\n",
       "  (mlp): MLP(\n",
       "    (P): Embedding(3974, 16)\n",
       "    (Q): Embedding(3564, 16)\n",
       "    (layers): ModuleList(\n",
       "      (0): Linear(in_features=32, out_features=16, bias=True)\n",
       "      (1): Linear(in_features=16, out_features=8, bias=True)\n",
       "    )\n",
       "    (h): Identity()\n",
       "  )\n",
       ")"
      ]
     },
     "execution_count": 6,
     "metadata": {},
     "output_type": "execute_result"
    }
   ],
   "source": [
    "# model = NeuFM(\n",
    "#     GMF(users, movies, 8),\n",
    "#     MLP(users, movies, 16, [16, 8]),\n",
    "#     alpha=0.5,\n",
    "# ).cuda()\n",
    "\n",
    "model = NeuFM(\n",
    "    GMF(users, movies, 16),\n",
    "    MLP(users, movies, 16, [16, 8]),\n",
    "    alpha=0.5,\n",
    ").cuda()\n",
    "\n",
    "model"
   ]
  },
  {
   "cell_type": "markdown",
   "id": "a596f54a",
   "metadata": {},
   "source": [
    "## Train"
   ]
  },
  {
   "cell_type": "code",
   "execution_count": 7,
   "id": "58fa1f01",
   "metadata": {
    "scrolled": false
   },
   "outputs": [
    {
     "data": {
      "application/vnd.jupyter.widget-view+json": {
       "model_id": "adb592f735714d659698865cc534857b",
       "version_major": 2,
       "version_minor": 0
      },
      "text/plain": [
       "  0%|          | 0/20 [00:00<?, ?it/s]"
      ]
     },
     "metadata": {},
     "output_type": "display_data"
    },
    {
     "name": "stdout",
     "output_type": "stream",
     "text": [
      "epoch: 0, train_loss: 2.5820931031275363, val_loss: 1.0347566846324814\n",
      "epoch: 1, train_loss: 0.9638427902319918, val_loss: 0.935728844367984\n",
      "epoch: 2, train_loss: 0.9159413716897323, val_loss: 0.9147839430213504\n",
      "epoch: 3, train_loss: 0.899503716831985, val_loss: 0.9035387571123404\n",
      "epoch: 4, train_loss: 0.887214823760093, val_loss: 0.8952150905262272\n",
      "epoch: 5, train_loss: 0.8768470997872058, val_loss: 0.8889285789026878\n",
      "epoch: 6, train_loss: 0.8685040389266401, val_loss: 0.8852713042610598\n",
      "epoch: 7, train_loss: 0.8622297532506206, val_loss: 0.8829272402397081\n",
      "epoch: 8, train_loss: 0.8571892774943336, val_loss: 0.8808453327493494\n",
      "epoch: 9, train_loss: 0.8527954632992225, val_loss: 0.8794175176793041\n",
      "epoch: 10, train_loss: 0.8485364062202472, val_loss: 0.8779943497062457\n",
      "epoch: 11, train_loss: 0.8441940447671465, val_loss: 0.8764729657811058\n",
      "epoch: 12, train_loss: 0.8395804849169238, val_loss: 0.8752950169679902\n",
      "epoch: 13, train_loss: 0.8347677517465643, val_loss: 0.8737750775447649\n",
      "epoch: 14, train_loss: 0.8294270502877561, val_loss: 0.8727617578859983\n",
      "epoch: 15, train_loss: 0.8235264617009006, val_loss: 0.8713235096378518\n",
      "epoch: 16, train_loss: 0.8169112991142481, val_loss: 0.8700494568260285\n",
      "epoch: 17, train_loss: 0.8094936262820587, val_loss: 0.8690012152047913\n",
      "epoch: 18, train_loss: 0.8016376233076682, val_loss: 0.8682804224052723\n",
      "epoch: 19, train_loss: 0.7933660747389754, val_loss: 0.8679568715990608\n"
     ]
    }
   ],
   "source": [
    "criterion = nn.MSELoss().cuda()\n",
    "optimizer = opt.Adam(model.parameters(), lr=0.0005, amsgrad=True)\n",
    "\n",
    "prev_val_loss = math.inf\n",
    "for epoch in tqdm(range(20)):\n",
    "    n_batches = len(train_dataloader)\n",
    "    avg_loss = 0\n",
    "    val_loss = 0\n",
    "    \n",
    "    # Train step\n",
    "    for i_batch, (vus, vis, rs) in enumerate(train_dataloader):\n",
    "        vus = vus.cuda()\n",
    "        vis = vis.cuda()\n",
    "        rs = rs.cuda()\n",
    "        \n",
    "        optimizer.zero_grad()\n",
    "        y_hat = model(vus, vis)\n",
    "        \n",
    "        loss = criterion(y_hat, rs)\n",
    "        loss.backward()\n",
    "        optimizer.step()\n",
    "        \n",
    "        avg_loss += math.sqrt(float(loss.detach().cpu()))\n",
    "        \n",
    "    # Val step\n",
    "    with torch.no_grad():\n",
    "        for val_vus, val_vis, val_rs in val_dataloader:\n",
    "            val_vus = val_vus.cuda()\n",
    "            val_vis = val_vis.cuda()\n",
    "            val_rs = val_rs.cuda()\n",
    "\n",
    "            val_pred = model(val_vus, val_vis)\n",
    "            val_loss += math.sqrt(float(criterion(val_pred, val_rs).detach().cpu()))\n",
    "                \n",
    "    val_loss /= len(val_dataloader)\n",
    "    print(f\"epoch: {epoch}, train_loss: {avg_loss/n_batches}, val_loss: {val_loss}\")\n",
    "    \n",
    "    if val_loss < prev_val_loss:\n",
    "        prev_val_loss = val_loss\n",
    "        torch.save(\n",
    "            model.state_dict(), \n",
    "            f\"/home/nubol23/Documents/NCF_weights/run_{run}/{epoch}-{val_loss}.pt\"\n",
    "        )"
   ]
  },
  {
   "cell_type": "markdown",
   "id": "d6f34dab",
   "metadata": {},
   "source": [
    "## Predict"
   ]
  },
  {
   "cell_type": "code",
   "execution_count": 11,
   "id": "864e77a4",
   "metadata": {},
   "outputs": [],
   "source": [
    "trained_weights = \"19-0.8679568715990608.pt\""
   ]
  },
  {
   "cell_type": "code",
   "execution_count": 13,
   "id": "d9f3cdcf",
   "metadata": {},
   "outputs": [
    {
     "data": {
      "text/plain": [
       "NeuFM(\n",
       "  (h): Linear(in_features=24, out_features=1, bias=False)\n",
       "  (gmf): GMF(\n",
       "    (P): Embedding(3974, 16)\n",
       "    (Q): Embedding(3564, 16)\n",
       "    (h): Identity()\n",
       "  )\n",
       "  (mlp): MLP(\n",
       "    (P): Embedding(3974, 16)\n",
       "    (Q): Embedding(3564, 16)\n",
       "    (layers): ModuleList(\n",
       "      (0): Linear(in_features=32, out_features=16, bias=True)\n",
       "      (1): Linear(in_features=16, out_features=8, bias=True)\n",
       "    )\n",
       "    (h): Identity()\n",
       "  )\n",
       ")"
      ]
     },
     "execution_count": 13,
     "metadata": {},
     "output_type": "execute_result"
    }
   ],
   "source": [
    "# trained_model = NeuFM(\n",
    "#     GMF(users, movies, 8),\n",
    "#     MLP(users, movies, 16, [16, 8]),\n",
    "#     alpha=0.5,\n",
    "# )\n",
    "\n",
    "# trained_model = NeuFM(\n",
    "#     GMF(users, movies, 8),\n",
    "#     MLP(users, movies, 32, [32, 16, 8]),\n",
    "#     alpha=0.5\n",
    "# )\n",
    "\n",
    "trained_model = NeuFM(\n",
    "    GMF(users, movies, 16),\n",
    "    MLP(users, movies, 16, [16, 8]),\n",
    "    alpha=0.5,\n",
    ").cuda()\n",
    "\n",
    "trained_model.load_state_dict(\n",
    "    torch.load(\n",
    "        f\"/home/nubol23/Documents/NCF_weights/run_{run}/{trained_weights}\"\n",
    "    )\n",
    ")\n",
    "trained_model.cuda().eval()"
   ]
  },
  {
   "cell_type": "code",
   "execution_count": 14,
   "id": "4ab7c455",
   "metadata": {},
   "outputs": [],
   "source": [
    "test_dataloader = DataLoader(\n",
    "    RatingsDataset(\n",
    "        \"train_data/test.csv\",\n",
    "        \"user_id\",\n",
    "        \"movie_id\",\n",
    "    ), \n",
    "    batch_size=1024,\n",
    "    num_workers=12\n",
    ")"
   ]
  },
  {
   "cell_type": "code",
   "execution_count": 15,
   "id": "92d45087",
   "metadata": {},
   "outputs": [],
   "source": [
    "test_predictions = []\n",
    "\n",
    "for vus, vis in test_dataloader:\n",
    "    vus = vus.cuda()\n",
    "    vis = vis.cuda()\n",
    "\n",
    "    pred = torch.clip(trained_model(vus, vis), 1, 5).cpu().ravel().tolist()\n",
    "    test_predictions += pred"
   ]
  },
  {
   "cell_type": "code",
   "execution_count": 16,
   "id": "7133c598",
   "metadata": {},
   "outputs": [],
   "source": [
    "import pandas as pd\n",
    "\n",
    "test_csv = pd.read_csv(\"../../data/test_data.csv\")"
   ]
  },
  {
   "cell_type": "code",
   "execution_count": 17,
   "id": "c0ae7aa8",
   "metadata": {
    "scrolled": true
   },
   "outputs": [
    {
     "data": {
      "text/html": [
       "<div>\n",
       "<style scoped>\n",
       "    .dataframe tbody tr th:only-of-type {\n",
       "        vertical-align: middle;\n",
       "    }\n",
       "\n",
       "    .dataframe tbody tr th {\n",
       "        vertical-align: top;\n",
       "    }\n",
       "\n",
       "    .dataframe thead th {\n",
       "        text-align: right;\n",
       "    }\n",
       "</style>\n",
       "<table border=\"1\" class=\"dataframe\">\n",
       "  <thead>\n",
       "    <tr style=\"text-align: right;\">\n",
       "      <th></th>\n",
       "      <th>id</th>\n",
       "      <th>rating</th>\n",
       "    </tr>\n",
       "  </thead>\n",
       "  <tbody>\n",
       "    <tr>\n",
       "      <th>0</th>\n",
       "      <td>0</td>\n",
       "      <td>3.146729</td>\n",
       "    </tr>\n",
       "    <tr>\n",
       "      <th>1</th>\n",
       "      <td>1</td>\n",
       "      <td>2.996804</td>\n",
       "    </tr>\n",
       "    <tr>\n",
       "      <th>2</th>\n",
       "      <td>2</td>\n",
       "      <td>2.907517</td>\n",
       "    </tr>\n",
       "    <tr>\n",
       "      <th>3</th>\n",
       "      <td>3</td>\n",
       "      <td>3.363933</td>\n",
       "    </tr>\n",
       "    <tr>\n",
       "      <th>4</th>\n",
       "      <td>4</td>\n",
       "      <td>3.030551</td>\n",
       "    </tr>\n",
       "  </tbody>\n",
       "</table>\n",
       "</div>"
      ],
      "text/plain": [
       "   id    rating\n",
       "0   0  3.146729\n",
       "1   1  2.996804\n",
       "2   2  2.907517\n",
       "3   3  3.363933\n",
       "4   4  3.030551"
      ]
     },
     "execution_count": 17,
     "metadata": {},
     "output_type": "execute_result"
    }
   ],
   "source": [
    "out_df = pd.DataFrame.from_dict(\n",
    "    {\n",
    "        \"id\": list(test_csv[\"id\"]),\n",
    "        \"rating\": test_predictions\n",
    "    }\n",
    ")\n",
    "\n",
    "out_df.head()"
   ]
  },
  {
   "cell_type": "code",
   "execution_count": null,
   "id": "b7c7bea5",
   "metadata": {},
   "outputs": [],
   "source": [
    "# out_df.to_csv(f\"outputs_csv/neumf_5.csv\", index=False)"
   ]
  }
 ],
 "metadata": {
  "kernelspec": {
   "display_name": "Python 3 (ipykernel)",
   "language": "python",
   "name": "python3"
  },
  "language_info": {
   "codemirror_mode": {
    "name": "ipython",
    "version": 3
   },
   "file_extension": ".py",
   "mimetype": "text/x-python",
   "name": "python",
   "nbconvert_exporter": "python",
   "pygments_lexer": "ipython3",
   "version": "3.10.4"
  }
 },
 "nbformat": 4,
 "nbformat_minor": 5
}
