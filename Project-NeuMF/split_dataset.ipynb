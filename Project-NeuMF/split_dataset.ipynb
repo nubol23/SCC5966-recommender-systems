{
 "cells": [
  {
   "cell_type": "code",
   "execution_count": 1,
   "id": "0a868fb6",
   "metadata": {},
   "outputs": [],
   "source": [
    "import pandas as pd"
   ]
  },
  {
   "cell_type": "code",
   "execution_count": 2,
   "id": "b299f915",
   "metadata": {},
   "outputs": [],
   "source": [
    "train_csv = pd.read_csv(\"../../data/train_data.csv\")\n",
    "test_csv = pd.read_csv(\"../../data/test_data.csv\")\n",
    "\n",
    "# Split into train and validation\n",
    "train_data = train_csv.drop([\"timestamp\"], axis=1).sample(frac=0.8)\n",
    "validation_data = train_csv.drop(train_data.index).drop([\"timestamp\"], axis=1)\n",
    "\n",
    "assert train_data.shape[0] + validation_data.shape[0] == train_csv.shape[0]"
   ]
  },
  {
   "cell_type": "code",
   "execution_count": 4,
   "id": "69db9607",
   "metadata": {},
   "outputs": [
    {
     "data": {
      "text/html": [
       "<div>\n",
       "<style scoped>\n",
       "    .dataframe tbody tr th:only-of-type {\n",
       "        vertical-align: middle;\n",
       "    }\n",
       "\n",
       "    .dataframe tbody tr th {\n",
       "        vertical-align: top;\n",
       "    }\n",
       "\n",
       "    .dataframe thead th {\n",
       "        text-align: right;\n",
       "    }\n",
       "</style>\n",
       "<table border=\"1\" class=\"dataframe\">\n",
       "  <thead>\n",
       "    <tr style=\"text-align: right;\">\n",
       "      <th></th>\n",
       "      <th>user_id</th>\n",
       "      <th>movie_id</th>\n",
       "      <th>rating</th>\n",
       "    </tr>\n",
       "  </thead>\n",
       "  <tbody>\n",
       "    <tr>\n",
       "      <th>2</th>\n",
       "      <td>1</td>\n",
       "      <td>3328</td>\n",
       "      <td>4</td>\n",
       "    </tr>\n",
       "    <tr>\n",
       "      <th>8</th>\n",
       "      <td>1</td>\n",
       "      <td>32</td>\n",
       "      <td>3</td>\n",
       "    </tr>\n",
       "    <tr>\n",
       "      <th>11</th>\n",
       "      <td>1</td>\n",
       "      <td>821</td>\n",
       "      <td>4</td>\n",
       "    </tr>\n",
       "    <tr>\n",
       "      <th>17</th>\n",
       "      <td>1</td>\n",
       "      <td>2677</td>\n",
       "      <td>2</td>\n",
       "    </tr>\n",
       "    <tr>\n",
       "      <th>20</th>\n",
       "      <td>1</td>\n",
       "      <td>2226</td>\n",
       "      <td>4</td>\n",
       "    </tr>\n",
       "  </tbody>\n",
       "</table>\n",
       "</div>"
      ],
      "text/plain": [
       "    user_id  movie_id  rating\n",
       "2         1      3328       4\n",
       "8         1        32       3\n",
       "11        1       821       4\n",
       "17        1      2677       2\n",
       "20        1      2226       4"
      ]
     },
     "execution_count": 4,
     "metadata": {},
     "output_type": "execute_result"
    }
   ],
   "source": [
    "train_data.to_csv(\"train_data/train.csv\", index=False)\n",
    "validation_data.to_csv(\"train_data/validation.csv\", index=False)"
   ]
  },
  {
   "cell_type": "code",
   "execution_count": 1,
   "id": "21d00729",
   "metadata": {},
   "outputs": [],
   "source": [
    "import torch"
   ]
  },
  {
   "cell_type": "code",
   "execution_count": 2,
   "id": "867e0595",
   "metadata": {},
   "outputs": [],
   "source": [
    "arr_1 = torch.randn(10, 3)\n",
    "arr_2 = torch.randn(10, 3)"
   ]
  },
  {
   "cell_type": "code",
   "execution_count": 6,
   "id": "b160f2f0",
   "metadata": {},
   "outputs": [
    {
     "data": {
      "text/plain": [
       "tensor([[-0.4751],\n",
       "        [-2.9752],\n",
       "        [ 1.1572],\n",
       "        [ 1.9138],\n",
       "        [ 0.7088],\n",
       "        [-0.3788],\n",
       "        [-0.7005],\n",
       "        [ 0.4072],\n",
       "        [-1.4077],\n",
       "        [ 1.1425]])"
      ]
     },
     "execution_count": 6,
     "metadata": {},
     "output_type": "execute_result"
    }
   ],
   "source": [
    "torch.sum(arr_1 * arr_2, dim=1, keepdim=True)"
   ]
  }
 ],
 "metadata": {
  "kernelspec": {
   "display_name": "Python 3 (ipykernel)",
   "language": "python",
   "name": "python3"
  },
  "language_info": {
   "codemirror_mode": {
    "name": "ipython",
    "version": 3
   },
   "file_extension": ".py",
   "mimetype": "text/x-python",
   "name": "python",
   "nbconvert_exporter": "python",
   "pygments_lexer": "ipython3",
   "version": "3.10.4"
  }
 },
 "nbformat": 4,
 "nbformat_minor": 5
}
