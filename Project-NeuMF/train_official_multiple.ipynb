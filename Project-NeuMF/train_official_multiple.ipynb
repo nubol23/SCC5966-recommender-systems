{
 "cells": [
  {
   "cell_type": "code",
   "execution_count": 1,
   "id": "2297ba91",
   "metadata": {},
   "outputs": [],
   "source": [
    "from utils.models import GMF, MLP, NeuFM\n",
    "from utils.dataset import RatingsDataset\n",
    "from torch.utils.data import DataLoader\n",
    "\n",
    "from tqdm.notebook import tqdm\n",
    "\n",
    "import math\n",
    "\n",
    "import os\n",
    "\n",
    "import pandas as pd\n",
    "\n",
    "import numpy as np"
   ]
  },
  {
   "cell_type": "markdown",
   "id": "24cf94a1",
   "metadata": {},
   "source": [
    "## Load"
   ]
  },
  {
   "cell_type": "code",
   "execution_count": 2,
   "id": "3bee98f8",
   "metadata": {},
   "outputs": [],
   "source": [
    "users = 3974\n",
    "movies = 3564\n",
    "\n",
    "train_dataloader = DataLoader(\n",
    "    RatingsDataset(\n",
    "        \"train_data/train.csv\",\n",
    "        \"user_id\",\n",
    "        \"movie_id\",\n",
    "        \"rating\",\n",
    "    ), \n",
    "    batch_size=1024,\n",
    "    num_workers=8,\n",
    "    shuffle=True,\n",
    ")\n",
    "val_dataloader = DataLoader(\n",
    "    RatingsDataset(\n",
    "        \"train_data/validation.csv\",\n",
    "        \"user_id\",\n",
    "        \"movie_id\",\n",
    "        \"rating\",\n",
    "    ),\n",
    "    batch_size=1024,\n",
    "    num_workers=4,\n",
    "    shuffle=True,\n",
    ")"
   ]
  },
  {
   "cell_type": "code",
   "execution_count": 3,
   "id": "16879f3d",
   "metadata": {},
   "outputs": [],
   "source": [
    "import torch\n",
    "import torch.nn as nn\n",
    "import torch.optim as opt"
   ]
  },
  {
   "cell_type": "code",
   "execution_count": 4,
   "id": "712bc538",
   "metadata": {},
   "outputs": [],
   "source": [
    "def define_model(k_gmf, k_mlp, layer_sizes, alpha=0.5):\n",
    "    return NeuFM(\n",
    "        GMF(users, movies, k_gmf),\n",
    "        MLP(users, movies, k_mlp, layer_sizes),\n",
    "        alpha=alpha,\n",
    "    ).cuda()"
   ]
  },
  {
   "cell_type": "code",
   "execution_count": 5,
   "id": "2310c052",
   "metadata": {},
   "outputs": [],
   "source": [
    "def train(model, lr, epochs, train_dataloader, val_dataloader=None, show_loss=True):\n",
    "    criterion = nn.MSELoss().cuda()\n",
    "    optimizer = opt.Adam(model.parameters(), lr=lr)\n",
    "    \n",
    "    avg_losses = []\n",
    "    \n",
    "    model_state = None\n",
    "    best_epoch = 0\n",
    "    prev_val_loss = math.inf\n",
    "    for epoch in tqdm(range(epochs)):\n",
    "        n_batches = len(train_dataloader)\n",
    "        avg_loss = 0\n",
    "        val_loss = 0\n",
    "\n",
    "        # Train step\n",
    "        for i_batch, (vus, vis, rs) in enumerate(train_dataloader):\n",
    "            vus = vus.cuda()\n",
    "            vis = vis.cuda()\n",
    "            rs = rs.cuda()\n",
    "\n",
    "            optimizer.zero_grad()\n",
    "            y_hat = model(vus, vis)\n",
    "\n",
    "            loss = criterion(y_hat, rs)\n",
    "            loss.backward()\n",
    "            optimizer.step()\n",
    "\n",
    "            avg_loss += math.sqrt(float(loss.detach().cpu()))\n",
    "        \n",
    "        avg_loss /= n_batches\n",
    "        \n",
    "        # Val step\n",
    "        if val_dataloader is not None:\n",
    "            with torch.no_grad():\n",
    "                for val_vus, val_vis, val_rs in val_dataloader:\n",
    "                    val_vus = val_vus.cuda()\n",
    "                    val_vis = val_vis.cuda()\n",
    "                    val_rs = val_rs.cuda()\n",
    "\n",
    "                    val_pred = model(val_vus, val_vis)\n",
    "                    val_loss += math.sqrt(float(criterion(val_pred, val_rs).detach().cpu()))\n",
    "\n",
    "            val_loss /= len(val_dataloader)\n",
    "            if show_loss:\n",
    "                print(f\"epoch: {epoch+1}, train_loss: {avg_loss}, val_loss: {val_loss}\")\n",
    "            \n",
    "            avg_losses.append([avg_loss, val_loss])\n",
    "        else:\n",
    "            val_loss = avg_loss\n",
    "            if show_loss:\n",
    "                print(f\"epoch: {epoch+1}, train_loss: {avg_loss}\")\n",
    "            \n",
    "            avg_losses.append([avg_loss])\n",
    "                  \n",
    "        if val_loss < prev_val_loss:\n",
    "            prev_val_loss = val_loss\n",
    "            model_state = model.state_dict()\n",
    "            best_epoch = epoch\n",
    "        \n",
    "    return best_epoch, prev_val_loss, model_state, avg_losses"
   ]
  },
  {
   "cell_type": "code",
   "execution_count": 6,
   "id": "a1e926e2",
   "metadata": {},
   "outputs": [],
   "source": [
    "def fit(\n",
    "    train_dataloader, val_dataloader,\n",
    "    k_gmf, k_mlp, layer_sizes, alpha=0.5, lr=0.0005, epochs=40, \n",
    "    weight_path=\"/home/\", run_number=1, random_state=None, show_loss=True\n",
    "):\n",
    "    if random_state is not None:\n",
    "        torch.manual_seed(random_state)\n",
    "        \n",
    "    model = define_model(k_gmf, k_mlp, layer_sizes, alpha)\n",
    "    \n",
    "    best_epoch, val_loss, model_state, losses = train(\n",
    "        model, lr, epochs, train_dataloader, val_dataloader, show_loss\n",
    "    )\n",
    "    \n",
    "    run_path = f\"{weight_path}/run_{run_number}\"\n",
    "    if not os.path.isdir(run_path):\n",
    "        os.makedirs(run_path)\n",
    "    \n",
    "    if val_dataloader is None:\n",
    "        torch.save(\n",
    "            model_state, \n",
    "            f\"{run_path}/final-{best_epoch+1}-{val_loss}.pt\"\n",
    "        )\n",
    "    else:\n",
    "        torch.save(\n",
    "            model_state, \n",
    "            f\"{run_path}/{best_epoch+1}-{val_loss}.pt\"\n",
    "        )\n",
    "        \n",
    "    return np.asarray(losses)"
   ]
  },
  {
   "cell_type": "code",
   "execution_count": 7,
   "id": "3109d18b",
   "metadata": {},
   "outputs": [],
   "source": [
    "def predict(weight_path, k_gmf, k_mlp, layer_sizes, alpha, out_path, out_name):\n",
    "    trained_model = NeuFM(\n",
    "        GMF(users, movies, k_gmf),\n",
    "        MLP(users, movies, k_mlp, layer_sizes),\n",
    "        alpha,\n",
    "    ).cuda()\n",
    "    \n",
    "    trained_model.load_state_dict(torch.load(weight_path))\n",
    "    trained_model.cuda().eval()\n",
    "    \n",
    "    test_dataloader = DataLoader(\n",
    "        RatingsDataset(\n",
    "            \"train_data/test.csv\",\n",
    "            \"user_id\",\n",
    "            \"movie_id\",\n",
    "        ), \n",
    "        batch_size=1024,\n",
    "        num_workers=12\n",
    "    )\n",
    "    \n",
    "    test_predictions = []\n",
    "\n",
    "    for vus, vis in test_dataloader:\n",
    "        vus = vus.cuda()\n",
    "        vis = vis.cuda()\n",
    "\n",
    "        pred = torch.clip(trained_model(vus, vis), 1, 5).cpu().ravel().tolist()\n",
    "        test_predictions += pred\n",
    "        \n",
    "    test_csv = pd.read_csv(\"../../data/test_data.csv\")\n",
    "    \n",
    "    out_df = pd.DataFrame.from_dict(\n",
    "        {\n",
    "            \"id\": list(test_csv[\"id\"]),\n",
    "            \"rating\": test_predictions\n",
    "        }\n",
    "    )\n",
    "\n",
    "    out_df.to_csv(f\"{out_path}/{out_name}.csv\", index=False)\n",
    "    out_df.head()"
   ]
  },
  {
   "cell_type": "markdown",
   "id": "ec4bc757",
   "metadata": {},
   "source": [
    "# Train"
   ]
  },
  {
   "cell_type": "code",
   "execution_count": null,
   "id": "5150876e",
   "metadata": {
    "scrolled": false
   },
   "outputs": [
    {
     "data": {
      "application/vnd.jupyter.widget-view+json": {
       "model_id": "f0a00a2d629546e6971e583647c3dd48",
       "version_major": 2,
       "version_minor": 0
      },
      "text/plain": [
       "0it [00:00, ?it/s]"
      ]
     },
     "metadata": {},
     "output_type": "display_data"
    },
    {
     "name": "stdout",
     "output_type": "stream",
     "text": [
      "k_gmf=8 k_mlp=16 layers=[16, 8] lr=0.0001 epochs=75\n"
     ]
    },
    {
     "data": {
      "application/vnd.jupyter.widget-view+json": {
       "model_id": "5f09bcbc90fd4133a972ab7183419092",
       "version_major": 2,
       "version_minor": 0
      },
      "text/plain": [
       "  0%|          | 0/75 [00:00<?, ?it/s]"
      ]
     },
     "metadata": {},
     "output_type": "display_data"
    },
    {
     "name": "stdout",
     "output_type": "stream",
     "text": [
      "k_gmf=8 k_mlp=16 layers=[16, 8] lr=0.0006 epochs=50\n"
     ]
    },
    {
     "data": {
      "application/vnd.jupyter.widget-view+json": {
       "model_id": "85bc2d4f3f4148708fab556d0707a04d",
       "version_major": 2,
       "version_minor": 0
      },
      "text/plain": [
       "  0%|          | 0/50 [00:00<?, ?it/s]"
      ]
     },
     "metadata": {},
     "output_type": "display_data"
    },
    {
     "name": "stdout",
     "output_type": "stream",
     "text": [
      "k_gmf=8 k_mlp=16 layers=[16, 8] lr=0.0008 epochs=50\n"
     ]
    },
    {
     "data": {
      "application/vnd.jupyter.widget-view+json": {
       "model_id": "17cd1a4da8ed43c7b7ed812700b38d38",
       "version_major": 2,
       "version_minor": 0
      },
      "text/plain": [
       "  0%|          | 0/50 [00:00<?, ?it/s]"
      ]
     },
     "metadata": {},
     "output_type": "display_data"
    },
    {
     "name": "stdout",
     "output_type": "stream",
     "text": [
      "k_gmf=16 k_mlp=16 layers=[16, 8] lr=0.001 epochs=50\n"
     ]
    },
    {
     "data": {
      "application/vnd.jupyter.widget-view+json": {
       "model_id": "0a5412e1322848e18b0c8fdb743debd1",
       "version_major": 2,
       "version_minor": 0
      },
      "text/plain": [
       "  0%|          | 0/50 [00:00<?, ?it/s]"
      ]
     },
     "metadata": {},
     "output_type": "display_data"
    },
    {
     "name": "stdout",
     "output_type": "stream",
     "text": [
      "k_gmf=16 k_mlp=32 layers=[32, 16, 8] lr=0.001 epochs=50\n"
     ]
    },
    {
     "data": {
      "application/vnd.jupyter.widget-view+json": {
       "model_id": "85a5207a616d41c1b19afd3bd69910b7",
       "version_major": 2,
       "version_minor": 0
      },
      "text/plain": [
       "  0%|          | 0/50 [00:00<?, ?it/s]"
      ]
     },
     "metadata": {},
     "output_type": "display_data"
    },
    {
     "name": "stdout",
     "output_type": "stream",
     "text": [
      "k_gmf=32 k_mlp=16 layers=[16, 8] lr=0.001 epochs=50\n"
     ]
    },
    {
     "data": {
      "application/vnd.jupyter.widget-view+json": {
       "model_id": "674ff8d2058c40428e52772733081cb0",
       "version_major": 2,
       "version_minor": 0
      },
      "text/plain": [
       "  0%|          | 0/50 [00:00<?, ?it/s]"
      ]
     },
     "metadata": {},
     "output_type": "display_data"
    },
    {
     "name": "stdout",
     "output_type": "stream",
     "text": [
      "k_gmf=32 k_mlp=16 layers=[16, 8] lr=0.005 epochs=50\n"
     ]
    },
    {
     "data": {
      "application/vnd.jupyter.widget-view+json": {
       "model_id": "2606850accbd45d994afffeadf5bdee8",
       "version_major": 2,
       "version_minor": 0
      },
      "text/plain": [
       "  0%|          | 0/50 [00:00<?, ?it/s]"
      ]
     },
     "metadata": {},
     "output_type": "display_data"
    },
    {
     "name": "stdout",
     "output_type": "stream",
     "text": [
      "k_gmf=32 k_mlp=16 layers=[16, 8] lr=0.01 epochs=50\n"
     ]
    },
    {
     "data": {
      "application/vnd.jupyter.widget-view+json": {
       "model_id": "1867f351b5e64ec89c8201e317bb9063",
       "version_major": 2,
       "version_minor": 0
      },
      "text/plain": [
       "  0%|          | 0/50 [00:00<?, ?it/s]"
      ]
     },
     "metadata": {},
     "output_type": "display_data"
    },
    {
     "name": "stdout",
     "output_type": "stream",
     "text": [
      "k_gmf=32 k_mlp=32 layers=[32, 16, 8] lr=0.01 epochs=50\n"
     ]
    },
    {
     "data": {
      "application/vnd.jupyter.widget-view+json": {
       "model_id": "56f347fb6a554bcca65dee19501c5c9c",
       "version_major": 2,
       "version_minor": 0
      },
      "text/plain": [
       "  0%|          | 0/50 [00:00<?, ?it/s]"
      ]
     },
     "metadata": {},
     "output_type": "display_data"
    },
    {
     "name": "stdout",
     "output_type": "stream",
     "text": [
      "k_gmf=32 k_mlp=32 layers=[32, 16, 8] lr=0.01 epochs=100\n"
     ]
    },
    {
     "data": {
      "application/vnd.jupyter.widget-view+json": {
       "model_id": "221bcc1d5aa9411e9cf9b9569acfdcdf",
       "version_major": 2,
       "version_minor": 0
      },
      "text/plain": [
       "  0%|          | 0/100 [00:00<?, ?it/s]"
      ]
     },
     "metadata": {},
     "output_type": "display_data"
    }
   ],
   "source": [
    "losses_fit = []\n",
    "\n",
    "for run_number, (k_gmf, k_mlp, layers, lr, epochs) in tqdm(enumerate([\n",
    "    (8, 16, [16, 8], 0.0001, 75),\n",
    "    (8, 16, [16, 8], 0.0006, 50),\n",
    "    (8, 16, [16, 8], 0.0008, 50),\n",
    "    (16, 16, [16, 8], 0.001, 50),\n",
    "    (16, 32, [32, 16, 8], 0.001, 50),\n",
    "    (32, 16, [16, 8], 0.001, 50),\n",
    "    (32, 16, [16, 8], 0.005, 50), #*\n",
    "    (32, 16, [16, 8], 0.01, 50),\n",
    "    (32, 32, [32, 16, 8], 0.01, 50),\n",
    "    (32, 32, [32, 16, 8], 0.01, 100),\n",
    "])):\n",
    "    print(f\"{k_gmf=} {k_mlp=} {layers=} {lr=} {epochs=}\")\n",
    "    losses_fit.append(\n",
    "        fit(\n",
    "            train_dataloader, val_dataloader,\n",
    "            k_gmf,\n",
    "            k_mlp,\n",
    "            layers,\n",
    "            0.5,\n",
    "            lr,\n",
    "            epochs,\n",
    "            weight_path=\"/home/nubol23/Documents/NCF_weights_multiple\",\n",
    "            run_number=run_number,\n",
    "            random_state=2,\n",
    "            show_loss=False,\n",
    "        )\n",
    "    )"
   ]
  },
  {
   "cell_type": "markdown",
   "id": "c0bf6bbf",
   "metadata": {},
   "source": [
    "## Total fit"
   ]
  },
  {
   "cell_type": "code",
   "execution_count": null,
   "id": "efc9f08f",
   "metadata": {},
   "outputs": [],
   "source": [
    "total_dataloader = DataLoader(\n",
    "    RatingsDataset(\n",
    "        \"train_data/total.csv\",\n",
    "        \"user_id\",\n",
    "        \"movie_id\",\n",
    "        \"rating\",\n",
    "    ), \n",
    "    batch_size=1024,\n",
    "    num_workers=12,\n",
    "    shuffle=True,\n",
    ")"
   ]
  },
  {
   "cell_type": "code",
   "execution_count": null,
   "id": "f05fecdc",
   "metadata": {},
   "outputs": [],
   "source": [
    "# k_gmf, k_mlp, layers, lr, epochs = (16, 16, [16, 8], 0.001, 16)\n",
    "k_gmf, k_mlp, layers, lr, epochs = (32, 16, [16, 8], 0.001, 12)\n",
    "\n",
    "fit(\n",
    "    total_dataloader, val_dataloader=None,\n",
    "    k_gmf=k_gmf,\n",
    "    k_mlp=k_mlp,\n",
    "    layer_sizes=layers,\n",
    "    alpha=0.5,\n",
    "    lr=lr,\n",
    "    epochs=epochs,\n",
    "    weight_path=\"/home/nubol23/Documents/NCF_dot_weights_multiple/\",\n",
    "    run_number=5,\n",
    "#     random_state=2,\n",
    ")"
   ]
  },
  {
   "cell_type": "markdown",
   "id": "81a2da01",
   "metadata": {},
   "source": [
    "## Predict"
   ]
  },
  {
   "cell_type": "code",
   "execution_count": null,
   "id": "cf1d11eb",
   "metadata": {},
   "outputs": [],
   "source": [
    "out_path = \"/home/nubol23/Desktop/Codes/USP/SCC5966/kaggle/notebooks/Project-NeuMF/outputs_csv/neumf_dot\"\n",
    "out_name = \"neumf_dot_8\"\n",
    "\n",
    "predict(\n",
    "    \"/home/nubol23/Documents/NCF_dot_weights_multiple/run_5/final-12-0.7520240861793046.pt\",\n",
    "    k_gmf=k_gmf,\n",
    "    k_mlp=k_mlp,\n",
    "    layer_sizes=layers,\n",
    "    alpha=0.5,\n",
    "    out_path=out_path,\n",
    "    out_name=out_name,\n",
    ")"
   ]
  },
  {
   "cell_type": "code",
   "execution_count": null,
   "id": "30246706",
   "metadata": {},
   "outputs": [],
   "source": [
    "pd.read_csv(f\"{out_path}/{out_name}.csv\")"
   ]
  }
 ],
 "metadata": {
  "kernelspec": {
   "display_name": "Python 3 (ipykernel)",
   "language": "python",
   "name": "python3"
  },
  "language_info": {
   "codemirror_mode": {
    "name": "ipython",
    "version": 3
   },
   "file_extension": ".py",
   "mimetype": "text/x-python",
   "name": "python",
   "nbconvert_exporter": "python",
   "pygments_lexer": "ipython3",
   "version": "3.10.4"
  }
 },
 "nbformat": 4,
 "nbformat_minor": 5
}
