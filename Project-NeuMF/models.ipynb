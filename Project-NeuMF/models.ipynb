{
 "cells": [
  {
   "cell_type": "code",
   "execution_count": 1,
   "id": "d46fce7e",
   "metadata": {},
   "outputs": [],
   "source": [
    "from utils.models import GMF, MLP, NeuFM\n",
    "from utils.dataset import RatingsDataset\n",
    "from torch.utils.data import DataLoader\n",
    "\n",
    "from tqdm.notebook import tqdm"
   ]
  },
  {
   "cell_type": "code",
   "execution_count": 2,
   "id": "d7bda3fd",
   "metadata": {},
   "outputs": [],
   "source": [
    "users = 3974\n",
    "movies = 3564\n",
    "\n",
    "dataloader = DataLoader(\n",
    "    RatingsDataset(\n",
    "        \"/home/nubol23/Desktop/Codes/USP/SCC5966/kaggle/data/train_data.csv\",\n",
    "        \"user_id\",\n",
    "        \"movie_id\",\n",
    "        \"rating\",\n",
    "    ), \n",
    "    batch_size=1024,\n",
    "    num_workers=12\n",
    ")"
   ]
  },
  {
   "cell_type": "code",
   "execution_count": 3,
   "id": "8e3fe82f",
   "metadata": {},
   "outputs": [],
   "source": [
    "import torch\n",
    "import torch.nn as nn\n",
    "import torch.optim as opt"
   ]
  },
  {
   "cell_type": "code",
   "execution_count": 4,
   "id": "8d937b31",
   "metadata": {},
   "outputs": [
    {
     "data": {
      "text/plain": [
       "NeuFM(\n",
       "  (h): Linear(in_features=16, out_features=1, bias=False)\n",
       "  (gmf): GMF(\n",
       "    (P): Embedding(3974, 8)\n",
       "    (Q): Embedding(3564, 8)\n",
       "    (h): Identity()\n",
       "  )\n",
       "  (mlp): MLP(\n",
       "    (P): Embedding(3974, 16)\n",
       "    (Q): Embedding(3564, 16)\n",
       "    (layers): ModuleList(\n",
       "      (0): Linear(in_features=32, out_features=16, bias=True)\n",
       "      (1): Linear(in_features=16, out_features=8, bias=True)\n",
       "    )\n",
       "    (h): Identity()\n",
       "  )\n",
       ")"
      ]
     },
     "execution_count": 4,
     "metadata": {},
     "output_type": "execute_result"
    }
   ],
   "source": [
    "# model = GMF(users, movies, 5).cuda()\n",
    "# model = MLP(users, movies, 150, [100, 50, 20]).cuda()\n",
    "\n",
    "# model = NeuFM(\n",
    "#     GMF(users, movies, 5),\n",
    "#     MLP(users, movies, 50, [20, 10]),\n",
    "#     alpha=0.5,\n",
    "# ).cuda()\n",
    "\n",
    "model = NeuFM(\n",
    "    GMF(users, movies, 8),\n",
    "    MLP(users, movies, 16, [16, 8]),\n",
    "    alpha=0.5,\n",
    ").cuda()\n",
    "\n",
    "model"
   ]
  },
  {
   "cell_type": "code",
   "execution_count": 5,
   "id": "6fc0dee8",
   "metadata": {
    "scrolled": false
   },
   "outputs": [
    {
     "data": {
      "application/vnd.jupyter.widget-view+json": {
       "model_id": "b47134bcf49f45049aec3def16060df6",
       "version_major": 2,
       "version_minor": 0
      },
      "text/plain": [
       "  0%|          | 0/15 [00:00<?, ?it/s]"
      ]
     },
     "metadata": {},
     "output_type": "display_data"
    },
    {
     "name": "stdout",
     "output_type": "stream",
     "text": [
      "1.9855452188439953\n",
      "0.8885492501026802\n",
      "0.8298564409936657\n",
      "0.8122035477680104\n",
      "0.8689546857512634\n",
      "0.8540474959570943\n",
      "0.8136694832840039\n",
      "0.8077013753638923\n",
      "0.7586306944944476\n",
      "0.6939768823048541\n",
      "0.6804616081578131\n",
      "0.6883360151457423\n",
      "0.6868850897059186\n",
      "0.7275477177427925\n",
      "0.7001948936749961\n"
     ]
    }
   ],
   "source": [
    "criterion = nn.MSELoss().cuda()\n",
    "# optimizer = opt.Adam(model.parameters(), lr=0.01, weight_decay=1e-5)\n",
    "optimizer = opt.Adam(model.parameters(), lr=0.005)\n",
    "\n",
    "for epoch in tqdm(range(15)):\n",
    "    n_batches = len(dataloader)\n",
    "    avg_loss = 0\n",
    "    for i_batch, (vus, vis, rs) in enumerate(dataloader):\n",
    "        vus = vus.cuda()\n",
    "        vis = vis.cuda()\n",
    "        rs = rs.cuda()\n",
    "        \n",
    "        optimizer.zero_grad()\n",
    "        y_hat = model(vus, vis)\n",
    "        \n",
    "        loss = criterion(y_hat, rs)\n",
    "        loss.backward()\n",
    "        \n",
    "        optimizer.step()\n",
    "        \n",
    "        avg_loss += float(loss.detach().cpu())\n",
    "    print(avg_loss/n_batches)"
   ]
  },
  {
   "cell_type": "code",
   "execution_count": 6,
   "id": "3fb1cfe5",
   "metadata": {},
   "outputs": [
    {
     "name": "stdout",
     "output_type": "stream",
     "text": [
      "tensor([4.5011, 3.6050, 4.2378,  ..., 4.5140, 3.8894, 2.5216], device='cuda:0')\n",
      "tensor([5., 3., 4.,  ..., 4., 5., 3.], device='cuda:0')\n",
      "\n",
      "tensor([3.6454, 2.1259, 1.7618,  ..., 2.8171, 3.4809, 4.2134], device='cuda:0')\n",
      "tensor([3., 2., 3.,  ..., 2., 4., 3.], device='cuda:0')\n",
      "\n",
      "tensor([3.8363, 3.1497, 2.6374,  ..., 2.1573, 1.2289, 2.2628], device='cuda:0')\n",
      "tensor([4., 2., 1.,  ..., 5., 1., 3.], device='cuda:0')\n",
      "\n",
      "tensor([1.0000, 1.4061, 1.8877,  ..., 3.3614, 3.5249, 4.3694], device='cuda:0')\n",
      "tensor([1., 1., 1.,  ..., 3., 3., 4.], device='cuda:0')\n",
      "\n",
      "tensor([4.8997, 4.9617, 3.4223,  ..., 2.2679, 1.5330, 1.4333], device='cuda:0')\n",
      "tensor([4., 5., 3.,  ..., 2., 1., 1.], device='cuda:0')\n",
      "\n",
      "tensor([2.2482, 1.0288, 3.1948,  ..., 3.5372, 3.5879, 5.0000], device='cuda:0')\n",
      "tensor([1., 1., 4.,  ..., 2., 4., 5.], device='cuda:0')\n",
      "\n",
      "tensor([3.7750, 4.7802, 3.4227,  ..., 4.2099, 3.6523, 4.7603], device='cuda:0')\n",
      "tensor([5., 5., 3.,  ..., 4., 4., 5.], device='cuda:0')\n",
      "\n",
      "tensor([4.6031, 4.0741, 5.0000,  ..., 2.1842, 3.3806, 2.6749], device='cuda:0')\n",
      "tensor([4., 4., 4.,  ..., 3., 3., 1.], device='cuda:0')\n",
      "\n",
      "tensor([2.5300, 3.6140, 2.6333,  ..., 4.5109, 4.5968, 3.5749], device='cuda:0')\n",
      "tensor([3., 3., 3.,  ..., 5., 3., 3.], device='cuda:0')\n",
      "\n",
      "tensor([3.4220, 4.6828, 5.0000,  ..., 2.2412, 2.6851, 2.6809], device='cuda:0')\n",
      "tensor([3., 5., 4.,  ..., 2., 2., 3.], device='cuda:0')\n",
      "\n"
     ]
    }
   ],
   "source": [
    "with torch.no_grad():\n",
    "    k = 0\n",
    "    for vus, vis, rs in dataloader:\n",
    "        if k == 10:\n",
    "            break\n",
    "        \n",
    "        vus = vus.cuda()\n",
    "        vis = vis.cuda()\n",
    "        rs = rs.cuda()\n",
    "        \n",
    "        pred = torch.clip(model(vus, vis), 1, 5)\n",
    "        \n",
    "        print(pred.ravel())\n",
    "        print(rs.ravel())\n",
    "        print()\n",
    "        \n",
    "        k += 1"
   ]
  },
  {
   "cell_type": "markdown",
   "id": "a87557ca",
   "metadata": {},
   "source": [
    "## Test"
   ]
  },
  {
   "cell_type": "code",
   "execution_count": 7,
   "id": "006b569e",
   "metadata": {},
   "outputs": [],
   "source": [
    "test_dataloader = DataLoader(\n",
    "    RatingsDataset(\n",
    "        \"/home/nubol23/Desktop/Codes/USP/SCC5966/kaggle/data/test_data.csv\",\n",
    "        \"user_id\",\n",
    "        \"movie_id\",\n",
    "    ), \n",
    "    batch_size=1024,\n",
    "    num_workers=12\n",
    ")"
   ]
  },
  {
   "cell_type": "code",
   "execution_count": 8,
   "id": "4dd820ff",
   "metadata": {},
   "outputs": [],
   "source": [
    "test_predictions = []\n",
    "\n",
    "with torch.no_grad():\n",
    "    k = 0\n",
    "    for vus, vis in test_dataloader:\n",
    "#         if k == 10:\n",
    "#             break\n",
    "        \n",
    "        vus = vus.cuda()\n",
    "        vis = vis.cuda()\n",
    "        \n",
    "        pred = torch.clip(model(vus, vis), 1, 5).cpu().ravel().tolist()\n",
    "        test_predictions += pred\n",
    "        \n",
    "        k += 1"
   ]
  },
  {
   "cell_type": "code",
   "execution_count": 9,
   "id": "37fdacae",
   "metadata": {},
   "outputs": [],
   "source": [
    "import pandas as pd\n",
    "\n",
    "test_csv = pd.read_csv(\"../../data/test_data.csv\")"
   ]
  },
  {
   "cell_type": "code",
   "execution_count": 10,
   "id": "b1c06479",
   "metadata": {},
   "outputs": [
    {
     "data": {
      "text/html": [
       "<div>\n",
       "<style scoped>\n",
       "    .dataframe tbody tr th:only-of-type {\n",
       "        vertical-align: middle;\n",
       "    }\n",
       "\n",
       "    .dataframe tbody tr th {\n",
       "        vertical-align: top;\n",
       "    }\n",
       "\n",
       "    .dataframe thead th {\n",
       "        text-align: right;\n",
       "    }\n",
       "</style>\n",
       "<table border=\"1\" class=\"dataframe\">\n",
       "  <thead>\n",
       "    <tr style=\"text-align: right;\">\n",
       "      <th></th>\n",
       "      <th>id</th>\n",
       "      <th>rating</th>\n",
       "    </tr>\n",
       "  </thead>\n",
       "  <tbody>\n",
       "    <tr>\n",
       "      <th>0</th>\n",
       "      <td>0</td>\n",
       "      <td>3.177693</td>\n",
       "    </tr>\n",
       "    <tr>\n",
       "      <th>1</th>\n",
       "      <td>1</td>\n",
       "      <td>2.616074</td>\n",
       "    </tr>\n",
       "    <tr>\n",
       "      <th>2</th>\n",
       "      <td>2</td>\n",
       "      <td>2.464490</td>\n",
       "    </tr>\n",
       "    <tr>\n",
       "      <th>3</th>\n",
       "      <td>3</td>\n",
       "      <td>3.379605</td>\n",
       "    </tr>\n",
       "    <tr>\n",
       "      <th>4</th>\n",
       "      <td>4</td>\n",
       "      <td>1.119932</td>\n",
       "    </tr>\n",
       "  </tbody>\n",
       "</table>\n",
       "</div>"
      ],
      "text/plain": [
       "   id    rating\n",
       "0   0  3.177693\n",
       "1   1  2.616074\n",
       "2   2  2.464490\n",
       "3   3  3.379605\n",
       "4   4  1.119932"
      ]
     },
     "execution_count": 10,
     "metadata": {},
     "output_type": "execute_result"
    }
   ],
   "source": [
    "out_df = pd.DataFrame.from_dict(\n",
    "    {\n",
    "        \"id\": list(test_csv[\"id\"]),\n",
    "        \"rating\": test_predictions\n",
    "    }\n",
    ")\n",
    "\n",
    "out_df.head()"
   ]
  },
  {
   "cell_type": "code",
   "execution_count": 11,
   "id": "910c4696",
   "metadata": {},
   "outputs": [],
   "source": [
    "out_df.to_csv(f\"outputs_csv/neumf_test_2.csv\", index=False)"
   ]
  }
 ],
 "metadata": {
  "kernelspec": {
   "display_name": "Python 3 (ipykernel)",
   "language": "python",
   "name": "python3"
  },
  "language_info": {
   "codemirror_mode": {
    "name": "ipython",
    "version": 3
   },
   "file_extension": ".py",
   "mimetype": "text/x-python",
   "name": "python",
   "nbconvert_exporter": "python",
   "pygments_lexer": "ipython3",
   "version": "3.10.4"
  }
 },
 "nbformat": 4,
 "nbformat_minor": 5
}
