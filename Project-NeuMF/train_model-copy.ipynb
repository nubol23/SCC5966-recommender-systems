{
 "cells": [
  {
   "cell_type": "code",
   "execution_count": 1,
   "id": "1c07806c",
   "metadata": {},
   "outputs": [],
   "source": [
    "from utils.models import GMF, MLP, NeuFM\n",
    "from utils.dataset import RatingsDataset\n",
    "from torch.utils.data import DataLoader\n",
    "\n",
    "from tqdm.notebook import tqdm\n",
    "\n",
    "import math"
   ]
  },
  {
   "cell_type": "markdown",
   "id": "528cb419",
   "metadata": {},
   "source": [
    "## Load"
   ]
  },
  {
   "cell_type": "code",
   "execution_count": 2,
   "id": "2bbf2ee6",
   "metadata": {},
   "outputs": [],
   "source": [
    "run = 4"
   ]
  },
  {
   "cell_type": "code",
   "execution_count": 3,
   "id": "a5b246d3",
   "metadata": {},
   "outputs": [],
   "source": [
    "users = 3974\n",
    "movies = 3564\n",
    "\n",
    "train_dataloader = DataLoader(\n",
    "    RatingsDataset(\n",
    "        \"train_data/total.csv\",\n",
    "        \"user_id\",\n",
    "        \"movie_id\",\n",
    "        \"rating\",\n",
    "    ), \n",
    "    batch_size=1024,\n",
    "    num_workers=12,\n",
    "    shuffle=True,\n",
    ")"
   ]
  },
  {
   "cell_type": "code",
   "execution_count": 4,
   "id": "4ae3f66f",
   "metadata": {},
   "outputs": [],
   "source": [
    "import torch\n",
    "import torch.nn as nn\n",
    "import torch.optim as opt"
   ]
  },
  {
   "cell_type": "code",
   "execution_count": 5,
   "id": "ac625c86",
   "metadata": {},
   "outputs": [
    {
     "data": {
      "text/plain": [
       "<torch._C.Generator at 0x7f12fc0a4030>"
      ]
     },
     "execution_count": 5,
     "metadata": {},
     "output_type": "execute_result"
    }
   ],
   "source": [
    "torch.manual_seed(2)"
   ]
  },
  {
   "cell_type": "code",
   "execution_count": 6,
   "id": "c8f3fba2",
   "metadata": {},
   "outputs": [
    {
     "data": {
      "text/plain": [
       "NeuFM(\n",
       "  (h): Linear(in_features=24, out_features=1, bias=False)\n",
       "  (gmf): GMF(\n",
       "    (P): Embedding(3974, 16)\n",
       "    (Q): Embedding(3564, 16)\n",
       "    (h): Identity()\n",
       "  )\n",
       "  (mlp): MLP(\n",
       "    (P): Embedding(3974, 16)\n",
       "    (Q): Embedding(3564, 16)\n",
       "    (layers): ModuleList(\n",
       "      (0): Linear(in_features=32, out_features=16, bias=True)\n",
       "      (1): Linear(in_features=16, out_features=8, bias=True)\n",
       "    )\n",
       "    (h): Identity()\n",
       "  )\n",
       ")"
      ]
     },
     "execution_count": 6,
     "metadata": {},
     "output_type": "execute_result"
    }
   ],
   "source": [
    "# model = NeuFM(\n",
    "#     GMF(users, movies, 8),\n",
    "#     MLP(users, movies, 16, [16, 8]),\n",
    "#     alpha=0.5,\n",
    "# ).cuda()\n",
    "\n",
    "model = NeuFM(\n",
    "    GMF(users, movies, 16),\n",
    "    MLP(users, movies, 16, [16, 8]),\n",
    "    alpha=0.5,\n",
    ").cuda()\n",
    "\n",
    "model"
   ]
  },
  {
   "cell_type": "markdown",
   "id": "1af45c9f",
   "metadata": {},
   "source": [
    "## Train"
   ]
  },
  {
   "cell_type": "code",
   "execution_count": 7,
   "id": "b3bcd80a",
   "metadata": {},
   "outputs": [
    {
     "data": {
      "application/vnd.jupyter.widget-view+json": {
       "model_id": "ef9b877e39c54041940f7e84677b43f4",
       "version_major": 2,
       "version_minor": 0
      },
      "text/plain": [
       "  0%|          | 0/20 [00:00<?, ?it/s]"
      ]
     },
     "metadata": {},
     "output_type": "display_data"
    },
    {
     "name": "stdout",
     "output_type": "stream",
     "text": [
      "epoch: 0, train_loss: 2.265340065619825\n",
      "epoch: 1, train_loss: 0.9391735815352601\n",
      "epoch: 2, train_loss: 0.9012580229718545\n",
      "epoch: 3, train_loss: 0.882264369917544\n",
      "epoch: 4, train_loss: 0.8699250860606071\n",
      "epoch: 5, train_loss: 0.8614463894519964\n",
      "epoch: 6, train_loss: 0.8551574642340174\n",
      "epoch: 7, train_loss: 0.8497990895704707\n",
      "epoch: 8, train_loss: 0.8443028633563981\n",
      "epoch: 9, train_loss: 0.838152273060414\n",
      "epoch: 10, train_loss: 0.8315161017284126\n",
      "epoch: 11, train_loss: 0.8240868726916466\n",
      "epoch: 12, train_loss: 0.8166196537907313\n",
      "epoch: 13, train_loss: 0.8084401909959371\n",
      "epoch: 14, train_loss: 0.7998390728808266\n",
      "epoch: 15, train_loss: 0.7906841245973248\n",
      "epoch: 16, train_loss: 0.7812810769141403\n",
      "epoch: 17, train_loss: 0.7724331434234724\n",
      "epoch: 18, train_loss: 0.7641060107479849\n",
      "epoch: 19, train_loss: 0.7567447456755086\n"
     ]
    }
   ],
   "source": [
    "criterion = nn.MSELoss().cuda()\n",
    "optimizer = opt.Adam(model.parameters(), lr=0.0005)\n",
    "\n",
    "prev_train_loss = math.inf\n",
    "for epoch in tqdm(range(20)):\n",
    "    n_batches = len(train_dataloader)\n",
    "    avg_loss = 0\n",
    "    \n",
    "    # Train step\n",
    "    for i_batch, (vus, vis, rs) in enumerate(train_dataloader):\n",
    "        vus = vus.cuda()\n",
    "        vis = vis.cuda()\n",
    "        rs = rs.cuda()\n",
    "        \n",
    "        optimizer.zero_grad()\n",
    "        y_hat = model(vus, vis)\n",
    "        \n",
    "        loss = criterion(y_hat, rs)\n",
    "        loss.backward()\n",
    "        optimizer.step()\n",
    "        \n",
    "        avg_loss += math.sqrt(float(loss.detach().cpu()))\n",
    "                \n",
    "    train_loss = avg_loss/n_batches\n",
    "    print(f\"epoch: {epoch}, train_loss: {train_loss}\")\n",
    "    \n",
    "    if train_loss < prev_train_loss:\n",
    "        prev_train_loss = train_loss\n",
    "        torch.save(\n",
    "            model.state_dict(),\n",
    "            f\"/home/nubol23/Documents/NCF_weights/run_{run}/final-{epoch}-{train_loss}.pt\"\n",
    "        )"
   ]
  },
  {
   "cell_type": "markdown",
   "id": "ae6d89c9",
   "metadata": {},
   "source": [
    "## Predict"
   ]
  },
  {
   "cell_type": "code",
   "execution_count": 8,
   "id": "2f31a903",
   "metadata": {},
   "outputs": [],
   "source": [
    "trained_weights = \"final-19-0.7567447456755086.pt\""
   ]
  },
  {
   "cell_type": "code",
   "execution_count": 9,
   "id": "8e38ec6d",
   "metadata": {},
   "outputs": [
    {
     "data": {
      "text/plain": [
       "NeuFM(\n",
       "  (h): Linear(in_features=24, out_features=1, bias=False)\n",
       "  (gmf): GMF(\n",
       "    (P): Embedding(3974, 16)\n",
       "    (Q): Embedding(3564, 16)\n",
       "    (h): Identity()\n",
       "  )\n",
       "  (mlp): MLP(\n",
       "    (P): Embedding(3974, 16)\n",
       "    (Q): Embedding(3564, 16)\n",
       "    (layers): ModuleList(\n",
       "      (0): Linear(in_features=32, out_features=16, bias=True)\n",
       "      (1): Linear(in_features=16, out_features=8, bias=True)\n",
       "    )\n",
       "    (h): Identity()\n",
       "  )\n",
       ")"
      ]
     },
     "execution_count": 9,
     "metadata": {},
     "output_type": "execute_result"
    }
   ],
   "source": [
    "# trained_model = NeuFM(\n",
    "#     GMF(users, movies, 8),\n",
    "#     MLP(users, movies, 16, [16, 8]),\n",
    "#     alpha=0.5,\n",
    "# )\n",
    "\n",
    "trained_model = NeuFM(\n",
    "    GMF(users, movies, 16),\n",
    "    MLP(users, movies, 16, [16, 8]),\n",
    "    alpha=0.5,\n",
    ").cuda()\n",
    "\n",
    "trained_model.load_state_dict(\n",
    "    torch.load(\n",
    "        f\"/home/nubol23/Documents/NCF_weights/run_{run}/{trained_weights}\"\n",
    "    )\n",
    ")\n",
    "trained_model.cuda().eval()"
   ]
  },
  {
   "cell_type": "code",
   "execution_count": 10,
   "id": "7017b278",
   "metadata": {},
   "outputs": [],
   "source": [
    "test_dataloader = DataLoader(\n",
    "    RatingsDataset(\n",
    "        \"train_data/test.csv\",\n",
    "        \"user_id\",\n",
    "        \"movie_id\",\n",
    "    ), \n",
    "    batch_size=1024,\n",
    "    num_workers=12\n",
    ")"
   ]
  },
  {
   "cell_type": "code",
   "execution_count": 11,
   "id": "b3086f49",
   "metadata": {},
   "outputs": [],
   "source": [
    "test_predictions = []\n",
    "\n",
    "for vus, vis in test_dataloader:\n",
    "    vus = vus.cuda()\n",
    "    vis = vis.cuda()\n",
    "\n",
    "    pred = torch.clip(trained_model(vus, vis), 1, 5).cpu().ravel().tolist()\n",
    "    test_predictions += pred"
   ]
  },
  {
   "cell_type": "code",
   "execution_count": 12,
   "id": "f520e084",
   "metadata": {},
   "outputs": [],
   "source": [
    "import pandas as pd\n",
    "\n",
    "test_csv = pd.read_csv(\"../../data/test_data.csv\")"
   ]
  },
  {
   "cell_type": "code",
   "execution_count": 13,
   "id": "2a8c33c4",
   "metadata": {},
   "outputs": [
    {
     "data": {
      "text/html": [
       "<div>\n",
       "<style scoped>\n",
       "    .dataframe tbody tr th:only-of-type {\n",
       "        vertical-align: middle;\n",
       "    }\n",
       "\n",
       "    .dataframe tbody tr th {\n",
       "        vertical-align: top;\n",
       "    }\n",
       "\n",
       "    .dataframe thead th {\n",
       "        text-align: right;\n",
       "    }\n",
       "</style>\n",
       "<table border=\"1\" class=\"dataframe\">\n",
       "  <thead>\n",
       "    <tr style=\"text-align: right;\">\n",
       "      <th></th>\n",
       "      <th>id</th>\n",
       "      <th>rating</th>\n",
       "    </tr>\n",
       "  </thead>\n",
       "  <tbody>\n",
       "    <tr>\n",
       "      <th>0</th>\n",
       "      <td>0</td>\n",
       "      <td>3.051610</td>\n",
       "    </tr>\n",
       "    <tr>\n",
       "      <th>1</th>\n",
       "      <td>1</td>\n",
       "      <td>3.293595</td>\n",
       "    </tr>\n",
       "    <tr>\n",
       "      <th>2</th>\n",
       "      <td>2</td>\n",
       "      <td>2.713303</td>\n",
       "    </tr>\n",
       "    <tr>\n",
       "      <th>3</th>\n",
       "      <td>3</td>\n",
       "      <td>3.236285</td>\n",
       "    </tr>\n",
       "    <tr>\n",
       "      <th>4</th>\n",
       "      <td>4</td>\n",
       "      <td>3.643629</td>\n",
       "    </tr>\n",
       "  </tbody>\n",
       "</table>\n",
       "</div>"
      ],
      "text/plain": [
       "   id    rating\n",
       "0   0  3.051610\n",
       "1   1  3.293595\n",
       "2   2  2.713303\n",
       "3   3  3.236285\n",
       "4   4  3.643629"
      ]
     },
     "execution_count": 13,
     "metadata": {},
     "output_type": "execute_result"
    }
   ],
   "source": [
    "out_df = pd.DataFrame.from_dict(\n",
    "    {\n",
    "        \"id\": list(test_csv[\"id\"]),\n",
    "        \"rating\": test_predictions\n",
    "    }\n",
    ")\n",
    "\n",
    "out_df.head()"
   ]
  },
  {
   "cell_type": "code",
   "execution_count": 14,
   "id": "6868e7a2",
   "metadata": {},
   "outputs": [],
   "source": [
    "out_df.to_csv(f\"outputs_csv/neumf_6.csv\", index=False)"
   ]
  }
 ],
 "metadata": {
  "kernelspec": {
   "display_name": "Python 3 (ipykernel)",
   "language": "python",
   "name": "python3"
  },
  "language_info": {
   "codemirror_mode": {
    "name": "ipython",
    "version": 3
   },
   "file_extension": ".py",
   "mimetype": "text/x-python",
   "name": "python",
   "nbconvert_exporter": "python",
   "pygments_lexer": "ipython3",
   "version": "3.10.4"
  }
 },
 "nbformat": 4,
 "nbformat_minor": 5
}
