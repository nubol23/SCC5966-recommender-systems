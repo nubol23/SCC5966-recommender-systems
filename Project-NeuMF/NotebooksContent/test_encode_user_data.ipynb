{
 "cells": [
  {
   "cell_type": "code",
   "execution_count": 1,
   "id": "f053b320",
   "metadata": {},
   "outputs": [],
   "source": [
    "import pandas as pd\n",
    "import numpy as np"
   ]
  },
  {
   "cell_type": "code",
   "execution_count": 2,
   "id": "34e1b1cb",
   "metadata": {},
   "outputs": [
    {
     "data": {
      "text/html": [
       "<div>\n",
       "<style scoped>\n",
       "    .dataframe tbody tr th:only-of-type {\n",
       "        vertical-align: middle;\n",
       "    }\n",
       "\n",
       "    .dataframe tbody tr th {\n",
       "        vertical-align: top;\n",
       "    }\n",
       "\n",
       "    .dataframe thead th {\n",
       "        text-align: right;\n",
       "    }\n",
       "</style>\n",
       "<table border=\"1\" class=\"dataframe\">\n",
       "  <thead>\n",
       "    <tr style=\"text-align: right;\">\n",
       "      <th></th>\n",
       "      <th>user_id</th>\n",
       "      <th>gender</th>\n",
       "      <th>age</th>\n",
       "      <th>occupation</th>\n",
       "      <th>zip_code</th>\n",
       "    </tr>\n",
       "  </thead>\n",
       "  <tbody>\n",
       "    <tr>\n",
       "      <th>0</th>\n",
       "      <td>0</td>\n",
       "      <td>M</td>\n",
       "      <td>35</td>\n",
       "      <td>17</td>\n",
       "      <td>49508</td>\n",
       "    </tr>\n",
       "    <tr>\n",
       "      <th>1</th>\n",
       "      <td>1</td>\n",
       "      <td>M</td>\n",
       "      <td>35</td>\n",
       "      <td>1</td>\n",
       "      <td>10918</td>\n",
       "    </tr>\n",
       "    <tr>\n",
       "      <th>2</th>\n",
       "      <td>2</td>\n",
       "      <td>M</td>\n",
       "      <td>25</td>\n",
       "      <td>20</td>\n",
       "      <td>14895</td>\n",
       "    </tr>\n",
       "    <tr>\n",
       "      <th>3</th>\n",
       "      <td>3</td>\n",
       "      <td>F</td>\n",
       "      <td>25</td>\n",
       "      <td>0</td>\n",
       "      <td>97401</td>\n",
       "    </tr>\n",
       "    <tr>\n",
       "      <th>4</th>\n",
       "      <td>4</td>\n",
       "      <td>M</td>\n",
       "      <td>35</td>\n",
       "      <td>12</td>\n",
       "      <td>75069</td>\n",
       "    </tr>\n",
       "  </tbody>\n",
       "</table>\n",
       "</div>"
      ],
      "text/plain": [
       "   user_id gender  age  occupation zip_code\n",
       "0        0      M   35          17    49508\n",
       "1        1      M   35           1    10918\n",
       "2        2      M   25          20    14895\n",
       "3        3      F   25           0    97401\n",
       "4        4      M   35          12    75069"
      ]
     },
     "execution_count": 2,
     "metadata": {},
     "output_type": "execute_result"
    }
   ],
   "source": [
    "df = pd.read_csv(\"../train_data/users_data.csv\")\n",
    "df[\"user_id\"] = df[\"user_id\"].apply(lambda x: x-1)\n",
    "df.head()"
   ]
  },
  {
   "cell_type": "code",
   "execution_count": 3,
   "id": "5238721c",
   "metadata": {},
   "outputs": [],
   "source": [
    "users = 3974\n",
    "\n",
    "genres_map = {\n",
    "    \"Action\": 0,\n",
    "    \"Adventure\": 1,\n",
    "    \"Animation\": 2,\n",
    "    \"Children's\": 3,\n",
    "    \"Comedy\": 4,\n",
    "    \"Crime\": 5,\n",
    "    \"Documentary\": 6,\n",
    "    \"Drama\": 7,\n",
    "    \"Fantasy\": 8,\n",
    "    \"Film-Noir\": 9,\n",
    "    \"Horror\": 10,\n",
    "    \"Musical\": 11,\n",
    "    \"Mystery\": 12,\n",
    "    \"Romance\": 13,\n",
    "    \"Sci-Fi\": 14,\n",
    "    \"Thriller\": 15,\n",
    "    \"War\": 16,\n",
    "    \"Western\": 17,\n",
    "}\n",
    "\n",
    "sex_map = {\n",
    "    \"M\": 0,\n",
    "    \"F\": 1,\n",
    "}\n",
    "\n",
    "age_map = {\n",
    "    1: 0,\n",
    "    18: 1,\n",
    "    25: 2,\n",
    "    35: 3,\n",
    "    45: 4,\n",
    "    50: 5,\n",
    "    56: 6,\n",
    "}\n",
    "\n",
    "occupation_map = {\n",
    "    o: o for o in range(21)\n",
    "}"
   ]
  },
  {
   "cell_type": "code",
   "execution_count": 4,
   "id": "63d6d8e1",
   "metadata": {},
   "outputs": [],
   "source": [
    "def generate_user_encoding(ids, genders, ages, occupations):\n",
    "        out_sex = np.zeros((users, len(sex_map)), dtype=np.float32)\n",
    "        out_age = np.zeros((users, len(age_map)), dtype=np.float32)\n",
    "        out_occupation = np.zeros((users, len(occupation_map)), dtype=np.float32)\n",
    "\n",
    "        for user_id, gender, age, occupation in zip(ids, genders, ages, occupations):\n",
    "            out_sex[user_id, sex_map[gender]] = 1\n",
    "            out_age[user_id, age_map[age]] = 1\n",
    "            out_occupation[user_id, occupation_map[occupation]] = 1\n",
    "\n",
    "        return out_sex, out_age, out_occupation"
   ]
  },
  {
   "cell_type": "code",
   "execution_count": 5,
   "id": "ae2ec476",
   "metadata": {},
   "outputs": [
    {
     "data": {
      "text/plain": [
       "(array([[1., 0.],\n",
       "        [1., 0.],\n",
       "        [1., 0.],\n",
       "        ...,\n",
       "        [1., 0.],\n",
       "        [1., 0.],\n",
       "        [1., 0.]], dtype=float32),\n",
       " array([[0., 0., 0., ..., 0., 0., 0.],\n",
       "        [0., 0., 0., ..., 0., 0., 0.],\n",
       "        [0., 0., 1., ..., 0., 0., 0.],\n",
       "        ...,\n",
       "        [0., 0., 0., ..., 0., 1., 0.],\n",
       "        [0., 0., 0., ..., 1., 0., 0.],\n",
       "        [0., 0., 1., ..., 0., 0., 0.]], dtype=float32),\n",
       " array([[0., 0., 0., ..., 0., 0., 0.],\n",
       "        [0., 1., 0., ..., 0., 0., 0.],\n",
       "        [0., 0., 0., ..., 0., 0., 1.],\n",
       "        ...,\n",
       "        [1., 0., 0., ..., 0., 0., 0.],\n",
       "        [0., 1., 0., ..., 0., 0., 0.],\n",
       "        [0., 0., 0., ..., 0., 0., 0.]], dtype=float32))"
      ]
     },
     "execution_count": 5,
     "metadata": {},
     "output_type": "execute_result"
    }
   ],
   "source": [
    "generate_user_encoding(\n",
    "    df[\"user_id\"].tolist(), \n",
    "    df[\"gender\"].tolist(), \n",
    "    df[\"age\"].tolist(), \n",
    "    df[\"occupation\"].tolist(), \n",
    ")"
   ]
  },
  {
   "cell_type": "code",
   "execution_count": 6,
   "id": "7c2c2f7f",
   "metadata": {},
   "outputs": [],
   "source": [
    "import sys\n",
    "sys.path.append(\"../\")\n",
    "\n",
    "from torch.utils.data import DataLoader\n",
    "from utils.dataset import RatingsDatasetAllData"
   ]
  },
  {
   "cell_type": "code",
   "execution_count": 7,
   "id": "44a96099",
   "metadata": {},
   "outputs": [],
   "source": [
    "movies = 3564"
   ]
  },
  {
   "cell_type": "code",
   "execution_count": 8,
   "id": "438ae5ec",
   "metadata": {},
   "outputs": [],
   "source": [
    "train_dataloader = DataLoader(\n",
    "    RatingsDatasetAllData(\n",
    "        users,\n",
    "        movies,\n",
    "        \"../train_data/train.csv\",\n",
    "        \"../train_data/movies_data.csv\",\n",
    "        \"../train_data/users_data.csv\",\n",
    "        \"user_id\",\n",
    "        \"movie_id\",\n",
    "        \"rating\",\n",
    "        \"genres\",\n",
    "        genres_map,\n",
    "        \"gender\",\n",
    "        sex_map,\n",
    "        \"age\",\n",
    "        age_map,\n",
    "        \"occupation\",\n",
    "        occupation_map,\n",
    "    ), \n",
    "    batch_size=4,\n",
    "    num_workers=1,\n",
    "    shuffle=True,\n",
    ")"
   ]
  },
  {
   "cell_type": "code",
   "execution_count": 13,
   "id": "5b787756",
   "metadata": {},
   "outputs": [
    {
     "name": "stdout",
     "output_type": "stream",
     "text": [
      "tensor([[1., 0., 0., 0., 1., 0., 0., 0., 0., 0., 0., 0., 0., 0., 0., 0., 0., 0.],\n",
      "        [0., 0., 0., 0., 1., 0., 0., 0., 0., 0., 0., 0., 0., 0., 0., 0., 0., 0.],\n",
      "        [1., 1., 0., 0., 0., 0., 0., 0., 0., 0., 0., 0., 0., 0., 1., 0., 0., 0.],\n",
      "        [1., 0., 0., 0., 0., 0., 0., 0., 0., 0., 1., 0., 0., 0., 0., 0., 0., 0.]])\n"
     ]
    }
   ],
   "source": [
    "for i_batch, (vus, vis, rs, gs, sxs, ags, ocs) in enumerate(train_dataloader):\n",
    "    print(gs)\n",
    "    break"
   ]
  }
 ],
 "metadata": {
  "kernelspec": {
   "display_name": "Python 3 (ipykernel)",
   "language": "python",
   "name": "python3"
  },
  "language_info": {
   "codemirror_mode": {
    "name": "ipython",
    "version": 3
   },
   "file_extension": ".py",
   "mimetype": "text/x-python",
   "name": "python",
   "nbconvert_exporter": "python",
   "pygments_lexer": "ipython3",
   "version": "3.10.4"
  }
 },
 "nbformat": 4,
 "nbformat_minor": 5
}
