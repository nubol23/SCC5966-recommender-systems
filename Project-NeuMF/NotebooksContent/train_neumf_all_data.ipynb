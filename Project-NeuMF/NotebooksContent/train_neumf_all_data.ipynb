{
 "cells": [
  {
   "cell_type": "code",
   "execution_count": 1,
   "id": "d6ee06fb",
   "metadata": {},
   "outputs": [],
   "source": [
    "import sys\n",
    "sys.path.append(\"../\")\n",
    "\n",
    "from utils.models_all import GMF, MLP, NeuFM\n",
    "from utils.dataset import RatingsDatasetAllData\n",
    "from torch.utils.data import DataLoader\n",
    "\n",
    "from tqdm.notebook import tqdm\n",
    "\n",
    "import math\n",
    "\n",
    "import os\n",
    "\n",
    "import pandas as pd\n",
    "\n",
    "import numpy as np"
   ]
  },
  {
   "cell_type": "code",
   "execution_count": 3,
   "id": "7384f85f",
   "metadata": {},
   "outputs": [],
   "source": [
    "users = 3974\n",
    "movies = 3564\n",
    "\n",
    "users = 3974\n",
    "\n",
    "genres_map = {\n",
    "    \"Action\": 0,\n",
    "    \"Adventure\": 1,\n",
    "    \"Animation\": 2,\n",
    "    \"Children's\": 3,\n",
    "    \"Comedy\": 4,\n",
    "    \"Crime\": 5,\n",
    "    \"Documentary\": 6,\n",
    "    \"Drama\": 7,\n",
    "    \"Fantasy\": 8,\n",
    "    \"Film-Noir\": 9,\n",
    "    \"Horror\": 10,\n",
    "    \"Musical\": 11,\n",
    "    \"Mystery\": 12,\n",
    "    \"Romance\": 13,\n",
    "    \"Sci-Fi\": 14,\n",
    "    \"Thriller\": 15,\n",
    "    \"War\": 16,\n",
    "    \"Western\": 17,\n",
    "}\n",
    "\n",
    "sex_map = {\n",
    "    \"M\": 0,\n",
    "    \"F\": 1,\n",
    "}\n",
    "\n",
    "age_map = {\n",
    "    1: 0,\n",
    "    18: 1,\n",
    "    25: 2,\n",
    "    35: 3,\n",
    "    45: 4,\n",
    "    50: 5,\n",
    "    56: 6,\n",
    "}\n",
    "\n",
    "occupation_map = {\n",
    "    o: o for o in range(21)\n",
    "}\n",
    "\n",
    "train_dataloader = DataLoader(\n",
    "    RatingsDatasetAllData(\n",
    "        users,\n",
    "        movies,\n",
    "        \"../train_data/train.csv\",\n",
    "        \"../train_data/movies_data.csv\",\n",
    "        \"../train_data/users_data.csv\",\n",
    "        \"user_id\",\n",
    "        \"movie_id\",\n",
    "        \"rating\",\n",
    "        \"genres\",\n",
    "        genres_map,\n",
    "        \"gender\",\n",
    "        sex_map,\n",
    "        \"age\",\n",
    "        age_map,\n",
    "        \"occupation\",\n",
    "        occupation_map,\n",
    "    ), \n",
    "    batch_size=256,\n",
    "    num_workers=8,\n",
    "    shuffle=True,\n",
    ")\n",
    "val_dataloader = DataLoader(\n",
    "    RatingsDatasetAllData(\n",
    "        users,\n",
    "        movies,\n",
    "        \"../train_data/validation.csv\",\n",
    "        \"../train_data/movies_data.csv\",\n",
    "        \"../train_data/users_data.csv\",\n",
    "        \"user_id\",\n",
    "        \"movie_id\",\n",
    "        \"rating\",\n",
    "        \"genres\",\n",
    "        genres_map,\n",
    "        \"gender\",\n",
    "        sex_map,\n",
    "        \"age\",\n",
    "        age_map,\n",
    "        \"occupation\",\n",
    "        occupation_map,\n",
    "    ),\n",
    "    batch_size=1024,\n",
    "    num_workers=4,\n",
    "    shuffle=True,\n",
    ")"
   ]
  },
  {
   "cell_type": "code",
   "execution_count": 4,
   "id": "75100f97",
   "metadata": {},
   "outputs": [],
   "source": [
    "import torch\n",
    "import torch.nn as nn\n",
    "import torch.optim as opt"
   ]
  },
  {
   "cell_type": "code",
   "execution_count": 5,
   "id": "3622b92c",
   "metadata": {},
   "outputs": [],
   "source": [
    "def define_model(k_gmf, k_mlp, layer_sizes, n_genres=18, n_ages=7, n_occupations=21, alpha=0.5):\n",
    "    return NeuFM(\n",
    "        GMF(users, movies, n_genres, n_ages, n_occupations, k_gmf),\n",
    "        MLP(users, movies, n_genres, n_ages, n_occupations, k_mlp, layer_sizes),\n",
    "        alpha=alpha,\n",
    "    ).cuda()"
   ]
  },
  {
   "cell_type": "code",
   "execution_count": 6,
   "id": "98045669",
   "metadata": {},
   "outputs": [],
   "source": [
    "def train(model, lr, epochs, train_dataloader, val_dataloader=None, show_loss=True):\n",
    "    criterion = nn.MSELoss().cuda()\n",
    "    optimizer = opt.Adam(model.parameters(), lr=lr)\n",
    "    \n",
    "    avg_losses = []\n",
    "    \n",
    "    model_state = None\n",
    "    best_epoch = 0\n",
    "    prev_val_loss = math.inf\n",
    "    for epoch in tqdm(range(epochs)):\n",
    "        n_batches = len(train_dataloader)\n",
    "        avg_loss = 0\n",
    "        val_loss = 0\n",
    "\n",
    "        # Train step\n",
    "        for i_batch, (vus, vis, rs, gs, sxs, ags, ocs) in enumerate(train_dataloader):\n",
    "            vus = vus.cuda()\n",
    "            vis = vis.cuda()\n",
    "            rs = rs.cuda()\n",
    "            gs = gs.cuda()\n",
    "            sxs = sxs.cuda()\n",
    "            ags = ags.cuda()\n",
    "            ocs = ocs.cuda()\n",
    "\n",
    "            optimizer.zero_grad()\n",
    "            y_hat = model(vus, vis, gs, sxs, ags, ocs)\n",
    "\n",
    "            loss = criterion(y_hat, rs)\n",
    "            loss.backward()\n",
    "            optimizer.step()\n",
    "\n",
    "            avg_loss += math.sqrt(float(loss.detach().cpu()))\n",
    "        \n",
    "        avg_loss /= n_batches\n",
    "        \n",
    "        # Val step\n",
    "        if val_dataloader is not None:\n",
    "            with torch.no_grad():\n",
    "                for val_vus, val_vis, val_rs, val_gs, val_sxs, val_ags, val_ocs in val_dataloader:\n",
    "                    val_vus = val_vus.cuda()\n",
    "                    val_vis = val_vis.cuda()\n",
    "                    val_rs = val_rs.cuda()\n",
    "                    val_gs = val_gs.cuda()\n",
    "                    val_sxs = val_sxs.cuda()\n",
    "                    val_ags = val_ags.cuda()\n",
    "                    val_ocs = val_ocs.cuda()\n",
    "\n",
    "                    val_pred = model(val_vus, val_vis, val_gs, val_sxs, val_ags, val_ocs)\n",
    "                    val_loss += math.sqrt(float(criterion(val_pred, val_rs).detach().cpu()))\n",
    "\n",
    "            val_loss /= len(val_dataloader)\n",
    "            if show_loss:\n",
    "                print(f\"epoch: {epoch+1}, train_loss: {avg_loss}, val_loss: {val_loss}\")\n",
    "            \n",
    "            avg_losses.append([avg_loss, val_loss])\n",
    "        else:\n",
    "            val_loss = avg_loss\n",
    "            if show_loss:\n",
    "                print(f\"epoch: {epoch+1}, train_loss: {avg_loss}\")\n",
    "            \n",
    "            avg_losses.append([avg_loss])\n",
    "                  \n",
    "        if val_loss < prev_val_loss:\n",
    "            prev_val_loss = val_loss\n",
    "            model_state = model.state_dict()\n",
    "            best_epoch = epoch\n",
    "        \n",
    "    return best_epoch, prev_val_loss, model_state, avg_losses"
   ]
  },
  {
   "cell_type": "code",
   "execution_count": 7,
   "id": "1f4a4b0c",
   "metadata": {},
   "outputs": [],
   "source": [
    "def fit(\n",
    "    train_dataloader, val_dataloader,\n",
    "    k_gmf, k_mlp, layer_sizes, alpha=0.5, lr=0.0005, epochs=40, \n",
    "    weight_path=\"/home/\", run_number=1, random_state=None, show_loss=True\n",
    "):\n",
    "    if random_state is not None:\n",
    "        torch.manual_seed(random_state)\n",
    "        \n",
    "    model = define_model(k_gmf, k_mlp, layer_sizes, alpha=alpha)\n",
    "    \n",
    "    best_epoch, val_loss, model_state, losses = train(\n",
    "        model, lr, epochs, train_dataloader, val_dataloader, show_loss\n",
    "    )\n",
    "    \n",
    "    run_path = f\"{weight_path}/run_{run_number}\"\n",
    "    if not os.path.isdir(run_path):\n",
    "        os.makedirs(run_path)\n",
    "    \n",
    "    if val_dataloader is None:\n",
    "        torch.save(\n",
    "            model_state, \n",
    "            f\"{run_path}/final-{best_epoch+1}-{val_loss}.pt\"\n",
    "        )\n",
    "    else:\n",
    "        torch.save(\n",
    "            model_state, \n",
    "            f\"{run_path}/{best_epoch+1}-{val_loss}.pt\"\n",
    "        )\n",
    "        \n",
    "    return np.asarray(losses)"
   ]
  },
  {
   "cell_type": "code",
   "execution_count": 8,
   "id": "b90d6632",
   "metadata": {},
   "outputs": [],
   "source": [
    "def predict(weight_path, k_gmf, k_mlp, layer_sizes, alpha, out_path, out_name):\n",
    "    trained_model = define_model(k_gmf, k_mlp, layer_sizes, alpha=alpha)\n",
    "    \n",
    "    trained_model.load_state_dict(torch.load(weight_path))\n",
    "    trained_model.cuda().eval()\n",
    "    \n",
    "    test_dataloader = DataLoader(\n",
    "        RatingsDatasetAllData(\n",
    "            users,\n",
    "            movies,\n",
    "            \"../train_data/test.csv\",\n",
    "            \"../train_data/movies_data.csv\",\n",
    "            \"../train_data/users_data.csv\",\n",
    "            \"user_id\",\n",
    "            \"movie_id\",\n",
    "            None,\n",
    "            \"genres\",\n",
    "            genres_map,\n",
    "            \"gender\",\n",
    "            sex_map,\n",
    "            \"age\",\n",
    "            age_map,\n",
    "            \"occupation\",\n",
    "            occupation_map,\n",
    "        ), \n",
    "        batch_size=1024,\n",
    "        num_workers=12\n",
    "    )\n",
    "    \n",
    "    test_predictions = []\n",
    "\n",
    "    for vus, vis, gs, sxs, ags, ocs in test_dataloader:\n",
    "        vus = vus.cuda()\n",
    "        vis = vis.cuda()\n",
    "        gs = gs.cuda()\n",
    "        sxs = sxs.cuda()\n",
    "        ags = ags.cuda()\n",
    "        ocs = ocs.cuda()\n",
    "\n",
    "        pred = torch.clip(trained_model(vus, vis, gs, sxs, ags, ocs), 1, 5).cpu().ravel().tolist()\n",
    "        test_predictions += pred\n",
    "        \n",
    "    test_csv = pd.read_csv(\"/home/nubol23/Desktop/Codes/USP/SCC5966/kaggle/data/test_data.csv\")\n",
    "    \n",
    "    out_df = pd.DataFrame.from_dict(\n",
    "        {\n",
    "            \"id\": list(test_csv[\"id\"]),\n",
    "            \"rating\": test_predictions\n",
    "        }\n",
    "    )\n",
    "\n",
    "    out_df.to_csv(f\"{out_path}/{out_name}.csv\", index=False)\n",
    "    out_df.head()"
   ]
  },
  {
   "cell_type": "markdown",
   "id": "8bf6d047",
   "metadata": {},
   "source": [
    "## Train GMF"
   ]
  },
  {
   "cell_type": "code",
   "execution_count": 8,
   "id": "2018d378",
   "metadata": {
    "scrolled": false
   },
   "outputs": [
    {
     "data": {
      "application/vnd.jupyter.widget-view+json": {
       "model_id": "de059aef8542434b85fd9129a7f8a861",
       "version_major": 2,
       "version_minor": 0
      },
      "text/plain": [
       "0it [00:00, ?it/s]"
      ]
     },
     "metadata": {},
     "output_type": "display_data"
    },
    {
     "name": "stdout",
     "output_type": "stream",
     "text": [
      "k_gmf=8 k_mlp=16 layers=[16, 8] lr=0.0001 epochs=75\n"
     ]
    },
    {
     "data": {
      "application/vnd.jupyter.widget-view+json": {
       "model_id": "6f872183300e4022a1ad84bb1eb5fe4a",
       "version_major": 2,
       "version_minor": 0
      },
      "text/plain": [
       "  0%|          | 0/75 [00:00<?, ?it/s]"
      ]
     },
     "metadata": {},
     "output_type": "display_data"
    },
    {
     "name": "stdout",
     "output_type": "stream",
     "text": [
      "k_gmf=8 k_mlp=16 layers=[16, 8] lr=0.0006 epochs=50\n"
     ]
    },
    {
     "data": {
      "application/vnd.jupyter.widget-view+json": {
       "model_id": "0a66cf540b764d779330a287e7f2ed70",
       "version_major": 2,
       "version_minor": 0
      },
      "text/plain": [
       "  0%|          | 0/50 [00:00<?, ?it/s]"
      ]
     },
     "metadata": {},
     "output_type": "display_data"
    },
    {
     "name": "stdout",
     "output_type": "stream",
     "text": [
      "k_gmf=8 k_mlp=16 layers=[16, 8] lr=0.0008 epochs=50\n"
     ]
    },
    {
     "data": {
      "application/vnd.jupyter.widget-view+json": {
       "model_id": "f9d3be0abfdb41d0bccdf28be48f0c92",
       "version_major": 2,
       "version_minor": 0
      },
      "text/plain": [
       "  0%|          | 0/50 [00:00<?, ?it/s]"
      ]
     },
     "metadata": {},
     "output_type": "display_data"
    },
    {
     "name": "stdout",
     "output_type": "stream",
     "text": [
      "k_gmf=16 k_mlp=16 layers=[16, 8] lr=0.001 epochs=50\n"
     ]
    },
    {
     "data": {
      "application/vnd.jupyter.widget-view+json": {
       "model_id": "4165b217fa164a1e88203ea35501d53b",
       "version_major": 2,
       "version_minor": 0
      },
      "text/plain": [
       "  0%|          | 0/50 [00:00<?, ?it/s]"
      ]
     },
     "metadata": {},
     "output_type": "display_data"
    },
    {
     "name": "stdout",
     "output_type": "stream",
     "text": [
      "k_gmf=16 k_mlp=32 layers=[32, 16, 8] lr=0.001 epochs=50\n"
     ]
    },
    {
     "data": {
      "application/vnd.jupyter.widget-view+json": {
       "model_id": "99d07bd455fe4e6c8f7ebf75b5caf1d7",
       "version_major": 2,
       "version_minor": 0
      },
      "text/plain": [
       "  0%|          | 0/50 [00:00<?, ?it/s]"
      ]
     },
     "metadata": {},
     "output_type": "display_data"
    },
    {
     "name": "stdout",
     "output_type": "stream",
     "text": [
      "k_gmf=32 k_mlp=16 layers=[16, 8] lr=0.0008 epochs=30\n"
     ]
    },
    {
     "data": {
      "application/vnd.jupyter.widget-view+json": {
       "model_id": "bab1f615270847068f0cc88558380c57",
       "version_major": 2,
       "version_minor": 0
      },
      "text/plain": [
       "  0%|          | 0/30 [00:00<?, ?it/s]"
      ]
     },
     "metadata": {},
     "output_type": "display_data"
    },
    {
     "name": "stdout",
     "output_type": "stream",
     "text": [
      "k_gmf=32 k_mlp=16 layers=[16, 8] lr=0.005 epochs=50\n"
     ]
    },
    {
     "data": {
      "application/vnd.jupyter.widget-view+json": {
       "model_id": "c7b16ecbc9224620b876c1297297f25b",
       "version_major": 2,
       "version_minor": 0
      },
      "text/plain": [
       "  0%|          | 0/50 [00:00<?, ?it/s]"
      ]
     },
     "metadata": {},
     "output_type": "display_data"
    },
    {
     "name": "stdout",
     "output_type": "stream",
     "text": [
      "k_gmf=32 k_mlp=16 layers=[16, 8] lr=0.01 epochs=50\n"
     ]
    },
    {
     "data": {
      "application/vnd.jupyter.widget-view+json": {
       "model_id": "eb2eadf408514d61adc22dfa744932e9",
       "version_major": 2,
       "version_minor": 0
      },
      "text/plain": [
       "  0%|          | 0/50 [00:00<?, ?it/s]"
      ]
     },
     "metadata": {},
     "output_type": "display_data"
    },
    {
     "name": "stdout",
     "output_type": "stream",
     "text": [
      "k_gmf=32 k_mlp=32 layers=[32, 16, 8] lr=0.01 epochs=50\n"
     ]
    },
    {
     "data": {
      "application/vnd.jupyter.widget-view+json": {
       "model_id": "32d7d2ddf22d4ba5b56735f4de4cbb86",
       "version_major": 2,
       "version_minor": 0
      },
      "text/plain": [
       "  0%|          | 0/50 [00:00<?, ?it/s]"
      ]
     },
     "metadata": {},
     "output_type": "display_data"
    },
    {
     "name": "stdout",
     "output_type": "stream",
     "text": [
      "k_gmf=32 k_mlp=32 layers=[32, 16, 8] lr=0.01 epochs=100\n"
     ]
    },
    {
     "data": {
      "application/vnd.jupyter.widget-view+json": {
       "model_id": "45b87e3ed5da4fbeb93aba85dc9e70cd",
       "version_major": 2,
       "version_minor": 0
      },
      "text/plain": [
       "  0%|          | 0/100 [00:00<?, ?it/s]"
      ]
     },
     "metadata": {},
     "output_type": "display_data"
    }
   ],
   "source": [
    "losses_fit = []\n",
    "\n",
    "for run_number, (k_gmf, k_mlp, layers, lr, epochs) in tqdm(enumerate([\n",
    "    (8, 16, [16, 8], 0.0001, 75),\n",
    "    (8, 16, [16, 8], 0.0006, 50),\n",
    "    (8, 16, [16, 8], 0.0008, 50),\n",
    "    (16, 16, [16, 8], 0.001, 50),\n",
    "    (16, 32, [32, 16, 8], 0.001, 50),\n",
    "    (32, 16, [16, 8], 0.0008, 30),\n",
    "    (32, 16, [16, 8], 0.005, 50), #*\n",
    "    (32, 16, [16, 8], 0.01, 50),\n",
    "    (32, 32, [32, 16, 8], 0.01, 50),\n",
    "    (32, 32, [32, 16, 8], 0.01, 100),\n",
    "])):\n",
    "    print(f\"{k_gmf=} {k_mlp=} {layers=} {lr=} {epochs=}\")\n",
    "    losses_fit.append(\n",
    "        fit(\n",
    "            train_dataloader, val_dataloader,\n",
    "            k_gmf,\n",
    "            k_mlp,\n",
    "            layers,\n",
    "            0.5,\n",
    "            lr,\n",
    "            epochs,\n",
    "            weight_path=\"/home/nubol23/Documents/NCF_all_data_2\",\n",
    "            run_number=run_number,\n",
    "            random_state=2,\n",
    "            show_loss=False,\n",
    "        )\n",
    "    )"
   ]
  },
  {
   "cell_type": "markdown",
   "id": "a196636e",
   "metadata": {},
   "source": [
    "## Total fit"
   ]
  },
  {
   "cell_type": "code",
   "execution_count": 9,
   "id": "e1617165",
   "metadata": {},
   "outputs": [],
   "source": [
    "total_dataloader = DataLoader(\n",
    "    RatingsDatasetAllData(\n",
    "        users,\n",
    "        movies,\n",
    "        \"../train_data/total.csv\",\n",
    "        \"../train_data/movies_data.csv\",\n",
    "        \"../train_data/users_data.csv\",\n",
    "        \"user_id\",\n",
    "        \"movie_id\",\n",
    "        \"rating\",\n",
    "        \"genres\",\n",
    "        genres_map,\n",
    "        \"gender\",\n",
    "        sex_map,\n",
    "        \"age\",\n",
    "        age_map,\n",
    "        \"occupation\",\n",
    "        occupation_map,\n",
    "    ), \n",
    "    batch_size=1024,\n",
    "    num_workers=12,\n",
    "    shuffle=True,\n",
    ")"
   ]
  },
  {
   "cell_type": "code",
   "execution_count": 10,
   "id": "61c8e3f0",
   "metadata": {},
   "outputs": [
    {
     "data": {
      "application/vnd.jupyter.widget-view+json": {
       "model_id": "47ad890a43bd433fb5ef0c2c3395d4f6",
       "version_major": 2,
       "version_minor": 0
      },
      "text/plain": [
       "  0%|          | 0/14 [00:00<?, ?it/s]"
      ]
     },
     "metadata": {},
     "output_type": "display_data"
    },
    {
     "name": "stdout",
     "output_type": "stream",
     "text": [
      "epoch: 1, train_loss: 1.4154207664015694\n",
      "epoch: 2, train_loss: 0.9083913680289559\n",
      "epoch: 3, train_loss: 0.9011854833715894\n",
      "epoch: 4, train_loss: 0.897998414668992\n",
      "epoch: 5, train_loss: 0.8935672515907395\n",
      "epoch: 6, train_loss: 0.8871945773943901\n",
      "epoch: 7, train_loss: 0.8788507777301758\n",
      "epoch: 8, train_loss: 0.8695382638882881\n",
      "epoch: 9, train_loss: 0.8601135758327658\n",
      "epoch: 10, train_loss: 0.8503731537141881\n",
      "epoch: 11, train_loss: 0.8411606731953286\n",
      "epoch: 12, train_loss: 0.8317585425890213\n",
      "epoch: 13, train_loss: 0.8226145927534729\n",
      "epoch: 14, train_loss: 0.8138608906741234\n"
     ]
    },
    {
     "data": {
      "text/plain": [
       "array([[1.41542077],\n",
       "       [0.90839137],\n",
       "       [0.90118548],\n",
       "       [0.89799841],\n",
       "       [0.89356725],\n",
       "       [0.88719458],\n",
       "       [0.87885078],\n",
       "       [0.86953826],\n",
       "       [0.86011358],\n",
       "       [0.85037315],\n",
       "       [0.84116067],\n",
       "       [0.83175854],\n",
       "       [0.82261459],\n",
       "       [0.81386089]])"
      ]
     },
     "execution_count": 10,
     "metadata": {},
     "output_type": "execute_result"
    }
   ],
   "source": [
    "k_gmf, k_mlp, layers, lr, epochs = (32, 16, [16, 8], 0.001, 14)\n",
    "\n",
    "fit(\n",
    "    total_dataloader, None,\n",
    "    k_gmf,\n",
    "    k_mlp,\n",
    "    layers,\n",
    "    0.5,\n",
    "    lr,\n",
    "    epochs,\n",
    "    weight_path=\"/home/nubol23/Documents/NCF_all_data_1\",\n",
    "    run_number=1,\n",
    "    random_state=2,\n",
    "    show_loss=True,\n",
    ")"
   ]
  },
  {
   "cell_type": "code",
   "execution_count": 11,
   "id": "574a7bde",
   "metadata": {},
   "outputs": [],
   "source": [
    "out_path = \"/home/nubol23/Desktop/Codes/USP/SCC5966/kaggle/notebooks/Project-NeuMF/NotebooksContent/outputs\"\n",
    "out_name = \"neumf_extra_4\"\n",
    "\n",
    "predict(\n",
    "    \"/home/nubol23/Documents/NCF_all_data_1/run_1/final-14-0.8138608906741234.pt\",\n",
    "    k_gmf=k_gmf,\n",
    "    k_mlp=k_mlp,\n",
    "    layer_sizes=layers,\n",
    "    alpha=0.5,\n",
    "    out_path=out_path,\n",
    "    out_name=out_name,\n",
    ")"
   ]
  },
  {
   "cell_type": "code",
   "execution_count": 12,
   "id": "87d37b65",
   "metadata": {},
   "outputs": [
    {
     "data": {
      "text/html": [
       "<div>\n",
       "<style scoped>\n",
       "    .dataframe tbody tr th:only-of-type {\n",
       "        vertical-align: middle;\n",
       "    }\n",
       "\n",
       "    .dataframe tbody tr th {\n",
       "        vertical-align: top;\n",
       "    }\n",
       "\n",
       "    .dataframe thead th {\n",
       "        text-align: right;\n",
       "    }\n",
       "</style>\n",
       "<table border=\"1\" class=\"dataframe\">\n",
       "  <thead>\n",
       "    <tr style=\"text-align: right;\">\n",
       "      <th></th>\n",
       "      <th>id</th>\n",
       "      <th>rating</th>\n",
       "    </tr>\n",
       "  </thead>\n",
       "  <tbody>\n",
       "    <tr>\n",
       "      <th>0</th>\n",
       "      <td>0</td>\n",
       "      <td>3.154346</td>\n",
       "    </tr>\n",
       "    <tr>\n",
       "      <th>1</th>\n",
       "      <td>1</td>\n",
       "      <td>3.406947</td>\n",
       "    </tr>\n",
       "    <tr>\n",
       "      <th>2</th>\n",
       "      <td>2</td>\n",
       "      <td>2.884623</td>\n",
       "    </tr>\n",
       "    <tr>\n",
       "      <th>3</th>\n",
       "      <td>3</td>\n",
       "      <td>3.544275</td>\n",
       "    </tr>\n",
       "    <tr>\n",
       "      <th>4</th>\n",
       "      <td>4</td>\n",
       "      <td>3.179825</td>\n",
       "    </tr>\n",
       "    <tr>\n",
       "      <th>...</th>\n",
       "      <td>...</td>\n",
       "      <td>...</td>\n",
       "    </tr>\n",
       "    <tr>\n",
       "      <th>3965</th>\n",
       "      <td>3965</td>\n",
       "      <td>2.132975</td>\n",
       "    </tr>\n",
       "    <tr>\n",
       "      <th>3966</th>\n",
       "      <td>3966</td>\n",
       "      <td>4.596799</td>\n",
       "    </tr>\n",
       "    <tr>\n",
       "      <th>3967</th>\n",
       "      <td>3967</td>\n",
       "      <td>5.000000</td>\n",
       "    </tr>\n",
       "    <tr>\n",
       "      <th>3968</th>\n",
       "      <td>3968</td>\n",
       "      <td>4.621464</td>\n",
       "    </tr>\n",
       "    <tr>\n",
       "      <th>3969</th>\n",
       "      <td>3969</td>\n",
       "      <td>3.414837</td>\n",
       "    </tr>\n",
       "  </tbody>\n",
       "</table>\n",
       "<p>3970 rows × 2 columns</p>\n",
       "</div>"
      ],
      "text/plain": [
       "        id    rating\n",
       "0        0  3.154346\n",
       "1        1  3.406947\n",
       "2        2  2.884623\n",
       "3        3  3.544275\n",
       "4        4  3.179825\n",
       "...    ...       ...\n",
       "3965  3965  2.132975\n",
       "3966  3966  4.596799\n",
       "3967  3967  5.000000\n",
       "3968  3968  4.621464\n",
       "3969  3969  3.414837\n",
       "\n",
       "[3970 rows x 2 columns]"
      ]
     },
     "execution_count": 12,
     "metadata": {},
     "output_type": "execute_result"
    }
   ],
   "source": [
    "pd.read_csv(f\"{out_path}/{out_name}.csv\")"
   ]
  }
 ],
 "metadata": {
  "kernelspec": {
   "display_name": "Python 3 (ipykernel)",
   "language": "python",
   "name": "python3"
  },
  "language_info": {
   "codemirror_mode": {
    "name": "ipython",
    "version": 3
   },
   "file_extension": ".py",
   "mimetype": "text/x-python",
   "name": "python",
   "nbconvert_exporter": "python",
   "pygments_lexer": "ipython3",
   "version": "3.10.4"
  }
 },
 "nbformat": 4,
 "nbformat_minor": 5
}
