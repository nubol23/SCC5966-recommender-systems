{
 "cells": [
  {
   "cell_type": "code",
   "execution_count": 1,
   "id": "ecaa18c4",
   "metadata": {},
   "outputs": [],
   "source": [
    "import sys\n",
    "\n",
    "sys.path.append(\"../\")"
   ]
  },
  {
   "cell_type": "code",
   "execution_count": 2,
   "id": "bdd57459",
   "metadata": {},
   "outputs": [],
   "source": [
    "import torch\n",
    "import torch.sparse"
   ]
  },
  {
   "cell_type": "code",
   "execution_count": 5,
   "id": "8f1e6819",
   "metadata": {},
   "outputs": [],
   "source": [
    "idxs = [[0, 0],\n",
    "        [0, 2]]\n",
    "values = [1, 1]"
   ]
  },
  {
   "cell_type": "code",
   "execution_count": 6,
   "id": "4dbe4e74",
   "metadata": {},
   "outputs": [
    {
     "data": {
      "text/plain": [
       "tensor([[1., 0., 1., 0., 0., 0., 0., 0., 0., 0.]])"
      ]
     },
     "execution_count": 6,
     "metadata": {},
     "output_type": "execute_result"
    }
   ],
   "source": [
    "st = torch.sparse_coo_tensor(idxs, values, size=(1,10), dtype=torch.float32)\n",
    "st.to_dense()"
   ]
  },
  {
   "cell_type": "code",
   "execution_count": 7,
   "id": "c5888944",
   "metadata": {},
   "outputs": [],
   "source": [
    "t = torch.arange(10).reshape(10, 1).float()+1"
   ]
  },
  {
   "cell_type": "code",
   "execution_count": 8,
   "id": "1a482907",
   "metadata": {},
   "outputs": [
    {
     "data": {
      "text/plain": [
       "tensor([[4.]])"
      ]
     },
     "execution_count": 8,
     "metadata": {},
     "output_type": "execute_result"
    }
   ],
   "source": [
    "torch.matmul(st, t)"
   ]
  },
  {
   "cell_type": "markdown",
   "id": "5d8732fb",
   "metadata": {},
   "source": [
    "## Testing linear layer"
   ]
  },
  {
   "cell_type": "code",
   "execution_count": 9,
   "id": "de890b4e",
   "metadata": {},
   "outputs": [
    {
     "data": {
      "text/plain": [
       "tensor([[1, 0, 0],\n",
       "        [1, 0, 0],\n",
       "        [0, 0, 1],\n",
       "        [0, 0, 1]])"
      ]
     },
     "execution_count": 9,
     "metadata": {},
     "output_type": "execute_result"
    }
   ],
   "source": [
    "torch.sparse_coo_tensor(\n",
    "    [[0, 1, 2, 3],\n",
    "     [0, 0, 2, 2]],\n",
    "    [1, 1, 1, 1],\n",
    "    size=(4, 3)\n",
    ").to_dense()"
   ]
  },
  {
   "cell_type": "code",
   "execution_count": 23,
   "id": "098b9f94",
   "metadata": {},
   "outputs": [
    {
     "data": {
      "text/plain": [
       "tensor([1, 0, 1])"
      ]
     },
     "execution_count": 23,
     "metadata": {},
     "output_type": "execute_result"
    }
   ],
   "source": [
    "torch.sparse_coo_tensor(\n",
    "    [[0, 0, 1, 2, 3],\n",
    "     [0, 2, 0, 2, 2]],\n",
    "    [1, 1, 1, 1, 1],\n",
    "    size=(4, 3)\n",
    ")[0].to_dense()"
   ]
  },
  {
   "cell_type": "code",
   "execution_count": 1,
   "id": "004e611f",
   "metadata": {},
   "outputs": [],
   "source": [
    "import sys\n",
    "sys.path.append(\"../\")\n",
    "\n",
    "\n",
    "import torch\n",
    "import torch.sparse\n",
    "import torch.nn as nn\n",
    "from torch.utils.data import Dataset\n",
    "import pandas as pd\n",
    "from torch.utils.data import DataLoader\n",
    "\n",
    "from utils.dataset import RatingsDatasetGenre"
   ]
  },
  {
   "cell_type": "code",
   "execution_count": 2,
   "id": "51d418b9",
   "metadata": {},
   "outputs": [
    {
     "data": {
      "text/html": [
       "<div>\n",
       "<style scoped>\n",
       "    .dataframe tbody tr th:only-of-type {\n",
       "        vertical-align: middle;\n",
       "    }\n",
       "\n",
       "    .dataframe tbody tr th {\n",
       "        vertical-align: top;\n",
       "    }\n",
       "\n",
       "    .dataframe thead th {\n",
       "        text-align: right;\n",
       "    }\n",
       "</style>\n",
       "<table border=\"1\" class=\"dataframe\">\n",
       "  <thead>\n",
       "    <tr style=\"text-align: right;\">\n",
       "      <th></th>\n",
       "      <th>movie_id</th>\n",
       "      <th>title</th>\n",
       "      <th>genres</th>\n",
       "    </tr>\n",
       "  </thead>\n",
       "  <tbody>\n",
       "    <tr>\n",
       "      <th>0</th>\n",
       "      <td>0</td>\n",
       "      <td>Toy Story (1995)</td>\n",
       "      <td>Animation|Children's|Comedy</td>\n",
       "    </tr>\n",
       "    <tr>\n",
       "      <th>1</th>\n",
       "      <td>1</td>\n",
       "      <td>Jumanji (1995)</td>\n",
       "      <td>Adventure|Children's|Fantasy</td>\n",
       "    </tr>\n",
       "    <tr>\n",
       "      <th>2</th>\n",
       "      <td>2</td>\n",
       "      <td>Grumpier Old Men (1995)</td>\n",
       "      <td>Comedy|Romance</td>\n",
       "    </tr>\n",
       "    <tr>\n",
       "      <th>3</th>\n",
       "      <td>3</td>\n",
       "      <td>Waiting to Exhale (1995)</td>\n",
       "      <td>Comedy|Drama</td>\n",
       "    </tr>\n",
       "    <tr>\n",
       "      <th>4</th>\n",
       "      <td>4</td>\n",
       "      <td>Father of the Bride Part II (1995)</td>\n",
       "      <td>Comedy</td>\n",
       "    </tr>\n",
       "  </tbody>\n",
       "</table>\n",
       "</div>"
      ],
      "text/plain": [
       "   movie_id                               title                        genres\n",
       "0         0                    Toy Story (1995)   Animation|Children's|Comedy\n",
       "1         1                      Jumanji (1995)  Adventure|Children's|Fantasy\n",
       "2         2             Grumpier Old Men (1995)                Comedy|Romance\n",
       "3         3            Waiting to Exhale (1995)                  Comedy|Drama\n",
       "4         4  Father of the Bride Part II (1995)                        Comedy"
      ]
     },
     "execution_count": 2,
     "metadata": {},
     "output_type": "execute_result"
    }
   ],
   "source": [
    "genres_map = {\n",
    "    \"Action\": 0,\n",
    "    \"Adventure\": 1,\n",
    "    \"Animation\": 2,\n",
    "    \"Children's\": 3,\n",
    "    \"Comedy\": 4,\n",
    "    \"Crime\": 5,\n",
    "    \"Documentary\": 6,\n",
    "    \"Drama\": 7,\n",
    "    \"Fantasy\": 8,\n",
    "    \"Film-Noir\": 9,\n",
    "    \"Horror\": 10,\n",
    "    \"Musical\": 11,\n",
    "    \"Mystery\": 12,\n",
    "    \"Romance\": 13,\n",
    "    \"Sci-Fi\": 14,\n",
    "    \"Thriller\": 15,\n",
    "    \"War\": 16,\n",
    "    \"Western\": 17,\n",
    "}\n",
    "\n",
    "movies_csv = pd.read_csv(\"../train_data/movies_data.csv\")\n",
    "movies_csv[\"movie_id\"] = movies_csv[\"movie_id\"].apply(lambda x: x - 1)\n",
    "movies_csv.head()"
   ]
  },
  {
   "cell_type": "code",
   "execution_count": 3,
   "id": "5bdf095e",
   "metadata": {},
   "outputs": [],
   "source": [
    "users = 3974\n",
    "movies = 3564\n",
    "\n",
    "train_dataloader = DataLoader(\n",
    "    RatingsDatasetGenre(\n",
    "        users,\n",
    "        movies,\n",
    "        \"../train_data/train.csv\",\n",
    "        \"../train_data/movies_data.csv\",\n",
    "        \"user_id\",\n",
    "        \"movie_id\",\n",
    "        \"rating\",\n",
    "        \"genres\",\n",
    "        genres_map,\n",
    "    ), \n",
    "    batch_size=4,\n",
    "    num_workers=1,\n",
    "    shuffle=True,\n",
    ")"
   ]
  },
  {
   "cell_type": "code",
   "execution_count": 6,
   "id": "9a335476",
   "metadata": {},
   "outputs": [
    {
     "name": "stdout",
     "output_type": "stream",
     "text": [
      "cpu\n",
      "tensor([[ 0.0023, -0.0102],\n",
      "        [-0.0198, -0.0242],\n",
      "        [-0.0144, -0.0108],\n",
      "        [-0.0088, -0.0235]], grad_fn=<AddmmBackward0>)\n"
     ]
    }
   ],
   "source": [
    "for i_batch, (vus, vis, rs, gs) in enumerate(train_dataloader):    \n",
    "    arange = torch.arange(vus.shape[0])\n",
    "    ones = torch.ones(vus.shape[0], dtype=torch.float64)\n",
    "    \n",
    "    sp_vus = torch.sparse_coo_tensor(\n",
    "        torch.vstack([arange, vus]),\n",
    "        ones,\n",
    "        size=(vus.shape[0], users),\n",
    "        dtype=torch.float32,\n",
    "    )\n",
    "    sp_vis = torch.sparse_coo_tensor(\n",
    "        torch.vstack([arange, vis]),\n",
    "        ones,\n",
    "        size=(vis.shape[0], movies),\n",
    "        dtype=torch.float32,\n",
    "    )\n",
    "    \n",
    "    g_vis = torch.cat([sp_vis, gs.to_sparse()], dim=1)\n",
    "    \n",
    "    layer = nn.Linear(movies+18, 2)\n",
    "    out = layer(g_vis)\n",
    "    \n",
    "    print(out)\n",
    "    \n",
    "    break"
   ]
  },
  {
   "cell_type": "markdown",
   "id": "f3dc2870",
   "metadata": {},
   "source": [
    "## Sparse data loader"
   ]
  },
  {
   "cell_type": "code",
   "execution_count": null,
   "id": "12145143",
   "metadata": {},
   "outputs": [],
   "source": []
  }
 ],
 "metadata": {
  "kernelspec": {
   "display_name": "Python 3 (ipykernel)",
   "language": "python",
   "name": "python3"
  },
  "language_info": {
   "codemirror_mode": {
    "name": "ipython",
    "version": 3
   },
   "file_extension": ".py",
   "mimetype": "text/x-python",
   "name": "python",
   "nbconvert_exporter": "python",
   "pygments_lexer": "ipython3",
   "version": "3.10.4"
  }
 },
 "nbformat": 4,
 "nbformat_minor": 5
}
