{
 "cells": [
  {
   "cell_type": "code",
   "execution_count": 1,
   "id": "e3c8148a",
   "metadata": {},
   "outputs": [],
   "source": [
    "import torch\n",
    "import numpy as np\n",
    "from torch.utils.data import Dataset, DataLoader\n",
    "import pandas as pd"
   ]
  },
  {
   "cell_type": "code",
   "execution_count": 2,
   "id": "3439543d",
   "metadata": {},
   "outputs": [],
   "source": [
    "class RatingsDataset(Dataset):\n",
    "    def __init__(self, csv_file, user_column, item_column, rating_column):\n",
    "        df = pd.read_csv(csv_file)\n",
    "        \n",
    "        self.n_users = max(df[user_column].tolist())\n",
    "        self.n_items = max(df[item_column].tolist())\n",
    "        \n",
    "        df[user_column] = df[user_column].apply(lambda x: x - 1)\n",
    "        df[item_column] = df[item_column].apply(lambda x: x - 1)\n",
    "        \n",
    "        self.df = pd.DataFrame.from_dict({\n",
    "            user_column: df[user_column].tolist(),\n",
    "            item_column: df[item_column].tolist(),\n",
    "            rating_column: df[rating_column].tolist(),\n",
    "        })\n",
    "        \n",
    "        self.user_column = user_column\n",
    "        self.item_column = item_column\n",
    "        self.rating_column = rating_column\n",
    "        \n",
    "    def __len__(self):\n",
    "        return len(self.df)\n",
    "    \n",
    "    def __getitem__(self, idx):\n",
    "        row = self.df.iloc[idx]\n",
    "\n",
    "        user_one_hot = torch.zeros(self.n_users)\n",
    "        user_one_hot[row[self.user_column]] = 1\n",
    "        \n",
    "        item_one_hot = torch.zeros(self.n_items)\n",
    "        item_one_hot[row[self.item_column]] = 1\n",
    "        \n",
    "        return user_one_hot, item_one_hot, row[self.rating_column]"
   ]
  },
  {
   "cell_type": "code",
   "execution_count": 3,
   "id": "f1a4bbcb",
   "metadata": {},
   "outputs": [],
   "source": [
    "ds = RatingsDataset(\n",
    "    \"/home/nubol23/Desktop/Codes/USP/SCC5966/kaggle/data/train_data.csv\",\n",
    "    \"user_id\",\n",
    "    \"movie_id\",\n",
    "    \"rating\",\n",
    ")"
   ]
  },
  {
   "cell_type": "code",
   "execution_count": 4,
   "id": "9123ac5c",
   "metadata": {},
   "outputs": [],
   "source": [
    "dataloader = DataLoader(ds, batch_size=4)"
   ]
  },
  {
   "cell_type": "code",
   "execution_count": 5,
   "id": "8a81e4f1",
   "metadata": {},
   "outputs": [
    {
     "name": "stdout",
     "output_type": "stream",
     "text": [
      "tensor([[1., 0., 0.,  ..., 0., 0., 0.],\n",
      "        [1., 0., 0.,  ..., 0., 0., 0.],\n",
      "        [1., 0., 0.,  ..., 0., 0., 0.],\n",
      "        [1., 0., 0.,  ..., 0., 0., 0.]])\n",
      "tensor([[0., 0., 0.,  ..., 0., 0., 0.],\n",
      "        [0., 0., 0.,  ..., 0., 0., 0.],\n",
      "        [0., 0., 0.,  ..., 0., 0., 0.],\n",
      "        [0., 0., 0.,  ..., 0., 0., 0.]])\n",
      "tensor([5, 3, 4, 2])\n"
     ]
    }
   ],
   "source": [
    "for i_batch, sample_batch in enumerate(dataloader):\n",
    "    vus, vis, rs = sample_batch\n",
    "    print(vus)\n",
    "    print(vis)\n",
    "#     print(vis.argmax(dim=1))\n",
    "    print(rs)\n",
    "    break"
   ]
  }
 ],
 "metadata": {
  "kernelspec": {
   "display_name": "Python 3 (ipykernel)",
   "language": "python",
   "name": "python3"
  },
  "language_info": {
   "codemirror_mode": {
    "name": "ipython",
    "version": 3
   },
   "file_extension": ".py",
   "mimetype": "text/x-python",
   "name": "python",
   "nbconvert_exporter": "python",
   "pygments_lexer": "ipython3",
   "version": "3.10.4"
  }
 },
 "nbformat": 4,
 "nbformat_minor": 5
}
