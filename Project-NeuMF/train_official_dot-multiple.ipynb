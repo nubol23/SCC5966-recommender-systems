{
 "cells": [
  {
   "cell_type": "code",
   "execution_count": 1,
   "id": "2297ba91",
   "metadata": {},
   "outputs": [],
   "source": [
    "from utils.models_dot import GMF, MLP, NeuFM\n",
    "from utils.dataset import RatingsDataset\n",
    "from torch.utils.data import DataLoader\n",
    "\n",
    "from tqdm.notebook import tqdm\n",
    "\n",
    "import math\n",
    "\n",
    "import os\n",
    "\n",
    "import pandas as pd\n",
    "\n",
    "import numpy as np"
   ]
  },
  {
   "cell_type": "markdown",
   "id": "24cf94a1",
   "metadata": {},
   "source": [
    "## Load"
   ]
  },
  {
   "cell_type": "code",
   "execution_count": 2,
   "id": "3bee98f8",
   "metadata": {},
   "outputs": [],
   "source": [
    "users = 3974\n",
    "movies = 3564\n",
    "\n",
    "train_dataloader = DataLoader(\n",
    "    RatingsDataset(\n",
    "        \"train_data/train.csv\",\n",
    "        \"user_id\",\n",
    "        \"movie_id\",\n",
    "        \"rating\",\n",
    "    ), \n",
    "    batch_size=1024,\n",
    "    num_workers=8,\n",
    "    shuffle=True,\n",
    ")\n",
    "val_dataloader = DataLoader(\n",
    "    RatingsDataset(\n",
    "        \"train_data/validation.csv\",\n",
    "        \"user_id\",\n",
    "        \"movie_id\",\n",
    "        \"rating\",\n",
    "    ),\n",
    "    batch_size=1024,\n",
    "    num_workers=4,\n",
    "    shuffle=True,\n",
    ")"
   ]
  },
  {
   "cell_type": "code",
   "execution_count": 3,
   "id": "16879f3d",
   "metadata": {},
   "outputs": [],
   "source": [
    "import torch\n",
    "import torch.nn as nn\n",
    "import torch.optim as opt"
   ]
  },
  {
   "cell_type": "code",
   "execution_count": 4,
   "id": "712bc538",
   "metadata": {},
   "outputs": [],
   "source": [
    "def define_model(k_gmf, k_mlp, layer_sizes, alpha=0.5):\n",
    "    return NeuFM(\n",
    "        GMF(users, movies, k_gmf),\n",
    "        MLP(users, movies, k_mlp, layer_sizes),\n",
    "        alpha=alpha,\n",
    "    ).cuda()"
   ]
  },
  {
   "cell_type": "code",
   "execution_count": 5,
   "id": "2310c052",
   "metadata": {},
   "outputs": [],
   "source": [
    "def train(model, lr, epochs, train_dataloader, val_dataloader=None, show_loss=True):\n",
    "    criterion = nn.MSELoss().cuda()\n",
    "    optimizer = opt.Adam(model.parameters(), lr=lr)\n",
    "    \n",
    "    avg_losses = []\n",
    "    \n",
    "    model_state = None\n",
    "    best_epoch = 0\n",
    "    prev_val_loss = math.inf\n",
    "    for epoch in tqdm(range(epochs)):\n",
    "        n_batches = len(train_dataloader)\n",
    "        avg_loss = 0\n",
    "        val_loss = 0\n",
    "\n",
    "        # Train step\n",
    "        for i_batch, (vus, vis, rs) in enumerate(train_dataloader):\n",
    "            vus = vus.cuda()\n",
    "            vis = vis.cuda()\n",
    "            rs = rs.cuda()\n",
    "\n",
    "            optimizer.zero_grad()\n",
    "            y_hat = model(vus, vis)\n",
    "\n",
    "            loss = criterion(y_hat, rs)\n",
    "            loss.backward()\n",
    "            optimizer.step()\n",
    "\n",
    "            avg_loss += math.sqrt(float(loss.detach().cpu()))\n",
    "        \n",
    "        avg_loss /= n_batches\n",
    "        \n",
    "        # Val step\n",
    "        if val_dataloader is not None:\n",
    "            with torch.no_grad():\n",
    "                for val_vus, val_vis, val_rs in val_dataloader:\n",
    "                    val_vus = val_vus.cuda()\n",
    "                    val_vis = val_vis.cuda()\n",
    "                    val_rs = val_rs.cuda()\n",
    "\n",
    "                    val_pred = model(val_vus, val_vis)\n",
    "                    val_loss += math.sqrt(float(criterion(val_pred, val_rs).detach().cpu()))\n",
    "\n",
    "            val_loss /= len(val_dataloader)\n",
    "            if show_loss:\n",
    "                print(f\"epoch: {epoch+1}, train_loss: {avg_loss}, val_loss: {val_loss}\")\n",
    "            \n",
    "            avg_losses.append([avg_loss, val_loss])\n",
    "        else:\n",
    "            val_loss = avg_loss\n",
    "            if show_loss:\n",
    "                print(f\"epoch: {epoch+1}, train_loss: {avg_loss}\")\n",
    "            \n",
    "            avg_losses.append([avg_loss])\n",
    "                  \n",
    "        if val_loss < prev_val_loss:\n",
    "            prev_val_loss = val_loss\n",
    "            model_state = model.state_dict()\n",
    "            best_epoch = epoch\n",
    "        \n",
    "    return best_epoch, prev_val_loss, model_state, avg_losses"
   ]
  },
  {
   "cell_type": "code",
   "execution_count": 6,
   "id": "a1e926e2",
   "metadata": {},
   "outputs": [],
   "source": [
    "def fit(\n",
    "    train_dataloader, val_dataloader,\n",
    "    k_gmf, k_mlp, layer_sizes, alpha=0.5, lr=0.0005, epochs=40, \n",
    "    weight_path=\"/home/\", run_number=1, random_state=None, show_loss=True\n",
    "):\n",
    "    if random_state is not None:\n",
    "        torch.manual_seed(random_state)\n",
    "        \n",
    "    model = define_model(k_gmf, k_mlp, layer_sizes, alpha)\n",
    "    \n",
    "    best_epoch, val_loss, model_state, losses = train(\n",
    "        model, lr, epochs, train_dataloader, val_dataloader, show_loss\n",
    "    )\n",
    "    \n",
    "    run_path = f\"{weight_path}/run_{run_number}\"\n",
    "    if not os.path.isdir(run_path):\n",
    "        os.makedirs(run_path)\n",
    "    \n",
    "    if val_dataloader is None:\n",
    "        torch.save(\n",
    "            model_state, \n",
    "            f\"{run_path}/final-{best_epoch+1}-{val_loss}.pt\"\n",
    "        )\n",
    "    else:\n",
    "        torch.save(\n",
    "            model_state, \n",
    "            f\"{run_path}/{best_epoch+1}-{val_loss}.pt\"\n",
    "        )\n",
    "        \n",
    "    return np.asarray(losses)"
   ]
  },
  {
   "cell_type": "code",
   "execution_count": 7,
   "id": "3109d18b",
   "metadata": {},
   "outputs": [],
   "source": [
    "def predict(weight_path, k_gmf, k_mlp, layer_sizes, alpha, out_path, out_name):\n",
    "    trained_model = NeuFM(\n",
    "        GMF(users, movies, k_gmf),\n",
    "        MLP(users, movies, k_mlp, layer_sizes),\n",
    "        alpha,\n",
    "    ).cuda()\n",
    "    \n",
    "    trained_model.load_state_dict(torch.load(weight_path))\n",
    "    trained_model.cuda().eval()\n",
    "    \n",
    "    test_dataloader = DataLoader(\n",
    "        RatingsDataset(\n",
    "            \"train_data/test.csv\",\n",
    "            \"user_id\",\n",
    "            \"movie_id\",\n",
    "        ), \n",
    "        batch_size=1024,\n",
    "        num_workers=12\n",
    "    )\n",
    "    \n",
    "    test_predictions = []\n",
    "\n",
    "    for vus, vis in test_dataloader:\n",
    "        vus = vus.cuda()\n",
    "        vis = vis.cuda()\n",
    "\n",
    "        pred = torch.clip(trained_model(vus, vis), 1, 5).cpu().ravel().tolist()\n",
    "        test_predictions += pred\n",
    "        \n",
    "    test_csv = pd.read_csv(\"../../data/test_data.csv\")\n",
    "    \n",
    "    out_df = pd.DataFrame.from_dict(\n",
    "        {\n",
    "            \"id\": list(test_csv[\"id\"]),\n",
    "            \"rating\": test_predictions\n",
    "        }\n",
    "    )\n",
    "\n",
    "    out_df.to_csv(f\"{out_path}/{out_name}.csv\", index=False)\n",
    "    out_df.head()"
   ]
  },
  {
   "cell_type": "markdown",
   "id": "ec4bc757",
   "metadata": {},
   "source": [
    "# Train"
   ]
  },
  {
   "cell_type": "code",
   "execution_count": 8,
   "id": "5150876e",
   "metadata": {
    "scrolled": false
   },
   "outputs": [
    {
     "data": {
      "application/vnd.jupyter.widget-view+json": {
       "model_id": "004ec930a88d458495ad0489b4fbf80a",
       "version_major": 2,
       "version_minor": 0
      },
      "text/plain": [
       "0it [00:00, ?it/s]"
      ]
     },
     "metadata": {},
     "output_type": "display_data"
    },
    {
     "name": "stdout",
     "output_type": "stream",
     "text": [
      "k_gmf=8 k_mlp=16 layers=[16, 8] lr=0.0001 epochs=75\n"
     ]
    },
    {
     "data": {
      "application/vnd.jupyter.widget-view+json": {
       "model_id": "d53fff4c1fc0451da7b0ffeceb474841",
       "version_major": 2,
       "version_minor": 0
      },
      "text/plain": [
       "  0%|          | 0/75 [00:00<?, ?it/s]"
      ]
     },
     "metadata": {},
     "output_type": "display_data"
    },
    {
     "name": "stdout",
     "output_type": "stream",
     "text": [
      "k_gmf=8 k_mlp=16 layers=[16, 8] lr=0.0006 epochs=50\n"
     ]
    },
    {
     "data": {
      "application/vnd.jupyter.widget-view+json": {
       "model_id": "f386952f1d384eceb7f56668a5c24f0a",
       "version_major": 2,
       "version_minor": 0
      },
      "text/plain": [
       "  0%|          | 0/50 [00:00<?, ?it/s]"
      ]
     },
     "metadata": {},
     "output_type": "display_data"
    },
    {
     "name": "stdout",
     "output_type": "stream",
     "text": [
      "k_gmf=8 k_mlp=16 layers=[16, 8] lr=0.0008 epochs=50\n"
     ]
    },
    {
     "data": {
      "application/vnd.jupyter.widget-view+json": {
       "model_id": "1270764701414b67ae4cb1f40d528c15",
       "version_major": 2,
       "version_minor": 0
      },
      "text/plain": [
       "  0%|          | 0/50 [00:00<?, ?it/s]"
      ]
     },
     "metadata": {},
     "output_type": "display_data"
    },
    {
     "name": "stdout",
     "output_type": "stream",
     "text": [
      "k_gmf=16 k_mlp=16 layers=[16, 8] lr=0.001 epochs=50\n"
     ]
    },
    {
     "data": {
      "application/vnd.jupyter.widget-view+json": {
       "model_id": "b13c2f9532f4410ebcdb974cf63eb0a9",
       "version_major": 2,
       "version_minor": 0
      },
      "text/plain": [
       "  0%|          | 0/50 [00:00<?, ?it/s]"
      ]
     },
     "metadata": {},
     "output_type": "display_data"
    },
    {
     "name": "stdout",
     "output_type": "stream",
     "text": [
      "k_gmf=16 k_mlp=32 layers=[32, 16, 8] lr=0.001 epochs=50\n"
     ]
    },
    {
     "data": {
      "application/vnd.jupyter.widget-view+json": {
       "model_id": "2552a4b54f1946e9b2b90680d66dc8f5",
       "version_major": 2,
       "version_minor": 0
      },
      "text/plain": [
       "  0%|          | 0/50 [00:00<?, ?it/s]"
      ]
     },
     "metadata": {},
     "output_type": "display_data"
    },
    {
     "name": "stdout",
     "output_type": "stream",
     "text": [
      "k_gmf=32 k_mlp=16 layers=[16, 8] lr=0.001 epochs=50\n"
     ]
    },
    {
     "data": {
      "application/vnd.jupyter.widget-view+json": {
       "model_id": "166561123d794366827097270d70d60f",
       "version_major": 2,
       "version_minor": 0
      },
      "text/plain": [
       "  0%|          | 0/50 [00:00<?, ?it/s]"
      ]
     },
     "metadata": {},
     "output_type": "display_data"
    },
    {
     "name": "stdout",
     "output_type": "stream",
     "text": [
      "k_gmf=32 k_mlp=16 layers=[16, 8] lr=0.001 epochs=50\n"
     ]
    },
    {
     "data": {
      "application/vnd.jupyter.widget-view+json": {
       "model_id": "c4580e88bd10425d9680b01db613eec9",
       "version_major": 2,
       "version_minor": 0
      },
      "text/plain": [
       "  0%|          | 0/50 [00:00<?, ?it/s]"
      ]
     },
     "metadata": {},
     "output_type": "display_data"
    },
    {
     "name": "stdout",
     "output_type": "stream",
     "text": [
      "k_gmf=32 k_mlp=16 layers=[16, 8] lr=0.01 epochs=50\n"
     ]
    },
    {
     "data": {
      "application/vnd.jupyter.widget-view+json": {
       "model_id": "f07793cfe2674c1e9b226abc51b93b40",
       "version_major": 2,
       "version_minor": 0
      },
      "text/plain": [
       "  0%|          | 0/50 [00:00<?, ?it/s]"
      ]
     },
     "metadata": {},
     "output_type": "display_data"
    },
    {
     "name": "stdout",
     "output_type": "stream",
     "text": [
      "k_gmf=32 k_mlp=32 layers=[32, 16, 8] lr=0.01 epochs=50\n"
     ]
    },
    {
     "data": {
      "application/vnd.jupyter.widget-view+json": {
       "model_id": "eab2074018b64e78a5d2cd42859b531a",
       "version_major": 2,
       "version_minor": 0
      },
      "text/plain": [
       "  0%|          | 0/50 [00:00<?, ?it/s]"
      ]
     },
     "metadata": {},
     "output_type": "display_data"
    },
    {
     "name": "stdout",
     "output_type": "stream",
     "text": [
      "k_gmf=32 k_mlp=32 layers=[32, 16, 8] lr=0.01 epochs=100\n"
     ]
    },
    {
     "data": {
      "application/vnd.jupyter.widget-view+json": {
       "model_id": "d7525b22350b467ba5385c7df2e877b7",
       "version_major": 2,
       "version_minor": 0
      },
      "text/plain": [
       "  0%|          | 0/100 [00:00<?, ?it/s]"
      ]
     },
     "metadata": {},
     "output_type": "display_data"
    }
   ],
   "source": [
    "losses_fit = []\n",
    "\n",
    "for run_number, (k_gmf, k_mlp, layers, lr, epochs) in tqdm(enumerate([\n",
    "    (8, 16, [16, 8], 0.0001, 75),\n",
    "    (8, 16, [16, 8], 0.0006, 50),\n",
    "    (8, 16, [16, 8], 0.0008, 50),\n",
    "    (16, 16, [16, 8], 0.001, 50),\n",
    "    (16, 32, [32, 16, 8], 0.001, 50),\n",
    "    (32, 16, [16, 8], 0.001, 50),\n",
    "    (32, 16, [16, 8], 0.005, 50), #*\n",
    "    (32, 16, [16, 8], 0.01, 50),\n",
    "    (32, 32, [32, 16, 8], 0.01, 50),\n",
    "    (32, 32, [32, 16, 8], 0.01, 100),\n",
    "])):\n",
    "    print(f\"{k_gmf=} {k_mlp=} {layers=} {lr=} {epochs=}\")\n",
    "    losses_fit.append(\n",
    "        fit(\n",
    "            train_dataloader, val_dataloader,\n",
    "            k_gmf,\n",
    "            k_mlp,\n",
    "            layers,\n",
    "            0.5,\n",
    "            lr,\n",
    "            epochs,\n",
    "            weight_path=\"/home/nubol23/Documents/NCF_dot_weights_multiple\",\n",
    "            run_number=run_number,\n",
    "            random_state=2,\n",
    "            show_loss=False,\n",
    "        )\n",
    "    )"
   ]
  },
  {
   "cell_type": "markdown",
   "id": "c0bf6bbf",
   "metadata": {},
   "source": [
    "## Total fit"
   ]
  },
  {
   "cell_type": "code",
   "execution_count": 8,
   "id": "efc9f08f",
   "metadata": {},
   "outputs": [],
   "source": [
    "total_dataloader = DataLoader(\n",
    "    RatingsDataset(\n",
    "        \"train_data/total.csv\",\n",
    "        \"user_id\",\n",
    "        \"movie_id\",\n",
    "        \"rating\",\n",
    "    ), \n",
    "    batch_size=1024,\n",
    "    num_workers=12,\n",
    "    shuffle=True,\n",
    ")"
   ]
  },
  {
   "cell_type": "code",
   "execution_count": 10,
   "id": "f05fecdc",
   "metadata": {},
   "outputs": [
    {
     "data": {
      "application/vnd.jupyter.widget-view+json": {
       "model_id": "b20565ae528a4988a4ce0b4936b2c0ff",
       "version_major": 2,
       "version_minor": 0
      },
      "text/plain": [
       "  0%|          | 0/16 [00:00<?, ?it/s]"
      ]
     },
     "metadata": {},
     "output_type": "display_data"
    },
    {
     "name": "stdout",
     "output_type": "stream",
     "text": [
      "epoch: 1, train_loss: 1.8200071715393462\n",
      "epoch: 2, train_loss: 0.9130402632338396\n",
      "epoch: 3, train_loss: 0.8939296042740061\n",
      "epoch: 4, train_loss: 0.8813859877925196\n",
      "epoch: 5, train_loss: 0.8709111661662973\n",
      "epoch: 6, train_loss: 0.8605828658126904\n",
      "epoch: 7, train_loss: 0.849085311945957\n",
      "epoch: 8, train_loss: 0.836086591183313\n",
      "epoch: 9, train_loss: 0.822228833613818\n",
      "epoch: 10, train_loss: 0.8077825900523599\n",
      "epoch: 11, train_loss: 0.7939466546973045\n",
      "epoch: 12, train_loss: 0.7801582146444488\n",
      "epoch: 13, train_loss: 0.7665768457706652\n",
      "epoch: 14, train_loss: 0.7538722191542875\n",
      "epoch: 15, train_loss: 0.7415138922496131\n",
      "epoch: 16, train_loss: 0.7300505921039475\n"
     ]
    },
    {
     "data": {
      "text/plain": [
       "array([[1.82000717],\n",
       "       [0.91304026],\n",
       "       [0.8939296 ],\n",
       "       [0.88138599],\n",
       "       [0.87091117],\n",
       "       [0.86058287],\n",
       "       [0.84908531],\n",
       "       [0.83608659],\n",
       "       [0.82222883],\n",
       "       [0.80778259],\n",
       "       [0.79394665],\n",
       "       [0.78015821],\n",
       "       [0.76657685],\n",
       "       [0.75387222],\n",
       "       [0.74151389],\n",
       "       [0.73005059]])"
      ]
     },
     "execution_count": 10,
     "metadata": {},
     "output_type": "execute_result"
    }
   ],
   "source": [
    "# k_gmf, k_mlp, layers, lr, epochs = (16, 16, [16, 8], 0.001, 16)\n",
    "# k_gmf, k_mlp, layers, lr, epochs = (32, 16, [16, 8], 0.001, 12)\n",
    "k_gmf, k_mlp, layers, lr, epochs = (32, 16, [16, 8], 0.0009, 16)\n",
    "\n",
    "fit(\n",
    "    total_dataloader, val_dataloader=None,\n",
    "    k_gmf=k_gmf,\n",
    "    k_mlp=k_mlp,\n",
    "    layer_sizes=layers,\n",
    "    alpha=0.5,\n",
    "    lr=lr,\n",
    "    epochs=epochs,\n",
    "    weight_path=\"/home/nubol23/Documents/NCF_dot_weights_multiple/\",\n",
    "    run_number=5,\n",
    "#     random_state=2,\n",
    ")"
   ]
  },
  {
   "cell_type": "markdown",
   "id": "81a2da01",
   "metadata": {},
   "source": [
    "## Predict"
   ]
  },
  {
   "cell_type": "code",
   "execution_count": 11,
   "id": "cf1d11eb",
   "metadata": {},
   "outputs": [],
   "source": [
    "out_path = \"/home/nubol23/Desktop/Codes/USP/SCC5966/kaggle/notebooks/Project-NeuMF/outputs_csv/neumf_dot\"\n",
    "out_name = \"neumf_dot_9\"\n",
    "\n",
    "predict(\n",
    "    \"/home/nubol23/Documents/NCF_dot_weights_multiple/run_5/final-16-0.7300505921039475.pt\",\n",
    "    k_gmf=k_gmf,\n",
    "    k_mlp=k_mlp,\n",
    "    layer_sizes=layers,\n",
    "    alpha=0.5,\n",
    "    out_path=out_path,\n",
    "    out_name=out_name,\n",
    ")"
   ]
  },
  {
   "cell_type": "code",
   "execution_count": 12,
   "id": "30246706",
   "metadata": {
    "scrolled": false
   },
   "outputs": [
    {
     "data": {
      "text/html": [
       "<div>\n",
       "<style scoped>\n",
       "    .dataframe tbody tr th:only-of-type {\n",
       "        vertical-align: middle;\n",
       "    }\n",
       "\n",
       "    .dataframe tbody tr th {\n",
       "        vertical-align: top;\n",
       "    }\n",
       "\n",
       "    .dataframe thead th {\n",
       "        text-align: right;\n",
       "    }\n",
       "</style>\n",
       "<table border=\"1\" class=\"dataframe\">\n",
       "  <thead>\n",
       "    <tr style=\"text-align: right;\">\n",
       "      <th></th>\n",
       "      <th>id</th>\n",
       "      <th>rating</th>\n",
       "    </tr>\n",
       "  </thead>\n",
       "  <tbody>\n",
       "    <tr>\n",
       "      <th>0</th>\n",
       "      <td>0</td>\n",
       "      <td>3.291085</td>\n",
       "    </tr>\n",
       "    <tr>\n",
       "      <th>1</th>\n",
       "      <td>1</td>\n",
       "      <td>3.480155</td>\n",
       "    </tr>\n",
       "    <tr>\n",
       "      <th>2</th>\n",
       "      <td>2</td>\n",
       "      <td>2.736596</td>\n",
       "    </tr>\n",
       "    <tr>\n",
       "      <th>3</th>\n",
       "      <td>3</td>\n",
       "      <td>3.279748</td>\n",
       "    </tr>\n",
       "    <tr>\n",
       "      <th>4</th>\n",
       "      <td>4</td>\n",
       "      <td>3.397886</td>\n",
       "    </tr>\n",
       "    <tr>\n",
       "      <th>...</th>\n",
       "      <td>...</td>\n",
       "      <td>...</td>\n",
       "    </tr>\n",
       "    <tr>\n",
       "      <th>3965</th>\n",
       "      <td>3965</td>\n",
       "      <td>1.887940</td>\n",
       "    </tr>\n",
       "    <tr>\n",
       "      <th>3966</th>\n",
       "      <td>3966</td>\n",
       "      <td>4.047936</td>\n",
       "    </tr>\n",
       "    <tr>\n",
       "      <th>3967</th>\n",
       "      <td>3967</td>\n",
       "      <td>4.946513</td>\n",
       "    </tr>\n",
       "    <tr>\n",
       "      <th>3968</th>\n",
       "      <td>3968</td>\n",
       "      <td>4.085986</td>\n",
       "    </tr>\n",
       "    <tr>\n",
       "      <th>3969</th>\n",
       "      <td>3969</td>\n",
       "      <td>3.098669</td>\n",
       "    </tr>\n",
       "  </tbody>\n",
       "</table>\n",
       "<p>3970 rows × 2 columns</p>\n",
       "</div>"
      ],
      "text/plain": [
       "        id    rating\n",
       "0        0  3.291085\n",
       "1        1  3.480155\n",
       "2        2  2.736596\n",
       "3        3  3.279748\n",
       "4        4  3.397886\n",
       "...    ...       ...\n",
       "3965  3965  1.887940\n",
       "3966  3966  4.047936\n",
       "3967  3967  4.946513\n",
       "3968  3968  4.085986\n",
       "3969  3969  3.098669\n",
       "\n",
       "[3970 rows x 2 columns]"
      ]
     },
     "execution_count": 12,
     "metadata": {},
     "output_type": "execute_result"
    }
   ],
   "source": [
    "pd.read_csv(f\"{out_path}/{out_name}.csv\")"
   ]
  }
 ],
 "metadata": {
  "kernelspec": {
   "display_name": "Python 3 (ipykernel)",
   "language": "python",
   "name": "python3"
  },
  "language_info": {
   "codemirror_mode": {
    "name": "ipython",
    "version": 3
   },
   "file_extension": ".py",
   "mimetype": "text/x-python",
   "name": "python",
   "nbconvert_exporter": "python",
   "pygments_lexer": "ipython3",
   "version": "3.10.4"
  }
 },
 "nbformat": 4,
 "nbformat_minor": 5
}
