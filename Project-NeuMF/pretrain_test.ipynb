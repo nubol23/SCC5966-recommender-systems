{
 "cells": [
  {
   "cell_type": "code",
   "execution_count": 1,
   "id": "4f13c990",
   "metadata": {},
   "outputs": [],
   "source": [
    "from utils.models_dot import GMF, MLP, NeuFM\n",
    "from utils.dataset import RatingsDataset\n",
    "from torch.utils.data import DataLoader\n",
    "\n",
    "from tqdm.notebook import tqdm\n",
    "\n",
    "import math\n",
    "\n",
    "import os\n",
    "\n",
    "import pandas as pd\n",
    "\n",
    "import numpy as np"
   ]
  },
  {
   "cell_type": "code",
   "execution_count": 23,
   "id": "4ecce8a6",
   "metadata": {},
   "outputs": [],
   "source": [
    "users = 3974\n",
    "movies = 3564\n",
    "\n",
    "train_dataloader = DataLoader(\n",
    "    RatingsDataset(\n",
    "#         \"train_data/train.csv\",\n",
    "        \"train_data/total.csv\",\n",
    "        \"user_id\",\n",
    "        \"movie_id\",\n",
    "        \"rating\",\n",
    "    ), \n",
    "    batch_size=1024,\n",
    "    num_workers=8,\n",
    "    shuffle=True,\n",
    ")\n",
    "val_dataloader = None\n",
    "# val_dataloader = DataLoader(\n",
    "#     RatingsDataset(\n",
    "#         \"train_data/validation.csv\",\n",
    "#         \"user_id\",\n",
    "#         \"movie_id\",\n",
    "#         \"rating\",\n",
    "#     ),\n",
    "#     batch_size=1024,\n",
    "#     num_workers=4,\n",
    "#     shuffle=True,\n",
    "# )"
   ]
  },
  {
   "cell_type": "code",
   "execution_count": 4,
   "id": "2243df2c",
   "metadata": {},
   "outputs": [],
   "source": [
    "def train(model, lr, epochs, train_dataloader, val_dataloader=None, show_loss=True):\n",
    "    criterion = nn.MSELoss().cuda()\n",
    "    optimizer = opt.Adam(model.parameters(), lr=lr)\n",
    "    \n",
    "    avg_losses = []\n",
    "    \n",
    "    model_state = None\n",
    "    best_epoch = 0\n",
    "    prev_val_loss = math.inf\n",
    "    for epoch in tqdm(range(epochs)):\n",
    "        n_batches = len(train_dataloader)\n",
    "        avg_loss = 0\n",
    "        val_loss = 0\n",
    "\n",
    "        # Train step\n",
    "        for i_batch, (vus, vis, rs) in enumerate(train_dataloader):\n",
    "            vus = vus.cuda()\n",
    "            vis = vis.cuda()\n",
    "            rs = rs.cuda()\n",
    "\n",
    "            optimizer.zero_grad()\n",
    "            y_hat = model(vus, vis)\n",
    "\n",
    "            loss = criterion(y_hat, rs)\n",
    "            loss.backward()\n",
    "            optimizer.step()\n",
    "\n",
    "            avg_loss += math.sqrt(float(loss.detach().cpu()))\n",
    "        \n",
    "        avg_loss /= n_batches\n",
    "        \n",
    "        # Val step\n",
    "        if val_dataloader is not None:\n",
    "            with torch.no_grad():\n",
    "                for val_vus, val_vis, val_rs in val_dataloader:\n",
    "                    val_vus = val_vus.cuda()\n",
    "                    val_vis = val_vis.cuda()\n",
    "                    val_rs = val_rs.cuda()\n",
    "\n",
    "                    val_pred = model(val_vus, val_vis)\n",
    "                    val_loss += math.sqrt(float(criterion(val_pred, val_rs).detach().cpu()))\n",
    "\n",
    "            val_loss /= len(val_dataloader)\n",
    "            if show_loss:\n",
    "                print(f\"epoch: {epoch+1}, train_loss: {avg_loss}, val_loss: {val_loss}\")\n",
    "            \n",
    "            avg_losses.append([avg_loss, val_loss])\n",
    "        else:\n",
    "            val_loss = avg_loss\n",
    "            if show_loss:\n",
    "                print(f\"epoch: {epoch+1}, train_loss: {avg_loss}\")\n",
    "            \n",
    "            avg_losses.append([avg_loss])\n",
    "                  \n",
    "        if val_loss < prev_val_loss:\n",
    "            prev_val_loss = val_loss\n",
    "            model_state = model.state_dict()\n",
    "            best_epoch = epoch\n",
    "        \n",
    "    return best_epoch, prev_val_loss, model_state, avg_losses"
   ]
  },
  {
   "cell_type": "code",
   "execution_count": 25,
   "id": "cc965a60",
   "metadata": {},
   "outputs": [],
   "source": [
    "gmf = GMF(users, movies, 32).cuda()\n",
    "mlp = MLP(users, movies, 16, [16, 8]).cuda()"
   ]
  },
  {
   "cell_type": "code",
   "execution_count": 6,
   "id": "03697e3b",
   "metadata": {},
   "outputs": [],
   "source": [
    "import torch\n",
    "import torch.nn as nn\n",
    "import torch.optim as opt"
   ]
  },
  {
   "cell_type": "code",
   "execution_count": 26,
   "id": "730e2fd3",
   "metadata": {},
   "outputs": [
    {
     "data": {
      "application/vnd.jupyter.widget-view+json": {
       "model_id": "27b03deaac3f4f54a6d8bf78d85c7ad8",
       "version_major": 2,
       "version_minor": 0
      },
      "text/plain": [
       "  0%|          | 0/20 [00:00<?, ?it/s]"
      ]
     },
     "metadata": {},
     "output_type": "display_data"
    },
    {
     "name": "stdout",
     "output_type": "stream",
     "text": [
      "epoch: 1, train_loss: 2.08454979032049\n",
      "epoch: 2, train_loss: 0.9564041470523625\n",
      "epoch: 3, train_loss: 0.9235671382830273\n",
      "epoch: 4, train_loss: 0.9177757481182734\n",
      "epoch: 5, train_loss: 0.9140887897370784\n",
      "epoch: 6, train_loss: 0.9087526553144059\n",
      "epoch: 7, train_loss: 0.8980217591817914\n",
      "epoch: 8, train_loss: 0.8837223432396143\n",
      "epoch: 9, train_loss: 0.86897882040214\n",
      "epoch: 10, train_loss: 0.8537239440066102\n",
      "epoch: 11, train_loss: 0.8375871614823431\n",
      "epoch: 12, train_loss: 0.8203816857719832\n",
      "epoch: 13, train_loss: 0.8028675905023686\n",
      "epoch: 14, train_loss: 0.7850624420818767\n",
      "epoch: 15, train_loss: 0.7670186496042098\n",
      "epoch: 16, train_loss: 0.7497651685687213\n",
      "epoch: 17, train_loss: 0.7330886256665203\n",
      "epoch: 18, train_loss: 0.7178500240167585\n",
      "epoch: 19, train_loss: 0.7044686225973202\n",
      "epoch: 20, train_loss: 0.6924959869139281\n"
     ]
    }
   ],
   "source": [
    "gmf_best_epoch, gmf_val_loss, gmf_model_state, gmf_losses = train(\n",
    "    gmf, lr=0.002, epochs=20, train_dataloader=train_dataloader, val_dataloader=val_dataloader, show_loss=True\n",
    ")"
   ]
  },
  {
   "cell_type": "code",
   "execution_count": 27,
   "id": "0cfc1162",
   "metadata": {},
   "outputs": [
    {
     "data": {
      "application/vnd.jupyter.widget-view+json": {
       "model_id": "a1ac18eb3ddd413781d2f650063b015d",
       "version_major": 2,
       "version_minor": 0
      },
      "text/plain": [
       "  0%|          | 0/20 [00:00<?, ?it/s]"
      ]
     },
     "metadata": {},
     "output_type": "display_data"
    },
    {
     "name": "stdout",
     "output_type": "stream",
     "text": [
      "epoch: 1, train_loss: 1.113686145088827\n",
      "epoch: 2, train_loss: 0.9124033741900665\n",
      "epoch: 3, train_loss: 0.907103833743733\n",
      "epoch: 4, train_loss: 0.8971309450226933\n",
      "epoch: 5, train_loss: 0.8870410838186794\n",
      "epoch: 6, train_loss: 0.8814227042221919\n",
      "epoch: 7, train_loss: 0.8765019341196565\n",
      "epoch: 8, train_loss: 0.873032011891426\n",
      "epoch: 9, train_loss: 0.869530068736749\n",
      "epoch: 10, train_loss: 0.8663802732521686\n",
      "epoch: 11, train_loss: 0.8620296689833017\n",
      "epoch: 12, train_loss: 0.85774557222161\n",
      "epoch: 13, train_loss: 0.8543326394962165\n",
      "epoch: 14, train_loss: 0.8516038832668664\n",
      "epoch: 15, train_loss: 0.8488378400886802\n",
      "epoch: 16, train_loss: 0.8462113710768087\n",
      "epoch: 17, train_loss: 0.8435848022567924\n",
      "epoch: 18, train_loss: 0.8407049332403111\n",
      "epoch: 19, train_loss: 0.8383363143832482\n",
      "epoch: 20, train_loss: 0.8350623811849085\n"
     ]
    }
   ],
   "source": [
    "mlp_best_epoch, mlp_val_loss, mlp_model_state, mlp_losses = train(\n",
    "    mlp, lr=0.01, epochs=20, train_dataloader=train_dataloader, val_dataloader=val_dataloader, show_loss=True\n",
    ")"
   ]
  },
  {
   "cell_type": "code",
   "execution_count": 28,
   "id": "9d93a6ef",
   "metadata": {},
   "outputs": [],
   "source": [
    "gmf.load_state_dict(gmf_model_state)\n",
    "mlp.load_state_dict(mlp_model_state)\n",
    "\n",
    "neufm = NeuFM(\n",
    "    gmf,\n",
    "    mlp,\n",
    "    alpha=0.5,\n",
    ").cuda()"
   ]
  },
  {
   "cell_type": "code",
   "execution_count": 29,
   "id": "57fe4e42",
   "metadata": {},
   "outputs": [
    {
     "data": {
      "application/vnd.jupyter.widget-view+json": {
       "model_id": "a09b4edc087b48c2a6e919f314544055",
       "version_major": 2,
       "version_minor": 0
      },
      "text/plain": [
       "  0%|          | 0/3 [00:00<?, ?it/s]"
      ]
     },
     "metadata": {},
     "output_type": "display_data"
    },
    {
     "name": "stdout",
     "output_type": "stream",
     "text": [
      "epoch: 1, train_loss: 0.7079073596177952\n",
      "epoch: 2, train_loss: 0.6927137859793724\n",
      "epoch: 3, train_loss: 0.6806991213498536\n"
     ]
    }
   ],
   "source": [
    "neufm_best_epoch, neufm_val_loss, neufm_model_state, neufm_losses = train(\n",
    "    neufm, lr=0.001, epochs=3, train_dataloader=train_dataloader, val_dataloader=val_dataloader, show_loss=True\n",
    ")"
   ]
  },
  {
   "cell_type": "markdown",
   "id": "53f9607f",
   "metadata": {},
   "source": [
    "## Predict"
   ]
  },
  {
   "cell_type": "code",
   "execution_count": 30,
   "id": "f97f218e",
   "metadata": {},
   "outputs": [
    {
     "data": {
      "text/html": [
       "<div>\n",
       "<style scoped>\n",
       "    .dataframe tbody tr th:only-of-type {\n",
       "        vertical-align: middle;\n",
       "    }\n",
       "\n",
       "    .dataframe tbody tr th {\n",
       "        vertical-align: top;\n",
       "    }\n",
       "\n",
       "    .dataframe thead th {\n",
       "        text-align: right;\n",
       "    }\n",
       "</style>\n",
       "<table border=\"1\" class=\"dataframe\">\n",
       "  <thead>\n",
       "    <tr style=\"text-align: right;\">\n",
       "      <th></th>\n",
       "      <th>id</th>\n",
       "      <th>rating</th>\n",
       "    </tr>\n",
       "  </thead>\n",
       "  <tbody>\n",
       "    <tr>\n",
       "      <th>0</th>\n",
       "      <td>0</td>\n",
       "      <td>3.158576</td>\n",
       "    </tr>\n",
       "    <tr>\n",
       "      <th>1</th>\n",
       "      <td>1</td>\n",
       "      <td>3.197291</td>\n",
       "    </tr>\n",
       "    <tr>\n",
       "      <th>2</th>\n",
       "      <td>2</td>\n",
       "      <td>2.687427</td>\n",
       "    </tr>\n",
       "    <tr>\n",
       "      <th>3</th>\n",
       "      <td>3</td>\n",
       "      <td>3.743812</td>\n",
       "    </tr>\n",
       "    <tr>\n",
       "      <th>4</th>\n",
       "      <td>4</td>\n",
       "      <td>3.104539</td>\n",
       "    </tr>\n",
       "  </tbody>\n",
       "</table>\n",
       "</div>"
      ],
      "text/plain": [
       "   id    rating\n",
       "0   0  3.158576\n",
       "1   1  3.197291\n",
       "2   2  2.687427\n",
       "3   3  3.743812\n",
       "4   4  3.104539"
      ]
     },
     "execution_count": 30,
     "metadata": {},
     "output_type": "execute_result"
    }
   ],
   "source": [
    "neufm.eval()\n",
    "    \n",
    "test_dataloader = DataLoader(\n",
    "    RatingsDataset(\n",
    "        \"train_data/test.csv\",\n",
    "        \"user_id\",\n",
    "        \"movie_id\",\n",
    "    ), \n",
    "    batch_size=1024,\n",
    "    num_workers=12\n",
    ")\n",
    "\n",
    "test_predictions = []\n",
    "\n",
    "for vus, vis in test_dataloader:\n",
    "    vus = vus.cuda()\n",
    "    vis = vis.cuda()\n",
    "\n",
    "    pred = torch.clip(neufm(vus, vis), 1, 5).cpu().ravel().tolist()\n",
    "    test_predictions += pred\n",
    "\n",
    "test_csv = pd.read_csv(\"../../data/test_data.csv\")\n",
    "\n",
    "out_df = pd.DataFrame.from_dict(\n",
    "    {\n",
    "        \"id\": list(test_csv[\"id\"]),\n",
    "        \"rating\": test_predictions\n",
    "    }\n",
    ")\n",
    "\n",
    "out_df.to_csv(f\"/home/nubol23/Desktop/Codes/USP/SCC5966/kaggle/notebooks/Project-NeuMF/outputs_csv/neumf_dot/neumf_dot_20.csv\", index=False)\n",
    "out_df.head()"
   ]
  }
 ],
 "metadata": {
  "kernelspec": {
   "display_name": "Python 3 (ipykernel)",
   "language": "python",
   "name": "python3"
  },
  "language_info": {
   "codemirror_mode": {
    "name": "ipython",
    "version": 3
   },
   "file_extension": ".py",
   "mimetype": "text/x-python",
   "name": "python",
   "nbconvert_exporter": "python",
   "pygments_lexer": "ipython3",
   "version": "3.10.4"
  }
 },
 "nbformat": 4,
 "nbformat_minor": 5
}
