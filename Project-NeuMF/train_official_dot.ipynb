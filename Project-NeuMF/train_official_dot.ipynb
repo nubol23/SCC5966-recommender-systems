{
 "cells": [
  {
   "cell_type": "code",
   "execution_count": 10,
   "id": "f8643b6f",
   "metadata": {},
   "outputs": [],
   "source": [
    "from utils.models_dot import GMF, MLP, NeuFM\n",
    "from utils.dataset import RatingsDataset\n",
    "from torch.utils.data import DataLoader\n",
    "\n",
    "from tqdm.notebook import tqdm\n",
    "\n",
    "import math\n",
    "\n",
    "import os\n",
    "\n",
    "import pandas as pd"
   ]
  },
  {
   "cell_type": "markdown",
   "id": "e1d8d253",
   "metadata": {},
   "source": [
    "## Load"
   ]
  },
  {
   "cell_type": "code",
   "execution_count": 2,
   "id": "0af8fd7f",
   "metadata": {},
   "outputs": [],
   "source": [
    "run = 1"
   ]
  },
  {
   "cell_type": "code",
   "execution_count": 3,
   "id": "b67fc378",
   "metadata": {},
   "outputs": [],
   "source": [
    "users = 3974\n",
    "movies = 3564\n",
    "\n",
    "train_dataloader = DataLoader(\n",
    "    RatingsDataset(\n",
    "        \"train_data/train.csv\",\n",
    "        \"user_id\",\n",
    "        \"movie_id\",\n",
    "        \"rating\",\n",
    "    ), \n",
    "    batch_size=1024,\n",
    "    num_workers=8,\n",
    "    shuffle=True,\n",
    ")\n",
    "val_dataloader = DataLoader(\n",
    "    RatingsDataset(\n",
    "        \"train_data/validation.csv\",\n",
    "        \"user_id\",\n",
    "        \"movie_id\",\n",
    "        \"rating\",\n",
    "    ),\n",
    "    batch_size=1024,\n",
    "    num_workers=4,\n",
    "    shuffle=True,\n",
    ")"
   ]
  },
  {
   "cell_type": "code",
   "execution_count": 4,
   "id": "84f2e8e1",
   "metadata": {},
   "outputs": [],
   "source": [
    "import torch\n",
    "import torch.nn as nn\n",
    "import torch.optim as opt"
   ]
  },
  {
   "cell_type": "code",
   "execution_count": 5,
   "id": "1bf4aeb7",
   "metadata": {},
   "outputs": [],
   "source": [
    "def define_model(k_gmf, k_mlp, layer_sizes, alpha=0.5):\n",
    "    return NeuFM(\n",
    "        GMF(users, movies, k_gmf),\n",
    "        MLP(users, movies, k_mlp, layer_sizes),\n",
    "        alpha=alpha,\n",
    "    ).cuda()"
   ]
  },
  {
   "cell_type": "code",
   "execution_count": 6,
   "id": "01e46c11",
   "metadata": {},
   "outputs": [],
   "source": [
    "def train(model, lr, epochs, train_dataloader, val_dataloader=None):\n",
    "    criterion = nn.MSELoss().cuda()\n",
    "    optimizer = opt.Adam(model.parameters(), lr=lr)\n",
    "    \n",
    "    model_state = None\n",
    "    best_epoch = 0\n",
    "    prev_val_loss = math.inf\n",
    "    for epoch in tqdm(range(epochs)):\n",
    "        n_batches = len(train_dataloader)\n",
    "        avg_loss = 0\n",
    "        val_loss = 0\n",
    "\n",
    "        # Train step\n",
    "        for i_batch, (vus, vis, rs) in enumerate(train_dataloader):\n",
    "            vus = vus.cuda()\n",
    "            vis = vis.cuda()\n",
    "            rs = rs.cuda()\n",
    "\n",
    "            optimizer.zero_grad()\n",
    "            y_hat = model(vus, vis)\n",
    "\n",
    "            loss = criterion(y_hat, rs)\n",
    "            loss.backward()\n",
    "            optimizer.step()\n",
    "\n",
    "            avg_loss += math.sqrt(float(loss.detach().cpu()))\n",
    "        \n",
    "        avg_loss /= n_batches\n",
    "        \n",
    "        # Val step\n",
    "        if val_dataloader is not None:\n",
    "            with torch.no_grad():\n",
    "                for val_vus, val_vis, val_rs in val_dataloader:\n",
    "                    val_vus = val_vus.cuda()\n",
    "                    val_vis = val_vis.cuda()\n",
    "                    val_rs = val_rs.cuda()\n",
    "\n",
    "                    val_pred = model(val_vus, val_vis)\n",
    "                    val_loss += math.sqrt(float(criterion(val_pred, val_rs).detach().cpu()))\n",
    "\n",
    "            val_loss /= len(val_dataloader)\n",
    "            print(f\"epoch: {epoch+1}, train_loss: {avg_loss}, val_loss: {val_loss}\")\n",
    "        else:\n",
    "            val_loss = avg_loss\n",
    "            print(f\"epoch: {epoch+1}, train_loss: {avg_loss}\")\n",
    "                  \n",
    "        if val_loss < prev_val_loss:\n",
    "            prev_val_loss = val_loss\n",
    "            model_state = model.state_dict()\n",
    "            best_epoch = epoch\n",
    "        \n",
    "    return best_epoch, prev_val_loss, model_state"
   ]
  },
  {
   "cell_type": "code",
   "execution_count": 7,
   "id": "210eb36e",
   "metadata": {},
   "outputs": [],
   "source": [
    "def fit(\n",
    "    train_dataloader, val_dataloader,\n",
    "    k_gmf, k_mlp, layer_sizes, alpha=0.5, lr=0.0005, epochs=40, \n",
    "    weight_path=\"/home/\", run_number=1, random_state=None,\n",
    "):\n",
    "    if random_state is not None:\n",
    "        torch.manual_seed(random_state)\n",
    "        \n",
    "    model = define_model(k_gmf, k_mlp, layer_sizes, alpha)\n",
    "    \n",
    "    best_epoch, val_loss, model_state = train(\n",
    "        model, lr, epochs, train_dataloader, val_dataloader,\n",
    "    )\n",
    "    \n",
    "    run_path = f\"{weight_path}/run_{run_number}\"\n",
    "    if not os.path.isdir(run_path):\n",
    "        os.makedirs(run_path)\n",
    "    \n",
    "    if val_dataloader is None:\n",
    "        torch.save(\n",
    "            model_state, \n",
    "            f\"{run_path}/final-{best_epoch+1}-{val_loss}.pt\"\n",
    "        )\n",
    "    else:\n",
    "        torch.save(\n",
    "            model_state, \n",
    "            f\"{run_path}/{best_epoch+1}-{val_loss}.pt\"\n",
    "        )"
   ]
  },
  {
   "cell_type": "code",
   "execution_count": null,
   "id": "e8ab725b",
   "metadata": {},
   "outputs": [],
   "source": [
    "def predict(weight_path, k_gmf, k_mlp, layer_sizes, alpha, out_path, out_name):\n",
    "    trained_model = NeuFM(\n",
    "        GMF(users, movies, k_gmf),\n",
    "        MLP(users, movies, k_mlp, layer_sizes),\n",
    "        alpha,\n",
    "    ).cuda()\n",
    "    \n",
    "    trained_model.load_state_dict(torch.load(weight_path))\n",
    "    trained_model.cuda().eval()\n",
    "    \n",
    "    test_dataloader = DataLoader(\n",
    "        RatingsDataset(\n",
    "            \"train_data/test.csv\",\n",
    "            \"user_id\",\n",
    "            \"movie_id\",\n",
    "        ), \n",
    "        batch_size=1024,\n",
    "        num_workers=12\n",
    "    )\n",
    "    \n",
    "    test_predictions = []\n",
    "\n",
    "    for vus, vis in test_dataloader:\n",
    "        vus = vus.cuda()\n",
    "        vis = vis.cuda()\n",
    "\n",
    "        pred = torch.clip(trained_model(vus, vis), 1, 5).cpu().ravel().tolist()\n",
    "        test_predictions += pred\n",
    "        \n",
    "    test_csv = pd.read_csv(\"../../data/test_data.csv\")\n",
    "    \n",
    "    out_df = pd.DataFrame.from_dict(\n",
    "        {\n",
    "            \"id\": list(test_csv[\"id\"]),\n",
    "            \"rating\": test_predictions\n",
    "        }\n",
    "    )\n",
    "\n",
    "    out_df.to_csv(f\"{out_path}/{out_name}.csv\", index=False)\n",
    "    out_df.head()"
   ]
  },
  {
   "cell_type": "markdown",
   "id": "a8077f0e",
   "metadata": {},
   "source": [
    "# Train"
   ]
  },
  {
   "cell_type": "code",
   "execution_count": null,
   "id": "4d4302b9",
   "metadata": {},
   "outputs": [],
   "source": [
    "fit(\n",
    "    train_dataloader, val_dataloader,\n",
    "    k_gmf=16,\n",
    "    k_mlp=16,\n",
    "    layer_sizes=[16, 8],\n",
    "    alpha=0.5,\n",
    "    lr=0.0005,\n",
    "    epochs=34,\n",
    "    weight_path=\"/home/nubol23/Documents/NCF_dot_weights\",\n",
    "    run_number=1,\n",
    "    random_state=2\n",
    ")"
   ]
  },
  {
   "cell_type": "markdown",
   "id": "afb5a068",
   "metadata": {},
   "source": [
    "## Total fit"
   ]
  },
  {
   "cell_type": "code",
   "execution_count": 8,
   "id": "2124eb99",
   "metadata": {},
   "outputs": [],
   "source": [
    "total_dataloader = DataLoader(\n",
    "    RatingsDataset(\n",
    "        \"train_data/total.csv\",\n",
    "        \"user_id\",\n",
    "        \"movie_id\",\n",
    "        \"rating\",\n",
    "    ), \n",
    "    batch_size=1024,\n",
    "    num_workers=12,\n",
    "    shuffle=True,\n",
    ")"
   ]
  },
  {
   "cell_type": "code",
   "execution_count": 9,
   "id": "44abf4a7",
   "metadata": {},
   "outputs": [
    {
     "data": {
      "application/vnd.jupyter.widget-view+json": {
       "model_id": "256111a233a84ccc906153aadbd1dc4e",
       "version_major": 2,
       "version_minor": 0
      },
      "text/plain": [
       "  0%|          | 0/34 [00:00<?, ?it/s]"
      ]
     },
     "metadata": {},
     "output_type": "display_data"
    },
    {
     "name": "stdout",
     "output_type": "stream",
     "text": [
      "epoch: 1, train_loss: 2.5893365485190523\n",
      "epoch: 2, train_loss: 0.9672088296570134\n",
      "epoch: 3, train_loss: 0.9170506385237609\n",
      "epoch: 4, train_loss: 0.9032267680396481\n",
      "epoch: 5, train_loss: 0.8959118273966851\n",
      "epoch: 6, train_loss: 0.8906218868014005\n",
      "epoch: 7, train_loss: 0.8853005910353048\n",
      "epoch: 8, train_loss: 0.8801576897917799\n",
      "epoch: 9, train_loss: 0.8754042383557448\n",
      "epoch: 10, train_loss: 0.870651483310532\n",
      "epoch: 11, train_loss: 0.8660048420266693\n",
      "epoch: 12, train_loss: 0.8617198281248419\n",
      "epoch: 13, train_loss: 0.8574148942004435\n",
      "epoch: 14, train_loss: 0.8533921645214392\n",
      "epoch: 15, train_loss: 0.8495906874170289\n",
      "epoch: 16, train_loss: 0.8456217221021054\n",
      "epoch: 17, train_loss: 0.8416063523957125\n",
      "epoch: 18, train_loss: 0.8375303340680198\n",
      "epoch: 19, train_loss: 0.8336322232643073\n",
      "epoch: 20, train_loss: 0.8292880757542056\n",
      "epoch: 21, train_loss: 0.8249549034375587\n",
      "epoch: 22, train_loss: 0.8208294865178158\n",
      "epoch: 23, train_loss: 0.8165998957930868\n",
      "epoch: 24, train_loss: 0.8123502329354026\n",
      "epoch: 25, train_loss: 0.8083185853151228\n",
      "epoch: 26, train_loss: 0.8041023867148905\n",
      "epoch: 27, train_loss: 0.8003117574666775\n",
      "epoch: 28, train_loss: 0.7963205262718498\n",
      "epoch: 29, train_loss: 0.7925016227339664\n",
      "epoch: 30, train_loss: 0.7887573635806137\n",
      "epoch: 31, train_loss: 0.784952307535418\n",
      "epoch: 32, train_loss: 0.7815213558957995\n",
      "epoch: 33, train_loss: 0.7780466624416853\n",
      "epoch: 34, train_loss: 0.774764311438812\n"
     ]
    }
   ],
   "source": [
    "fit(\n",
    "    total_dataloader, val_dataloader=None,\n",
    "    k_gmf=16,\n",
    "    k_mlp=16,\n",
    "    layer_sizes=[16, 8],\n",
    "    alpha=0.5,\n",
    "    lr=0.0005,\n",
    "    epochs=34,\n",
    "    weight_path=\"/home/nubol23/Documents/NCF_dot_weights\",\n",
    "    run_number=1,\n",
    "    random_state=2\n",
    ")"
   ]
  },
  {
   "cell_type": "markdown",
   "id": "87688ab9",
   "metadata": {},
   "source": [
    "## Predict"
   ]
  },
  {
   "cell_type": "code",
   "execution_count": 12,
   "id": "0d3f92b0",
   "metadata": {},
   "outputs": [],
   "source": [
    "predict(\n",
    "    \"/home/nubol23/Documents/NCF_dot_weights/run_1/final-34-0.774764311438812.pt\",\n",
    "    k_gmf=16,\n",
    "    k_mlp=16,\n",
    "    layer_sizes=[16, 8],\n",
    "    alpha=0.5,\n",
    "    out_path=\"/home/nubol23/Desktop/Codes/USP/SCC5966/kaggle/notebooks/Project-NeuMF/outputs_csv/neumf_dot\",\n",
    "    out_name=\"neumf_dot_1\"\n",
    ")"
   ]
  }
 ],
 "metadata": {
  "kernelspec": {
   "display_name": "Python 3 (ipykernel)",
   "language": "python",
   "name": "python3"
  },
  "language_info": {
   "codemirror_mode": {
    "name": "ipython",
    "version": 3
   },
   "file_extension": ".py",
   "mimetype": "text/x-python",
   "name": "python",
   "nbconvert_exporter": "python",
   "pygments_lexer": "ipython3",
   "version": "3.10.4"
  }
 },
 "nbformat": 4,
 "nbformat_minor": 5
}
