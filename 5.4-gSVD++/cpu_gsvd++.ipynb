{
 "cells": [
  {
   "cell_type": "code",
   "execution_count": 1,
   "id": "e9c56603",
   "metadata": {},
   "outputs": [],
   "source": [
    "import pandas as pd\n",
    "import numpy as np\n",
    "from numba import njit, prange\n",
    "\n",
    "from tqdm.notebook import tqdm, trange\n",
    "\n",
    "from numba.typed import List\n",
    "from numba import types\n",
    "\n",
    "from numba_progress import ProgressBar"
   ]
  },
  {
   "cell_type": "markdown",
   "id": "daf477b3",
   "metadata": {},
   "source": [
    "### Load Ratings"
   ]
  },
  {
   "cell_type": "code",
   "execution_count": 2,
   "id": "f1b92ff3",
   "metadata": {},
   "outputs": [],
   "source": [
    "users = 3974\n",
    "movies = 3564\n",
    "\n",
    "train_csv = pd.read_csv(\"/home/nubol23/Desktop/Codes/USP/SCC5966/kaggle/data/train_data.csv\")\n",
    "test_csv = pd.read_csv(\"/home/nubol23/Desktop/Codes/USP/SCC5966/kaggle/data/test_data.csv\")\n",
    "\n",
    "train_csv[\"user_id\"] = train_csv[\"user_id\"].apply(lambda x: x - 1)\n",
    "train_csv[\"movie_id\"] = train_csv[\"movie_id\"].apply(lambda x: x - 1)\n",
    "\n",
    "test_csv[\"user_id\"] = test_csv[\"user_id\"].apply(lambda x: x - 1)\n",
    "test_csv[\"movie_id\"] = test_csv[\"movie_id\"].apply(lambda x: x - 1)\n",
    "\n",
    "# Split into train and validation\n",
    "train_data = train_csv.drop([\"timestamp\"], axis=1).sample(frac=0.8)\n",
    "validation_data = train_csv.drop(train_data.index).drop([\"timestamp\"], axis=1)\n",
    "\n",
    "assert train_data.shape[0] + validation_data.shape[0] == train_csv.shape[0]"
   ]
  },
  {
   "cell_type": "code",
   "execution_count": 3,
   "id": "64d121b9",
   "metadata": {},
   "outputs": [],
   "source": [
    "uir_train = train_data.values\n",
    "\n",
    "uir_val = validation_data.values\n",
    "n_val = uir_val.shape[0]"
   ]
  },
  {
   "cell_type": "code",
   "execution_count": 4,
   "id": "9b0f8ff7",
   "metadata": {},
   "outputs": [],
   "source": [
    "@njit\n",
    "def get_items_rated_by_users(train_data, n_users):\n",
    "    res = List([List.empty_list(types.int64) for _ in range(n_users)])\n",
    "    \n",
    "    for u, i, _ in train_data:\n",
    "        res[u].append(i)\n",
    "    \n",
    "    for u in range(n_users):\n",
    "        res[u].sort()\n",
    "    \n",
    "    return res\n",
    "\n",
    "def get_irbu_matrix_with_len(irbu, n_users, n_items):\n",
    "    out = np.ones((n_users, n_items), dtype=int)*-1\n",
    "    len_irbu = np.zeros(n_users)\n",
    "\n",
    "    for u in range(n_users):\n",
    "        len_irbu[u] = len(irbu[u])\n",
    "        for idx, i in enumerate(irbu[u]):\n",
    "            out[u, idx] = i\n",
    "            \n",
    "    return out, len_irbu\n",
    "\n",
    "irbu, len_irbu = get_irbu_matrix_with_len(get_items_rated_by_users(uir_train, users), users, movies)"
   ]
  },
  {
   "cell_type": "markdown",
   "id": "7c36e7ca",
   "metadata": {},
   "source": [
    "### Load genres"
   ]
  },
  {
   "cell_type": "code",
   "execution_count": 5,
   "id": "7bca4c3c",
   "metadata": {},
   "outputs": [
    {
     "data": {
      "text/html": [
       "<div>\n",
       "<style scoped>\n",
       "    .dataframe tbody tr th:only-of-type {\n",
       "        vertical-align: middle;\n",
       "    }\n",
       "\n",
       "    .dataframe tbody tr th {\n",
       "        vertical-align: top;\n",
       "    }\n",
       "\n",
       "    .dataframe thead th {\n",
       "        text-align: right;\n",
       "    }\n",
       "</style>\n",
       "<table border=\"1\" class=\"dataframe\">\n",
       "  <thead>\n",
       "    <tr style=\"text-align: right;\">\n",
       "      <th></th>\n",
       "      <th>movie_id</th>\n",
       "      <th>title</th>\n",
       "      <th>genres</th>\n",
       "    </tr>\n",
       "  </thead>\n",
       "  <tbody>\n",
       "    <tr>\n",
       "      <th>0</th>\n",
       "      <td>0</td>\n",
       "      <td>Toy Story (1995)</td>\n",
       "      <td>Animation|Children's|Comedy</td>\n",
       "    </tr>\n",
       "    <tr>\n",
       "      <th>1</th>\n",
       "      <td>1</td>\n",
       "      <td>Jumanji (1995)</td>\n",
       "      <td>Adventure|Children's|Fantasy</td>\n",
       "    </tr>\n",
       "    <tr>\n",
       "      <th>2</th>\n",
       "      <td>2</td>\n",
       "      <td>Grumpier Old Men (1995)</td>\n",
       "      <td>Comedy|Romance</td>\n",
       "    </tr>\n",
       "    <tr>\n",
       "      <th>3</th>\n",
       "      <td>3</td>\n",
       "      <td>Waiting to Exhale (1995)</td>\n",
       "      <td>Comedy|Drama</td>\n",
       "    </tr>\n",
       "    <tr>\n",
       "      <th>4</th>\n",
       "      <td>4</td>\n",
       "      <td>Father of the Bride Part II (1995)</td>\n",
       "      <td>Comedy</td>\n",
       "    </tr>\n",
       "  </tbody>\n",
       "</table>\n",
       "</div>"
      ],
      "text/plain": [
       "   movie_id                               title                        genres\n",
       "0         0                    Toy Story (1995)   Animation|Children's|Comedy\n",
       "1         1                      Jumanji (1995)  Adventure|Children's|Fantasy\n",
       "2         2             Grumpier Old Men (1995)                Comedy|Romance\n",
       "3         3            Waiting to Exhale (1995)                  Comedy|Drama\n",
       "4         4  Father of the Bride Part II (1995)                        Comedy"
      ]
     },
     "execution_count": 5,
     "metadata": {},
     "output_type": "execute_result"
    }
   ],
   "source": [
    "movies_csv = pd.read_csv(\"../../data/movies_data.csv\")\n",
    "movies_csv[\"movie_id\"] = movies_csv[\"movie_id\"].apply(lambda x: x - 1)\n",
    "movies_csv.head()"
   ]
  },
  {
   "cell_type": "code",
   "execution_count": 6,
   "id": "ca600f8b",
   "metadata": {},
   "outputs": [],
   "source": [
    "genres_map = {\n",
    "    \"Action\": 0,\n",
    "    \"Adventure\": 1,\n",
    "    \"Animation\": 2,\n",
    "    \"Children's\": 3,\n",
    "    \"Comedy\": 4,\n",
    "    \"Crime\": 5,\n",
    "    \"Documentary\": 6,\n",
    "    \"Drama\": 7,\n",
    "    \"Fantasy\": 8,\n",
    "    \"Film-Noir\": 9,\n",
    "    \"Horror\": 10,\n",
    "    \"Musical\": 11,\n",
    "    \"Mystery\": 12,\n",
    "    \"Romance\": 13,\n",
    "    \"Sci-Fi\": 14,\n",
    "    \"Thriller\": 15,\n",
    "    \"War\": 16,\n",
    "    \"Western\": 17,\n",
    "}"
   ]
  },
  {
   "cell_type": "code",
   "execution_count": 13,
   "id": "75b6dc80",
   "metadata": {},
   "outputs": [],
   "source": [
    "def get_genres_item_belongs_to(ids, genres, n_items):\n",
    "    out = List([List.empty_list(types.int64) for _ in range(n_items)])\n",
    "    \n",
    "    for movie_id, genre_list in zip(ids, genres):\n",
    "        genre_list = genre_list.split(\"|\")\n",
    "        for genre in genre_list:\n",
    "            out[movie_id].append(genres_map[genre])\n",
    "                   \n",
    "    return out\n",
    "\n",
    "def get_gibt_matrix_with_len(genres_encoded, n_users, n_items):\n",
    "    gibt = np.ones((n_items, len(genres_map)), dtype=int)*-1\n",
    "    len_gibt = np.zeros(n_items)\n",
    "    for i in range(n_items):\n",
    "        len_gibt[i] = len(genres_encoded[i])\n",
    "        for idx, g in enumerate(genres_encoded[i]):\n",
    "            gibt[i, idx] = g\n",
    "            \n",
    "    return gibt, len_gibt\n",
    "            \n",
    "gibt, len_gibt = get_gibt_matrix_with_len(\n",
    "    get_genres_item_belongs_to(\n",
    "        movies_csv[\"movie_id\"].tolist(), movies_csv[\"genres\"].tolist(), movies\n",
    "    ), users, movies,\n",
    ")"
   ]
  },
  {
   "cell_type": "markdown",
   "id": "050cc6da",
   "metadata": {},
   "source": [
    "## Train"
   ]
  },
  {
   "cell_type": "code",
   "execution_count": 32,
   "id": "335d1bc7",
   "metadata": {},
   "outputs": [],
   "source": [
    "@njit\n",
    "def step(\n",
    "    train_data, \n",
    "    Rus,\n",
    "    len_Rus,\n",
    "    Gis,\n",
    "    len_Gis,\n",
    "    n_users, \n",
    "    n_items, \n",
    "    k, \n",
    "    α1,\n",
    "    α2,\n",
    "    α3,\n",
    "    α4,\n",
    "    α5,\n",
    "    α6,\n",
    "    λ1, \n",
    "    λ2,\n",
    "    λ3,\n",
    "    λ4,\n",
    "    λ5,\n",
    "    λ6,\n",
    "    μ, bi, bu, P, Q, Y, X,\n",
    "):\n",
    "    loss = 0\n",
    "    for u, i, r in train_data:\n",
    "        Ru = Rus[u]\n",
    "        sqrt_Ru = np.sqrt(len_Rus[u])\n",
    "        implicit_feedback = np.zeros(k)\n",
    "        for j in Ru:\n",
    "            if j == -1:\n",
    "                break\n",
    "            implicit_feedback += Y[j]\n",
    "        implicit_feedback /= (sqrt_Ru+1e-15)\n",
    "        \n",
    "        Gi = Gis[i]\n",
    "        genres_feedback = np.zeros(k)\n",
    "        for g in Gi:\n",
    "            if g == -1:\n",
    "                break\n",
    "            genres_feedback += X[g]\n",
    "        genres_feedback /= len_Gis[i]\n",
    "        \n",
    "\n",
    "        pred = μ + bu[u] + bi[i] + np.dot(Q[i] + genres_feedback, P[u] + implicit_feedback)\n",
    "        error = r - pred\n",
    "\n",
    "        # Updating\n",
    "        bu[u] += α1 * (error - λ1*bu[u])\n",
    "        bi[i] += α2 * (error - λ2*bi[i])\n",
    "\n",
    "        Pu = P[u]\n",
    "        Qi = Q[i]\n",
    "        P[u] += α3*(error*Qi - λ3*Pu)\n",
    "        Q[i] += α4*(error*(Pu+implicit_feedback) - λ4*Qi)\n",
    "    \n",
    "        term_1 = error*(1/len_Gis[i])*(Pu + implicit_feedback)\n",
    "        for g in Gi:\n",
    "            if g == -1:\n",
    "                break\n",
    "            X[g] += α6*(term_1 - λ5*X[g])\n",
    "            \n",
    "        term_2 = error*(1/sqrt_Ru)*(Qi + genres_feedback)\n",
    "        for j in Ru:\n",
    "            if j == -1:\n",
    "                break\n",
    "            Y[j] += α5*(term_2 - λ6*Y[j])\n",
    "            \n",
    "        loss += error**2\n",
    "            \n",
    "    return np.sqrt(loss/len(train_data))"
   ]
  },
  {
   "cell_type": "code",
   "execution_count": 33,
   "id": "509905d9",
   "metadata": {},
   "outputs": [],
   "source": [
    "# RS HD page 171 (chrome), 84 book\n",
    "def fit_svdpp(\n",
    "    train_data, Rus, len_Rus, Gis, len_Gis, n_users, n_items, k, \n",
    "    α1=.01, α2=.01, α3=.01, α4=.01, α5=.01, α6=.01, \n",
    "    λ1=.01, λ2=.01, λ3=.01, λ4=.01, λ5=.01, λ6=.01, n_iters=20\n",
    "):\n",
    "    \"\"\"\n",
    "    train_data: array Nx3\n",
    "    \"\"\"\n",
    "    bu = np.zeros(n_users, np.double)\n",
    "    bi = np.zeros(n_items, np.double)\n",
    "    \n",
    "    P = np.random.normal(0, .1, (n_users, k))\n",
    "    Q = np.random.normal(0, .1, (n_items, k))\n",
    "    Y = np.random.normal(0, .1, (n_items, k))\n",
    "    X = np.random.normal(0, .1, (len(genres_map), k))\n",
    "    \n",
    "    μ = np.mean(train_data[:, 2])\n",
    "    \n",
    "    t = trange(n_iters, leave=True)\n",
    "    for it in t:\n",
    "        loss = step(\n",
    "            train_data, Rus, len_Rus, Gis, len_Gis, n_users, n_items, k, \n",
    "            α1, α2, α3, α4, α5, α6, \n",
    "            λ1, λ2, λ3, λ4, λ5, λ6, μ, bi, bu, P, Q, Y, X\n",
    "        )\n",
    "        t.set_postfix({\"Loss\": loss})\n",
    "#         α1 *= 0.9\n",
    "#         α2 *= 0.9\n",
    "#         α3 *= 0.9\n",
    "#         α4 *= 0.9\n",
    "    \n",
    "    return μ, bu, bi, P, Q, Y, X"
   ]
  },
  {
   "cell_type": "markdown",
   "id": "cd9fd80e",
   "metadata": {},
   "source": [
    "# Fit"
   ]
  },
  {
   "cell_type": "code",
   "execution_count": 43,
   "id": "0df76310",
   "metadata": {
    "scrolled": false
   },
   "outputs": [
    {
     "data": {
      "application/vnd.jupyter.widget-view+json": {
       "model_id": "67f80cfc78b44a0a8c86901fb6feb1ab",
       "version_major": 2,
       "version_minor": 0
      },
      "text/plain": [
       "  0%|          | 0/40 [00:00<?, ?it/s]"
      ]
     },
     "metadata": {},
     "output_type": "display_data"
    }
   ],
   "source": [
    "# lr = .007\n",
    "\n",
    "fitted_params = fit_svdpp(\n",
    "    uir_train, irbu, len_irbu, gibt, len_gibt, users, movies, k=10, \n",
    "    α1=0.005, α2=0.005, α3=0.006, α4=0.006, α5=0.005, α6=0.005, \n",
    "    λ1=0.02, λ2=0.02, λ3=.015, λ4=.01, λ5=.01, λ6=.01, \n",
    "    n_iters=40\n",
    ")"
   ]
  },
  {
   "cell_type": "code",
   "execution_count": 35,
   "id": "d740361a",
   "metadata": {},
   "outputs": [],
   "source": [
    "@njit\n",
    "def predict(u, i, Rus, len_Rus, Gis, len_Gis, params):\n",
    "    μ, bu, bi, P, Q, Y, X = params\n",
    "    k = P.shape[1]\n",
    "    \n",
    "    Ru = Rus[u]\n",
    "    sqrt_Ru = np.sqrt(len_Rus[u])\n",
    "\n",
    "    implicit_feedback = np.zeros(k)\n",
    "    for j in Ru:\n",
    "        if j == -1:\n",
    "            break\n",
    "        implicit_feedback += Y[j]\n",
    "    implicit_feedback /= (sqrt_Ru+1e-15)\n",
    "    \n",
    "    Gi = Gis[i]\n",
    "    genres_feedback = np.zeros(k)\n",
    "    for g in Gi:\n",
    "        if g == -1:\n",
    "            break\n",
    "        genres_feedback += X[g]\n",
    "    genres_feedback /= len_Gis[i]\n",
    "\n",
    "    pred = μ + bu[u] + bi[i] + np.dot(Q[i] + genres_feedback, P[u] + implicit_feedback)\n",
    "    \n",
    "    return pred"
   ]
  },
  {
   "cell_type": "code",
   "execution_count": 36,
   "id": "42f5b734",
   "metadata": {},
   "outputs": [],
   "source": [
    "@njit(parallel=True, nogil=True)\n",
    "def predict_batch_inner(ui_mat, Rus, params, progress_hook):\n",
    "    predictions = np.zeros(len(ui_mat))\n",
    "    for it in prange(ui_mat.shape[0]):\n",
    "        u, i = ui_mat[it]\n",
    "        predictions[it] = predict(u, i, Rus, params)\n",
    "        if np.isnan(predictions[it]):\n",
    "            print(u, i)\n",
    "            \n",
    "        progress_hook.update(1)\n",
    "        \n",
    "    return np.clip(predictions, 1., 5.)\n",
    "\n",
    "def predict_batch_progress_bar(ui_mat, Rus, params):\n",
    "    with ProgressBar(total=len(ui_mat)) as progress:\n",
    "        return predict_batch_inner(ui_mat, Rus, params, progress)\n",
    "    \n",
    "def predict_batch(ui_mat, Rus, len_Rus, Gis, len_Gis, params):\n",
    "    predictions = np.zeros(len(ui_mat))\n",
    "    for it in prange(ui_mat.shape[0]):\n",
    "        u, i = ui_mat[it]\n",
    "        predictions[it] = predict(u, i, Rus, len_Rus, Gis, len_Gis, params)\n",
    "        \n",
    "    return np.clip(predictions, 1., 5.)"
   ]
  },
  {
   "cell_type": "code",
   "execution_count": 44,
   "id": "c8650cb7",
   "metadata": {},
   "outputs": [
    {
     "name": "stdout",
     "output_type": "stream",
     "text": [
      "0.8794862643065426\n"
     ]
    }
   ],
   "source": [
    "val_preds = predict_batch(uir_val[:, :2], irbu, len_irbu, gibt, len_gibt, fitted_params)\n",
    "val_expected = uir_val[:, 2]\n",
    "\n",
    "error = np.sqrt(1/n_val * np.sum((val_preds - val_expected)**2))\n",
    "print(error)"
   ]
  },
  {
   "cell_type": "markdown",
   "id": "d92abd0a",
   "metadata": {},
   "source": [
    "## Multiple train"
   ]
  },
  {
   "cell_type": "code",
   "execution_count": null,
   "id": "b016842d",
   "metadata": {},
   "outputs": [],
   "source": [
    "from joblib import Parallel, delayed\n",
    "from itertools import product"
   ]
  },
  {
   "cell_type": "code",
   "execution_count": null,
   "id": "e2df6a07",
   "metadata": {},
   "outputs": [],
   "source": [
    "num = 5\n",
    "alphas = np.linspace(0.003, 0.007, num=num)\n",
    "lamb_1 = np.linspace(.004, .006, num=3)\n",
    "lamb_2 = np.linspace(.015, .02, num=2)\n",
    "\n",
    "params_product = list(product(alphas, alphas, lamb_1, lamb_2))"
   ]
  },
  {
   "cell_type": "code",
   "execution_count": null,
   "id": "49a0cbe9",
   "metadata": {},
   "outputs": [],
   "source": [
    "def train_val(\n",
    "    uir_train, \n",
    "    arr_irbu,\n",
    "    users, \n",
    "    movies,\n",
    "    k, \n",
    "    α1,\n",
    "    α2,\n",
    "    α3,\n",
    "    α4,\n",
    "    α5,\n",
    "    λ1, \n",
    "    λ2, \n",
    "    n_iters,\n",
    "    uir_val,\n",
    "):\n",
    "    fitted_params = fit_svdpp(uir_train, arr_irbu, users, movies, k, α1, α2, α3, α4, α5,λ1, λ2, n_iters)\n",
    "    \n",
    "    val_preds = predict_batch(uir_val[:, :2], arr_irbu, fitted_params)\n",
    "    val_expected = uir_val[:, 2]\n",
    "    error = np.sqrt(1/n_val * np.sum((val_preds - val_expected)**2))\n",
    "    \n",
    "    return α1, α2, α3, α4, λ1, λ2, error"
   ]
  },
  {
   "cell_type": "code",
   "execution_count": null,
   "id": "66c3b0bb",
   "metadata": {
    "scrolled": true
   },
   "outputs": [],
   "source": [
    "out = Parallel(n_jobs=12)(\n",
    "    delayed(train_val)(\n",
    "        uir_train, \n",
    "        irbu,\n",
    "        users, \n",
    "        movies,\n",
    "        k=5, \n",
    "        α1=lr1,\n",
    "        α2=lr1,\n",
    "        α3=lr2,\n",
    "        α4=lr2,\n",
    "        α5=lr2,\n",
    "        λ1=lamb1, \n",
    "        λ2=lamb2, \n",
    "        n_iters=30,\n",
    "        uir_val=uir_val,\n",
    "    )\n",
    "    for lr1, lr2, lamb1, lamb2 in tqdm(params_product)\n",
    ")"
   ]
  },
  {
   "cell_type": "code",
   "execution_count": null,
   "id": "8e162ea6",
   "metadata": {
    "scrolled": true
   },
   "outputs": [],
   "source": [
    "print(sorted(out, key=lambda x: x[-1]))"
   ]
  },
  {
   "cell_type": "markdown",
   "id": "895e80fd",
   "metadata": {},
   "source": [
    "# Predict"
   ]
  },
  {
   "cell_type": "code",
   "execution_count": 45,
   "id": "fa2f8089",
   "metadata": {},
   "outputs": [],
   "source": [
    "uir_total = train_csv.drop([\"timestamp\"], axis=1).values\n",
    "irbu_total, len_irbu_total = get_irbu_matrix_with_len(get_items_rated_by_users(uir_total, users), users, movies)"
   ]
  },
  {
   "cell_type": "code",
   "execution_count": 49,
   "id": "2c816d07",
   "metadata": {
    "scrolled": true
   },
   "outputs": [
    {
     "data": {
      "application/vnd.jupyter.widget-view+json": {
       "model_id": "a967231edef445949500b93acc0ff3c0",
       "version_major": 2,
       "version_minor": 0
      },
      "text/plain": [
       "  0%|          | 0/50 [00:00<?, ?it/s]"
      ]
     },
     "metadata": {},
     "output_type": "display_data"
    }
   ],
   "source": [
    "fitted_final_params = fit_svdpp(\n",
    "    uir_total, irbu_total, len_irbu_total, gibt, len_gibt, users, movies, k=6, \n",
    "    α1=0.005, α2=0.005, α3=0.006, α4=0.006, α5=0.005, α6=0.005, \n",
    "    λ1=0.02, λ2=0.02, λ3=.015, λ4=.01, λ5=.01, λ6=.01, \n",
    "    n_iters=50\n",
    ")"
   ]
  },
  {
   "cell_type": "code",
   "execution_count": 51,
   "id": "01c7e6a8",
   "metadata": {},
   "outputs": [
    {
     "name": "stdout",
     "output_type": "stream",
     "text": [
      "[2.88917054 3.38749789 2.9163412  3.57492143 3.8933387  2.95660216\n",
      " 3.68966146 3.4268573  3.0660798  3.26501636]\n"
     ]
    }
   ],
   "source": [
    "ui_test = test_csv.drop([\"id\", \"timestamp\"], axis=1).values\n",
    "test_predictions = predict_batch(ui_test, irbu_total, len_irbu_total, gibt, len_gibt, fitted_final_params)\n",
    "\n",
    "print(test_predictions[:10])"
   ]
  },
  {
   "cell_type": "code",
   "execution_count": 52,
   "id": "e82dd1f2",
   "metadata": {},
   "outputs": [
    {
     "data": {
      "text/html": [
       "<div>\n",
       "<style scoped>\n",
       "    .dataframe tbody tr th:only-of-type {\n",
       "        vertical-align: middle;\n",
       "    }\n",
       "\n",
       "    .dataframe tbody tr th {\n",
       "        vertical-align: top;\n",
       "    }\n",
       "\n",
       "    .dataframe thead th {\n",
       "        text-align: right;\n",
       "    }\n",
       "</style>\n",
       "<table border=\"1\" class=\"dataframe\">\n",
       "  <thead>\n",
       "    <tr style=\"text-align: right;\">\n",
       "      <th></th>\n",
       "      <th>id</th>\n",
       "      <th>rating</th>\n",
       "    </tr>\n",
       "  </thead>\n",
       "  <tbody>\n",
       "    <tr>\n",
       "      <th>0</th>\n",
       "      <td>0</td>\n",
       "      <td>2.889171</td>\n",
       "    </tr>\n",
       "    <tr>\n",
       "      <th>1</th>\n",
       "      <td>1</td>\n",
       "      <td>3.387498</td>\n",
       "    </tr>\n",
       "    <tr>\n",
       "      <th>2</th>\n",
       "      <td>2</td>\n",
       "      <td>2.916341</td>\n",
       "    </tr>\n",
       "    <tr>\n",
       "      <th>3</th>\n",
       "      <td>3</td>\n",
       "      <td>3.574921</td>\n",
       "    </tr>\n",
       "    <tr>\n",
       "      <th>4</th>\n",
       "      <td>4</td>\n",
       "      <td>3.893339</td>\n",
       "    </tr>\n",
       "  </tbody>\n",
       "</table>\n",
       "</div>"
      ],
      "text/plain": [
       "   id    rating\n",
       "0   0  2.889171\n",
       "1   1  3.387498\n",
       "2   2  2.916341\n",
       "3   3  3.574921\n",
       "4   4  3.893339"
      ]
     },
     "execution_count": 52,
     "metadata": {},
     "output_type": "execute_result"
    }
   ],
   "source": [
    "out_df = pd.DataFrame.from_dict(\n",
    "    {\n",
    "        \"id\": list(test_csv[\"id\"]),\n",
    "        \"rating\": test_predictions\n",
    "    }\n",
    ")\n",
    "\n",
    "out_df.head()"
   ]
  },
  {
   "cell_type": "code",
   "execution_count": 53,
   "id": "d588ecef",
   "metadata": {},
   "outputs": [],
   "source": [
    "out_df.to_csv(\"out_gsvd++1.csv\", index=False)"
   ]
  }
 ],
 "metadata": {
  "kernelspec": {
   "display_name": "Python 3 (ipykernel)",
   "language": "python",
   "name": "python3"
  },
  "language_info": {
   "codemirror_mode": {
    "name": "ipython",
    "version": 3
   },
   "file_extension": ".py",
   "mimetype": "text/x-python",
   "name": "python",
   "nbconvert_exporter": "python",
   "pygments_lexer": "ipython3",
   "version": "3.10.4"
  }
 },
 "nbformat": 4,
 "nbformat_minor": 5
}
