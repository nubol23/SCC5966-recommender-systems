{
 "cells": [
  {
   "cell_type": "code",
   "execution_count": 1,
   "id": "e9c56603",
   "metadata": {},
   "outputs": [],
   "source": [
    "import pandas as pd\n",
    "import numpy as np\n",
    "from numba import njit, prange\n",
    "\n",
    "from tqdm.notebook import tqdm"
   ]
  },
  {
   "cell_type": "code",
   "execution_count": 2,
   "id": "509905d9",
   "metadata": {},
   "outputs": [],
   "source": [
    "# RS HD page 171 (chrome), 84 book\n",
    "@njit\n",
    "def fit_funk_svd(train_data, n_users, n_items, k, α1=.01, α2=.01, α3=.01, α4=.01, λ=.01, n_iters=20):\n",
    "    \"\"\"\n",
    "    train_data: array Nx3\n",
    "    \"\"\"\n",
    "    bu = np.zeros(n_users, np.double)\n",
    "    bi = np.zeros(n_items, np.double)\n",
    "    \n",
    "    P = np.random.normal(0, .1, (n_users, k))\n",
    "    Q = np.random.normal(0, .1, (n_items, k))\n",
    "    \n",
    "    μ = np.mean(train_data[:, 2])\n",
    "    \n",
    "    for it in range(n_iters):\n",
    "        for u, i, r in train_data:\n",
    "            pred = μ + bu[u] + bi[i] + np.dot(P[u], Q[i])\n",
    "            \n",
    "            error = r - pred\n",
    "            \n",
    "            # Updating\n",
    "            bu[u] += α1 * (error - λ*bu[u])\n",
    "            bi[i] += α2 * (error - λ*bi[i])\n",
    "            P[u], Q[i] = P[u] + α3*(error*Q[i] - λ*P[u]), Q[i] + α4*(error*P[u] - λ*Q[i])\n",
    "    \n",
    "    return μ, bu, bi, P, Q"
   ]
  },
  {
   "cell_type": "code",
   "execution_count": 3,
   "id": "69794aec",
   "metadata": {},
   "outputs": [],
   "source": [
    "@njit\n",
    "def predict(u, i, params):\n",
    "    μ, bu, bi, P, Q = params\n",
    "    \n",
    "    return μ + bu[u] + bi[i] + np.dot(P[u], Q[i])"
   ]
  },
  {
   "cell_type": "code",
   "execution_count": 4,
   "id": "f1b92ff3",
   "metadata": {},
   "outputs": [],
   "source": [
    "users = 3974\n",
    "movies = 3564\n",
    "\n",
    "train_csv = pd.read_csv(\"../../data/train_data.csv\")\n",
    "test_csv = pd.read_csv(\"../../data/test_data.csv\")\n",
    "\n",
    "train_csv[\"user_id\"] = train_csv[\"user_id\"].apply(lambda x: x - 1)\n",
    "train_csv[\"movie_id\"] = train_csv[\"movie_id\"].apply(lambda x: x - 1)\n",
    "\n",
    "test_csv[\"user_id\"] = test_csv[\"user_id\"].apply(lambda x: x - 1)\n",
    "test_csv[\"movie_id\"] = test_csv[\"movie_id\"].apply(lambda x: x - 1)\n",
    "\n",
    "# Split into train and validation\n",
    "train_data = train_csv.drop([\"timestamp\"], axis=1).sample(frac=0.8)\n",
    "validation_data = train_csv.drop(train_data.index).drop([\"timestamp\"], axis=1)\n",
    "\n",
    "assert train_data.shape[0] + validation_data.shape[0] == train_csv.shape[0]"
   ]
  },
  {
   "cell_type": "code",
   "execution_count": 14,
   "id": "ca6ed626",
   "metadata": {},
   "outputs": [],
   "source": [
    "import torch"
   ]
  },
  {
   "cell_type": "code",
   "execution_count": 16,
   "id": "78e1c77e",
   "metadata": {},
   "outputs": [],
   "source": [
    "t1 = torch.randn(20, 3)\n",
    "t2 = torch.randn(20, 4)"
   ]
  },
  {
   "cell_type": "code",
   "execution_count": 19,
   "id": "d5e70f54",
   "metadata": {},
   "outputs": [
    {
     "data": {
      "text/plain": [
       "torch.Size([20, 7])"
      ]
     },
     "execution_count": 19,
     "metadata": {},
     "output_type": "execute_result"
    }
   ],
   "source": [
    "torch.concat([t1, t2], dim=1).shape"
   ]
  },
  {
   "cell_type": "code",
   "execution_count": 11,
   "id": "9a9380f7",
   "metadata": {},
   "outputs": [
    {
     "data": {
      "text/plain": [
       "1159"
      ]
     },
     "execution_count": 11,
     "metadata": {},
     "output_type": "execute_result"
    }
   ],
   "source": [
    "train_csv.iloc[0][\"movie_id\"]"
   ]
  },
  {
   "cell_type": "markdown",
   "id": "cd9fd80e",
   "metadata": {},
   "source": [
    "# Fit"
   ]
  },
  {
   "cell_type": "code",
   "execution_count": 5,
   "id": "42f5b734",
   "metadata": {},
   "outputs": [],
   "source": [
    "@njit\n",
    "def predict_batch(ui_mat, params):\n",
    "    predictions = np.zeros(len(ui_mat))\n",
    "    for it in prange(ui_mat.shape[0]):\n",
    "        u, i = ui_mat[it]\n",
    "        predictions[it] = predict(u, i, params)\n",
    "        \n",
    "    return np.clip(predictions, 1., 5.)"
   ]
  },
  {
   "cell_type": "code",
   "execution_count": 6,
   "id": "68d55a2e",
   "metadata": {},
   "outputs": [],
   "source": [
    "uir_train = train_data.values\n",
    "\n",
    "uir_val = validation_data.values\n",
    "n_val = uir_val.shape[0]"
   ]
  },
  {
   "cell_type": "markdown",
   "id": "5a63f284",
   "metadata": {},
   "source": [
    "## Fit multiple"
   ]
  },
  {
   "cell_type": "code",
   "execution_count": 7,
   "id": "6a83882d",
   "metadata": {},
   "outputs": [],
   "source": [
    "@njit\n",
    "def calc_error(preds, expected):\n",
    "    num = 0\n",
    "    for i in range(len(preds)):\n",
    "        num += (preds[i] - expected[i])**2\n",
    "\n",
    "    rmse = np.sqrt(num/len(preds))\n",
    "    return rmse"
   ]
  },
  {
   "cell_type": "code",
   "execution_count": null,
   "id": "739e0614",
   "metadata": {},
   "outputs": [],
   "source": [
    "# np.random.seed(42)"
   ]
  },
  {
   "cell_type": "code",
   "execution_count": 8,
   "id": "1a7a697c",
   "metadata": {},
   "outputs": [
    {
     "data": {
      "application/vnd.jupyter.widget-view+json": {
       "model_id": "48e69f42284e458186a45b27ce6a4706",
       "version_major": 2,
       "version_minor": 0
      },
      "text/plain": [
       "  0%|          | 0/7 [00:00<?, ?it/s]"
      ]
     },
     "metadata": {},
     "output_type": "display_data"
    },
    {
     "name": "stdout",
     "output_type": "stream",
     "text": [
      "Error with 2 factors: 0.879764419764806\n",
      "Error with 3 factors: 0.8723638337398438\n",
      "Error with 4 factors: 0.8692350160845315\n",
      "Error with 5 factors: 0.8715894087242227\n",
      "Error with 6 factors: 0.8688742752496171\n",
      "Error with 7 factors: 0.8688789403628632\n",
      "Error with 8 factors: 0.8714506465014964\n"
     ]
    }
   ],
   "source": [
    "min_err = np.inf\n",
    "best_k = 2\n",
    "\n",
    "α1=.006 \n",
    "α2=.006\n",
    "α3=.004 \n",
    "α4=.004\n",
    "λ=.03\n",
    "params_dict = {}\n",
    "# for k in tqdm(range(2, 20)):\n",
    "for k in tqdm(range(2, 9)):\n",
    "    fitted_params = fit_funk_svd(\n",
    "        uir_train, \n",
    "        users, \n",
    "        movies, \n",
    "        k=k, \n",
    "        α1=α1, \n",
    "        α2=α2, \n",
    "        α3=α3, \n",
    "        α4=α4, \n",
    "        λ=λ, \n",
    "        n_iters=100\n",
    "    )\n",
    "    \n",
    "    params_dict[k] = fitted_params\n",
    "    val_preds = predict_batch(uir_val[:, :2], fitted_params)\n",
    "    val_expected = uir_val[:, 2]\n",
    "    \n",
    "    error = np.sqrt(1/n_val * np.sum((val_preds - val_expected)**2))\n",
    "#     error = calc_error(val_preds, val_expected)\n",
    "    \n",
    "    print(f\"Error with {k} factors: {error}\")\n",
    "    if min_err > error:\n",
    "        min_err = error\n",
    "        best_k = k"
   ]
  },
  {
   "cell_type": "code",
   "execution_count": 56,
   "id": "cde86692",
   "metadata": {},
   "outputs": [
    {
     "name": "stdout",
     "output_type": "stream",
     "text": [
      "6 0.8669836349955178\n"
     ]
    }
   ],
   "source": [
    "print(best_k, min_err)"
   ]
  },
  {
   "cell_type": "code",
   "execution_count": null,
   "id": "dd8635cb",
   "metadata": {},
   "outputs": [],
   "source": [
    "# from numba.typed import Dict\n",
    "# from numba.core import types"
   ]
  },
  {
   "cell_type": "code",
   "execution_count": null,
   "id": "dfd63134",
   "metadata": {},
   "outputs": [],
   "source": [
    "# @njit(parallel=True)\n",
    "# def find_best_params(uir_mat, uir_val, val_exp, users, movies):\n",
    "# #     d = Dict.empty(key_type=types.Tuple([types.int64, types.float64, types.float64]), value_type=types.float64)\n",
    "# #     d = Dict.empty(key_type=types.UniTuple(types.float64, 3), value_type=types.float64)\n",
    "#     d = Dict()\n",
    "#     d[(1, 1., 1.)] = 1.\n",
    "#     del d[(1, 1., 1.)]\n",
    "    \n",
    "#     print(\"Starting\")\n",
    "#     for k in range(2, 10):\n",
    "#         print(k)\n",
    "#         learning_rates = np.linspace(0.003, 0.01, 24)\n",
    "#         for idx in prange(len(learning_rates)):\n",
    "#             lr = learning_rates[idx]\n",
    "#             for λ in np.linspace(0.001, 0.02, 10):\n",
    "#                 fitted_params = fit_funk_svd(uir_mat, users, movies, k=k, α=lr, λ=λ, n_iters=50)\n",
    "#                 val_preds = predict_batch(uir_val, fitted_params)\n",
    "                \n",
    "#                 error = calc_error(val_preds, val_exp)\n",
    "                \n",
    "#                 d[(k, lr, λ)] = error\n",
    "                \n",
    "#     return d"
   ]
  },
  {
   "cell_type": "code",
   "execution_count": null,
   "id": "f9c6eb41",
   "metadata": {},
   "outputs": [],
   "source": [
    "# params_dict = find_best_params(uir_train, uir_val[:, :2], uir_val[:, -1], users, movies)"
   ]
  },
  {
   "cell_type": "markdown",
   "id": "895e80fd",
   "metadata": {},
   "source": [
    "# Predict"
   ]
  },
  {
   "cell_type": "code",
   "execution_count": 124,
   "id": "2c816d07",
   "metadata": {},
   "outputs": [
    {
     "name": "stdout",
     "output_type": "stream",
     "text": [
      "(3974, 6) (3564, 6)\n"
     ]
    }
   ],
   "source": [
    "uir_total = train_csv.drop([\"timestamp\"], axis=1).values\n",
    "\n",
    "fitted_final_params = fit_funk_svd(\n",
    "    uir_total, \n",
    "    users, \n",
    "    movies, \n",
    "    k=best_k, \n",
    "    α1=α1, \n",
    "    α2=α2, \n",
    "    α3=α3, \n",
    "    α4=α4, \n",
    "    λ=λ, \n",
    "    n_iters=100\n",
    ")\n",
    "\n",
    "μ, bu, bi, P, Q = fitted_final_params\n",
    "print(P.shape, Q.shape)"
   ]
  },
  {
   "cell_type": "code",
   "execution_count": 125,
   "id": "01c7e6a8",
   "metadata": {},
   "outputs": [
    {
     "name": "stdout",
     "output_type": "stream",
     "text": [
      "[3.99348401 3.29987161 2.91307955 3.41485166 2.33274277 3.21715346\n",
      " 3.47018139 2.91642027 3.02578512 3.16292718]\n"
     ]
    }
   ],
   "source": [
    "ui_test = test_csv.drop([\"id\", \"timestamp\"], axis=1).values\n",
    "test_predictions = predict_batch(ui_test, fitted_final_params)\n",
    "\n",
    "print(test_predictions[:10])"
   ]
  },
  {
   "cell_type": "code",
   "execution_count": 126,
   "id": "e82dd1f2",
   "metadata": {},
   "outputs": [
    {
     "data": {
      "text/html": [
       "<div>\n",
       "<style scoped>\n",
       "    .dataframe tbody tr th:only-of-type {\n",
       "        vertical-align: middle;\n",
       "    }\n",
       "\n",
       "    .dataframe tbody tr th {\n",
       "        vertical-align: top;\n",
       "    }\n",
       "\n",
       "    .dataframe thead th {\n",
       "        text-align: right;\n",
       "    }\n",
       "</style>\n",
       "<table border=\"1\" class=\"dataframe\">\n",
       "  <thead>\n",
       "    <tr style=\"text-align: right;\">\n",
       "      <th></th>\n",
       "      <th>id</th>\n",
       "      <th>rating</th>\n",
       "    </tr>\n",
       "  </thead>\n",
       "  <tbody>\n",
       "    <tr>\n",
       "      <th>0</th>\n",
       "      <td>0</td>\n",
       "      <td>3.993484</td>\n",
       "    </tr>\n",
       "    <tr>\n",
       "      <th>1</th>\n",
       "      <td>1</td>\n",
       "      <td>3.299872</td>\n",
       "    </tr>\n",
       "    <tr>\n",
       "      <th>2</th>\n",
       "      <td>2</td>\n",
       "      <td>2.913080</td>\n",
       "    </tr>\n",
       "    <tr>\n",
       "      <th>3</th>\n",
       "      <td>3</td>\n",
       "      <td>3.414852</td>\n",
       "    </tr>\n",
       "    <tr>\n",
       "      <th>4</th>\n",
       "      <td>4</td>\n",
       "      <td>2.332743</td>\n",
       "    </tr>\n",
       "  </tbody>\n",
       "</table>\n",
       "</div>"
      ],
      "text/plain": [
       "   id    rating\n",
       "0   0  3.993484\n",
       "1   1  3.299872\n",
       "2   2  2.913080\n",
       "3   3  3.414852\n",
       "4   4  2.332743"
      ]
     },
     "execution_count": 126,
     "metadata": {},
     "output_type": "execute_result"
    }
   ],
   "source": [
    "out_df = pd.DataFrame.from_dict(\n",
    "    {\n",
    "        \"id\": list(test_csv[\"id\"]),\n",
    "        \"rating\": test_predictions\n",
    "    }\n",
    ")\n",
    "\n",
    "out_df.head()"
   ]
  },
  {
   "cell_type": "code",
   "execution_count": 127,
   "id": "d588ecef",
   "metadata": {},
   "outputs": [],
   "source": [
    "out_n = 7\n",
    "out_df.to_csv(f\"out_fine_tune/csvs/out_funk_svd_cpu_fine_tune_{out_n}.csv\", index=False)"
   ]
  },
  {
   "cell_type": "code",
   "execution_count": 97,
   "id": "415bc944",
   "metadata": {},
   "outputs": [],
   "source": [
    "# np.savez_compressed(\n",
    "#     \"out_fine_tune/params/out_funk_svd_cpu_fine_tune_6\", \n",
    "#     μ=fitted_final_params[0], \n",
    "#     bu=fitted_final_params[1], \n",
    "#     bi=fitted_final_params[2], \n",
    "#     P=fitted_final_params[3], \n",
    "#     Q=fitted_final_params[4],\n",
    "# )"
   ]
  }
 ],
 "metadata": {
  "kernelspec": {
   "display_name": "Python 3 (ipykernel)",
   "language": "python",
   "name": "python3"
  },
  "language_info": {
   "codemirror_mode": {
    "name": "ipython",
    "version": 3
   },
   "file_extension": ".py",
   "mimetype": "text/x-python",
   "name": "python",
   "nbconvert_exporter": "python",
   "pygments_lexer": "ipython3",
   "version": "3.10.4"
  }
 },
 "nbformat": 4,
 "nbformat_minor": 5
}
