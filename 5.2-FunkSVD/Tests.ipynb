{
 "cells": [
  {
   "cell_type": "code",
   "execution_count": 1,
   "id": "75dd7af3",
   "metadata": {},
   "outputs": [],
   "source": [
    "import torch"
   ]
  },
  {
   "cell_type": "code",
   "execution_count": 2,
   "id": "70b5ca52",
   "metadata": {},
   "outputs": [],
   "source": [
    "ratings = torch.tensor([\n",
    "    [0, 0, 9, 1],\n",
    "    [3, 0, 7, 0],\n",
    "    [5, 0, 0, 10],\n",
    "    [0, 2, 0, 0],\n",
    "])"
   ]
  },
  {
   "cell_type": "code",
   "execution_count": 70,
   "id": "a861fb51",
   "metadata": {},
   "outputs": [],
   "source": [
    "# user item rating mat\n",
    "uir_mat = torch.tensor([\n",
    "    [1, 3, 9],\n",
    "    [1, 4, 1],\n",
    "    [2, 1, 3],\n",
    "    [2, 3, 7],\n",
    "    [3, 1, 5],\n",
    "    [3, 4, 10],\n",
    "    [4, 2, 2]\n",
    "])\n",
    "\n",
    "# Index user and item as 0\n",
    "uir_mat[:, :2] -= 1"
   ]
  },
  {
   "cell_type": "code",
   "execution_count": 88,
   "id": "af73a4dd",
   "metadata": {},
   "outputs": [],
   "source": [
    "U = torch.tensor([\n",
    "    [0.8, 1.2, -0.2],\n",
    "    [2, 1.8, 0.4],\n",
    "    [0.8, 3, 0.1],\n",
    "    [1, 0.8, 2.4],\n",
    "], requires_grad=True)\n",
    "\n",
    "Vt = torch.tensor([\n",
    "    [-1.8, 1, -0.2, 1],\n",
    "    [0.5, 1.2, 0.1, 5],\n",
    "    [1.4, 4, 0.14, 2],\n",
    "], requires_grad=True)"
   ]
  },
  {
   "cell_type": "code",
   "execution_count": 89,
   "id": "bfaf2b84",
   "metadata": {},
   "outputs": [
    {
     "name": "stdout",
     "output_type": "stream",
     "text": [
      "tensor([82.2286, 29.1600, 26.4196, 51.3229, 23.0400, 36.0000, 91.3936],\n",
      "       grad_fn=<PowBackward0>)\n",
      "tensor([[0.4373, 1.3814, 0.0539],\n",
      "        [2.0000, 1.8000, 0.4000],\n",
      "        [0.8000, 3.0000, 0.1000],\n",
      "        [1.0000, 0.8000, 2.4000]], requires_grad=True)\n",
      "\n",
      "tensor([[-1.8000,  1.0000,  1.2509,  1.0000],\n",
      "        [ 0.5000,  1.2000,  2.2763,  5.0000],\n",
      "        [ 1.4000,  4.0000, -0.2227,  2.0000]], requires_grad=True)\n"
     ]
    }
   ],
   "source": [
    "# Compute first step\n",
    "n_iters = 1\n",
    "\n",
    "expected_list = uir_mat[:, 2]\n",
    "for i in range(n_iters):\n",
    "    preds_mat = U@Vt\n",
    "    pred_list = preds_mat[uir_mat[:, 0], uir_mat[:, 1]]\n",
    "    \n",
    "    sq_dif = (expected_list - pred_list)**2\n",
    "    print(sq_dif)\n",
    "#     err = 1/len(uir_mat)*torch.sum(sq_dif)\n",
    "    \n",
    "    sq_dif[0].backward() # Calculating only respecto to first observation\n",
    "    \n",
    "#     print(U.grad)\n",
    "#     print()\n",
    "#     print(Vt.grad)\n",
    "    with torch.no_grad():\n",
    "        U -= 0.1*U.grad\n",
    "        Vt -= 0.1*Vt.grad\n",
    "\n",
    "    print(U)\n",
    "    print()\n",
    "    print(Vt)\n",
    "    U.grad.zero_()\n",
    "    Vt.grad.zero_()"
   ]
  },
  {
   "cell_type": "markdown",
   "id": "61782211",
   "metadata": {},
   "source": [
    "Compare results to https://medium.datadriveninvestor.com/how-funk-singular-value-decomposition-algorithm-work-in-recommendation-engines-36f2fbf62cac\n",
    "\n",
    "NOTE: the estimation for V should not use the updated values for U as the post says"
   ]
  },
  {
   "cell_type": "markdown",
   "id": "7564f5c5",
   "metadata": {},
   "source": [
    "## Test Gradient with indexing"
   ]
  },
  {
   "cell_type": "code",
   "execution_count": 55,
   "id": "9fded2f1",
   "metadata": {},
   "outputs": [
    {
     "name": "stdout",
     "output_type": "stream",
     "text": [
      "tensor([[0.7034, 0.3828, 0.2635],\n",
      "        [0.8279, 0.7125, 0.0677],\n",
      "        [0.5234, 0.8488, 0.0746]], requires_grad=True)\n"
     ]
    }
   ],
   "source": [
    "A = torch.rand(3, 3, requires_grad=True)\n",
    "B = torch.rand(3, 1)\n",
    "C = torch.rand(3, 1)\n",
    "\n",
    "print(A)"
   ]
  },
  {
   "cell_type": "code",
   "execution_count": 56,
   "id": "afbbdb70",
   "metadata": {},
   "outputs": [],
   "source": [
    "indexes = torch.tensor([0, 2])"
   ]
  },
  {
   "cell_type": "code",
   "execution_count": 57,
   "id": "7cbbd637",
   "metadata": {},
   "outputs": [
    {
     "name": "stdout",
     "output_type": "stream",
     "text": [
      "tensor(0.1433, grad_fn=<MulBackward0>)\n"
     ]
    }
   ],
   "source": [
    "loss = 1/3*torch.sum((C[indexes] - (A@B)[indexes])**2)\n",
    "print(loss)\n",
    "\n",
    "loss.backward()"
   ]
  },
  {
   "cell_type": "code",
   "execution_count": 58,
   "id": "4e2b95e1",
   "metadata": {},
   "outputs": [
    {
     "data": {
      "text/plain": [
       "tensor([[-0.0115, -0.0312, -0.0670],\n",
       "        [ 0.0000,  0.0000,  0.0000],\n",
       "        [-0.0175, -0.0477, -0.1023]])"
      ]
     },
     "execution_count": 58,
     "metadata": {},
     "output_type": "execute_result"
    }
   ],
   "source": [
    "A.grad"
   ]
  },
  {
   "cell_type": "markdown",
   "id": "26569aeb",
   "metadata": {},
   "source": [
    "Norms"
   ]
  },
  {
   "cell_type": "code",
   "execution_count": 93,
   "id": "2d0e4fa5",
   "metadata": {},
   "outputs": [],
   "source": [
    "import torch.nn as nn\n",
    "criterion = nn.MSELoss()"
   ]
  },
  {
   "cell_type": "code",
   "execution_count": 98,
   "id": "d5279165",
   "metadata": {},
   "outputs": [
    {
     "name": "stdout",
     "output_type": "stream",
     "text": [
      "tensor(0.6300)\n",
      "tensor(0.6300)\n"
     ]
    }
   ],
   "source": [
    "arr1 = torch.tensor([1, 2, 3, 4])\n",
    "arr2 = torch.tensor([0.5, 1.1, 1.9, 3.5])\n",
    "N = arr1.shape[0]\n",
    "\n",
    "print(criterion(arr1, arr2))\n",
    "\n",
    "rmse = 1/N*torch.sum((arr1 - arr2)**2)\n",
    "print(rmse)"
   ]
  },
  {
   "cell_type": "code",
   "execution_count": 100,
   "id": "9889c44f",
   "metadata": {},
   "outputs": [
    {
     "name": "stdout",
     "output_type": "stream",
     "text": [
      "tensor(30)\n",
      "30\n"
     ]
    }
   ],
   "source": [
    "mat = torch.tensor([\n",
    "    [1, 2],\n",
    "    [3, 4]\n",
    "])\n",
    "\n",
    "print(torch.sum(mat**2))\n",
    "\n",
    "expected = 1**2 + 2**2 + 3**2 + 4**2\n",
    "print(expected)"
   ]
  }
 ],
 "metadata": {
  "kernelspec": {
   "display_name": "Python 3 (ipykernel)",
   "language": "python",
   "name": "python3"
  },
  "language_info": {
   "codemirror_mode": {
    "name": "ipython",
    "version": 3
   },
   "file_extension": ".py",
   "mimetype": "text/x-python",
   "name": "python",
   "nbconvert_exporter": "python",
   "pygments_lexer": "ipython3",
   "version": "3.10.4"
  }
 },
 "nbformat": 4,
 "nbformat_minor": 5
}
