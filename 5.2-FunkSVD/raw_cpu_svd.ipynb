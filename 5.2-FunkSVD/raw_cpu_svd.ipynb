{
 "cells": [
  {
   "cell_type": "code",
   "execution_count": 1,
   "id": "926fd670",
   "metadata": {},
   "outputs": [],
   "source": [
    "import numpy as np\n",
    "from numba import jit\n",
    "from tqdm.notebook import tqdm\n",
    "\n",
    "from surprise import SVD\n",
    "from surprise import Dataset\n",
    "from surprise import accuracy\n",
    "from surprise.model_selection import train_test_split\n",
    "from surprise import Reader\n",
    "\n",
    "import pandas as pd"
   ]
  },
  {
   "cell_type": "code",
   "execution_count": 2,
   "id": "3284642b",
   "metadata": {},
   "outputs": [],
   "source": [
    "mat = np.array([\n",
    "    [5, 2, 4, 3, 2, 3],\n",
    "    [4, 3, 5, 4, 3, 2],\n",
    "    [1, 5, 3, 4, 4, 5],\n",
    "    [1, 0, 2, 3, 4, 2],\n",
    "])\n",
    "\n",
    "uir_test_mat = np.zeros((mat.shape[0]*mat.shape[1] -1, 3), dtype=int)\n",
    "k = 0\n",
    "for i in range(mat.shape[0]):\n",
    "    for j in range(mat.shape[1]):\n",
    "        if mat[i, j] != 0:\n",
    "            uir_test_mat[k] = [i, j, mat[i, j]]\n",
    "            k += 1"
   ]
  },
  {
   "cell_type": "code",
   "execution_count": 3,
   "id": "264545a9",
   "metadata": {},
   "outputs": [],
   "source": [
    "# RS HD page 172 (chrome)\n",
    "\n",
    "def fit_funk_svd(train_data, n_users, n_items, k=100, α=.005, λ=.02, n_iters=20):\n",
    "    \"\"\"\n",
    "    train_data: array Nx3\n",
    "    \"\"\"\n",
    "    bu = np.zeros(n_users, np.double)\n",
    "    bi = np.zeros(n_items, np.double)\n",
    "    \n",
    "    P = np.random.normal(0, .1, (n_users, k))\n",
    "    Q = np.random.normal(0, .1, (n_items, k))\n",
    "    \n",
    "    μ = np.mean(train_data[:, 2])\n",
    "    \n",
    "    for it in tqdm(range(n_iters)):\n",
    "        for u, i, r in train_data:\n",
    "            pred = μ + bu[u] + bi[i] + np.dot(P[u], Q[i])\n",
    "            \n",
    "            error = r - pred\n",
    "            \n",
    "            # Updating\n",
    "            bu[u] += α * (error - λ*bu[u])\n",
    "            bi[i] += α * (error - λ*bi[i])\n",
    "            \n",
    "            for f in range(k):\n",
    "                P[u,f], Q[i,f] = P[u,f] + α*(error*Q[i,f] - λ*P[u,f]), Q[i, f] + α*(error*P[u,f] - λ*Q[i,f])\n",
    "    \n",
    "    return μ, bu, bi, P, Q"
   ]
  },
  {
   "cell_type": "code",
   "execution_count": 4,
   "id": "8e389e14",
   "metadata": {},
   "outputs": [
    {
     "data": {
      "application/vnd.jupyter.widget-view+json": {
       "model_id": "dc28f053a30749b4ab697d6f06fe8fbe",
       "version_major": 2,
       "version_minor": 0
      },
      "text/plain": [
       "  0%|          | 0/20 [00:00<?, ?it/s]"
      ]
     },
     "metadata": {},
     "output_type": "display_data"
    }
   ],
   "source": [
    "params = fit_funk_svd(uir_test_mat, 4, 6)"
   ]
  },
  {
   "cell_type": "code",
   "execution_count": 5,
   "id": "9e59334c",
   "metadata": {},
   "outputs": [],
   "source": [
    "def predict(u, i, params):\n",
    "    μ, bu, bi, P, Q = params\n",
    "    \n",
    "    return μ + bu[u] + bi[i] + np.dot(P[u], Q[i])"
   ]
  },
  {
   "cell_type": "code",
   "execution_count": 15,
   "id": "0563173e",
   "metadata": {},
   "outputs": [
    {
     "name": "stdout",
     "output_type": "stream",
     "text": [
      "[[4. 3. 3. 3. 3. 3.]\n",
      " [3. 3. 4. 3. 3. 3.]\n",
      " [3. 4. 3. 4. 4. 4.]\n",
      " [2. 3. 3. 3. 3. 3.]]\n",
      "\n",
      "[[5 2 4 3 2 3]\n",
      " [4 3 5 4 3 2]\n",
      " [1 5 3 4 4 5]\n",
      " [1 0 2 3 4 2]]\n"
     ]
    }
   ],
   "source": [
    "res_test = np.zeros_like(mat, dtype=float)\n",
    "\n",
    "for u in range(mat.shape[0]):\n",
    "    for i in range(mat.shape[1]):\n",
    "        res_test[u, i] = predict(u, i, params)\n",
    "        \n",
    "print(res_test.round())\n",
    "print()\n",
    "print(mat)"
   ]
  },
  {
   "cell_type": "markdown",
   "id": "7f7af738",
   "metadata": {},
   "source": [
    "## Using surprise"
   ]
  },
  {
   "cell_type": "code",
   "execution_count": 7,
   "id": "1cb0e16e",
   "metadata": {},
   "outputs": [
    {
     "data": {
      "text/html": [
       "<div>\n",
       "<style scoped>\n",
       "    .dataframe tbody tr th:only-of-type {\n",
       "        vertical-align: middle;\n",
       "    }\n",
       "\n",
       "    .dataframe tbody tr th {\n",
       "        vertical-align: top;\n",
       "    }\n",
       "\n",
       "    .dataframe thead th {\n",
       "        text-align: right;\n",
       "    }\n",
       "</style>\n",
       "<table border=\"1\" class=\"dataframe\">\n",
       "  <thead>\n",
       "    <tr style=\"text-align: right;\">\n",
       "      <th></th>\n",
       "      <th>user_id</th>\n",
       "      <th>item_id</th>\n",
       "      <th>rating</th>\n",
       "    </tr>\n",
       "  </thead>\n",
       "  <tbody>\n",
       "    <tr>\n",
       "      <th>0</th>\n",
       "      <td>0</td>\n",
       "      <td>0</td>\n",
       "      <td>5</td>\n",
       "    </tr>\n",
       "    <tr>\n",
       "      <th>1</th>\n",
       "      <td>0</td>\n",
       "      <td>1</td>\n",
       "      <td>2</td>\n",
       "    </tr>\n",
       "    <tr>\n",
       "      <th>2</th>\n",
       "      <td>0</td>\n",
       "      <td>2</td>\n",
       "      <td>4</td>\n",
       "    </tr>\n",
       "    <tr>\n",
       "      <th>3</th>\n",
       "      <td>0</td>\n",
       "      <td>3</td>\n",
       "      <td>3</td>\n",
       "    </tr>\n",
       "    <tr>\n",
       "      <th>4</th>\n",
       "      <td>0</td>\n",
       "      <td>4</td>\n",
       "      <td>2</td>\n",
       "    </tr>\n",
       "  </tbody>\n",
       "</table>\n",
       "</div>"
      ],
      "text/plain": [
       "   user_id  item_id  rating\n",
       "0        0        0       5\n",
       "1        0        1       2\n",
       "2        0        2       4\n",
       "3        0        3       3\n",
       "4        0        4       2"
      ]
     },
     "execution_count": 7,
     "metadata": {},
     "output_type": "execute_result"
    }
   ],
   "source": [
    "usrs_list = list(uir_test_mat[:, 0])\n",
    "itms_list = list(uir_test_mat[:, 1])\n",
    "rts_list = list(uir_test_mat[:, 2])\n",
    "\n",
    "df = pd.DataFrame.from_dict({\n",
    "    \"user_id\": usrs_list + [1000],\n",
    "    \"item_id\": itms_list + [1000],\n",
    "    \"rating\": rts_list + [5],\n",
    "})\n",
    "df.head()"
   ]
  },
  {
   "cell_type": "code",
   "execution_count": 24,
   "id": "bd11df73",
   "metadata": {},
   "outputs": [
    {
     "data": {
      "text/plain": [
       "[(1000, 1000, 5.0)]"
      ]
     },
     "execution_count": 24,
     "metadata": {},
     "output_type": "execute_result"
    }
   ],
   "source": [
    "dataset = Dataset.load_from_df(df, Reader(rating_scale=(1, 5)))\n",
    "train, val = train_test_split(dataset, test_size=.001, random_state=32)\n",
    "val"
   ]
  },
  {
   "cell_type": "code",
   "execution_count": 27,
   "id": "67d5a20f",
   "metadata": {},
   "outputs": [
    {
     "name": "stdout",
     "output_type": "stream",
     "text": [
      "RMSE: 1.2432\n"
     ]
    },
    {
     "data": {
      "text/plain": [
       "1.2432321358419902"
      ]
     },
     "execution_count": 27,
     "metadata": {},
     "output_type": "execute_result"
    }
   ],
   "source": [
    "model = SVD()\n",
    "model.fit(train)\n",
    "\n",
    "preds = model.test(train.all_ratings())\n",
    "accuracy.rmse(preds)"
   ]
  },
  {
   "cell_type": "code",
   "execution_count": 28,
   "id": "44096125",
   "metadata": {},
   "outputs": [
    {
     "name": "stdout",
     "output_type": "stream",
     "text": [
      "[[3. 3. 3. 3. 3. 3.]\n",
      " [3. 3. 4. 4. 3. 3.]\n",
      " [3. 4. 3. 4. 3. 4.]\n",
      " [2. 3. 3. 3. 3. 3.]]\n",
      "\n",
      "[[5 2 4 3 2 3]\n",
      " [4 3 5 4 3 2]\n",
      " [1 5 3 4 4 5]\n",
      " [1 0 2 3 4 2]]\n"
     ]
    }
   ],
   "source": [
    "surprise_test = np.zeros_like(mat, dtype=float)\n",
    "\n",
    "# for p in preds:\n",
    "#     surprise_test[train.to_raw_uid(p.uid), train.to_raw_iid(p.iid)] = p.est\n",
    "for u in range(mat.shape[0]):\n",
    "    for i in range(mat.shape[1]):\n",
    "        surprise_test[u, i] = model.predict(u, i).est\n",
    "        \n",
    "print(surprise_test.round())\n",
    "print()\n",
    "print(mat)"
   ]
  },
  {
   "cell_type": "code",
   "execution_count": 13,
   "id": "53d276de",
   "metadata": {},
   "outputs": [
    {
     "data": {
      "text/plain": [
       "Prediction(uid=3, iid=1, r_ui=None, est=2.996344968969467, details={'was_impossible': False})"
      ]
     },
     "execution_count": 13,
     "metadata": {},
     "output_type": "execute_result"
    }
   ],
   "source": [
    "model.predict(3, 1)"
   ]
  }
 ],
 "metadata": {
  "kernelspec": {
   "display_name": "Python 3 (ipykernel)",
   "language": "python",
   "name": "python3"
  },
  "language_info": {
   "codemirror_mode": {
    "name": "ipython",
    "version": 3
   },
   "file_extension": ".py",
   "mimetype": "text/x-python",
   "name": "python",
   "nbconvert_exporter": "python",
   "pygments_lexer": "ipython3",
   "version": "3.9.7"
  }
 },
 "nbformat": 4,
 "nbformat_minor": 5
}
