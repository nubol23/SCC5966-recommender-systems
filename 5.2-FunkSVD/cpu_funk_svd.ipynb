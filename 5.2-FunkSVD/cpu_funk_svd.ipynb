{
 "cells": [
  {
   "cell_type": "code",
   "execution_count": 1,
   "id": "e9c56603",
   "metadata": {},
   "outputs": [],
   "source": [
    "import pandas as pd\n",
    "import numpy as np\n",
    "from numba import njit, prange\n",
    "\n",
    "from tqdm.notebook import tqdm"
   ]
  },
  {
   "cell_type": "code",
   "execution_count": 2,
   "id": "509905d9",
   "metadata": {},
   "outputs": [],
   "source": [
    "# RS HD page 171 (chrome), 84 book\n",
    "@njit\n",
    "def fit_funk_svd(train_data, n_users, n_items, k, α=.01, λ=.01, n_iters=20):\n",
    "    \"\"\"\n",
    "    train_data: array Nx3\n",
    "    \"\"\"\n",
    "    bu = np.zeros(n_users, np.double)\n",
    "    bi = np.zeros(n_items, np.double)\n",
    "    \n",
    "    P = np.random.normal(0, .1, (n_users, k))\n",
    "    Q = np.random.normal(0, .1, (n_items, k))\n",
    "    \n",
    "    μ = np.mean(train_data[:, 2])\n",
    "    \n",
    "    for it in range(n_iters):\n",
    "        for u, i, r in train_data:\n",
    "            pred = μ + bu[u] + bi[i] + np.dot(P[u], Q[i])\n",
    "            \n",
    "            error = r - pred\n",
    "            \n",
    "            # Updating\n",
    "            bu[u] += α * (error - λ*bu[u])\n",
    "            bi[i] += α * (error - λ*bi[i])\n",
    "            P[u], Q[i] = P[u] + α*(error*Q[i] - λ*P[u]), Q[i] + α*(error*P[u] - λ*Q[i])\n",
    "    \n",
    "    return μ, bu, bi, P, Q"
   ]
  },
  {
   "cell_type": "code",
   "execution_count": 3,
   "id": "69794aec",
   "metadata": {},
   "outputs": [],
   "source": [
    "@njit\n",
    "def predict(u, i, params):\n",
    "    μ, bu, bi, P, Q = params\n",
    "    \n",
    "    return μ + bu[u] + bi[i] + np.dot(P[u], Q[i])"
   ]
  },
  {
   "cell_type": "code",
   "execution_count": 4,
   "id": "f1b92ff3",
   "metadata": {},
   "outputs": [],
   "source": [
    "users = 3974\n",
    "movies = 3564\n",
    "\n",
    "train_csv = pd.read_csv(\"../../data/train_data.csv\")\n",
    "test_csv = pd.read_csv(\"../../data/test_data.csv\")\n",
    "\n",
    "train_csv[\"user_id\"] = train_csv[\"user_id\"].apply(lambda x: x - 1)\n",
    "train_csv[\"movie_id\"] = train_csv[\"movie_id\"].apply(lambda x: x - 1)\n",
    "\n",
    "test_csv[\"user_id\"] = test_csv[\"user_id\"].apply(lambda x: x - 1)\n",
    "test_csv[\"movie_id\"] = test_csv[\"movie_id\"].apply(lambda x: x - 1)\n",
    "\n",
    "# Split into train and validation\n",
    "train_data = train_csv.drop([\"timestamp\"], axis=1).sample(frac=0.8)\n",
    "validation_data = train_csv.drop(train_data.index).drop([\"timestamp\"], axis=1)\n",
    "\n",
    "assert train_data.shape[0] + validation_data.shape[0] == train_csv.shape[0]"
   ]
  },
  {
   "cell_type": "markdown",
   "id": "cd9fd80e",
   "metadata": {},
   "source": [
    "# Fit"
   ]
  },
  {
   "cell_type": "code",
   "execution_count": 5,
   "id": "42f5b734",
   "metadata": {},
   "outputs": [],
   "source": [
    "@njit\n",
    "def predict_batch(ui_mat, params):\n",
    "    predictions = np.zeros(len(ui_mat))\n",
    "    for it in prange(ui_mat.shape[0]):\n",
    "        u, i = ui_mat[it]\n",
    "        predictions[it] = predict(u, i, params)\n",
    "        \n",
    "    return np.clip(predictions, 1., 5.)"
   ]
  },
  {
   "cell_type": "code",
   "execution_count": 6,
   "id": "68d55a2e",
   "metadata": {},
   "outputs": [],
   "source": [
    "uir_train = train_data.values\n",
    "\n",
    "uir_val = validation_data.values\n",
    "n_val = uir_val.shape[0]"
   ]
  },
  {
   "cell_type": "code",
   "execution_count": 20,
   "id": "0df76310",
   "metadata": {},
   "outputs": [],
   "source": [
    "fitted_params = fit_funk_svd(uir_train, users, movies, k=10, α=.001, λ=.001, n_iters=100)"
   ]
  },
  {
   "cell_type": "code",
   "execution_count": 21,
   "id": "c8650cb7",
   "metadata": {},
   "outputs": [
    {
     "name": "stdout",
     "output_type": "stream",
     "text": [
      "0.893832564775578\n"
     ]
    }
   ],
   "source": [
    "val_preds = predict_batch(uir_val[:, :2], fitted_params)\n",
    "val_expected = uir_val[:, 2]\n",
    "\n",
    "error = np.sqrt(1/n_val * np.sum((val_preds - val_expected)**2))\n",
    "print(error)"
   ]
  },
  {
   "cell_type": "markdown",
   "id": "5a63f284",
   "metadata": {},
   "source": [
    "## Fit multiple"
   ]
  },
  {
   "cell_type": "code",
   "execution_count": 32,
   "id": "1a7a697c",
   "metadata": {},
   "outputs": [
    {
     "data": {
      "application/vnd.jupyter.widget-view+json": {
       "model_id": "fbbf3cc0dfbb4d978de147b2a2181fca",
       "version_major": 2,
       "version_minor": 0
      },
      "text/plain": [
       "  0%|          | 0/18 [00:00<?, ?it/s]"
      ]
     },
     "metadata": {},
     "output_type": "display_data"
    },
    {
     "name": "stdout",
     "output_type": "stream",
     "text": [
      "Error with 2 factors: 0.8782470153000029\n",
      "Error with 3 factors: 0.8725105466934414\n",
      "Error with 4 factors: 0.8750550229422127\n",
      "Error with 5 factors: 0.8736892957676095\n",
      "Error with 6 factors: 0.8727804502407278\n",
      "Error with 7 factors: 0.8741232913040251\n",
      "Error with 8 factors: 0.8725397487566549\n",
      "Error with 9 factors: 0.8726427279647022\n",
      "Error with 10 factors: 0.8773889413627548\n",
      "Error with 11 factors: 0.8766312746761147\n",
      "Error with 12 factors: 0.8784057159690379\n",
      "Error with 13 factors: 0.8804835794732176\n",
      "Error with 14 factors: 0.8852395089311771\n",
      "Error with 15 factors: 0.8814935535654314\n",
      "Error with 16 factors: 0.8830477128909969\n",
      "Error with 17 factors: 0.8840098896210096\n",
      "Error with 18 factors: 0.8864164571254068\n",
      "Error with 19 factors: 0.8857415631609636\n"
     ]
    }
   ],
   "source": [
    "min_err = np.inf\n",
    "best_k = 2\n",
    "\n",
    "for k in tqdm(range(2, 20)):\n",
    "    fitted_params = fit_funk_svd(uir_train, users, movies, k=k, α=.005, λ=.02, n_iters=50)\n",
    "    val_preds = predict_batch(uir_val[:, :2], fitted_params)\n",
    "    val_expected = uir_val[:, 2]\n",
    "    \n",
    "    error = np.sqrt(1/n_val * np.sum((val_preds - val_expected)**2))\n",
    "    \n",
    "    print(f\"Error with {k} factors: {error}\")\n",
    "    if min_err > error:\n",
    "        min_err = error\n",
    "        best_k = k"
   ]
  },
  {
   "cell_type": "code",
   "execution_count": 33,
   "id": "cde86692",
   "metadata": {},
   "outputs": [
    {
     "name": "stdout",
     "output_type": "stream",
     "text": [
      "3 0.8725105466934414\n"
     ]
    }
   ],
   "source": [
    "print(best_k, min_err)"
   ]
  },
  {
   "cell_type": "markdown",
   "id": "895e80fd",
   "metadata": {},
   "source": [
    "# Predict"
   ]
  },
  {
   "cell_type": "code",
   "execution_count": 11,
   "id": "2c816d07",
   "metadata": {},
   "outputs": [
    {
     "name": "stdout",
     "output_type": "stream",
     "text": [
      "(3974, 6) (3564, 6)\n"
     ]
    }
   ],
   "source": [
    "uir_total = train_csv.drop([\"timestamp\"], axis=1).values\n",
    "\n",
    "fitted_final_params = fit_funk_svd(uir_total, users, movies, k=best_k, α=.008, λ=.01, n_iters=40)\n",
    "\n",
    "μ, bu, bi, P, Q = fitted_final_params\n",
    "print(P.shape, Q.shape)"
   ]
  },
  {
   "cell_type": "code",
   "execution_count": 12,
   "id": "01c7e6a8",
   "metadata": {},
   "outputs": [
    {
     "name": "stdout",
     "output_type": "stream",
     "text": [
      "[3.61832631 3.55256098 2.87740342 3.21966497 3.07892273 3.12135311\n",
      " 3.46657511 3.14597566 3.24858979 3.33496846]\n"
     ]
    }
   ],
   "source": [
    "ui_test = test_csv.drop([\"id\", \"timestamp\"], axis=1).values\n",
    "test_predictions = predict_batch(ui_test, fitted_final_params)\n",
    "\n",
    "print(test_predictions[:10])"
   ]
  },
  {
   "cell_type": "code",
   "execution_count": 13,
   "id": "e82dd1f2",
   "metadata": {},
   "outputs": [
    {
     "data": {
      "text/html": [
       "<div>\n",
       "<style scoped>\n",
       "    .dataframe tbody tr th:only-of-type {\n",
       "        vertical-align: middle;\n",
       "    }\n",
       "\n",
       "    .dataframe tbody tr th {\n",
       "        vertical-align: top;\n",
       "    }\n",
       "\n",
       "    .dataframe thead th {\n",
       "        text-align: right;\n",
       "    }\n",
       "</style>\n",
       "<table border=\"1\" class=\"dataframe\">\n",
       "  <thead>\n",
       "    <tr style=\"text-align: right;\">\n",
       "      <th></th>\n",
       "      <th>id</th>\n",
       "      <th>rating</th>\n",
       "    </tr>\n",
       "  </thead>\n",
       "  <tbody>\n",
       "    <tr>\n",
       "      <th>0</th>\n",
       "      <td>0</td>\n",
       "      <td>3.618326</td>\n",
       "    </tr>\n",
       "    <tr>\n",
       "      <th>1</th>\n",
       "      <td>1</td>\n",
       "      <td>3.552561</td>\n",
       "    </tr>\n",
       "    <tr>\n",
       "      <th>2</th>\n",
       "      <td>2</td>\n",
       "      <td>2.877403</td>\n",
       "    </tr>\n",
       "    <tr>\n",
       "      <th>3</th>\n",
       "      <td>3</td>\n",
       "      <td>3.219665</td>\n",
       "    </tr>\n",
       "    <tr>\n",
       "      <th>4</th>\n",
       "      <td>4</td>\n",
       "      <td>3.078923</td>\n",
       "    </tr>\n",
       "  </tbody>\n",
       "</table>\n",
       "</div>"
      ],
      "text/plain": [
       "   id    rating\n",
       "0   0  3.618326\n",
       "1   1  3.552561\n",
       "2   2  2.877403\n",
       "3   3  3.219665\n",
       "4   4  3.078923"
      ]
     },
     "execution_count": 13,
     "metadata": {},
     "output_type": "execute_result"
    }
   ],
   "source": [
    "out_df = pd.DataFrame.from_dict(\n",
    "    {\n",
    "        \"id\": list(test_csv[\"id\"]),\n",
    "        \"rating\": test_predictions\n",
    "    }\n",
    ")\n",
    "\n",
    "out_df.head()"
   ]
  },
  {
   "cell_type": "code",
   "execution_count": 14,
   "id": "d588ecef",
   "metadata": {},
   "outputs": [],
   "source": [
    "# out_df.to_csv(\"out_funk_svd_cpu_2.csv\", index=False)"
   ]
  }
 ],
 "metadata": {
  "kernelspec": {
   "display_name": "Python 3 (ipykernel)",
   "language": "python",
   "name": "python3"
  },
  "language_info": {
   "codemirror_mode": {
    "name": "ipython",
    "version": 3
   },
   "file_extension": ".py",
   "mimetype": "text/x-python",
   "name": "python",
   "nbconvert_exporter": "python",
   "pygments_lexer": "ipython3",
   "version": "3.10.4"
  }
 },
 "nbformat": 4,
 "nbformat_minor": 5
}
